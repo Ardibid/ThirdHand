{
 "cells": [
  {
   "attachments": {},
   "cell_type": "markdown",
   "metadata": {},
   "source": [
    "# Optimizer Boiler Plate\n",
    "---\n",
    "This notebook is a boilerplate to use WandB optimizer to optimize the C-VAE model. Please be noted that the classes and functions that are used here are slightly different from the one that are persented in the ```./src``` folder. All the function here are designed to match **WandB** optimization process."
   ]
  },
  {
   "attachments": {},
   "cell_type": "markdown",
   "metadata": {},
   "source": [
    "## Imports"
   ]
  },
  {
   "cell_type": "code",
   "execution_count": 42,
   "metadata": {},
   "outputs": [],
   "source": [
    "import torch\n",
    "from torch.nn import functional as F\n",
    "\n",
    "import torch.nn as nn\n",
    "from torch import optim as optim\n",
    "\n",
    "# wandb\n",
    "import wandb\n",
    "\n",
    "# misc\n",
    "import numpy as np\n",
    "from os.path import join\n",
    "import time\n",
    "\n",
    "# visualizations\n",
    "import plotly.graph_objects as go\n",
    "\n",
    "# modules\n",
    "from src.main_utils import Configuration\n",
    "from src.evaluation_utils import stroke_visualizer_mix\n",
    "from src.thirdHand_data_loader import get_min_max_from_dataset\n",
    "from src.train_utils import train_model\n",
    "\n",
    "from main import create_the_model"
   ]
  },
  {
   "cell_type": "markdown",
   "metadata": {},
   "source": [
    "___\n"
   ]
  },
  {
   "attachments": {},
   "cell_type": "markdown",
   "metadata": {},
   "source": [
    "## WandB Settings"
   ]
  },
  {
   "cell_type": "code",
   "execution_count": 38,
   "metadata": {},
   "outputs": [
    {
     "name": "stdout",
     "output_type": "stream",
     "text": [
      "env: \"WANDB_NOTEBOOK_NAME\"=\"Optimization_boilerplate.ipynb\"\n"
     ]
    },
    {
     "data": {
      "text/plain": [
       "True"
      ]
     },
     "execution_count": 38,
     "metadata": {},
     "output_type": "execute_result"
    }
   ],
   "source": [
    "%env \"WANDB_NOTEBOOK_NAME\" \"Optimization_boilerplate.ipynb\"\n",
    "wandb.login()"
   ]
  },
  {
   "attachments": {},
   "cell_type": "markdown",
   "metadata": {},
   "source": [
    "### Setting Sweep\n",
    "Sweep is the WandB toolkit for optimizing the model. "
   ]
  },
  {
   "cell_type": "code",
   "execution_count": 39,
   "metadata": {},
   "outputs": [],
   "source": [
    "sweep_config = {\n",
    "    'method': 'random'\n",
    "    }\n",
    "\n",
    "metric = {\n",
    "    'name': 'loss',\n",
    "    'goal': 'minimize'   \n",
    "    }\n",
    "\n",
    "sweep_config['metric'] = metric"
   ]
  },
  {
   "attachments": {},
   "cell_type": "markdown",
   "metadata": {},
   "source": [
    "### Setting hyper-parameter options\n",
    "All the hyper parameters that are going to be tested will be presented as a dictionary, Sweep randomly goes through different combinations of these options and report on the progress."
   ]
  },
  {
   "cell_type": "code",
   "execution_count": 44,
   "metadata": {},
   "outputs": [],
   "source": [
    "parameters_dict = {\n",
    "                'optimizer': {'values':['adam', 'rmsprop', 'sgd', 'nadam']}, \n",
    "                'first_filter_size': {'values':[5, 6, 7, 8, 9, 10]},\n",
    "                'latent_dim': {'values':[4, 5, 6, 7, 8]},\n",
    "                'depth':{'values':[2, 3, 4]},\n",
    "                'kernel_size': {'values':[3, 5]},\n",
    "                'dropout': {'values':[0.1, 0.2, .4, .5]},\n",
    "                'epochs': {'values':[300]}, \n",
    "                'learning_rate': {'values':[0.01, 0.001, 0.0001]},\n",
    "                'batch_size': {'values':[128]},\n",
    "                'reduction': {'values':['sum']}, #'mean'\n",
    "                'kld_weight': {'values':[0.1, 1, 10]},\n",
    "                'rec_loss': {'values':['L1', 'L2']},\n",
    "            }\n",
    "\n",
    "sweep_config['parameters'] = parameters_dict"
   ]
  },
  {
   "cell_type": "code",
   "execution_count": 45,
   "metadata": {},
   "outputs": [
    {
     "name": "stdout",
     "output_type": "stream",
     "text": [
      "Create sweep with ID: 867nk71r\n",
      "Sweep URL: https://wandb.ai/ardibid/thirdHand_VAECNN_GitHub_Demo/sweeps/867nk71r\n"
     ]
    }
   ],
   "source": [
    "sweep_id = wandb.sweep(sweep_config, project=\"thirdHand_VAECNN_GitHub_Demo\")"
   ]
  },
  {
   "cell_type": "markdown",
   "metadata": {},
   "source": [
    "---"
   ]
  },
  {
   "attachments": {},
   "cell_type": "markdown",
   "metadata": {},
   "source": [
    "## C-VAE Models"
   ]
  },
  {
   "attachments": {},
   "cell_type": "markdown",
   "metadata": {},
   "source": [
    "First, we should configure the project and load datasets."
   ]
  },
  {
   "cell_type": "code",
   "execution_count": 47,
   "metadata": {},
   "outputs": [
    {
     "name": "stdout",
     "output_type": "stream",
     "text": [
      "Data loaded from 11 filse, stored in a dataframe with shape (248486, 10)\n",
      "Dataframe headers are: ['px', 'py', 'pz', 'v1x', 'v1y', 'v1z', 'v2x', 'v2y', 'v2z', 'hand']\n",
      "Data loaded from 2 filse, stored in a dataframe with shape (54402, 10)\n",
      "Dataframe headers are: ['px', 'py', 'pz', 'v1x', 'v1y', 'v1z', 'v2x', 'v2y', 'v2z', 'hand']\n"
     ]
    }
   ],
   "source": [
    "model_config = Configuration()"
   ]
  },
  {
   "attachments": {},
   "cell_type": "markdown",
   "metadata": {},
   "source": [
    "### Dynamic model architectures\n",
    "#### Encoder"
   ]
  },
  {
   "cell_type": "code",
   "execution_count": 50,
   "metadata": {},
   "outputs": [],
   "source": [
    "class Encoder(nn.Module):\n",
    "    def __init__(self, device, first_filter_size, kernel_size, depth, dropout, latent_dim):\n",
    "        super(Encoder, self).__init__()\n",
    "        self.device= device\n",
    "        self.first_filter_size= first_filter_size\n",
    "        self.kernel_size= kernel_size\n",
    "        self.encoder_padding = kernel_size//2 -1\n",
    "        self.depth = depth \n",
    "        self.latent_dim = 2**latent_dim\n",
    "        self.filter_number = [2**(i) for i in range(first_filter_size+1)]\n",
    "        self.filter_number.reverse()\n",
    "        \n",
    "        self.filter_number = self.filter_number[:self.depth]\n",
    "        self.last_encoder_filter_size = None\n",
    "        \n",
    "        self.dropout = dropout\n",
    "        self.encoder_layers = self.make_encoder() \n",
    "        \n",
    "        self.last_filter_size = self.filter_number[0]\n",
    "        self.last_feature_size= (10-(depth*2+1))\n",
    "        self.last_dim =  self.last_filter_size*self.last_feature_size\n",
    "\n",
    "        self.flatten_layer = nn.Flatten().to(device)\n",
    "        self.convert_to_latent = nn.Linear(self.last_dim, 2*self.latent_dim).to(device)\n",
    "        \n",
    "    def make_encoder(self):\n",
    "        encoder_cnn_blocks = []\n",
    "        \n",
    "        for i in range(len(self.filter_number)):\n",
    "            if i ==0:\n",
    "                in_dim = 20\n",
    "                out_dim = self.filter_number[i]   \n",
    "            else:\n",
    "                in_dim = self.filter_number[i-1]\n",
    "                out_dim = self.filter_number[i]\n",
    "                \n",
    "            cnn_block_layers=[\n",
    "                            nn.Conv1d(in_channels= in_dim, \n",
    "                                    out_channels= out_dim, \n",
    "                                    kernel_size= self.kernel_size, \n",
    "                                    padding= self.encoder_padding),\n",
    "                            nn.BatchNorm1d(out_dim),\n",
    "                            nn.ReLU(),\n",
    "                            nn.Dropout(self.dropout),\n",
    "                            ]\n",
    "            \n",
    "            cnn_block = nn.Sequential(*cnn_block_layers).to(self.device)\n",
    "            \n",
    "            encoder_cnn_blocks.append(cnn_block)\n",
    "            self.last_encoder_filter_size = out_dim\n",
    "            \n",
    "        self.filter_number.reverse()\n",
    "        \n",
    "        return nn.ModuleList(encoder_cnn_blocks)\n",
    "    \n",
    "    \n",
    "    def reparametrization(self, mean, log_var):\n",
    "        \"\"\"\n",
    "        Samples from a normal distribution with a given set of\n",
    "        means and log_vars\n",
    "        \"\"\"\n",
    "        # epsilon is a vector of size (1, latent_dim)\n",
    "        # it is samples from a Standard Normal distribution\n",
    "        # mean = 0. and std = 1.\n",
    "        epsilon = torch.normal(mean= 0, std= 1, size = log_var.shape).to(self.device) \n",
    "\n",
    "        # we need to convert log(var) into var:\n",
    "        var = torch.exp(log_var*0.5)\n",
    "        # epsilon = torch.randn_like(var)\n",
    "        # now, we change the standard normal distributions to\n",
    "        # a set of non standard normal distributions\n",
    "        z = mean + epsilon*var\n",
    "        return z\n",
    "    \n",
    "    def forward(self, x, y):\n",
    "        \n",
    "        for block in self.encoder_layers:\n",
    "            x = block(x) \n",
    "\n",
    "        latent_ready = self.flatten_layer(x) \n",
    "        latent = self.convert_to_latent(latent_ready)\n",
    "\n",
    "        mean = latent[:, : self.latent_dim]\n",
    "        log_var = latent[:,self.latent_dim:]\n",
    "\n",
    "        z = self.reparametrization(mean, log_var)\n",
    "\n",
    "        return z, mean, log_var"
   ]
  },
  {
   "attachments": {},
   "cell_type": "markdown",
   "metadata": {},
   "source": [
    "#### Decoder"
   ]
  },
  {
   "cell_type": "code",
   "execution_count": 51,
   "metadata": {},
   "outputs": [],
   "source": [
    "class Decoder(nn.Module):\n",
    "    def __init__(self, device, first_filter_size, kernel_size, depth, latent_dim, last_filter_size, last_feature_size):\n",
    "        super(Decoder, self).__init__()\n",
    "        \n",
    "        self.device= device\n",
    "        self.first_filter_size= first_filter_size\n",
    "        self.kernel_size= kernel_size\n",
    "        self.encoder_padding = kernel_size//2 -1\n",
    "        self.depth = depth \n",
    "        self.latent_dim = 2**latent_dim\n",
    "        self.last_filter_size= last_filter_size\n",
    "        self.last_feature_size= last_feature_size\n",
    "        \n",
    "        \n",
    "        \n",
    "        self.filter_number = [2**(i) for i in range(first_filter_size+1)]        \n",
    "        self.filter_number = self.filter_number[-self.depth:]\n",
    "        self.filter_number.reverse()\n",
    "        \n",
    "        self.decoder_layers = self.make_decoder()\n",
    "        self.z_to_decoder = nn.Linear(self.latent_dim+1,self.last_filter_size*self.last_feature_size).to(device)\n",
    "       \n",
    "    def make_decoder(self):\n",
    "        decoder_cnn_blocks = []\n",
    "        \n",
    "        for i in range(len(self.filter_number)+1):\n",
    "            self.decoder_padding = self.encoder_padding\n",
    "            if i == 0:\n",
    "                in_dim = self.last_filter_size\n",
    "                out_dim = self.filter_number[i]\n",
    "                \n",
    "            elif i == len(self.filter_number):\n",
    "                in_dim = self.filter_number[i-1]\n",
    "                out_dim = 20  \n",
    "                self.decoder_padding += 1\n",
    "                \n",
    "            else:\n",
    "                in_dim = self.filter_number[i-1]\n",
    "                out_dim = self.filter_number[i]\n",
    "                        \n",
    "            cnn_block_layers = [\n",
    "                                nn.ConvTranspose1d(in_channels= in_dim, \n",
    "                                                    out_channels= out_dim, \n",
    "                                                    kernel_size= self.kernel_size, \n",
    "                                                    padding= self.decoder_padding,\n",
    "                                                    ),\n",
    "                                ]\n",
    "            \n",
    "            \n",
    "            cnn_block = nn.Sequential(*cnn_block_layers).to(self.device)\n",
    "            decoder_cnn_blocks.append(cnn_block)\n",
    "            \n",
    "        return nn.ModuleList(decoder_cnn_blocks)\n",
    "    \n",
    "    def forward(self, z, y):\n",
    "        # print(z.shape, y.shape)\n",
    "        fused_data =  torch.cat((z,y[:,0,:]), dim=1)\n",
    "        # print( z.shape, y.shape, fused_data.shape)\n",
    "        decoded = self.z_to_decoder(fused_data).view(-1, self.last_filter_size, self.last_feature_size)\n",
    "        \n",
    "        #decoded = self.z_to_decoder(z).view(-1, self.last_filter_size, self.last_feature_size)\n",
    "        \n",
    "        for block in self.decoder_layers:\n",
    "            decoded = block(decoded)\n",
    "        \n",
    "        return decoded "
   ]
  },
  {
   "attachments": {},
   "cell_type": "markdown",
   "metadata": {},
   "source": [
    "#### C-VAE"
   ]
  },
  {
   "cell_type": "code",
   "execution_count": 52,
   "metadata": {},
   "outputs": [],
   "source": [
    "class VAE_CNN(nn.Module):\n",
    "    def __init__(self, device, first_filter_size, kernel_size, depth, dropout, latent_dim, rec_loss, reduction, kld_weight):\n",
    "        super(VAE_CNN, self).__init__()\n",
    "\n",
    "        self.encoder = Encoder(\n",
    "                                device, \n",
    "                                first_filter_size, \n",
    "                                kernel_size, \n",
    "                                depth, \n",
    "                                dropout, \n",
    "                                latent_dim,\n",
    "                                )\n",
    "\n",
    "        self.decoder = Decoder(\n",
    "                                device, \n",
    "                                first_filter_size, \n",
    "                                kernel_size, \n",
    "                                depth, \n",
    "                                latent_dim, \n",
    "                                self.encoder.last_filter_size,\n",
    "                                self.encoder.last_feature_size,\n",
    "                                )\n",
    "        \n",
    "        self.reduction = reduction\n",
    "        self.kld_weight = kld_weight\n",
    "        self.rec_loss = rec_loss\n",
    "        \n",
    "    def vae_loss_function(self, x, x_rec, log_var, mean):\n",
    "        if self.rec_loss == \"L1\":\n",
    "            train_rec_loss = F.l1_loss(x_rec, x, reduction=self.reduction)   \n",
    "        else:\n",
    "            train_rec_loss = F.mse_loss(x_rec, x, reduction=self.reduction)     \n",
    "        train_kld_loss = torch.mean(-0.5 * torch.sum(1 + log_var - mean**2 - log_var.exp(), dim = 1), dim = 0)\n",
    "\n",
    "        train_loss = train_rec_loss  + train_kld_loss*self.kld_weight\n",
    "        \n",
    "        return train_loss, train_rec_loss, train_kld_loss*self.kld_weight  \n",
    "    \n",
    "    def forward(self, x, y):\n",
    "        z, mean, log_var = self.encoder(x, y)\n",
    "        x_rec = self.decoder(z, y)\n",
    "        return x_rec, mean, log_var\n",
    "        "
   ]
  },
  {
   "cell_type": "code",
   "execution_count": 53,
   "metadata": {},
   "outputs": [],
   "source": [
    "def vae_loss_function(x, x_rec, log_var, mean, rec_loss, reduction, kld_weight):\n",
    "    if rec_loss == \"L1\":\n",
    "        train_rec_loss = F.l1_loss(x_rec, x, reduction=reduction)   \n",
    "    else:\n",
    "        train_rec_loss = F.mse_loss(x_rec, x, reduction=reduction)     \n",
    "    train_kld_loss = torch.mean(-0.5 * torch.sum(1 + log_var - mean**2 - log_var.exp(), dim = 1), dim = 0)\n",
    "\n",
    "    train_loss = train_rec_loss  + train_kld_loss*kld_weight\n",
    "    \n",
    "    return train_loss, train_rec_loss, train_kld_loss*kld_weight"
   ]
  },
  {
   "cell_type": "markdown",
   "metadata": {},
   "source": [
    "## Training functions"
   ]
  },
  {
   "cell_type": "markdown",
   "metadata": {},
   "source": [
    "---\n",
    "### Only for training outside of **wandb**"
   ]
  },
  {
   "cell_type": "code",
   "execution_count": 14,
   "metadata": {},
   "outputs": [],
   "source": [
    "def train_epoch_single(model, model_config, optimizer):\n",
    "    model.train()\n",
    "    epoch_loss = 0\n",
    "    epoch_rec_loss = 0\n",
    "    epoch_kld_loss = 0\n",
    " \n",
    "    for data in model_config.train_iterator:\n",
    "        x= data[model_config.data_item]\n",
    "        y= data[\"Y\"]\n",
    "        \n",
    "        optimizer.zero_grad()\n",
    "        x_rec, mean, log_var = model(x,y)\n",
    "        \n",
    "        # calculating losses\n",
    "        train_loss, train_rec_loss, train_kld_loss = vae_loss_function (x, \n",
    "                                                                        x_rec, \n",
    "                                                                        log_var, \n",
    "                                                                        mean, \n",
    "                                                                        rec_loss= model.rec_loss, \n",
    "                                                                        reduction= model.reduction,\n",
    "                                                                        kld_weight= model.kld_weight)\n",
    "\n",
    "        # updating the history\n",
    "        epoch_rec_loss += train_rec_loss.item()\n",
    "        epoch_kld_loss += train_kld_loss.item()\n",
    "        epoch_loss += train_loss.item() \n",
    "        \n",
    "        train_loss.backward()\n",
    "        optimizer.step()\n",
    " \n",
    "    counter = len(model_config.train_iterator)   \n",
    "    results = [epoch_loss/counter,\n",
    "                epoch_rec_loss/counter, \n",
    "                epoch_kld_loss/counter]      \n",
    "    \n",
    "    return results"
   ]
  },
  {
   "cell_type": "code",
   "execution_count": 15,
   "metadata": {},
   "outputs": [],
   "source": [
    "def train_single(model, epochs, batch_size):  \n",
    "    start_time = time.time()\n",
    "    optimizer = optim.Adam(model.parameters(), lr = 0.0001)\n",
    "    \n",
    "    \n",
    "    model_config.batch_size = batch_size\n",
    "    model_config.process_dataset_dataloaders()\n",
    "    train_losses = []\n",
    "    train_rec_losses = []\n",
    "    train_kld_losses = []\n",
    "    eval_losses = []\n",
    "    for epoch in range(epochs+1):\n",
    "        # train\n",
    "        train_loss, train_rec_loss, train_kld_loss = train_epoch_single(\n",
    "                                                                        model, \n",
    "                                                                        model_config,\n",
    "                                                                        optimizer,\n",
    "                                                                        )\n",
    "        log_plot= False\n",
    "        report_interval = 50\n",
    "        if epoch % report_interval ==0:\n",
    "            log_plot= True\n",
    "            path_to_save_plot = \"runs/progress/tmp_fig_{}.png\".format(epoch)  \n",
    "            print(\"<<Image {} saved>>\".format(epoch)) \n",
    "              \n",
    "        eval_loss, eval_rec_losses, eval_kld_loss = eval_epoch(\n",
    "                                                                model, \n",
    "                                                                model_config, \n",
    "                                                                model_config.valid_iterator, \n",
    "                                                                loss_function= vae_loss_function,\n",
    "                                                                rec_loss= model.rec_loss, \n",
    "                                                                reduction=model.reduction, \n",
    "                                                                kld_weight= model.kld_weight,\n",
    "                                                                save_plot= log_plot,\n",
    "                                                                path_to_save_plot= path_to_save_plot,\n",
    "                                                                is_vae= True\n",
    "                                                                )\n",
    "        \n",
    "        train_losses.append(train_loss)\n",
    "        train_rec_losses.append(train_rec_loss)\n",
    "        train_kld_losses.append(train_kld_loss)\n",
    "        eval_losses.append(eval_loss)\n",
    "        \n",
    "        if epoch % report_interval ==0:\n",
    "            print(\"{}:\\tTotal: {:.5f}\\tEval loss: {:.5f}\\t Rec loss: {:.5f}\\t KLD loss: {:.5f}\\t time: {:.1f}s\".format(epoch, \n",
    "                                                                          train_loss,\n",
    "                                                                          eval_loss,\n",
    "                                                                          train_rec_loss,\n",
    "                                                                          train_kld_loss,\n",
    "                                                                          time.time()-start_time))\n",
    "    quick_plot(train_losses, train_rec_losses, train_kld_losses, eval_losses)\n",
    "    return train_losses ,train_rec_losses,train_kld_losses, eval_losses"
   ]
  },
  {
   "cell_type": "code",
   "execution_count": 16,
   "metadata": {},
   "outputs": [],
   "source": [
    "def eval_epoch(\n",
    "                model, \n",
    "                config, \n",
    "                data_iterator, \n",
    "                plot= False, \n",
    "                scaled_plot= False, \n",
    "                update_tensorboard= False, \n",
    "                epoch=None, \n",
    "                loss_function= None, \n",
    "                show_one_sample= False,\n",
    "                save_plot= False,\n",
    "                path_to_save_plot = None,\n",
    "                is_vae= False,\n",
    "                rec_loss= \"L1\", \n",
    "                reduction=\"sum\", \n",
    "                kld_weight= 1e-1):\n",
    "    \n",
    "    \n",
    "    model.eval()\n",
    "    batch_eval_loss = 0\n",
    "    batch_eval_rec_losses= 0 \n",
    "    batch_eval_kld_losses= 0\n",
    "    \n",
    "    item_to_show = np.random.randint(len(config.valid_iterator))\n",
    "    \n",
    "    for i, data in enumerate(config.valid_iterator):\n",
    "        x= data[config.data_item]\n",
    "        y= data[\"Y\"]\n",
    "        \n",
    "        x_rec = model(x, y)\n",
    "        if is_vae:\n",
    "            x_rec, mean, log_var = model(x,y)\n",
    "            eval_loss, eval_rec_losses, eval_kld_losses = loss_function(\n",
    "                                                                        x, \n",
    "                                                                        x_rec, \n",
    "                                                                        log_var,\n",
    "                                                                        mean, \n",
    "                                                                        rec_loss= \"L1\", \n",
    "                                                                        reduction='sum', \n",
    "                                                                        kld_weight= kld_weight,\n",
    "                                                                        )\n",
    "            batch_eval_loss += eval_loss.item()\n",
    "            batch_eval_rec_losses += eval_rec_losses.item()\n",
    "            batch_eval_kld_losses += eval_kld_losses.item()\n",
    "        \n",
    "        else:\n",
    "            eval_loss = loss_function(x, x_rec)\n",
    "            batch_eval_loss += eval_loss.item()\n",
    "        \n",
    "        if i == 0:\n",
    "            if plot or update_tensorboard or save_plot:\n",
    "                if scaled_plot:\n",
    "                    if config.data_item == 2:\n",
    "                        min = data[5][0]\n",
    "                        max = data[6][0]\n",
    "                        x = (x + min) * (max-min)\n",
    "                        x_rec = (x_rec + min) * (max-min)\n",
    "\n",
    "                    elif config.data_item == 4:\n",
    "                        min = data[7][0]\n",
    "                        max = data[8][0]\n",
    "                        x = (x + min) * (max-min)\n",
    "                        x_rec = (x_rec + min) * (max-min)               \n",
    "                    \n",
    "                fig = stroke_visualizer_mix(x, x_rec)\n",
    "                \n",
    "                if plot:\n",
    "                    fig.show()\n",
    "                \n",
    "                if update_tensorboard:\n",
    "                    fig.write_image(path_to_save_plot) \n",
    "                    image =  Image.open(path_to_save_plot)\n",
    "                    image = np.asarray(image)\n",
    "                    \n",
    "                    config.writer.add_image(tag='test_progress', \n",
    "                                        img_tensor = image,\n",
    "                                        global_step= epoch,\n",
    "                                        dataformats='HWC') \n",
    "                if save_plot:\n",
    "                    fig.write_image(path_to_save_plot) \n",
    "                    \n",
    "    counter = len(config.valid_iterator)   \n",
    "    \n",
    "    if is_vae:\n",
    "        return (batch_eval_loss/counter,\n",
    "                batch_eval_rec_losses/counter, \n",
    "                batch_eval_kld_losses/counter)\n",
    "    else:     \n",
    "        return batch_eval_loss/counter               \n"
   ]
  },
  {
   "cell_type": "code",
   "execution_count": 17,
   "metadata": {},
   "outputs": [],
   "source": [
    "def quick_plot(train_losses=None, rec= None, KLD= None, eval_losses= None, log_scale= True):\n",
    "    items_to_plot= []\n",
    "    if train_losses:\n",
    "        train = go.Scatter(x= np.arange(len(train_losses)), y=train_losses, name=\"training\", mode='lines')\n",
    "        items_to_plot.append(train)\n",
    "    if eval_losses:\n",
    "        valid = go.Scatter(x= np.arange(len(eval_losses)),  y=eval_losses, name=\"validation\", mode='lines')\n",
    "        items_to_plot.append(valid)\n",
    "    \n",
    "    if rec:\n",
    "        rec = go.Scatter(x= np.arange(len(rec)), y=rec, name=\"reconstruction\", mode='lines')\n",
    "        items_to_plot.append(rec)\n",
    "    \n",
    "    if KLD:\n",
    "        KLD = go.Scatter(x= np.arange(len(KLD)), y=KLD, name=\"KLD\", mode='lines')\n",
    "        items_to_plot.append(KLD)\n",
    "\n",
    "    fig = go.Figure(items_to_plot)\n",
    "    \n",
    "    if log_scale:\n",
    "        fig.update_yaxes(type=\"log\")\n",
    "        \n",
    "    fig.update_layout(template =  \"plotly_dark\")\n",
    "    fig.show()"
   ]
  },
  {
   "cell_type": "markdown",
   "metadata": {},
   "source": [
    "___"
   ]
  },
  {
   "cell_type": "code",
   "execution_count": 54,
   "metadata": {},
   "outputs": [],
   "source": [
    "def show_generated_motions(motion_data, index = 0):\n",
    "    all_plots = []\n",
    "    colors= ['white', 'red', 'blue']\n",
    "    names = [\"Original\", \"Rec\", \"Gen\"]\n",
    "    for i, stroke_date in enumerate(motion_data):\n",
    "        sample = stroke_date[index,:,:] \n",
    "        x_rec_plot = go.Scatter3d(x= sample[:,0].detach().cpu().numpy(), \n",
    "                                    y= sample[: ,1].detach().cpu().numpy(), \n",
    "                                    z= sample[:, 2].detach().cpu().numpy(),  \n",
    "                                    mode='lines',\n",
    "                                    name=names[i],\n",
    "                                    line=dict(width=3, color= colors[i]),\n",
    "                                    )\n",
    "        all_plots.append(x_rec_plot)\n",
    "\n",
    "\n",
    "    fig = go.Figure(data=all_plots)\n",
    "    plot_title = \"Generated Motion\"\n",
    "    \n",
    "    fig.update_layout(height=500,\n",
    "                        margin=dict(l=5, r=5, t=50, b=50),\n",
    "                        template =  \"plotly_dark\",\n",
    "                        title_text= plot_title,\n",
    "                        font=dict(family=\"Roboto, monospace\",\n",
    "                                size=12,\n",
    "                                color=\"white\"\n",
    "                                ),\n",
    "                        scene=dict(\n",
    "                                    aspectratio = dict( x=1, y=1, z=1 ),\n",
    "                                    camera=dict(up=dict(x=0, y=0, z=1),eye=dict(x=-1.5, y=1.5, z=1.5)),\n",
    "                                ),\n",
    "                        showlegend= True,\n",
    "                        coloraxis_showscale=False,)\n",
    "\n",
    "    fig.update_xaxes(showticklabels=False, \n",
    "                        showgrid=False, \n",
    "                        zeroline=False,\n",
    "                        zerolinewidth=1, \n",
    "                        zerolinecolor='gray',\n",
    "                        fixedrange= True,)\n",
    "\n",
    "    fig.update_yaxes(showticklabels=False, \n",
    "                        showgrid=False, \n",
    "                        zeroline=False,\n",
    "                        zerolinewidth=1, \n",
    "                        zerolinecolor='gray',\n",
    "                        fixedrange= True,\n",
    "                        scaleanchor = \"x\",\n",
    "                        scaleratio = 1,)\n",
    "\n",
    "    fig.show()"
   ]
  },
  {
   "cell_type": "code",
   "execution_count": 55,
   "metadata": {},
   "outputs": [
    {
     "data": {
      "application/vnd.plotly.v1+json": {
       "config": {
        "plotlyServerURL": "https://plot.ly"
       },
       "data": [
        {
         "line": {
          "color": "white",
          "width": 3
         },
         "mode": "lines",
         "name": "Original",
         "type": "scatter3d",
         "x": [
          0.09989699721336365,
          0.09069100022315979,
          0.08119799941778183,
          0.07194499671459198,
          0.06324400007724762,
          0.05634399875998497,
          0.050175998359918594,
          0.04675700142979622,
          0.045958999544382095,
          0.04707600176334381,
          0.04754899814724922,
          0.048663001507520676,
          0.05014999955892563,
          0.052758000791072845,
          0.056425001472234726,
          0.06086000055074692,
          0.0651329979300499,
          0.06972300261259079,
          0.07403299957513809,
          0.07741499692201614
         ],
         "y": [
          -0.16648200154304504,
          -0.1702899932861328,
          -0.1722559928894043,
          -0.17537400126457214,
          -0.1779720038175583,
          -0.1819320023059845,
          -0.18304100632667542,
          -0.18441200256347656,
          -0.18617400527000427,
          -0.18743999302387238,
          -0.18985800445079803,
          -0.19272999465465546,
          -0.1944350004196167,
          -0.19633400440216064,
          -0.1966630071401596,
          -0.1955759972333908,
          -0.1928669959306717,
          -0.18969200551509857,
          -0.18608100712299347,
          -0.18231800198554993
         ],
         "z": [
          0.20824000239372253,
          0.19284699857234955,
          0.17537300288677216,
          0.1566469967365265,
          0.13620500266551971,
          0.1142129972577095,
          0.09088499844074249,
          0.0677269995212555,
          0.04698500037193298,
          0.030139999464154243,
          0.03622400015592575,
          0.04677300155162811,
          0.060075998306274414,
          0.07538600265979767,
          0.09085000306367874,
          0.10583599656820297,
          0.119937002658844,
          0.13190199434757233,
          0.1416960060596466,
          0.14927400648593903
         ]
        },
        {
         "line": {
          "color": "red",
          "width": 3
         },
         "mode": "lines",
         "name": "Rec",
         "type": "scatter3d",
         "x": [
          0.051125410944223404,
          0.042826201766729355,
          0.03307758644223213,
          0.02370612323284149,
          0.014447368681430817,
          0.00689700897783041,
          0.0019580619409680367,
          -0.0008713542483747005,
          -0.0012636133469641209,
          0.0004225890152156353,
          0.00038740038871765137,
          0.0006154500879347324,
          0.002644774504005909,
          0.005082951858639717,
          0.008084286004304886,
          0.011933213099837303,
          0.017079470679163933,
          0.022171778604388237,
          0.02583540603518486,
          0.029726959764957428
         ],
         "y": [
          0.02115347981452942,
          0.018293239176273346,
          0.015636734664440155,
          0.011387459933757782,
          0.008838318288326263,
          0.004412561655044556,
          0.0037957429885864258,
          0.0013735070824623108,
          -0.00007771700620651245,
          -0.0003317221999168396,
          -0.002819482237100601,
          -0.0052743107080459595,
          -0.00733097642660141,
          -0.00892806425690651,
          -0.009121406823396683,
          -0.008554995059967041,
          -0.004200831055641174,
          -0.0013248138129711151,
          0.002314329147338867,
          0.005522899329662323
         ],
         "z": [
          0.17934435606002808,
          0.1679118275642395,
          0.14925387501716614,
          0.13164353370666504,
          0.11004430800676346,
          0.08681748807430267,
          0.060859084129333496,
          0.035050924867391586,
          0.012146031484007835,
          0.0005242116749286652,
          0.005396973341703415,
          0.015846991911530495,
          0.030438575893640518,
          0.04537422955036163,
          0.061196789145469666,
          0.07653189450502396,
          0.09179899841547012,
          0.10471982508897781,
          0.11468610167503357,
          0.12034550309181213
         ]
        },
        {
         "line": {
          "color": "blue",
          "width": 3
         },
         "mode": "lines",
         "name": "Gen",
         "type": "scatter3d",
         "x": [
          0.045156631618738174,
          0.03837963566184044,
          0.027393322438001633,
          0.019667338579893112,
          0.01240832544863224,
          0.0063818227499723434,
          0.0044823382049798965,
          0.0021767280995845795,
          0.0008217641152441502,
          0.0011011473834514618,
          0.00008857669308781624,
          0.0001529301516711712,
          0.00215301476418972,
          0.004039335064589977,
          0.0070522380992770195,
          0.010131176561117172,
          0.014821717515587807,
          0.019306089729070663,
          0.02121683955192566,
          0.0233486145734787
         ],
         "y": [
          0.014805465936660767,
          0.012725450098514557,
          0.011222369968891144,
          0.007526576519012451,
          0.00546545535326004,
          0.0017686188220977783,
          0.0007951632142066956,
          -0.0002524927258491516,
          -0.0013291612267494202,
          -0.0002837255597114563,
          -0.002455625683069229,
          -0.005106169730424881,
          -0.008947055786848068,
          -0.011915072798728943,
          -0.01393572986125946,
          -0.01479971781373024,
          -0.012044418603181839,
          -0.01088019460439682,
          -0.0066194720566272736,
          -0.0031353235244750977
         ],
         "z": [
          0.1575470268726349,
          0.14895878732204437,
          0.132414311170578,
          0.12075762450695038,
          0.10058199614286423,
          0.0803145095705986,
          0.05940243601799011,
          0.04076254367828369,
          0.022150561213493347,
          0.0044723693281412125,
          0.010847112163901329,
          0.021586976945400238,
          0.03653249144554138,
          0.05122268944978714,
          0.06637367606163025,
          0.08379092812538147,
          0.0941835269331932,
          0.10499753057956696,
          0.11391672492027283,
          0.11661706864833832
         ]
        }
       ],
       "layout": {
        "coloraxis": {
         "showscale": false
        },
        "font": {
         "color": "white",
         "family": "Roboto, monospace",
         "size": 12
        },
        "height": 500,
        "margin": {
         "b": 50,
         "l": 5,
         "r": 5,
         "t": 50
        },
        "scene": {
         "aspectratio": {
          "x": 1,
          "y": 1,
          "z": 1
         },
         "camera": {
          "eye": {
           "x": -1.5,
           "y": 1.5,
           "z": 1.5
          },
          "up": {
           "x": 0,
           "y": 0,
           "z": 1
          }
         }
        },
        "showlegend": true,
        "template": {
         "data": {
          "bar": [
           {
            "error_x": {
             "color": "#f2f5fa"
            },
            "error_y": {
             "color": "#f2f5fa"
            },
            "marker": {
             "line": {
              "color": "rgb(17,17,17)",
              "width": 0.5
             },
             "pattern": {
              "fillmode": "overlay",
              "size": 10,
              "solidity": 0.2
             }
            },
            "type": "bar"
           }
          ],
          "barpolar": [
           {
            "marker": {
             "line": {
              "color": "rgb(17,17,17)",
              "width": 0.5
             },
             "pattern": {
              "fillmode": "overlay",
              "size": 10,
              "solidity": 0.2
             }
            },
            "type": "barpolar"
           }
          ],
          "carpet": [
           {
            "aaxis": {
             "endlinecolor": "#A2B1C6",
             "gridcolor": "#506784",
             "linecolor": "#506784",
             "minorgridcolor": "#506784",
             "startlinecolor": "#A2B1C6"
            },
            "baxis": {
             "endlinecolor": "#A2B1C6",
             "gridcolor": "#506784",
             "linecolor": "#506784",
             "minorgridcolor": "#506784",
             "startlinecolor": "#A2B1C6"
            },
            "type": "carpet"
           }
          ],
          "choropleth": [
           {
            "colorbar": {
             "outlinewidth": 0,
             "ticks": ""
            },
            "type": "choropleth"
           }
          ],
          "contour": [
           {
            "colorbar": {
             "outlinewidth": 0,
             "ticks": ""
            },
            "colorscale": [
             [
              0,
              "#0d0887"
             ],
             [
              0.1111111111111111,
              "#46039f"
             ],
             [
              0.2222222222222222,
              "#7201a8"
             ],
             [
              0.3333333333333333,
              "#9c179e"
             ],
             [
              0.4444444444444444,
              "#bd3786"
             ],
             [
              0.5555555555555556,
              "#d8576b"
             ],
             [
              0.6666666666666666,
              "#ed7953"
             ],
             [
              0.7777777777777778,
              "#fb9f3a"
             ],
             [
              0.8888888888888888,
              "#fdca26"
             ],
             [
              1,
              "#f0f921"
             ]
            ],
            "type": "contour"
           }
          ],
          "contourcarpet": [
           {
            "colorbar": {
             "outlinewidth": 0,
             "ticks": ""
            },
            "type": "contourcarpet"
           }
          ],
          "heatmap": [
           {
            "colorbar": {
             "outlinewidth": 0,
             "ticks": ""
            },
            "colorscale": [
             [
              0,
              "#0d0887"
             ],
             [
              0.1111111111111111,
              "#46039f"
             ],
             [
              0.2222222222222222,
              "#7201a8"
             ],
             [
              0.3333333333333333,
              "#9c179e"
             ],
             [
              0.4444444444444444,
              "#bd3786"
             ],
             [
              0.5555555555555556,
              "#d8576b"
             ],
             [
              0.6666666666666666,
              "#ed7953"
             ],
             [
              0.7777777777777778,
              "#fb9f3a"
             ],
             [
              0.8888888888888888,
              "#fdca26"
             ],
             [
              1,
              "#f0f921"
             ]
            ],
            "type": "heatmap"
           }
          ],
          "heatmapgl": [
           {
            "colorbar": {
             "outlinewidth": 0,
             "ticks": ""
            },
            "colorscale": [
             [
              0,
              "#0d0887"
             ],
             [
              0.1111111111111111,
              "#46039f"
             ],
             [
              0.2222222222222222,
              "#7201a8"
             ],
             [
              0.3333333333333333,
              "#9c179e"
             ],
             [
              0.4444444444444444,
              "#bd3786"
             ],
             [
              0.5555555555555556,
              "#d8576b"
             ],
             [
              0.6666666666666666,
              "#ed7953"
             ],
             [
              0.7777777777777778,
              "#fb9f3a"
             ],
             [
              0.8888888888888888,
              "#fdca26"
             ],
             [
              1,
              "#f0f921"
             ]
            ],
            "type": "heatmapgl"
           }
          ],
          "histogram": [
           {
            "marker": {
             "pattern": {
              "fillmode": "overlay",
              "size": 10,
              "solidity": 0.2
             }
            },
            "type": "histogram"
           }
          ],
          "histogram2d": [
           {
            "colorbar": {
             "outlinewidth": 0,
             "ticks": ""
            },
            "colorscale": [
             [
              0,
              "#0d0887"
             ],
             [
              0.1111111111111111,
              "#46039f"
             ],
             [
              0.2222222222222222,
              "#7201a8"
             ],
             [
              0.3333333333333333,
              "#9c179e"
             ],
             [
              0.4444444444444444,
              "#bd3786"
             ],
             [
              0.5555555555555556,
              "#d8576b"
             ],
             [
              0.6666666666666666,
              "#ed7953"
             ],
             [
              0.7777777777777778,
              "#fb9f3a"
             ],
             [
              0.8888888888888888,
              "#fdca26"
             ],
             [
              1,
              "#f0f921"
             ]
            ],
            "type": "histogram2d"
           }
          ],
          "histogram2dcontour": [
           {
            "colorbar": {
             "outlinewidth": 0,
             "ticks": ""
            },
            "colorscale": [
             [
              0,
              "#0d0887"
             ],
             [
              0.1111111111111111,
              "#46039f"
             ],
             [
              0.2222222222222222,
              "#7201a8"
             ],
             [
              0.3333333333333333,
              "#9c179e"
             ],
             [
              0.4444444444444444,
              "#bd3786"
             ],
             [
              0.5555555555555556,
              "#d8576b"
             ],
             [
              0.6666666666666666,
              "#ed7953"
             ],
             [
              0.7777777777777778,
              "#fb9f3a"
             ],
             [
              0.8888888888888888,
              "#fdca26"
             ],
             [
              1,
              "#f0f921"
             ]
            ],
            "type": "histogram2dcontour"
           }
          ],
          "mesh3d": [
           {
            "colorbar": {
             "outlinewidth": 0,
             "ticks": ""
            },
            "type": "mesh3d"
           }
          ],
          "parcoords": [
           {
            "line": {
             "colorbar": {
              "outlinewidth": 0,
              "ticks": ""
             }
            },
            "type": "parcoords"
           }
          ],
          "pie": [
           {
            "automargin": true,
            "type": "pie"
           }
          ],
          "scatter": [
           {
            "marker": {
             "line": {
              "color": "#283442"
             }
            },
            "type": "scatter"
           }
          ],
          "scatter3d": [
           {
            "line": {
             "colorbar": {
              "outlinewidth": 0,
              "ticks": ""
             }
            },
            "marker": {
             "colorbar": {
              "outlinewidth": 0,
              "ticks": ""
             }
            },
            "type": "scatter3d"
           }
          ],
          "scattercarpet": [
           {
            "marker": {
             "colorbar": {
              "outlinewidth": 0,
              "ticks": ""
             }
            },
            "type": "scattercarpet"
           }
          ],
          "scattergeo": [
           {
            "marker": {
             "colorbar": {
              "outlinewidth": 0,
              "ticks": ""
             }
            },
            "type": "scattergeo"
           }
          ],
          "scattergl": [
           {
            "marker": {
             "line": {
              "color": "#283442"
             }
            },
            "type": "scattergl"
           }
          ],
          "scattermapbox": [
           {
            "marker": {
             "colorbar": {
              "outlinewidth": 0,
              "ticks": ""
             }
            },
            "type": "scattermapbox"
           }
          ],
          "scatterpolar": [
           {
            "marker": {
             "colorbar": {
              "outlinewidth": 0,
              "ticks": ""
             }
            },
            "type": "scatterpolar"
           }
          ],
          "scatterpolargl": [
           {
            "marker": {
             "colorbar": {
              "outlinewidth": 0,
              "ticks": ""
             }
            },
            "type": "scatterpolargl"
           }
          ],
          "scatterternary": [
           {
            "marker": {
             "colorbar": {
              "outlinewidth": 0,
              "ticks": ""
             }
            },
            "type": "scatterternary"
           }
          ],
          "surface": [
           {
            "colorbar": {
             "outlinewidth": 0,
             "ticks": ""
            },
            "colorscale": [
             [
              0,
              "#0d0887"
             ],
             [
              0.1111111111111111,
              "#46039f"
             ],
             [
              0.2222222222222222,
              "#7201a8"
             ],
             [
              0.3333333333333333,
              "#9c179e"
             ],
             [
              0.4444444444444444,
              "#bd3786"
             ],
             [
              0.5555555555555556,
              "#d8576b"
             ],
             [
              0.6666666666666666,
              "#ed7953"
             ],
             [
              0.7777777777777778,
              "#fb9f3a"
             ],
             [
              0.8888888888888888,
              "#fdca26"
             ],
             [
              1,
              "#f0f921"
             ]
            ],
            "type": "surface"
           }
          ],
          "table": [
           {
            "cells": {
             "fill": {
              "color": "#506784"
             },
             "line": {
              "color": "rgb(17,17,17)"
             }
            },
            "header": {
             "fill": {
              "color": "#2a3f5f"
             },
             "line": {
              "color": "rgb(17,17,17)"
             }
            },
            "type": "table"
           }
          ]
         },
         "layout": {
          "annotationdefaults": {
           "arrowcolor": "#f2f5fa",
           "arrowhead": 0,
           "arrowwidth": 1
          },
          "autotypenumbers": "strict",
          "coloraxis": {
           "colorbar": {
            "outlinewidth": 0,
            "ticks": ""
           }
          },
          "colorscale": {
           "diverging": [
            [
             0,
             "#8e0152"
            ],
            [
             0.1,
             "#c51b7d"
            ],
            [
             0.2,
             "#de77ae"
            ],
            [
             0.3,
             "#f1b6da"
            ],
            [
             0.4,
             "#fde0ef"
            ],
            [
             0.5,
             "#f7f7f7"
            ],
            [
             0.6,
             "#e6f5d0"
            ],
            [
             0.7,
             "#b8e186"
            ],
            [
             0.8,
             "#7fbc41"
            ],
            [
             0.9,
             "#4d9221"
            ],
            [
             1,
             "#276419"
            ]
           ],
           "sequential": [
            [
             0,
             "#0d0887"
            ],
            [
             0.1111111111111111,
             "#46039f"
            ],
            [
             0.2222222222222222,
             "#7201a8"
            ],
            [
             0.3333333333333333,
             "#9c179e"
            ],
            [
             0.4444444444444444,
             "#bd3786"
            ],
            [
             0.5555555555555556,
             "#d8576b"
            ],
            [
             0.6666666666666666,
             "#ed7953"
            ],
            [
             0.7777777777777778,
             "#fb9f3a"
            ],
            [
             0.8888888888888888,
             "#fdca26"
            ],
            [
             1,
             "#f0f921"
            ]
           ],
           "sequentialminus": [
            [
             0,
             "#0d0887"
            ],
            [
             0.1111111111111111,
             "#46039f"
            ],
            [
             0.2222222222222222,
             "#7201a8"
            ],
            [
             0.3333333333333333,
             "#9c179e"
            ],
            [
             0.4444444444444444,
             "#bd3786"
            ],
            [
             0.5555555555555556,
             "#d8576b"
            ],
            [
             0.6666666666666666,
             "#ed7953"
            ],
            [
             0.7777777777777778,
             "#fb9f3a"
            ],
            [
             0.8888888888888888,
             "#fdca26"
            ],
            [
             1,
             "#f0f921"
            ]
           ]
          },
          "colorway": [
           "#636efa",
           "#EF553B",
           "#00cc96",
           "#ab63fa",
           "#FFA15A",
           "#19d3f3",
           "#FF6692",
           "#B6E880",
           "#FF97FF",
           "#FECB52"
          ],
          "font": {
           "color": "#f2f5fa"
          },
          "geo": {
           "bgcolor": "rgb(17,17,17)",
           "lakecolor": "rgb(17,17,17)",
           "landcolor": "rgb(17,17,17)",
           "showlakes": true,
           "showland": true,
           "subunitcolor": "#506784"
          },
          "hoverlabel": {
           "align": "left"
          },
          "hovermode": "closest",
          "mapbox": {
           "style": "dark"
          },
          "paper_bgcolor": "rgb(17,17,17)",
          "plot_bgcolor": "rgb(17,17,17)",
          "polar": {
           "angularaxis": {
            "gridcolor": "#506784",
            "linecolor": "#506784",
            "ticks": ""
           },
           "bgcolor": "rgb(17,17,17)",
           "radialaxis": {
            "gridcolor": "#506784",
            "linecolor": "#506784",
            "ticks": ""
           }
          },
          "scene": {
           "xaxis": {
            "backgroundcolor": "rgb(17,17,17)",
            "gridcolor": "#506784",
            "gridwidth": 2,
            "linecolor": "#506784",
            "showbackground": true,
            "ticks": "",
            "zerolinecolor": "#C8D4E3"
           },
           "yaxis": {
            "backgroundcolor": "rgb(17,17,17)",
            "gridcolor": "#506784",
            "gridwidth": 2,
            "linecolor": "#506784",
            "showbackground": true,
            "ticks": "",
            "zerolinecolor": "#C8D4E3"
           },
           "zaxis": {
            "backgroundcolor": "rgb(17,17,17)",
            "gridcolor": "#506784",
            "gridwidth": 2,
            "linecolor": "#506784",
            "showbackground": true,
            "ticks": "",
            "zerolinecolor": "#C8D4E3"
           }
          },
          "shapedefaults": {
           "line": {
            "color": "#f2f5fa"
           }
          },
          "sliderdefaults": {
           "bgcolor": "#C8D4E3",
           "bordercolor": "rgb(17,17,17)",
           "borderwidth": 1,
           "tickwidth": 0
          },
          "ternary": {
           "aaxis": {
            "gridcolor": "#506784",
            "linecolor": "#506784",
            "ticks": ""
           },
           "baxis": {
            "gridcolor": "#506784",
            "linecolor": "#506784",
            "ticks": ""
           },
           "bgcolor": "rgb(17,17,17)",
           "caxis": {
            "gridcolor": "#506784",
            "linecolor": "#506784",
            "ticks": ""
           }
          },
          "title": {
           "x": 0.05
          },
          "updatemenudefaults": {
           "bgcolor": "#506784",
           "borderwidth": 0
          },
          "xaxis": {
           "automargin": true,
           "gridcolor": "#283442",
           "linecolor": "#506784",
           "ticks": "",
           "title": {
            "standoff": 15
           },
           "zerolinecolor": "#283442",
           "zerolinewidth": 2
          },
          "yaxis": {
           "automargin": true,
           "gridcolor": "#283442",
           "linecolor": "#506784",
           "ticks": "",
           "title": {
            "standoff": 15
           },
           "zerolinecolor": "#283442",
           "zerolinewidth": 2
          }
         }
        },
        "title": {
         "text": "Generated Motion"
        },
        "xaxis": {
         "fixedrange": true,
         "showgrid": false,
         "showticklabels": false,
         "zeroline": false,
         "zerolinecolor": "gray",
         "zerolinewidth": 1
        },
        "yaxis": {
         "fixedrange": true,
         "scaleanchor": "x",
         "scaleratio": 1,
         "showgrid": false,
         "showticklabels": false,
         "zeroline": false,
         "zerolinecolor": "gray",
         "zerolinewidth": 1
        }
       }
      }
     },
     "metadata": {},
     "output_type": "display_data"
    },
    {
     "name": "stdout",
     "output_type": "stream",
     "text": [
      "torch.Size([128, 20, 9])\n"
     ]
    }
   ],
   "source": [
    "counter = 0\n",
    "\n",
    "for d in model_config.train_iterator:\n",
    "    if counter > 6:\n",
    "        X = d[\"X\"]\n",
    "                \n",
    "        x_samples = d[model_config.data_item]\n",
    "        y_samples = d[\"Y\"]\n",
    "        \n",
    "        x_rec,__, __ = model(x_samples, y_samples)\n",
    "        \n",
    "        z, __, __ = model.encoder(x_samples, y_samples)\n",
    "        \n",
    "        noise = torch.normal(mean=.1, std=.35, size = z.shape).to(model_config.device)\n",
    "        z = z + noise\n",
    "        x_gen = model.decoder(z , y_samples)\n",
    "        \n",
    "        \n",
    "\n",
    "        centered_min_val= d[\"centered_min_val\"][0]\n",
    "        centered_max_val= d[\"centered_max_val\"][0]\n",
    "        center_points = torch.zeros_like(X[:, 0:1, :])        \n",
    "        center_points[:, 0, :3] = X[:, 9, :3]\n",
    "\n",
    "        x_rec_real_size = (x_rec*(centered_max_val - centered_min_val)+centered_min_val)#+center_points\n",
    "        x_gen_real_size = (x_gen*(centered_max_val - centered_min_val)+centered_min_val)#+center_points    \n",
    "        show_generated_motions([X, x_rec_real_size, x_gen_real_size], 3)\n",
    "        \n",
    "        print(x_gen_real_size.shape)\n",
    "        np.save(\"some_test_motions_centered_gen\", x_gen_real_size.detach().cpu().numpy())\n",
    "        np.save(\"some_test_motions_centered_orig\",  d[\"X_centered\"].detach().cpu().numpy())\n",
    "        break\n",
    "    counter += 1"
   ]
  },
  {
   "cell_type": "code",
   "execution_count": 56,
   "metadata": {},
   "outputs": [
    {
     "data": {
      "application/vnd.plotly.v1+json": {
       "config": {
        "plotlyServerURL": "https://plot.ly"
       },
       "data": [
        {
         "line": {
          "color": "white",
          "width": 3
         },
         "mode": "lines",
         "name": "Original",
         "type": "scatter3d",
         "x": [
          0.16543695330619812,
          0.16239343583583832,
          0.14904595911502838,
          0.13143329322338104,
          0.1063350960612297,
          0.07946331799030304,
          0.055731482803821564,
          0.03951731696724892,
          0.03228900209069252,
          0.03236401826143265,
          0.03179069235920906,
          0.03014032542705536,
          0.031147684901952744,
          0.03261049836874008,
          0.03682747110724449,
          0.0457061305642128,
          0.05790158733725548,
          0.07436222583055496,
          0.09237141907215118,
          0.11498872190713882
         ],
         "y": [
          0.5494548678398132,
          0.5630367398262024,
          0.558528482913971,
          0.5543417930603027,
          0.5447251796722412,
          0.5239201188087463,
          0.5003429055213928,
          0.4850749373435974,
          0.46657755970954895,
          0.45301714539527893,
          0.44574394822120667,
          0.4434862732887268,
          0.43982821702957153,
          0.4382421374320984,
          0.4428004026412964,
          0.4498235285282135,
          0.4610976576805115,
          0.4712144434452057,
          0.4884186089038849,
          0.5082162618637085
         ],
         "z": [
          0.40834948420524597,
          0.4057333469390869,
          0.3930266499519348,
          0.3676200807094574,
          0.330477774143219,
          0.28292134404182434,
          0.22785687446594238,
          0.16567209362983704,
          0.10046321153640747,
          0.037132181227207184,
          0.04551338776946068,
          0.0685768723487854,
          0.09543988853693008,
          0.12678007781505585,
          0.16203778982162476,
          0.19846197962760925,
          0.2379203885793686,
          0.2772001326084137,
          0.3154752254486084,
          0.3512150049209595
         ]
        },
        {
         "line": {
          "color": "red",
          "width": 3
         },
         "mode": "lines",
         "name": "Rec",
         "type": "scatter3d",
         "x": [
          0.15419377386569977,
          0.16070300340652466,
          0.14930349588394165,
          0.13491100072860718,
          0.11035191267728806,
          0.08239167183637619,
          0.061716075986623764,
          0.04301578551530838,
          0.02935824543237686,
          0.033455148339271545,
          0.03204674273729324,
          0.029073011130094528,
          0.030266165733337402,
          0.030686840415000916,
          0.0349060595035553,
          0.04604744538664818,
          0.06212220340967178,
          0.08287055790424347,
          0.10346108675003052,
          0.12476707249879837
         ],
         "y": [
          0.5267249941825867,
          0.536952018737793,
          0.5334120392799377,
          0.5322155356407166,
          0.5280874967575073,
          0.515890896320343,
          0.5056049823760986,
          0.48763081431388855,
          0.47138524055480957,
          0.4572564959526062,
          0.4442470371723175,
          0.43421265482902527,
          0.43047258257865906,
          0.4272564649581909,
          0.43363186717033386,
          0.44193872809410095,
          0.45803773403167725,
          0.4707988500595093,
          0.48049864172935486,
          0.4988604784011841
         ],
         "z": [
          0.4041084349155426,
          0.41145896911621094,
          0.40018853545188904,
          0.3802188038825989,
          0.3506169021129608,
          0.2916746735572815,
          0.23163354396820068,
          0.1707216501235962,
          0.10518842935562134,
          0.044768624007701874,
          0.05543603003025055,
          0.07843315601348877,
          0.10754740238189697,
          0.13565708696842194,
          0.16322197020053864,
          0.1973046064376831,
          0.24398720264434814,
          0.28093987703323364,
          0.31518790125846863,
          0.3402861952781677
         ]
        },
        {
         "line": {
          "color": "blue",
          "width": 3
         },
         "mode": "lines",
         "name": "Gen",
         "type": "scatter3d",
         "x": [
          0.1442834585905075,
          0.15415087342262268,
          0.14571420848369598,
          0.12897664308547974,
          0.10450277477502823,
          0.07704297453165054,
          0.061797063797712326,
          0.045125871896743774,
          0.03228124976158142,
          0.032968245446681976,
          0.029091637581586838,
          0.031135357916355133,
          0.02853114902973175,
          0.027620702981948853,
          0.029400959610939026,
          0.03991107642650604,
          0.05046461522579193,
          0.07180428504943848,
          0.0871485024690628,
          0.1071367934346199
         ],
         "y": [
          0.5623188614845276,
          0.5615141987800598,
          0.5563434958457947,
          0.5501558780670166,
          0.5418853163719177,
          0.5273711085319519,
          0.5133687257766724,
          0.4959211051464081,
          0.4752534031867981,
          0.45350441336631775,
          0.4454757869243622,
          0.43805447220802307,
          0.4318610727787018,
          0.4265579879283905,
          0.4317164719104767,
          0.4394485056400299,
          0.4514777958393097,
          0.46184277534484863,
          0.4761289656162262,
          0.5008639097213745
         ],
         "z": [
          0.3791578412055969,
          0.391475111246109,
          0.3797782361507416,
          0.3643122911453247,
          0.3333146274089813,
          0.2741202116012573,
          0.2157600075006485,
          0.160232812166214,
          0.10090910643339157,
          0.03969884663820267,
          0.05146413296461105,
          0.06818167120218277,
          0.09823784232139587,
          0.12873002886772156,
          0.15989136695861816,
          0.193955659866333,
          0.23680198192596436,
          0.2732038199901581,
          0.3092299997806549,
          0.33964237570762634
         ]
        }
       ],
       "layout": {
        "coloraxis": {
         "showscale": false
        },
        "font": {
         "color": "white",
         "family": "Roboto, monospace",
         "size": 12
        },
        "height": 500,
        "margin": {
         "b": 50,
         "l": 5,
         "r": 5,
         "t": 50
        },
        "scene": {
         "aspectratio": {
          "x": 1,
          "y": 1,
          "z": 1
         },
         "camera": {
          "eye": {
           "x": -1.5,
           "y": 1.5,
           "z": 1.5
          },
          "up": {
           "x": 0,
           "y": 0,
           "z": 1
          }
         }
        },
        "showlegend": true,
        "template": {
         "data": {
          "bar": [
           {
            "error_x": {
             "color": "#f2f5fa"
            },
            "error_y": {
             "color": "#f2f5fa"
            },
            "marker": {
             "line": {
              "color": "rgb(17,17,17)",
              "width": 0.5
             },
             "pattern": {
              "fillmode": "overlay",
              "size": 10,
              "solidity": 0.2
             }
            },
            "type": "bar"
           }
          ],
          "barpolar": [
           {
            "marker": {
             "line": {
              "color": "rgb(17,17,17)",
              "width": 0.5
             },
             "pattern": {
              "fillmode": "overlay",
              "size": 10,
              "solidity": 0.2
             }
            },
            "type": "barpolar"
           }
          ],
          "carpet": [
           {
            "aaxis": {
             "endlinecolor": "#A2B1C6",
             "gridcolor": "#506784",
             "linecolor": "#506784",
             "minorgridcolor": "#506784",
             "startlinecolor": "#A2B1C6"
            },
            "baxis": {
             "endlinecolor": "#A2B1C6",
             "gridcolor": "#506784",
             "linecolor": "#506784",
             "minorgridcolor": "#506784",
             "startlinecolor": "#A2B1C6"
            },
            "type": "carpet"
           }
          ],
          "choropleth": [
           {
            "colorbar": {
             "outlinewidth": 0,
             "ticks": ""
            },
            "type": "choropleth"
           }
          ],
          "contour": [
           {
            "colorbar": {
             "outlinewidth": 0,
             "ticks": ""
            },
            "colorscale": [
             [
              0,
              "#0d0887"
             ],
             [
              0.1111111111111111,
              "#46039f"
             ],
             [
              0.2222222222222222,
              "#7201a8"
             ],
             [
              0.3333333333333333,
              "#9c179e"
             ],
             [
              0.4444444444444444,
              "#bd3786"
             ],
             [
              0.5555555555555556,
              "#d8576b"
             ],
             [
              0.6666666666666666,
              "#ed7953"
             ],
             [
              0.7777777777777778,
              "#fb9f3a"
             ],
             [
              0.8888888888888888,
              "#fdca26"
             ],
             [
              1,
              "#f0f921"
             ]
            ],
            "type": "contour"
           }
          ],
          "contourcarpet": [
           {
            "colorbar": {
             "outlinewidth": 0,
             "ticks": ""
            },
            "type": "contourcarpet"
           }
          ],
          "heatmap": [
           {
            "colorbar": {
             "outlinewidth": 0,
             "ticks": ""
            },
            "colorscale": [
             [
              0,
              "#0d0887"
             ],
             [
              0.1111111111111111,
              "#46039f"
             ],
             [
              0.2222222222222222,
              "#7201a8"
             ],
             [
              0.3333333333333333,
              "#9c179e"
             ],
             [
              0.4444444444444444,
              "#bd3786"
             ],
             [
              0.5555555555555556,
              "#d8576b"
             ],
             [
              0.6666666666666666,
              "#ed7953"
             ],
             [
              0.7777777777777778,
              "#fb9f3a"
             ],
             [
              0.8888888888888888,
              "#fdca26"
             ],
             [
              1,
              "#f0f921"
             ]
            ],
            "type": "heatmap"
           }
          ],
          "heatmapgl": [
           {
            "colorbar": {
             "outlinewidth": 0,
             "ticks": ""
            },
            "colorscale": [
             [
              0,
              "#0d0887"
             ],
             [
              0.1111111111111111,
              "#46039f"
             ],
             [
              0.2222222222222222,
              "#7201a8"
             ],
             [
              0.3333333333333333,
              "#9c179e"
             ],
             [
              0.4444444444444444,
              "#bd3786"
             ],
             [
              0.5555555555555556,
              "#d8576b"
             ],
             [
              0.6666666666666666,
              "#ed7953"
             ],
             [
              0.7777777777777778,
              "#fb9f3a"
             ],
             [
              0.8888888888888888,
              "#fdca26"
             ],
             [
              1,
              "#f0f921"
             ]
            ],
            "type": "heatmapgl"
           }
          ],
          "histogram": [
           {
            "marker": {
             "pattern": {
              "fillmode": "overlay",
              "size": 10,
              "solidity": 0.2
             }
            },
            "type": "histogram"
           }
          ],
          "histogram2d": [
           {
            "colorbar": {
             "outlinewidth": 0,
             "ticks": ""
            },
            "colorscale": [
             [
              0,
              "#0d0887"
             ],
             [
              0.1111111111111111,
              "#46039f"
             ],
             [
              0.2222222222222222,
              "#7201a8"
             ],
             [
              0.3333333333333333,
              "#9c179e"
             ],
             [
              0.4444444444444444,
              "#bd3786"
             ],
             [
              0.5555555555555556,
              "#d8576b"
             ],
             [
              0.6666666666666666,
              "#ed7953"
             ],
             [
              0.7777777777777778,
              "#fb9f3a"
             ],
             [
              0.8888888888888888,
              "#fdca26"
             ],
             [
              1,
              "#f0f921"
             ]
            ],
            "type": "histogram2d"
           }
          ],
          "histogram2dcontour": [
           {
            "colorbar": {
             "outlinewidth": 0,
             "ticks": ""
            },
            "colorscale": [
             [
              0,
              "#0d0887"
             ],
             [
              0.1111111111111111,
              "#46039f"
             ],
             [
              0.2222222222222222,
              "#7201a8"
             ],
             [
              0.3333333333333333,
              "#9c179e"
             ],
             [
              0.4444444444444444,
              "#bd3786"
             ],
             [
              0.5555555555555556,
              "#d8576b"
             ],
             [
              0.6666666666666666,
              "#ed7953"
             ],
             [
              0.7777777777777778,
              "#fb9f3a"
             ],
             [
              0.8888888888888888,
              "#fdca26"
             ],
             [
              1,
              "#f0f921"
             ]
            ],
            "type": "histogram2dcontour"
           }
          ],
          "mesh3d": [
           {
            "colorbar": {
             "outlinewidth": 0,
             "ticks": ""
            },
            "type": "mesh3d"
           }
          ],
          "parcoords": [
           {
            "line": {
             "colorbar": {
              "outlinewidth": 0,
              "ticks": ""
             }
            },
            "type": "parcoords"
           }
          ],
          "pie": [
           {
            "automargin": true,
            "type": "pie"
           }
          ],
          "scatter": [
           {
            "marker": {
             "line": {
              "color": "#283442"
             }
            },
            "type": "scatter"
           }
          ],
          "scatter3d": [
           {
            "line": {
             "colorbar": {
              "outlinewidth": 0,
              "ticks": ""
             }
            },
            "marker": {
             "colorbar": {
              "outlinewidth": 0,
              "ticks": ""
             }
            },
            "type": "scatter3d"
           }
          ],
          "scattercarpet": [
           {
            "marker": {
             "colorbar": {
              "outlinewidth": 0,
              "ticks": ""
             }
            },
            "type": "scattercarpet"
           }
          ],
          "scattergeo": [
           {
            "marker": {
             "colorbar": {
              "outlinewidth": 0,
              "ticks": ""
             }
            },
            "type": "scattergeo"
           }
          ],
          "scattergl": [
           {
            "marker": {
             "line": {
              "color": "#283442"
             }
            },
            "type": "scattergl"
           }
          ],
          "scattermapbox": [
           {
            "marker": {
             "colorbar": {
              "outlinewidth": 0,
              "ticks": ""
             }
            },
            "type": "scattermapbox"
           }
          ],
          "scatterpolar": [
           {
            "marker": {
             "colorbar": {
              "outlinewidth": 0,
              "ticks": ""
             }
            },
            "type": "scatterpolar"
           }
          ],
          "scatterpolargl": [
           {
            "marker": {
             "colorbar": {
              "outlinewidth": 0,
              "ticks": ""
             }
            },
            "type": "scatterpolargl"
           }
          ],
          "scatterternary": [
           {
            "marker": {
             "colorbar": {
              "outlinewidth": 0,
              "ticks": ""
             }
            },
            "type": "scatterternary"
           }
          ],
          "surface": [
           {
            "colorbar": {
             "outlinewidth": 0,
             "ticks": ""
            },
            "colorscale": [
             [
              0,
              "#0d0887"
             ],
             [
              0.1111111111111111,
              "#46039f"
             ],
             [
              0.2222222222222222,
              "#7201a8"
             ],
             [
              0.3333333333333333,
              "#9c179e"
             ],
             [
              0.4444444444444444,
              "#bd3786"
             ],
             [
              0.5555555555555556,
              "#d8576b"
             ],
             [
              0.6666666666666666,
              "#ed7953"
             ],
             [
              0.7777777777777778,
              "#fb9f3a"
             ],
             [
              0.8888888888888888,
              "#fdca26"
             ],
             [
              1,
              "#f0f921"
             ]
            ],
            "type": "surface"
           }
          ],
          "table": [
           {
            "cells": {
             "fill": {
              "color": "#506784"
             },
             "line": {
              "color": "rgb(17,17,17)"
             }
            },
            "header": {
             "fill": {
              "color": "#2a3f5f"
             },
             "line": {
              "color": "rgb(17,17,17)"
             }
            },
            "type": "table"
           }
          ]
         },
         "layout": {
          "annotationdefaults": {
           "arrowcolor": "#f2f5fa",
           "arrowhead": 0,
           "arrowwidth": 1
          },
          "autotypenumbers": "strict",
          "coloraxis": {
           "colorbar": {
            "outlinewidth": 0,
            "ticks": ""
           }
          },
          "colorscale": {
           "diverging": [
            [
             0,
             "#8e0152"
            ],
            [
             0.1,
             "#c51b7d"
            ],
            [
             0.2,
             "#de77ae"
            ],
            [
             0.3,
             "#f1b6da"
            ],
            [
             0.4,
             "#fde0ef"
            ],
            [
             0.5,
             "#f7f7f7"
            ],
            [
             0.6,
             "#e6f5d0"
            ],
            [
             0.7,
             "#b8e186"
            ],
            [
             0.8,
             "#7fbc41"
            ],
            [
             0.9,
             "#4d9221"
            ],
            [
             1,
             "#276419"
            ]
           ],
           "sequential": [
            [
             0,
             "#0d0887"
            ],
            [
             0.1111111111111111,
             "#46039f"
            ],
            [
             0.2222222222222222,
             "#7201a8"
            ],
            [
             0.3333333333333333,
             "#9c179e"
            ],
            [
             0.4444444444444444,
             "#bd3786"
            ],
            [
             0.5555555555555556,
             "#d8576b"
            ],
            [
             0.6666666666666666,
             "#ed7953"
            ],
            [
             0.7777777777777778,
             "#fb9f3a"
            ],
            [
             0.8888888888888888,
             "#fdca26"
            ],
            [
             1,
             "#f0f921"
            ]
           ],
           "sequentialminus": [
            [
             0,
             "#0d0887"
            ],
            [
             0.1111111111111111,
             "#46039f"
            ],
            [
             0.2222222222222222,
             "#7201a8"
            ],
            [
             0.3333333333333333,
             "#9c179e"
            ],
            [
             0.4444444444444444,
             "#bd3786"
            ],
            [
             0.5555555555555556,
             "#d8576b"
            ],
            [
             0.6666666666666666,
             "#ed7953"
            ],
            [
             0.7777777777777778,
             "#fb9f3a"
            ],
            [
             0.8888888888888888,
             "#fdca26"
            ],
            [
             1,
             "#f0f921"
            ]
           ]
          },
          "colorway": [
           "#636efa",
           "#EF553B",
           "#00cc96",
           "#ab63fa",
           "#FFA15A",
           "#19d3f3",
           "#FF6692",
           "#B6E880",
           "#FF97FF",
           "#FECB52"
          ],
          "font": {
           "color": "#f2f5fa"
          },
          "geo": {
           "bgcolor": "rgb(17,17,17)",
           "lakecolor": "rgb(17,17,17)",
           "landcolor": "rgb(17,17,17)",
           "showlakes": true,
           "showland": true,
           "subunitcolor": "#506784"
          },
          "hoverlabel": {
           "align": "left"
          },
          "hovermode": "closest",
          "mapbox": {
           "style": "dark"
          },
          "paper_bgcolor": "rgb(17,17,17)",
          "plot_bgcolor": "rgb(17,17,17)",
          "polar": {
           "angularaxis": {
            "gridcolor": "#506784",
            "linecolor": "#506784",
            "ticks": ""
           },
           "bgcolor": "rgb(17,17,17)",
           "radialaxis": {
            "gridcolor": "#506784",
            "linecolor": "#506784",
            "ticks": ""
           }
          },
          "scene": {
           "xaxis": {
            "backgroundcolor": "rgb(17,17,17)",
            "gridcolor": "#506784",
            "gridwidth": 2,
            "linecolor": "#506784",
            "showbackground": true,
            "ticks": "",
            "zerolinecolor": "#C8D4E3"
           },
           "yaxis": {
            "backgroundcolor": "rgb(17,17,17)",
            "gridcolor": "#506784",
            "gridwidth": 2,
            "linecolor": "#506784",
            "showbackground": true,
            "ticks": "",
            "zerolinecolor": "#C8D4E3"
           },
           "zaxis": {
            "backgroundcolor": "rgb(17,17,17)",
            "gridcolor": "#506784",
            "gridwidth": 2,
            "linecolor": "#506784",
            "showbackground": true,
            "ticks": "",
            "zerolinecolor": "#C8D4E3"
           }
          },
          "shapedefaults": {
           "line": {
            "color": "#f2f5fa"
           }
          },
          "sliderdefaults": {
           "bgcolor": "#C8D4E3",
           "bordercolor": "rgb(17,17,17)",
           "borderwidth": 1,
           "tickwidth": 0
          },
          "ternary": {
           "aaxis": {
            "gridcolor": "#506784",
            "linecolor": "#506784",
            "ticks": ""
           },
           "baxis": {
            "gridcolor": "#506784",
            "linecolor": "#506784",
            "ticks": ""
           },
           "bgcolor": "rgb(17,17,17)",
           "caxis": {
            "gridcolor": "#506784",
            "linecolor": "#506784",
            "ticks": ""
           }
          },
          "title": {
           "x": 0.05
          },
          "updatemenudefaults": {
           "bgcolor": "#506784",
           "borderwidth": 0
          },
          "xaxis": {
           "automargin": true,
           "gridcolor": "#283442",
           "linecolor": "#506784",
           "ticks": "",
           "title": {
            "standoff": 15
           },
           "zerolinecolor": "#283442",
           "zerolinewidth": 2
          },
          "yaxis": {
           "automargin": true,
           "gridcolor": "#283442",
           "linecolor": "#506784",
           "ticks": "",
           "title": {
            "standoff": 15
           },
           "zerolinecolor": "#283442",
           "zerolinewidth": 2
          }
         }
        },
        "title": {
         "text": "Generated Motion"
        },
        "xaxis": {
         "fixedrange": true,
         "showgrid": false,
         "showticklabels": false,
         "zeroline": false,
         "zerolinecolor": "gray",
         "zerolinewidth": 1
        },
        "yaxis": {
         "fixedrange": true,
         "scaleanchor": "x",
         "scaleratio": 1,
         "showgrid": false,
         "showticklabels": false,
         "zeroline": false,
         "zerolinecolor": "gray",
         "zerolinewidth": 1
        }
       }
      }
     },
     "metadata": {},
     "output_type": "display_data"
    }
   ],
   "source": [
    "sample_data= None\n",
    "sample_size = np.random.randint(0, 128)\n",
    "\n",
    "for d in model_config.train_iterator:\n",
    "    x_samples = d[model_config.data_item][sample_size:sample_size+1, :,:]\n",
    "    y_sampels = d['Y'][sample_size:sample_size+1, :,:] \n",
    "\n",
    "    z, __, __ = model.encoder(x_samples, y_sampels)\n",
    "\n",
    "    noise = torch.normal(mean=.1, std=.1, size = z.shape).to(model_config.device)\n",
    "    z = z + noise\n",
    "\n",
    "    x_generated = model.decoder(z , y_sampels)\n",
    "    x_rec,__, __ = model(x_samples, y_sampels)\n",
    "    show_generated_motions([x_samples, x_rec,x_generated])\n",
    "    break"
   ]
  },
  {
   "cell_type": "code",
   "execution_count": 57,
   "metadata": {},
   "outputs": [
    {
     "name": "stdout",
     "output_type": "stream",
     "text": [
      "90\n"
     ]
    },
    {
     "data": {
      "application/vnd.plotly.v1+json": {
       "config": {
        "plotlyServerURL": "https://plot.ly"
       },
       "data": [
        {
         "line": {
          "color": "white",
          "width": 3
         },
         "mode": "lines",
         "name": "Original",
         "type": "scatter3d",
         "x": [
          -0.005894000176340342,
          -0.0049760001711547375,
          -0.007222000043839216,
          -0.012125000357627869,
          -0.01862799935042858,
          -0.025608999654650688,
          -0.031633999198675156,
          -0.036215998232364655,
          -0.03829700127243996,
          -0.03838200122117996,
          -0.03898100182414055,
          -0.039413001388311386,
          -0.039305999875068665,
          -0.03854300081729889,
          -0.03715100139379501,
          -0.0351019985973835,
          -0.03246600180864334,
          -0.02887200005352497,
          -0.025348000228405,
          -0.021578000858426094
         ],
         "y": [
          0.02703999914228916,
          0.025682000443339348,
          0.024089999496936798,
          0.021693000569939613,
          0.018786000087857246,
          0.015305999666452408,
          0.012799999676644802,
          0.01050500012934208,
          0.0077760000713169575,
          0.005927000194787979,
          0.007071000058203936,
          0.009332999587059021,
          0.012346000410616398,
          0.015567000024020672,
          0.019711999222636223,
          0.02364799939095974,
          0.026906000450253487,
          0.027967000380158424,
          0.03002299927175045,
          0.02936200052499771
         ],
         "z": [
          0.1447180062532425,
          0.1459369957447052,
          0.14212599396705627,
          0.13346199691295624,
          0.12022600322961807,
          0.10408700257539749,
          0.08409799635410309,
          0.06293600052595139,
          0.04191499948501587,
          0.021734999492764473,
          0.025462999939918518,
          0.03410099819302559,
          0.04403100162744522,
          0.05463099852204323,
          0.06577300280332565,
          0.07703699916601181,
          0.08824200183153152,
          0.09943900257349014,
          0.10981100052595139,
          0.11901199817657471
         ]
        },
        {
         "line": {
          "color": "red",
          "width": 3
         },
         "mode": "lines",
         "name": "Rec",
         "type": "scatter3d",
         "x": [
          0.09706398099660873,
          0.07788899540901184,
          0.057735003530979156,
          0.03680200129747391,
          0.0159589983522892,
          -0.003740999847650528,
          -0.02110700123012066,
          -0.03322499990463257,
          -0.038930002599954605,
          -0.03838200122117996,
          -0.03747500106692314,
          -0.035756003111600876,
          -0.03339400142431259,
          -0.030173001810908318,
          -0.026426002383232117,
          -0.021775001659989357,
          -0.016652002930641174,
          -0.011347003281116486,
          -0.0058920010924339294,
          -0.0009130015969276428
         ],
         "y": [
          0.042160991579294205,
          0.038968998938798904,
          0.03547399863600731,
          0.03236499801278114,
          0.028869997709989548,
          0.02550799772143364,
          0.02046700194478035,
          0.015894997864961624,
          0.009872999042272568,
          0.005927000194787979,
          0.0060280002653598785,
          0.0064619965851306915,
          0.007699999958276749,
          0.009780000895261765,
          0.011701997369527817,
          0.014711003750562668,
          0.01592100039124489,
          0.01630100980401039,
          0.01659199967980385,
          0.015346001833677292
         ],
         "z": [
          0.2936199903488159,
          0.2767289876937866,
          0.2570900022983551,
          0.23366999626159668,
          0.20603498816490173,
          0.17365500330924988,
          0.13653400540351868,
          0.09571999311447144,
          0.05348599702119827,
          0.021734999492764473,
          0.028787998482584953,
          0.03699899837374687,
          0.046838000416755676,
          0.05736500024795532,
          0.06882499158382416,
          0.07969299703836441,
          0.09071799367666245,
          0.10094699263572693,
          0.10948299616575241,
          0.11749298870563507
         ]
        }
       ],
       "layout": {
        "coloraxis": {
         "showscale": false
        },
        "font": {
         "color": "white",
         "family": "Roboto, monospace",
         "size": 12
        },
        "height": 500,
        "margin": {
         "b": 50,
         "l": 5,
         "r": 5,
         "t": 50
        },
        "scene": {
         "aspectratio": {
          "x": 1,
          "y": 1,
          "z": 1
         },
         "camera": {
          "eye": {
           "x": -1.5,
           "y": 1.5,
           "z": 1.5
          },
          "up": {
           "x": 0,
           "y": 0,
           "z": 1
          }
         }
        },
        "showlegend": true,
        "template": {
         "data": {
          "bar": [
           {
            "error_x": {
             "color": "#f2f5fa"
            },
            "error_y": {
             "color": "#f2f5fa"
            },
            "marker": {
             "line": {
              "color": "rgb(17,17,17)",
              "width": 0.5
             },
             "pattern": {
              "fillmode": "overlay",
              "size": 10,
              "solidity": 0.2
             }
            },
            "type": "bar"
           }
          ],
          "barpolar": [
           {
            "marker": {
             "line": {
              "color": "rgb(17,17,17)",
              "width": 0.5
             },
             "pattern": {
              "fillmode": "overlay",
              "size": 10,
              "solidity": 0.2
             }
            },
            "type": "barpolar"
           }
          ],
          "carpet": [
           {
            "aaxis": {
             "endlinecolor": "#A2B1C6",
             "gridcolor": "#506784",
             "linecolor": "#506784",
             "minorgridcolor": "#506784",
             "startlinecolor": "#A2B1C6"
            },
            "baxis": {
             "endlinecolor": "#A2B1C6",
             "gridcolor": "#506784",
             "linecolor": "#506784",
             "minorgridcolor": "#506784",
             "startlinecolor": "#A2B1C6"
            },
            "type": "carpet"
           }
          ],
          "choropleth": [
           {
            "colorbar": {
             "outlinewidth": 0,
             "ticks": ""
            },
            "type": "choropleth"
           }
          ],
          "contour": [
           {
            "colorbar": {
             "outlinewidth": 0,
             "ticks": ""
            },
            "colorscale": [
             [
              0,
              "#0d0887"
             ],
             [
              0.1111111111111111,
              "#46039f"
             ],
             [
              0.2222222222222222,
              "#7201a8"
             ],
             [
              0.3333333333333333,
              "#9c179e"
             ],
             [
              0.4444444444444444,
              "#bd3786"
             ],
             [
              0.5555555555555556,
              "#d8576b"
             ],
             [
              0.6666666666666666,
              "#ed7953"
             ],
             [
              0.7777777777777778,
              "#fb9f3a"
             ],
             [
              0.8888888888888888,
              "#fdca26"
             ],
             [
              1,
              "#f0f921"
             ]
            ],
            "type": "contour"
           }
          ],
          "contourcarpet": [
           {
            "colorbar": {
             "outlinewidth": 0,
             "ticks": ""
            },
            "type": "contourcarpet"
           }
          ],
          "heatmap": [
           {
            "colorbar": {
             "outlinewidth": 0,
             "ticks": ""
            },
            "colorscale": [
             [
              0,
              "#0d0887"
             ],
             [
              0.1111111111111111,
              "#46039f"
             ],
             [
              0.2222222222222222,
              "#7201a8"
             ],
             [
              0.3333333333333333,
              "#9c179e"
             ],
             [
              0.4444444444444444,
              "#bd3786"
             ],
             [
              0.5555555555555556,
              "#d8576b"
             ],
             [
              0.6666666666666666,
              "#ed7953"
             ],
             [
              0.7777777777777778,
              "#fb9f3a"
             ],
             [
              0.8888888888888888,
              "#fdca26"
             ],
             [
              1,
              "#f0f921"
             ]
            ],
            "type": "heatmap"
           }
          ],
          "heatmapgl": [
           {
            "colorbar": {
             "outlinewidth": 0,
             "ticks": ""
            },
            "colorscale": [
             [
              0,
              "#0d0887"
             ],
             [
              0.1111111111111111,
              "#46039f"
             ],
             [
              0.2222222222222222,
              "#7201a8"
             ],
             [
              0.3333333333333333,
              "#9c179e"
             ],
             [
              0.4444444444444444,
              "#bd3786"
             ],
             [
              0.5555555555555556,
              "#d8576b"
             ],
             [
              0.6666666666666666,
              "#ed7953"
             ],
             [
              0.7777777777777778,
              "#fb9f3a"
             ],
             [
              0.8888888888888888,
              "#fdca26"
             ],
             [
              1,
              "#f0f921"
             ]
            ],
            "type": "heatmapgl"
           }
          ],
          "histogram": [
           {
            "marker": {
             "pattern": {
              "fillmode": "overlay",
              "size": 10,
              "solidity": 0.2
             }
            },
            "type": "histogram"
           }
          ],
          "histogram2d": [
           {
            "colorbar": {
             "outlinewidth": 0,
             "ticks": ""
            },
            "colorscale": [
             [
              0,
              "#0d0887"
             ],
             [
              0.1111111111111111,
              "#46039f"
             ],
             [
              0.2222222222222222,
              "#7201a8"
             ],
             [
              0.3333333333333333,
              "#9c179e"
             ],
             [
              0.4444444444444444,
              "#bd3786"
             ],
             [
              0.5555555555555556,
              "#d8576b"
             ],
             [
              0.6666666666666666,
              "#ed7953"
             ],
             [
              0.7777777777777778,
              "#fb9f3a"
             ],
             [
              0.8888888888888888,
              "#fdca26"
             ],
             [
              1,
              "#f0f921"
             ]
            ],
            "type": "histogram2d"
           }
          ],
          "histogram2dcontour": [
           {
            "colorbar": {
             "outlinewidth": 0,
             "ticks": ""
            },
            "colorscale": [
             [
              0,
              "#0d0887"
             ],
             [
              0.1111111111111111,
              "#46039f"
             ],
             [
              0.2222222222222222,
              "#7201a8"
             ],
             [
              0.3333333333333333,
              "#9c179e"
             ],
             [
              0.4444444444444444,
              "#bd3786"
             ],
             [
              0.5555555555555556,
              "#d8576b"
             ],
             [
              0.6666666666666666,
              "#ed7953"
             ],
             [
              0.7777777777777778,
              "#fb9f3a"
             ],
             [
              0.8888888888888888,
              "#fdca26"
             ],
             [
              1,
              "#f0f921"
             ]
            ],
            "type": "histogram2dcontour"
           }
          ],
          "mesh3d": [
           {
            "colorbar": {
             "outlinewidth": 0,
             "ticks": ""
            },
            "type": "mesh3d"
           }
          ],
          "parcoords": [
           {
            "line": {
             "colorbar": {
              "outlinewidth": 0,
              "ticks": ""
             }
            },
            "type": "parcoords"
           }
          ],
          "pie": [
           {
            "automargin": true,
            "type": "pie"
           }
          ],
          "scatter": [
           {
            "marker": {
             "line": {
              "color": "#283442"
             }
            },
            "type": "scatter"
           }
          ],
          "scatter3d": [
           {
            "line": {
             "colorbar": {
              "outlinewidth": 0,
              "ticks": ""
             }
            },
            "marker": {
             "colorbar": {
              "outlinewidth": 0,
              "ticks": ""
             }
            },
            "type": "scatter3d"
           }
          ],
          "scattercarpet": [
           {
            "marker": {
             "colorbar": {
              "outlinewidth": 0,
              "ticks": ""
             }
            },
            "type": "scattercarpet"
           }
          ],
          "scattergeo": [
           {
            "marker": {
             "colorbar": {
              "outlinewidth": 0,
              "ticks": ""
             }
            },
            "type": "scattergeo"
           }
          ],
          "scattergl": [
           {
            "marker": {
             "line": {
              "color": "#283442"
             }
            },
            "type": "scattergl"
           }
          ],
          "scattermapbox": [
           {
            "marker": {
             "colorbar": {
              "outlinewidth": 0,
              "ticks": ""
             }
            },
            "type": "scattermapbox"
           }
          ],
          "scatterpolar": [
           {
            "marker": {
             "colorbar": {
              "outlinewidth": 0,
              "ticks": ""
             }
            },
            "type": "scatterpolar"
           }
          ],
          "scatterpolargl": [
           {
            "marker": {
             "colorbar": {
              "outlinewidth": 0,
              "ticks": ""
             }
            },
            "type": "scatterpolargl"
           }
          ],
          "scatterternary": [
           {
            "marker": {
             "colorbar": {
              "outlinewidth": 0,
              "ticks": ""
             }
            },
            "type": "scatterternary"
           }
          ],
          "surface": [
           {
            "colorbar": {
             "outlinewidth": 0,
             "ticks": ""
            },
            "colorscale": [
             [
              0,
              "#0d0887"
             ],
             [
              0.1111111111111111,
              "#46039f"
             ],
             [
              0.2222222222222222,
              "#7201a8"
             ],
             [
              0.3333333333333333,
              "#9c179e"
             ],
             [
              0.4444444444444444,
              "#bd3786"
             ],
             [
              0.5555555555555556,
              "#d8576b"
             ],
             [
              0.6666666666666666,
              "#ed7953"
             ],
             [
              0.7777777777777778,
              "#fb9f3a"
             ],
             [
              0.8888888888888888,
              "#fdca26"
             ],
             [
              1,
              "#f0f921"
             ]
            ],
            "type": "surface"
           }
          ],
          "table": [
           {
            "cells": {
             "fill": {
              "color": "#506784"
             },
             "line": {
              "color": "rgb(17,17,17)"
             }
            },
            "header": {
             "fill": {
              "color": "#2a3f5f"
             },
             "line": {
              "color": "rgb(17,17,17)"
             }
            },
            "type": "table"
           }
          ]
         },
         "layout": {
          "annotationdefaults": {
           "arrowcolor": "#f2f5fa",
           "arrowhead": 0,
           "arrowwidth": 1
          },
          "autotypenumbers": "strict",
          "coloraxis": {
           "colorbar": {
            "outlinewidth": 0,
            "ticks": ""
           }
          },
          "colorscale": {
           "diverging": [
            [
             0,
             "#8e0152"
            ],
            [
             0.1,
             "#c51b7d"
            ],
            [
             0.2,
             "#de77ae"
            ],
            [
             0.3,
             "#f1b6da"
            ],
            [
             0.4,
             "#fde0ef"
            ],
            [
             0.5,
             "#f7f7f7"
            ],
            [
             0.6,
             "#e6f5d0"
            ],
            [
             0.7,
             "#b8e186"
            ],
            [
             0.8,
             "#7fbc41"
            ],
            [
             0.9,
             "#4d9221"
            ],
            [
             1,
             "#276419"
            ]
           ],
           "sequential": [
            [
             0,
             "#0d0887"
            ],
            [
             0.1111111111111111,
             "#46039f"
            ],
            [
             0.2222222222222222,
             "#7201a8"
            ],
            [
             0.3333333333333333,
             "#9c179e"
            ],
            [
             0.4444444444444444,
             "#bd3786"
            ],
            [
             0.5555555555555556,
             "#d8576b"
            ],
            [
             0.6666666666666666,
             "#ed7953"
            ],
            [
             0.7777777777777778,
             "#fb9f3a"
            ],
            [
             0.8888888888888888,
             "#fdca26"
            ],
            [
             1,
             "#f0f921"
            ]
           ],
           "sequentialminus": [
            [
             0,
             "#0d0887"
            ],
            [
             0.1111111111111111,
             "#46039f"
            ],
            [
             0.2222222222222222,
             "#7201a8"
            ],
            [
             0.3333333333333333,
             "#9c179e"
            ],
            [
             0.4444444444444444,
             "#bd3786"
            ],
            [
             0.5555555555555556,
             "#d8576b"
            ],
            [
             0.6666666666666666,
             "#ed7953"
            ],
            [
             0.7777777777777778,
             "#fb9f3a"
            ],
            [
             0.8888888888888888,
             "#fdca26"
            ],
            [
             1,
             "#f0f921"
            ]
           ]
          },
          "colorway": [
           "#636efa",
           "#EF553B",
           "#00cc96",
           "#ab63fa",
           "#FFA15A",
           "#19d3f3",
           "#FF6692",
           "#B6E880",
           "#FF97FF",
           "#FECB52"
          ],
          "font": {
           "color": "#f2f5fa"
          },
          "geo": {
           "bgcolor": "rgb(17,17,17)",
           "lakecolor": "rgb(17,17,17)",
           "landcolor": "rgb(17,17,17)",
           "showlakes": true,
           "showland": true,
           "subunitcolor": "#506784"
          },
          "hoverlabel": {
           "align": "left"
          },
          "hovermode": "closest",
          "mapbox": {
           "style": "dark"
          },
          "paper_bgcolor": "rgb(17,17,17)",
          "plot_bgcolor": "rgb(17,17,17)",
          "polar": {
           "angularaxis": {
            "gridcolor": "#506784",
            "linecolor": "#506784",
            "ticks": ""
           },
           "bgcolor": "rgb(17,17,17)",
           "radialaxis": {
            "gridcolor": "#506784",
            "linecolor": "#506784",
            "ticks": ""
           }
          },
          "scene": {
           "xaxis": {
            "backgroundcolor": "rgb(17,17,17)",
            "gridcolor": "#506784",
            "gridwidth": 2,
            "linecolor": "#506784",
            "showbackground": true,
            "ticks": "",
            "zerolinecolor": "#C8D4E3"
           },
           "yaxis": {
            "backgroundcolor": "rgb(17,17,17)",
            "gridcolor": "#506784",
            "gridwidth": 2,
            "linecolor": "#506784",
            "showbackground": true,
            "ticks": "",
            "zerolinecolor": "#C8D4E3"
           },
           "zaxis": {
            "backgroundcolor": "rgb(17,17,17)",
            "gridcolor": "#506784",
            "gridwidth": 2,
            "linecolor": "#506784",
            "showbackground": true,
            "ticks": "",
            "zerolinecolor": "#C8D4E3"
           }
          },
          "shapedefaults": {
           "line": {
            "color": "#f2f5fa"
           }
          },
          "sliderdefaults": {
           "bgcolor": "#C8D4E3",
           "bordercolor": "rgb(17,17,17)",
           "borderwidth": 1,
           "tickwidth": 0
          },
          "ternary": {
           "aaxis": {
            "gridcolor": "#506784",
            "linecolor": "#506784",
            "ticks": ""
           },
           "baxis": {
            "gridcolor": "#506784",
            "linecolor": "#506784",
            "ticks": ""
           },
           "bgcolor": "rgb(17,17,17)",
           "caxis": {
            "gridcolor": "#506784",
            "linecolor": "#506784",
            "ticks": ""
           }
          },
          "title": {
           "x": 0.05
          },
          "updatemenudefaults": {
           "bgcolor": "#506784",
           "borderwidth": 0
          },
          "xaxis": {
           "automargin": true,
           "gridcolor": "#283442",
           "linecolor": "#506784",
           "ticks": "",
           "title": {
            "standoff": 15
           },
           "zerolinecolor": "#283442",
           "zerolinewidth": 2
          },
          "yaxis": {
           "automargin": true,
           "gridcolor": "#283442",
           "linecolor": "#506784",
           "ticks": "",
           "title": {
            "standoff": 15
           },
           "zerolinecolor": "#283442",
           "zerolinewidth": 2
          }
         }
        },
        "title": {
         "text": "Generated Motion"
        },
        "xaxis": {
         "fixedrange": true,
         "showgrid": false,
         "showticklabels": false,
         "zeroline": false,
         "zerolinecolor": "gray",
         "zerolinewidth": 1
        },
        "yaxis": {
         "fixedrange": true,
         "scaleanchor": "x",
         "scaleratio": 1,
         "showgrid": false,
         "showticklabels": false,
         "zeroline": false,
         "zerolinecolor": "gray",
         "zerolinewidth": 1
        }
       }
      }
     },
     "metadata": {},
     "output_type": "display_data"
    }
   ],
   "source": [
    "sample_data= None\n",
    "sample_size = np.random.randint(0, 128)\n",
    "print(sample_size)\n",
    "\n",
    "for d in model_config.train_iterator:\n",
    "    x_samples = d[model_config.data_item][sample_size:sample_size+1, :,:]\n",
    "    y_sampels = d['Y'][sample_size:sample_size+1, :,:] \n",
    "    \n",
    "    min_val = d[\"centered_min_val\"][sample_size:sample_size+1,:].view(1, 1, 9)\n",
    "    max_val = d[\"centered_max_val\"][sample_size:sample_size+1,:].view(1, 1, 9)\n",
    "    \n",
    "    x_samples = (x_samples*(max_val-min_val)) + min_val\n",
    "    \n",
    "    center_points = torch.zeros_like(d['X'][:, 0:1, :])\n",
    "    center_points[:, 0, :3] = d['X'][:, 9, :3]       \n",
    "    x_samples = x_samples+ center_points\n",
    "    \n",
    "    show_generated_motions([d[\"X\"], x_samples])\n",
    "    \n",
    "    break\n"
   ]
  },
  {
   "cell_type": "code",
   "execution_count": 58,
   "metadata": {},
   "outputs": [
    {
     "name": "stdout",
     "output_type": "stream",
     "text": [
      "tensor(True, device='cuda:0')\n",
      "tensor(True, device='cuda:0')\n"
     ]
    }
   ],
   "source": [
    "for d in model_config.train_iterator:\n",
    "    X = d[\"X\"]\n",
    "    min_val, max_val = get_min_max_from_dataset(X)\n",
    "        \n",
    "    X_scaled = torch.zeros_like(X)\n",
    "    X_centered = torch.zeros_like(X)\n",
    "    X_centered_scaled = torch.zeros_like(X)\n",
    "\n",
    "    # # finding the touching point of each motion and centering the motion on that\n",
    "    center_points = torch.zeros_like(X[:, 0:1, :])        \n",
    "    center_points[:, 0, :3] = X[:, 9, :3]\n",
    "    X_centered =  X - center_points\n",
    "\n",
    "    # # scaling data between 0 and 1\n",
    "    X_scaled =(X - min_val) / (max_val - min_val)\n",
    "    \n",
    "    print (torch.sum(X -(X_scaled*(max_val - min_val)+min_val)) < 0.001)\n",
    "    \n",
    "    # # scaling the centered data between 0 and 1\n",
    "    centered_min_val, centered_max_val = get_min_max_from_dataset(X_centered)\n",
    "    \n",
    "    X_centered_scaled = (X_centered - centered_min_val) / (centered_max_val - centered_min_val)\n",
    "    X_back_to_orig = (X_centered_scaled*(centered_max_val - centered_min_val)+centered_min_val)+center_points\n",
    "    print (torch.sum(X -X_back_to_orig) < 0.001)\n",
    "    break"
   ]
  },
  {
   "cell_type": "code",
   "execution_count": 59,
   "metadata": {},
   "outputs": [
    {
     "name": "stdout",
     "output_type": "stream",
     "text": [
      "torch.Size([128, 20, 9])\n",
      "tensor(True, device='cuda:0')\n"
     ]
    },
    {
     "data": {
      "application/vnd.plotly.v1+json": {
       "config": {
        "plotlyServerURL": "https://plot.ly"
       },
       "data": [
        {
         "line": {
          "color": "white",
          "width": 3
         },
         "mode": "lines",
         "name": "Original",
         "type": "scatter3d",
         "x": [
          0.006012999918311834,
          0.006806999910622835,
          0.00418699998408556,
          -0.001576000009663403,
          -0.009743000380694866,
          -0.01876099966466427,
          -0.026993999257683754,
          -0.03349500149488449,
          -0.03717999905347824,
          -0.03781399875879288,
          -0.03850200027227402,
          -0.03871599957346916,
          -0.03809700161218643,
          -0.03677299991250038,
          -0.034696001559495926,
          -0.03172700107097626,
          -0.028018999844789505,
          -0.023605000227689743,
          -0.018330000340938568,
          -0.012462000362575054
         ],
         "y": [
          0.0193099994212389,
          0.017170999199151993,
          0.015166999772191048,
          0.013694999739527702,
          0.011966999620199203,
          0.010342000052332878,
          0.008747000247240067,
          0.00712599977850914,
          0.005272999871522188,
          0.0032770000398159027,
          0.004098000004887581,
          0.006095999851822853,
          0.008158000186085701,
          0.010598000138998032,
          0.013206999748945236,
          0.015823999419808388,
          0.01868000067770481,
          0.01906299963593483,
          0.020169999450445175,
          0.02007799968123436
         ],
         "z": [
          0.15832899510860443,
          0.1594499945640564,
          0.15561500191688538,
          0.1466190069913864,
          0.1327420026063919,
          0.11506299674510956,
          0.09325999766588211,
          0.06898000091314316,
          0.04387199878692627,
          0.020138999447226524,
          0.02687999978661537,
          0.03662500157952309,
          0.04693000018596649,
          0.05775199830532074,
          0.06893900036811829,
          0.0807730033993721,
          0.09282000362873077,
          0.10488499701023102,
          0.11733400076627731,
          0.12765300273895264
         ]
        },
        {
         "line": {
          "color": "red",
          "width": 3
         },
         "mode": "lines",
         "name": "Rec",
         "type": "scatter3d",
         "x": [
          0.006012994796037674,
          0.006806999444961548,
          0.004186995327472687,
          -0.0015759989619255066,
          -0.00974300131201744,
          -0.01876099966466427,
          -0.026993999257683754,
          -0.03349500149488449,
          -0.03717999905347824,
          -0.03781399875879288,
          -0.03850200027227402,
          -0.03871599957346916,
          -0.03809700161218643,
          -0.03677299991250038,
          -0.034696001559495926,
          -0.03172700107097626,
          -0.028018999844789505,
          -0.023605000227689743,
          -0.018330000340938568,
          -0.012462001293897629
         ],
         "y": [
          0.01931000128388405,
          0.017170999199151993,
          0.015167001634836197,
          0.013694997876882553,
          0.011966999620199203,
          0.010341998189687729,
          0.008747000247240067,
          0.00712599977850914,
          0.005273003131151199,
          0.0032770000398159027,
          0.00409800186753273,
          0.006096001714468002,
          0.00815800204873085,
          0.010598000138998032,
          0.013206999748945236,
          0.015824001282453537,
          0.01868000254034996,
          0.01906299963593483,
          0.020169999450445175,
          0.02007799968123436
         ],
         "z": [
          0.15832899510860443,
          0.1594499945640564,
          0.15561500191688538,
          0.1466190069913864,
          0.1327420026063919,
          0.11506299674510956,
          0.09325999766588211,
          0.06898000091314316,
          0.04387199878692627,
          0.020138999447226524,
          0.02687999978661537,
          0.03662500157952309,
          0.04693000018596649,
          0.05775199830532074,
          0.06893900036811829,
          0.0807730033993721,
          0.09282000362873077,
          0.10488499701023102,
          0.11733400076627731,
          0.12765300273895264
         ]
        }
       ],
       "layout": {
        "coloraxis": {
         "showscale": false
        },
        "font": {
         "color": "white",
         "family": "Roboto, monospace",
         "size": 12
        },
        "height": 500,
        "margin": {
         "b": 50,
         "l": 5,
         "r": 5,
         "t": 50
        },
        "scene": {
         "aspectratio": {
          "x": 1,
          "y": 1,
          "z": 1
         },
         "camera": {
          "eye": {
           "x": -1.5,
           "y": 1.5,
           "z": 1.5
          },
          "up": {
           "x": 0,
           "y": 0,
           "z": 1
          }
         }
        },
        "showlegend": true,
        "template": {
         "data": {
          "bar": [
           {
            "error_x": {
             "color": "#f2f5fa"
            },
            "error_y": {
             "color": "#f2f5fa"
            },
            "marker": {
             "line": {
              "color": "rgb(17,17,17)",
              "width": 0.5
             },
             "pattern": {
              "fillmode": "overlay",
              "size": 10,
              "solidity": 0.2
             }
            },
            "type": "bar"
           }
          ],
          "barpolar": [
           {
            "marker": {
             "line": {
              "color": "rgb(17,17,17)",
              "width": 0.5
             },
             "pattern": {
              "fillmode": "overlay",
              "size": 10,
              "solidity": 0.2
             }
            },
            "type": "barpolar"
           }
          ],
          "carpet": [
           {
            "aaxis": {
             "endlinecolor": "#A2B1C6",
             "gridcolor": "#506784",
             "linecolor": "#506784",
             "minorgridcolor": "#506784",
             "startlinecolor": "#A2B1C6"
            },
            "baxis": {
             "endlinecolor": "#A2B1C6",
             "gridcolor": "#506784",
             "linecolor": "#506784",
             "minorgridcolor": "#506784",
             "startlinecolor": "#A2B1C6"
            },
            "type": "carpet"
           }
          ],
          "choropleth": [
           {
            "colorbar": {
             "outlinewidth": 0,
             "ticks": ""
            },
            "type": "choropleth"
           }
          ],
          "contour": [
           {
            "colorbar": {
             "outlinewidth": 0,
             "ticks": ""
            },
            "colorscale": [
             [
              0,
              "#0d0887"
             ],
             [
              0.1111111111111111,
              "#46039f"
             ],
             [
              0.2222222222222222,
              "#7201a8"
             ],
             [
              0.3333333333333333,
              "#9c179e"
             ],
             [
              0.4444444444444444,
              "#bd3786"
             ],
             [
              0.5555555555555556,
              "#d8576b"
             ],
             [
              0.6666666666666666,
              "#ed7953"
             ],
             [
              0.7777777777777778,
              "#fb9f3a"
             ],
             [
              0.8888888888888888,
              "#fdca26"
             ],
             [
              1,
              "#f0f921"
             ]
            ],
            "type": "contour"
           }
          ],
          "contourcarpet": [
           {
            "colorbar": {
             "outlinewidth": 0,
             "ticks": ""
            },
            "type": "contourcarpet"
           }
          ],
          "heatmap": [
           {
            "colorbar": {
             "outlinewidth": 0,
             "ticks": ""
            },
            "colorscale": [
             [
              0,
              "#0d0887"
             ],
             [
              0.1111111111111111,
              "#46039f"
             ],
             [
              0.2222222222222222,
              "#7201a8"
             ],
             [
              0.3333333333333333,
              "#9c179e"
             ],
             [
              0.4444444444444444,
              "#bd3786"
             ],
             [
              0.5555555555555556,
              "#d8576b"
             ],
             [
              0.6666666666666666,
              "#ed7953"
             ],
             [
              0.7777777777777778,
              "#fb9f3a"
             ],
             [
              0.8888888888888888,
              "#fdca26"
             ],
             [
              1,
              "#f0f921"
             ]
            ],
            "type": "heatmap"
           }
          ],
          "heatmapgl": [
           {
            "colorbar": {
             "outlinewidth": 0,
             "ticks": ""
            },
            "colorscale": [
             [
              0,
              "#0d0887"
             ],
             [
              0.1111111111111111,
              "#46039f"
             ],
             [
              0.2222222222222222,
              "#7201a8"
             ],
             [
              0.3333333333333333,
              "#9c179e"
             ],
             [
              0.4444444444444444,
              "#bd3786"
             ],
             [
              0.5555555555555556,
              "#d8576b"
             ],
             [
              0.6666666666666666,
              "#ed7953"
             ],
             [
              0.7777777777777778,
              "#fb9f3a"
             ],
             [
              0.8888888888888888,
              "#fdca26"
             ],
             [
              1,
              "#f0f921"
             ]
            ],
            "type": "heatmapgl"
           }
          ],
          "histogram": [
           {
            "marker": {
             "pattern": {
              "fillmode": "overlay",
              "size": 10,
              "solidity": 0.2
             }
            },
            "type": "histogram"
           }
          ],
          "histogram2d": [
           {
            "colorbar": {
             "outlinewidth": 0,
             "ticks": ""
            },
            "colorscale": [
             [
              0,
              "#0d0887"
             ],
             [
              0.1111111111111111,
              "#46039f"
             ],
             [
              0.2222222222222222,
              "#7201a8"
             ],
             [
              0.3333333333333333,
              "#9c179e"
             ],
             [
              0.4444444444444444,
              "#bd3786"
             ],
             [
              0.5555555555555556,
              "#d8576b"
             ],
             [
              0.6666666666666666,
              "#ed7953"
             ],
             [
              0.7777777777777778,
              "#fb9f3a"
             ],
             [
              0.8888888888888888,
              "#fdca26"
             ],
             [
              1,
              "#f0f921"
             ]
            ],
            "type": "histogram2d"
           }
          ],
          "histogram2dcontour": [
           {
            "colorbar": {
             "outlinewidth": 0,
             "ticks": ""
            },
            "colorscale": [
             [
              0,
              "#0d0887"
             ],
             [
              0.1111111111111111,
              "#46039f"
             ],
             [
              0.2222222222222222,
              "#7201a8"
             ],
             [
              0.3333333333333333,
              "#9c179e"
             ],
             [
              0.4444444444444444,
              "#bd3786"
             ],
             [
              0.5555555555555556,
              "#d8576b"
             ],
             [
              0.6666666666666666,
              "#ed7953"
             ],
             [
              0.7777777777777778,
              "#fb9f3a"
             ],
             [
              0.8888888888888888,
              "#fdca26"
             ],
             [
              1,
              "#f0f921"
             ]
            ],
            "type": "histogram2dcontour"
           }
          ],
          "mesh3d": [
           {
            "colorbar": {
             "outlinewidth": 0,
             "ticks": ""
            },
            "type": "mesh3d"
           }
          ],
          "parcoords": [
           {
            "line": {
             "colorbar": {
              "outlinewidth": 0,
              "ticks": ""
             }
            },
            "type": "parcoords"
           }
          ],
          "pie": [
           {
            "automargin": true,
            "type": "pie"
           }
          ],
          "scatter": [
           {
            "marker": {
             "line": {
              "color": "#283442"
             }
            },
            "type": "scatter"
           }
          ],
          "scatter3d": [
           {
            "line": {
             "colorbar": {
              "outlinewidth": 0,
              "ticks": ""
             }
            },
            "marker": {
             "colorbar": {
              "outlinewidth": 0,
              "ticks": ""
             }
            },
            "type": "scatter3d"
           }
          ],
          "scattercarpet": [
           {
            "marker": {
             "colorbar": {
              "outlinewidth": 0,
              "ticks": ""
             }
            },
            "type": "scattercarpet"
           }
          ],
          "scattergeo": [
           {
            "marker": {
             "colorbar": {
              "outlinewidth": 0,
              "ticks": ""
             }
            },
            "type": "scattergeo"
           }
          ],
          "scattergl": [
           {
            "marker": {
             "line": {
              "color": "#283442"
             }
            },
            "type": "scattergl"
           }
          ],
          "scattermapbox": [
           {
            "marker": {
             "colorbar": {
              "outlinewidth": 0,
              "ticks": ""
             }
            },
            "type": "scattermapbox"
           }
          ],
          "scatterpolar": [
           {
            "marker": {
             "colorbar": {
              "outlinewidth": 0,
              "ticks": ""
             }
            },
            "type": "scatterpolar"
           }
          ],
          "scatterpolargl": [
           {
            "marker": {
             "colorbar": {
              "outlinewidth": 0,
              "ticks": ""
             }
            },
            "type": "scatterpolargl"
           }
          ],
          "scatterternary": [
           {
            "marker": {
             "colorbar": {
              "outlinewidth": 0,
              "ticks": ""
             }
            },
            "type": "scatterternary"
           }
          ],
          "surface": [
           {
            "colorbar": {
             "outlinewidth": 0,
             "ticks": ""
            },
            "colorscale": [
             [
              0,
              "#0d0887"
             ],
             [
              0.1111111111111111,
              "#46039f"
             ],
             [
              0.2222222222222222,
              "#7201a8"
             ],
             [
              0.3333333333333333,
              "#9c179e"
             ],
             [
              0.4444444444444444,
              "#bd3786"
             ],
             [
              0.5555555555555556,
              "#d8576b"
             ],
             [
              0.6666666666666666,
              "#ed7953"
             ],
             [
              0.7777777777777778,
              "#fb9f3a"
             ],
             [
              0.8888888888888888,
              "#fdca26"
             ],
             [
              1,
              "#f0f921"
             ]
            ],
            "type": "surface"
           }
          ],
          "table": [
           {
            "cells": {
             "fill": {
              "color": "#506784"
             },
             "line": {
              "color": "rgb(17,17,17)"
             }
            },
            "header": {
             "fill": {
              "color": "#2a3f5f"
             },
             "line": {
              "color": "rgb(17,17,17)"
             }
            },
            "type": "table"
           }
          ]
         },
         "layout": {
          "annotationdefaults": {
           "arrowcolor": "#f2f5fa",
           "arrowhead": 0,
           "arrowwidth": 1
          },
          "autotypenumbers": "strict",
          "coloraxis": {
           "colorbar": {
            "outlinewidth": 0,
            "ticks": ""
           }
          },
          "colorscale": {
           "diverging": [
            [
             0,
             "#8e0152"
            ],
            [
             0.1,
             "#c51b7d"
            ],
            [
             0.2,
             "#de77ae"
            ],
            [
             0.3,
             "#f1b6da"
            ],
            [
             0.4,
             "#fde0ef"
            ],
            [
             0.5,
             "#f7f7f7"
            ],
            [
             0.6,
             "#e6f5d0"
            ],
            [
             0.7,
             "#b8e186"
            ],
            [
             0.8,
             "#7fbc41"
            ],
            [
             0.9,
             "#4d9221"
            ],
            [
             1,
             "#276419"
            ]
           ],
           "sequential": [
            [
             0,
             "#0d0887"
            ],
            [
             0.1111111111111111,
             "#46039f"
            ],
            [
             0.2222222222222222,
             "#7201a8"
            ],
            [
             0.3333333333333333,
             "#9c179e"
            ],
            [
             0.4444444444444444,
             "#bd3786"
            ],
            [
             0.5555555555555556,
             "#d8576b"
            ],
            [
             0.6666666666666666,
             "#ed7953"
            ],
            [
             0.7777777777777778,
             "#fb9f3a"
            ],
            [
             0.8888888888888888,
             "#fdca26"
            ],
            [
             1,
             "#f0f921"
            ]
           ],
           "sequentialminus": [
            [
             0,
             "#0d0887"
            ],
            [
             0.1111111111111111,
             "#46039f"
            ],
            [
             0.2222222222222222,
             "#7201a8"
            ],
            [
             0.3333333333333333,
             "#9c179e"
            ],
            [
             0.4444444444444444,
             "#bd3786"
            ],
            [
             0.5555555555555556,
             "#d8576b"
            ],
            [
             0.6666666666666666,
             "#ed7953"
            ],
            [
             0.7777777777777778,
             "#fb9f3a"
            ],
            [
             0.8888888888888888,
             "#fdca26"
            ],
            [
             1,
             "#f0f921"
            ]
           ]
          },
          "colorway": [
           "#636efa",
           "#EF553B",
           "#00cc96",
           "#ab63fa",
           "#FFA15A",
           "#19d3f3",
           "#FF6692",
           "#B6E880",
           "#FF97FF",
           "#FECB52"
          ],
          "font": {
           "color": "#f2f5fa"
          },
          "geo": {
           "bgcolor": "rgb(17,17,17)",
           "lakecolor": "rgb(17,17,17)",
           "landcolor": "rgb(17,17,17)",
           "showlakes": true,
           "showland": true,
           "subunitcolor": "#506784"
          },
          "hoverlabel": {
           "align": "left"
          },
          "hovermode": "closest",
          "mapbox": {
           "style": "dark"
          },
          "paper_bgcolor": "rgb(17,17,17)",
          "plot_bgcolor": "rgb(17,17,17)",
          "polar": {
           "angularaxis": {
            "gridcolor": "#506784",
            "linecolor": "#506784",
            "ticks": ""
           },
           "bgcolor": "rgb(17,17,17)",
           "radialaxis": {
            "gridcolor": "#506784",
            "linecolor": "#506784",
            "ticks": ""
           }
          },
          "scene": {
           "xaxis": {
            "backgroundcolor": "rgb(17,17,17)",
            "gridcolor": "#506784",
            "gridwidth": 2,
            "linecolor": "#506784",
            "showbackground": true,
            "ticks": "",
            "zerolinecolor": "#C8D4E3"
           },
           "yaxis": {
            "backgroundcolor": "rgb(17,17,17)",
            "gridcolor": "#506784",
            "gridwidth": 2,
            "linecolor": "#506784",
            "showbackground": true,
            "ticks": "",
            "zerolinecolor": "#C8D4E3"
           },
           "zaxis": {
            "backgroundcolor": "rgb(17,17,17)",
            "gridcolor": "#506784",
            "gridwidth": 2,
            "linecolor": "#506784",
            "showbackground": true,
            "ticks": "",
            "zerolinecolor": "#C8D4E3"
           }
          },
          "shapedefaults": {
           "line": {
            "color": "#f2f5fa"
           }
          },
          "sliderdefaults": {
           "bgcolor": "#C8D4E3",
           "bordercolor": "rgb(17,17,17)",
           "borderwidth": 1,
           "tickwidth": 0
          },
          "ternary": {
           "aaxis": {
            "gridcolor": "#506784",
            "linecolor": "#506784",
            "ticks": ""
           },
           "baxis": {
            "gridcolor": "#506784",
            "linecolor": "#506784",
            "ticks": ""
           },
           "bgcolor": "rgb(17,17,17)",
           "caxis": {
            "gridcolor": "#506784",
            "linecolor": "#506784",
            "ticks": ""
           }
          },
          "title": {
           "x": 0.05
          },
          "updatemenudefaults": {
           "bgcolor": "#506784",
           "borderwidth": 0
          },
          "xaxis": {
           "automargin": true,
           "gridcolor": "#283442",
           "linecolor": "#506784",
           "ticks": "",
           "title": {
            "standoff": 15
           },
           "zerolinecolor": "#283442",
           "zerolinewidth": 2
          },
          "yaxis": {
           "automargin": true,
           "gridcolor": "#283442",
           "linecolor": "#506784",
           "ticks": "",
           "title": {
            "standoff": 15
           },
           "zerolinecolor": "#283442",
           "zerolinewidth": 2
          }
         }
        },
        "title": {
         "text": "Generated Motion"
        },
        "xaxis": {
         "fixedrange": true,
         "showgrid": false,
         "showticklabels": false,
         "zeroline": false,
         "zerolinecolor": "gray",
         "zerolinewidth": 1
        },
        "yaxis": {
         "fixedrange": true,
         "scaleanchor": "x",
         "scaleratio": 1,
         "showgrid": false,
         "showticklabels": false,
         "zeroline": false,
         "zerolinecolor": "gray",
         "zerolinewidth": 1
        }
       }
      }
     },
     "metadata": {},
     "output_type": "display_data"
    }
   ],
   "source": [
    "counter = 0\n",
    "for d in model_config.train_iterator:\n",
    "    if counter > 6:\n",
    "        X = d[\"X\"]\n",
    "        print(X.shape)\n",
    "        min_val, max_val = get_min_max_from_dataset(X)\n",
    "            \n",
    "        X_scaled = torch.zeros_like(X)\n",
    "        X_centered = torch.zeros_like(X)\n",
    "        X_centered_scaled = torch.zeros_like(X)\n",
    "\n",
    "        # # finding the touching point of each motion and centering the motion on that\n",
    "        center_points = torch.zeros_like(X[:, 0:1, :])        \n",
    "        center_points[:, 0, :3] = X[:, 9, :3]\n",
    "        X_centered =  X - center_points\n",
    "\n",
    "        # # scaling data between 0 and 1\n",
    "        X_scaled =(X - min_val) / (max_val - min_val)\n",
    "        \n",
    "        print (torch.sum(X -(X_scaled*(max_val - min_val)+min_val)) < 0.001)\n",
    "        \n",
    "        # # scaling the centered data between 0 and 1\n",
    "        centered_min_val, centered_max_val = get_min_max_from_dataset(X_centered)\n",
    "        \n",
    "        x_samples = d[model_config.data_item]\n",
    "        y_samples = d[\"Y\"]\n",
    "        \n",
    "        x_rec, __, __ = model(x_samples, y_samples)\n",
    "        \n",
    "        \n",
    "        \n",
    "        centered_min_val= d[\"centered_min_val\"][0]\n",
    "        centered_max_val= d[\"centered_max_val\"][0]\n",
    "        \n",
    "        X_centered_scaled = (X_centered - centered_min_val) / (centered_max_val - centered_min_val)\n",
    "        X_back_to_orig = (X_centered_scaled*(centered_max_val - centered_min_val)+centered_min_val)+center_points\n",
    "            \n",
    "        show_generated_motions([X, X_back_to_orig], 3)\n",
    "        \n",
    "        break\n",
    "    counter += 1"
   ]
  },
  {
   "cell_type": "markdown",
   "metadata": {},
   "source": [
    "___\n",
    "# WandB Process"
   ]
  },
  {
   "cell_type": "markdown",
   "metadata": {},
   "source": [
    "### Supporting functions"
   ]
  },
  {
   "cell_type": "code",
   "execution_count": 28,
   "metadata": {},
   "outputs": [],
   "source": [
    "def optimizer_selector(model, optimizer_name, lr):\n",
    "    if optimizer_name == \"adam\":\n",
    "        optimzer = optim.Adam(model.parameters(), lr = lr)\n",
    "        \n",
    "    elif optimizer_name == \"rmsprop\":\n",
    "        optimzer = optim.RMSprop(model.parameters(), lr = lr)\n",
    "        \n",
    "    elif optimizer_name == \"sgd\":\n",
    "        optimzer = optim.SGD(model.parameters(), lr = lr)\n",
    "        \n",
    "    elif optimizer_name == \"nadam\":\n",
    "        optimzer = optim.NAdam(model.parameters(), lr = lr)\n",
    "        \n",
    "    return optimzer\n",
    "\n",
    "def dataset_maker(batch_size, model_config):\n",
    "    model_config.batch_size = batch_size\n",
    "    model_config.process_dataset_dataloaders() \n",
    "    \n",
    "    \n",
    "def train_epoch(model, model_config, optimizer):\n",
    "    model.train()\n",
    "    epoch_loss = 0\n",
    "    epoch_rec_loss = 0\n",
    "    epoch_kld_loss = 0\n",
    "    \n",
    "    for data in model_config.train_iterator:\n",
    "        x= data[model_config.data_item]\n",
    "        y= data[\"Y\"]\n",
    "        \n",
    "        optimizer.zero_grad()\n",
    "        x_rec, mean, log_var = model(x,y)\n",
    "        \n",
    "        \n",
    "        train_loss, train_rec_loss, train_kld_loss = vae_loss_function (x, \n",
    "                                                                        x_rec, \n",
    "                                                                        log_var, \n",
    "                                                                        mean, \n",
    "                                                                        rec_loss= model.rec_loss, \n",
    "                                                                        reduction= model.reduction,\n",
    "                                                                        kld_weight= model.kld_weight)\n",
    "        \n",
    "        # updating the history\n",
    "        epoch_rec_loss += train_rec_loss.item()\n",
    "        epoch_kld_loss += train_kld_loss.item()\n",
    "        epoch_loss += train_loss.item() \n",
    "        \n",
    "        train_loss.backward()\n",
    "        optimizer.step()\n",
    "    \n",
    "        \n",
    "                   \n",
    "    counter = len(model_config.train_iterator)  \n",
    "     \n",
    "    results = [epoch_loss/counter,\n",
    "                epoch_rec_loss/counter, \n",
    "                epoch_kld_loss/counter]   \n",
    "  \n",
    "    return results"
   ]
  },
  {
   "cell_type": "markdown",
   "metadata": {},
   "source": [
    "---"
   ]
  },
  {
   "attachments": {},
   "cell_type": "markdown",
   "metadata": {},
   "source": [
    "## Optimization\n",
    "WandB will use this train function to generate various architectures and train them to figure out which architecture is the best. "
   ]
  },
  {
   "cell_type": "code",
   "execution_count": 61,
   "metadata": {},
   "outputs": [],
   "source": [
    "def optimizer_loop(config=None):    \n",
    "    path_to_save_plot = \"runs/progress/tmp_fig.png\"\n",
    "    \n",
    "    with wandb.init(config=config):\n",
    "        config = wandb.config # this one basically iterates over the configuration settings\n",
    "\n",
    "        # going through data, model, and optimizer variations\n",
    "        dataset_maker(config.batch_size, model_config)\n",
    "\n",
    "        model = VAE_CNN(device= model_config.device, \n",
    "                        first_filter_size= config.first_filter_size, \n",
    "                        kernel_size= config.kernel_size, \n",
    "                        depth= config.depth, \n",
    "                        dropout= config.dropout,\n",
    "                        latent_dim= config.latent_dim,\n",
    "                        rec_loss= config.rec_loss, \n",
    "                        reduction= config.reduction, \n",
    "                        kld_weight= config.kld_weight)\n",
    "\n",
    "        optimizer= optimizer_selector(model, config.optimizer, config.learning_rate)\n",
    "        \n",
    "        # main train loop\n",
    "        for epoch in range(config.epochs):\n",
    "            train_loss, train_rec_loss, train_kld_loss = train_epoch(model, \n",
    "                                                                    model_config,\n",
    "                                                                    optimizer)\n",
    "            \n",
    "            if epoch % 100 == 99:\n",
    "                log_plot= True\n",
    "            else:\n",
    "                log_plot= False  \n",
    "\n",
    "            try:\n",
    "                eval_loss, eval_rec_losses, eval_kld_loss = eval_epoch(\n",
    "                                                                model= model, \n",
    "                                                                config= model_config, \n",
    "                                                                data_iterator= model_config.valid_iterator, \n",
    "                                                                plot= False,\n",
    "                                                                scaled_plot= False,\n",
    "                                                                update_tensorboard= False,\n",
    "                                                                epoch= epoch,\n",
    "                                                                loss_function= vae_loss_function,\n",
    "                                                                show_one_sample= False,\n",
    "                                                                save_plot= log_plot,\n",
    "                                                                path_to_save_plot = path_to_save_plot,\n",
    "                                                                is_vae= True,\n",
    "                                                                rec_loss= model.rec_loss, \n",
    "                                                                reduction=model.reduction, \n",
    "                                                                kld_weight= model.kld_weight,\n",
    "                                                                )\n",
    "            \n",
    "                if epoch % 10 == 0:\n",
    "                    # updating the training progress after each 10 epochs \n",
    "                    # we don't do it every epoch to save time\n",
    "                    wandb.log(dict(loss= train_loss, epoch= epoch))\n",
    "                    wandb.log(dict(loss_rec = train_rec_loss, epoch= epoch))\n",
    "                    wandb.log(dict(loss_KLD= train_kld_loss, epoch= epoch))\n",
    "                    wandb.log(dict(eval_loss=eval_loss,epoch= epoch))\n",
    "                    wandb.log(dict(eval_rec=eval_rec_losses,epoch= epoch))\n",
    "                    wandb.log(dict(eval_KLD=eval_kld_loss,epoch= epoch))\n",
    "                \n",
    "                if log_plot:\n",
    "                    # saving an image of the process every 100 epochs\n",
    "                    # if we do it more than this, it will kill time!\n",
    "                    wandb.log({\"eval_sample\":wandb.Image(path_to_save_plot)})\n",
    "            except:\n",
    "                print (\"something happend to the eval process, some issues with colors\")"
   ]
  },
  {
   "cell_type": "code",
   "execution_count": 62,
   "metadata": {},
   "outputs": [
    {
     "name": "stderr",
     "output_type": "stream",
     "text": [
      "\u001b[34m\u001b[1mwandb\u001b[0m: Agent Starting Run: lgwan70e with config:\n",
      "\u001b[34m\u001b[1mwandb\u001b[0m: \tbatch_size: 128\n",
      "\u001b[34m\u001b[1mwandb\u001b[0m: \tdepth: 2\n",
      "\u001b[34m\u001b[1mwandb\u001b[0m: \tdropout: 0.5\n",
      "\u001b[34m\u001b[1mwandb\u001b[0m: \tepochs: 300\n",
      "\u001b[34m\u001b[1mwandb\u001b[0m: \tfirst_filter_size: 8\n",
      "\u001b[34m\u001b[1mwandb\u001b[0m: \tkernel_size: 3\n",
      "\u001b[34m\u001b[1mwandb\u001b[0m: \tkld_weight: 10\n",
      "\u001b[34m\u001b[1mwandb\u001b[0m: \tlatent_dim: 7\n",
      "\u001b[34m\u001b[1mwandb\u001b[0m: \tlearning_rate: 0.001\n",
      "\u001b[34m\u001b[1mwandb\u001b[0m: \toptimizer: nadam\n",
      "\u001b[34m\u001b[1mwandb\u001b[0m: \trec_loss: L1\n",
      "\u001b[34m\u001b[1mwandb\u001b[0m: \treduction: sum\n",
      "Failed to detect the name of this notebook, you can set it manually with the WANDB_NOTEBOOK_NAME environment variable to enable code saving.\n"
     ]
    },
    {
     "data": {
      "text/html": [
       "Tracking run with wandb version 0.13.7"
      ],
      "text/plain": [
       "<IPython.core.display.HTML object>"
      ]
     },
     "metadata": {},
     "output_type": "display_data"
    },
    {
     "data": {
      "text/html": [
       "Run data is saved locally in <code>c:\\Users\\Ardavan\\Documents\\GitHub\\ThirdHand\\wandb\\run-20230104_174828-lgwan70e</code>"
      ],
      "text/plain": [
       "<IPython.core.display.HTML object>"
      ]
     },
     "metadata": {},
     "output_type": "display_data"
    },
    {
     "data": {
      "text/html": [
       "Syncing run <strong><a href=\"https://wandb.ai/ardibid/thirdHand_VAECNN_GitHub_Demo/runs/lgwan70e\" target=\"_blank\">rural-sweep-1</a></strong> to <a href=\"https://wandb.ai/ardibid/thirdHand_VAECNN_GitHub_Demo\" target=\"_blank\">Weights & Biases</a> (<a href=\"https://wandb.me/run\" target=\"_blank\">docs</a>)<br/>Sweep page:  <a href=\"https://wandb.ai/ardibid/thirdHand_VAECNN_GitHub_Demo/sweeps/867nk71r\" target=\"_blank\">https://wandb.ai/ardibid/thirdHand_VAECNN_GitHub_Demo/sweeps/867nk71r</a>"
      ],
      "text/plain": [
       "<IPython.core.display.HTML object>"
      ]
     },
     "metadata": {},
     "output_type": "display_data"
    },
    {
     "data": {
      "text/html": [
       "Waiting for W&B process to finish... <strong style=\"color:green\">(success).</strong>"
      ],
      "text/plain": [
       "<IPython.core.display.HTML object>"
      ]
     },
     "metadata": {},
     "output_type": "display_data"
    },
    {
     "data": {
      "text/html": [
       "<style>\n",
       "    table.wandb td:nth-child(1) { padding: 0 10px; text-align: left ; width: auto;} td:nth-child(2) {text-align: left ; width: 100%}\n",
       "    .wandb-row { display: flex; flex-direction: row; flex-wrap: wrap; justify-content: flex-start; width: 100% }\n",
       "    .wandb-col { display: flex; flex-direction: column; flex-basis: 100%; flex: 1; padding: 10px; }\n",
       "    </style>\n",
       "<div class=\"wandb-row\"><div class=\"wandb-col\"><h3>Run history:</h3><br/><table class=\"wandb\"><tr><td>epoch</td><td>▁▁▁▁▂▂▂▂▂▂▃▃▃▃▃▄▄▄▄▄▅▅▅▅▅▆▆▆▆▆▆▇▇▇▇▇████</td></tr><tr><td>eval_KLD</td><td>▁█▆▆▅▄▄▄▄▄▄▄▄▄▄▄▄▄▄▄▄▄▅▅▄▄▅▅▅▅</td></tr><tr><td>eval_loss</td><td>█▂▂▂▁▁▁▁▁▁▁▁▁▁▁▁▁▁▁▁▁▁▁▁▁▁▁▁▁▁</td></tr><tr><td>eval_rec</td><td>█▂▂▂▁▁▁▁▁▁▁▁▁▁▁▁▁▁▁▁▁▁▁▁▁▁▁▁▁▁</td></tr><tr><td>loss</td><td>█▂▂▂▁▁▁▁▁▁▁▁▁▁▁▁▁▁▁▁▁▁▁▁▁▁▁▁▁▁</td></tr><tr><td>loss_KLD</td><td>█▄▃▂▂▁▁▁▁▁▁▁▁▁▁▁▁▁▁▁▁▁▁▁▁▁▁▁▁▁</td></tr><tr><td>loss_rec</td><td>█▂▂▂▁▁▁▁▁▁▁▁▁▁▁▁▁▁▁▁▁▁▁▁▁▁▁▁▁▁</td></tr></table><br/></div><div class=\"wandb-col\"><h3>Run summary:</h3><br/><table class=\"wandb\"><tr><td>epoch</td><td>290</td></tr><tr><td>eval_KLD</td><td>120.45088</td></tr><tr><td>eval_loss</td><td>695.23746</td></tr><tr><td>eval_rec</td><td>574.78656</td></tr><tr><td>loss</td><td>749.08326</td></tr><tr><td>loss_KLD</td><td>126.67475</td></tr><tr><td>loss_rec</td><td>622.4085</td></tr></table><br/></div></div>"
      ],
      "text/plain": [
       "<IPython.core.display.HTML object>"
      ]
     },
     "metadata": {},
     "output_type": "display_data"
    },
    {
     "data": {
      "text/html": [
       "Synced <strong style=\"color:#cdcd00\">rural-sweep-1</strong>: <a href=\"https://wandb.ai/ardibid/thirdHand_VAECNN_GitHub_Demo/runs/lgwan70e\" target=\"_blank\">https://wandb.ai/ardibid/thirdHand_VAECNN_GitHub_Demo/runs/lgwan70e</a><br/>Synced 4 W&B file(s), 3 media file(s), 0 artifact file(s) and 0 other file(s)"
      ],
      "text/plain": [
       "<IPython.core.display.HTML object>"
      ]
     },
     "metadata": {},
     "output_type": "display_data"
    },
    {
     "data": {
      "text/html": [
       "Find logs at: <code>.\\wandb\\run-20230104_174828-lgwan70e\\logs</code>"
      ],
      "text/plain": [
       "<IPython.core.display.HTML object>"
      ]
     },
     "metadata": {},
     "output_type": "display_data"
    },
    {
     "name": "stderr",
     "output_type": "stream",
     "text": [
      "\u001b[34m\u001b[1mwandb\u001b[0m: Agent Starting Run: 5r1zemah with config:\n",
      "\u001b[34m\u001b[1mwandb\u001b[0m: \tbatch_size: 128\n",
      "\u001b[34m\u001b[1mwandb\u001b[0m: \tdepth: 2\n",
      "\u001b[34m\u001b[1mwandb\u001b[0m: \tdropout: 0.5\n",
      "\u001b[34m\u001b[1mwandb\u001b[0m: \tepochs: 300\n",
      "\u001b[34m\u001b[1mwandb\u001b[0m: \tfirst_filter_size: 7\n",
      "\u001b[34m\u001b[1mwandb\u001b[0m: \tkernel_size: 5\n",
      "\u001b[34m\u001b[1mwandb\u001b[0m: \tkld_weight: 1\n",
      "\u001b[34m\u001b[1mwandb\u001b[0m: \tlatent_dim: 5\n",
      "\u001b[34m\u001b[1mwandb\u001b[0m: \tlearning_rate: 0.01\n",
      "\u001b[34m\u001b[1mwandb\u001b[0m: \toptimizer: nadam\n",
      "\u001b[34m\u001b[1mwandb\u001b[0m: \trec_loss: L1\n",
      "\u001b[34m\u001b[1mwandb\u001b[0m: \treduction: sum\n",
      "Failed to detect the name of this notebook, you can set it manually with the WANDB_NOTEBOOK_NAME environment variable to enable code saving.\n"
     ]
    },
    {
     "data": {
      "text/html": [
       "Tracking run with wandb version 0.13.7"
      ],
      "text/plain": [
       "<IPython.core.display.HTML object>"
      ]
     },
     "metadata": {},
     "output_type": "display_data"
    },
    {
     "data": {
      "text/html": [
       "Run data is saved locally in <code>c:\\Users\\Ardavan\\Documents\\GitHub\\ThirdHand\\wandb\\run-20230104_174919-5r1zemah</code>"
      ],
      "text/plain": [
       "<IPython.core.display.HTML object>"
      ]
     },
     "metadata": {},
     "output_type": "display_data"
    },
    {
     "data": {
      "text/html": [
       "Syncing run <strong><a href=\"https://wandb.ai/ardibid/thirdHand_VAECNN_GitHub_Demo/runs/5r1zemah\" target=\"_blank\">gentle-sweep-2</a></strong> to <a href=\"https://wandb.ai/ardibid/thirdHand_VAECNN_GitHub_Demo\" target=\"_blank\">Weights & Biases</a> (<a href=\"https://wandb.me/run\" target=\"_blank\">docs</a>)<br/>Sweep page:  <a href=\"https://wandb.ai/ardibid/thirdHand_VAECNN_GitHub_Demo/sweeps/867nk71r\" target=\"_blank\">https://wandb.ai/ardibid/thirdHand_VAECNN_GitHub_Demo/sweeps/867nk71r</a>"
      ],
      "text/plain": [
       "<IPython.core.display.HTML object>"
      ]
     },
     "metadata": {},
     "output_type": "display_data"
    },
    {
     "data": {
      "text/html": [
       "Waiting for W&B process to finish... <strong style=\"color:green\">(success).</strong>"
      ],
      "text/plain": [
       "<IPython.core.display.HTML object>"
      ]
     },
     "metadata": {},
     "output_type": "display_data"
    },
    {
     "data": {
      "text/html": [
       "<style>\n",
       "    table.wandb td:nth-child(1) { padding: 0 10px; text-align: left ; width: auto;} td:nth-child(2) {text-align: left ; width: 100%}\n",
       "    .wandb-row { display: flex; flex-direction: row; flex-wrap: wrap; justify-content: flex-start; width: 100% }\n",
       "    .wandb-col { display: flex; flex-direction: column; flex-basis: 100%; flex: 1; padding: 10px; }\n",
       "    </style>\n",
       "<div class=\"wandb-row\"><div class=\"wandb-col\"><h3>Run history:</h3><br/><table class=\"wandb\"><tr><td>epoch</td><td>▁▁▁▁▂▂▂▂▂▂▃▃▃▃▃▄▄▄▄▄▅▅▅▅▅▆▆▆▆▆▆▇▇▇▇▇████</td></tr><tr><td>eval_KLD</td><td>▂█▁▁▁▁▁▁▁▂▂▂▂▂▂▂▂▂▂▂▂▂▂▂▂▂▂▂▂▂</td></tr><tr><td>eval_loss</td><td>▁█▂▁▁▁▁▁▁▁▁▁▁▁▁▁▁▁▁▁▁▁▁▁▁▁▁▁▁▁</td></tr><tr><td>eval_rec</td><td>▁█▂▁▁▁▁▁▁▁▁▁▁▁▁▁▁▁▁▁▁▁▁▁▁▁▁▁▁▁</td></tr><tr><td>loss</td><td>▃▂█▃▂▂▂▁▁▁▁▁▁▁▁▁▁▁▁▁▁▁▁▁▁▁▁▁▁▁</td></tr><tr><td>loss_KLD</td><td>▅▇▁▂▂▂▃▃▃▄▄▅▅▅▆▆▆▆▆▇▇▇▇▇▇▇████</td></tr><tr><td>loss_rec</td><td>▃▂█▃▂▂▂▁▁▁▁▁▁▁▁▁▁▁▁▁▁▁▁▁▁▁▁▁▁▁</td></tr></table><br/></div><div class=\"wandb-col\"><h3>Run summary:</h3><br/><table class=\"wandb\"><tr><td>epoch</td><td>290</td></tr><tr><td>eval_KLD</td><td>63.609</td></tr><tr><td>eval_loss</td><td>1272.73047</td></tr><tr><td>eval_rec</td><td>1209.12152</td></tr><tr><td>loss</td><td>1555.22293</td></tr><tr><td>loss_KLD</td><td>66.17908</td></tr><tr><td>loss_rec</td><td>1489.04386</td></tr></table><br/></div></div>"
      ],
      "text/plain": [
       "<IPython.core.display.HTML object>"
      ]
     },
     "metadata": {},
     "output_type": "display_data"
    },
    {
     "data": {
      "text/html": [
       "Synced <strong style=\"color:#cdcd00\">gentle-sweep-2</strong>: <a href=\"https://wandb.ai/ardibid/thirdHand_VAECNN_GitHub_Demo/runs/5r1zemah\" target=\"_blank\">https://wandb.ai/ardibid/thirdHand_VAECNN_GitHub_Demo/runs/5r1zemah</a><br/>Synced 4 W&B file(s), 3 media file(s), 0 artifact file(s) and 0 other file(s)"
      ],
      "text/plain": [
       "<IPython.core.display.HTML object>"
      ]
     },
     "metadata": {},
     "output_type": "display_data"
    },
    {
     "data": {
      "text/html": [
       "Find logs at: <code>.\\wandb\\run-20230104_174919-5r1zemah\\logs</code>"
      ],
      "text/plain": [
       "<IPython.core.display.HTML object>"
      ]
     },
     "metadata": {},
     "output_type": "display_data"
    },
    {
     "name": "stderr",
     "output_type": "stream",
     "text": [
      "\u001b[34m\u001b[1mwandb\u001b[0m: Ctrl + C detected. Stopping sweep.\n"
     ]
    }
   ],
   "source": [
    "wandb.agent(sweep_id, optimizer_loop, count= 5)"
   ]
  },
  {
   "cell_type": "markdown",
   "metadata": {},
   "source": [
    "---"
   ]
  },
  {
   "cell_type": "markdown",
   "metadata": {},
   "source": [
    "## Inserting the optimized hyper-parameters"
   ]
  },
  {
   "cell_type": "markdown",
   "metadata": {},
   "source": [
    "Once the model is optimized, fill in the blanks and test the model"
   ]
  },
  {
   "cell_type": "code",
   "execution_count": 63,
   "metadata": {},
   "outputs": [
    {
     "name": "stdout",
     "output_type": "stream",
     "text": [
      "Data loaded from 11 filse, stored in a dataframe with shape (248486, 10)\n",
      "Dataframe headers are: ['px', 'py', 'pz', 'v1x', 'v1y', 'v1z', 'v2x', 'v2y', 'v2z', 'hand']\n",
      "Data loaded from 2 filse, stored in a dataframe with shape (54402, 10)\n",
      "Dataframe headers are: ['px', 'py', 'pz', 'v1x', 'v1y', 'v1z', 'v2x', 'v2y', 'v2z', 'hand']\n"
     ]
    }
   ],
   "source": [
    "model, project_config, model_config = create_the_model(device= device, \n",
    "                                                        csv_folder_path=None, \n",
    "                                                        tresh_l= 0.289, \n",
    "                                                        tresh_h_normal= 0.4, \n",
    "                                                        tresh_h_riz= 0.27, \n",
    "                                                        dist= 15, \n",
    "                                                        peak_dist= 30, \n",
    "                                                        motion_fixed_length= 20, \n",
    "                                                        data_item=\"X_centered_scaled\",\n",
    "                                                        batch_size=128, \n",
    "                                                        kernel_size=5,  \n",
    "                                                        first_filter_size =9,  \n",
    "                                                        depth = 2, \n",
    "                                                        dropout = 0.1,\n",
    "                                                        epochs = 300, \n",
    "                                                        latent_dim = 8,\n",
    "                                                        rec_loss= \"L1\",\n",
    "                                                        reduction= \"sum\",\n",
    "                                                        kld_weight = 1e-1,\n",
    "                                                        model_name_to_save=\"c_vae_model\")"
   ]
  },
  {
   "cell_type": "code",
   "execution_count": 65,
   "metadata": {},
   "outputs": [
    {
     "name": "stdout",
     "output_type": "stream",
     "text": [
      "Image 0 saved\n",
      "0:\tTotal: 467.21748\tEval loss: 326.99774\t Rec loss: 415.74385\t KLD loss: 51.47363\t time: 1.6s\n",
      "Image 50 saved\n",
      "50:\tTotal: 284.76806\tEval loss: 251.85904\t Rec loss: 232.26707\t KLD loss: 52.50099\t time: 9.5s\n",
      "Image 100 saved\n",
      "100:\tTotal: 270.47126\tEval loss: 222.56291\t Rec loss: 218.73054\t KLD loss: 51.74072\t time: 17.4s\n",
      "Image 150 saved\n",
      "150:\tTotal: 288.45260\tEval loss: 285.14468\t Rec loss: 237.54540\t KLD loss: 50.90720\t time: 25.5s\n",
      "Image 200 saved\n",
      "200:\tTotal: 257.90852\tEval loss: 220.92669\t Rec loss: 207.37074\t KLD loss: 50.53778\t time: 33.5s\n",
      "Image 250 saved\n",
      "250:\tTotal: 253.34396\tEval loss: 210.73817\t Rec loss: 202.98736\t KLD loss: 50.35659\t time: 41.4s\n",
      "Image 300 saved\n",
      "300:\tTotal: 243.24652\tEval loss: 202.65494\t Rec loss: 193.80682\t KLD loss: 49.43970\t time: 49.2s\n"
     ]
    },
    {
     "data": {
      "application/vnd.plotly.v1+json": {
       "config": {
        "plotlyServerURL": "https://plot.ly"
       },
       "data": [
        {
         "mode": "lines",
         "name": "training",
         "type": "scatter",
         "x": [
          0,
          1,
          2,
          3,
          4,
          5,
          6,
          7,
          8,
          9,
          10,
          11,
          12,
          13,
          14,
          15,
          16,
          17,
          18,
          19,
          20,
          21,
          22,
          23,
          24,
          25,
          26,
          27,
          28,
          29,
          30,
          31,
          32,
          33,
          34,
          35,
          36,
          37,
          38,
          39,
          40,
          41,
          42,
          43,
          44,
          45,
          46,
          47,
          48,
          49,
          50,
          51,
          52,
          53,
          54,
          55,
          56,
          57,
          58,
          59,
          60,
          61,
          62,
          63,
          64,
          65,
          66,
          67,
          68,
          69,
          70,
          71,
          72,
          73,
          74,
          75,
          76,
          77,
          78,
          79,
          80,
          81,
          82,
          83,
          84,
          85,
          86,
          87,
          88,
          89,
          90,
          91,
          92,
          93,
          94,
          95,
          96,
          97,
          98,
          99,
          100,
          101,
          102,
          103,
          104,
          105,
          106,
          107,
          108,
          109,
          110,
          111,
          112,
          113,
          114,
          115,
          116,
          117,
          118,
          119,
          120,
          121,
          122,
          123,
          124,
          125,
          126,
          127,
          128,
          129,
          130,
          131,
          132,
          133,
          134,
          135,
          136,
          137,
          138,
          139,
          140,
          141,
          142,
          143,
          144,
          145,
          146,
          147,
          148,
          149,
          150,
          151,
          152,
          153,
          154,
          155,
          156,
          157,
          158,
          159,
          160,
          161,
          162,
          163,
          164,
          165,
          166,
          167,
          168,
          169,
          170,
          171,
          172,
          173,
          174,
          175,
          176,
          177,
          178,
          179,
          180,
          181,
          182,
          183,
          184,
          185,
          186,
          187,
          188,
          189,
          190,
          191,
          192,
          193,
          194,
          195,
          196,
          197,
          198,
          199,
          200,
          201,
          202,
          203,
          204,
          205,
          206,
          207,
          208,
          209,
          210,
          211,
          212,
          213,
          214,
          215,
          216,
          217,
          218,
          219,
          220,
          221,
          222,
          223,
          224,
          225,
          226,
          227,
          228,
          229,
          230,
          231,
          232,
          233,
          234,
          235,
          236,
          237,
          238,
          239,
          240,
          241,
          242,
          243,
          244,
          245,
          246,
          247,
          248,
          249,
          250,
          251,
          252,
          253,
          254,
          255,
          256,
          257,
          258,
          259,
          260,
          261,
          262,
          263,
          264,
          265,
          266,
          267,
          268,
          269,
          270,
          271,
          272,
          273,
          274,
          275,
          276,
          277,
          278,
          279,
          280,
          281,
          282,
          283,
          284,
          285,
          286,
          287,
          288,
          289,
          290,
          291,
          292,
          293,
          294,
          295,
          296,
          297,
          298,
          299,
          300
         ],
         "y": [
          467.2174776517428,
          337.60108830378607,
          308.2709045410156,
          293.15101271409253,
          289.07364595853363,
          292.67198533278247,
          306.90803879957934,
          289.36764761117786,
          285.16930213341345,
          292.03003868689905,
          294.5933626615084,
          285.6241783728966,
          296.1457120455228,
          305.00166672926684,
          316.21188589242786,
          295.6639709472656,
          298.1344322791466,
          292.94523268479566,
          281.9850745567909,
          288.21808565579926,
          287.0409851074219,
          284.70265080378607,
          290.98186551607574,
          290.32400982196515,
          291.4278799203726,
          288.500241793119,
          293.857907808744,
          291.79839383638824,
          296.5199631911058,
          282.8460482083834,
          282.6980942946214,
          280.6484375,
          289.83040677584137,
          297.9995422363281,
          283.4686044546274,
          289.1323711688702,
          287.730949988732,
          284.1624262883113,
          286.237551175631,
          294.7669020432692,
          289.5397690993089,
          283.40479924128607,
          284.178464449369,
          290.088132418119,
          295.2105900691106,
          294.97404127854566,
          282.2553898737981,
          278.089599609375,
          278.78697791466345,
          285.5182119516226,
          284.768059363732,
          286.83199603740985,
          281.92230459359973,
          278.0838435246394,
          284.42815457857574,
          274.9265441894531,
          276.9822012094351,
          275.460695706881,
          283.63240872896637,
          289.9614492563101,
          284.5884047288161,
          282.0830383300781,
          284.24427912785455,
          277.89989060621997,
          283.9189218374399,
          281.74957275390625,
          280.14569326547473,
          277.2931307279147,
          286.69439462515027,
          279.1181898850661,
          275.4253399188702,
          278.1655038686899,
          279.09026864858777,
          280.23553466796875,
          266.76587853064905,
          275.6052950345553,
          274.6631070650541,
          273.46026846078723,
          274.6238614595853,
          277.82444645808295,
          286.8941861666166,
          296.8463792067308,
          305.2679208608774,
          282.95127751277045,
          283.5753737229567,
          285.79005549504205,
          281.34652944711536,
          280.1249295748197,
          273.985100379357,
          284.0430603027344,
          283.1344041090745,
          272.2165339543269,
          268.01161076472357,
          273.6758070725661,
          287.9520756648137,
          281.6979769193209,
          274.5653052696815,
          272.0407926119291,
          285.58052415114184,
          278.47940532977765,
          270.4712618314303,
          271.0678147536058,
          273.73443838266223,
          270.534665621244,
          270.860842191256,
          269.0549715482272,
          270.58177067683295,
          269.8642836350661,
          269.45163198617786,
          271.6306856595553,
          272.86634474534253,
          268.28382521409253,
          275.75873506986176,
          270.32465303861176,
          268.40596360426684,
          265.8507267878606,
          272.6199199969952,
          274.84061138446515,
          267.58883901742786,
          267.395266019381,
          269.72892409104566,
          265.96769949106067,
          269.28975970928485,
          264.48647836538464,
          265.6176264836238,
          269.14837411733777,
          266.40735802283655,
          267.1857581505409,
          266.7225153996394,
          268.22525493915265,
          274.72298490084137,
          268.666257418119,
          270.65613966721753,
          267.4242905836839,
          275.5484877366286,
          271.329099214994,
          266.7701110839844,
          267.669926570012,
          280.448481633113,
          275.066159761869,
          272.7179401104267,
          265.49826284555286,
          261.278080866887,
          266.26824716421277,
          273.4962416428786,
          268.31243192232574,
          266.6713421161358,
          269.6303452711839,
          264.10204139122595,
          274.599609375,
          288.4526038536659,
          284.30335646409253,
          269.7850294846755,
          263.32390653170074,
          270.35753572904144,
          288.13599571814905,
          273.9488830566406,
          260.00860713078424,
          260.32611083984375,
          260.60812025803784,
          265.89320490910455,
          256.8279066819411,
          260.9036794809195,
          258.8353975736178,
          263.73849135178784,
          259.92223064716046,
          257.13370924729566,
          261.38455082820013,
          256.28396371694714,
          263.0491485595703,
          261.58336463341345,
          261.43103379469653,
          264.6781264085036,
          267.9651630108173,
          259.6123539851262,
          256.3566190279447,
          259.7218580979567,
          254.32669419508713,
          260.1068608210637,
          260.8148756760817,
          255.72689819335938,
          271.09525123009314,
          273.20875197190503,
          266.52144681490387,
          265.627199613131,
          259.59695904071515,
          261.0302018385667,
          265.925774207482,
          260.12860342172473,
          265.12392953725964,
          260.11410052959735,
          252.3920158973107,
          253.6301973783053,
          251.88370807354266,
          254.9986079289363,
          254.57162240835336,
          258.92005920410156,
          263.89051231971155,
          255.2022951566256,
          253.61107811560998,
          257.9085188645583,
          256.4623706524189,
          257.418942964994,
          256.75963416466345,
          259.6303217961238,
          255.86595036433295,
          255.72027705265924,
          257.6797309288612,
          260.48167419433594,
          258.1892301119291,
          261.31717975323016,
          262.38859088604266,
          259.4309645432692,
          255.1528519850511,
          257.24924997182995,
          257.24644235464245,
          259.4041243333083,
          260.29424814077527,
          252.07315767728366,
          258.56358924278845,
          259.3074387770433,
          254.328615628756,
          254.1823002741887,
          257.5190640963041,
          261.9158031757061,
          259.6783752441406,
          254.7634770320012,
          250.1933816763071,
          249.61590810922476,
          254.49186002291165,
          261.38548748309796,
          254.57117403470554,
          255.34625361515924,
          252.71209012545071,
          257.5844973050631,
          262.72483708308295,
          254.82138061523438,
          252.16791593111478,
          256.6948805588942,
          255.808590228741,
          254.71104783278244,
          252.7825681246244,
          255.13702509953424,
          255.7733600323017,
          252.44667405348557,
          252.42834942157452,
          254.18954233022836,
          248.67462158203125,
          253.70395014836237,
          250.6072023831881,
          253.34395658052884,
          252.4453383225661,
          252.92462392953726,
          251.51130558894232,
          246.73293715256912,
          260.35240760216345,
          271.05900104229266,
          262.810056246244,
          255.38353905310998,
          252.20707820012018,
          255.10235595703125,
          254.03923738919772,
          257.70554879995495,
          261.3292670616737,
          255.20736342210037,
          253.00348252516525,
          251.86712881234976,
          250.8316368689904,
          259.651854294997,
          277.3208759014423,
          255.9068591778095,
          249.43643775353064,
          254.666748046875,
          254.3906731238732,
          246.51358501727765,
          248.44212341308594,
          255.40360318697415,
          253.3331017127404,
          258.5879657451923,
          256.46968430739184,
          249.84444955679086,
          249.98843383789062,
          244.279055081881,
          248.28584876427283,
          250.8036862886869,
          247.51563204251804,
          247.23362497182993,
          248.9446000319261,
          249.2024383544922,
          249.34144122783954,
          246.05153245192307,
          247.5308614877554,
          249.03500014085037,
          246.74930279071515,
          247.2797123835637,
          247.80082115760217,
          246.5239504300631,
          246.74066162109375,
          244.6481487567608,
          246.29640080378607,
          243.24652334359976
         ]
        },
        {
         "mode": "lines",
         "name": "validation",
         "type": "scatter",
         "x": [
          0,
          1,
          2,
          3,
          4,
          5,
          6,
          7,
          8,
          9,
          10,
          11,
          12,
          13,
          14,
          15,
          16,
          17,
          18,
          19,
          20,
          21,
          22,
          23,
          24,
          25,
          26,
          27,
          28,
          29,
          30,
          31,
          32,
          33,
          34,
          35,
          36,
          37,
          38,
          39,
          40,
          41,
          42,
          43,
          44,
          45,
          46,
          47,
          48,
          49,
          50,
          51,
          52,
          53,
          54,
          55,
          56,
          57,
          58,
          59,
          60,
          61,
          62,
          63,
          64,
          65,
          66,
          67,
          68,
          69,
          70,
          71,
          72,
          73,
          74,
          75,
          76,
          77,
          78,
          79,
          80,
          81,
          82,
          83,
          84,
          85,
          86,
          87,
          88,
          89,
          90,
          91,
          92,
          93,
          94,
          95,
          96,
          97,
          98,
          99,
          100,
          101,
          102,
          103,
          104,
          105,
          106,
          107,
          108,
          109,
          110,
          111,
          112,
          113,
          114,
          115,
          116,
          117,
          118,
          119,
          120,
          121,
          122,
          123,
          124,
          125,
          126,
          127,
          128,
          129,
          130,
          131,
          132,
          133,
          134,
          135,
          136,
          137,
          138,
          139,
          140,
          141,
          142,
          143,
          144,
          145,
          146,
          147,
          148,
          149,
          150,
          151,
          152,
          153,
          154,
          155,
          156,
          157,
          158,
          159,
          160,
          161,
          162,
          163,
          164,
          165,
          166,
          167,
          168,
          169,
          170,
          171,
          172,
          173,
          174,
          175,
          176,
          177,
          178,
          179,
          180,
          181,
          182,
          183,
          184,
          185,
          186,
          187,
          188,
          189,
          190,
          191,
          192,
          193,
          194,
          195,
          196,
          197,
          198,
          199,
          200,
          201,
          202,
          203,
          204,
          205,
          206,
          207,
          208,
          209,
          210,
          211,
          212,
          213,
          214,
          215,
          216,
          217,
          218,
          219,
          220,
          221,
          222,
          223,
          224,
          225,
          226,
          227,
          228,
          229,
          230,
          231,
          232,
          233,
          234,
          235,
          236,
          237,
          238,
          239,
          240,
          241,
          242,
          243,
          244,
          245,
          246,
          247,
          248,
          249,
          250,
          251,
          252,
          253,
          254,
          255,
          256,
          257,
          258,
          259,
          260,
          261,
          262,
          263,
          264,
          265,
          266,
          267,
          268,
          269,
          270,
          271,
          272,
          273,
          274,
          275,
          276,
          277,
          278,
          279,
          280,
          281,
          282,
          283,
          284,
          285,
          286,
          287,
          288,
          289,
          290,
          291,
          292,
          293,
          294,
          295,
          296,
          297,
          298,
          299,
          300
         ],
         "y": [
          326.99774169921875,
          270.7036895751953,
          289.5768737792969,
          239.47799682617188,
          236.8894805908203,
          250.78723907470703,
          248.0315933227539,
          229.12149047851562,
          234.41153717041016,
          246.22109985351562,
          242.18505096435547,
          247.92827606201172,
          245.07694244384766,
          243.4786148071289,
          243.33199310302734,
          256.2803039550781,
          247.9149932861328,
          232.25284576416016,
          231.36737060546875,
          233.21222686767578,
          241.5712661743164,
          226.3956298828125,
          240.29583740234375,
          238.844482421875,
          249.53528594970703,
          256.4219055175781,
          254.76331329345703,
          264.7135009765625,
          232.20063018798828,
          231.01519012451172,
          234.8188247680664,
          240.60225677490234,
          241.47958374023438,
          233.38966369628906,
          244.9122085571289,
          234.40908813476562,
          238.90607452392578,
          251.28350830078125,
          262.701904296875,
          263.9491424560547,
          247.5434341430664,
          240.47310638427734,
          252.64915466308594,
          268.48597717285156,
          274.798095703125,
          233.65618896484375,
          239.8309555053711,
          233.3462371826172,
          241.60102081298828,
          236.13080596923828,
          251.85903930664062,
          239.18893432617188,
          250.03369903564453,
          231.4406967163086,
          230.50904083251953,
          236.85052490234375,
          240.2553482055664,
          239.9996566772461,
          254.01873779296875,
          239.19127655029297,
          240.11802673339844,
          247.34963989257812,
          233.2726821899414,
          244.02264404296875,
          240.45557403564453,
          237.88060760498047,
          243.55170440673828,
          232.87423706054688,
          258.1636657714844,
          229.59851837158203,
          232.2447509765625,
          230.09148406982422,
          229.07927703857422,
          223.64311981201172,
          223.7388153076172,
          226.740234375,
          225.41445922851562,
          240.42127990722656,
          230.25919342041016,
          232.20410919189453,
          230.23435974121094,
          231.113037109375,
          232.64639282226562,
          229.23092651367188,
          226.8893814086914,
          230.78744506835938,
          239.99726104736328,
          226.22332763671875,
          239.30955505371094,
          249.05233001708984,
          232.85730743408203,
          237.6837921142578,
          220.84017181396484,
          256.0979919433594,
          241.54296112060547,
          245.65982055664062,
          230.45758819580078,
          243.9682159423828,
          264.61988830566406,
          231.14553833007812,
          222.5629119873047,
          229.9112777709961,
          236.54541015625,
          225.30056762695312,
          220.4449920654297,
          224.5562744140625,
          229.30103302001953,
          222.79812622070312,
          234.50143432617188,
          233.47219848632812,
          221.64839935302734,
          235.1024398803711,
          237.11451721191406,
          219.73046875,
          228.05975341796875,
          227.80277252197266,
          255.8507080078125,
          231.32447814941406,
          219.14950561523438,
          228.8174819946289,
          237.71089935302734,
          221.52437591552734,
          229.5625,
          229.43447875976562,
          228.75596618652344,
          230.88536834716797,
          222.83631134033203,
          226.34223175048828,
          218.77812957763672,
          228.60985565185547,
          236.41600799560547,
          224.6969757080078,
          223.92031860351562,
          237.56863403320312,
          248.8692169189453,
          242.1212921142578,
          220.7504119873047,
          250.73290252685547,
          246.5912094116211,
          242.37761688232422,
          219.53777313232422,
          217.4631805419922,
          237.397216796875,
          233.2532501220703,
          232.45028686523438,
          223.31263732910156,
          239.1381607055664,
          218.6220245361328,
          230.85762786865234,
          285.3281707763672,
          285.1446838378906,
          242.41934204101562,
          216.1111297607422,
          231.00674438476562,
          230.0350341796875,
          251.70420837402344,
          226.9759979248047,
          216.28948974609375,
          213.98070526123047,
          219.06663513183594,
          210.10035705566406,
          212.14069366455078,
          218.93899536132812,
          223.48836517333984,
          229.33734130859375,
          212.94638061523438,
          227.59571838378906,
          210.6131591796875,
          215.48506927490234,
          221.77696228027344,
          229.66577911376953,
          227.96038818359375,
          216.13993072509766,
          213.42296600341797,
          216.89752197265625,
          210.61518096923828,
          210.6419906616211,
          212.91777801513672,
          219.7235107421875,
          214.37066650390625,
          247.05169677734375,
          251.51634216308594,
          229.0775375366211,
          236.84609985351562,
          230.7928009033203,
          219.84407806396484,
          220.9201889038086,
          214.0553436279297,
          224.1460723876953,
          224.00215911865234,
          215.18275451660156,
          211.47906494140625,
          210.4385986328125,
          217.4714584350586,
          219.482666015625,
          219.14759826660156,
          229.1089324951172,
          221.92208862304688,
          219.20548248291016,
          231.20327758789062,
          220.92668914794922,
          214.73153686523438,
          218.04004669189453,
          217.74295043945312,
          208.3862533569336,
          207.80401611328125,
          218.7484359741211,
          216.75521087646484,
          214.74728393554688,
          217.73751068115234,
          224.013916015625,
          218.6397933959961,
          220.77337646484375,
          216.6116714477539,
          220.48345184326172,
          211.42030334472656,
          231.08782958984375,
          210.04474639892578,
          218.76588439941406,
          210.41929626464844,
          220.9958038330078,
          210.25519561767578,
          214.70452117919922,
          231.45074462890625,
          228.87853240966797,
          221.45372009277344,
          213.44567108154297,
          210.35013580322266,
          214.66100311279297,
          228.56063842773438,
          227.13296508789062,
          213.0034408569336,
          219.50806427001953,
          208.36609649658203,
          222.38381958007812,
          220.41487884521484,
          212.7040786743164,
          215.91542053222656,
          209.9363250732422,
          215.83743286132812,
          210.3671417236328,
          220.7183609008789,
          239.73040771484375,
          208.8304672241211,
          212.32788848876953,
          211.56299591064453,
          209.91456604003906,
          211.96027374267578,
          213.233642578125,
          209.5079116821289,
          210.73816680908203,
          209.98269653320312,
          218.8072967529297,
          209.58741760253906,
          216.53477478027344,
          251.25820922851562,
          227.0352020263672,
          228.7018814086914,
          209.89599609375,
          223.16656494140625,
          207.76079559326172,
          226.76235961914062,
          215.4267578125,
          215.92993927001953,
          219.13707733154297,
          214.0980987548828,
          224.10486602783203,
          206.3438262939453,
          250.86490631103516,
          241.90347290039062,
          205.4927215576172,
          213.12332153320312,
          218.9936294555664,
          212.7093048095703,
          205.81036376953125,
          213.74164581298828,
          217.9099884033203,
          213.51232147216797,
          233.05585479736328,
          223.76256561279297,
          217.51163482666016,
          207.39639282226562,
          221.91092681884766,
          209.9284210205078,
          204.28287506103516,
          201.19673919677734,
          212.08531951904297,
          210.39474487304688,
          209.93151092529297,
          206.62686920166016,
          214.2695083618164,
          213.9075469970703,
          215.13874053955078,
          205.84942626953125,
          213.2419891357422,
          212.44354248046875,
          206.47232055664062,
          205.56961822509766,
          213.34149169921875,
          209.6412124633789,
          202.65493774414062
         ]
        }
       ],
       "layout": {
        "template": {
         "data": {
          "bar": [
           {
            "error_x": {
             "color": "#f2f5fa"
            },
            "error_y": {
             "color": "#f2f5fa"
            },
            "marker": {
             "line": {
              "color": "rgb(17,17,17)",
              "width": 0.5
             },
             "pattern": {
              "fillmode": "overlay",
              "size": 10,
              "solidity": 0.2
             }
            },
            "type": "bar"
           }
          ],
          "barpolar": [
           {
            "marker": {
             "line": {
              "color": "rgb(17,17,17)",
              "width": 0.5
             },
             "pattern": {
              "fillmode": "overlay",
              "size": 10,
              "solidity": 0.2
             }
            },
            "type": "barpolar"
           }
          ],
          "carpet": [
           {
            "aaxis": {
             "endlinecolor": "#A2B1C6",
             "gridcolor": "#506784",
             "linecolor": "#506784",
             "minorgridcolor": "#506784",
             "startlinecolor": "#A2B1C6"
            },
            "baxis": {
             "endlinecolor": "#A2B1C6",
             "gridcolor": "#506784",
             "linecolor": "#506784",
             "minorgridcolor": "#506784",
             "startlinecolor": "#A2B1C6"
            },
            "type": "carpet"
           }
          ],
          "choropleth": [
           {
            "colorbar": {
             "outlinewidth": 0,
             "ticks": ""
            },
            "type": "choropleth"
           }
          ],
          "contour": [
           {
            "colorbar": {
             "outlinewidth": 0,
             "ticks": ""
            },
            "colorscale": [
             [
              0,
              "#0d0887"
             ],
             [
              0.1111111111111111,
              "#46039f"
             ],
             [
              0.2222222222222222,
              "#7201a8"
             ],
             [
              0.3333333333333333,
              "#9c179e"
             ],
             [
              0.4444444444444444,
              "#bd3786"
             ],
             [
              0.5555555555555556,
              "#d8576b"
             ],
             [
              0.6666666666666666,
              "#ed7953"
             ],
             [
              0.7777777777777778,
              "#fb9f3a"
             ],
             [
              0.8888888888888888,
              "#fdca26"
             ],
             [
              1,
              "#f0f921"
             ]
            ],
            "type": "contour"
           }
          ],
          "contourcarpet": [
           {
            "colorbar": {
             "outlinewidth": 0,
             "ticks": ""
            },
            "type": "contourcarpet"
           }
          ],
          "heatmap": [
           {
            "colorbar": {
             "outlinewidth": 0,
             "ticks": ""
            },
            "colorscale": [
             [
              0,
              "#0d0887"
             ],
             [
              0.1111111111111111,
              "#46039f"
             ],
             [
              0.2222222222222222,
              "#7201a8"
             ],
             [
              0.3333333333333333,
              "#9c179e"
             ],
             [
              0.4444444444444444,
              "#bd3786"
             ],
             [
              0.5555555555555556,
              "#d8576b"
             ],
             [
              0.6666666666666666,
              "#ed7953"
             ],
             [
              0.7777777777777778,
              "#fb9f3a"
             ],
             [
              0.8888888888888888,
              "#fdca26"
             ],
             [
              1,
              "#f0f921"
             ]
            ],
            "type": "heatmap"
           }
          ],
          "heatmapgl": [
           {
            "colorbar": {
             "outlinewidth": 0,
             "ticks": ""
            },
            "colorscale": [
             [
              0,
              "#0d0887"
             ],
             [
              0.1111111111111111,
              "#46039f"
             ],
             [
              0.2222222222222222,
              "#7201a8"
             ],
             [
              0.3333333333333333,
              "#9c179e"
             ],
             [
              0.4444444444444444,
              "#bd3786"
             ],
             [
              0.5555555555555556,
              "#d8576b"
             ],
             [
              0.6666666666666666,
              "#ed7953"
             ],
             [
              0.7777777777777778,
              "#fb9f3a"
             ],
             [
              0.8888888888888888,
              "#fdca26"
             ],
             [
              1,
              "#f0f921"
             ]
            ],
            "type": "heatmapgl"
           }
          ],
          "histogram": [
           {
            "marker": {
             "pattern": {
              "fillmode": "overlay",
              "size": 10,
              "solidity": 0.2
             }
            },
            "type": "histogram"
           }
          ],
          "histogram2d": [
           {
            "colorbar": {
             "outlinewidth": 0,
             "ticks": ""
            },
            "colorscale": [
             [
              0,
              "#0d0887"
             ],
             [
              0.1111111111111111,
              "#46039f"
             ],
             [
              0.2222222222222222,
              "#7201a8"
             ],
             [
              0.3333333333333333,
              "#9c179e"
             ],
             [
              0.4444444444444444,
              "#bd3786"
             ],
             [
              0.5555555555555556,
              "#d8576b"
             ],
             [
              0.6666666666666666,
              "#ed7953"
             ],
             [
              0.7777777777777778,
              "#fb9f3a"
             ],
             [
              0.8888888888888888,
              "#fdca26"
             ],
             [
              1,
              "#f0f921"
             ]
            ],
            "type": "histogram2d"
           }
          ],
          "histogram2dcontour": [
           {
            "colorbar": {
             "outlinewidth": 0,
             "ticks": ""
            },
            "colorscale": [
             [
              0,
              "#0d0887"
             ],
             [
              0.1111111111111111,
              "#46039f"
             ],
             [
              0.2222222222222222,
              "#7201a8"
             ],
             [
              0.3333333333333333,
              "#9c179e"
             ],
             [
              0.4444444444444444,
              "#bd3786"
             ],
             [
              0.5555555555555556,
              "#d8576b"
             ],
             [
              0.6666666666666666,
              "#ed7953"
             ],
             [
              0.7777777777777778,
              "#fb9f3a"
             ],
             [
              0.8888888888888888,
              "#fdca26"
             ],
             [
              1,
              "#f0f921"
             ]
            ],
            "type": "histogram2dcontour"
           }
          ],
          "mesh3d": [
           {
            "colorbar": {
             "outlinewidth": 0,
             "ticks": ""
            },
            "type": "mesh3d"
           }
          ],
          "parcoords": [
           {
            "line": {
             "colorbar": {
              "outlinewidth": 0,
              "ticks": ""
             }
            },
            "type": "parcoords"
           }
          ],
          "pie": [
           {
            "automargin": true,
            "type": "pie"
           }
          ],
          "scatter": [
           {
            "marker": {
             "line": {
              "color": "#283442"
             }
            },
            "type": "scatter"
           }
          ],
          "scatter3d": [
           {
            "line": {
             "colorbar": {
              "outlinewidth": 0,
              "ticks": ""
             }
            },
            "marker": {
             "colorbar": {
              "outlinewidth": 0,
              "ticks": ""
             }
            },
            "type": "scatter3d"
           }
          ],
          "scattercarpet": [
           {
            "marker": {
             "colorbar": {
              "outlinewidth": 0,
              "ticks": ""
             }
            },
            "type": "scattercarpet"
           }
          ],
          "scattergeo": [
           {
            "marker": {
             "colorbar": {
              "outlinewidth": 0,
              "ticks": ""
             }
            },
            "type": "scattergeo"
           }
          ],
          "scattergl": [
           {
            "marker": {
             "line": {
              "color": "#283442"
             }
            },
            "type": "scattergl"
           }
          ],
          "scattermapbox": [
           {
            "marker": {
             "colorbar": {
              "outlinewidth": 0,
              "ticks": ""
             }
            },
            "type": "scattermapbox"
           }
          ],
          "scatterpolar": [
           {
            "marker": {
             "colorbar": {
              "outlinewidth": 0,
              "ticks": ""
             }
            },
            "type": "scatterpolar"
           }
          ],
          "scatterpolargl": [
           {
            "marker": {
             "colorbar": {
              "outlinewidth": 0,
              "ticks": ""
             }
            },
            "type": "scatterpolargl"
           }
          ],
          "scatterternary": [
           {
            "marker": {
             "colorbar": {
              "outlinewidth": 0,
              "ticks": ""
             }
            },
            "type": "scatterternary"
           }
          ],
          "surface": [
           {
            "colorbar": {
             "outlinewidth": 0,
             "ticks": ""
            },
            "colorscale": [
             [
              0,
              "#0d0887"
             ],
             [
              0.1111111111111111,
              "#46039f"
             ],
             [
              0.2222222222222222,
              "#7201a8"
             ],
             [
              0.3333333333333333,
              "#9c179e"
             ],
             [
              0.4444444444444444,
              "#bd3786"
             ],
             [
              0.5555555555555556,
              "#d8576b"
             ],
             [
              0.6666666666666666,
              "#ed7953"
             ],
             [
              0.7777777777777778,
              "#fb9f3a"
             ],
             [
              0.8888888888888888,
              "#fdca26"
             ],
             [
              1,
              "#f0f921"
             ]
            ],
            "type": "surface"
           }
          ],
          "table": [
           {
            "cells": {
             "fill": {
              "color": "#506784"
             },
             "line": {
              "color": "rgb(17,17,17)"
             }
            },
            "header": {
             "fill": {
              "color": "#2a3f5f"
             },
             "line": {
              "color": "rgb(17,17,17)"
             }
            },
            "type": "table"
           }
          ]
         },
         "layout": {
          "annotationdefaults": {
           "arrowcolor": "#f2f5fa",
           "arrowhead": 0,
           "arrowwidth": 1
          },
          "autotypenumbers": "strict",
          "coloraxis": {
           "colorbar": {
            "outlinewidth": 0,
            "ticks": ""
           }
          },
          "colorscale": {
           "diverging": [
            [
             0,
             "#8e0152"
            ],
            [
             0.1,
             "#c51b7d"
            ],
            [
             0.2,
             "#de77ae"
            ],
            [
             0.3,
             "#f1b6da"
            ],
            [
             0.4,
             "#fde0ef"
            ],
            [
             0.5,
             "#f7f7f7"
            ],
            [
             0.6,
             "#e6f5d0"
            ],
            [
             0.7,
             "#b8e186"
            ],
            [
             0.8,
             "#7fbc41"
            ],
            [
             0.9,
             "#4d9221"
            ],
            [
             1,
             "#276419"
            ]
           ],
           "sequential": [
            [
             0,
             "#0d0887"
            ],
            [
             0.1111111111111111,
             "#46039f"
            ],
            [
             0.2222222222222222,
             "#7201a8"
            ],
            [
             0.3333333333333333,
             "#9c179e"
            ],
            [
             0.4444444444444444,
             "#bd3786"
            ],
            [
             0.5555555555555556,
             "#d8576b"
            ],
            [
             0.6666666666666666,
             "#ed7953"
            ],
            [
             0.7777777777777778,
             "#fb9f3a"
            ],
            [
             0.8888888888888888,
             "#fdca26"
            ],
            [
             1,
             "#f0f921"
            ]
           ],
           "sequentialminus": [
            [
             0,
             "#0d0887"
            ],
            [
             0.1111111111111111,
             "#46039f"
            ],
            [
             0.2222222222222222,
             "#7201a8"
            ],
            [
             0.3333333333333333,
             "#9c179e"
            ],
            [
             0.4444444444444444,
             "#bd3786"
            ],
            [
             0.5555555555555556,
             "#d8576b"
            ],
            [
             0.6666666666666666,
             "#ed7953"
            ],
            [
             0.7777777777777778,
             "#fb9f3a"
            ],
            [
             0.8888888888888888,
             "#fdca26"
            ],
            [
             1,
             "#f0f921"
            ]
           ]
          },
          "colorway": [
           "#636efa",
           "#EF553B",
           "#00cc96",
           "#ab63fa",
           "#FFA15A",
           "#19d3f3",
           "#FF6692",
           "#B6E880",
           "#FF97FF",
           "#FECB52"
          ],
          "font": {
           "color": "#f2f5fa"
          },
          "geo": {
           "bgcolor": "rgb(17,17,17)",
           "lakecolor": "rgb(17,17,17)",
           "landcolor": "rgb(17,17,17)",
           "showlakes": true,
           "showland": true,
           "subunitcolor": "#506784"
          },
          "hoverlabel": {
           "align": "left"
          },
          "hovermode": "closest",
          "mapbox": {
           "style": "dark"
          },
          "paper_bgcolor": "rgb(17,17,17)",
          "plot_bgcolor": "rgb(17,17,17)",
          "polar": {
           "angularaxis": {
            "gridcolor": "#506784",
            "linecolor": "#506784",
            "ticks": ""
           },
           "bgcolor": "rgb(17,17,17)",
           "radialaxis": {
            "gridcolor": "#506784",
            "linecolor": "#506784",
            "ticks": ""
           }
          },
          "scene": {
           "xaxis": {
            "backgroundcolor": "rgb(17,17,17)",
            "gridcolor": "#506784",
            "gridwidth": 2,
            "linecolor": "#506784",
            "showbackground": true,
            "ticks": "",
            "zerolinecolor": "#C8D4E3"
           },
           "yaxis": {
            "backgroundcolor": "rgb(17,17,17)",
            "gridcolor": "#506784",
            "gridwidth": 2,
            "linecolor": "#506784",
            "showbackground": true,
            "ticks": "",
            "zerolinecolor": "#C8D4E3"
           },
           "zaxis": {
            "backgroundcolor": "rgb(17,17,17)",
            "gridcolor": "#506784",
            "gridwidth": 2,
            "linecolor": "#506784",
            "showbackground": true,
            "ticks": "",
            "zerolinecolor": "#C8D4E3"
           }
          },
          "shapedefaults": {
           "line": {
            "color": "#f2f5fa"
           }
          },
          "sliderdefaults": {
           "bgcolor": "#C8D4E3",
           "bordercolor": "rgb(17,17,17)",
           "borderwidth": 1,
           "tickwidth": 0
          },
          "ternary": {
           "aaxis": {
            "gridcolor": "#506784",
            "linecolor": "#506784",
            "ticks": ""
           },
           "baxis": {
            "gridcolor": "#506784",
            "linecolor": "#506784",
            "ticks": ""
           },
           "bgcolor": "rgb(17,17,17)",
           "caxis": {
            "gridcolor": "#506784",
            "linecolor": "#506784",
            "ticks": ""
           }
          },
          "title": {
           "x": 0.05
          },
          "updatemenudefaults": {
           "bgcolor": "#506784",
           "borderwidth": 0
          },
          "xaxis": {
           "automargin": true,
           "gridcolor": "#283442",
           "linecolor": "#506784",
           "ticks": "",
           "title": {
            "standoff": 15
           },
           "zerolinecolor": "#283442",
           "zerolinewidth": 2
          },
          "yaxis": {
           "automargin": true,
           "gridcolor": "#283442",
           "linecolor": "#506784",
           "ticks": "",
           "title": {
            "standoff": 15
           },
           "zerolinecolor": "#283442",
           "zerolinewidth": 2
          }
         }
        },
        "yaxis": {
         "type": "log"
        }
       }
      }
     },
     "metadata": {},
     "output_type": "display_data"
    }
   ],
   "source": [
    "train_losses ,train_rec_losses,train_kld_losses, eval_losses = train_model(model, project_config, model_config)"
   ]
  },
  {
   "cell_type": "code",
   "execution_count": null,
   "metadata": {},
   "outputs": [],
   "source": []
  }
 ],
 "metadata": {
  "kernelspec": {
   "display_name": "Python 3.10.8 ('ThirdHand')",
   "language": "python",
   "name": "python3"
  },
  "language_info": {
   "codemirror_mode": {
    "name": "ipython",
    "version": 3
   },
   "file_extension": ".py",
   "mimetype": "text/x-python",
   "name": "python",
   "nbconvert_exporter": "python",
   "pygments_lexer": "ipython3",
   "version": "3.10.8 | packaged by conda-forge | (main, Nov 24 2022, 14:07:00) [MSC v.1916 64 bit (AMD64)]"
  },
  "orig_nbformat": 4,
  "vscode": {
   "interpreter": {
    "hash": "32d9db1937a742deca98e81c7250077b3dbbb3d3b598369d9a0a4746ee2520b3"
   }
  }
 },
 "nbformat": 4,
 "nbformat_minor": 2
}
