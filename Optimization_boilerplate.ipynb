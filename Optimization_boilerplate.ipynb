{
 "cells": [
  {
   "attachments": {},
   "cell_type": "markdown",
   "metadata": {},
   "source": [
    "# Optimizer Boiler Plate\n",
    "---\n",
    "This notebook is a boilerplate to use WandB optimizer to optimize the C-VAE model. Please be noted that the classes and functions that are used here are slightly different from the one that are persented in the ```./src``` folder. All the function here are designed to match **WandB** optimization process."
   ]
  },
  {
   "attachments": {},
   "cell_type": "markdown",
   "metadata": {},
   "source": [
    "## Imports"
   ]
  },
  {
   "cell_type": "code",
   "execution_count": 1,
   "metadata": {},
   "outputs": [],
   "source": [
    "import torch\n",
    "from torch.nn import functional as F\n",
    "\n",
    "import torch.nn as nn\n",
    "from torch import optim as optim\n",
    "\n",
    "# wandb\n",
    "import wandb\n",
    "\n",
    "# misc\n",
    "import numpy as np\n",
    "import time\n",
    "\n",
    "# modules\n",
    "from src.main_utils import Configuration\n",
    "from src.evaluation_utils import stroke_visualizer_mix \n",
    "from src.thirdHand_data_loader import get_min_max_from_dataset\n",
    "from src.train_utils import train_model\n",
    "from src.motion_visualization_tools import compare_orig_rec_gen, show_generated_motions_advanced\n",
    "from main import create_the_model"
   ]
  },
  {
   "cell_type": "markdown",
   "metadata": {},
   "source": [
    "___\n"
   ]
  },
  {
   "attachments": {},
   "cell_type": "markdown",
   "metadata": {},
   "source": [
    "## WandB Settings"
   ]
  },
  {
   "cell_type": "code",
   "execution_count": null,
   "metadata": {},
   "outputs": [],
   "source": [
    "%env \"WANDB_NOTEBOOK_NAME\" \"Optimization_boilerplate.ipynb\"\n",
    "wandb.login()"
   ]
  },
  {
   "attachments": {},
   "cell_type": "markdown",
   "metadata": {},
   "source": [
    "### Setting Sweep\n",
    "Sweep is the WandB toolkit for optimizing the model. "
   ]
  },
  {
   "cell_type": "code",
   "execution_count": 3,
   "metadata": {},
   "outputs": [],
   "source": [
    "sweep_config = {\n",
    "    'method': 'random'\n",
    "    }\n",
    "\n",
    "metric = {\n",
    "    'name': 'loss',\n",
    "    'goal': 'minimize'   \n",
    "    }\n",
    "\n",
    "sweep_config['metric'] = metric"
   ]
  },
  {
   "attachments": {},
   "cell_type": "markdown",
   "metadata": {},
   "source": [
    "### Setting hyper-parameter options\n",
    "All the hyper parameters that are going to be tested will be presented as a dictionary, Sweep randomly goes through different combinations of these options and report on the progress."
   ]
  },
  {
   "cell_type": "code",
   "execution_count": 4,
   "metadata": {},
   "outputs": [],
   "source": [
    "parameters_dict = {\n",
    "                'optimizer': {'values':['adam', 'rmsprop', 'sgd', 'nadam']}, \n",
    "                'first_filter_size': {'values':[5, 6, 7, 8, 9, 10]},\n",
    "                'latent_dim': {'values':[4, 5, 6, 7, 8]},\n",
    "                'depth':{'values':[2, 3, 4]},\n",
    "                'kernel_size': {'values':[3, 5]},\n",
    "                'dropout': {'values':[0.1, 0.2, .4, .5]},\n",
    "                'epochs': {'values':[300]}, \n",
    "                'learning_rate': {'values':[0.01, 0.001, 0.0001]},\n",
    "                'batch_size': {'values':[128]},\n",
    "                'reduction': {'values':['sum']}, #'mean'\n",
    "                'kld_weight': {'values':[0.1, 1, 10]},\n",
    "                'rec_loss': {'values':['L1', 'L2']},\n",
    "            }\n",
    "\n",
    "sweep_config['parameters'] = parameters_dict"
   ]
  },
  {
   "cell_type": "code",
   "execution_count": 5,
   "metadata": {},
   "outputs": [
    {
     "name": "stdout",
     "output_type": "stream",
     "text": [
      "Create sweep with ID: uqs31f9g\n",
      "Sweep URL: https://wandb.ai/ardibid/thirdHand_C_VAE_GitHub_Demo/sweeps/uqs31f9g\n"
     ]
    }
   ],
   "source": [
    "sweep_id = wandb.sweep(sweep_config, project=\"thirdHand_C_VAE_GitHub_Demo\")"
   ]
  },
  {
   "cell_type": "markdown",
   "metadata": {},
   "source": [
    "---"
   ]
  },
  {
   "attachments": {},
   "cell_type": "markdown",
   "metadata": {},
   "source": [
    "## C-VAE Dynamic Model Architecture"
   ]
  },
  {
   "attachments": {},
   "cell_type": "markdown",
   "metadata": {},
   "source": [
    "### Encoder"
   ]
  },
  {
   "cell_type": "code",
   "execution_count": 6,
   "metadata": {},
   "outputs": [],
   "source": [
    "class Encoder(nn.Module):\n",
    "    def __init__(self, device, first_filter_size, kernel_size, depth, dropout, latent_dim):\n",
    "        super(Encoder, self).__init__()\n",
    "        self.device= device\n",
    "        self.first_filter_size= first_filter_size\n",
    "        self.kernel_size= kernel_size\n",
    "        self.encoder_padding = kernel_size//2 -1\n",
    "        self.depth = depth \n",
    "        self.latent_dim = 2**latent_dim\n",
    "        self.filter_number = [2**(i) for i in range(first_filter_size+1)]\n",
    "        self.filter_number.reverse()\n",
    "        \n",
    "        self.filter_number = self.filter_number[:self.depth]\n",
    "        self.last_encoder_filter_size = None\n",
    "        \n",
    "        self.dropout = dropout\n",
    "        self.encoder_layers = self.make_encoder() \n",
    "        \n",
    "        self.last_filter_size = self.filter_number[0]\n",
    "        self.last_feature_size= (10-(depth*2+1))\n",
    "        self.last_dim =  self.last_filter_size*self.last_feature_size\n",
    "\n",
    "        self.flatten_layer = nn.Flatten().to(device)\n",
    "        self.convert_to_latent = nn.Linear(self.last_dim, 2*self.latent_dim).to(device)\n",
    "        \n",
    "    def make_encoder(self):\n",
    "        encoder_cnn_blocks = []\n",
    "        \n",
    "        for i in range(len(self.filter_number)):\n",
    "            if i ==0:\n",
    "                in_dim = 20\n",
    "                out_dim = self.filter_number[i]   \n",
    "            else:\n",
    "                in_dim = self.filter_number[i-1]\n",
    "                out_dim = self.filter_number[i]\n",
    "                \n",
    "            cnn_block_layers=[\n",
    "                            nn.Conv1d(in_channels= in_dim, \n",
    "                                    out_channels= out_dim, \n",
    "                                    kernel_size= self.kernel_size, \n",
    "                                    padding= self.encoder_padding),\n",
    "                            nn.BatchNorm1d(out_dim),\n",
    "                            nn.ReLU(),\n",
    "                            nn.Dropout(self.dropout),\n",
    "                            ]\n",
    "            \n",
    "            cnn_block = nn.Sequential(*cnn_block_layers).to(self.device)\n",
    "            \n",
    "            encoder_cnn_blocks.append(cnn_block)\n",
    "            self.last_encoder_filter_size = out_dim\n",
    "            \n",
    "        self.filter_number.reverse()\n",
    "        \n",
    "        return nn.ModuleList(encoder_cnn_blocks)\n",
    "    \n",
    "    \n",
    "    def reparametrization(self, mean, log_var):\n",
    "        \"\"\"\n",
    "        Samples from a normal distribution with a given set of\n",
    "        means and log_vars\n",
    "        \"\"\"\n",
    "        # epsilon is a vector of size (1, latent_dim)\n",
    "        # it is samples from a Standard Normal distribution\n",
    "        # mean = 0. and std = 1.\n",
    "        epsilon = torch.normal(mean= 0, std= 1, size = log_var.shape).to(self.device) \n",
    "\n",
    "        # we need to convert log(var) into var:\n",
    "        var = torch.exp(log_var*0.5)\n",
    "        # epsilon = torch.randn_like(var)\n",
    "        # now, we change the standard normal distributions to\n",
    "        # a set of non standard normal distributions\n",
    "        z = mean + epsilon*var\n",
    "        return z\n",
    "    \n",
    "    def forward(self, x, y):\n",
    "        \n",
    "        for block in self.encoder_layers:\n",
    "            x = block(x) \n",
    "\n",
    "        latent_ready = self.flatten_layer(x) \n",
    "        latent = self.convert_to_latent(latent_ready)\n",
    "\n",
    "        mean = latent[:, : self.latent_dim]\n",
    "        log_var = latent[:,self.latent_dim:]\n",
    "\n",
    "        z = self.reparametrization(mean, log_var)\n",
    "\n",
    "        return z, mean, log_var"
   ]
  },
  {
   "attachments": {},
   "cell_type": "markdown",
   "metadata": {},
   "source": [
    "### Decoder"
   ]
  },
  {
   "cell_type": "code",
   "execution_count": 7,
   "metadata": {},
   "outputs": [],
   "source": [
    "class Decoder(nn.Module):\n",
    "    def __init__(self, device, first_filter_size, kernel_size, depth, latent_dim, last_filter_size, last_feature_size):\n",
    "        super(Decoder, self).__init__()\n",
    "        \n",
    "        self.device= device\n",
    "        self.first_filter_size= first_filter_size\n",
    "        self.kernel_size= kernel_size\n",
    "        self.encoder_padding = kernel_size//2 -1\n",
    "        self.depth = depth \n",
    "        self.latent_dim = 2**latent_dim\n",
    "        self.last_filter_size= last_filter_size\n",
    "        self.last_feature_size= last_feature_size\n",
    "        \n",
    "        \n",
    "        \n",
    "        self.filter_number = [2**(i) for i in range(first_filter_size+1)]        \n",
    "        self.filter_number = self.filter_number[-self.depth:]\n",
    "        self.filter_number.reverse()\n",
    "        \n",
    "        self.decoder_layers = self.make_decoder()\n",
    "        self.z_to_decoder = nn.Linear(self.latent_dim+1,self.last_filter_size*self.last_feature_size).to(device)\n",
    "       \n",
    "    def make_decoder(self):\n",
    "        decoder_cnn_blocks = []\n",
    "        \n",
    "        for i in range(len(self.filter_number)+1):\n",
    "            self.decoder_padding = self.encoder_padding\n",
    "            if i == 0:\n",
    "                in_dim = self.last_filter_size\n",
    "                out_dim = self.filter_number[i]\n",
    "                \n",
    "            elif i == len(self.filter_number):\n",
    "                in_dim = self.filter_number[i-1]\n",
    "                out_dim = 20  \n",
    "                self.decoder_padding += 1\n",
    "                \n",
    "            else:\n",
    "                in_dim = self.filter_number[i-1]\n",
    "                out_dim = self.filter_number[i]\n",
    "                        \n",
    "            cnn_block_layers = [\n",
    "                                nn.ConvTranspose1d(in_channels= in_dim, \n",
    "                                                    out_channels= out_dim, \n",
    "                                                    kernel_size= self.kernel_size, \n",
    "                                                    padding= self.decoder_padding,\n",
    "                                                    ),\n",
    "                                ]\n",
    "            \n",
    "            \n",
    "            cnn_block = nn.Sequential(*cnn_block_layers).to(self.device)\n",
    "            decoder_cnn_blocks.append(cnn_block)\n",
    "            \n",
    "        return nn.ModuleList(decoder_cnn_blocks)\n",
    "    \n",
    "    def forward(self, z, y):\n",
    "        # print(z.shape, y.shape)\n",
    "        fused_data =  torch.cat((z,y[:,0,:]), dim=1)\n",
    "        # print( z.shape, y.shape, fused_data.shape)\n",
    "        decoded = self.z_to_decoder(fused_data).view(-1, self.last_filter_size, self.last_feature_size)\n",
    "        \n",
    "        #decoded = self.z_to_decoder(z).view(-1, self.last_filter_size, self.last_feature_size)\n",
    "        \n",
    "        for block in self.decoder_layers:\n",
    "            decoded = block(decoded)\n",
    "        \n",
    "        return decoded "
   ]
  },
  {
   "attachments": {},
   "cell_type": "markdown",
   "metadata": {},
   "source": [
    "### C-VAE"
   ]
  },
  {
   "cell_type": "code",
   "execution_count": 8,
   "metadata": {},
   "outputs": [],
   "source": [
    "class VAE_CNN(nn.Module):\n",
    "    def __init__(self, device, first_filter_size, kernel_size, depth, dropout, latent_dim, rec_loss, reduction, kld_weight):\n",
    "        super(VAE_CNN, self).__init__()\n",
    "\n",
    "        self.encoder = Encoder(\n",
    "                                device, \n",
    "                                first_filter_size, \n",
    "                                kernel_size, \n",
    "                                depth, \n",
    "                                dropout, \n",
    "                                latent_dim,\n",
    "                                )\n",
    "\n",
    "        self.decoder = Decoder(\n",
    "                                device, \n",
    "                                first_filter_size, \n",
    "                                kernel_size, \n",
    "                                depth, \n",
    "                                latent_dim, \n",
    "                                self.encoder.last_filter_size,\n",
    "                                self.encoder.last_feature_size,\n",
    "                                )\n",
    "        \n",
    "        self.reduction = reduction\n",
    "        self.kld_weight = kld_weight\n",
    "        self.rec_loss = rec_loss\n",
    "        \n",
    "    def vae_loss_function(self, x, x_rec, log_var, mean):\n",
    "        if self.rec_loss == \"L1\":\n",
    "            train_rec_loss = F.l1_loss(x_rec, x, reduction=self.reduction)   \n",
    "        else:\n",
    "            train_rec_loss = F.mse_loss(x_rec, x, reduction=self.reduction)     \n",
    "        train_kld_loss = torch.mean(-0.5 * torch.sum(1 + log_var - mean**2 - log_var.exp(), dim = 1), dim = 0)\n",
    "\n",
    "        train_loss = train_rec_loss  + train_kld_loss*self.kld_weight\n",
    "        \n",
    "        return train_loss, train_rec_loss, train_kld_loss*self.kld_weight  \n",
    "    \n",
    "    def forward(self, x, y):\n",
    "        z, mean, log_var = self.encoder(x, y)\n",
    "        x_rec = self.decoder(z, y)\n",
    "        return x_rec, mean, log_var\n",
    "        "
   ]
  },
  {
   "cell_type": "code",
   "execution_count": 9,
   "metadata": {},
   "outputs": [],
   "source": [
    "def vae_loss_function(x, x_rec, log_var, mean, rec_loss, reduction, kld_weight):\n",
    "    if rec_loss == \"L1\":\n",
    "        train_rec_loss = F.l1_loss(x_rec, x, reduction=reduction)   \n",
    "    else:\n",
    "        train_rec_loss = F.mse_loss(x_rec, x, reduction=reduction)     \n",
    "    train_kld_loss = torch.mean(-0.5 * torch.sum(1 + log_var - mean**2 - log_var.exp(), dim = 1), dim = 0)\n",
    "\n",
    "    train_loss = train_rec_loss  + train_kld_loss*kld_weight\n",
    "    \n",
    "    return train_loss, train_rec_loss, train_kld_loss*kld_weight"
   ]
  },
  {
   "cell_type": "markdown",
   "metadata": {},
   "source": [
    "## Training functions"
   ]
  },
  {
   "cell_type": "markdown",
   "metadata": {},
   "source": [
    "---\n",
    "### Only for training outside of **wandb**"
   ]
  },
  {
   "cell_type": "code",
   "execution_count": 10,
   "metadata": {},
   "outputs": [],
   "source": [
    "def eval_epoch(\n",
    "                model, \n",
    "                config, \n",
    "                data_iterator, \n",
    "                plot= False, \n",
    "                scaled_plot= False, \n",
    "                update_tensorboard= False, \n",
    "                epoch=None, \n",
    "                loss_function= None, \n",
    "                show_one_sample= False,\n",
    "                save_plot= False,\n",
    "                path_to_save_plot = None,\n",
    "                is_vae= False,\n",
    "                rec_loss= \"L1\", \n",
    "                reduction=\"sum\", \n",
    "                kld_weight= 1e-1):\n",
    "    \n",
    "    \n",
    "    model.eval()\n",
    "    batch_eval_loss = 0\n",
    "    batch_eval_rec_losses= 0 \n",
    "    batch_eval_kld_losses= 0\n",
    "    \n",
    "    item_to_show = np.random.randint(len(config.valid_iterator))\n",
    "    \n",
    "    for i, data in enumerate(config.valid_iterator):\n",
    "        x= data[config.data_item]\n",
    "        y= data[\"Y\"]\n",
    "        \n",
    "        x_rec = model(x, y)\n",
    "        if is_vae:\n",
    "            x_rec, mean, log_var = model(x,y)\n",
    "            eval_loss, eval_rec_losses, eval_kld_losses = loss_function(\n",
    "                                                                        x, \n",
    "                                                                        x_rec, \n",
    "                                                                        log_var,\n",
    "                                                                        mean, \n",
    "                                                                        rec_loss= \"L1\", \n",
    "                                                                        reduction='sum', \n",
    "                                                                        kld_weight= kld_weight,\n",
    "                                                                        )\n",
    "            batch_eval_loss += eval_loss.item()\n",
    "            batch_eval_rec_losses += eval_rec_losses.item()\n",
    "            batch_eval_kld_losses += eval_kld_losses.item()\n",
    "        \n",
    "        else:\n",
    "            eval_loss = loss_function(x, x_rec)\n",
    "            batch_eval_loss += eval_loss.item()\n",
    "        \n",
    "        if i == 0:\n",
    "            if plot or update_tensorboard or save_plot:\n",
    "                if scaled_plot:\n",
    "                    if config.data_item == 2:\n",
    "                        min = data[5][0]\n",
    "                        max = data[6][0]\n",
    "                        x = (x + min) * (max-min)\n",
    "                        x_rec = (x_rec + min) * (max-min)\n",
    "\n",
    "                    elif config.data_item == 4:\n",
    "                        min = data[7][0]\n",
    "                        max = data[8][0]\n",
    "                        x = (x + min) * (max-min)\n",
    "                        x_rec = (x_rec + min) * (max-min)               \n",
    "                    \n",
    "                fig = stroke_visualizer_mix(x, x_rec)\n",
    "                \n",
    "                if plot:\n",
    "                    fig.show()\n",
    "                \n",
    "                if update_tensorboard:\n",
    "                    fig.write_image(path_to_save_plot) \n",
    "                    image =  Image.open(path_to_save_plot)\n",
    "                    image = np.asarray(image)\n",
    "                    \n",
    "                    config.writer.add_image(tag='test_progress', \n",
    "                                        img_tensor = image,\n",
    "                                        global_step= epoch,\n",
    "                                        dataformats='HWC') \n",
    "                if save_plot:\n",
    "                    fig.write_image(path_to_save_plot) \n",
    "                    \n",
    "    counter = len(config.valid_iterator)   \n",
    "    \n",
    "    if is_vae:\n",
    "        return (batch_eval_loss/counter,\n",
    "                batch_eval_rec_losses/counter, \n",
    "                batch_eval_kld_losses/counter)\n",
    "    else:     \n",
    "        return batch_eval_loss/counter               \n"
   ]
  },
  {
   "cell_type": "markdown",
   "metadata": {},
   "source": [
    "___\n",
    "# WandB Process"
   ]
  },
  {
   "cell_type": "markdown",
   "metadata": {},
   "source": [
    "### Supporting functions"
   ]
  },
  {
   "cell_type": "code",
   "execution_count": 11,
   "metadata": {},
   "outputs": [],
   "source": [
    "def optimizer_selector(model, optimizer_name, lr):\n",
    "    if optimizer_name == \"adam\":\n",
    "        optimzer = optim.Adam(model.parameters(), lr = lr)\n",
    "        \n",
    "    elif optimizer_name == \"rmsprop\":\n",
    "        optimzer = optim.RMSprop(model.parameters(), lr = lr)\n",
    "        \n",
    "    elif optimizer_name == \"sgd\":\n",
    "        optimzer = optim.SGD(model.parameters(), lr = lr)\n",
    "        \n",
    "    elif optimizer_name == \"nadam\":\n",
    "        optimzer = optim.NAdam(model.parameters(), lr = lr)\n",
    "        \n",
    "    return optimzer\n",
    "\n",
    "def dataset_maker(batch_size, project_config):\n",
    "    project_config.batch_size = batch_size\n",
    "    project_config.process_dataset_dataloaders() \n",
    "    \n",
    "    \n",
    "def train_epoch(model, project_config, optimizer):\n",
    "    model.train()\n",
    "    epoch_loss = 0\n",
    "    epoch_rec_loss = 0\n",
    "    epoch_kld_loss = 0\n",
    "    \n",
    "    for data in project_config.train_iterator:\n",
    "        x= data[project_config.data_item]\n",
    "        y= data[\"Y\"]\n",
    "        \n",
    "        optimizer.zero_grad()\n",
    "        x_rec, mean, log_var = model(x,y)\n",
    "        \n",
    "        \n",
    "        train_loss, train_rec_loss, train_kld_loss = vae_loss_function (x, \n",
    "                                                                        x_rec, \n",
    "                                                                        log_var, \n",
    "                                                                        mean, \n",
    "                                                                        rec_loss= model.rec_loss, \n",
    "                                                                        reduction= model.reduction,\n",
    "                                                                        kld_weight= model.kld_weight)\n",
    "        \n",
    "        # updating the history\n",
    "        epoch_rec_loss += train_rec_loss.item()\n",
    "        epoch_kld_loss += train_kld_loss.item()\n",
    "        epoch_loss += train_loss.item() \n",
    "        \n",
    "        train_loss.backward()\n",
    "        optimizer.step()\n",
    "    \n",
    "        \n",
    "                   \n",
    "    counter = len(project_config.train_iterator)  \n",
    "     \n",
    "    results = [epoch_loss/counter,\n",
    "                epoch_rec_loss/counter, \n",
    "                epoch_kld_loss/counter]   \n",
    "  \n",
    "    return results"
   ]
  },
  {
   "cell_type": "markdown",
   "metadata": {},
   "source": [
    "---"
   ]
  },
  {
   "attachments": {},
   "cell_type": "markdown",
   "metadata": {},
   "source": [
    "## Optimization\n",
    "WandB will use this train function to generate various architectures and train them to figure out which architecture is the best. "
   ]
  },
  {
   "cell_type": "code",
   "execution_count": 12,
   "metadata": {},
   "outputs": [],
   "source": [
    "def optimizer_loop(config=None):    \n",
    "    path_to_save_plot = \"runs/progress/tmp_fig.png\"\n",
    "    \n",
    "    with wandb.init(config=config):\n",
    "        config = wandb.config # this one basically iterates over the configuration settings\n",
    "\n",
    "        # going through data, model, and optimizer variations\n",
    "        dataset_maker(config.batch_size, project_config)\n",
    "\n",
    "        model = VAE_CNN(device= project_config.device, \n",
    "                        first_filter_size= config.first_filter_size, \n",
    "                        kernel_size= config.kernel_size, \n",
    "                        depth= config.depth, \n",
    "                        dropout= config.dropout,\n",
    "                        latent_dim= config.latent_dim,\n",
    "                        rec_loss= config.rec_loss, \n",
    "                        reduction= config.reduction, \n",
    "                        kld_weight= config.kld_weight)\n",
    "\n",
    "        optimizer= optimizer_selector(model, config.optimizer, config.learning_rate)\n",
    "        \n",
    "        # main train loop\n",
    "        for epoch in range(config.epochs):\n",
    "            train_loss, train_rec_loss, train_kld_loss = train_epoch(model, \n",
    "                                                                    project_config,\n",
    "                                                                    optimizer)\n",
    "            \n",
    "            if epoch % 100 == 99:\n",
    "                log_plot= True\n",
    "            else:\n",
    "                log_plot= False  \n",
    "\n",
    "            try:\n",
    "                eval_loss, eval_rec_losses, eval_kld_loss = eval_epoch(\n",
    "                                                                model= model, \n",
    "                                                                config= project_config, \n",
    "                                                                data_iterator= project_config.valid_iterator, \n",
    "                                                                plot= False,\n",
    "                                                                scaled_plot= False,\n",
    "                                                                update_tensorboard= False,\n",
    "                                                                epoch= epoch,\n",
    "                                                                loss_function= vae_loss_function,\n",
    "                                                                show_one_sample= False,\n",
    "                                                                save_plot= log_plot,\n",
    "                                                                path_to_save_plot = path_to_save_plot,\n",
    "                                                                is_vae= True,\n",
    "                                                                rec_loss= model.rec_loss, \n",
    "                                                                reduction=model.reduction, \n",
    "                                                                kld_weight= model.kld_weight,\n",
    "                                                                )\n",
    "            \n",
    "                if epoch % 10 == 0:\n",
    "                    # updating the training progress after each 10 epochs \n",
    "                    # we don't do it every epoch to save time\n",
    "                    wandb.log(dict(loss= train_loss, epoch= epoch))\n",
    "                    wandb.log(dict(loss_rec = train_rec_loss, epoch= epoch))\n",
    "                    wandb.log(dict(loss_KLD= train_kld_loss, epoch= epoch))\n",
    "                    wandb.log(dict(eval_loss=eval_loss,epoch= epoch))\n",
    "                    wandb.log(dict(eval_rec=eval_rec_losses,epoch= epoch))\n",
    "                    wandb.log(dict(eval_KLD=eval_kld_loss,epoch= epoch))\n",
    "                \n",
    "                if log_plot:\n",
    "                    # saving an image of the process every 100 epochs\n",
    "                    # if we do it more than this, it will kill time!\n",
    "                    wandb.log({\"eval_sample\":wandb.Image(path_to_save_plot)})\n",
    "            except:\n",
    "                print (\"something happend to the eval process, some issues with colors\")"
   ]
  },
  {
   "attachments": {},
   "cell_type": "markdown",
   "metadata": {},
   "source": [
    "### Running the optimization process"
   ]
  },
  {
   "cell_type": "code",
   "execution_count": 13,
   "metadata": {},
   "outputs": [
    {
     "name": "stdout",
     "output_type": "stream",
     "text": [
      "Data loaded from 11 filse, stored in a dataframe with shape (248486, 10)\n",
      "Dataframe headers are: ['px', 'py', 'pz', 'v1x', 'v1y', 'v1z', 'v2x', 'v2y', 'v2z', 'hand']\n",
      "Data loaded from 2 filse, stored in a dataframe with shape (54402, 10)\n",
      "Dataframe headers are: ['px', 'py', 'pz', 'v1x', 'v1y', 'v1z', 'v2x', 'v2y', 'v2z', 'hand']\n"
     ]
    },
    {
     "name": "stderr",
     "output_type": "stream",
     "text": [
      "\u001b[34m\u001b[1mwandb\u001b[0m: Agent Starting Run: yreojszz with config:\n",
      "\u001b[34m\u001b[1mwandb\u001b[0m: \tbatch_size: 128\n",
      "\u001b[34m\u001b[1mwandb\u001b[0m: \tdepth: 2\n",
      "\u001b[34m\u001b[1mwandb\u001b[0m: \tdropout: 0.1\n",
      "\u001b[34m\u001b[1mwandb\u001b[0m: \tepochs: 300\n",
      "\u001b[34m\u001b[1mwandb\u001b[0m: \tfirst_filter_size: 10\n",
      "\u001b[34m\u001b[1mwandb\u001b[0m: \tkernel_size: 5\n",
      "\u001b[34m\u001b[1mwandb\u001b[0m: \tkld_weight: 10\n",
      "\u001b[34m\u001b[1mwandb\u001b[0m: \tlatent_dim: 5\n",
      "\u001b[34m\u001b[1mwandb\u001b[0m: \tlearning_rate: 0.0001\n",
      "\u001b[34m\u001b[1mwandb\u001b[0m: \toptimizer: adam\n",
      "\u001b[34m\u001b[1mwandb\u001b[0m: \trec_loss: L2\n",
      "\u001b[34m\u001b[1mwandb\u001b[0m: \treduction: sum\n",
      "Failed to detect the name of this notebook, you can set it manually with the WANDB_NOTEBOOK_NAME environment variable to enable code saving.\n"
     ]
    },
    {
     "data": {
      "text/html": [
       "Tracking run with wandb version 0.13.7"
      ],
      "text/plain": [
       "<IPython.core.display.HTML object>"
      ]
     },
     "metadata": {},
     "output_type": "display_data"
    },
    {
     "data": {
      "text/html": [
       "Run data is saved locally in <code>c:\\Users\\Ardavan\\Documents\\GitHub\\ThirdHand\\wandb\\run-20230104_183213-yreojszz</code>"
      ],
      "text/plain": [
       "<IPython.core.display.HTML object>"
      ]
     },
     "metadata": {},
     "output_type": "display_data"
    },
    {
     "data": {
      "text/html": [
       "Syncing run <strong><a href=\"https://wandb.ai/ardibid/thirdHand_C_VAE_GitHub_Demo/runs/yreojszz\" target=\"_blank\">polar-sweep-1</a></strong> to <a href=\"https://wandb.ai/ardibid/thirdHand_C_VAE_GitHub_Demo\" target=\"_blank\">Weights & Biases</a> (<a href=\"https://wandb.me/run\" target=\"_blank\">docs</a>)<br/>Sweep page:  <a href=\"https://wandb.ai/ardibid/thirdHand_C_VAE_GitHub_Demo/sweeps/uqs31f9g\" target=\"_blank\">https://wandb.ai/ardibid/thirdHand_C_VAE_GitHub_Demo/sweeps/uqs31f9g</a>"
      ],
      "text/plain": [
       "<IPython.core.display.HTML object>"
      ]
     },
     "metadata": {},
     "output_type": "display_data"
    },
    {
     "data": {
      "text/html": [
       "Waiting for W&B process to finish... <strong style=\"color:green\">(success).</strong>"
      ],
      "text/plain": [
       "<IPython.core.display.HTML object>"
      ]
     },
     "metadata": {},
     "output_type": "display_data"
    },
    {
     "data": {
      "text/html": [
       "<style>\n",
       "    table.wandb td:nth-child(1) { padding: 0 10px; text-align: left ; width: auto;} td:nth-child(2) {text-align: left ; width: 100%}\n",
       "    .wandb-row { display: flex; flex-direction: row; flex-wrap: wrap; justify-content: flex-start; width: 100% }\n",
       "    .wandb-col { display: flex; flex-direction: column; flex-basis: 100%; flex: 1; padding: 10px; }\n",
       "    </style>\n",
       "<div class=\"wandb-row\"><div class=\"wandb-col\"><h3>Run history:</h3><br/><table class=\"wandb\"><tr><td>epoch</td><td>▁▁▁▁▂▂▂▂▂▂▃▃▃▃▃▄▄▄▄▄▅▅▅▅▅▆▆▆▆▆▆▇▇▇▇▇████</td></tr><tr><td>eval_KLD</td><td>▁█▇▆▆▆▆▆▆▆▆▆▆▆▆▆▆▆▆▇▆▆▆▇▆▆▆▆▆▆</td></tr><tr><td>eval_loss</td><td>█▁▁▁▁▁▁▁▁▁▁▁▁▁▁▁▁▁▁▁▁▁▁▁▁▁▁▁▁▁</td></tr><tr><td>eval_rec</td><td>█▁▁▁▁▁▁▁▁▁▁▁▁▁▁▁▁▁▁▁▁▁▁▁▁▁▁▁▁▁</td></tr><tr><td>loss</td><td>█▁▁▁▁▁▁▁▁▁▁▁▁▁▁▁▁▁▁▁▁▁▁▁▁▁▁▁▁▁</td></tr><tr><td>loss_KLD</td><td>█▂▁▁▁▁▁▁▁▁▁▁▁▁▁▁▁▁▁▁▁▁▁▁▁▁▁▁▁▁</td></tr><tr><td>loss_rec</td><td>█▁▁▁▁▁▁▁▁▁▁▁▁▁▁▁▁▁▁▁▁▁▁▁▁▁▁▁▁▁</td></tr></table><br/></div><div class=\"wandb-col\"><h3>Run summary:</h3><br/><table class=\"wandb\"><tr><td>epoch</td><td>290</td></tr><tr><td>eval_KLD</td><td>45.14679</td></tr><tr><td>eval_loss</td><td>864.91986</td></tr><tr><td>eval_rec</td><td>819.77304</td></tr><tr><td>loss</td><td>99.95659</td></tr><tr><td>loss_KLD</td><td>46.21644</td></tr><tr><td>loss_rec</td><td>53.74015</td></tr></table><br/></div></div>"
      ],
      "text/plain": [
       "<IPython.core.display.HTML object>"
      ]
     },
     "metadata": {},
     "output_type": "display_data"
    },
    {
     "data": {
      "text/html": [
       "Synced <strong style=\"color:#cdcd00\">polar-sweep-1</strong>: <a href=\"https://wandb.ai/ardibid/thirdHand_C_VAE_GitHub_Demo/runs/yreojszz\" target=\"_blank\">https://wandb.ai/ardibid/thirdHand_C_VAE_GitHub_Demo/runs/yreojszz</a><br/>Synced 4 W&B file(s), 3 media file(s), 0 artifact file(s) and 0 other file(s)"
      ],
      "text/plain": [
       "<IPython.core.display.HTML object>"
      ]
     },
     "metadata": {},
     "output_type": "display_data"
    },
    {
     "data": {
      "text/html": [
       "Find logs at: <code>.\\wandb\\run-20230104_183213-yreojszz\\logs</code>"
      ],
      "text/plain": [
       "<IPython.core.display.HTML object>"
      ]
     },
     "metadata": {},
     "output_type": "display_data"
    }
   ],
   "source": [
    "project_config = Configuration()\n",
    "wandb.agent(sweep_id, optimizer_loop, count= 1)"
   ]
  },
  {
   "cell_type": "markdown",
   "metadata": {},
   "source": [
    "---"
   ]
  },
  {
   "attachments": {},
   "cell_type": "markdown",
   "metadata": {},
   "source": [
    "## Inserting the optimized hyper-parameters to make the final model"
   ]
  },
  {
   "cell_type": "markdown",
   "metadata": {},
   "source": [
    "Once the model is optimized, fill in the blanks and test the model"
   ]
  },
  {
   "cell_type": "code",
   "execution_count": 14,
   "metadata": {},
   "outputs": [
    {
     "name": "stdout",
     "output_type": "stream",
     "text": [
      "Data loaded from 11 filse, stored in a dataframe with shape (248486, 10)\n",
      "Dataframe headers are: ['px', 'py', 'pz', 'v1x', 'v1y', 'v1z', 'v2x', 'v2y', 'v2z', 'hand']\n",
      "Data loaded from 2 filse, stored in a dataframe with shape (54402, 10)\n",
      "Dataframe headers are: ['px', 'py', 'pz', 'v1x', 'v1y', 'v1z', 'v2x', 'v2y', 'v2z', 'hand']\n"
     ]
    }
   ],
   "source": [
    "model, project_config, model_config = create_the_model(device= 'cuda', \n",
    "                                                        csv_folder_path= None, \n",
    "                                                        tresh_l= 0.289, \n",
    "                                                        tresh_h_normal= 0.4, \n",
    "                                                        tresh_h_riz= 0.27, \n",
    "                                                        dist= 15, \n",
    "                                                        peak_dist= 30, \n",
    "                                                        motion_fixed_length= 20, \n",
    "                                                        data_item=\"X_centered_scaled\",\n",
    "                                                        batch_size= 128, \n",
    "                                                        kernel_size= 5,  \n",
    "                                                        first_filter_size= 9,  \n",
    "                                                        depth= 2, \n",
    "                                                        dropout= 0.1,\n",
    "                                                        epochs= 300, \n",
    "                                                        latent_dim= 8,\n",
    "                                                        rec_loss= \"L1\",\n",
    "                                                        reduction= \"sum\",\n",
    "                                                        kld_weight= 1e-1,\n",
    "                                                        model_name_to_save= \"c_vae_model\")"
   ]
  },
  {
   "cell_type": "code",
   "execution_count": 15,
   "metadata": {},
   "outputs": [
    {
     "name": "stdout",
     "output_type": "stream",
     "text": [
      "Image 0 saved\n",
      "0:\tTotal: 6005.45348\tEval loss: 8098.43213\t Rec loss: 5998.88065\t KLD loss: 6.57288\t time: 1.7s\n",
      "Image 50 saved\n",
      "50:\tTotal: 449.63744\tEval loss: 447.07079\t Rec loss: 392.88063\t KLD loss: 56.75681\t time: 10.1s\n",
      "Image 100 saved\n",
      "100:\tTotal: 381.84488\tEval loss: 313.89047\t Rec loss: 324.97815\t KLD loss: 56.86673\t time: 18.1s\n",
      "Image 150 saved\n",
      "150:\tTotal: 354.65965\tEval loss: 287.46407\t Rec loss: 298.74484\t KLD loss: 55.91481\t time: 26.3s\n",
      "Image 200 saved\n",
      "200:\tTotal: 313.29176\tEval loss: 271.97845\t Rec loss: 258.30891\t KLD loss: 54.98285\t time: 34.5s\n",
      "Image 250 saved\n",
      "250:\tTotal: 302.87928\tEval loss: 251.59362\t Rec loss: 248.91885\t KLD loss: 53.96043\t time: 43.4s\n",
      "Image 300 saved\n",
      "300:\tTotal: 296.06186\tEval loss: 244.19494\t Rec loss: 242.87177\t KLD loss: 53.19009\t time: 51.9s\n"
     ]
    },
    {
     "data": {
      "application/vnd.plotly.v1+json": {
       "config": {
        "plotlyServerURL": "https://plot.ly"
       },
       "data": [
        {
         "mode": "lines",
         "name": "training",
         "type": "scatter",
         "x": [
          0,
          1,
          2,
          3,
          4,
          5,
          6,
          7,
          8,
          9,
          10,
          11,
          12,
          13,
          14,
          15,
          16,
          17,
          18,
          19,
          20,
          21,
          22,
          23,
          24,
          25,
          26,
          27,
          28,
          29,
          30,
          31,
          32,
          33,
          34,
          35,
          36,
          37,
          38,
          39,
          40,
          41,
          42,
          43,
          44,
          45,
          46,
          47,
          48,
          49,
          50,
          51,
          52,
          53,
          54,
          55,
          56,
          57,
          58,
          59,
          60,
          61,
          62,
          63,
          64,
          65,
          66,
          67,
          68,
          69,
          70,
          71,
          72,
          73,
          74,
          75,
          76,
          77,
          78,
          79,
          80,
          81,
          82,
          83,
          84,
          85,
          86,
          87,
          88,
          89,
          90,
          91,
          92,
          93,
          94,
          95,
          96,
          97,
          98,
          99,
          100,
          101,
          102,
          103,
          104,
          105,
          106,
          107,
          108,
          109,
          110,
          111,
          112,
          113,
          114,
          115,
          116,
          117,
          118,
          119,
          120,
          121,
          122,
          123,
          124,
          125,
          126,
          127,
          128,
          129,
          130,
          131,
          132,
          133,
          134,
          135,
          136,
          137,
          138,
          139,
          140,
          141,
          142,
          143,
          144,
          145,
          146,
          147,
          148,
          149,
          150,
          151,
          152,
          153,
          154,
          155,
          156,
          157,
          158,
          159,
          160,
          161,
          162,
          163,
          164,
          165,
          166,
          167,
          168,
          169,
          170,
          171,
          172,
          173,
          174,
          175,
          176,
          177,
          178,
          179,
          180,
          181,
          182,
          183,
          184,
          185,
          186,
          187,
          188,
          189,
          190,
          191,
          192,
          193,
          194,
          195,
          196,
          197,
          198,
          199,
          200,
          201,
          202,
          203,
          204,
          205,
          206,
          207,
          208,
          209,
          210,
          211,
          212,
          213,
          214,
          215,
          216,
          217,
          218,
          219,
          220,
          221,
          222,
          223,
          224,
          225,
          226,
          227,
          228,
          229,
          230,
          231,
          232,
          233,
          234,
          235,
          236,
          237,
          238,
          239,
          240,
          241,
          242,
          243,
          244,
          245,
          246,
          247,
          248,
          249,
          250,
          251,
          252,
          253,
          254,
          255,
          256,
          257,
          258,
          259,
          260,
          261,
          262,
          263,
          264,
          265,
          266,
          267,
          268,
          269,
          270,
          271,
          272,
          273,
          274,
          275,
          276,
          277,
          278,
          279,
          280,
          281,
          282,
          283,
          284,
          285,
          286,
          287,
          288,
          289,
          290,
          291,
          292,
          293,
          294,
          295,
          296,
          297,
          298,
          299,
          300
         ],
         "y": [
          6005.453481820913,
          2789.081843449519,
          1789.3144061748799,
          1338.182147686298,
          1092.2349149263823,
          991.420151930589,
          937.0005540114182,
          974.1452824519231,
          880.930678147536,
          783.9858914888822,
          752.7637892503005,
          729.4498854417068,
          727.6050368088943,
          704.8619807316707,
          689.9038977989784,
          658.191176194411,
          625.6148024338943,
          601.4787832406851,
          605.4173114483173,
          598.1295494666466,
          584.6142343374399,
          636.3013070913462,
          573.8349844125601,
          566.6006047175481,
          539.6205397385818,
          545.9737126277043,
          541.6232440655048,
          541.0692279522235,
          526.465562086839,
          527.6701237605168,
          530.7631296011118,
          521.1639662522537,
          518.9797152005709,
          506.1606961763822,
          513.1443997896635,
          531.2077847994291,
          545.308840238131,
          564.4477304311899,
          496.7608243502103,
          495.5755380483774,
          522.5545184795673,
          500.8795494666466,
          479.7456946739784,
          481.29288423978363,
          490.56302349384015,
          470.90176156850964,
          475.85089111328125,
          469.7411874624399,
          466.8631850022536,
          468.9414297250601,
          449.63743943434497,
          456.9010502741887,
          442.6761545034555,
          447.68413602388824,
          445.4499065692608,
          442.3221928523137,
          441.4184898963341,
          463.60775991586536,
          455.93941791240985,
          439.05006056565503,
          439.114983191857,
          441.1669428898738,
          429.02655029296875,
          427.2857173039363,
          418.5648451585036,
          424.12467134915863,
          408.53333928034857,
          414.6908616286058,
          413.6604966383714,
          413.02154775766223,
          406.60684673602765,
          415.8744812011719,
          435.56871150090143,
          466.0602463942308,
          420.2905602088341,
          422.9351031963642,
          423.43982872596155,
          394.0171227088341,
          404.08277775691107,
          396.367671086238,
          393.9288729154147,
          409.0026127741887,
          400.7621319110577,
          388.5602722167969,
          391.3754554161659,
          405.2403118426983,
          402.6547194260817,
          385.2031977726863,
          375.83712299053485,
          380.5624225323017,
          386.1783118614784,
          388.0557626577524,
          390.4328096829928,
          409.1654569185697,
          396.8894770695613,
          396.476318359375,
          386.7420724722055,
          382.6186969463642,
          385.01507803109973,
          393.65990037184497,
          381.8448791503906,
          373.78382521409253,
          375.5346280611478,
          370.3197091909555,
          364.29725764347955,
          369.1967562161959,
          369.31012197641223,
          367.3742159329928,
          371.6853238619291,
          361.51773540790265,
          363.13514357346753,
          365.7975064791166,
          364.8140094463642,
          359.53579477163464,
          372.571044921875,
          368.24332134540265,
          353.68467595027045,
          367.68116642878607,
          372.5555443396935,
          365.03947096604566,
          360.99029306265027,
          359.3695091834435,
          347.15332970252405,
          347.04432091346155,
          344.2303138146034,
          361.1724900465745,
          396.87569720928485,
          395.75254704402045,
          355.96529681865985,
          361.1480947641226,
          349.52677565354566,
          350.12444833608777,
          343.52772404597357,
          350.2017798790565,
          357.3679504394531,
          345.86366154597357,
          345.0948016826923,
          347.52076838566705,
          339.9765859750601,
          347.93099506084735,
          349.0450838529147,
          342.05528376652643,
          338.9965491661659,
          334.1130770169772,
          345.5229257436899,
          343.66480900691107,
          343.6902864896334,
          355.2061509352464,
          360.6817650428185,
          345.4709237905649,
          354.65965388371393,
          348.67288912259613,
          359.2884216308594,
          368.87579345703125,
          346.8554217998798,
          340.4518338716947,
          347.49713369516223,
          338.3993882399339,
          338.2808016263522,
          339.9636559119591,
          331.90311138446515,
          337.3633986253005,
          361.2840552696815,
          354.5971867487981,
          344.233891413762,
          345.76761333759015,
          339.7182171161358,
          350.9228750375601,
          365.13155423677887,
          342.420900785006,
          326.6398104154147,
          320.1403315617488,
          323.64744685246393,
          337.9607966496394,
          328.73320828951324,
          337.57616013746997,
          333.2705641526442,
          325.0732116699219,
          325.2677494929387,
          326.52503849909857,
          337.39771681565503,
          342.3356722318209,
          325.21448927659253,
          318.28436279296875,
          323.64603130634015,
          343.82069044846753,
          336.9193772536058,
          351.0592017540565,
          326.90218411959137,
          332.3374798114483,
          325.72843111478363,
          322.26026564378003,
          320.9225815993089,
          325.84956711989184,
          319.9236544095553,
          315.73314490685095,
          312.85918954702527,
          310.2407977764423,
          315.9802574744591,
          314.18060302734375,
          313.29175978440503,
          318.94603083683893,
          331.62558218149036,
          333.242924616887,
          322.8086242675781,
          326.3148451585036,
          322.11313100961536,
          317.7172358586238,
          341.8397709773137,
          340.83971228966345,
          314.3011239858774,
          320.43798828125,
          314.92217313326324,
          323.06553532527045,
          321.9512634277344,
          313.85459782527045,
          316.62264310396637,
          312.3545743502103,
          307.2576646071214,
          318.92835411658655,
          324.7139963003305,
          331.6008535531851,
          335.47134868915265,
          318.9401362492488,
          309.8930171086238,
          310.72869873046875,
          310.02808790940503,
          308.69375375600964,
          306.30560302734375,
          302.52912081204926,
          306.669680081881,
          310.89222834660455,
          308.8555720402644,
          313.0111576960637,
          302.43714317908655,
          297.7314218374399,
          297.23082557091345,
          299.4696561373197,
          307.3448251577524,
          310.91092388446515,
          314.8443673940805,
          318.82496056189905,
          313.2223205566406,
          321.0087421123798,
          307.8977778508113,
          312.0884235088642,
          309.78043776292066,
          301.7195997971755,
          305.0412081204928,
          310.2816608135517,
          302.87928185096155,
          304.87623244065503,
          303.896977351262,
          299.0810805100661,
          301.6737084021935,
          298.7681861290565,
          309.37193180964545,
          305.516852745643,
          303.966315636268,
          305.090327336238,
          311.50599318284253,
          315.6084430401142,
          300.813483605018,
          296.9289996807392,
          296.5324941781851,
          293.62503521259015,
          294.8237750713642,
          300.2341003417969,
          326.15540724534253,
          313.2493966909555,
          303.88816716120795,
          296.4078932542067,
          295.5406048114483,
          289.4629563551683,
          296.99626981295074,
          295.36136568509613,
          302.34063955453723,
          298.23797842172473,
          306.1134784405048,
          304.8178194486178,
          296.5029038649339,
          291.3424025315505,
          296.09058790940503,
          304.34520075871393,
          292.0438161996695,
          289.1163776104267,
          304.2136019193209,
          300.21053607647235,
          301.96450570913464,
          292.3228196364183,
          289.953850379357,
          291.4447279710036,
          303.58729201096753,
          300.36234224759613,
          298.4070481520433,
          295.3584500826322,
          295.3483229417067,
          297.58512056790863,
          293.54637263371393,
          289.91173142653247,
          296.0618567833534
         ]
        },
        {
         "mode": "lines",
         "name": "validation",
         "type": "scatter",
         "x": [
          0,
          1,
          2,
          3,
          4,
          5,
          6,
          7,
          8,
          9,
          10,
          11,
          12,
          13,
          14,
          15,
          16,
          17,
          18,
          19,
          20,
          21,
          22,
          23,
          24,
          25,
          26,
          27,
          28,
          29,
          30,
          31,
          32,
          33,
          34,
          35,
          36,
          37,
          38,
          39,
          40,
          41,
          42,
          43,
          44,
          45,
          46,
          47,
          48,
          49,
          50,
          51,
          52,
          53,
          54,
          55,
          56,
          57,
          58,
          59,
          60,
          61,
          62,
          63,
          64,
          65,
          66,
          67,
          68,
          69,
          70,
          71,
          72,
          73,
          74,
          75,
          76,
          77,
          78,
          79,
          80,
          81,
          82,
          83,
          84,
          85,
          86,
          87,
          88,
          89,
          90,
          91,
          92,
          93,
          94,
          95,
          96,
          97,
          98,
          99,
          100,
          101,
          102,
          103,
          104,
          105,
          106,
          107,
          108,
          109,
          110,
          111,
          112,
          113,
          114,
          115,
          116,
          117,
          118,
          119,
          120,
          121,
          122,
          123,
          124,
          125,
          126,
          127,
          128,
          129,
          130,
          131,
          132,
          133,
          134,
          135,
          136,
          137,
          138,
          139,
          140,
          141,
          142,
          143,
          144,
          145,
          146,
          147,
          148,
          149,
          150,
          151,
          152,
          153,
          154,
          155,
          156,
          157,
          158,
          159,
          160,
          161,
          162,
          163,
          164,
          165,
          166,
          167,
          168,
          169,
          170,
          171,
          172,
          173,
          174,
          175,
          176,
          177,
          178,
          179,
          180,
          181,
          182,
          183,
          184,
          185,
          186,
          187,
          188,
          189,
          190,
          191,
          192,
          193,
          194,
          195,
          196,
          197,
          198,
          199,
          200,
          201,
          202,
          203,
          204,
          205,
          206,
          207,
          208,
          209,
          210,
          211,
          212,
          213,
          214,
          215,
          216,
          217,
          218,
          219,
          220,
          221,
          222,
          223,
          224,
          225,
          226,
          227,
          228,
          229,
          230,
          231,
          232,
          233,
          234,
          235,
          236,
          237,
          238,
          239,
          240,
          241,
          242,
          243,
          244,
          245,
          246,
          247,
          248,
          249,
          250,
          251,
          252,
          253,
          254,
          255,
          256,
          257,
          258,
          259,
          260,
          261,
          262,
          263,
          264,
          265,
          266,
          267,
          268,
          269,
          270,
          271,
          272,
          273,
          274,
          275,
          276,
          277,
          278,
          279,
          280,
          281,
          282,
          283,
          284,
          285,
          286,
          287,
          288,
          289,
          290,
          291,
          292,
          293,
          294,
          295,
          296,
          297,
          298,
          299,
          300
         ],
         "y": [
          8098.43212890625,
          5236.09033203125,
          2519.6282958984375,
          1453.853515625,
          911.8379821777344,
          811.1617736816406,
          858.7950744628906,
          999.9806518554688,
          742.3633117675781,
          673.977294921875,
          664.2228698730469,
          588.3889465332031,
          690.8559265136719,
          762.901123046875,
          634.6051940917969,
          619.5924377441406,
          543.8403930664062,
          533.6365051269531,
          741.3800964355469,
          497.6548614501953,
          681.1722106933594,
          597.4508972167969,
          488.84657287597656,
          522.4012756347656,
          477.5462646484375,
          428.1602020263672,
          550.3345947265625,
          439.1453857421875,
          471.1890563964844,
          420.1242370605469,
          516.3596343994141,
          529.5986633300781,
          404.0618133544922,
          412.04791259765625,
          500.0393981933594,
          457.04595947265625,
          402.2508544921875,
          412.30523681640625,
          379.9072723388672,
          382.82386779785156,
          545.2548522949219,
          560.4559326171875,
          492.2787780761719,
          458.9834747314453,
          390.95947265625,
          374.37876892089844,
          369.0764617919922,
          373.8234405517578,
          388.5763397216797,
          357.0911407470703,
          447.07078552246094,
          359.08746337890625,
          366.3427276611328,
          354.8861541748047,
          365.9035949707031,
          351.1427001953125,
          349.58056640625,
          355.9010009765625,
          335.8008270263672,
          363.2496032714844,
          339.16197204589844,
          427.2469177246094,
          399.4017791748047,
          329.60581970214844,
          407.3604431152344,
          344.3966522216797,
          375.9877624511719,
          438.37953186035156,
          324.40061950683594,
          333.7534942626953,
          380.36767578125,
          390.0604705810547,
          372.42921447753906,
          393.33978271484375,
          322.8824462890625,
          389.82232666015625,
          358.9673156738281,
          317.4143524169922,
          333.31993103027344,
          336.1517791748047,
          314.05224609375,
          359.2003631591797,
          341.7935028076172,
          337.2229461669922,
          340.893798828125,
          344.71893310546875,
          345.4908142089844,
          302.0928649902344,
          338.4039306640625,
          302.88478088378906,
          330.0621643066406,
          399.3993682861328,
          313.21112060546875,
          306.14813232421875,
          312.4116973876953,
          362.2384490966797,
          311.2402038574219,
          329.4640197753906,
          308.86878967285156,
          335.3498229980469,
          313.8904724121094,
          317.4233856201172,
          334.6850280761719,
          298.9604187011719,
          296.59327697753906,
          344.8199157714844,
          299.2043151855469,
          347.32008361816406,
          329.791748046875,
          281.88978576660156,
          356.66015625,
          313.60198974609375,
          291.70257568359375,
          301.4638214111328,
          286.1097717285156,
          306.33697509765625,
          310.52427673339844,
          290.8330993652344,
          346.55120849609375,
          319.41542053222656,
          290.09625244140625,
          291.1312561035156,
          282.5582275390625,
          283.33917236328125,
          306.92462158203125,
          322.9678649902344,
          400.2593536376953,
          291.8217468261719,
          341.9778137207031,
          280.09474182128906,
          315.7416534423828,
          282.74302673339844,
          285.9056701660156,
          289.86183166503906,
          279.87538146972656,
          271.0330810546875,
          294.9461975097656,
          285.5792999267578,
          321.55914306640625,
          302.0254211425781,
          291.5381164550781,
          271.6073913574219,
          295.91615295410156,
          272.0945281982422,
          287.95068359375,
          277.03021240234375,
          317.07061767578125,
          292.3606414794922,
          328.01597595214844,
          280.5415954589844,
          287.4640655517578,
          283.3405303955078,
          353.10789489746094,
          297.04193115234375,
          285.35557556152344,
          278.3881378173828,
          272.8840026855469,
          298.71278381347656,
          272.30812072753906,
          312.13600158691406,
          269.5163879394531,
          288.5977325439453,
          286.54588317871094,
          300.8134002685547,
          283.76438903808594,
          270.3162078857422,
          336.389892578125,
          293.54295349121094,
          316.80645751953125,
          266.6520538330078,
          287.4556579589844,
          274.93511962890625,
          286.4717559814453,
          278.13592529296875,
          331.90521240234375,
          270.01133728027344,
          288.5273895263672,
          288.3990783691406,
          280.5222625732422,
          285.3226623535156,
          351.8531799316406,
          287.4183044433594,
          262.55029296875,
          261.2903594970703,
          261.8042449951172,
          263.39796447753906,
          265.15625,
          285.17198181152344,
          269.1403350830078,
          295.0769500732422,
          297.9978790283203,
          282.6635284423828,
          297.00181579589844,
          280.19842529296875,
          277.8871612548828,
          257.9781188964844,
          255.0679931640625,
          268.8318328857422,
          260.79270935058594,
          256.18650817871094,
          271.97845458984375,
          331.2090148925781,
          274.2203674316406,
          271.5494842529297,
          253.88973236083984,
          254.6992950439453,
          303.1005859375,
          274.0467987060547,
          269.9667663574219,
          269.29962158203125,
          257.79217529296875,
          271.58680725097656,
          277.96128845214844,
          287.6891326904297,
          249.35116577148438,
          268.69190979003906,
          265.29856872558594,
          252.1741714477539,
          265.9737548828125,
          253.59410095214844,
          258.32696533203125,
          308.87147521972656,
          268.05860900878906,
          277.9299011230469,
          253.91307067871094,
          292.1919708251953,
          248.73062133789062,
          274.12513732910156,
          251.93134307861328,
          248.81787109375,
          261.65074157714844,
          262.64122009277344,
          281.5132598876953,
          244.10177612304688,
          247.35291290283203,
          244.40806579589844,
          249.00994873046875,
          244.81949615478516,
          282.4318542480469,
          259.53749084472656,
          270.9756317138672,
          263.05889892578125,
          273.87738037109375,
          248.3633804321289,
          269.8239288330078,
          267.05194091796875,
          260.9956817626953,
          253.5083465576172,
          264.7322540283203,
          281.53045654296875,
          251.59362030029297,
          250.74403381347656,
          257.98193359375,
          248.56993865966797,
          249.03456115722656,
          259.84178161621094,
          278.1886291503906,
          266.522216796875,
          268.60316467285156,
          240.6536407470703,
          275.1179656982422,
          288.74017333984375,
          244.57247161865234,
          250.90605926513672,
          242.20433807373047,
          246.6657485961914,
          248.6534194946289,
          264.35472106933594,
          275.17926025390625,
          251.1856460571289,
          247.60043334960938,
          260.7445068359375,
          245.95714569091797,
          242.57755279541016,
          246.67476654052734,
          249.2725067138672,
          247.23303985595703,
          250.97775268554688,
          276.27207946777344,
          251.3463363647461,
          256.1026916503906,
          239.3195343017578,
          297.8656311035156,
          253.57952880859375,
          240.724365234375,
          265.41436767578125,
          301.4904327392578,
          260.1119384765625,
          272.4653015136719,
          236.0423812866211,
          241.37069702148438,
          254.20175170898438,
          284.00848388671875,
          249.18286895751953,
          265.7765808105469,
          259.55262756347656,
          242.04275512695312,
          283.7405700683594,
          241.8459014892578,
          239.77819061279297,
          244.19493865966797
         ]
        }
       ],
       "layout": {
        "template": {
         "data": {
          "bar": [
           {
            "error_x": {
             "color": "#f2f5fa"
            },
            "error_y": {
             "color": "#f2f5fa"
            },
            "marker": {
             "line": {
              "color": "rgb(17,17,17)",
              "width": 0.5
             },
             "pattern": {
              "fillmode": "overlay",
              "size": 10,
              "solidity": 0.2
             }
            },
            "type": "bar"
           }
          ],
          "barpolar": [
           {
            "marker": {
             "line": {
              "color": "rgb(17,17,17)",
              "width": 0.5
             },
             "pattern": {
              "fillmode": "overlay",
              "size": 10,
              "solidity": 0.2
             }
            },
            "type": "barpolar"
           }
          ],
          "carpet": [
           {
            "aaxis": {
             "endlinecolor": "#A2B1C6",
             "gridcolor": "#506784",
             "linecolor": "#506784",
             "minorgridcolor": "#506784",
             "startlinecolor": "#A2B1C6"
            },
            "baxis": {
             "endlinecolor": "#A2B1C6",
             "gridcolor": "#506784",
             "linecolor": "#506784",
             "minorgridcolor": "#506784",
             "startlinecolor": "#A2B1C6"
            },
            "type": "carpet"
           }
          ],
          "choropleth": [
           {
            "colorbar": {
             "outlinewidth": 0,
             "ticks": ""
            },
            "type": "choropleth"
           }
          ],
          "contour": [
           {
            "colorbar": {
             "outlinewidth": 0,
             "ticks": ""
            },
            "colorscale": [
             [
              0,
              "#0d0887"
             ],
             [
              0.1111111111111111,
              "#46039f"
             ],
             [
              0.2222222222222222,
              "#7201a8"
             ],
             [
              0.3333333333333333,
              "#9c179e"
             ],
             [
              0.4444444444444444,
              "#bd3786"
             ],
             [
              0.5555555555555556,
              "#d8576b"
             ],
             [
              0.6666666666666666,
              "#ed7953"
             ],
             [
              0.7777777777777778,
              "#fb9f3a"
             ],
             [
              0.8888888888888888,
              "#fdca26"
             ],
             [
              1,
              "#f0f921"
             ]
            ],
            "type": "contour"
           }
          ],
          "contourcarpet": [
           {
            "colorbar": {
             "outlinewidth": 0,
             "ticks": ""
            },
            "type": "contourcarpet"
           }
          ],
          "heatmap": [
           {
            "colorbar": {
             "outlinewidth": 0,
             "ticks": ""
            },
            "colorscale": [
             [
              0,
              "#0d0887"
             ],
             [
              0.1111111111111111,
              "#46039f"
             ],
             [
              0.2222222222222222,
              "#7201a8"
             ],
             [
              0.3333333333333333,
              "#9c179e"
             ],
             [
              0.4444444444444444,
              "#bd3786"
             ],
             [
              0.5555555555555556,
              "#d8576b"
             ],
             [
              0.6666666666666666,
              "#ed7953"
             ],
             [
              0.7777777777777778,
              "#fb9f3a"
             ],
             [
              0.8888888888888888,
              "#fdca26"
             ],
             [
              1,
              "#f0f921"
             ]
            ],
            "type": "heatmap"
           }
          ],
          "heatmapgl": [
           {
            "colorbar": {
             "outlinewidth": 0,
             "ticks": ""
            },
            "colorscale": [
             [
              0,
              "#0d0887"
             ],
             [
              0.1111111111111111,
              "#46039f"
             ],
             [
              0.2222222222222222,
              "#7201a8"
             ],
             [
              0.3333333333333333,
              "#9c179e"
             ],
             [
              0.4444444444444444,
              "#bd3786"
             ],
             [
              0.5555555555555556,
              "#d8576b"
             ],
             [
              0.6666666666666666,
              "#ed7953"
             ],
             [
              0.7777777777777778,
              "#fb9f3a"
             ],
             [
              0.8888888888888888,
              "#fdca26"
             ],
             [
              1,
              "#f0f921"
             ]
            ],
            "type": "heatmapgl"
           }
          ],
          "histogram": [
           {
            "marker": {
             "pattern": {
              "fillmode": "overlay",
              "size": 10,
              "solidity": 0.2
             }
            },
            "type": "histogram"
           }
          ],
          "histogram2d": [
           {
            "colorbar": {
             "outlinewidth": 0,
             "ticks": ""
            },
            "colorscale": [
             [
              0,
              "#0d0887"
             ],
             [
              0.1111111111111111,
              "#46039f"
             ],
             [
              0.2222222222222222,
              "#7201a8"
             ],
             [
              0.3333333333333333,
              "#9c179e"
             ],
             [
              0.4444444444444444,
              "#bd3786"
             ],
             [
              0.5555555555555556,
              "#d8576b"
             ],
             [
              0.6666666666666666,
              "#ed7953"
             ],
             [
              0.7777777777777778,
              "#fb9f3a"
             ],
             [
              0.8888888888888888,
              "#fdca26"
             ],
             [
              1,
              "#f0f921"
             ]
            ],
            "type": "histogram2d"
           }
          ],
          "histogram2dcontour": [
           {
            "colorbar": {
             "outlinewidth": 0,
             "ticks": ""
            },
            "colorscale": [
             [
              0,
              "#0d0887"
             ],
             [
              0.1111111111111111,
              "#46039f"
             ],
             [
              0.2222222222222222,
              "#7201a8"
             ],
             [
              0.3333333333333333,
              "#9c179e"
             ],
             [
              0.4444444444444444,
              "#bd3786"
             ],
             [
              0.5555555555555556,
              "#d8576b"
             ],
             [
              0.6666666666666666,
              "#ed7953"
             ],
             [
              0.7777777777777778,
              "#fb9f3a"
             ],
             [
              0.8888888888888888,
              "#fdca26"
             ],
             [
              1,
              "#f0f921"
             ]
            ],
            "type": "histogram2dcontour"
           }
          ],
          "mesh3d": [
           {
            "colorbar": {
             "outlinewidth": 0,
             "ticks": ""
            },
            "type": "mesh3d"
           }
          ],
          "parcoords": [
           {
            "line": {
             "colorbar": {
              "outlinewidth": 0,
              "ticks": ""
             }
            },
            "type": "parcoords"
           }
          ],
          "pie": [
           {
            "automargin": true,
            "type": "pie"
           }
          ],
          "scatter": [
           {
            "marker": {
             "line": {
              "color": "#283442"
             }
            },
            "type": "scatter"
           }
          ],
          "scatter3d": [
           {
            "line": {
             "colorbar": {
              "outlinewidth": 0,
              "ticks": ""
             }
            },
            "marker": {
             "colorbar": {
              "outlinewidth": 0,
              "ticks": ""
             }
            },
            "type": "scatter3d"
           }
          ],
          "scattercarpet": [
           {
            "marker": {
             "colorbar": {
              "outlinewidth": 0,
              "ticks": ""
             }
            },
            "type": "scattercarpet"
           }
          ],
          "scattergeo": [
           {
            "marker": {
             "colorbar": {
              "outlinewidth": 0,
              "ticks": ""
             }
            },
            "type": "scattergeo"
           }
          ],
          "scattergl": [
           {
            "marker": {
             "line": {
              "color": "#283442"
             }
            },
            "type": "scattergl"
           }
          ],
          "scattermapbox": [
           {
            "marker": {
             "colorbar": {
              "outlinewidth": 0,
              "ticks": ""
             }
            },
            "type": "scattermapbox"
           }
          ],
          "scatterpolar": [
           {
            "marker": {
             "colorbar": {
              "outlinewidth": 0,
              "ticks": ""
             }
            },
            "type": "scatterpolar"
           }
          ],
          "scatterpolargl": [
           {
            "marker": {
             "colorbar": {
              "outlinewidth": 0,
              "ticks": ""
             }
            },
            "type": "scatterpolargl"
           }
          ],
          "scatterternary": [
           {
            "marker": {
             "colorbar": {
              "outlinewidth": 0,
              "ticks": ""
             }
            },
            "type": "scatterternary"
           }
          ],
          "surface": [
           {
            "colorbar": {
             "outlinewidth": 0,
             "ticks": ""
            },
            "colorscale": [
             [
              0,
              "#0d0887"
             ],
             [
              0.1111111111111111,
              "#46039f"
             ],
             [
              0.2222222222222222,
              "#7201a8"
             ],
             [
              0.3333333333333333,
              "#9c179e"
             ],
             [
              0.4444444444444444,
              "#bd3786"
             ],
             [
              0.5555555555555556,
              "#d8576b"
             ],
             [
              0.6666666666666666,
              "#ed7953"
             ],
             [
              0.7777777777777778,
              "#fb9f3a"
             ],
             [
              0.8888888888888888,
              "#fdca26"
             ],
             [
              1,
              "#f0f921"
             ]
            ],
            "type": "surface"
           }
          ],
          "table": [
           {
            "cells": {
             "fill": {
              "color": "#506784"
             },
             "line": {
              "color": "rgb(17,17,17)"
             }
            },
            "header": {
             "fill": {
              "color": "#2a3f5f"
             },
             "line": {
              "color": "rgb(17,17,17)"
             }
            },
            "type": "table"
           }
          ]
         },
         "layout": {
          "annotationdefaults": {
           "arrowcolor": "#f2f5fa",
           "arrowhead": 0,
           "arrowwidth": 1
          },
          "autotypenumbers": "strict",
          "coloraxis": {
           "colorbar": {
            "outlinewidth": 0,
            "ticks": ""
           }
          },
          "colorscale": {
           "diverging": [
            [
             0,
             "#8e0152"
            ],
            [
             0.1,
             "#c51b7d"
            ],
            [
             0.2,
             "#de77ae"
            ],
            [
             0.3,
             "#f1b6da"
            ],
            [
             0.4,
             "#fde0ef"
            ],
            [
             0.5,
             "#f7f7f7"
            ],
            [
             0.6,
             "#e6f5d0"
            ],
            [
             0.7,
             "#b8e186"
            ],
            [
             0.8,
             "#7fbc41"
            ],
            [
             0.9,
             "#4d9221"
            ],
            [
             1,
             "#276419"
            ]
           ],
           "sequential": [
            [
             0,
             "#0d0887"
            ],
            [
             0.1111111111111111,
             "#46039f"
            ],
            [
             0.2222222222222222,
             "#7201a8"
            ],
            [
             0.3333333333333333,
             "#9c179e"
            ],
            [
             0.4444444444444444,
             "#bd3786"
            ],
            [
             0.5555555555555556,
             "#d8576b"
            ],
            [
             0.6666666666666666,
             "#ed7953"
            ],
            [
             0.7777777777777778,
             "#fb9f3a"
            ],
            [
             0.8888888888888888,
             "#fdca26"
            ],
            [
             1,
             "#f0f921"
            ]
           ],
           "sequentialminus": [
            [
             0,
             "#0d0887"
            ],
            [
             0.1111111111111111,
             "#46039f"
            ],
            [
             0.2222222222222222,
             "#7201a8"
            ],
            [
             0.3333333333333333,
             "#9c179e"
            ],
            [
             0.4444444444444444,
             "#bd3786"
            ],
            [
             0.5555555555555556,
             "#d8576b"
            ],
            [
             0.6666666666666666,
             "#ed7953"
            ],
            [
             0.7777777777777778,
             "#fb9f3a"
            ],
            [
             0.8888888888888888,
             "#fdca26"
            ],
            [
             1,
             "#f0f921"
            ]
           ]
          },
          "colorway": [
           "#636efa",
           "#EF553B",
           "#00cc96",
           "#ab63fa",
           "#FFA15A",
           "#19d3f3",
           "#FF6692",
           "#B6E880",
           "#FF97FF",
           "#FECB52"
          ],
          "font": {
           "color": "#f2f5fa"
          },
          "geo": {
           "bgcolor": "rgb(17,17,17)",
           "lakecolor": "rgb(17,17,17)",
           "landcolor": "rgb(17,17,17)",
           "showlakes": true,
           "showland": true,
           "subunitcolor": "#506784"
          },
          "hoverlabel": {
           "align": "left"
          },
          "hovermode": "closest",
          "mapbox": {
           "style": "dark"
          },
          "paper_bgcolor": "rgb(17,17,17)",
          "plot_bgcolor": "rgb(17,17,17)",
          "polar": {
           "angularaxis": {
            "gridcolor": "#506784",
            "linecolor": "#506784",
            "ticks": ""
           },
           "bgcolor": "rgb(17,17,17)",
           "radialaxis": {
            "gridcolor": "#506784",
            "linecolor": "#506784",
            "ticks": ""
           }
          },
          "scene": {
           "xaxis": {
            "backgroundcolor": "rgb(17,17,17)",
            "gridcolor": "#506784",
            "gridwidth": 2,
            "linecolor": "#506784",
            "showbackground": true,
            "ticks": "",
            "zerolinecolor": "#C8D4E3"
           },
           "yaxis": {
            "backgroundcolor": "rgb(17,17,17)",
            "gridcolor": "#506784",
            "gridwidth": 2,
            "linecolor": "#506784",
            "showbackground": true,
            "ticks": "",
            "zerolinecolor": "#C8D4E3"
           },
           "zaxis": {
            "backgroundcolor": "rgb(17,17,17)",
            "gridcolor": "#506784",
            "gridwidth": 2,
            "linecolor": "#506784",
            "showbackground": true,
            "ticks": "",
            "zerolinecolor": "#C8D4E3"
           }
          },
          "shapedefaults": {
           "line": {
            "color": "#f2f5fa"
           }
          },
          "sliderdefaults": {
           "bgcolor": "#C8D4E3",
           "bordercolor": "rgb(17,17,17)",
           "borderwidth": 1,
           "tickwidth": 0
          },
          "ternary": {
           "aaxis": {
            "gridcolor": "#506784",
            "linecolor": "#506784",
            "ticks": ""
           },
           "baxis": {
            "gridcolor": "#506784",
            "linecolor": "#506784",
            "ticks": ""
           },
           "bgcolor": "rgb(17,17,17)",
           "caxis": {
            "gridcolor": "#506784",
            "linecolor": "#506784",
            "ticks": ""
           }
          },
          "title": {
           "x": 0.05
          },
          "updatemenudefaults": {
           "bgcolor": "#506784",
           "borderwidth": 0
          },
          "xaxis": {
           "automargin": true,
           "gridcolor": "#283442",
           "linecolor": "#506784",
           "ticks": "",
           "title": {
            "standoff": 15
           },
           "zerolinecolor": "#283442",
           "zerolinewidth": 2
          },
          "yaxis": {
           "automargin": true,
           "gridcolor": "#283442",
           "linecolor": "#506784",
           "ticks": "",
           "title": {
            "standoff": 15
           },
           "zerolinecolor": "#283442",
           "zerolinewidth": 2
          }
         }
        },
        "yaxis": {
         "type": "log"
        }
       }
      }
     },
     "metadata": {},
     "output_type": "display_data"
    }
   ],
   "source": [
    "train_losses ,train_rec_losses,train_kld_losses, eval_losses = train_model(model, project_config, model_config)"
   ]
  },
  {
   "attachments": {},
   "cell_type": "markdown",
   "metadata": {},
   "source": [
    "Comparing a sample from the original dataset, the same sample reconstructed, and a sample that is generated with a slight difference."
   ]
  },
  {
   "cell_type": "code",
   "execution_count": 20,
   "metadata": {},
   "outputs": [
    {
     "data": {
      "application/vnd.plotly.v1+json": {
       "config": {
        "plotlyServerURL": "https://plot.ly"
       },
       "data": [
        {
         "line": {
          "color": "white",
          "width": 3
         },
         "mode": "lines",
         "name": "Original",
         "type": "scatter3d",
         "x": [
          0.43264907598495483,
          0.3950660824775696,
          0.3512996733188629,
          0.30145689845085144,
          0.24578435719013214,
          0.18569661676883698,
          0.12559275329113007,
          0.07456585019826889,
          0.03971558064222336,
          0.03236401826143265,
          0.0332106277346611,
          0.042014285922050476,
          0.05517958104610443,
          0.07078289985656738,
          0.08649873733520508,
          0.10010340809822083,
          0.11130222678184509,
          0.11866450309753418,
          0.124140664935112,
          0.12793968617916107
         ],
         "y": [
          0.7166954278945923,
          0.6934898495674133,
          0.670026957988739,
          0.647064208984375,
          0.624508798122406,
          0.6013602614402771,
          0.5740821957588196,
          0.5455824136734009,
          0.4985995888710022,
          0.45301714539527893,
          0.45546770095825195,
          0.4560321867465973,
          0.4534100890159607,
          0.4438149333000183,
          0.42871829867362976,
          0.399818480014801,
          0.36483854055404663,
          0.3194347023963928,
          0.26977258920669556,
          0.21727412939071655
         ],
         "z": [
          0.7364976406097412,
          0.7002555131912231,
          0.6571863293647766,
          0.6056044697761536,
          0.5431197285652161,
          0.46685609221458435,
          0.3751550614833832,
          0.26644548773765564,
          0.14814776182174683,
          0.037132181227207184,
          0.0807340070605278,
          0.12676995992660522,
          0.16952219605445862,
          0.20640826225280762,
          0.2362043559551239,
          0.26108840107917786,
          0.27784743905067444,
          0.2911542057991028,
          0.2997983694076538,
          0.30488574504852295
         ]
        },
        {
         "line": {
          "color": "red",
          "width": 3
         },
         "mode": "lines",
         "name": "Rec",
         "type": "scatter3d",
         "x": [
          0.41787204146385193,
          0.3870125412940979,
          0.3481784164905548,
          0.2987559139728546,
          0.23798836767673492,
          0.183201402425766,
          0.12854309380054474,
          0.07853531837463379,
          0.04323742538690567,
          0.03487607091665268,
          0.04304267466068268,
          0.039879657328128815,
          0.052672747522592545,
          0.06978645920753479,
          0.08608831465244293,
          0.09579209983348846,
          0.10500083118677139,
          0.1197211965918541,
          0.12695056200027466,
          0.12532854080200195
         ],
         "y": [
          0.7265712022781372,
          0.7015117406845093,
          0.6784499883651733,
          0.6509963274002075,
          0.6357662677764893,
          0.604102373123169,
          0.5655218362808228,
          0.5392507314682007,
          0.49509748816490173,
          0.4478021264076233,
          0.45162469148635864,
          0.45268648862838745,
          0.4511951506137848,
          0.4423483908176422,
          0.42532339692115784,
          0.3928182125091553,
          0.3648878335952759,
          0.32194316387176514,
          0.26530200242996216,
          0.21525195240974426
         ],
         "z": [
          0.7211362719535828,
          0.6766110062599182,
          0.6414647698402405,
          0.5922682285308838,
          0.5260475873947144,
          0.44503065943717957,
          0.3532409071922302,
          0.25508344173431396,
          0.1421043425798416,
          0.033295661211013794,
          0.08069232106208801,
          0.1222870722413063,
          0.16642096638679504,
          0.2015042006969452,
          0.23376469314098358,
          0.2600587010383606,
          0.28267067670822144,
          0.29930832982063293,
          0.3072904050350189,
          0.30737486481666565
         ]
        },
        {
         "line": {
          "color": "blue",
          "width": 3
         },
         "mode": "lines",
         "name": "Gen",
         "type": "scatter3d",
         "x": [
          0.44750073552131653,
          0.41523277759552,
          0.3798086643218994,
          0.3267604410648346,
          0.2615412771701813,
          0.19928011298179626,
          0.13562393188476562,
          0.08254290372133255,
          0.04136382415890694,
          0.030807871371507645,
          0.04132945090532303,
          0.037764377892017365,
          0.049035657197237015,
          0.06707063317298889,
          0.08088785409927368,
          0.09756775200366974,
          0.10533032566308975,
          0.12031272798776627,
          0.13038977980613708,
          0.13236001133918762
         ],
         "y": [
          0.7363895773887634,
          0.714087963104248,
          0.6966723203659058,
          0.6700407862663269,
          0.6568335294723511,
          0.622647225856781,
          0.5865249633789062,
          0.558643102645874,
          0.5078690052032471,
          0.4560565650463104,
          0.45974093675613403,
          0.45825499296188354,
          0.4586069881916046,
          0.4496378004550934,
          0.428630530834198,
          0.408713698387146,
          0.3816049098968506,
          0.3456786572933197,
          0.28800898790359497,
          0.23187708854675293
         ],
         "z": [
          0.7266446352005005,
          0.6899999976158142,
          0.6554041504859924,
          0.6125789880752563,
          0.5446756482124329,
          0.4620554745197296,
          0.3656719923019409,
          0.26181280612945557,
          0.1398940086364746,
          0.01982136070728302,
          0.06300872564315796,
          0.10454059392213821,
          0.15213999152183533,
          0.1894630491733551,
          0.22368158400058746,
          0.24720431864261627,
          0.273084819316864,
          0.28682199120521545,
          0.2948896586894989,
          0.2923579514026642
         ]
        }
       ],
       "layout": {
        "coloraxis": {
         "showscale": false
        },
        "font": {
         "color": "white",
         "family": "Roboto, monospace",
         "size": 12
        },
        "height": 800,
        "margin": {
         "b": 50,
         "l": 5,
         "r": 5,
         "t": 50
        },
        "scene": {
         "aspectratio": {
          "x": 1,
          "y": 1,
          "z": 1
         },
         "camera": {
          "eye": {
           "x": -1.5,
           "y": 1.5,
           "z": 1.5
          },
          "up": {
           "x": 0,
           "y": 0,
           "z": 1
          }
         }
        },
        "showlegend": true,
        "template": {
         "data": {
          "bar": [
           {
            "error_x": {
             "color": "#f2f5fa"
            },
            "error_y": {
             "color": "#f2f5fa"
            },
            "marker": {
             "line": {
              "color": "rgb(17,17,17)",
              "width": 0.5
             },
             "pattern": {
              "fillmode": "overlay",
              "size": 10,
              "solidity": 0.2
             }
            },
            "type": "bar"
           }
          ],
          "barpolar": [
           {
            "marker": {
             "line": {
              "color": "rgb(17,17,17)",
              "width": 0.5
             },
             "pattern": {
              "fillmode": "overlay",
              "size": 10,
              "solidity": 0.2
             }
            },
            "type": "barpolar"
           }
          ],
          "carpet": [
           {
            "aaxis": {
             "endlinecolor": "#A2B1C6",
             "gridcolor": "#506784",
             "linecolor": "#506784",
             "minorgridcolor": "#506784",
             "startlinecolor": "#A2B1C6"
            },
            "baxis": {
             "endlinecolor": "#A2B1C6",
             "gridcolor": "#506784",
             "linecolor": "#506784",
             "minorgridcolor": "#506784",
             "startlinecolor": "#A2B1C6"
            },
            "type": "carpet"
           }
          ],
          "choropleth": [
           {
            "colorbar": {
             "outlinewidth": 0,
             "ticks": ""
            },
            "type": "choropleth"
           }
          ],
          "contour": [
           {
            "colorbar": {
             "outlinewidth": 0,
             "ticks": ""
            },
            "colorscale": [
             [
              0,
              "#0d0887"
             ],
             [
              0.1111111111111111,
              "#46039f"
             ],
             [
              0.2222222222222222,
              "#7201a8"
             ],
             [
              0.3333333333333333,
              "#9c179e"
             ],
             [
              0.4444444444444444,
              "#bd3786"
             ],
             [
              0.5555555555555556,
              "#d8576b"
             ],
             [
              0.6666666666666666,
              "#ed7953"
             ],
             [
              0.7777777777777778,
              "#fb9f3a"
             ],
             [
              0.8888888888888888,
              "#fdca26"
             ],
             [
              1,
              "#f0f921"
             ]
            ],
            "type": "contour"
           }
          ],
          "contourcarpet": [
           {
            "colorbar": {
             "outlinewidth": 0,
             "ticks": ""
            },
            "type": "contourcarpet"
           }
          ],
          "heatmap": [
           {
            "colorbar": {
             "outlinewidth": 0,
             "ticks": ""
            },
            "colorscale": [
             [
              0,
              "#0d0887"
             ],
             [
              0.1111111111111111,
              "#46039f"
             ],
             [
              0.2222222222222222,
              "#7201a8"
             ],
             [
              0.3333333333333333,
              "#9c179e"
             ],
             [
              0.4444444444444444,
              "#bd3786"
             ],
             [
              0.5555555555555556,
              "#d8576b"
             ],
             [
              0.6666666666666666,
              "#ed7953"
             ],
             [
              0.7777777777777778,
              "#fb9f3a"
             ],
             [
              0.8888888888888888,
              "#fdca26"
             ],
             [
              1,
              "#f0f921"
             ]
            ],
            "type": "heatmap"
           }
          ],
          "heatmapgl": [
           {
            "colorbar": {
             "outlinewidth": 0,
             "ticks": ""
            },
            "colorscale": [
             [
              0,
              "#0d0887"
             ],
             [
              0.1111111111111111,
              "#46039f"
             ],
             [
              0.2222222222222222,
              "#7201a8"
             ],
             [
              0.3333333333333333,
              "#9c179e"
             ],
             [
              0.4444444444444444,
              "#bd3786"
             ],
             [
              0.5555555555555556,
              "#d8576b"
             ],
             [
              0.6666666666666666,
              "#ed7953"
             ],
             [
              0.7777777777777778,
              "#fb9f3a"
             ],
             [
              0.8888888888888888,
              "#fdca26"
             ],
             [
              1,
              "#f0f921"
             ]
            ],
            "type": "heatmapgl"
           }
          ],
          "histogram": [
           {
            "marker": {
             "pattern": {
              "fillmode": "overlay",
              "size": 10,
              "solidity": 0.2
             }
            },
            "type": "histogram"
           }
          ],
          "histogram2d": [
           {
            "colorbar": {
             "outlinewidth": 0,
             "ticks": ""
            },
            "colorscale": [
             [
              0,
              "#0d0887"
             ],
             [
              0.1111111111111111,
              "#46039f"
             ],
             [
              0.2222222222222222,
              "#7201a8"
             ],
             [
              0.3333333333333333,
              "#9c179e"
             ],
             [
              0.4444444444444444,
              "#bd3786"
             ],
             [
              0.5555555555555556,
              "#d8576b"
             ],
             [
              0.6666666666666666,
              "#ed7953"
             ],
             [
              0.7777777777777778,
              "#fb9f3a"
             ],
             [
              0.8888888888888888,
              "#fdca26"
             ],
             [
              1,
              "#f0f921"
             ]
            ],
            "type": "histogram2d"
           }
          ],
          "histogram2dcontour": [
           {
            "colorbar": {
             "outlinewidth": 0,
             "ticks": ""
            },
            "colorscale": [
             [
              0,
              "#0d0887"
             ],
             [
              0.1111111111111111,
              "#46039f"
             ],
             [
              0.2222222222222222,
              "#7201a8"
             ],
             [
              0.3333333333333333,
              "#9c179e"
             ],
             [
              0.4444444444444444,
              "#bd3786"
             ],
             [
              0.5555555555555556,
              "#d8576b"
             ],
             [
              0.6666666666666666,
              "#ed7953"
             ],
             [
              0.7777777777777778,
              "#fb9f3a"
             ],
             [
              0.8888888888888888,
              "#fdca26"
             ],
             [
              1,
              "#f0f921"
             ]
            ],
            "type": "histogram2dcontour"
           }
          ],
          "mesh3d": [
           {
            "colorbar": {
             "outlinewidth": 0,
             "ticks": ""
            },
            "type": "mesh3d"
           }
          ],
          "parcoords": [
           {
            "line": {
             "colorbar": {
              "outlinewidth": 0,
              "ticks": ""
             }
            },
            "type": "parcoords"
           }
          ],
          "pie": [
           {
            "automargin": true,
            "type": "pie"
           }
          ],
          "scatter": [
           {
            "marker": {
             "line": {
              "color": "#283442"
             }
            },
            "type": "scatter"
           }
          ],
          "scatter3d": [
           {
            "line": {
             "colorbar": {
              "outlinewidth": 0,
              "ticks": ""
             }
            },
            "marker": {
             "colorbar": {
              "outlinewidth": 0,
              "ticks": ""
             }
            },
            "type": "scatter3d"
           }
          ],
          "scattercarpet": [
           {
            "marker": {
             "colorbar": {
              "outlinewidth": 0,
              "ticks": ""
             }
            },
            "type": "scattercarpet"
           }
          ],
          "scattergeo": [
           {
            "marker": {
             "colorbar": {
              "outlinewidth": 0,
              "ticks": ""
             }
            },
            "type": "scattergeo"
           }
          ],
          "scattergl": [
           {
            "marker": {
             "line": {
              "color": "#283442"
             }
            },
            "type": "scattergl"
           }
          ],
          "scattermapbox": [
           {
            "marker": {
             "colorbar": {
              "outlinewidth": 0,
              "ticks": ""
             }
            },
            "type": "scattermapbox"
           }
          ],
          "scatterpolar": [
           {
            "marker": {
             "colorbar": {
              "outlinewidth": 0,
              "ticks": ""
             }
            },
            "type": "scatterpolar"
           }
          ],
          "scatterpolargl": [
           {
            "marker": {
             "colorbar": {
              "outlinewidth": 0,
              "ticks": ""
             }
            },
            "type": "scatterpolargl"
           }
          ],
          "scatterternary": [
           {
            "marker": {
             "colorbar": {
              "outlinewidth": 0,
              "ticks": ""
             }
            },
            "type": "scatterternary"
           }
          ],
          "surface": [
           {
            "colorbar": {
             "outlinewidth": 0,
             "ticks": ""
            },
            "colorscale": [
             [
              0,
              "#0d0887"
             ],
             [
              0.1111111111111111,
              "#46039f"
             ],
             [
              0.2222222222222222,
              "#7201a8"
             ],
             [
              0.3333333333333333,
              "#9c179e"
             ],
             [
              0.4444444444444444,
              "#bd3786"
             ],
             [
              0.5555555555555556,
              "#d8576b"
             ],
             [
              0.6666666666666666,
              "#ed7953"
             ],
             [
              0.7777777777777778,
              "#fb9f3a"
             ],
             [
              0.8888888888888888,
              "#fdca26"
             ],
             [
              1,
              "#f0f921"
             ]
            ],
            "type": "surface"
           }
          ],
          "table": [
           {
            "cells": {
             "fill": {
              "color": "#506784"
             },
             "line": {
              "color": "rgb(17,17,17)"
             }
            },
            "header": {
             "fill": {
              "color": "#2a3f5f"
             },
             "line": {
              "color": "rgb(17,17,17)"
             }
            },
            "type": "table"
           }
          ]
         },
         "layout": {
          "annotationdefaults": {
           "arrowcolor": "#f2f5fa",
           "arrowhead": 0,
           "arrowwidth": 1
          },
          "autotypenumbers": "strict",
          "coloraxis": {
           "colorbar": {
            "outlinewidth": 0,
            "ticks": ""
           }
          },
          "colorscale": {
           "diverging": [
            [
             0,
             "#8e0152"
            ],
            [
             0.1,
             "#c51b7d"
            ],
            [
             0.2,
             "#de77ae"
            ],
            [
             0.3,
             "#f1b6da"
            ],
            [
             0.4,
             "#fde0ef"
            ],
            [
             0.5,
             "#f7f7f7"
            ],
            [
             0.6,
             "#e6f5d0"
            ],
            [
             0.7,
             "#b8e186"
            ],
            [
             0.8,
             "#7fbc41"
            ],
            [
             0.9,
             "#4d9221"
            ],
            [
             1,
             "#276419"
            ]
           ],
           "sequential": [
            [
             0,
             "#0d0887"
            ],
            [
             0.1111111111111111,
             "#46039f"
            ],
            [
             0.2222222222222222,
             "#7201a8"
            ],
            [
             0.3333333333333333,
             "#9c179e"
            ],
            [
             0.4444444444444444,
             "#bd3786"
            ],
            [
             0.5555555555555556,
             "#d8576b"
            ],
            [
             0.6666666666666666,
             "#ed7953"
            ],
            [
             0.7777777777777778,
             "#fb9f3a"
            ],
            [
             0.8888888888888888,
             "#fdca26"
            ],
            [
             1,
             "#f0f921"
            ]
           ],
           "sequentialminus": [
            [
             0,
             "#0d0887"
            ],
            [
             0.1111111111111111,
             "#46039f"
            ],
            [
             0.2222222222222222,
             "#7201a8"
            ],
            [
             0.3333333333333333,
             "#9c179e"
            ],
            [
             0.4444444444444444,
             "#bd3786"
            ],
            [
             0.5555555555555556,
             "#d8576b"
            ],
            [
             0.6666666666666666,
             "#ed7953"
            ],
            [
             0.7777777777777778,
             "#fb9f3a"
            ],
            [
             0.8888888888888888,
             "#fdca26"
            ],
            [
             1,
             "#f0f921"
            ]
           ]
          },
          "colorway": [
           "#636efa",
           "#EF553B",
           "#00cc96",
           "#ab63fa",
           "#FFA15A",
           "#19d3f3",
           "#FF6692",
           "#B6E880",
           "#FF97FF",
           "#FECB52"
          ],
          "font": {
           "color": "#f2f5fa"
          },
          "geo": {
           "bgcolor": "rgb(17,17,17)",
           "lakecolor": "rgb(17,17,17)",
           "landcolor": "rgb(17,17,17)",
           "showlakes": true,
           "showland": true,
           "subunitcolor": "#506784"
          },
          "hoverlabel": {
           "align": "left"
          },
          "hovermode": "closest",
          "mapbox": {
           "style": "dark"
          },
          "paper_bgcolor": "rgb(17,17,17)",
          "plot_bgcolor": "rgb(17,17,17)",
          "polar": {
           "angularaxis": {
            "gridcolor": "#506784",
            "linecolor": "#506784",
            "ticks": ""
           },
           "bgcolor": "rgb(17,17,17)",
           "radialaxis": {
            "gridcolor": "#506784",
            "linecolor": "#506784",
            "ticks": ""
           }
          },
          "scene": {
           "xaxis": {
            "backgroundcolor": "rgb(17,17,17)",
            "gridcolor": "#506784",
            "gridwidth": 2,
            "linecolor": "#506784",
            "showbackground": true,
            "ticks": "",
            "zerolinecolor": "#C8D4E3"
           },
           "yaxis": {
            "backgroundcolor": "rgb(17,17,17)",
            "gridcolor": "#506784",
            "gridwidth": 2,
            "linecolor": "#506784",
            "showbackground": true,
            "ticks": "",
            "zerolinecolor": "#C8D4E3"
           },
           "zaxis": {
            "backgroundcolor": "rgb(17,17,17)",
            "gridcolor": "#506784",
            "gridwidth": 2,
            "linecolor": "#506784",
            "showbackground": true,
            "ticks": "",
            "zerolinecolor": "#C8D4E3"
           }
          },
          "shapedefaults": {
           "line": {
            "color": "#f2f5fa"
           }
          },
          "sliderdefaults": {
           "bgcolor": "#C8D4E3",
           "bordercolor": "rgb(17,17,17)",
           "borderwidth": 1,
           "tickwidth": 0
          },
          "ternary": {
           "aaxis": {
            "gridcolor": "#506784",
            "linecolor": "#506784",
            "ticks": ""
           },
           "baxis": {
            "gridcolor": "#506784",
            "linecolor": "#506784",
            "ticks": ""
           },
           "bgcolor": "rgb(17,17,17)",
           "caxis": {
            "gridcolor": "#506784",
            "linecolor": "#506784",
            "ticks": ""
           }
          },
          "title": {
           "x": 0.05
          },
          "updatemenudefaults": {
           "bgcolor": "#506784",
           "borderwidth": 0
          },
          "xaxis": {
           "automargin": true,
           "gridcolor": "#283442",
           "linecolor": "#506784",
           "ticks": "",
           "title": {
            "standoff": 15
           },
           "zerolinecolor": "#283442",
           "zerolinewidth": 2
          },
          "yaxis": {
           "automargin": true,
           "gridcolor": "#283442",
           "linecolor": "#506784",
           "ticks": "",
           "title": {
            "standoff": 15
           },
           "zerolinecolor": "#283442",
           "zerolinewidth": 2
          }
         }
        },
        "title": {
         "text": "Generated Motion"
        },
        "xaxis": {
         "fixedrange": true,
         "showgrid": false,
         "showticklabels": false,
         "zeroline": false,
         "zerolinecolor": "gray",
         "zerolinewidth": 1
        },
        "yaxis": {
         "fixedrange": true,
         "scaleanchor": "x",
         "scaleratio": 1,
         "showgrid": false,
         "showticklabels": false,
         "zeroline": false,
         "zerolinecolor": "gray",
         "zerolinewidth": 1
        }
       }
      }
     },
     "metadata": {},
     "output_type": "display_data"
    }
   ],
   "source": [
    "compare_orig_rec_gen(model, project_config)"
   ]
  }
 ],
 "metadata": {
  "kernelspec": {
   "display_name": "Python 3.10.8 ('ThirdHand')",
   "language": "python",
   "name": "python3"
  },
  "language_info": {
   "codemirror_mode": {
    "name": "ipython",
    "version": 3
   },
   "file_extension": ".py",
   "mimetype": "text/x-python",
   "name": "python",
   "nbconvert_exporter": "python",
   "pygments_lexer": "ipython3",
   "version": "3.10.8"
  },
  "orig_nbformat": 4,
  "vscode": {
   "interpreter": {
    "hash": "32d9db1937a742deca98e81c7250077b3dbbb3d3b598369d9a0a4746ee2520b3"
   }
  }
 },
 "nbformat": 4,
 "nbformat_minor": 2
}
