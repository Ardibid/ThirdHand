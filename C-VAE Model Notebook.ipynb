{
 "cells": [
  {
   "cell_type": "code",
   "execution_count": 1,
   "metadata": {},
   "outputs": [],
   "source": [
    "# modules\n",
    "from src.main_utils import Configuration\n",
    "from src.thirdHand_data_loader import get_min_max_from_dataset\n",
    "\n",
    "# custom visualizations\n",
    "from src.motion_visualization_tools import *\n",
    "from src.cvae_networks import *\n",
    "from src.train_utils import *"
   ]
  },
  {
   "cell_type": "code",
   "execution_count": 2,
   "metadata": {},
   "outputs": [
    {
     "name": "stdout",
     "output_type": "stream",
     "text": [
      "Data loaded from 11 filse, stored in a dataframe with shape (248486, 10)\n",
      "Dataframe headers are: ['px', 'py', 'pz', 'v1x', 'v1y', 'v1z', 'v2x', 'v2y', 'v2z', 'hand']\n",
      "Data loaded from 2 filse, stored in a dataframe with shape (54402, 10)\n",
      "Dataframe headers are: ['px', 'py', 'pz', 'v1x', 'v1y', 'v1z', 'v2x', 'v2y', 'v2z', 'hand']\n",
      "X_centered_scaled\n"
     ]
    }
   ],
   "source": [
    "project_config = Configuration()\n",
    "print(project_config.data_item)"
   ]
  },
  {
   "cell_type": "code",
   "execution_count": 3,
   "metadata": {},
   "outputs": [],
   "source": [
    "# 3 or 5 both work!\n",
    "kernel_size = 5\n",
    "\n",
    "# between 10 and 5\n",
    "first_filter_size = 9\n",
    "\n",
    "# depth should be 2, 3, 4\n",
    "depth = 2\n",
    "dropout = 0.1\n",
    "epochs = 10 #300\n",
    "\n",
    "batch_size = 128\n",
    "latent_dim = 8\n",
    "\n",
    "rec_loss= \"L1\"\n",
    "reduction= \"sum\" \n",
    "kld_weight = 1e-1\n",
    "\n",
    "model_name_to_save=\"c_vae_model_tmp\"\n",
    "\n",
    "model = VAE_CNN(project_config.device, \n",
    "                first_filter_size, \n",
    "                kernel_size, \n",
    "                depth, \n",
    "                dropout,\n",
    "                latent_dim,\n",
    "                rec_loss= rec_loss,\n",
    "                reduction= reduction,\n",
    "                kld_weight = kld_weight)"
   ]
  },
  {
   "cell_type": "code",
   "execution_count": 4,
   "metadata": {},
   "outputs": [
    {
     "name": "stdout",
     "output_type": "stream",
     "text": [
      "Image 0 saved\n",
      "0:\tTotal: 5748.26784\tEval loss: 7389.06128\t Rec loss: 5741.54162\t KLD loss: 6.72617\t time: 5.3s\n"
     ]
    },
    {
     "data": {
      "application/vnd.plotly.v1+json": {
       "config": {
        "plotlyServerURL": "https://plot.ly"
       },
       "data": [
        {
         "mode": "lines",
         "name": "training",
         "type": "scatter",
         "x": [
          0,
          1,
          2,
          3,
          4,
          5,
          6,
          7,
          8,
          9,
          10
         ],
         "y": [
          5748.267841045673,
          2681.1869365985576,
          1738.2689960186299,
          1295.6478647085337,
          1066.5261699969951,
          979.9360022911659,
          940.4801541841947,
          903.6422447791466,
          816.8280921349159,
          745.4105694110577,
          713.0119957557091
         ]
        },
        {
         "mode": "lines",
         "name": "validation",
         "type": "scatter",
         "x": [
          0,
          1,
          2,
          3,
          4,
          5,
          6,
          7,
          8,
          9,
          10
         ],
         "y": [
          7389.061279296875,
          4799.981689453125,
          2604.8829345703125,
          1168.2100219726562,
          902.3455810546875,
          896.6195678710938,
          880.0326538085938,
          703.5154113769531,
          652.1416931152344,
          598.1993408203125,
          608.4369506835938
         ]
        }
       ],
       "layout": {
        "template": {
         "data": {
          "bar": [
           {
            "error_x": {
             "color": "#f2f5fa"
            },
            "error_y": {
             "color": "#f2f5fa"
            },
            "marker": {
             "line": {
              "color": "rgb(17,17,17)",
              "width": 0.5
             },
             "pattern": {
              "fillmode": "overlay",
              "size": 10,
              "solidity": 0.2
             }
            },
            "type": "bar"
           }
          ],
          "barpolar": [
           {
            "marker": {
             "line": {
              "color": "rgb(17,17,17)",
              "width": 0.5
             },
             "pattern": {
              "fillmode": "overlay",
              "size": 10,
              "solidity": 0.2
             }
            },
            "type": "barpolar"
           }
          ],
          "carpet": [
           {
            "aaxis": {
             "endlinecolor": "#A2B1C6",
             "gridcolor": "#506784",
             "linecolor": "#506784",
             "minorgridcolor": "#506784",
             "startlinecolor": "#A2B1C6"
            },
            "baxis": {
             "endlinecolor": "#A2B1C6",
             "gridcolor": "#506784",
             "linecolor": "#506784",
             "minorgridcolor": "#506784",
             "startlinecolor": "#A2B1C6"
            },
            "type": "carpet"
           }
          ],
          "choropleth": [
           {
            "colorbar": {
             "outlinewidth": 0,
             "ticks": ""
            },
            "type": "choropleth"
           }
          ],
          "contour": [
           {
            "colorbar": {
             "outlinewidth": 0,
             "ticks": ""
            },
            "colorscale": [
             [
              0,
              "#0d0887"
             ],
             [
              0.1111111111111111,
              "#46039f"
             ],
             [
              0.2222222222222222,
              "#7201a8"
             ],
             [
              0.3333333333333333,
              "#9c179e"
             ],
             [
              0.4444444444444444,
              "#bd3786"
             ],
             [
              0.5555555555555556,
              "#d8576b"
             ],
             [
              0.6666666666666666,
              "#ed7953"
             ],
             [
              0.7777777777777778,
              "#fb9f3a"
             ],
             [
              0.8888888888888888,
              "#fdca26"
             ],
             [
              1,
              "#f0f921"
             ]
            ],
            "type": "contour"
           }
          ],
          "contourcarpet": [
           {
            "colorbar": {
             "outlinewidth": 0,
             "ticks": ""
            },
            "type": "contourcarpet"
           }
          ],
          "heatmap": [
           {
            "colorbar": {
             "outlinewidth": 0,
             "ticks": ""
            },
            "colorscale": [
             [
              0,
              "#0d0887"
             ],
             [
              0.1111111111111111,
              "#46039f"
             ],
             [
              0.2222222222222222,
              "#7201a8"
             ],
             [
              0.3333333333333333,
              "#9c179e"
             ],
             [
              0.4444444444444444,
              "#bd3786"
             ],
             [
              0.5555555555555556,
              "#d8576b"
             ],
             [
              0.6666666666666666,
              "#ed7953"
             ],
             [
              0.7777777777777778,
              "#fb9f3a"
             ],
             [
              0.8888888888888888,
              "#fdca26"
             ],
             [
              1,
              "#f0f921"
             ]
            ],
            "type": "heatmap"
           }
          ],
          "heatmapgl": [
           {
            "colorbar": {
             "outlinewidth": 0,
             "ticks": ""
            },
            "colorscale": [
             [
              0,
              "#0d0887"
             ],
             [
              0.1111111111111111,
              "#46039f"
             ],
             [
              0.2222222222222222,
              "#7201a8"
             ],
             [
              0.3333333333333333,
              "#9c179e"
             ],
             [
              0.4444444444444444,
              "#bd3786"
             ],
             [
              0.5555555555555556,
              "#d8576b"
             ],
             [
              0.6666666666666666,
              "#ed7953"
             ],
             [
              0.7777777777777778,
              "#fb9f3a"
             ],
             [
              0.8888888888888888,
              "#fdca26"
             ],
             [
              1,
              "#f0f921"
             ]
            ],
            "type": "heatmapgl"
           }
          ],
          "histogram": [
           {
            "marker": {
             "pattern": {
              "fillmode": "overlay",
              "size": 10,
              "solidity": 0.2
             }
            },
            "type": "histogram"
           }
          ],
          "histogram2d": [
           {
            "colorbar": {
             "outlinewidth": 0,
             "ticks": ""
            },
            "colorscale": [
             [
              0,
              "#0d0887"
             ],
             [
              0.1111111111111111,
              "#46039f"
             ],
             [
              0.2222222222222222,
              "#7201a8"
             ],
             [
              0.3333333333333333,
              "#9c179e"
             ],
             [
              0.4444444444444444,
              "#bd3786"
             ],
             [
              0.5555555555555556,
              "#d8576b"
             ],
             [
              0.6666666666666666,
              "#ed7953"
             ],
             [
              0.7777777777777778,
              "#fb9f3a"
             ],
             [
              0.8888888888888888,
              "#fdca26"
             ],
             [
              1,
              "#f0f921"
             ]
            ],
            "type": "histogram2d"
           }
          ],
          "histogram2dcontour": [
           {
            "colorbar": {
             "outlinewidth": 0,
             "ticks": ""
            },
            "colorscale": [
             [
              0,
              "#0d0887"
             ],
             [
              0.1111111111111111,
              "#46039f"
             ],
             [
              0.2222222222222222,
              "#7201a8"
             ],
             [
              0.3333333333333333,
              "#9c179e"
             ],
             [
              0.4444444444444444,
              "#bd3786"
             ],
             [
              0.5555555555555556,
              "#d8576b"
             ],
             [
              0.6666666666666666,
              "#ed7953"
             ],
             [
              0.7777777777777778,
              "#fb9f3a"
             ],
             [
              0.8888888888888888,
              "#fdca26"
             ],
             [
              1,
              "#f0f921"
             ]
            ],
            "type": "histogram2dcontour"
           }
          ],
          "mesh3d": [
           {
            "colorbar": {
             "outlinewidth": 0,
             "ticks": ""
            },
            "type": "mesh3d"
           }
          ],
          "parcoords": [
           {
            "line": {
             "colorbar": {
              "outlinewidth": 0,
              "ticks": ""
             }
            },
            "type": "parcoords"
           }
          ],
          "pie": [
           {
            "automargin": true,
            "type": "pie"
           }
          ],
          "scatter": [
           {
            "marker": {
             "line": {
              "color": "#283442"
             }
            },
            "type": "scatter"
           }
          ],
          "scatter3d": [
           {
            "line": {
             "colorbar": {
              "outlinewidth": 0,
              "ticks": ""
             }
            },
            "marker": {
             "colorbar": {
              "outlinewidth": 0,
              "ticks": ""
             }
            },
            "type": "scatter3d"
           }
          ],
          "scattercarpet": [
           {
            "marker": {
             "colorbar": {
              "outlinewidth": 0,
              "ticks": ""
             }
            },
            "type": "scattercarpet"
           }
          ],
          "scattergeo": [
           {
            "marker": {
             "colorbar": {
              "outlinewidth": 0,
              "ticks": ""
             }
            },
            "type": "scattergeo"
           }
          ],
          "scattergl": [
           {
            "marker": {
             "line": {
              "color": "#283442"
             }
            },
            "type": "scattergl"
           }
          ],
          "scattermapbox": [
           {
            "marker": {
             "colorbar": {
              "outlinewidth": 0,
              "ticks": ""
             }
            },
            "type": "scattermapbox"
           }
          ],
          "scatterpolar": [
           {
            "marker": {
             "colorbar": {
              "outlinewidth": 0,
              "ticks": ""
             }
            },
            "type": "scatterpolar"
           }
          ],
          "scatterpolargl": [
           {
            "marker": {
             "colorbar": {
              "outlinewidth": 0,
              "ticks": ""
             }
            },
            "type": "scatterpolargl"
           }
          ],
          "scatterternary": [
           {
            "marker": {
             "colorbar": {
              "outlinewidth": 0,
              "ticks": ""
             }
            },
            "type": "scatterternary"
           }
          ],
          "surface": [
           {
            "colorbar": {
             "outlinewidth": 0,
             "ticks": ""
            },
            "colorscale": [
             [
              0,
              "#0d0887"
             ],
             [
              0.1111111111111111,
              "#46039f"
             ],
             [
              0.2222222222222222,
              "#7201a8"
             ],
             [
              0.3333333333333333,
              "#9c179e"
             ],
             [
              0.4444444444444444,
              "#bd3786"
             ],
             [
              0.5555555555555556,
              "#d8576b"
             ],
             [
              0.6666666666666666,
              "#ed7953"
             ],
             [
              0.7777777777777778,
              "#fb9f3a"
             ],
             [
              0.8888888888888888,
              "#fdca26"
             ],
             [
              1,
              "#f0f921"
             ]
            ],
            "type": "surface"
           }
          ],
          "table": [
           {
            "cells": {
             "fill": {
              "color": "#506784"
             },
             "line": {
              "color": "rgb(17,17,17)"
             }
            },
            "header": {
             "fill": {
              "color": "#2a3f5f"
             },
             "line": {
              "color": "rgb(17,17,17)"
             }
            },
            "type": "table"
           }
          ]
         },
         "layout": {
          "annotationdefaults": {
           "arrowcolor": "#f2f5fa",
           "arrowhead": 0,
           "arrowwidth": 1
          },
          "autotypenumbers": "strict",
          "coloraxis": {
           "colorbar": {
            "outlinewidth": 0,
            "ticks": ""
           }
          },
          "colorscale": {
           "diverging": [
            [
             0,
             "#8e0152"
            ],
            [
             0.1,
             "#c51b7d"
            ],
            [
             0.2,
             "#de77ae"
            ],
            [
             0.3,
             "#f1b6da"
            ],
            [
             0.4,
             "#fde0ef"
            ],
            [
             0.5,
             "#f7f7f7"
            ],
            [
             0.6,
             "#e6f5d0"
            ],
            [
             0.7,
             "#b8e186"
            ],
            [
             0.8,
             "#7fbc41"
            ],
            [
             0.9,
             "#4d9221"
            ],
            [
             1,
             "#276419"
            ]
           ],
           "sequential": [
            [
             0,
             "#0d0887"
            ],
            [
             0.1111111111111111,
             "#46039f"
            ],
            [
             0.2222222222222222,
             "#7201a8"
            ],
            [
             0.3333333333333333,
             "#9c179e"
            ],
            [
             0.4444444444444444,
             "#bd3786"
            ],
            [
             0.5555555555555556,
             "#d8576b"
            ],
            [
             0.6666666666666666,
             "#ed7953"
            ],
            [
             0.7777777777777778,
             "#fb9f3a"
            ],
            [
             0.8888888888888888,
             "#fdca26"
            ],
            [
             1,
             "#f0f921"
            ]
           ],
           "sequentialminus": [
            [
             0,
             "#0d0887"
            ],
            [
             0.1111111111111111,
             "#46039f"
            ],
            [
             0.2222222222222222,
             "#7201a8"
            ],
            [
             0.3333333333333333,
             "#9c179e"
            ],
            [
             0.4444444444444444,
             "#bd3786"
            ],
            [
             0.5555555555555556,
             "#d8576b"
            ],
            [
             0.6666666666666666,
             "#ed7953"
            ],
            [
             0.7777777777777778,
             "#fb9f3a"
            ],
            [
             0.8888888888888888,
             "#fdca26"
            ],
            [
             1,
             "#f0f921"
            ]
           ]
          },
          "colorway": [
           "#636efa",
           "#EF553B",
           "#00cc96",
           "#ab63fa",
           "#FFA15A",
           "#19d3f3",
           "#FF6692",
           "#B6E880",
           "#FF97FF",
           "#FECB52"
          ],
          "font": {
           "color": "#f2f5fa"
          },
          "geo": {
           "bgcolor": "rgb(17,17,17)",
           "lakecolor": "rgb(17,17,17)",
           "landcolor": "rgb(17,17,17)",
           "showlakes": true,
           "showland": true,
           "subunitcolor": "#506784"
          },
          "hoverlabel": {
           "align": "left"
          },
          "hovermode": "closest",
          "mapbox": {
           "style": "dark"
          },
          "paper_bgcolor": "rgb(17,17,17)",
          "plot_bgcolor": "rgb(17,17,17)",
          "polar": {
           "angularaxis": {
            "gridcolor": "#506784",
            "linecolor": "#506784",
            "ticks": ""
           },
           "bgcolor": "rgb(17,17,17)",
           "radialaxis": {
            "gridcolor": "#506784",
            "linecolor": "#506784",
            "ticks": ""
           }
          },
          "scene": {
           "xaxis": {
            "backgroundcolor": "rgb(17,17,17)",
            "gridcolor": "#506784",
            "gridwidth": 2,
            "linecolor": "#506784",
            "showbackground": true,
            "ticks": "",
            "zerolinecolor": "#C8D4E3"
           },
           "yaxis": {
            "backgroundcolor": "rgb(17,17,17)",
            "gridcolor": "#506784",
            "gridwidth": 2,
            "linecolor": "#506784",
            "showbackground": true,
            "ticks": "",
            "zerolinecolor": "#C8D4E3"
           },
           "zaxis": {
            "backgroundcolor": "rgb(17,17,17)",
            "gridcolor": "#506784",
            "gridwidth": 2,
            "linecolor": "#506784",
            "showbackground": true,
            "ticks": "",
            "zerolinecolor": "#C8D4E3"
           }
          },
          "shapedefaults": {
           "line": {
            "color": "#f2f5fa"
           }
          },
          "sliderdefaults": {
           "bgcolor": "#C8D4E3",
           "bordercolor": "rgb(17,17,17)",
           "borderwidth": 1,
           "tickwidth": 0
          },
          "ternary": {
           "aaxis": {
            "gridcolor": "#506784",
            "linecolor": "#506784",
            "ticks": ""
           },
           "baxis": {
            "gridcolor": "#506784",
            "linecolor": "#506784",
            "ticks": ""
           },
           "bgcolor": "rgb(17,17,17)",
           "caxis": {
            "gridcolor": "#506784",
            "linecolor": "#506784",
            "ticks": ""
           }
          },
          "title": {
           "x": 0.05
          },
          "updatemenudefaults": {
           "bgcolor": "#506784",
           "borderwidth": 0
          },
          "xaxis": {
           "automargin": true,
           "gridcolor": "#283442",
           "linecolor": "#506784",
           "ticks": "",
           "title": {
            "standoff": 15
           },
           "zerolinecolor": "#283442",
           "zerolinewidth": 2
          },
          "yaxis": {
           "automargin": true,
           "gridcolor": "#283442",
           "linecolor": "#506784",
           "ticks": "",
           "title": {
            "standoff": 15
           },
           "zerolinecolor": "#283442",
           "zerolinewidth": 2
          }
         }
        },
        "yaxis": {
         "type": "log"
        }
       }
      }
     },
     "metadata": {},
     "output_type": "display_data"
    }
   ],
   "source": [
    "train_losses ,train_rec_losses,train_kld_losses, eval_losses = train_model (model, project_config, epochs, model_name_to_save) "
   ]
  },
  {
   "cell_type": "code",
   "execution_count": 5,
   "metadata": {},
   "outputs": [
    {
     "name": "stdout",
     "output_type": "stream",
     "text": [
      "--------------------\n",
      "<class 'plotly.graph_objs._figure.Figure'> <class 'str'>\n"
     ]
    },
    {
     "data": {
      "application/vnd.plotly.v1+json": {
       "config": {
        "plotlyServerURL": "https://plot.ly"
       },
       "data": [
        {
         "line": {
          "color": [
           0,
           1,
           2,
           3,
           4,
           5,
           6,
           7,
           8,
           9,
           10,
           11,
           12,
           13,
           14,
           15,
           16,
           17,
           18,
           19
          ],
          "colorscale": [
           [
            0,
            "#440154"
           ],
           [
            0.1111111111111111,
            "#482878"
           ],
           [
            0.2222222222222222,
            "#3e4989"
           ],
           [
            0.3333333333333333,
            "#31688e"
           ],
           [
            0.4444444444444444,
            "#26828e"
           ],
           [
            0.5555555555555556,
            "#1f9e89"
           ],
           [
            0.6666666666666666,
            "#35b779"
           ],
           [
            0.7777777777777778,
            "#6ece58"
           ],
           [
            0.8888888888888888,
            "#b5de2b"
           ],
           [
            1,
            "#fde725"
           ]
          ],
          "width": 4
         },
         "mode": "lines",
         "type": "scatter3d",
         "x": [
          0.10761000216007233,
          0.09991699457168579,
          0.09003899991512299,
          0.07796899974346161,
          0.06391799449920654,
          0.04895299673080444,
          0.033170998096466064,
          0.018362998962402344,
          0.006361998617649078,
          0,
          0.0012029968202114105,
          0.0033299997448921204,
          0.005672000348567963,
          0.00858299806714058,
          0.011744998395442963,
          0.015717998147010803,
          0.020541999489068985,
          0.026015998795628548,
          0.03208399936556816,
          0.038736000657081604
         ],
         "y": [
          0.027008000761270523,
          0.024958999827504158,
          0.022359998896718025,
          0.019473999738693237,
          0.016558999195694923,
          0.012717999517917633,
          0.009401999413967133,
          0.006066000089049339,
          0.0028329994529485703,
          0,
          -0.0014980006963014603,
          -0.0022780001163482666,
          -0.0014949999749660492,
          0.00041399896144866943,
          0.003422999754548073,
          0.0057649994269013405,
          0.007505999878048897,
          0.008342999964952469,
          0.007957999594509602,
          0.006442000158131123
         ],
         "z": [
          0.2140899896621704,
          0.20368599891662598,
          0.1909550130367279,
          0.17544999718666077,
          0.15655899047851562,
          0.1338529884815216,
          0.10647400468587875,
          0.07441699504852295,
          0.03792300075292587,
          0,
          0.00603799894452095,
          0.013166997581720352,
          0.02051999792456627,
          0.028289996087551117,
          0.0372299998998642,
          0.04712300002574921,
          0.0578560009598732,
          0.06894700229167938,
          0.0800509974360466,
          0.09068099409341812
         ]
        },
        {
         "line": {
          "color": [
           0,
           1,
           2,
           3,
           4,
           5,
           6,
           7,
           8,
           9,
           10,
           11,
           12,
           13,
           14,
           15,
           16,
           17,
           18,
           19
          ],
          "colorscale": [
           [
            0,
            "rgb(75, 41, 145)"
           ],
           [
            0.16666666666666666,
            "rgb(135, 44, 162)"
           ],
           [
            0.3333333333333333,
            "rgb(192, 54, 157)"
           ],
           [
            0.5,
            "rgb(234, 79, 136)"
           ],
           [
            0.6666666666666666,
            "rgb(250, 120, 118)"
           ],
           [
            0.8333333333333334,
            "rgb(246, 169, 122)"
           ],
           [
            1,
            "rgb(237, 217, 163)"
           ]
          ],
          "width": 1
         },
         "mode": "lines",
         "type": "scatter3d",
         "x": [
          0.10760999470949173,
          0.09991699457168579,
          0.09003899991512299,
          0.07796899974346161,
          0.06391799449920654,
          0.04895299673080444,
          0.033170998096466064,
          0.018362998962402344,
          0.006361998617649078,
          0,
          0.0012029963545501232,
          0.0033299997448921204,
          0.005671999417245388,
          0.00858299806714058,
          0.011744998395442963,
          0.015717998147010803,
          0.020541999489068985,
          0.0260159969329834,
          0.03208399936556816,
          0.038736000657081604
         ],
         "y": [
          0.02700800448656082,
          0.02495899796485901,
          0.022359997034072876,
          0.019473999738693237,
          0.016558989882469177,
          0.012717999517917633,
          0.009401999413967133,
          0.0060660019516944885,
          0.0028330013155937195,
          0,
          -0.001497998833656311,
          -0.0022780001163482666,
          -0.0014949999749660492,
          0.00041399896144866943,
          0.0034229978919029236,
          0.005764998495578766,
          0.0075059980154037476,
          0.008343003690242767,
          0.007958002388477325,
          0.0064420029520988464
         ],
         "z": [
          0.2140899896621704,
          0.20368599891662598,
          0.1909549981355667,
          0.17544999718666077,
          0.15655899047851562,
          0.1338529884815216,
          0.10647399723529816,
          0.07441699504852295,
          0.03792300075292587,
          0,
          0.00603799894452095,
          0.013166997581720352,
          0.02051999792456627,
          0.02828999236226082,
          0.0372299998998642,
          0.04712300002574921,
          0.0578560009598732,
          0.06894700229167938,
          0.080050989985466,
          0.09068099409341812
         ]
        },
        {
         "marker": {
          "size": 0.1
         },
         "mode": "markers",
         "type": "scatter3d",
         "x": [
          -0.1,
          0.1
         ],
         "y": [
          -0.1,
          0.1
         ],
         "z": [
          0,
          0.1
         ]
        }
       ],
       "layout": {
        "coloraxis": {
         "showscale": false
        },
        "font": {
         "color": "white",
         "family": "Roboto, monospace",
         "size": 12
        },
        "height": 800,
        "margin": {
         "b": 50,
         "l": 5,
         "r": 5,
         "t": 50
        },
        "scene": {
         "aspectratio": {
          "x": 1,
          "y": 1,
          "z": 1
         },
         "camera": {
          "eye": {
           "x": -1.5,
           "y": 1.5,
           "z": 1.5
          },
          "up": {
           "x": 0,
           "y": 0,
           "z": 1
          }
         }
        },
        "showlegend": false,
        "template": {
         "data": {
          "bar": [
           {
            "error_x": {
             "color": "#f2f5fa"
            },
            "error_y": {
             "color": "#f2f5fa"
            },
            "marker": {
             "line": {
              "color": "rgb(17,17,17)",
              "width": 0.5
             },
             "pattern": {
              "fillmode": "overlay",
              "size": 10,
              "solidity": 0.2
             }
            },
            "type": "bar"
           }
          ],
          "barpolar": [
           {
            "marker": {
             "line": {
              "color": "rgb(17,17,17)",
              "width": 0.5
             },
             "pattern": {
              "fillmode": "overlay",
              "size": 10,
              "solidity": 0.2
             }
            },
            "type": "barpolar"
           }
          ],
          "carpet": [
           {
            "aaxis": {
             "endlinecolor": "#A2B1C6",
             "gridcolor": "#506784",
             "linecolor": "#506784",
             "minorgridcolor": "#506784",
             "startlinecolor": "#A2B1C6"
            },
            "baxis": {
             "endlinecolor": "#A2B1C6",
             "gridcolor": "#506784",
             "linecolor": "#506784",
             "minorgridcolor": "#506784",
             "startlinecolor": "#A2B1C6"
            },
            "type": "carpet"
           }
          ],
          "choropleth": [
           {
            "colorbar": {
             "outlinewidth": 0,
             "ticks": ""
            },
            "type": "choropleth"
           }
          ],
          "contour": [
           {
            "colorbar": {
             "outlinewidth": 0,
             "ticks": ""
            },
            "colorscale": [
             [
              0,
              "#0d0887"
             ],
             [
              0.1111111111111111,
              "#46039f"
             ],
             [
              0.2222222222222222,
              "#7201a8"
             ],
             [
              0.3333333333333333,
              "#9c179e"
             ],
             [
              0.4444444444444444,
              "#bd3786"
             ],
             [
              0.5555555555555556,
              "#d8576b"
             ],
             [
              0.6666666666666666,
              "#ed7953"
             ],
             [
              0.7777777777777778,
              "#fb9f3a"
             ],
             [
              0.8888888888888888,
              "#fdca26"
             ],
             [
              1,
              "#f0f921"
             ]
            ],
            "type": "contour"
           }
          ],
          "contourcarpet": [
           {
            "colorbar": {
             "outlinewidth": 0,
             "ticks": ""
            },
            "type": "contourcarpet"
           }
          ],
          "heatmap": [
           {
            "colorbar": {
             "outlinewidth": 0,
             "ticks": ""
            },
            "colorscale": [
             [
              0,
              "#0d0887"
             ],
             [
              0.1111111111111111,
              "#46039f"
             ],
             [
              0.2222222222222222,
              "#7201a8"
             ],
             [
              0.3333333333333333,
              "#9c179e"
             ],
             [
              0.4444444444444444,
              "#bd3786"
             ],
             [
              0.5555555555555556,
              "#d8576b"
             ],
             [
              0.6666666666666666,
              "#ed7953"
             ],
             [
              0.7777777777777778,
              "#fb9f3a"
             ],
             [
              0.8888888888888888,
              "#fdca26"
             ],
             [
              1,
              "#f0f921"
             ]
            ],
            "type": "heatmap"
           }
          ],
          "heatmapgl": [
           {
            "colorbar": {
             "outlinewidth": 0,
             "ticks": ""
            },
            "colorscale": [
             [
              0,
              "#0d0887"
             ],
             [
              0.1111111111111111,
              "#46039f"
             ],
             [
              0.2222222222222222,
              "#7201a8"
             ],
             [
              0.3333333333333333,
              "#9c179e"
             ],
             [
              0.4444444444444444,
              "#bd3786"
             ],
             [
              0.5555555555555556,
              "#d8576b"
             ],
             [
              0.6666666666666666,
              "#ed7953"
             ],
             [
              0.7777777777777778,
              "#fb9f3a"
             ],
             [
              0.8888888888888888,
              "#fdca26"
             ],
             [
              1,
              "#f0f921"
             ]
            ],
            "type": "heatmapgl"
           }
          ],
          "histogram": [
           {
            "marker": {
             "pattern": {
              "fillmode": "overlay",
              "size": 10,
              "solidity": 0.2
             }
            },
            "type": "histogram"
           }
          ],
          "histogram2d": [
           {
            "colorbar": {
             "outlinewidth": 0,
             "ticks": ""
            },
            "colorscale": [
             [
              0,
              "#0d0887"
             ],
             [
              0.1111111111111111,
              "#46039f"
             ],
             [
              0.2222222222222222,
              "#7201a8"
             ],
             [
              0.3333333333333333,
              "#9c179e"
             ],
             [
              0.4444444444444444,
              "#bd3786"
             ],
             [
              0.5555555555555556,
              "#d8576b"
             ],
             [
              0.6666666666666666,
              "#ed7953"
             ],
             [
              0.7777777777777778,
              "#fb9f3a"
             ],
             [
              0.8888888888888888,
              "#fdca26"
             ],
             [
              1,
              "#f0f921"
             ]
            ],
            "type": "histogram2d"
           }
          ],
          "histogram2dcontour": [
           {
            "colorbar": {
             "outlinewidth": 0,
             "ticks": ""
            },
            "colorscale": [
             [
              0,
              "#0d0887"
             ],
             [
              0.1111111111111111,
              "#46039f"
             ],
             [
              0.2222222222222222,
              "#7201a8"
             ],
             [
              0.3333333333333333,
              "#9c179e"
             ],
             [
              0.4444444444444444,
              "#bd3786"
             ],
             [
              0.5555555555555556,
              "#d8576b"
             ],
             [
              0.6666666666666666,
              "#ed7953"
             ],
             [
              0.7777777777777778,
              "#fb9f3a"
             ],
             [
              0.8888888888888888,
              "#fdca26"
             ],
             [
              1,
              "#f0f921"
             ]
            ],
            "type": "histogram2dcontour"
           }
          ],
          "mesh3d": [
           {
            "colorbar": {
             "outlinewidth": 0,
             "ticks": ""
            },
            "type": "mesh3d"
           }
          ],
          "parcoords": [
           {
            "line": {
             "colorbar": {
              "outlinewidth": 0,
              "ticks": ""
             }
            },
            "type": "parcoords"
           }
          ],
          "pie": [
           {
            "automargin": true,
            "type": "pie"
           }
          ],
          "scatter": [
           {
            "marker": {
             "line": {
              "color": "#283442"
             }
            },
            "type": "scatter"
           }
          ],
          "scatter3d": [
           {
            "line": {
             "colorbar": {
              "outlinewidth": 0,
              "ticks": ""
             }
            },
            "marker": {
             "colorbar": {
              "outlinewidth": 0,
              "ticks": ""
             }
            },
            "type": "scatter3d"
           }
          ],
          "scattercarpet": [
           {
            "marker": {
             "colorbar": {
              "outlinewidth": 0,
              "ticks": ""
             }
            },
            "type": "scattercarpet"
           }
          ],
          "scattergeo": [
           {
            "marker": {
             "colorbar": {
              "outlinewidth": 0,
              "ticks": ""
             }
            },
            "type": "scattergeo"
           }
          ],
          "scattergl": [
           {
            "marker": {
             "line": {
              "color": "#283442"
             }
            },
            "type": "scattergl"
           }
          ],
          "scattermapbox": [
           {
            "marker": {
             "colorbar": {
              "outlinewidth": 0,
              "ticks": ""
             }
            },
            "type": "scattermapbox"
           }
          ],
          "scatterpolar": [
           {
            "marker": {
             "colorbar": {
              "outlinewidth": 0,
              "ticks": ""
             }
            },
            "type": "scatterpolar"
           }
          ],
          "scatterpolargl": [
           {
            "marker": {
             "colorbar": {
              "outlinewidth": 0,
              "ticks": ""
             }
            },
            "type": "scatterpolargl"
           }
          ],
          "scatterternary": [
           {
            "marker": {
             "colorbar": {
              "outlinewidth": 0,
              "ticks": ""
             }
            },
            "type": "scatterternary"
           }
          ],
          "surface": [
           {
            "colorbar": {
             "outlinewidth": 0,
             "ticks": ""
            },
            "colorscale": [
             [
              0,
              "#0d0887"
             ],
             [
              0.1111111111111111,
              "#46039f"
             ],
             [
              0.2222222222222222,
              "#7201a8"
             ],
             [
              0.3333333333333333,
              "#9c179e"
             ],
             [
              0.4444444444444444,
              "#bd3786"
             ],
             [
              0.5555555555555556,
              "#d8576b"
             ],
             [
              0.6666666666666666,
              "#ed7953"
             ],
             [
              0.7777777777777778,
              "#fb9f3a"
             ],
             [
              0.8888888888888888,
              "#fdca26"
             ],
             [
              1,
              "#f0f921"
             ]
            ],
            "type": "surface"
           }
          ],
          "table": [
           {
            "cells": {
             "fill": {
              "color": "#506784"
             },
             "line": {
              "color": "rgb(17,17,17)"
             }
            },
            "header": {
             "fill": {
              "color": "#2a3f5f"
             },
             "line": {
              "color": "rgb(17,17,17)"
             }
            },
            "type": "table"
           }
          ]
         },
         "layout": {
          "annotationdefaults": {
           "arrowcolor": "#f2f5fa",
           "arrowhead": 0,
           "arrowwidth": 1
          },
          "autotypenumbers": "strict",
          "coloraxis": {
           "colorbar": {
            "outlinewidth": 0,
            "ticks": ""
           }
          },
          "colorscale": {
           "diverging": [
            [
             0,
             "#8e0152"
            ],
            [
             0.1,
             "#c51b7d"
            ],
            [
             0.2,
             "#de77ae"
            ],
            [
             0.3,
             "#f1b6da"
            ],
            [
             0.4,
             "#fde0ef"
            ],
            [
             0.5,
             "#f7f7f7"
            ],
            [
             0.6,
             "#e6f5d0"
            ],
            [
             0.7,
             "#b8e186"
            ],
            [
             0.8,
             "#7fbc41"
            ],
            [
             0.9,
             "#4d9221"
            ],
            [
             1,
             "#276419"
            ]
           ],
           "sequential": [
            [
             0,
             "#0d0887"
            ],
            [
             0.1111111111111111,
             "#46039f"
            ],
            [
             0.2222222222222222,
             "#7201a8"
            ],
            [
             0.3333333333333333,
             "#9c179e"
            ],
            [
             0.4444444444444444,
             "#bd3786"
            ],
            [
             0.5555555555555556,
             "#d8576b"
            ],
            [
             0.6666666666666666,
             "#ed7953"
            ],
            [
             0.7777777777777778,
             "#fb9f3a"
            ],
            [
             0.8888888888888888,
             "#fdca26"
            ],
            [
             1,
             "#f0f921"
            ]
           ],
           "sequentialminus": [
            [
             0,
             "#0d0887"
            ],
            [
             0.1111111111111111,
             "#46039f"
            ],
            [
             0.2222222222222222,
             "#7201a8"
            ],
            [
             0.3333333333333333,
             "#9c179e"
            ],
            [
             0.4444444444444444,
             "#bd3786"
            ],
            [
             0.5555555555555556,
             "#d8576b"
            ],
            [
             0.6666666666666666,
             "#ed7953"
            ],
            [
             0.7777777777777778,
             "#fb9f3a"
            ],
            [
             0.8888888888888888,
             "#fdca26"
            ],
            [
             1,
             "#f0f921"
            ]
           ]
          },
          "colorway": [
           "#636efa",
           "#EF553B",
           "#00cc96",
           "#ab63fa",
           "#FFA15A",
           "#19d3f3",
           "#FF6692",
           "#B6E880",
           "#FF97FF",
           "#FECB52"
          ],
          "font": {
           "color": "#f2f5fa"
          },
          "geo": {
           "bgcolor": "rgb(17,17,17)",
           "lakecolor": "rgb(17,17,17)",
           "landcolor": "rgb(17,17,17)",
           "showlakes": true,
           "showland": true,
           "subunitcolor": "#506784"
          },
          "hoverlabel": {
           "align": "left"
          },
          "hovermode": "closest",
          "mapbox": {
           "style": "dark"
          },
          "paper_bgcolor": "rgb(17,17,17)",
          "plot_bgcolor": "rgb(17,17,17)",
          "polar": {
           "angularaxis": {
            "gridcolor": "#506784",
            "linecolor": "#506784",
            "ticks": ""
           },
           "bgcolor": "rgb(17,17,17)",
           "radialaxis": {
            "gridcolor": "#506784",
            "linecolor": "#506784",
            "ticks": ""
           }
          },
          "scene": {
           "xaxis": {
            "backgroundcolor": "rgb(17,17,17)",
            "gridcolor": "#506784",
            "gridwidth": 2,
            "linecolor": "#506784",
            "showbackground": true,
            "ticks": "",
            "zerolinecolor": "#C8D4E3"
           },
           "yaxis": {
            "backgroundcolor": "rgb(17,17,17)",
            "gridcolor": "#506784",
            "gridwidth": 2,
            "linecolor": "#506784",
            "showbackground": true,
            "ticks": "",
            "zerolinecolor": "#C8D4E3"
           },
           "zaxis": {
            "backgroundcolor": "rgb(17,17,17)",
            "gridcolor": "#506784",
            "gridwidth": 2,
            "linecolor": "#506784",
            "showbackground": true,
            "ticks": "",
            "zerolinecolor": "#C8D4E3"
           }
          },
          "shapedefaults": {
           "line": {
            "color": "#f2f5fa"
           }
          },
          "sliderdefaults": {
           "bgcolor": "#C8D4E3",
           "bordercolor": "rgb(17,17,17)",
           "borderwidth": 1,
           "tickwidth": 0
          },
          "ternary": {
           "aaxis": {
            "gridcolor": "#506784",
            "linecolor": "#506784",
            "ticks": ""
           },
           "baxis": {
            "gridcolor": "#506784",
            "linecolor": "#506784",
            "ticks": ""
           },
           "bgcolor": "rgb(17,17,17)",
           "caxis": {
            "gridcolor": "#506784",
            "linecolor": "#506784",
            "ticks": ""
           }
          },
          "title": {
           "x": 0.05
          },
          "updatemenudefaults": {
           "bgcolor": "#506784",
           "borderwidth": 0
          },
          "xaxis": {
           "automargin": true,
           "gridcolor": "#283442",
           "linecolor": "#506784",
           "ticks": "",
           "title": {
            "standoff": 15
           },
           "zerolinecolor": "#283442",
           "zerolinewidth": 2
          },
          "yaxis": {
           "automargin": true,
           "gridcolor": "#283442",
           "linecolor": "#506784",
           "ticks": "",
           "title": {
            "standoff": 15
           },
           "zerolinecolor": "#283442",
           "zerolinewidth": 2
          }
         }
        },
        "title": {
         "text": "Compare Motion Plots"
        },
        "xaxis": {
         "fixedrange": true,
         "showgrid": false,
         "showticklabels": false,
         "zeroline": false,
         "zerolinecolor": "gray",
         "zerolinewidth": 1
        },
        "yaxis": {
         "fixedrange": true,
         "showgrid": false,
         "showticklabels": false,
         "zeroline": false,
         "zerolinecolor": "gray",
         "zerolinewidth": 1
        }
       }
      }
     },
     "metadata": {},
     "output_type": "display_data"
    }
   ],
   "source": [
    "test_scaling_method(project_config)    "
   ]
  },
  {
   "cell_type": "code",
   "execution_count": 6,
   "metadata": {},
   "outputs": [
    {
     "name": "stdout",
     "output_type": "stream",
     "text": [
      "tensor(0., device='cuda:0')\n"
     ]
    },
    {
     "data": {
      "application/vnd.plotly.v1+json": {
       "config": {
        "plotlyServerURL": "https://plot.ly"
       },
       "data": [
        {
         "line": {
          "color": [
           0,
           1,
           2,
           3,
           4,
           5,
           6,
           7,
           8,
           9,
           10,
           11,
           12,
           13,
           14,
           15,
           16,
           17,
           18,
           19
          ],
          "colorscale": [
           [
            0,
            "#0508b8"
           ],
           [
            0.08333333333333333,
            "#1910d8"
           ],
           [
            0.16666666666666666,
            "#3c19f0"
           ],
           [
            0.25,
            "#6b1cfb"
           ],
           [
            0.3333333333333333,
            "#981cfd"
           ],
           [
            0.4166666666666667,
            "#bf1cfd"
           ],
           [
            0.5,
            "#dd2bfd"
           ],
           [
            0.5833333333333334,
            "#f246fe"
           ],
           [
            0.6666666666666666,
            "#fc67fd"
           ],
           [
            0.75,
            "#fe88fc"
           ],
           [
            0.8333333333333334,
            "#fea5fd"
           ],
           [
            0.9166666666666666,
            "#febefe"
           ],
           [
            1,
            "#fec3fe"
           ]
          ],
          "width": 4
         },
         "mode": "lines",
         "type": "scatter3d",
         "x": [
          0.09971699863672256,
          0.0877160057425499,
          0.07459600269794464,
          0.06060300022363663,
          0.04594799876213074,
          0.031196001917123795,
          0.01770400069653988,
          0.00698000006377697,
          0.0010520010255277157,
          0,
          0.0007990002632141113,
          0.00201600044965744,
          0.00356299988925457,
          0.0052010007202625275,
          0.006892001256346703,
          0.008319001644849777,
          0.009626999497413635,
          0.010732000693678856,
          0.011782001703977585,
          0.012895001098513603
         ],
         "y": [
          0.012605004012584686,
          0.010315999388694763,
          0.008830003440380096,
          0.005835004150867462,
          0.003228999674320221,
          0.001144997775554657,
          -0.0007760003209114075,
          -0.0014019981026649475,
          -0.0013199970126152039,
          0,
          0.0010400041937828064,
          0.0016150027513504028,
          0.001524999737739563,
          0.0015299990773200989,
          0.0004220008850097656,
          -0.0001619979739189148,
          -0.000581003725528717,
          0.00006300210952758789,
          0.0010300055146217346,
          0.0023450031876564026
         ],
         "z": [
          0.22194600105285645,
          0.20836800336837769,
          0.1919180005788803,
          0.17228101193904877,
          0.1487860083580017,
          0.12090499699115753,
          0.08906099945306778,
          0.054173000156879425,
          0.016875000670552254,
          0,
          0.009797999635338783,
          0.01902499981224537,
          0.02674500271677971,
          0.03294000029563904,
          0.037519000470638275,
          0.04095400124788284,
          0.04377400130033493,
          0.0466029979288578,
          0.04936699569225311,
          0.052640996873378754
         ]
        },
        {
         "line": {
          "color": [
           0,
           1,
           2,
           3,
           4,
           5,
           6,
           7,
           8,
           9,
           10,
           11,
           12,
           13,
           14,
           15,
           16,
           17,
           18,
           19
          ],
          "colorscale": [
           [
            0,
            "rgb(209, 238, 234)"
           ],
           [
            0.16666666666666666,
            "rgb(168, 219, 217)"
           ],
           [
            0.3333333333333333,
            "rgb(133, 196, 201)"
           ],
           [
            0.5,
            "rgb(104, 171, 184)"
           ],
           [
            0.6666666666666666,
            "rgb(79, 144, 166)"
           ],
           [
            0.8333333333333334,
            "rgb(59, 115, 143)"
           ],
           [
            1,
            "rgb(42, 86, 116)"
           ]
          ],
          "width": 2
         },
         "mode": "lines",
         "type": "scatter3d",
         "x": [
          -0.11535225808620453,
          -0.11685162037611008,
          -0.1359219253063202,
          -0.14608800411224365,
          -0.1627279818058014,
          -0.16695371270179749,
          -0.18083733320236206,
          -0.19652608036994934,
          -0.20462825894355774,
          -0.19191233813762665,
          -0.20052370429039001,
          -0.192844957113266,
          -0.1963835209608078,
          -0.18903762102127075,
          -0.18888923525810242,
          -0.18813389539718628,
          -0.19062277674674988,
          -0.1806962788105011,
          -0.18708136677742004,
          -0.18038161098957062
         ],
         "y": [
          0.011563755571842194,
          0.010638505220413208,
          0.0131307914853096,
          0.005612283945083618,
          0.00676766037940979,
          0.0035844147205352783,
          -0.002483971416950226,
          0.0027150139212608337,
          -0.002869073301553726,
          -0.004806827753782272,
          -0.008398916572332382,
          -0.005045630037784576,
          -0.008858975023031235,
          -0.013724114745855331,
          -0.00784628838300705,
          -0.010767862200737,
          -0.008823942393064499,
          -0.00830056145787239,
          -0.010924164205789566,
          -0.0017711520195007324
         ],
         "z": [
          0.20429560542106628,
          0.2089150846004486,
          0.17963330447673798,
          0.16858923435211182,
          0.13970065116882324,
          0.10671737045049667,
          0.08254434168338776,
          0.0434679351747036,
          0.011872107163071632,
          -0.004188380669802427,
          0.005056077614426613,
          0.014763548970222473,
          0.02371899038553238,
          0.03372364863753319,
          0.04299725592136383,
          0.05322178453207016,
          0.05086845904588699,
          0.0553605854511261,
          0.0684167668223381,
          0.053529344499111176
         ]
        },
        {
         "line": {
          "color": [
           0,
           1,
           2,
           3,
           4,
           5,
           6,
           7,
           8,
           9,
           10,
           11,
           12,
           13,
           14,
           15,
           16,
           17,
           18,
           19
          ],
          "colorscale": [
           [
            0,
            "rgb(209, 238, 234)"
           ],
           [
            0.16666666666666666,
            "rgb(168, 219, 217)"
           ],
           [
            0.3333333333333333,
            "rgb(133, 196, 201)"
           ],
           [
            0.5,
            "rgb(104, 171, 184)"
           ],
           [
            0.6666666666666666,
            "rgb(79, 144, 166)"
           ],
           [
            0.8333333333333334,
            "rgb(59, 115, 143)"
           ],
           [
            1,
            "rgb(42, 86, 116)"
           ]
          ],
          "width": 2
         },
         "mode": "lines",
         "type": "scatter3d",
         "x": [
          -0.06084398180246353,
          -0.06689571589231491,
          -0.0818738341331482,
          -0.09338801354169846,
          -0.11004596203565598,
          -0.11319586634635925,
          -0.14027470350265503,
          -0.14454399049282074,
          -0.1520279049873352,
          -0.14304085075855255,
          -0.15051724016666412,
          -0.14500564336776733,
          -0.14490452408790588,
          -0.14396977424621582,
          -0.14388233423233032,
          -0.13780926167964935,
          -0.1400940716266632,
          -0.13401521742343903,
          -0.13907088339328766,
          -0.13347017765045166
         ],
         "y": [
          0.01745210587978363,
          0.013923823833465576,
          0.011394098401069641,
          0.0019056722521781921,
          0.010643988847732544,
          0.002645619213581085,
          -0.003435872495174408,
          -0.00017611682415008545,
          -0.004738301038742065,
          -0.005223643034696579,
          -0.01119648665189743,
          -0.0011153705418109894,
          -0.002245888113975525,
          -0.012155584990978241,
          -0.0034396275877952576,
          -0.01073671504855156,
          -0.006997451186180115,
          0.0009211823344230652,
          -0.001665603369474411,
          -0.0031668879091739655
         ],
         "z": [
          0.20475079119205475,
          0.20385143160820007,
          0.18030230700969696,
          0.16653844714164734,
          0.14007700979709625,
          0.11493013799190521,
          0.0759727954864502,
          0.04008619114756584,
          0.012686744332313538,
          -0.004280600231140852,
          0.010637246072292328,
          0.012406527996063232,
          0.01536964625120163,
          0.025155581533908844,
          0.03997037187218666,
          0.03891567513346672,
          0.04112343117594719,
          0.061208292841911316,
          0.062057651579380035,
          0.05188560485839844
         ]
        },
        {
         "line": {
          "color": [
           0,
           1,
           2,
           3,
           4,
           5,
           6,
           7,
           8,
           9,
           10,
           11,
           12,
           13,
           14,
           15,
           16,
           17,
           18,
           19
          ],
          "colorscale": [
           [
            0,
            "rgb(209, 238, 234)"
           ],
           [
            0.16666666666666666,
            "rgb(168, 219, 217)"
           ],
           [
            0.3333333333333333,
            "rgb(133, 196, 201)"
           ],
           [
            0.5,
            "rgb(104, 171, 184)"
           ],
           [
            0.6666666666666666,
            "rgb(79, 144, 166)"
           ],
           [
            0.8333333333333334,
            "rgb(59, 115, 143)"
           ],
           [
            1,
            "rgb(42, 86, 116)"
           ]
          ],
          "width": 2
         },
         "mode": "lines",
         "type": "scatter3d",
         "x": [
          -0.01151072233915329,
          -0.01814381033182144,
          -0.03521449863910675,
          -0.04083751142024994,
          -0.05478234216570854,
          -0.06780850887298584,
          -0.08364268392324448,
          -0.09991840273141861,
          -0.10532300174236298,
          -0.10112300515174866,
          -0.09787286818027496,
          -0.0966564491391182,
          -0.09735802561044693,
          -0.09456707537174225,
          -0.09513621032238007,
          -0.0901852697134018,
          -0.08737056702375412,
          -0.08069755136966705,
          -0.08491328358650208,
          -0.07681241631507874
         ],
         "y": [
          0.01662711799144745,
          0.01610679179430008,
          0.01283978670835495,
          0.007390700280666351,
          0.009630151093006134,
          0.005250267684459686,
          0.00022789090871810913,
          0.005978189408779144,
          -0.0018633194267749786,
          -0.00025681406259536743,
          -0.000402793288230896,
          -0.0020764656364917755,
          -0.004186686128377914,
          -0.0075576044619083405,
          -0.0031072646379470825,
          -0.004176061600446701,
          -0.004365701228380203,
          0.0004031136631965637,
          -0.008937273174524307,
          -0.0008359849452972412
         ],
         "z": [
          0.20858344435691833,
          0.20310337841510773,
          0.179989293217659,
          0.18228107690811157,
          0.14665710926055908,
          0.11178284883499146,
          0.07304998487234116,
          0.044634945690631866,
          0.01824159361422062,
          -0.006738912779837847,
          0.0074013713747262955,
          0.012876339256763458,
          0.01848885416984558,
          0.02864687517285347,
          0.04695643112063408,
          0.04559282213449478,
          0.06024353206157684,
          0.06557901203632355,
          0.06633993238210678,
          0.06551140546798706
         ]
        },
        {
         "line": {
          "color": [
           0,
           1,
           2,
           3,
           4,
           5,
           6,
           7,
           8,
           9,
           10,
           11,
           12,
           13,
           14,
           15,
           16,
           17,
           18,
           19
          ],
          "colorscale": [
           [
            0,
            "rgb(209, 238, 234)"
           ],
           [
            0.16666666666666666,
            "rgb(168, 219, 217)"
           ],
           [
            0.3333333333333333,
            "rgb(133, 196, 201)"
           ],
           [
            0.5,
            "rgb(104, 171, 184)"
           ],
           [
            0.6666666666666666,
            "rgb(79, 144, 166)"
           ],
           [
            0.8333333333333334,
            "rgb(59, 115, 143)"
           ],
           [
            1,
            "rgb(42, 86, 116)"
           ]
          ],
          "width": 2
         },
         "mode": "lines",
         "type": "scatter3d",
         "x": [
          0.03907419368624687,
          0.03586253151297569,
          0.01714538410305977,
          0.009716089814901352,
          -0.008782483637332916,
          -0.019103042781352997,
          -0.03689092397689819,
          -0.04767710715532303,
          -0.05405037850141525,
          -0.04780339449644089,
          -0.047593120485544205,
          -0.04714902117848396,
          -0.046004120260477066,
          -0.04371803626418114,
          -0.03907964378595352,
          -0.04106985777616501,
          -0.03847089037299156,
          -0.03770912066102028,
          -0.03358360379934311,
          -0.02494627796113491
         ],
         "y": [
          0.015265151858329773,
          0.016339629888534546,
          0.00953102856874466,
          0.0025621801614761353,
          0.009382195770740509,
          0.0024404823780059814,
          -0.001169886440038681,
          0.0026215091347694397,
          -0.0032373517751693726,
          -0.002936970442533493,
          -0.007052816450595856,
          -0.0041816458106040955,
          -0.006562191992998123,
          -0.00982259213924408,
          -0.00020343810319900513,
          -0.0060758404433727264,
          -0.0026677101850509644,
          -0.0006825923919677734,
          -0.003828812390565872,
          0.0016975998878479004
         ],
         "z": [
          0.20951473712921143,
          0.19846953451633453,
          0.19050970673561096,
          0.16529102623462677,
          0.13415463268756866,
          0.11533285677433014,
          0.07900866866111755,
          0.03907051682472229,
          0.013689205050468445,
          -0.008579508401453495,
          0.006073895841836929,
          0.01203896664083004,
          0.025993507355451584,
          0.03711981698870659,
          0.053161583840847015,
          0.052390024065971375,
          0.05979657918214798,
          0.07365286350250244,
          0.08220270276069641,
          0.07723788172006607
         ]
        },
        {
         "line": {
          "color": [
           0,
           1,
           2,
           3,
           4,
           5,
           6,
           7,
           8,
           9,
           10,
           11,
           12,
           13,
           14,
           15,
           16,
           17,
           18,
           19
          ],
          "colorscale": [
           [
            0,
            "rgb(209, 238, 234)"
           ],
           [
            0.16666666666666666,
            "rgb(168, 219, 217)"
           ],
           [
            0.3333333333333333,
            "rgb(133, 196, 201)"
           ],
           [
            0.5,
            "rgb(104, 171, 184)"
           ],
           [
            0.6666666666666666,
            "rgb(79, 144, 166)"
           ],
           [
            0.8333333333333334,
            "rgb(59, 115, 143)"
           ],
           [
            1,
            "rgb(42, 86, 116)"
           ]
          ],
          "width": 2
         },
         "mode": "lines",
         "type": "scatter3d",
         "x": [
          0.14150577783584595,
          0.13305388391017914,
          0.12556806206703186,
          0.10627691447734833,
          0.09694019705057144,
          0.08230289816856384,
          0.06083311513066292,
          0.04898734390735626,
          0.04942985251545906,
          0.05652567371726036,
          0.054413698613643646,
          0.05862952023744583,
          0.054287612438201904,
          0.05481093376874924,
          0.062302522361278534,
          0.06126917153596878,
          0.06063459813594818,
          0.06722933053970337,
          0.06659574806690216,
          0.06498755514621735
         ],
         "y": [
          0.0121079683303833,
          0.008982285857200623,
          0.012751929461956024,
          0.0039035826921463013,
          0.00886332243680954,
          0.004908114671707153,
          0.0008347779512405396,
          0.0038789212703704834,
          -0.0030534639954566956,
          -0.0028666704893112183,
          -0.006931420415639877,
          -0.00772302970290184,
          -0.007746908813714981,
          -0.009903334081172943,
          -0.006582468748092651,
          -0.011198177933692932,
          -0.015414852648973465,
          -0.013375569134950638,
          -0.01184750720858574,
          -0.005557447671890259
         ],
         "z": [
          0.2004927396774292,
          0.19504334032535553,
          0.18759898841381073,
          0.1669718474149704,
          0.14696946740150452,
          0.1232905238866806,
          0.0745769590139389,
          0.04817144200205803,
          0.011016353964805603,
          -0.005957689136266708,
          0.007590034976601601,
          0.008768908679485321,
          0.016126513481140137,
          0.03149717301130295,
          0.04179932922124863,
          0.04731911048293114,
          0.04721455276012421,
          0.0615106076002121,
          0.0668935552239418,
          0.05515086650848389
         ]
        },
        {
         "line": {
          "color": [
           0,
           1,
           2,
           3,
           4,
           5,
           6,
           7,
           8,
           9,
           10,
           11,
           12,
           13,
           14,
           15,
           16,
           17,
           18,
           19
          ],
          "colorscale": [
           [
            0,
            "rgb(209, 238, 234)"
           ],
           [
            0.16666666666666666,
            "rgb(168, 219, 217)"
           ],
           [
            0.3333333333333333,
            "rgb(133, 196, 201)"
           ],
           [
            0.5,
            "rgb(104, 171, 184)"
           ],
           [
            0.6666666666666666,
            "rgb(79, 144, 166)"
           ],
           [
            0.8333333333333334,
            "rgb(59, 115, 143)"
           ],
           [
            1,
            "rgb(42, 86, 116)"
           ]
          ],
          "width": 2
         },
         "mode": "lines",
         "type": "scatter3d",
         "x": [
          0.19730126857757568,
          0.18621699512004852,
          0.17253097891807556,
          0.15513871610164642,
          0.14476671814918518,
          0.13625764846801758,
          0.11774944514036179,
          0.10471736639738083,
          0.09599792212247849,
          0.1067742109298706,
          0.0995318740606308,
          0.10574257373809814,
          0.10411147773265839,
          0.10395481437444687,
          0.10815248638391495,
          0.10760156810283661,
          0.1068621277809143,
          0.11222151666879654,
          0.10742241144180298,
          0.10921936482191086
         ],
         "y": [
          0.020427502691745758,
          0.01979711651802063,
          0.017673276364803314,
          0.002714700996875763,
          0.013717971742153168,
          0.0034313946962356567,
          0.003408767282962799,
          0.007299892604351044,
          -0.0037457644939422607,
          -0.0034257806837558746,
          -0.00476016104221344,
          -0.003107905387878418,
          -0.011480256915092468,
          -0.011347390711307526,
          -0.009154483675956726,
          -0.013740167021751404,
          -0.00013467669486999512,
          -0.007039111107587814,
          -0.00815790519118309,
          -0.00029753148555755615
         ],
         "z": [
          0.21395565569400787,
          0.21157443523406982,
          0.1962791532278061,
          0.17468111217021942,
          0.14969326555728912,
          0.11644019186496735,
          0.08343584835529327,
          0.04536392167210579,
          0.01407572627067566,
          -0.003324188757687807,
          0.006565351039171219,
          0.0038959411904215813,
          0.018429961055517197,
          0.025516584515571594,
          0.03727249428629875,
          0.04954095184803009,
          0.04961761087179184,
          0.058002665638923645,
          0.059945397078990936,
          0.06675732135772705
         ]
        },
        {
         "line": {
          "color": [
           0,
           1,
           2,
           3,
           4,
           5,
           6,
           7,
           8,
           9,
           10,
           11,
           12,
           13,
           14,
           15,
           16,
           17,
           18,
           19
          ],
          "colorscale": [
           [
            0,
            "rgb(209, 238, 234)"
           ],
           [
            0.16666666666666666,
            "rgb(168, 219, 217)"
           ],
           [
            0.3333333333333333,
            "rgb(133, 196, 201)"
           ],
           [
            0.5,
            "rgb(104, 171, 184)"
           ],
           [
            0.6666666666666666,
            "rgb(79, 144, 166)"
           ],
           [
            0.8333333333333334,
            "rgb(59, 115, 143)"
           ],
           [
            1,
            "rgb(42, 86, 116)"
           ]
          ],
          "width": 2
         },
         "mode": "lines",
         "type": "scatter3d",
         "x": [
          0.2540680766105652,
          0.2503575086593628,
          0.2235710322856903,
          0.21714769303798676,
          0.2013935148715973,
          0.1891280859708786,
          0.16996274888515472,
          0.15138283371925354,
          0.1495548039674759,
          0.152097687125206,
          0.1509830802679062,
          0.16050007939338684,
          0.15233078598976135,
          0.1562241166830063,
          0.15865519642829895,
          0.16513800621032715,
          0.16789764165878296,
          0.16606755554676056,
          0.1727895736694336,
          0.1673264503479004
         ],
         "y": [
          0.01465480774641037,
          0.016841359436511993,
          0.012402169406414032,
          0.00531885027885437,
          0.011009946465492249,
          0.006911642849445343,
          0.0013940706849098206,
          0.008438453078269958,
          -0.0016234703361988068,
          -0.0005955994129180908,
          -0.004823189228773117,
          0.0006069764494895935,
          -0.007023397833108902,
          -0.010571315884590149,
          0.000697605311870575,
          -0.004251860082149506,
          -0.006813511252403259,
          0.00003477931022644043,
          -0.0016054250299930573,
          -0.0023184269666671753
         ],
         "z": [
          0.22480595111846924,
          0.23045068979263306,
          0.19134680926799774,
          0.18787971138954163,
          0.1574038863182068,
          0.12584258615970612,
          0.08750303089618683,
          0.04597340524196625,
          0.023690253496170044,
          -0.0053436425514519215,
          0.006535559892654419,
          0.012732889503240585,
          0.01966945081949234,
          0.034375861287117004,
          0.046727459877729416,
          0.049473367631435394,
          0.04659428820014,
          0.06523775309324265,
          0.08217627555131912,
          0.06747967004776001
         ]
        },
        {
         "line": {
          "color": [
           0,
           1,
           2,
           3,
           4,
           5,
           6,
           7,
           8,
           9,
           10,
           11,
           12,
           13,
           14,
           15,
           16,
           17,
           18,
           19
          ],
          "colorscale": [
           [
            0,
            "rgb(209, 238, 234)"
           ],
           [
            0.16666666666666666,
            "rgb(168, 219, 217)"
           ],
           [
            0.3333333333333333,
            "rgb(133, 196, 201)"
           ],
           [
            0.5,
            "rgb(104, 171, 184)"
           ],
           [
            0.6666666666666666,
            "rgb(79, 144, 166)"
           ],
           [
            0.8333333333333334,
            "rgb(59, 115, 143)"
           ],
           [
            1,
            "rgb(42, 86, 116)"
           ]
          ],
          "width": 2
         },
         "mode": "lines",
         "type": "scatter3d",
         "x": [
          0.2912192642688751,
          0.27879971265792847,
          0.264518141746521,
          0.2531317472457886,
          0.24137860536575317,
          0.23751109838485718,
          0.2158839851617813,
          0.20520181953907013,
          0.19677798449993134,
          0.20442816615104675,
          0.2020854651927948,
          0.20592382550239563,
          0.2055245190858841,
          0.2116812914609909,
          0.2086561918258667,
          0.20982280373573303,
          0.21278005838394165,
          0.2173808217048645,
          0.21309995651245117,
          0.2205859273672104
         ],
         "y": [
          0.019716776907444,
          0.014078311622142792,
          0.013634294271469116,
          0.008219614624977112,
          0.011848792433738708,
          0.005939990282058716,
          0.0016749948263168335,
          0.006795994937419891,
          -0.00001874566078186035,
          -0.004455279558897018,
          -0.006833750754594803,
          -0.003176465630531311,
          -0.006080307066440582,
          -0.008639119565486908,
          -0.002136312425136566,
          -0.0014875233173370361,
          0.00021848827600479126,
          0.002356484532356262,
          -0.0032389983534812927,
          0.003943257033824921
         ],
         "z": [
          0.2011699229478836,
          0.1916845589876175,
          0.1871819645166397,
          0.17631053924560547,
          0.1414480358362198,
          0.11437901854515076,
          0.07689169049263,
          0.04013307765126228,
          0.01959751918911934,
          -0.003122352994978428,
          0.005222801119089127,
          0.00791751965880394,
          0.023055989295244217,
          0.03543303906917572,
          0.05104340985417366,
          0.05475075542926788,
          0.05306977033615112,
          0.07336149364709854,
          0.06796480715274811,
          0.07505351305007935
         ]
        },
        {
         "marker": {
          "size": 0.1
         },
         "mode": "markers",
         "type": "scatter3d",
         "x": [
          -0.1,
          0.1
         ],
         "y": [
          -0.1,
          0.1
         ],
         "z": [
          0,
          0.1
         ]
        }
       ],
       "layout": {
        "coloraxis": {
         "showscale": false
        },
        "font": {
         "color": "white",
         "family": "Roboto, monospace",
         "size": 12
        },
        "height": 800,
        "margin": {
         "b": 50,
         "l": 5,
         "r": 5,
         "t": 50
        },
        "scene": {
         "aspectratio": {
          "x": 1,
          "y": 1,
          "z": 1
         },
         "camera": {
          "eye": {
           "x": -1.5,
           "y": 1.5,
           "z": 1.5
          },
          "up": {
           "x": 0,
           "y": 0,
           "z": 1
          }
         }
        },
        "showlegend": false,
        "template": {
         "data": {
          "bar": [
           {
            "error_x": {
             "color": "#f2f5fa"
            },
            "error_y": {
             "color": "#f2f5fa"
            },
            "marker": {
             "line": {
              "color": "rgb(17,17,17)",
              "width": 0.5
             },
             "pattern": {
              "fillmode": "overlay",
              "size": 10,
              "solidity": 0.2
             }
            },
            "type": "bar"
           }
          ],
          "barpolar": [
           {
            "marker": {
             "line": {
              "color": "rgb(17,17,17)",
              "width": 0.5
             },
             "pattern": {
              "fillmode": "overlay",
              "size": 10,
              "solidity": 0.2
             }
            },
            "type": "barpolar"
           }
          ],
          "carpet": [
           {
            "aaxis": {
             "endlinecolor": "#A2B1C6",
             "gridcolor": "#506784",
             "linecolor": "#506784",
             "minorgridcolor": "#506784",
             "startlinecolor": "#A2B1C6"
            },
            "baxis": {
             "endlinecolor": "#A2B1C6",
             "gridcolor": "#506784",
             "linecolor": "#506784",
             "minorgridcolor": "#506784",
             "startlinecolor": "#A2B1C6"
            },
            "type": "carpet"
           }
          ],
          "choropleth": [
           {
            "colorbar": {
             "outlinewidth": 0,
             "ticks": ""
            },
            "type": "choropleth"
           }
          ],
          "contour": [
           {
            "colorbar": {
             "outlinewidth": 0,
             "ticks": ""
            },
            "colorscale": [
             [
              0,
              "#0d0887"
             ],
             [
              0.1111111111111111,
              "#46039f"
             ],
             [
              0.2222222222222222,
              "#7201a8"
             ],
             [
              0.3333333333333333,
              "#9c179e"
             ],
             [
              0.4444444444444444,
              "#bd3786"
             ],
             [
              0.5555555555555556,
              "#d8576b"
             ],
             [
              0.6666666666666666,
              "#ed7953"
             ],
             [
              0.7777777777777778,
              "#fb9f3a"
             ],
             [
              0.8888888888888888,
              "#fdca26"
             ],
             [
              1,
              "#f0f921"
             ]
            ],
            "type": "contour"
           }
          ],
          "contourcarpet": [
           {
            "colorbar": {
             "outlinewidth": 0,
             "ticks": ""
            },
            "type": "contourcarpet"
           }
          ],
          "heatmap": [
           {
            "colorbar": {
             "outlinewidth": 0,
             "ticks": ""
            },
            "colorscale": [
             [
              0,
              "#0d0887"
             ],
             [
              0.1111111111111111,
              "#46039f"
             ],
             [
              0.2222222222222222,
              "#7201a8"
             ],
             [
              0.3333333333333333,
              "#9c179e"
             ],
             [
              0.4444444444444444,
              "#bd3786"
             ],
             [
              0.5555555555555556,
              "#d8576b"
             ],
             [
              0.6666666666666666,
              "#ed7953"
             ],
             [
              0.7777777777777778,
              "#fb9f3a"
             ],
             [
              0.8888888888888888,
              "#fdca26"
             ],
             [
              1,
              "#f0f921"
             ]
            ],
            "type": "heatmap"
           }
          ],
          "heatmapgl": [
           {
            "colorbar": {
             "outlinewidth": 0,
             "ticks": ""
            },
            "colorscale": [
             [
              0,
              "#0d0887"
             ],
             [
              0.1111111111111111,
              "#46039f"
             ],
             [
              0.2222222222222222,
              "#7201a8"
             ],
             [
              0.3333333333333333,
              "#9c179e"
             ],
             [
              0.4444444444444444,
              "#bd3786"
             ],
             [
              0.5555555555555556,
              "#d8576b"
             ],
             [
              0.6666666666666666,
              "#ed7953"
             ],
             [
              0.7777777777777778,
              "#fb9f3a"
             ],
             [
              0.8888888888888888,
              "#fdca26"
             ],
             [
              1,
              "#f0f921"
             ]
            ],
            "type": "heatmapgl"
           }
          ],
          "histogram": [
           {
            "marker": {
             "pattern": {
              "fillmode": "overlay",
              "size": 10,
              "solidity": 0.2
             }
            },
            "type": "histogram"
           }
          ],
          "histogram2d": [
           {
            "colorbar": {
             "outlinewidth": 0,
             "ticks": ""
            },
            "colorscale": [
             [
              0,
              "#0d0887"
             ],
             [
              0.1111111111111111,
              "#46039f"
             ],
             [
              0.2222222222222222,
              "#7201a8"
             ],
             [
              0.3333333333333333,
              "#9c179e"
             ],
             [
              0.4444444444444444,
              "#bd3786"
             ],
             [
              0.5555555555555556,
              "#d8576b"
             ],
             [
              0.6666666666666666,
              "#ed7953"
             ],
             [
              0.7777777777777778,
              "#fb9f3a"
             ],
             [
              0.8888888888888888,
              "#fdca26"
             ],
             [
              1,
              "#f0f921"
             ]
            ],
            "type": "histogram2d"
           }
          ],
          "histogram2dcontour": [
           {
            "colorbar": {
             "outlinewidth": 0,
             "ticks": ""
            },
            "colorscale": [
             [
              0,
              "#0d0887"
             ],
             [
              0.1111111111111111,
              "#46039f"
             ],
             [
              0.2222222222222222,
              "#7201a8"
             ],
             [
              0.3333333333333333,
              "#9c179e"
             ],
             [
              0.4444444444444444,
              "#bd3786"
             ],
             [
              0.5555555555555556,
              "#d8576b"
             ],
             [
              0.6666666666666666,
              "#ed7953"
             ],
             [
              0.7777777777777778,
              "#fb9f3a"
             ],
             [
              0.8888888888888888,
              "#fdca26"
             ],
             [
              1,
              "#f0f921"
             ]
            ],
            "type": "histogram2dcontour"
           }
          ],
          "mesh3d": [
           {
            "colorbar": {
             "outlinewidth": 0,
             "ticks": ""
            },
            "type": "mesh3d"
           }
          ],
          "parcoords": [
           {
            "line": {
             "colorbar": {
              "outlinewidth": 0,
              "ticks": ""
             }
            },
            "type": "parcoords"
           }
          ],
          "pie": [
           {
            "automargin": true,
            "type": "pie"
           }
          ],
          "scatter": [
           {
            "marker": {
             "line": {
              "color": "#283442"
             }
            },
            "type": "scatter"
           }
          ],
          "scatter3d": [
           {
            "line": {
             "colorbar": {
              "outlinewidth": 0,
              "ticks": ""
             }
            },
            "marker": {
             "colorbar": {
              "outlinewidth": 0,
              "ticks": ""
             }
            },
            "type": "scatter3d"
           }
          ],
          "scattercarpet": [
           {
            "marker": {
             "colorbar": {
              "outlinewidth": 0,
              "ticks": ""
             }
            },
            "type": "scattercarpet"
           }
          ],
          "scattergeo": [
           {
            "marker": {
             "colorbar": {
              "outlinewidth": 0,
              "ticks": ""
             }
            },
            "type": "scattergeo"
           }
          ],
          "scattergl": [
           {
            "marker": {
             "line": {
              "color": "#283442"
             }
            },
            "type": "scattergl"
           }
          ],
          "scattermapbox": [
           {
            "marker": {
             "colorbar": {
              "outlinewidth": 0,
              "ticks": ""
             }
            },
            "type": "scattermapbox"
           }
          ],
          "scatterpolar": [
           {
            "marker": {
             "colorbar": {
              "outlinewidth": 0,
              "ticks": ""
             }
            },
            "type": "scatterpolar"
           }
          ],
          "scatterpolargl": [
           {
            "marker": {
             "colorbar": {
              "outlinewidth": 0,
              "ticks": ""
             }
            },
            "type": "scatterpolargl"
           }
          ],
          "scatterternary": [
           {
            "marker": {
             "colorbar": {
              "outlinewidth": 0,
              "ticks": ""
             }
            },
            "type": "scatterternary"
           }
          ],
          "surface": [
           {
            "colorbar": {
             "outlinewidth": 0,
             "ticks": ""
            },
            "colorscale": [
             [
              0,
              "#0d0887"
             ],
             [
              0.1111111111111111,
              "#46039f"
             ],
             [
              0.2222222222222222,
              "#7201a8"
             ],
             [
              0.3333333333333333,
              "#9c179e"
             ],
             [
              0.4444444444444444,
              "#bd3786"
             ],
             [
              0.5555555555555556,
              "#d8576b"
             ],
             [
              0.6666666666666666,
              "#ed7953"
             ],
             [
              0.7777777777777778,
              "#fb9f3a"
             ],
             [
              0.8888888888888888,
              "#fdca26"
             ],
             [
              1,
              "#f0f921"
             ]
            ],
            "type": "surface"
           }
          ],
          "table": [
           {
            "cells": {
             "fill": {
              "color": "#506784"
             },
             "line": {
              "color": "rgb(17,17,17)"
             }
            },
            "header": {
             "fill": {
              "color": "#2a3f5f"
             },
             "line": {
              "color": "rgb(17,17,17)"
             }
            },
            "type": "table"
           }
          ]
         },
         "layout": {
          "annotationdefaults": {
           "arrowcolor": "#f2f5fa",
           "arrowhead": 0,
           "arrowwidth": 1
          },
          "autotypenumbers": "strict",
          "coloraxis": {
           "colorbar": {
            "outlinewidth": 0,
            "ticks": ""
           }
          },
          "colorscale": {
           "diverging": [
            [
             0,
             "#8e0152"
            ],
            [
             0.1,
             "#c51b7d"
            ],
            [
             0.2,
             "#de77ae"
            ],
            [
             0.3,
             "#f1b6da"
            ],
            [
             0.4,
             "#fde0ef"
            ],
            [
             0.5,
             "#f7f7f7"
            ],
            [
             0.6,
             "#e6f5d0"
            ],
            [
             0.7,
             "#b8e186"
            ],
            [
             0.8,
             "#7fbc41"
            ],
            [
             0.9,
             "#4d9221"
            ],
            [
             1,
             "#276419"
            ]
           ],
           "sequential": [
            [
             0,
             "#0d0887"
            ],
            [
             0.1111111111111111,
             "#46039f"
            ],
            [
             0.2222222222222222,
             "#7201a8"
            ],
            [
             0.3333333333333333,
             "#9c179e"
            ],
            [
             0.4444444444444444,
             "#bd3786"
            ],
            [
             0.5555555555555556,
             "#d8576b"
            ],
            [
             0.6666666666666666,
             "#ed7953"
            ],
            [
             0.7777777777777778,
             "#fb9f3a"
            ],
            [
             0.8888888888888888,
             "#fdca26"
            ],
            [
             1,
             "#f0f921"
            ]
           ],
           "sequentialminus": [
            [
             0,
             "#0d0887"
            ],
            [
             0.1111111111111111,
             "#46039f"
            ],
            [
             0.2222222222222222,
             "#7201a8"
            ],
            [
             0.3333333333333333,
             "#9c179e"
            ],
            [
             0.4444444444444444,
             "#bd3786"
            ],
            [
             0.5555555555555556,
             "#d8576b"
            ],
            [
             0.6666666666666666,
             "#ed7953"
            ],
            [
             0.7777777777777778,
             "#fb9f3a"
            ],
            [
             0.8888888888888888,
             "#fdca26"
            ],
            [
             1,
             "#f0f921"
            ]
           ]
          },
          "colorway": [
           "#636efa",
           "#EF553B",
           "#00cc96",
           "#ab63fa",
           "#FFA15A",
           "#19d3f3",
           "#FF6692",
           "#B6E880",
           "#FF97FF",
           "#FECB52"
          ],
          "font": {
           "color": "#f2f5fa"
          },
          "geo": {
           "bgcolor": "rgb(17,17,17)",
           "lakecolor": "rgb(17,17,17)",
           "landcolor": "rgb(17,17,17)",
           "showlakes": true,
           "showland": true,
           "subunitcolor": "#506784"
          },
          "hoverlabel": {
           "align": "left"
          },
          "hovermode": "closest",
          "mapbox": {
           "style": "dark"
          },
          "paper_bgcolor": "rgb(17,17,17)",
          "plot_bgcolor": "rgb(17,17,17)",
          "polar": {
           "angularaxis": {
            "gridcolor": "#506784",
            "linecolor": "#506784",
            "ticks": ""
           },
           "bgcolor": "rgb(17,17,17)",
           "radialaxis": {
            "gridcolor": "#506784",
            "linecolor": "#506784",
            "ticks": ""
           }
          },
          "scene": {
           "xaxis": {
            "backgroundcolor": "rgb(17,17,17)",
            "gridcolor": "#506784",
            "gridwidth": 2,
            "linecolor": "#506784",
            "showbackground": true,
            "ticks": "",
            "zerolinecolor": "#C8D4E3"
           },
           "yaxis": {
            "backgroundcolor": "rgb(17,17,17)",
            "gridcolor": "#506784",
            "gridwidth": 2,
            "linecolor": "#506784",
            "showbackground": true,
            "ticks": "",
            "zerolinecolor": "#C8D4E3"
           },
           "zaxis": {
            "backgroundcolor": "rgb(17,17,17)",
            "gridcolor": "#506784",
            "gridwidth": 2,
            "linecolor": "#506784",
            "showbackground": true,
            "ticks": "",
            "zerolinecolor": "#C8D4E3"
           }
          },
          "shapedefaults": {
           "line": {
            "color": "#f2f5fa"
           }
          },
          "sliderdefaults": {
           "bgcolor": "#C8D4E3",
           "bordercolor": "rgb(17,17,17)",
           "borderwidth": 1,
           "tickwidth": 0
          },
          "ternary": {
           "aaxis": {
            "gridcolor": "#506784",
            "linecolor": "#506784",
            "ticks": ""
           },
           "baxis": {
            "gridcolor": "#506784",
            "linecolor": "#506784",
            "ticks": ""
           },
           "bgcolor": "rgb(17,17,17)",
           "caxis": {
            "gridcolor": "#506784",
            "linecolor": "#506784",
            "ticks": ""
           }
          },
          "title": {
           "x": 0.05
          },
          "updatemenudefaults": {
           "bgcolor": "#506784",
           "borderwidth": 0
          },
          "xaxis": {
           "automargin": true,
           "gridcolor": "#283442",
           "linecolor": "#506784",
           "ticks": "",
           "title": {
            "standoff": 15
           },
           "zerolinecolor": "#283442",
           "zerolinewidth": 2
          },
          "yaxis": {
           "automargin": true,
           "gridcolor": "#283442",
           "linecolor": "#506784",
           "ticks": "",
           "title": {
            "standoff": 15
           },
           "zerolinecolor": "#283442",
           "zerolinewidth": 2
          }
         }
        },
        "title": {
         "text": "Compare Motion Plots"
        },
        "xaxis": {
         "fixedrange": true,
         "showgrid": false,
         "showticklabels": false,
         "zeroline": false,
         "zerolinecolor": "gray",
         "zerolinewidth": 1
        },
        "yaxis": {
         "fixedrange": true,
         "showgrid": false,
         "showticklabels": false,
         "zeroline": false,
         "zerolinecolor": "gray",
         "zerolinewidth": 1
        }
       }
      }
     },
     "metadata": {},
     "output_type": "display_data"
    }
   ],
   "source": [
    "test_generation_method(model, project_config)    "
   ]
  },
  {
   "cell_type": "code",
   "execution_count": 7,
   "metadata": {},
   "outputs": [
    {
     "data": {
      "application/vnd.plotly.v1+json": {
       "config": {
        "plotlyServerURL": "https://plot.ly"
       },
       "data": [
        {
         "line": {
          "color": [
           0,
           1,
           2,
           3,
           4,
           5,
           6,
           7,
           8,
           9,
           10,
           11,
           12,
           13,
           14,
           15,
           16,
           17,
           18,
           19
          ],
          "colorscale": [
           [
            0,
            "rgb(75, 41, 145)"
           ],
           [
            0.16666666666666666,
            "rgb(135, 44, 162)"
           ],
           [
            0.3333333333333333,
            "rgb(192, 54, 157)"
           ],
           [
            0.5,
            "rgb(234, 79, 136)"
           ],
           [
            0.6666666666666666,
            "rgb(250, 120, 118)"
           ],
           [
            0.8333333333333334,
            "rgb(246, 169, 122)"
           ],
           [
            1,
            "rgb(237, 217, 163)"
           ]
          ],
          "width": 2
         },
         "mode": "lines",
         "name": "Generated",
         "type": "scatter3d",
         "x": [
          0.13263891637325287,
          0.13299790024757385,
          0.12534627318382263,
          0.10919106751680374,
          0.0895744040608406,
          0.06713391095399857,
          0.04714752733707428,
          0.03571828827261925,
          0.03338746353983879,
          0.03236401826143265,
          0.028264913707971573,
          0.027648713439702988,
          0.028720388188958168,
          0.03131913021206856,
          0.03388042747974396,
          0.04158563166856766,
          0.04904435575008392,
          0.05820165574550629,
          0.06722497195005417,
          0.07773256301879883
         ],
         "y": [
          0.420673668384552,
          0.42333853244781494,
          0.42123088240623474,
          0.41579383611679077,
          0.41027823090553284,
          0.40958526730537415,
          0.41492223739624023,
          0.42959725856781006,
          0.4455224871635437,
          0.45301714539527893,
          0.45563921332359314,
          0.451602578163147,
          0.4443008303642273,
          0.43942099809646606,
          0.4373634159564972,
          0.437106192111969,
          0.43964970111846924,
          0.4446794092655182,
          0.45470330119132996,
          0.4656845033168793
         ],
         "z": [
          0.386226624250412,
          0.3860243260860443,
          0.37246134877204895,
          0.3449375629425049,
          0.30333495140075684,
          0.25090351700782776,
          0.18948066234588623,
          0.12169267982244492,
          0.05470709130167961,
          0.037132181227207184,
          0.05775143578648567,
          0.08270963281393051,
          0.1117539033293724,
          0.14288507401943207,
          0.17574574053287506,
          0.2087952196598053,
          0.24195928871631622,
          0.27390968799591064,
          0.3044373691082001,
          0.3319780230522156
         ]
        },
        {
         "line": {
          "color": [
           0,
           1,
           2,
           3,
           4,
           5,
           6,
           7,
           8,
           9,
           10,
           11,
           12,
           13,
           14,
           15,
           16,
           17,
           18,
           19
          ],
          "colorscale": [
           [
            0,
            "rgb(75, 41, 145)"
           ],
           [
            0.16666666666666666,
            "rgb(135, 44, 162)"
           ],
           [
            0.3333333333333333,
            "rgb(192, 54, 157)"
           ],
           [
            0.5,
            "rgb(234, 79, 136)"
           ],
           [
            0.6666666666666666,
            "rgb(250, 120, 118)"
           ],
           [
            0.8333333333333334,
            "rgb(246, 169, 122)"
           ],
           [
            1,
            "rgb(237, 217, 163)"
           ]
          ],
          "width": 2
         },
         "mode": "lines",
         "name": "Generated",
         "type": "scatter3d",
         "x": [
          0.4396308958530426,
          0.425179660320282,
          0.39890795946121216,
          0.36108919978141785,
          0.31166979670524597,
          0.24882251024246216,
          0.18152250349521637,
          0.1170891746878624,
          0.062338244169950485,
          0.03236401826143265,
          0.03395542874932289,
          0.04348780959844589,
          0.05487415939569473,
          0.0661158338189125,
          0.07728785276412964,
          0.08937077969312668,
          0.10146977007389069,
          0.11392778903245926,
          0.12710915505886078,
          0.1385865956544876
         ],
         "y": [
          0.5992883443832397,
          0.5876855850219727,
          0.5761041641235352,
          0.5613148808479309,
          0.5436105728149414,
          0.5272780656814575,
          0.5031722187995911,
          0.47724443674087524,
          0.4714859426021576,
          0.45301714539527893,
          0.4451080858707428,
          0.4353771507740021,
          0.4299543797969818,
          0.430354505777359,
          0.4322763979434967,
          0.432119220495224,
          0.43322664499282837,
          0.4312547445297241,
          0.4241815507411957,
          0.4187445342540741
         ],
         "z": [
          0.6295715570449829,
          0.6078970432281494,
          0.578036904335022,
          0.5387605428695679,
          0.4882170557975769,
          0.423962265253067,
          0.3456151783466339,
          0.25252848863601685,
          0.14870741963386536,
          0.037132181227207184,
          0.04111376032233238,
          0.0694568008184433,
          0.09778635203838348,
          0.12395486235618591,
          0.15022115409374237,
          0.17292727530002594,
          0.19542774558067322,
          0.2166740894317627,
          0.23679770529270172,
          0.256122350692749
         ]
        },
        {
         "line": {
          "color": [
           0,
           1,
           2,
           3,
           4,
           5,
           6,
           7,
           8,
           9,
           10,
           11,
           12,
           13,
           14,
           15,
           16,
           17,
           18,
           19
          ],
          "colorscale": [
           [
            0,
            "rgb(75, 41, 145)"
           ],
           [
            0.16666666666666666,
            "rgb(135, 44, 162)"
           ],
           [
            0.3333333333333333,
            "rgb(192, 54, 157)"
           ],
           [
            0.5,
            "rgb(234, 79, 136)"
           ],
           [
            0.6666666666666666,
            "rgb(250, 120, 118)"
           ],
           [
            0.8333333333333334,
            "rgb(246, 169, 122)"
           ],
           [
            1,
            "rgb(237, 217, 163)"
           ]
          ],
          "width": 2
         },
         "mode": "lines",
         "name": "Generated",
         "type": "scatter3d",
         "x": [
          0.570490837097168,
          0.5127500295639038,
          0.44962412118911743,
          0.37945741415023804,
          0.3029947578907013,
          0.22344569861888885,
          0.14313040673732758,
          0.07463013380765915,
          0.033071309328079224,
          0.03236401826143265,
          0.0382206104695797,
          0.047822654247283936,
          0.05876962095499039,
          0.0720849558711052,
          0.08782222121953964,
          0.10632437467575073,
          0.12611787021160126,
          0.14598636329174042,
          0.16776244342327118,
          0.18784527480602264
         ],
         "y": [
          0.5042081475257874,
          0.502500593662262,
          0.49094778299331665,
          0.4917122423648834,
          0.48831140995025635,
          0.46884241700172424,
          0.468949556350708,
          0.47143590450286865,
          0.4613548815250397,
          0.45301714539527893,
          0.4564322531223297,
          0.44775155186653137,
          0.42815396189689636,
          0.40779903531074524,
          0.38653671741485596,
          0.3658888638019562,
          0.3553934395313263,
          0.3564937114715576,
          0.3577011227607727,
          0.37351927161216736
         ],
         "z": [
          0.8608065843582153,
          0.8144840002059937,
          0.762130081653595,
          0.6994362473487854,
          0.623651385307312,
          0.5338349342346191,
          0.42662233114242554,
          0.3033113181591034,
          0.17058755457401276,
          0.037132181227207184,
          0.054059792309999466,
          0.0741935670375824,
          0.0962861031293869,
          0.12075544893741608,
          0.14693070948123932,
          0.17385777831077576,
          0.20105117559432983,
          0.22817716002464294,
          0.2531454861164093,
          0.27534252405166626
         ]
        },
        {
         "line": {
          "color": [
           0,
           1,
           2,
           3,
           4,
           5,
           6,
           7,
           8,
           9,
           10,
           11,
           12,
           13,
           14,
           15,
           16,
           17,
           18,
           19
          ],
          "colorscale": [
           [
            0,
            "rgb(75, 41, 145)"
           ],
           [
            0.16666666666666666,
            "rgb(135, 44, 162)"
           ],
           [
            0.3333333333333333,
            "rgb(192, 54, 157)"
           ],
           [
            0.5,
            "rgb(234, 79, 136)"
           ],
           [
            0.6666666666666666,
            "rgb(250, 120, 118)"
           ],
           [
            0.8333333333333334,
            "rgb(246, 169, 122)"
           ],
           [
            1,
            "rgb(237, 217, 163)"
           ]
          ],
          "width": 2
         },
         "mode": "lines",
         "name": "Generated",
         "type": "scatter3d",
         "x": [
          0.5410149693489075,
          0.4505939483642578,
          0.3597657084465027,
          0.27272045612335205,
          0.1923944503068924,
          0.12262961268424988,
          0.06995771825313568,
          0.03755082190036774,
          0.028666792437434196,
          0.03236401826143265,
          0.03143167123198509,
          0.032042503356933594,
          0.03266407176852226,
          0.03711680695414543,
          0.04714750871062279,
          0.0666891559958458,
          0.09029238671064377,
          0.11930748075246811,
          0.1539112627506256,
          0.18883654475212097
         ],
         "y": [
          0.710279643535614,
          0.690674901008606,
          0.659831702709198,
          0.627838134765625,
          0.5987239480018616,
          0.566623330116272,
          0.5296357870101929,
          0.4944986402988434,
          0.4680207669734955,
          0.45301714539527893,
          0.4443221688270569,
          0.4367346465587616,
          0.4349699020385742,
          0.44273608922958374,
          0.4529457092285156,
          0.4663704037666321,
          0.49791374802589417,
          0.5224911570549011,
          0.5501978397369385,
          0.5754254460334778
         ],
         "z": [
          0.7615131735801697,
          0.7034515738487244,
          0.6394731998443604,
          0.5673632025718689,
          0.4871146082878113,
          0.3998199701309204,
          0.30567803978919983,
          0.20595650374889374,
          0.1069328635931015,
          0.037132181227207184,
          0.06171616166830063,
          0.09053792804479599,
          0.12882311642169952,
          0.1742151379585266,
          0.22393597662448883,
          0.2740175724029541,
          0.3222617506980896,
          0.3689686059951782,
          0.41098925471305847,
          0.4465976059436798
         ]
        },
        {
         "line": {
          "color": [
           0,
           1,
           2,
           3,
           4,
           5,
           6,
           7,
           8,
           9,
           10,
           11,
           12,
           13,
           14,
           15,
           16,
           17,
           18,
           19
          ],
          "colorscale": [
           [
            0,
            "rgb(75, 41, 145)"
           ],
           [
            0.16666666666666666,
            "rgb(135, 44, 162)"
           ],
           [
            0.3333333333333333,
            "rgb(192, 54, 157)"
           ],
           [
            0.5,
            "rgb(234, 79, 136)"
           ],
           [
            0.6666666666666666,
            "rgb(250, 120, 118)"
           ],
           [
            0.8333333333333334,
            "rgb(246, 169, 122)"
           ],
           [
            1,
            "rgb(237, 217, 163)"
           ]
          ],
          "width": 2
         },
         "mode": "lines",
         "name": "Generated",
         "type": "scatter3d",
         "x": [
          0.6299892067909241,
          0.5772744417190552,
          0.5109764337539673,
          0.4329545199871063,
          0.345598429441452,
          0.2553274631500244,
          0.16930562257766724,
          0.09790652245283127,
          0.04820310324430466,
          0.03236401826143265,
          0.038081299513578415,
          0.04910865053534508,
          0.06495308876037598,
          0.08443579822778702,
          0.10623864829540253,
          0.12978829443454742,
          0.1527378261089325,
          0.1749425232410431,
          0.1946181356906891,
          0.21160924434661865
         ],
         "y": [
          0.3046739101409912,
          0.30567413568496704,
          0.31259727478027344,
          0.32079213857650757,
          0.34469079971313477,
          0.3694038689136505,
          0.39528167247772217,
          0.416679710149765,
          0.4389994144439697,
          0.45301714539527893,
          0.4470585286617279,
          0.4455581605434418,
          0.449351966381073,
          0.45734667778015137,
          0.4671277105808258,
          0.47755157947540283,
          0.4860537052154541,
          0.4906262755393982,
          0.4924337863922119,
          0.4926624894142151
         ],
         "z": [
          0.740256667137146,
          0.7019984722137451,
          0.6550859808921814,
          0.5986021757125854,
          0.5284542441368103,
          0.4451242983341217,
          0.34784701466560364,
          0.23847666382789612,
          0.12146342545747757,
          0.037132181227207184,
          0.06120707467198372,
          0.08989737182855606,
          0.12206017225980759,
          0.15529504418373108,
          0.18760955333709717,
          0.2184372991323471,
          0.24522612988948822,
          0.26967525482177734,
          0.29198694229125977,
          0.30807167291641235
         ]
        },
        {
         "line": {
          "color": [
           0,
           1,
           2,
           3,
           4,
           5,
           6,
           7,
           8,
           9,
           10,
           11,
           12,
           13,
           14,
           15,
           16,
           17,
           18,
           19
          ],
          "colorscale": [
           [
            0,
            "rgb(75, 41, 145)"
           ],
           [
            0.16666666666666666,
            "rgb(135, 44, 162)"
           ],
           [
            0.3333333333333333,
            "rgb(192, 54, 157)"
           ],
           [
            0.5,
            "rgb(234, 79, 136)"
           ],
           [
            0.6666666666666666,
            "rgb(250, 120, 118)"
           ],
           [
            0.8333333333333334,
            "rgb(246, 169, 122)"
           ],
           [
            1,
            "rgb(237, 217, 163)"
           ]
          ],
          "width": 2
         },
         "mode": "lines",
         "name": "Generated",
         "type": "scatter3d",
         "x": [
          0.1563921421766281,
          0.1661495864391327,
          0.16185759007930756,
          0.14271245896816254,
          0.11065386235713959,
          0.07821482419967651,
          0.04831026494503021,
          0.03202108293771744,
          0.030333228409290314,
          0.03236401826143265,
          0.029915282502770424,
          0.029384795576334,
          0.03289983421564102,
          0.039018984884023666,
          0.04922117292881012,
          0.0629865825176239,
          0.07758790999650955,
          0.09299831837415695,
          0.10854269564151764,
          0.12055061012506485
         ],
         "y": [
          0.5969306826591492,
          0.586963951587677,
          0.5772759318351746,
          0.5620507597923279,
          0.5521841049194336,
          0.5302287340164185,
          0.5193046927452087,
          0.4886614978313446,
          0.46133342385292053,
          0.45301714539527893,
          0.4624837636947632,
          0.48283156752586365,
          0.5046225786209106,
          0.5289784669876099,
          0.5488975644111633,
          0.5653230547904968,
          0.5853778123855591,
          0.5919795036315918,
          0.5917436480522156,
          0.59189373254776
         ],
         "z": [
          0.417256623506546,
          0.426898717880249,
          0.4205302298069,
          0.39568662643432617,
          0.35073965787887573,
          0.29205435514450073,
          0.2180461883544922,
          0.1387045830488205,
          0.06427839398384094,
          0.037132181227207184,
          0.07063339650630951,
          0.10765771567821503,
          0.14661717414855957,
          0.18392802774906158,
          0.22029827535152435,
          0.25822609663009644,
          0.28905045986175537,
          0.31779468059539795,
          0.3416740298271179,
          0.3591950237751007
         ]
        },
        {
         "line": {
          "color": [
           0,
           1,
           2,
           3,
           4,
           5,
           6,
           7,
           8,
           9,
           10,
           11,
           12,
           13,
           14,
           15,
           16,
           17,
           18,
           19
          ],
          "colorscale": [
           [
            0,
            "rgb(75, 41, 145)"
           ],
           [
            0.16666666666666666,
            "rgb(135, 44, 162)"
           ],
           [
            0.3333333333333333,
            "rgb(192, 54, 157)"
           ],
           [
            0.5,
            "rgb(234, 79, 136)"
           ],
           [
            0.6666666666666666,
            "rgb(250, 120, 118)"
           ],
           [
            0.8333333333333334,
            "rgb(246, 169, 122)"
           ],
           [
            1,
            "rgb(237, 217, 163)"
           ]
          ],
          "width": 2
         },
         "mode": "lines",
         "name": "Generated",
         "type": "scatter3d",
         "x": [
          0.531187891960144,
          0.4850369989871979,
          0.42990028858184814,
          0.36339327692985535,
          0.28826481103897095,
          0.2072315365076065,
          0.1284112185239792,
          0.06652306020259857,
          0.03211218863725662,
          0.03236401826143265,
          0.041226617991924286,
          0.05133233219385147,
          0.06432616710662842,
          0.08067964017391205,
          0.10021058470010757,
          0.12273679673671722,
          0.1486012190580368,
          0.17444421350955963,
          0.20197506248950958,
          0.22878789901733398
         ],
         "y": [
          0.6504936814308167,
          0.6245802044868469,
          0.5955517292022705,
          0.5641012787818909,
          0.5330365896224976,
          0.5054156184196472,
          0.48170268535614014,
          0.46699199080467224,
          0.45784687995910645,
          0.45301714539527893,
          0.448466032743454,
          0.4533529281616211,
          0.4603046178817749,
          0.4711001217365265,
          0.47859475016593933,
          0.48180270195007324,
          0.47619420289993286,
          0.46395549178123474,
          0.44256460666656494,
          0.41900888085365295
         ],
         "z": [
          0.7203083634376526,
          0.6778595447540283,
          0.6273868680000305,
          0.5660145878791809,
          0.4925863444805145,
          0.403491348028183,
          0.29755640029907227,
          0.17904628813266754,
          0.05480148643255234,
          0.037132181227207184,
          0.0634186863899231,
          0.09155270457267761,
          0.11990922689437866,
          0.1508145034313202,
          0.18285591900348663,
          0.2153761088848114,
          0.2486143559217453,
          0.28020066022872925,
          0.3096056580543518,
          0.3356696665287018
         ]
        },
        {
         "line": {
          "color": [
           0,
           1,
           2,
           3,
           4,
           5,
           6,
           7,
           8,
           9,
           10,
           11,
           12,
           13,
           14,
           15,
           16,
           17,
           18,
           19
          ],
          "colorscale": [
           [
            0,
            "rgb(75, 41, 145)"
           ],
           [
            0.16666666666666666,
            "rgb(135, 44, 162)"
           ],
           [
            0.3333333333333333,
            "rgb(192, 54, 157)"
           ],
           [
            0.5,
            "rgb(234, 79, 136)"
           ],
           [
            0.6666666666666666,
            "rgb(250, 120, 118)"
           ],
           [
            0.8333333333333334,
            "rgb(246, 169, 122)"
           ],
           [
            1,
            "rgb(237, 217, 163)"
           ]
          ],
          "width": 2
         },
         "mode": "lines",
         "name": "Generated",
         "type": "scatter3d",
         "x": [
          0.5244256854057312,
          0.4616159498691559,
          0.3877145051956177,
          0.3062579333782196,
          0.22191321849822998,
          0.14397703111171722,
          0.07940973341464996,
          0.03875644505023956,
          0.027241500094532967,
          0.03236401826143265,
          0.03961913287639618,
          0.04388432577252388,
          0.05387752130627632,
          0.06435831636190414,
          0.07550889998674393,
          0.08727569133043289,
          0.10039276629686356,
          0.11153798550367355,
          0.12238315492868423,
          0.1311975121498108
         ],
         "y": [
          0.7128159403800964,
          0.6790791749954224,
          0.650336503982544,
          0.6214795112609863,
          0.5981810092926025,
          0.5676521062850952,
          0.5430461764335632,
          0.5073303580284119,
          0.46773502230644226,
          0.45301714539527893,
          0.4428146779537201,
          0.4485660493373871,
          0.4413214325904846,
          0.4394995868206024,
          0.45220980048179626,
          0.4589828848838806,
          0.4653773009777069,
          0.47032132744789124,
          0.47360071539878845,
          0.4744580388069153
         ],
         "z": [
          0.7521744966506958,
          0.7061588168144226,
          0.6483027935028076,
          0.577399730682373,
          0.4929470419883728,
          0.39622271060943604,
          0.28603312373161316,
          0.16850067675113678,
          0.05121435970067978,
          0.037132181227207184,
          0.05747834965586662,
          0.08452679216861725,
          0.11229332536458969,
          0.14087237417697906,
          0.1664610058069229,
          0.19388028979301453,
          0.21858564019203186,
          0.24003760516643524,
          0.2576361298561096,
          0.27148231863975525
         ]
        },
        {
         "line": {
          "color": [
           0,
           1,
           2,
           3,
           4,
           5,
           6,
           7,
           8,
           9,
           10,
           11,
           12,
           13,
           14,
           15,
           16,
           17,
           18,
           19
          ],
          "colorscale": [
           [
            0,
            "rgb(75, 41, 145)"
           ],
           [
            0.16666666666666666,
            "rgb(135, 44, 162)"
           ],
           [
            0.3333333333333333,
            "rgb(192, 54, 157)"
           ],
           [
            0.5,
            "rgb(234, 79, 136)"
           ],
           [
            0.6666666666666666,
            "rgb(250, 120, 118)"
           ],
           [
            0.8333333333333334,
            "rgb(246, 169, 122)"
           ],
           [
            1,
            "rgb(237, 217, 163)"
           ]
          ],
          "width": 2
         },
         "mode": "lines",
         "name": "Generated",
         "type": "scatter3d",
         "x": [
          0.5943512916564941,
          0.5582633018493652,
          0.5062450766563416,
          0.4417688846588135,
          0.36504364013671875,
          0.28033992648124695,
          0.1938304752111435,
          0.11661763489246368,
          0.05799267068505287,
          0.03236401826143265,
          0.03949052840471268,
          0.047517236322164536,
          0.058764271438121796,
          0.07087934017181396,
          0.08610221743583679,
          0.10521521419286728,
          0.12667511403560638,
          0.1508731245994568,
          0.1779378056526184,
          0.20613843202590942
         ],
         "y": [
          0.5645514130592346,
          0.5523698925971985,
          0.5406669974327087,
          0.527885377407074,
          0.5155323147773743,
          0.5024577379226685,
          0.48733264207839966,
          0.47199317812919617,
          0.45999741554260254,
          0.45301714539527893,
          0.44964489340782166,
          0.45123815536499023,
          0.45568206906318665,
          0.47207891941070557,
          0.49506306648254395,
          0.5169398188591003,
          0.5345512628555298,
          0.546261191368103,
          0.548304557800293,
          0.5431818962097168
         ],
         "z": [
          0.7292863130569458,
          0.6985563635826111,
          0.6586259603500366,
          0.6082713007926941,
          0.5452706217765808,
          0.46799564361572266,
          0.3744100034236908,
          0.2663477063179016,
          0.14606763422489166,
          0.037132181227207184,
          0.057778406888246536,
          0.07781441509723663,
          0.09966757148504257,
          0.12314574420452118,
          0.14959071576595306,
          0.17772473394870758,
          0.20694096386432648,
          0.23690898716449738,
          0.2664218842983246,
          0.2933051288127899
         ]
        },
        {
         "line": {
          "color": [
           0,
           1,
           2,
           3,
           4,
           5,
           6,
           7,
           8,
           9,
           10,
           11,
           12,
           13,
           14,
           15,
           16,
           17,
           18,
           19
          ],
          "colorscale": [
           [
            0,
            "rgb(75, 41, 145)"
           ],
           [
            0.16666666666666666,
            "rgb(135, 44, 162)"
           ],
           [
            0.3333333333333333,
            "rgb(192, 54, 157)"
           ],
           [
            0.5,
            "rgb(234, 79, 136)"
           ],
           [
            0.6666666666666666,
            "rgb(250, 120, 118)"
           ],
           [
            0.8333333333333334,
            "rgb(246, 169, 122)"
           ],
           [
            1,
            "rgb(237, 217, 163)"
           ]
          ],
          "width": 2
         },
         "mode": "lines",
         "name": "Generated",
         "type": "scatter3d",
         "x": [
          0.4908614158630371,
          0.46828165650367737,
          0.43159347772598267,
          0.3799878656864166,
          0.3156134784221649,
          0.24458946287631989,
          0.17120780050754547,
          0.10419713705778122,
          0.05493845418095589,
          0.03236401826143265,
          0.03291591629385948,
          0.03881002590060234,
          0.04976235702633858,
          0.06559071689844131,
          0.08503056317567825,
          0.10916426032781601,
          0.13652899861335754,
          0.16650323569774628,
          0.19489140808582306,
          0.2206004410982132
         ],
         "y": [
          0.5384664535522461,
          0.524898886680603,
          0.511795699596405,
          0.498313844203949,
          0.48627519607543945,
          0.4750225245952606,
          0.46494144201278687,
          0.4573253095149994,
          0.4505879878997803,
          0.45301714539527893,
          0.45166683197021484,
          0.45083087682724,
          0.4561750590801239,
          0.4660131633281708,
          0.4792735278606415,
          0.487639844417572,
          0.49214091897010803,
          0.4856107532978058,
          0.47543686628341675,
          0.4588257074356079
         ],
         "z": [
          0.6623243093490601,
          0.6389641165733337,
          0.6049370169639587,
          0.5582773089408875,
          0.4977782070636749,
          0.42457249760627747,
          0.3362158536911011,
          0.23403657972812653,
          0.12381664663553238,
          0.037132181227207184,
          0.06775426864624023,
          0.09990019351243973,
          0.13648958504199982,
          0.17486917972564697,
          0.21427702903747559,
          0.2533038854598999,
          0.29055070877075195,
          0.3254881501197815,
          0.35435372591018677,
          0.37739700078964233
         ]
        },
        {
         "line": {
          "color": [
           0,
           1,
           2,
           3,
           4,
           5,
           6,
           7,
           8,
           9,
           10,
           11,
           12,
           13,
           14,
           15,
           16,
           17,
           18,
           19
          ],
          "colorscale": [
           [
            0,
            "rgb(75, 41, 145)"
           ],
           [
            0.16666666666666666,
            "rgb(135, 44, 162)"
           ],
           [
            0.3333333333333333,
            "rgb(192, 54, 157)"
           ],
           [
            0.5,
            "rgb(234, 79, 136)"
           ],
           [
            0.6666666666666666,
            "rgb(250, 120, 118)"
           ],
           [
            0.8333333333333334,
            "rgb(246, 169, 122)"
           ],
           [
            1,
            "rgb(237, 217, 163)"
           ]
          ],
          "width": 2
         },
         "mode": "lines",
         "name": "Generated",
         "type": "scatter3d",
         "x": [
          0.22414763271808624,
          0.2376129925251007,
          0.22749118506908417,
          0.19386260211467743,
          0.14563272893428802,
          0.09721529483795166,
          0.05857137590646744,
          0.03629700466990471,
          0.033065952360630035,
          0.03236401826143265,
          0.028039872646331787,
          0.0263359472155571,
          0.026277001947164536,
          0.03301772475242615,
          0.046220529824495316,
          0.06880568712949753,
          0.09619186073541641,
          0.13115465641021729,
          0.1689251810312271,
          0.2031431645154953
         ],
         "y": [
          0.47308626770973206,
          0.479830801486969,
          0.49319836497306824,
          0.4938770532608032,
          0.49654197692871094,
          0.48533928394317627,
          0.47344356775283813,
          0.46837088465690613,
          0.46046894788742065,
          0.45301714539527893,
          0.4435005486011505,
          0.4352342486381531,
          0.4301973283290863,
          0.42245256900787354,
          0.4218309819698334,
          0.4246959984302521,
          0.42431730031967163,
          0.4314333200454712,
          0.4403783679008484,
          0.45020216703414917
         ],
         "z": [
          0.48467713594436646,
          0.49501708149909973,
          0.48437371850013733,
          0.4538460075855255,
          0.40272605419158936,
          0.33330634236335754,
          0.2495819330215454,
          0.157853901386261,
          0.06833750754594803,
          0.037132181227207184,
          0.0642177015542984,
          0.10167690366506577,
          0.14778028428554535,
          0.19867098331451416,
          0.25099116563796997,
          0.3028427064418793,
          0.3530355393886566,
          0.39919623732566833,
          0.4392581284046173,
          0.47097253799438477
         ]
        },
        {
         "line": {
          "color": [
           0,
           1,
           2,
           3,
           4,
           5,
           6,
           7,
           8,
           9,
           10,
           11,
           12,
           13,
           14,
           15,
           16,
           17,
           18,
           19
          ],
          "colorscale": [
           [
            0,
            "rgb(75, 41, 145)"
           ],
           [
            0.16666666666666666,
            "rgb(135, 44, 162)"
           ],
           [
            0.3333333333333333,
            "rgb(192, 54, 157)"
           ],
           [
            0.5,
            "rgb(234, 79, 136)"
           ],
           [
            0.6666666666666666,
            "rgb(250, 120, 118)"
           ],
           [
            0.8333333333333334,
            "rgb(246, 169, 122)"
           ],
           [
            1,
            "rgb(237, 217, 163)"
           ]
          ],
          "width": 2
         },
         "mode": "lines",
         "name": "Generated",
         "type": "scatter3d",
         "x": [
          0.5385715961456299,
          0.5052376985549927,
          0.4618249237537384,
          0.40665605664253235,
          0.33845046162605286,
          0.2587728202342987,
          0.1772037148475647,
          0.10703166574239731,
          0.05670132860541344,
          0.03236401826143265,
          0.03264264389872551,
          0.04176244139671326,
          0.057580091059207916,
          0.07975266128778458,
          0.10264322906732559,
          0.1228814646601677,
          0.13996365666389465,
          0.1536058485507965,
          0.1614503711462021,
          0.1648367941379547
         ],
         "y": [
          0.31899166107177734,
          0.3238143026828766,
          0.32384997606277466,
          0.32179948687553406,
          0.3181200325489044,
          0.32487884163856506,
          0.33728185296058655,
          0.3647027909755707,
          0.4015974700450897,
          0.45301714539527893,
          0.44539377093315125,
          0.43594861030578613,
          0.4189017117023468,
          0.41024959087371826,
          0.40057572722435,
          0.39177361130714417,
          0.39068055152893066,
          0.392523854970932,
          0.39816808700561523,
          0.4092136025428772
         ],
         "z": [
          0.6976022720336914,
          0.6709313988685608,
          0.6382460594177246,
          0.594836413860321,
          0.5360432267189026,
          0.46221041679382324,
          0.3702699542045593,
          0.2653025686740875,
          0.15059538185596466,
          0.037132181227207184,
          0.05617700517177582,
          0.10594841837882996,
          0.1545499861240387,
          0.19779780507087708,
          0.2344917207956314,
          0.2627504765987396,
          0.28295502066612244,
          0.29554370045661926,
          0.3005198538303375,
          0.29965677857398987
         ]
        },
        {
         "line": {
          "color": [
           0,
           1,
           2,
           3,
           4,
           5,
           6,
           7,
           8,
           9,
           10,
           11,
           12,
           13,
           14,
           15,
           16,
           17,
           18,
           19
          ],
          "colorscale": [
           [
            0,
            "rgb(75, 41, 145)"
           ],
           [
            0.16666666666666666,
            "rgb(135, 44, 162)"
           ],
           [
            0.3333333333333333,
            "rgb(192, 54, 157)"
           ],
           [
            0.5,
            "rgb(234, 79, 136)"
           ],
           [
            0.6666666666666666,
            "rgb(250, 120, 118)"
           ],
           [
            0.8333333333333334,
            "rgb(246, 169, 122)"
           ],
           [
            1,
            "rgb(237, 217, 163)"
           ]
          ],
          "width": 2
         },
         "mode": "lines",
         "name": "Generated",
         "type": "scatter3d",
         "x": [
          0.6389696598052979,
          0.5715732574462891,
          0.4943068027496338,
          0.4088207483291626,
          0.31733885407447815,
          0.22376182675361633,
          0.13797573745250702,
          0.0689074918627739,
          0.03130306303501129,
          0.03236401826143265,
          0.04072827845811844,
          0.051648467779159546,
          0.06732143461704254,
          0.08711493015289307,
          0.11348839104175568,
          0.14696693420410156,
          0.18215477466583252,
          0.22329029440879822,
          0.265427827835083,
          0.3055720627307892
         ],
         "y": [
          0.8953031897544861,
          0.8599231839179993,
          0.8200491666793823,
          0.7771387100219727,
          0.7295271754264832,
          0.6815012097358704,
          0.6292885541915894,
          0.5738179087638855,
          0.5163396596908569,
          0.45301714539527893,
          0.4404212236404419,
          0.44680851697921753,
          0.4562036395072937,
          0.4794521629810333,
          0.5073232054710388,
          0.5321506857872009,
          0.5615077614784241,
          0.5789691805839539,
          0.5928725600242615,
          0.5999100208282471
         ],
         "z": [
          0.8656072020530701,
          0.8191128373146057,
          0.7641562819480896,
          0.6990485191345215,
          0.6219353675842285,
          0.5294150710105896,
          0.42128875851631165,
          0.29922860860824585,
          0.16715550422668457,
          0.037132181227207184,
          0.0387302003800869,
          0.06504031270742416,
          0.1006014421582222,
          0.14301654696464539,
          0.19052240252494812,
          0.23937681317329407,
          0.2826010584831238,
          0.32576799392700195,
          0.3630855977535248,
          0.39405155181884766
         ]
        },
        {
         "line": {
          "color": [
           0,
           1,
           2,
           3,
           4,
           5,
           6,
           7,
           8,
           9,
           10,
           11,
           12,
           13,
           14,
           15,
           16,
           17,
           18,
           19
          ],
          "colorscale": [
           [
            0,
            "rgb(75, 41, 145)"
           ],
           [
            0.16666666666666666,
            "rgb(135, 44, 162)"
           ],
           [
            0.3333333333333333,
            "rgb(192, 54, 157)"
           ],
           [
            0.5,
            "rgb(234, 79, 136)"
           ],
           [
            0.6666666666666666,
            "rgb(250, 120, 118)"
           ],
           [
            0.8333333333333334,
            "rgb(246, 169, 122)"
           ],
           [
            1,
            "rgb(237, 217, 163)"
           ]
          ],
          "width": 2
         },
         "mode": "lines",
         "name": "Generated",
         "type": "scatter3d",
         "x": [
          0.4908614158630371,
          0.46828165650367737,
          0.43159347772598267,
          0.3799878656864166,
          0.3156134784221649,
          0.24458946287631989,
          0.17120780050754547,
          0.10419713705778122,
          0.05493845418095589,
          0.03236401826143265,
          0.03291591629385948,
          0.03881002590060234,
          0.04976235702633858,
          0.06559071689844131,
          0.08503056317567825,
          0.10916426032781601,
          0.13652899861335754,
          0.16650323569774628,
          0.19489140808582306,
          0.2206004410982132
         ],
         "y": [
          0.5384664535522461,
          0.524898886680603,
          0.511795699596405,
          0.498313844203949,
          0.48627519607543945,
          0.4750225245952606,
          0.46494144201278687,
          0.4573253095149994,
          0.4505879878997803,
          0.45301714539527893,
          0.45166683197021484,
          0.45083087682724,
          0.4561750590801239,
          0.4660131633281708,
          0.4792735278606415,
          0.487639844417572,
          0.49214091897010803,
          0.4856107532978058,
          0.47543686628341675,
          0.4588257074356079
         ],
         "z": [
          0.6623243093490601,
          0.6389641165733337,
          0.6049370169639587,
          0.5582773089408875,
          0.4977782070636749,
          0.42457249760627747,
          0.3362158536911011,
          0.23403657972812653,
          0.12381664663553238,
          0.037132181227207184,
          0.06775426864624023,
          0.09990019351243973,
          0.13648958504199982,
          0.17486917972564697,
          0.21427702903747559,
          0.2533038854598999,
          0.29055070877075195,
          0.3254881501197815,
          0.35435372591018677,
          0.37739700078964233
         ]
        },
        {
         "line": {
          "color": [
           0,
           1,
           2,
           3,
           4,
           5,
           6,
           7,
           8,
           9,
           10,
           11,
           12,
           13,
           14,
           15,
           16,
           17,
           18,
           19
          ],
          "colorscale": [
           [
            0,
            "rgb(75, 41, 145)"
           ],
           [
            0.16666666666666666,
            "rgb(135, 44, 162)"
           ],
           [
            0.3333333333333333,
            "rgb(192, 54, 157)"
           ],
           [
            0.5,
            "rgb(234, 79, 136)"
           ],
           [
            0.6666666666666666,
            "rgb(250, 120, 118)"
           ],
           [
            0.8333333333333334,
            "rgb(246, 169, 122)"
           ],
           [
            1,
            "rgb(237, 217, 163)"
           ]
          ],
          "width": 2
         },
         "mode": "lines",
         "name": "Generated",
         "type": "scatter3d",
         "x": [
          0.6351492404937744,
          0.5770226120948792,
          0.5118123292922974,
          0.43650704622268677,
          0.34741491079330444,
          0.2496316134929657,
          0.15440423786640167,
          0.07680024206638336,
          0.03214968740940094,
          0.03236401826143265,
          0.028773969039320946,
          0.034368015825748444,
          0.04780658334493637,
          0.06822163611650467,
          0.09264468401670456,
          0.11806972324848175,
          0.1399422436952591,
          0.15917310118675232,
          0.17422452569007874,
          0.1866075098514557
         ],
         "y": [
          0.6657545566558838,
          0.6521583795547485,
          0.6266093254089355,
          0.589178740978241,
          0.5484188795089722,
          0.4980209767818451,
          0.46206220984458923,
          0.4396853446960449,
          0.43942099809646606,
          0.45301714539527893,
          0.4666562080383301,
          0.4750582277774811,
          0.4825528860092163,
          0.4903404712677002,
          0.4970707297325134,
          0.5019933581352234,
          0.514875054359436,
          0.5301715731620789,
          0.5496835112571716,
          0.5723246932029724
         ],
         "z": [
          0.9549820423126221,
          0.910773515701294,
          0.8605166077613831,
          0.7978833913803101,
          0.71738201379776,
          0.6153140664100647,
          0.4896128177642822,
          0.3438418507575989,
          0.18512487411499023,
          0.037132181227207184,
          0.07802343368530273,
          0.12490896880626678,
          0.17616042494773865,
          0.22646789252758026,
          0.27147555351257324,
          0.30950114130973816,
          0.338774710893631,
          0.3614976704120636,
          0.37787574529647827,
          0.38981375098228455
         ]
        },
        {
         "line": {
          "color": [
           0,
           1,
           2,
           3,
           4,
           5,
           6,
           7,
           8,
           9,
           10,
           11,
           12,
           13,
           14,
           15,
           16,
           17,
           18,
           19
          ],
          "colorscale": [
           [
            0,
            "rgb(75, 41, 145)"
           ],
           [
            0.16666666666666666,
            "rgb(135, 44, 162)"
           ],
           [
            0.3333333333333333,
            "rgb(192, 54, 157)"
           ],
           [
            0.5,
            "rgb(234, 79, 136)"
           ],
           [
            0.6666666666666666,
            "rgb(250, 120, 118)"
           ],
           [
            0.8333333333333334,
            "rgb(246, 169, 122)"
           ],
           [
            1,
            "rgb(237, 217, 163)"
           ]
          ],
          "width": 2
         },
         "mode": "lines",
         "name": "Generated",
         "type": "scatter3d",
         "x": [
          0.5828471183776855,
          0.5376285314559937,
          0.48470476269721985,
          0.421434223651886,
          0.34646111726760864,
          0.26337024569511414,
          0.17834503948688507,
          0.10310941189527512,
          0.04822453111410141,
          0.03236401826143265,
          0.03939944505691528,
          0.0494462251663208,
          0.06216141954064369,
          0.07630728930234909,
          0.08993339538574219,
          0.10284150391817093,
          0.11587819457054138,
          0.12737707793712616,
          0.1385919451713562,
          0.1495549976825714
         ],
         "y": [
          0.4764871299266815,
          0.47468674182891846,
          0.4686066508293152,
          0.4565894603729248,
          0.4427432417869568,
          0.43174058198928833,
          0.42913275957107544,
          0.43106895685195923,
          0.4438006281852722,
          0.45301714539527893,
          0.4498806893825531,
          0.44528669118881226,
          0.4370918571949005,
          0.4226740598678589,
          0.41647255420684814,
          0.3963962495326996,
          0.3819141685962677,
          0.3697254955768585,
          0.36370259523391724,
          0.3517782986164093
         ],
         "z": [
          0.695828914642334,
          0.6644213199615479,
          0.625579833984375,
          0.5759095549583435,
          0.513148307800293,
          0.4340493977069855,
          0.33859938383102417,
          0.22742198407649994,
          0.10477181524038315,
          0.037132181227207184,
          0.061520617455244064,
          0.08833642303943634,
          0.1135575994849205,
          0.13523545861244202,
          0.15447919070720673,
          0.17074939608573914,
          0.1846899688243866,
          0.19673584401607513,
          0.20727810263633728,
          0.21497827768325806
         ]
        }
       ],
       "layout": {
        "coloraxis": {
         "showscale": false
        },
        "font": {
         "color": "white",
         "family": "Roboto, monospace",
         "size": 12
        },
        "height": 800,
        "margin": {
         "b": 50,
         "l": 5,
         "r": 5,
         "t": 50
        },
        "scene": {
         "aspectratio": {
          "x": 1,
          "y": 1,
          "z": 1
         },
         "camera": {
          "eye": {
           "x": -1.5,
           "y": 1.5,
           "z": 1.5
          },
          "up": {
           "x": 0,
           "y": 0,
           "z": 1
          }
         }
        },
        "showlegend": false,
        "template": {
         "data": {
          "bar": [
           {
            "error_x": {
             "color": "#f2f5fa"
            },
            "error_y": {
             "color": "#f2f5fa"
            },
            "marker": {
             "line": {
              "color": "rgb(17,17,17)",
              "width": 0.5
             },
             "pattern": {
              "fillmode": "overlay",
              "size": 10,
              "solidity": 0.2
             }
            },
            "type": "bar"
           }
          ],
          "barpolar": [
           {
            "marker": {
             "line": {
              "color": "rgb(17,17,17)",
              "width": 0.5
             },
             "pattern": {
              "fillmode": "overlay",
              "size": 10,
              "solidity": 0.2
             }
            },
            "type": "barpolar"
           }
          ],
          "carpet": [
           {
            "aaxis": {
             "endlinecolor": "#A2B1C6",
             "gridcolor": "#506784",
             "linecolor": "#506784",
             "minorgridcolor": "#506784",
             "startlinecolor": "#A2B1C6"
            },
            "baxis": {
             "endlinecolor": "#A2B1C6",
             "gridcolor": "#506784",
             "linecolor": "#506784",
             "minorgridcolor": "#506784",
             "startlinecolor": "#A2B1C6"
            },
            "type": "carpet"
           }
          ],
          "choropleth": [
           {
            "colorbar": {
             "outlinewidth": 0,
             "ticks": ""
            },
            "type": "choropleth"
           }
          ],
          "contour": [
           {
            "colorbar": {
             "outlinewidth": 0,
             "ticks": ""
            },
            "colorscale": [
             [
              0,
              "#0d0887"
             ],
             [
              0.1111111111111111,
              "#46039f"
             ],
             [
              0.2222222222222222,
              "#7201a8"
             ],
             [
              0.3333333333333333,
              "#9c179e"
             ],
             [
              0.4444444444444444,
              "#bd3786"
             ],
             [
              0.5555555555555556,
              "#d8576b"
             ],
             [
              0.6666666666666666,
              "#ed7953"
             ],
             [
              0.7777777777777778,
              "#fb9f3a"
             ],
             [
              0.8888888888888888,
              "#fdca26"
             ],
             [
              1,
              "#f0f921"
             ]
            ],
            "type": "contour"
           }
          ],
          "contourcarpet": [
           {
            "colorbar": {
             "outlinewidth": 0,
             "ticks": ""
            },
            "type": "contourcarpet"
           }
          ],
          "heatmap": [
           {
            "colorbar": {
             "outlinewidth": 0,
             "ticks": ""
            },
            "colorscale": [
             [
              0,
              "#0d0887"
             ],
             [
              0.1111111111111111,
              "#46039f"
             ],
             [
              0.2222222222222222,
              "#7201a8"
             ],
             [
              0.3333333333333333,
              "#9c179e"
             ],
             [
              0.4444444444444444,
              "#bd3786"
             ],
             [
              0.5555555555555556,
              "#d8576b"
             ],
             [
              0.6666666666666666,
              "#ed7953"
             ],
             [
              0.7777777777777778,
              "#fb9f3a"
             ],
             [
              0.8888888888888888,
              "#fdca26"
             ],
             [
              1,
              "#f0f921"
             ]
            ],
            "type": "heatmap"
           }
          ],
          "heatmapgl": [
           {
            "colorbar": {
             "outlinewidth": 0,
             "ticks": ""
            },
            "colorscale": [
             [
              0,
              "#0d0887"
             ],
             [
              0.1111111111111111,
              "#46039f"
             ],
             [
              0.2222222222222222,
              "#7201a8"
             ],
             [
              0.3333333333333333,
              "#9c179e"
             ],
             [
              0.4444444444444444,
              "#bd3786"
             ],
             [
              0.5555555555555556,
              "#d8576b"
             ],
             [
              0.6666666666666666,
              "#ed7953"
             ],
             [
              0.7777777777777778,
              "#fb9f3a"
             ],
             [
              0.8888888888888888,
              "#fdca26"
             ],
             [
              1,
              "#f0f921"
             ]
            ],
            "type": "heatmapgl"
           }
          ],
          "histogram": [
           {
            "marker": {
             "pattern": {
              "fillmode": "overlay",
              "size": 10,
              "solidity": 0.2
             }
            },
            "type": "histogram"
           }
          ],
          "histogram2d": [
           {
            "colorbar": {
             "outlinewidth": 0,
             "ticks": ""
            },
            "colorscale": [
             [
              0,
              "#0d0887"
             ],
             [
              0.1111111111111111,
              "#46039f"
             ],
             [
              0.2222222222222222,
              "#7201a8"
             ],
             [
              0.3333333333333333,
              "#9c179e"
             ],
             [
              0.4444444444444444,
              "#bd3786"
             ],
             [
              0.5555555555555556,
              "#d8576b"
             ],
             [
              0.6666666666666666,
              "#ed7953"
             ],
             [
              0.7777777777777778,
              "#fb9f3a"
             ],
             [
              0.8888888888888888,
              "#fdca26"
             ],
             [
              1,
              "#f0f921"
             ]
            ],
            "type": "histogram2d"
           }
          ],
          "histogram2dcontour": [
           {
            "colorbar": {
             "outlinewidth": 0,
             "ticks": ""
            },
            "colorscale": [
             [
              0,
              "#0d0887"
             ],
             [
              0.1111111111111111,
              "#46039f"
             ],
             [
              0.2222222222222222,
              "#7201a8"
             ],
             [
              0.3333333333333333,
              "#9c179e"
             ],
             [
              0.4444444444444444,
              "#bd3786"
             ],
             [
              0.5555555555555556,
              "#d8576b"
             ],
             [
              0.6666666666666666,
              "#ed7953"
             ],
             [
              0.7777777777777778,
              "#fb9f3a"
             ],
             [
              0.8888888888888888,
              "#fdca26"
             ],
             [
              1,
              "#f0f921"
             ]
            ],
            "type": "histogram2dcontour"
           }
          ],
          "mesh3d": [
           {
            "colorbar": {
             "outlinewidth": 0,
             "ticks": ""
            },
            "type": "mesh3d"
           }
          ],
          "parcoords": [
           {
            "line": {
             "colorbar": {
              "outlinewidth": 0,
              "ticks": ""
             }
            },
            "type": "parcoords"
           }
          ],
          "pie": [
           {
            "automargin": true,
            "type": "pie"
           }
          ],
          "scatter": [
           {
            "marker": {
             "line": {
              "color": "#283442"
             }
            },
            "type": "scatter"
           }
          ],
          "scatter3d": [
           {
            "line": {
             "colorbar": {
              "outlinewidth": 0,
              "ticks": ""
             }
            },
            "marker": {
             "colorbar": {
              "outlinewidth": 0,
              "ticks": ""
             }
            },
            "type": "scatter3d"
           }
          ],
          "scattercarpet": [
           {
            "marker": {
             "colorbar": {
              "outlinewidth": 0,
              "ticks": ""
             }
            },
            "type": "scattercarpet"
           }
          ],
          "scattergeo": [
           {
            "marker": {
             "colorbar": {
              "outlinewidth": 0,
              "ticks": ""
             }
            },
            "type": "scattergeo"
           }
          ],
          "scattergl": [
           {
            "marker": {
             "line": {
              "color": "#283442"
             }
            },
            "type": "scattergl"
           }
          ],
          "scattermapbox": [
           {
            "marker": {
             "colorbar": {
              "outlinewidth": 0,
              "ticks": ""
             }
            },
            "type": "scattermapbox"
           }
          ],
          "scatterpolar": [
           {
            "marker": {
             "colorbar": {
              "outlinewidth": 0,
              "ticks": ""
             }
            },
            "type": "scatterpolar"
           }
          ],
          "scatterpolargl": [
           {
            "marker": {
             "colorbar": {
              "outlinewidth": 0,
              "ticks": ""
             }
            },
            "type": "scatterpolargl"
           }
          ],
          "scatterternary": [
           {
            "marker": {
             "colorbar": {
              "outlinewidth": 0,
              "ticks": ""
             }
            },
            "type": "scatterternary"
           }
          ],
          "surface": [
           {
            "colorbar": {
             "outlinewidth": 0,
             "ticks": ""
            },
            "colorscale": [
             [
              0,
              "#0d0887"
             ],
             [
              0.1111111111111111,
              "#46039f"
             ],
             [
              0.2222222222222222,
              "#7201a8"
             ],
             [
              0.3333333333333333,
              "#9c179e"
             ],
             [
              0.4444444444444444,
              "#bd3786"
             ],
             [
              0.5555555555555556,
              "#d8576b"
             ],
             [
              0.6666666666666666,
              "#ed7953"
             ],
             [
              0.7777777777777778,
              "#fb9f3a"
             ],
             [
              0.8888888888888888,
              "#fdca26"
             ],
             [
              1,
              "#f0f921"
             ]
            ],
            "type": "surface"
           }
          ],
          "table": [
           {
            "cells": {
             "fill": {
              "color": "#506784"
             },
             "line": {
              "color": "rgb(17,17,17)"
             }
            },
            "header": {
             "fill": {
              "color": "#2a3f5f"
             },
             "line": {
              "color": "rgb(17,17,17)"
             }
            },
            "type": "table"
           }
          ]
         },
         "layout": {
          "annotationdefaults": {
           "arrowcolor": "#f2f5fa",
           "arrowhead": 0,
           "arrowwidth": 1
          },
          "autotypenumbers": "strict",
          "coloraxis": {
           "colorbar": {
            "outlinewidth": 0,
            "ticks": ""
           }
          },
          "colorscale": {
           "diverging": [
            [
             0,
             "#8e0152"
            ],
            [
             0.1,
             "#c51b7d"
            ],
            [
             0.2,
             "#de77ae"
            ],
            [
             0.3,
             "#f1b6da"
            ],
            [
             0.4,
             "#fde0ef"
            ],
            [
             0.5,
             "#f7f7f7"
            ],
            [
             0.6,
             "#e6f5d0"
            ],
            [
             0.7,
             "#b8e186"
            ],
            [
             0.8,
             "#7fbc41"
            ],
            [
             0.9,
             "#4d9221"
            ],
            [
             1,
             "#276419"
            ]
           ],
           "sequential": [
            [
             0,
             "#0d0887"
            ],
            [
             0.1111111111111111,
             "#46039f"
            ],
            [
             0.2222222222222222,
             "#7201a8"
            ],
            [
             0.3333333333333333,
             "#9c179e"
            ],
            [
             0.4444444444444444,
             "#bd3786"
            ],
            [
             0.5555555555555556,
             "#d8576b"
            ],
            [
             0.6666666666666666,
             "#ed7953"
            ],
            [
             0.7777777777777778,
             "#fb9f3a"
            ],
            [
             0.8888888888888888,
             "#fdca26"
            ],
            [
             1,
             "#f0f921"
            ]
           ],
           "sequentialminus": [
            [
             0,
             "#0d0887"
            ],
            [
             0.1111111111111111,
             "#46039f"
            ],
            [
             0.2222222222222222,
             "#7201a8"
            ],
            [
             0.3333333333333333,
             "#9c179e"
            ],
            [
             0.4444444444444444,
             "#bd3786"
            ],
            [
             0.5555555555555556,
             "#d8576b"
            ],
            [
             0.6666666666666666,
             "#ed7953"
            ],
            [
             0.7777777777777778,
             "#fb9f3a"
            ],
            [
             0.8888888888888888,
             "#fdca26"
            ],
            [
             1,
             "#f0f921"
            ]
           ]
          },
          "colorway": [
           "#636efa",
           "#EF553B",
           "#00cc96",
           "#ab63fa",
           "#FFA15A",
           "#19d3f3",
           "#FF6692",
           "#B6E880",
           "#FF97FF",
           "#FECB52"
          ],
          "font": {
           "color": "#f2f5fa"
          },
          "geo": {
           "bgcolor": "rgb(17,17,17)",
           "lakecolor": "rgb(17,17,17)",
           "landcolor": "rgb(17,17,17)",
           "showlakes": true,
           "showland": true,
           "subunitcolor": "#506784"
          },
          "hoverlabel": {
           "align": "left"
          },
          "hovermode": "closest",
          "mapbox": {
           "style": "dark"
          },
          "paper_bgcolor": "rgb(17,17,17)",
          "plot_bgcolor": "rgb(17,17,17)",
          "polar": {
           "angularaxis": {
            "gridcolor": "#506784",
            "linecolor": "#506784",
            "ticks": ""
           },
           "bgcolor": "rgb(17,17,17)",
           "radialaxis": {
            "gridcolor": "#506784",
            "linecolor": "#506784",
            "ticks": ""
           }
          },
          "scene": {
           "xaxis": {
            "backgroundcolor": "rgb(17,17,17)",
            "gridcolor": "#506784",
            "gridwidth": 2,
            "linecolor": "#506784",
            "showbackground": true,
            "ticks": "",
            "zerolinecolor": "#C8D4E3"
           },
           "yaxis": {
            "backgroundcolor": "rgb(17,17,17)",
            "gridcolor": "#506784",
            "gridwidth": 2,
            "linecolor": "#506784",
            "showbackground": true,
            "ticks": "",
            "zerolinecolor": "#C8D4E3"
           },
           "zaxis": {
            "backgroundcolor": "rgb(17,17,17)",
            "gridcolor": "#506784",
            "gridwidth": 2,
            "linecolor": "#506784",
            "showbackground": true,
            "ticks": "",
            "zerolinecolor": "#C8D4E3"
           }
          },
          "shapedefaults": {
           "line": {
            "color": "#f2f5fa"
           }
          },
          "sliderdefaults": {
           "bgcolor": "#C8D4E3",
           "bordercolor": "rgb(17,17,17)",
           "borderwidth": 1,
           "tickwidth": 0
          },
          "ternary": {
           "aaxis": {
            "gridcolor": "#506784",
            "linecolor": "#506784",
            "ticks": ""
           },
           "baxis": {
            "gridcolor": "#506784",
            "linecolor": "#506784",
            "ticks": ""
           },
           "bgcolor": "rgb(17,17,17)",
           "caxis": {
            "gridcolor": "#506784",
            "linecolor": "#506784",
            "ticks": ""
           }
          },
          "title": {
           "x": 0.05
          },
          "updatemenudefaults": {
           "bgcolor": "#506784",
           "borderwidth": 0
          },
          "xaxis": {
           "automargin": true,
           "gridcolor": "#283442",
           "linecolor": "#506784",
           "ticks": "",
           "title": {
            "standoff": 15
           },
           "zerolinecolor": "#283442",
           "zerolinewidth": 2
          },
          "yaxis": {
           "automargin": true,
           "gridcolor": "#283442",
           "linecolor": "#506784",
           "ticks": "",
           "title": {
            "standoff": 15
           },
           "zerolinecolor": "#283442",
           "zerolinewidth": 2
          }
         }
        },
        "title": {
         "text": "Original"
        },
        "xaxis": {
         "fixedrange": true,
         "showgrid": false,
         "showticklabels": false,
         "zeroline": false,
         "zerolinecolor": "gray",
         "zerolinewidth": 1
        },
        "yaxis": {
         "fixedrange": true,
         "showgrid": false,
         "showticklabels": false,
         "zeroline": false,
         "zerolinecolor": "gray",
         "zerolinewidth": 1
        }
       }
      }
     },
     "metadata": {},
     "output_type": "display_data"
    },
    {
     "data": {
      "application/vnd.plotly.v1+json": {
       "config": {
        "plotlyServerURL": "https://plot.ly"
       },
       "data": [
        {
         "line": {
          "color": [
           0,
           1,
           2,
           3,
           4,
           5,
           6,
           7,
           8,
           9,
           10,
           11,
           12,
           13,
           14,
           15,
           16,
           17,
           18,
           19
          ],
          "colorscale": [
           [
            0,
            "rgb(75, 41, 145)"
           ],
           [
            0.16666666666666666,
            "rgb(135, 44, 162)"
           ],
           [
            0.3333333333333333,
            "rgb(192, 54, 157)"
           ],
           [
            0.5,
            "rgb(234, 79, 136)"
           ],
           [
            0.6666666666666666,
            "rgb(250, 120, 118)"
           ],
           [
            0.8333333333333334,
            "rgb(246, 169, 122)"
           ],
           [
            1,
            "rgb(237, 217, 163)"
           ]
          ],
          "width": 2
         },
         "mode": "lines",
         "name": "Generated",
         "type": "scatter3d",
         "x": [
          0.08681752532720566,
          0.09068863838911057,
          0.06980597972869873,
          0.08167396485805511,
          0.0769827663898468,
          0.03386286646127701,
          0.018081214278936386,
          0.027304435148835182,
          0.01231975108385086,
          0.0382087416946888,
          0.021149151027202606,
          0.02947663515806198,
          0.021588504314422607,
          0.008308254182338715,
          0.0455189049243927,
          0.031376373022794724,
          0.019195184111595154,
          0.06306431442499161,
          0.08508996665477753,
          0.08634616434574127
         ],
         "y": [
          0.45551058650016785,
          0.4285215735435486,
          0.4018996059894562,
          0.4198099970817566,
          0.372764527797699,
          0.36161983013153076,
          0.3933696448802948,
          0.382548987865448,
          0.40405821800231934,
          0.43053776025772095,
          0.42096003890037537,
          0.4155861735343933,
          0.4324662983417511,
          0.39604705572128296,
          0.4117322564125061,
          0.39475560188293457,
          0.38944047689437866,
          0.3997381925582886,
          0.3809068500995636,
          0.42145591974258423
         ],
         "z": [
          0.3566592037677765,
          0.3217518925666809,
          0.37644365429878235,
          0.33487385511398315,
          0.3105398416519165,
          0.26189249753952026,
          0.17709994316101074,
          0.09257690608501434,
          0.039461009204387665,
          0.03453723341226578,
          0.02630782499909401,
          0.08672770857810974,
          0.13249072432518005,
          0.16053727269172668,
          0.20417797565460205,
          0.2033797949552536,
          0.2564489245414734,
          0.29160434007644653,
          0.304943323135376,
          0.3168659806251526
         ]
        },
        {
         "line": {
          "color": [
           0,
           1,
           2,
           3,
           4,
           5,
           6,
           7,
           8,
           9,
           10,
           11,
           12,
           13,
           14,
           15,
           16,
           17,
           18,
           19
          ],
          "colorscale": [
           [
            0,
            "rgb(75, 41, 145)"
           ],
           [
            0.16666666666666666,
            "rgb(135, 44, 162)"
           ],
           [
            0.3333333333333333,
            "rgb(192, 54, 157)"
           ],
           [
            0.5,
            "rgb(234, 79, 136)"
           ],
           [
            0.6666666666666666,
            "rgb(250, 120, 118)"
           ],
           [
            0.8333333333333334,
            "rgb(246, 169, 122)"
           ],
           [
            1,
            "rgb(237, 217, 163)"
           ]
          ],
          "width": 2
         },
         "mode": "lines",
         "name": "Generated",
         "type": "scatter3d",
         "x": [
          0.4562917649745941,
          0.4412193298339844,
          0.4130003750324249,
          0.352469801902771,
          0.2961019277572632,
          0.229420006275177,
          0.1457282155752182,
          0.08729085326194763,
          0.03637636452913284,
          0.05284105986356735,
          0.04526412487030029,
          0.060679275542497635,
          0.05913563072681427,
          0.09383585304021835,
          0.08256913721561432,
          0.08462333679199219,
          0.10248089581727982,
          0.1264333426952362,
          0.1418183445930481,
          0.14459781348705292
         ],
         "y": [
          0.6284669637680054,
          0.6141231060028076,
          0.5905784964561462,
          0.5887903571128845,
          0.5103606581687927,
          0.4981066584587097,
          0.49826204776763916,
          0.4618845582008362,
          0.4434986710548401,
          0.4336846172809601,
          0.4041348695755005,
          0.4247511029243469,
          0.4030807912349701,
          0.4015956521034241,
          0.4359612464904785,
          0.40461525321006775,
          0.4338718056678772,
          0.46110233664512634,
          0.43553608655929565,
          0.4414850175380707
         ],
         "z": [
          0.6222878694534302,
          0.5841854810714722,
          0.5656826496124268,
          0.5117893815040588,
          0.4772178530693054,
          0.3886876702308655,
          0.3258669674396515,
          0.2143954336643219,
          0.12837496399879456,
          0.028830155730247498,
          0.02773916721343994,
          0.07184931635856628,
          0.09434427320957184,
          0.11044562608003616,
          0.12422480434179306,
          0.1426616907119751,
          0.16114100813865662,
          0.18577390909194946,
          0.20404693484306335,
          0.2334909290075302
         ]
        },
        {
         "line": {
          "color": [
           0,
           1,
           2,
           3,
           4,
           5,
           6,
           7,
           8,
           9,
           10,
           11,
           12,
           13,
           14,
           15,
           16,
           17,
           18,
           19
          ],
          "colorscale": [
           [
            0,
            "rgb(75, 41, 145)"
           ],
           [
            0.16666666666666666,
            "rgb(135, 44, 162)"
           ],
           [
            0.3333333333333333,
            "rgb(192, 54, 157)"
           ],
           [
            0.5,
            "rgb(234, 79, 136)"
           ],
           [
            0.6666666666666666,
            "rgb(250, 120, 118)"
           ],
           [
            0.8333333333333334,
            "rgb(246, 169, 122)"
           ],
           [
            1,
            "rgb(237, 217, 163)"
           ]
          ],
          "width": 2
         },
         "mode": "lines",
         "name": "Generated",
         "type": "scatter3d",
         "x": [
          0.6308883428573608,
          0.5889078378677368,
          0.474216490983963,
          0.40466779470443726,
          0.3015787601470947,
          0.2189367413520813,
          0.11882095783948898,
          0.06459421664476395,
          0.015060670673847198,
          0.028828471899032593,
          0.024368315935134888,
          0.05247824639081955,
          0.05949285626411438,
          0.06791631877422333,
          0.09308785200119019,
          0.08927415311336517,
          0.12839671969413757,
          0.10825611650943756,
          0.11209109425544739,
          0.10213936865329742
         ],
         "y": [
          0.5433633327484131,
          0.5077519416809082,
          0.48973777890205383,
          0.48559635877609253,
          0.4742344617843628,
          0.4588502049446106,
          0.422516405582428,
          0.46035927534103394,
          0.41185688972473145,
          0.43347838521003723,
          0.4113694727420807,
          0.42816102504730225,
          0.41540980339050293,
          0.37660855054855347,
          0.37731319665908813,
          0.370376318693161,
          0.36304938793182373,
          0.3509838283061981,
          0.3573179841041565,
          0.349730521440506
         ],
         "z": [
          0.8240302801132202,
          0.7735998630523682,
          0.7269794940948486,
          0.6620994806289673,
          0.5724604725837708,
          0.4682117700576782,
          0.36570823192596436,
          0.2359207570552826,
          0.11059632152318954,
          0.021908342838287354,
          0.042928874492645264,
          0.0734594538807869,
          0.08981788158416748,
          0.12961766123771667,
          0.15840667486190796,
          0.18056870996952057,
          0.1855255365371704,
          0.2132088989019394,
          0.23428845405578613,
          0.23433120548725128
         ]
        },
        {
         "line": {
          "color": [
           0,
           1,
           2,
           3,
           4,
           5,
           6,
           7,
           8,
           9,
           10,
           11,
           12,
           13,
           14,
           15,
           16,
           17,
           18,
           19
          ],
          "colorscale": [
           [
            0,
            "rgb(75, 41, 145)"
           ],
           [
            0.16666666666666666,
            "rgb(135, 44, 162)"
           ],
           [
            0.3333333333333333,
            "rgb(192, 54, 157)"
           ],
           [
            0.5,
            "rgb(234, 79, 136)"
           ],
           [
            0.6666666666666666,
            "rgb(250, 120, 118)"
           ],
           [
            0.8333333333333334,
            "rgb(246, 169, 122)"
           ],
           [
            1,
            "rgb(237, 217, 163)"
           ]
          ],
          "width": 2
         },
         "mode": "lines",
         "name": "Generated",
         "type": "scatter3d",
         "x": [
          0.47742554545402527,
          0.4335631728172302,
          0.38657674193382263,
          0.30676567554473877,
          0.22069910168647766,
          0.15202605724334717,
          0.10967832058668137,
          0.04350922629237175,
          0.02579396963119507,
          0.043145522475242615,
          0.036532118916511536,
          0.04207553714513779,
          0.045641638338565826,
          0.064554862678051,
          0.07141655683517456,
          0.09561485052108765,
          0.10437966138124466,
          0.13422834873199463,
          0.158603698015213,
          0.16184385120868683
         ],
         "y": [
          0.6950618624687195,
          0.6821208000183105,
          0.6306036710739136,
          0.6145102381706238,
          0.5962445139884949,
          0.5593846440315247,
          0.5293862223625183,
          0.5015983581542969,
          0.4506083130836487,
          0.43090447783470154,
          0.4229901134967804,
          0.44228410720825195,
          0.440366268157959,
          0.46578359603881836,
          0.4751671254634857,
          0.5104171633720398,
          0.5147689580917358,
          0.5171171426773071,
          0.5077478885650635,
          0.5299975872039795
         ],
         "z": [
          0.6926527619361877,
          0.6499940156936646,
          0.6328312158584595,
          0.5590940117835999,
          0.5070819854736328,
          0.3930509686470032,
          0.2732016444206238,
          0.1940230429172516,
          0.08346547931432724,
          0.030806757509708405,
          0.04287956655025482,
          0.08501813560724258,
          0.12664347887039185,
          0.15995171666145325,
          0.20438724756240845,
          0.22768650949001312,
          0.2779974341392517,
          0.3033221662044525,
          0.3453162908554077,
          0.36188074946403503
         ]
        },
        {
         "line": {
          "color": [
           0,
           1,
           2,
           3,
           4,
           5,
           6,
           7,
           8,
           9,
           10,
           11,
           12,
           13,
           14,
           15,
           16,
           17,
           18,
           19
          ],
          "colorscale": [
           [
            0,
            "rgb(75, 41, 145)"
           ],
           [
            0.16666666666666666,
            "rgb(135, 44, 162)"
           ],
           [
            0.3333333333333333,
            "rgb(192, 54, 157)"
           ],
           [
            0.5,
            "rgb(234, 79, 136)"
           ],
           [
            0.6666666666666666,
            "rgb(250, 120, 118)"
           ],
           [
            0.8333333333333334,
            "rgb(246, 169, 122)"
           ],
           [
            1,
            "rgb(237, 217, 163)"
           ]
          ],
          "width": 2
         },
         "mode": "lines",
         "name": "Generated",
         "type": "scatter3d",
         "x": [
          0.6663610339164734,
          0.601731538772583,
          0.5067826509475708,
          0.45401161909103394,
          0.3625986576080322,
          0.25105226039886475,
          0.15269321203231812,
          0.09411043673753738,
          0.019708886742591858,
          0.056177571415901184,
          0.02693486213684082,
          0.05116046220064163,
          0.05228078365325928,
          0.06240822374820709,
          0.1088872030377388,
          0.10849767923355103,
          0.13185417652130127,
          0.15825894474983215,
          0.19347313046455383,
          0.18777550756931305
         ],
         "y": [
          0.3805922865867615,
          0.35312914848327637,
          0.3677253723144531,
          0.3608766198158264,
          0.37123847007751465,
          0.3767625689506531,
          0.3908725380897522,
          0.40708673000335693,
          0.4496493935585022,
          0.4352113902568817,
          0.41665875911712646,
          0.4254947900772095,
          0.44250503182411194,
          0.4379042387008667,
          0.451851487159729,
          0.41210079193115234,
          0.4110550284385681,
          0.41385316848754883,
          0.4112388491630554,
          0.3637295365333557
         ],
         "z": [
          0.7317769527435303,
          0.6984096765518188,
          0.6411343812942505,
          0.5731558799743652,
          0.5006212592124939,
          0.4281110167503357,
          0.3198871612548828,
          0.23239579796791077,
          0.09574282914400101,
          0.025413677096366882,
          0.057397160679101944,
          0.09504338353872299,
          0.12972557544708252,
          0.2089381068944931,
          0.20298579335212708,
          0.25767529010772705,
          0.2564389109611511,
          0.27119800448417664,
          0.2936955988407135,
          0.28768065571784973
         ]
        },
        {
         "line": {
          "color": [
           0,
           1,
           2,
           3,
           4,
           5,
           6,
           7,
           8,
           9,
           10,
           11,
           12,
           13,
           14,
           15,
           16,
           17,
           18,
           19
          ],
          "colorscale": [
           [
            0,
            "rgb(75, 41, 145)"
           ],
           [
            0.16666666666666666,
            "rgb(135, 44, 162)"
           ],
           [
            0.3333333333333333,
            "rgb(192, 54, 157)"
           ],
           [
            0.5,
            "rgb(234, 79, 136)"
           ],
           [
            0.6666666666666666,
            "rgb(250, 120, 118)"
           ],
           [
            0.8333333333333334,
            "rgb(246, 169, 122)"
           ],
           [
            1,
            "rgb(237, 217, 163)"
           ]
          ],
          "width": 2
         },
         "mode": "lines",
         "name": "Generated",
         "type": "scatter3d",
         "x": [
          0.20405687391757965,
          0.1577310562133789,
          0.160172238945961,
          0.15912000834941864,
          0.10151510685682297,
          0.07956511527299881,
          0.04542337730526924,
          0.014084123075008392,
          0.02641155570745468,
          0.022849999368190765,
          0.03317255526781082,
          0.040059782564640045,
          0.02011001482605934,
          0.026812948286533356,
          0.06056055426597595,
          0.06978514790534973,
          0.10554071515798569,
          0.11763916164636612,
          0.14088693261146545,
          0.1521802544593811
         ],
         "y": [
          0.6169708371162415,
          0.5928541421890259,
          0.581067681312561,
          0.6181448101997375,
          0.5453948974609375,
          0.5164962410926819,
          0.5190697312355042,
          0.5066882967948914,
          0.4544832706451416,
          0.4310055375099182,
          0.44386327266693115,
          0.4908874034881592,
          0.5032269954681396,
          0.5003066062927246,
          0.5038076639175415,
          0.5219237804412842,
          0.5339909791946411,
          0.5650104284286499,
          0.5582560300827026,
          0.5455717444419861
         ],
         "z": [
          0.47633206844329834,
          0.4750216603279114,
          0.45355045795440674,
          0.4158481955528259,
          0.38780927658081055,
          0.2944464087486267,
          0.21625515818595886,
          0.1297549307346344,
          0.05402003973722458,
          0.03785806894302368,
          0.033733222633600235,
          0.08782526850700378,
          0.1149825006723404,
          0.14437919855117798,
          0.20200982689857483,
          0.24040822684764862,
          0.28138983249664307,
          0.31259605288505554,
          0.3748762309551239,
          0.3650968670845032
         ]
        },
        {
         "line": {
          "color": [
           0,
           1,
           2,
           3,
           4,
           5,
           6,
           7,
           8,
           9,
           10,
           11,
           12,
           13,
           14,
           15,
           16,
           17,
           18,
           19
          ],
          "colorscale": [
           [
            0,
            "rgb(75, 41, 145)"
           ],
           [
            0.16666666666666666,
            "rgb(135, 44, 162)"
           ],
           [
            0.3333333333333333,
            "rgb(192, 54, 157)"
           ],
           [
            0.5,
            "rgb(234, 79, 136)"
           ],
           [
            0.6666666666666666,
            "rgb(250, 120, 118)"
           ],
           [
            0.8333333333333334,
            "rgb(246, 169, 122)"
           ],
           [
            1,
            "rgb(237, 217, 163)"
           ]
          ],
          "width": 2
         },
         "mode": "lines",
         "name": "Generated",
         "type": "scatter3d",
         "x": [
          0.5329305529594421,
          0.5035648941993713,
          0.4419286847114563,
          0.38299357891082764,
          0.3115379810333252,
          0.23497074842453003,
          0.12318051606416702,
          0.07728932797908783,
          0.02946290373802185,
          0.05330223590135574,
          0.03632096201181412,
          0.05184607580304146,
          0.06570868194103241,
          0.08532693237066269,
          0.11442367732524872,
          0.11113615334033966,
          0.13539215922355652,
          0.15861882269382477,
          0.17160075902938843,
          0.20155172049999237
         ],
         "y": [
          0.5418418049812317,
          0.5385273694992065,
          0.5101139545440674,
          0.4820915460586548,
          0.4861615300178528,
          0.46777093410491943,
          0.4663233757019043,
          0.44492629170417786,
          0.4618351459503174,
          0.43826597929000854,
          0.413237065076828,
          0.4247753620147705,
          0.43703991174697876,
          0.4294614791870117,
          0.4630287289619446,
          0.4249734580516815,
          0.4294230341911316,
          0.4658818542957306,
          0.4463702440261841,
          0.4313700795173645
         ],
         "z": [
          0.6815220713615417,
          0.6409119367599487,
          0.5814785957336426,
          0.512345016002655,
          0.451565682888031,
          0.40035104751586914,
          0.29909536242485046,
          0.1830829381942749,
          0.07320567220449448,
          0.013526327908039093,
          0.054924242198467255,
          0.08313460648059845,
          0.11750290542840958,
          0.13857457041740417,
          0.16308490931987762,
          0.1966335028409958,
          0.23347783088684082,
          0.2722749710083008,
          0.2733267545700073,
          0.293684720993042
         ]
        },
        {
         "line": {
          "color": [
           0,
           1,
           2,
           3,
           4,
           5,
           6,
           7,
           8,
           9,
           10,
           11,
           12,
           13,
           14,
           15,
           16,
           17,
           18,
           19
          ],
          "colorscale": [
           [
            0,
            "rgb(75, 41, 145)"
           ],
           [
            0.16666666666666666,
            "rgb(135, 44, 162)"
           ],
           [
            0.3333333333333333,
            "rgb(192, 54, 157)"
           ],
           [
            0.5,
            "rgb(234, 79, 136)"
           ],
           [
            0.6666666666666666,
            "rgb(250, 120, 118)"
           ],
           [
            0.8333333333333334,
            "rgb(246, 169, 122)"
           ],
           [
            1,
            "rgb(237, 217, 163)"
           ]
          ],
          "width": 2
         },
         "mode": "lines",
         "name": "Generated",
         "type": "scatter3d",
         "x": [
          0.5248664021492004,
          0.46297091245651245,
          0.4045836627483368,
          0.33936744928359985,
          0.24987147748470306,
          0.1690804362297058,
          0.1055585965514183,
          0.044663771986961365,
          0.03155476599931717,
          0.03993696719408035,
          0.03847181797027588,
          0.03536403179168701,
          0.036212414503097534,
          0.08721714466810226,
          0.09612230956554413,
          0.0860489159822464,
          0.12057328969240189,
          0.10520672053098679,
          0.1145927757024765,
          0.13974259793758392
         ],
         "y": [
          0.6846998333930969,
          0.6751516461372375,
          0.6262632608413696,
          0.6093436479568481,
          0.5857967734336853,
          0.5488430261611938,
          0.4849849343299866,
          0.491454154253006,
          0.4649290442466736,
          0.4385533034801483,
          0.4123168885707855,
          0.448977530002594,
          0.44450876116752625,
          0.4542485475540161,
          0.4752757251262665,
          0.4716857373714447,
          0.48306405544281006,
          0.49843791127204895,
          0.5000016689300537,
          0.5096749067306519
         ],
         "z": [
          0.7352772355079651,
          0.6890332698822021,
          0.6536378860473633,
          0.5916377902030945,
          0.5023666024208069,
          0.4137551188468933,
          0.3206992745399475,
          0.1856924295425415,
          0.05408089607954025,
          0.008074186742305756,
          0.0421137660741806,
          0.07777981460094452,
          0.10576214641332626,
          0.15106338262557983,
          0.19623026251792908,
          0.20791034400463104,
          0.2350023090839386,
          0.2690002918243408,
          0.30321386456489563,
          0.2841176986694336
         ]
        },
        {
         "line": {
          "color": [
           0,
           1,
           2,
           3,
           4,
           5,
           6,
           7,
           8,
           9,
           10,
           11,
           12,
           13,
           14,
           15,
           16,
           17,
           18,
           19
          ],
          "colorscale": [
           [
            0,
            "rgb(75, 41, 145)"
           ],
           [
            0.16666666666666666,
            "rgb(135, 44, 162)"
           ],
           [
            0.3333333333333333,
            "rgb(192, 54, 157)"
           ],
           [
            0.5,
            "rgb(234, 79, 136)"
           ],
           [
            0.6666666666666666,
            "rgb(250, 120, 118)"
           ],
           [
            0.8333333333333334,
            "rgb(246, 169, 122)"
           ],
           [
            1,
            "rgb(237, 217, 163)"
           ]
          ],
          "width": 2
         },
         "mode": "lines",
         "name": "Generated",
         "type": "scatter3d",
         "x": [
          0.6109082698822021,
          0.5723826885223389,
          0.4997439384460449,
          0.4301337003707886,
          0.35942542552948,
          0.26025786995887756,
          0.16526956856250763,
          0.09266118705272675,
          0.044716544449329376,
          0.043711982667446136,
          0.04342954605817795,
          0.04715435206890106,
          0.05571378022432327,
          0.06031769514083862,
          0.09297630190849304,
          0.08675506711006165,
          0.11356828361749649,
          0.1542220413684845,
          0.1862754225730896,
          0.17974255979061127
         ],
         "y": [
          0.5911745429039001,
          0.5845990180969238,
          0.5797871351242065,
          0.5617578625679016,
          0.5291643738746643,
          0.4866090416908264,
          0.49273407459259033,
          0.4582216739654541,
          0.4757867455482483,
          0.437163382768631,
          0.41352787613868713,
          0.4177059531211853,
          0.4257776141166687,
          0.427741676568985,
          0.4952778220176697,
          0.45550817251205444,
          0.45334404706954956,
          0.4947258532047272,
          0.4705154299736023,
          0.47757187485694885
         ],
         "z": [
          0.7326209545135498,
          0.71174556016922,
          0.6307755708694458,
          0.5915812849998474,
          0.5096895098686218,
          0.4240996837615967,
          0.33127859234809875,
          0.24626392126083374,
          0.11702989786863327,
          0.01723039150238037,
          0.04617299884557724,
          0.07843312621116638,
          0.07747849822044373,
          0.11952273547649384,
          0.12499450892210007,
          0.14803579449653625,
          0.1974484920501709,
          0.20755089819431305,
          0.22895723581314087,
          0.2532137930393219
         ]
        },
        {
         "line": {
          "color": [
           0,
           1,
           2,
           3,
           4,
           5,
           6,
           7,
           8,
           9,
           10,
           11,
           12,
           13,
           14,
           15,
           16,
           17,
           18,
           19
          ],
          "colorscale": [
           [
            0,
            "rgb(75, 41, 145)"
           ],
           [
            0.16666666666666666,
            "rgb(135, 44, 162)"
           ],
           [
            0.3333333333333333,
            "rgb(192, 54, 157)"
           ],
           [
            0.5,
            "rgb(234, 79, 136)"
           ],
           [
            0.6666666666666666,
            "rgb(250, 120, 118)"
           ],
           [
            0.8333333333333334,
            "rgb(246, 169, 122)"
           ],
           [
            1,
            "rgb(237, 217, 163)"
           ]
          ],
          "width": 2
         },
         "mode": "lines",
         "name": "Generated",
         "type": "scatter3d",
         "x": [
          0.5085024237632751,
          0.469221830368042,
          0.42921900749206543,
          0.3619546890258789,
          0.31245875358581543,
          0.23552636802196503,
          0.1504359394311905,
          0.07910440862178802,
          0.019165702164173126,
          0.049374837428331375,
          0.03161942958831787,
          0.06298820674419403,
          0.05560404807329178,
          0.07946518808603287,
          0.12372031062841415,
          0.1283387690782547,
          0.14217621088027954,
          0.1861923187971115,
          0.2203105092048645,
          0.2427711933851242
         ],
         "y": [
          0.5560744404792786,
          0.5451051592826843,
          0.5632433295249939,
          0.5125402212142944,
          0.485909104347229,
          0.45513033866882324,
          0.46048861742019653,
          0.4300708472728729,
          0.45956605672836304,
          0.43151766061782837,
          0.42293328046798706,
          0.44853609800338745,
          0.4525590240955353,
          0.44932806491851807,
          0.4825226664543152,
          0.4811878502368927,
          0.48630404472351074,
          0.48962122201919556,
          0.49065935611724854,
          0.48400935530662537
         ],
         "z": [
          0.6728169322013855,
          0.6442015767097473,
          0.5808765888214111,
          0.5180590748786926,
          0.4656525254249573,
          0.3943517208099365,
          0.3131505250930786,
          0.17421776056289673,
          0.10827320069074631,
          0.020219378173351288,
          0.050146788358688354,
          0.1004369854927063,
          0.11750657856464386,
          0.16794200241565704,
          0.20671340823173523,
          0.24285797774791718,
          0.2761123776435852,
          0.31444841623306274,
          0.3435131013393402,
          0.3628886938095093
         ]
        },
        {
         "line": {
          "color": [
           0,
           1,
           2,
           3,
           4,
           5,
           6,
           7,
           8,
           9,
           10,
           11,
           12,
           13,
           14,
           15,
           16,
           17,
           18,
           19
          ],
          "colorscale": [
           [
            0,
            "rgb(75, 41, 145)"
           ],
           [
            0.16666666666666666,
            "rgb(135, 44, 162)"
           ],
           [
            0.3333333333333333,
            "rgb(192, 54, 157)"
           ],
           [
            0.5,
            "rgb(234, 79, 136)"
           ],
           [
            0.6666666666666666,
            "rgb(250, 120, 118)"
           ],
           [
            0.8333333333333334,
            "rgb(246, 169, 122)"
           ],
           [
            1,
            "rgb(237, 217, 163)"
           ]
          ],
          "width": 2
         },
         "mode": "lines",
         "name": "Generated",
         "type": "scatter3d",
         "x": [
          0.2226720005273819,
          0.2221895009279251,
          0.19120296835899353,
          0.1783018261194229,
          0.13900671899318695,
          0.08479173481464386,
          0.05395182594656944,
          0.034358616918325424,
          0.0063909366726875305,
          0.05581234395503998,
          0.02915140986442566,
          0.029956653714179993,
          0.02872401475906372,
          0.042169876396656036,
          0.06271067261695862,
          0.059243325144052505,
          0.08536650985479355,
          0.10645335167646408,
          0.13228058815002441,
          0.14975564181804657
         ],
         "y": [
          0.4478222727775574,
          0.4613053798675537,
          0.4487530291080475,
          0.44496214389801025,
          0.41713613271713257,
          0.4255736470222473,
          0.4270905554294586,
          0.42631787061691284,
          0.41927215456962585,
          0.4331170618534088,
          0.4450743496417999,
          0.4478384852409363,
          0.4437233805656433,
          0.4125919044017792,
          0.44119125604629517,
          0.4275205433368683,
          0.4505290985107422,
          0.43065157532691956,
          0.3835015892982483,
          0.4053196907043457
         ],
         "z": [
          0.47130632400512695,
          0.4685328006744385,
          0.4561990797519684,
          0.4041931629180908,
          0.3782896399497986,
          0.28785791993141174,
          0.203693225979805,
          0.12421445548534393,
          0.05389314144849777,
          0.04659219831228256,
          0.04202164709568024,
          0.10131898522377014,
          0.1542634665966034,
          0.19183048605918884,
          0.23211517930030823,
          0.25672852993011475,
          0.29345768690109253,
          0.35197290778160095,
          0.39682430028915405,
          0.3965997099876404
         ]
        },
        {
         "line": {
          "color": [
           0,
           1,
           2,
           3,
           4,
           5,
           6,
           7,
           8,
           9,
           10,
           11,
           12,
           13,
           14,
           15,
           16,
           17,
           18,
           19
          ],
          "colorscale": [
           [
            0,
            "rgb(75, 41, 145)"
           ],
           [
            0.16666666666666666,
            "rgb(135, 44, 162)"
           ],
           [
            0.3333333333333333,
            "rgb(192, 54, 157)"
           ],
           [
            0.5,
            "rgb(234, 79, 136)"
           ],
           [
            0.6666666666666666,
            "rgb(250, 120, 118)"
           ],
           [
            0.8333333333333334,
            "rgb(246, 169, 122)"
           ],
           [
            1,
            "rgb(237, 217, 163)"
           ]
          ],
          "width": 2
         },
         "mode": "lines",
         "name": "Generated",
         "type": "scatter3d",
         "x": [
          0.5953384041786194,
          0.5431990027427673,
          0.46586403250694275,
          0.41257017850875854,
          0.3301297426223755,
          0.23244857788085938,
          0.14784252643585205,
          0.08692149817943573,
          0.030796721577644348,
          0.044421691447496414,
          0.026597842574119568,
          0.04960132762789726,
          0.06774798035621643,
          0.08828764408826828,
          0.11669553816318512,
          0.15150810778141022,
          0.13155239820480347,
          0.17537924647331238,
          0.18450801074504852,
          0.16529828310012817
         ],
         "y": [
          0.3544413447380066,
          0.36768072843551636,
          0.36366525292396545,
          0.39060574769973755,
          0.3633926510810852,
          0.36325621604919434,
          0.3972523808479309,
          0.4268245995044708,
          0.40975552797317505,
          0.43420034646987915,
          0.415764182806015,
          0.39981764554977417,
          0.41467559337615967,
          0.41590654850006104,
          0.4002399444580078,
          0.3941349387168884,
          0.38727301359176636,
          0.3815283179283142,
          0.3493463099002838,
          0.36595550179481506
         ],
         "z": [
          0.7158250212669373,
          0.6845727562904358,
          0.6228398084640503,
          0.5399302244186401,
          0.4963865280151367,
          0.40390467643737793,
          0.3124378025531769,
          0.20818835496902466,
          0.12818509340286255,
          0.03321986645460129,
          0.06070367619395256,
          0.102211594581604,
          0.1291826367378235,
          0.18643181025981903,
          0.19937419891357422,
          0.22442926466464996,
          0.28951987624168396,
          0.2861264646053314,
          0.2830390930175781,
          0.29027071595191956
         ]
        },
        {
         "line": {
          "color": [
           0,
           1,
           2,
           3,
           4,
           5,
           6,
           7,
           8,
           9,
           10,
           11,
           12,
           13,
           14,
           15,
           16,
           17,
           18,
           19
          ],
          "colorscale": [
           [
            0,
            "rgb(75, 41, 145)"
           ],
           [
            0.16666666666666666,
            "rgb(135, 44, 162)"
           ],
           [
            0.3333333333333333,
            "rgb(192, 54, 157)"
           ],
           [
            0.5,
            "rgb(234, 79, 136)"
           ],
           [
            0.6666666666666666,
            "rgb(250, 120, 118)"
           ],
           [
            0.8333333333333334,
            "rgb(246, 169, 122)"
           ],
           [
            1,
            "rgb(237, 217, 163)"
           ]
          ],
          "width": 2
         },
         "mode": "lines",
         "name": "Generated",
         "type": "scatter3d",
         "x": [
          0.630955159664154,
          0.5981003642082214,
          0.48124566674232483,
          0.41895705461502075,
          0.3320516347885132,
          0.2294684499502182,
          0.1460002213716507,
          0.06581009924411774,
          0.026821091771125793,
          0.04046943783760071,
          0.022151164710521698,
          0.0361386239528656,
          0.04412383586168289,
          0.07855293154716492,
          0.0865970104932785,
          0.11289176344871521,
          0.13309234380722046,
          0.159796804189682,
          0.20413577556610107,
          0.2158442586660385
         ],
         "y": [
          0.8518341779708862,
          0.8018059134483337,
          0.768653392791748,
          0.7381770610809326,
          0.6642691493034363,
          0.6474322080612183,
          0.6001014709472656,
          0.5418108701705933,
          0.4662432074546814,
          0.4350689947605133,
          0.4032846987247467,
          0.4421803951263428,
          0.4678772985935211,
          0.4790634512901306,
          0.5031510591506958,
          0.518081784248352,
          0.5452461838722229,
          0.5946063995361328,
          0.5893253684043884,
          0.5682879090309143
         ],
         "z": [
          0.8036037683486938,
          0.7808361053466797,
          0.7402539253234863,
          0.6738026738166809,
          0.6014203429222107,
          0.501495361328125,
          0.3835386633872986,
          0.24357250332832336,
          0.11179613322019577,
          0.020535282790660858,
          0.03888188302516937,
          0.08718222379684448,
          0.12381100654602051,
          0.1452808827161789,
          0.2077379822731018,
          0.24345548450946808,
          0.27929651737213135,
          0.3298816382884979,
          0.3588719069957733,
          0.3642154633998871
         ]
        },
        {
         "line": {
          "color": [
           0,
           1,
           2,
           3,
           4,
           5,
           6,
           7,
           8,
           9,
           10,
           11,
           12,
           13,
           14,
           15,
           16,
           17,
           18,
           19
          ],
          "colorscale": [
           [
            0,
            "rgb(75, 41, 145)"
           ],
           [
            0.16666666666666666,
            "rgb(135, 44, 162)"
           ],
           [
            0.3333333333333333,
            "rgb(192, 54, 157)"
           ],
           [
            0.5,
            "rgb(234, 79, 136)"
           ],
           [
            0.6666666666666666,
            "rgb(250, 120, 118)"
           ],
           [
            0.8333333333333334,
            "rgb(246, 169, 122)"
           ],
           [
            1,
            "rgb(237, 217, 163)"
           ]
          ],
          "width": 2
         },
         "mode": "lines",
         "name": "Generated",
         "type": "scatter3d",
         "x": [
          0.451354056596756,
          0.42005473375320435,
          0.3750626742839813,
          0.3221657872200012,
          0.28325900435447693,
          0.21588274836540222,
          0.13567489385604858,
          0.07568304240703583,
          0.04733635485172272,
          0.050682082772254944,
          0.03611699491739273,
          0.0514618456363678,
          0.05800642818212509,
          0.07146117836236954,
          0.09654824435710907,
          0.10917560756206512,
          0.14468035101890564,
          0.15226785838603973,
          0.195614755153656,
          0.22583945095539093
         ],
         "y": [
          0.5478528141975403,
          0.5507585406303406,
          0.529123067855835,
          0.5142548680305481,
          0.4950161576271057,
          0.45313429832458496,
          0.4578341543674469,
          0.44968852400779724,
          0.4564339518547058,
          0.447087824344635,
          0.42251524329185486,
          0.4371471405029297,
          0.4632342755794525,
          0.4659996032714844,
          0.5007538795471191,
          0.4884590804576874,
          0.483301043510437,
          0.5077142715454102,
          0.47530660033226013,
          0.47513601183891296
         ],
         "z": [
          0.6249105334281921,
          0.6024190783500671,
          0.5731422901153564,
          0.5052523016929626,
          0.4566606283187866,
          0.36948758363723755,
          0.29638808965682983,
          0.1847057342529297,
          0.09855804592370987,
          0.023411564528942108,
          0.04292351007461548,
          0.0838354080915451,
          0.11606736481189728,
          0.17011451721191406,
          0.19666874408721924,
          0.23117102682590485,
          0.2667737603187561,
          0.29702261090278625,
          0.3334670662879944,
          0.3161388039588928
         ]
        },
        {
         "line": {
          "color": [
           0,
           1,
           2,
           3,
           4,
           5,
           6,
           7,
           8,
           9,
           10,
           11,
           12,
           13,
           14,
           15,
           16,
           17,
           18,
           19
          ],
          "colorscale": [
           [
            0,
            "rgb(75, 41, 145)"
           ],
           [
            0.16666666666666666,
            "rgb(135, 44, 162)"
           ],
           [
            0.3333333333333333,
            "rgb(192, 54, 157)"
           ],
           [
            0.5,
            "rgb(234, 79, 136)"
           ],
           [
            0.6666666666666666,
            "rgb(250, 120, 118)"
           ],
           [
            0.8333333333333334,
            "rgb(246, 169, 122)"
           ],
           [
            1,
            "rgb(237, 217, 163)"
           ]
          ],
          "width": 2
         },
         "mode": "lines",
         "name": "Generated",
         "type": "scatter3d",
         "x": [
          0.7104100584983826,
          0.6195547580718994,
          0.5621055960655212,
          0.475946843624115,
          0.33015263080596924,
          0.24561212956905365,
          0.12659084796905518,
          0.05827098339796066,
          0.015145428478717804,
          0.04299710690975189,
          0.02689417451620102,
          0.04534482955932617,
          0.06538420170545578,
          0.07507359981536865,
          0.10497552901506424,
          0.11015775799751282,
          0.14389729499816895,
          0.18000103533267975,
          0.18783941864967346,
          0.19859068095684052
         ],
         "y": [
          0.6624203324317932,
          0.6084535121917725,
          0.5783883929252625,
          0.5492757558822632,
          0.5190764665603638,
          0.4933687448501587,
          0.46695569157600403,
          0.47262275218963623,
          0.4358193278312683,
          0.42526975274086,
          0.4232032597064972,
          0.43978703022003174,
          0.43264883756637573,
          0.44769251346588135,
          0.46652841567993164,
          0.4768233597278595,
          0.489810585975647,
          0.4728713035583496,
          0.47253933548927307,
          0.509967565536499
         ],
         "z": [
          0.898527979850769,
          0.8387652635574341,
          0.7863781452178955,
          0.7093583941459656,
          0.631022572517395,
          0.49295854568481445,
          0.3871621787548065,
          0.24174675345420837,
          0.11265601962804794,
          0.015745870769023895,
          0.05657287314534187,
          0.10490262508392334,
          0.1333586722612381,
          0.1957688331604004,
          0.230927973985672,
          0.27686604857444763,
          0.287908136844635,
          0.3049314022064209,
          0.36361566185951233,
          0.3687916696071625
         ]
        },
        {
         "line": {
          "color": [
           0,
           1,
           2,
           3,
           4,
           5,
           6,
           7,
           8,
           9,
           10,
           11,
           12,
           13,
           14,
           15,
           16,
           17,
           18,
           19
          ],
          "colorscale": [
           [
            0,
            "rgb(75, 41, 145)"
           ],
           [
            0.16666666666666666,
            "rgb(135, 44, 162)"
           ],
           [
            0.3333333333333333,
            "rgb(192, 54, 157)"
           ],
           [
            0.5,
            "rgb(234, 79, 136)"
           ],
           [
            0.6666666666666666,
            "rgb(250, 120, 118)"
           ],
           [
            0.8333333333333334,
            "rgb(246, 169, 122)"
           ],
           [
            1,
            "rgb(237, 217, 163)"
           ]
          ],
          "width": 2
         },
         "mode": "lines",
         "name": "Generated",
         "type": "scatter3d",
         "x": [
          0.5985216498374939,
          0.5537378787994385,
          0.4666315019130707,
          0.41085290908813477,
          0.33337855339050293,
          0.2512345314025879,
          0.15214933454990387,
          0.09383757412433624,
          0.0362897589802742,
          0.03917916491627693,
          0.03631894290447235,
          0.05077194422483444,
          0.05732251703739166,
          0.08396879583597183,
          0.10287518799304962,
          0.08133493363857269,
          0.0962110087275505,
          0.12388890981674194,
          0.14264293015003204,
          0.1377095878124237
         ],
         "y": [
          0.41701540350914,
          0.4255889058113098,
          0.43810904026031494,
          0.4202379584312439,
          0.43967920541763306,
          0.38429373502731323,
          0.40958258509635925,
          0.41141995787620544,
          0.4303550720214844,
          0.4400333762168884,
          0.41213253140449524,
          0.4149438738822937,
          0.40825146436691284,
          0.37134987115859985,
          0.3634713292121887,
          0.34010088443756104,
          0.3214476704597473,
          0.3273922801017761,
          0.34495288133621216,
          0.3078952431678772
         ],
         "z": [
          0.6912733316421509,
          0.6676454544067383,
          0.6202343702316284,
          0.5513079762458801,
          0.4849255681037903,
          0.42775750160217285,
          0.33966946601867676,
          0.22140541672706604,
          0.11611805111169815,
          0.022866830229759216,
          0.03727269917726517,
          0.07126110792160034,
          0.080209881067276,
          0.12090825289487839,
          0.12880992889404297,
          0.14663857221603394,
          0.16855934262275696,
          0.19884517788887024,
          0.1714947521686554,
          0.18828757107257843
         ]
        }
       ],
       "layout": {
        "coloraxis": {
         "showscale": false
        },
        "font": {
         "color": "white",
         "family": "Roboto, monospace",
         "size": 12
        },
        "height": 800,
        "margin": {
         "b": 50,
         "l": 5,
         "r": 5,
         "t": 50
        },
        "scene": {
         "aspectratio": {
          "x": 1,
          "y": 1,
          "z": 1
         },
         "camera": {
          "eye": {
           "x": -1.5,
           "y": 1.5,
           "z": 1.5
          },
          "up": {
           "x": 0,
           "y": 0,
           "z": 1
          }
         }
        },
        "showlegend": false,
        "template": {
         "data": {
          "bar": [
           {
            "error_x": {
             "color": "#f2f5fa"
            },
            "error_y": {
             "color": "#f2f5fa"
            },
            "marker": {
             "line": {
              "color": "rgb(17,17,17)",
              "width": 0.5
             },
             "pattern": {
              "fillmode": "overlay",
              "size": 10,
              "solidity": 0.2
             }
            },
            "type": "bar"
           }
          ],
          "barpolar": [
           {
            "marker": {
             "line": {
              "color": "rgb(17,17,17)",
              "width": 0.5
             },
             "pattern": {
              "fillmode": "overlay",
              "size": 10,
              "solidity": 0.2
             }
            },
            "type": "barpolar"
           }
          ],
          "carpet": [
           {
            "aaxis": {
             "endlinecolor": "#A2B1C6",
             "gridcolor": "#506784",
             "linecolor": "#506784",
             "minorgridcolor": "#506784",
             "startlinecolor": "#A2B1C6"
            },
            "baxis": {
             "endlinecolor": "#A2B1C6",
             "gridcolor": "#506784",
             "linecolor": "#506784",
             "minorgridcolor": "#506784",
             "startlinecolor": "#A2B1C6"
            },
            "type": "carpet"
           }
          ],
          "choropleth": [
           {
            "colorbar": {
             "outlinewidth": 0,
             "ticks": ""
            },
            "type": "choropleth"
           }
          ],
          "contour": [
           {
            "colorbar": {
             "outlinewidth": 0,
             "ticks": ""
            },
            "colorscale": [
             [
              0,
              "#0d0887"
             ],
             [
              0.1111111111111111,
              "#46039f"
             ],
             [
              0.2222222222222222,
              "#7201a8"
             ],
             [
              0.3333333333333333,
              "#9c179e"
             ],
             [
              0.4444444444444444,
              "#bd3786"
             ],
             [
              0.5555555555555556,
              "#d8576b"
             ],
             [
              0.6666666666666666,
              "#ed7953"
             ],
             [
              0.7777777777777778,
              "#fb9f3a"
             ],
             [
              0.8888888888888888,
              "#fdca26"
             ],
             [
              1,
              "#f0f921"
             ]
            ],
            "type": "contour"
           }
          ],
          "contourcarpet": [
           {
            "colorbar": {
             "outlinewidth": 0,
             "ticks": ""
            },
            "type": "contourcarpet"
           }
          ],
          "heatmap": [
           {
            "colorbar": {
             "outlinewidth": 0,
             "ticks": ""
            },
            "colorscale": [
             [
              0,
              "#0d0887"
             ],
             [
              0.1111111111111111,
              "#46039f"
             ],
             [
              0.2222222222222222,
              "#7201a8"
             ],
             [
              0.3333333333333333,
              "#9c179e"
             ],
             [
              0.4444444444444444,
              "#bd3786"
             ],
             [
              0.5555555555555556,
              "#d8576b"
             ],
             [
              0.6666666666666666,
              "#ed7953"
             ],
             [
              0.7777777777777778,
              "#fb9f3a"
             ],
             [
              0.8888888888888888,
              "#fdca26"
             ],
             [
              1,
              "#f0f921"
             ]
            ],
            "type": "heatmap"
           }
          ],
          "heatmapgl": [
           {
            "colorbar": {
             "outlinewidth": 0,
             "ticks": ""
            },
            "colorscale": [
             [
              0,
              "#0d0887"
             ],
             [
              0.1111111111111111,
              "#46039f"
             ],
             [
              0.2222222222222222,
              "#7201a8"
             ],
             [
              0.3333333333333333,
              "#9c179e"
             ],
             [
              0.4444444444444444,
              "#bd3786"
             ],
             [
              0.5555555555555556,
              "#d8576b"
             ],
             [
              0.6666666666666666,
              "#ed7953"
             ],
             [
              0.7777777777777778,
              "#fb9f3a"
             ],
             [
              0.8888888888888888,
              "#fdca26"
             ],
             [
              1,
              "#f0f921"
             ]
            ],
            "type": "heatmapgl"
           }
          ],
          "histogram": [
           {
            "marker": {
             "pattern": {
              "fillmode": "overlay",
              "size": 10,
              "solidity": 0.2
             }
            },
            "type": "histogram"
           }
          ],
          "histogram2d": [
           {
            "colorbar": {
             "outlinewidth": 0,
             "ticks": ""
            },
            "colorscale": [
             [
              0,
              "#0d0887"
             ],
             [
              0.1111111111111111,
              "#46039f"
             ],
             [
              0.2222222222222222,
              "#7201a8"
             ],
             [
              0.3333333333333333,
              "#9c179e"
             ],
             [
              0.4444444444444444,
              "#bd3786"
             ],
             [
              0.5555555555555556,
              "#d8576b"
             ],
             [
              0.6666666666666666,
              "#ed7953"
             ],
             [
              0.7777777777777778,
              "#fb9f3a"
             ],
             [
              0.8888888888888888,
              "#fdca26"
             ],
             [
              1,
              "#f0f921"
             ]
            ],
            "type": "histogram2d"
           }
          ],
          "histogram2dcontour": [
           {
            "colorbar": {
             "outlinewidth": 0,
             "ticks": ""
            },
            "colorscale": [
             [
              0,
              "#0d0887"
             ],
             [
              0.1111111111111111,
              "#46039f"
             ],
             [
              0.2222222222222222,
              "#7201a8"
             ],
             [
              0.3333333333333333,
              "#9c179e"
             ],
             [
              0.4444444444444444,
              "#bd3786"
             ],
             [
              0.5555555555555556,
              "#d8576b"
             ],
             [
              0.6666666666666666,
              "#ed7953"
             ],
             [
              0.7777777777777778,
              "#fb9f3a"
             ],
             [
              0.8888888888888888,
              "#fdca26"
             ],
             [
              1,
              "#f0f921"
             ]
            ],
            "type": "histogram2dcontour"
           }
          ],
          "mesh3d": [
           {
            "colorbar": {
             "outlinewidth": 0,
             "ticks": ""
            },
            "type": "mesh3d"
           }
          ],
          "parcoords": [
           {
            "line": {
             "colorbar": {
              "outlinewidth": 0,
              "ticks": ""
             }
            },
            "type": "parcoords"
           }
          ],
          "pie": [
           {
            "automargin": true,
            "type": "pie"
           }
          ],
          "scatter": [
           {
            "marker": {
             "line": {
              "color": "#283442"
             }
            },
            "type": "scatter"
           }
          ],
          "scatter3d": [
           {
            "line": {
             "colorbar": {
              "outlinewidth": 0,
              "ticks": ""
             }
            },
            "marker": {
             "colorbar": {
              "outlinewidth": 0,
              "ticks": ""
             }
            },
            "type": "scatter3d"
           }
          ],
          "scattercarpet": [
           {
            "marker": {
             "colorbar": {
              "outlinewidth": 0,
              "ticks": ""
             }
            },
            "type": "scattercarpet"
           }
          ],
          "scattergeo": [
           {
            "marker": {
             "colorbar": {
              "outlinewidth": 0,
              "ticks": ""
             }
            },
            "type": "scattergeo"
           }
          ],
          "scattergl": [
           {
            "marker": {
             "line": {
              "color": "#283442"
             }
            },
            "type": "scattergl"
           }
          ],
          "scattermapbox": [
           {
            "marker": {
             "colorbar": {
              "outlinewidth": 0,
              "ticks": ""
             }
            },
            "type": "scattermapbox"
           }
          ],
          "scatterpolar": [
           {
            "marker": {
             "colorbar": {
              "outlinewidth": 0,
              "ticks": ""
             }
            },
            "type": "scatterpolar"
           }
          ],
          "scatterpolargl": [
           {
            "marker": {
             "colorbar": {
              "outlinewidth": 0,
              "ticks": ""
             }
            },
            "type": "scatterpolargl"
           }
          ],
          "scatterternary": [
           {
            "marker": {
             "colorbar": {
              "outlinewidth": 0,
              "ticks": ""
             }
            },
            "type": "scatterternary"
           }
          ],
          "surface": [
           {
            "colorbar": {
             "outlinewidth": 0,
             "ticks": ""
            },
            "colorscale": [
             [
              0,
              "#0d0887"
             ],
             [
              0.1111111111111111,
              "#46039f"
             ],
             [
              0.2222222222222222,
              "#7201a8"
             ],
             [
              0.3333333333333333,
              "#9c179e"
             ],
             [
              0.4444444444444444,
              "#bd3786"
             ],
             [
              0.5555555555555556,
              "#d8576b"
             ],
             [
              0.6666666666666666,
              "#ed7953"
             ],
             [
              0.7777777777777778,
              "#fb9f3a"
             ],
             [
              0.8888888888888888,
              "#fdca26"
             ],
             [
              1,
              "#f0f921"
             ]
            ],
            "type": "surface"
           }
          ],
          "table": [
           {
            "cells": {
             "fill": {
              "color": "#506784"
             },
             "line": {
              "color": "rgb(17,17,17)"
             }
            },
            "header": {
             "fill": {
              "color": "#2a3f5f"
             },
             "line": {
              "color": "rgb(17,17,17)"
             }
            },
            "type": "table"
           }
          ]
         },
         "layout": {
          "annotationdefaults": {
           "arrowcolor": "#f2f5fa",
           "arrowhead": 0,
           "arrowwidth": 1
          },
          "autotypenumbers": "strict",
          "coloraxis": {
           "colorbar": {
            "outlinewidth": 0,
            "ticks": ""
           }
          },
          "colorscale": {
           "diverging": [
            [
             0,
             "#8e0152"
            ],
            [
             0.1,
             "#c51b7d"
            ],
            [
             0.2,
             "#de77ae"
            ],
            [
             0.3,
             "#f1b6da"
            ],
            [
             0.4,
             "#fde0ef"
            ],
            [
             0.5,
             "#f7f7f7"
            ],
            [
             0.6,
             "#e6f5d0"
            ],
            [
             0.7,
             "#b8e186"
            ],
            [
             0.8,
             "#7fbc41"
            ],
            [
             0.9,
             "#4d9221"
            ],
            [
             1,
             "#276419"
            ]
           ],
           "sequential": [
            [
             0,
             "#0d0887"
            ],
            [
             0.1111111111111111,
             "#46039f"
            ],
            [
             0.2222222222222222,
             "#7201a8"
            ],
            [
             0.3333333333333333,
             "#9c179e"
            ],
            [
             0.4444444444444444,
             "#bd3786"
            ],
            [
             0.5555555555555556,
             "#d8576b"
            ],
            [
             0.6666666666666666,
             "#ed7953"
            ],
            [
             0.7777777777777778,
             "#fb9f3a"
            ],
            [
             0.8888888888888888,
             "#fdca26"
            ],
            [
             1,
             "#f0f921"
            ]
           ],
           "sequentialminus": [
            [
             0,
             "#0d0887"
            ],
            [
             0.1111111111111111,
             "#46039f"
            ],
            [
             0.2222222222222222,
             "#7201a8"
            ],
            [
             0.3333333333333333,
             "#9c179e"
            ],
            [
             0.4444444444444444,
             "#bd3786"
            ],
            [
             0.5555555555555556,
             "#d8576b"
            ],
            [
             0.6666666666666666,
             "#ed7953"
            ],
            [
             0.7777777777777778,
             "#fb9f3a"
            ],
            [
             0.8888888888888888,
             "#fdca26"
            ],
            [
             1,
             "#f0f921"
            ]
           ]
          },
          "colorway": [
           "#636efa",
           "#EF553B",
           "#00cc96",
           "#ab63fa",
           "#FFA15A",
           "#19d3f3",
           "#FF6692",
           "#B6E880",
           "#FF97FF",
           "#FECB52"
          ],
          "font": {
           "color": "#f2f5fa"
          },
          "geo": {
           "bgcolor": "rgb(17,17,17)",
           "lakecolor": "rgb(17,17,17)",
           "landcolor": "rgb(17,17,17)",
           "showlakes": true,
           "showland": true,
           "subunitcolor": "#506784"
          },
          "hoverlabel": {
           "align": "left"
          },
          "hovermode": "closest",
          "mapbox": {
           "style": "dark"
          },
          "paper_bgcolor": "rgb(17,17,17)",
          "plot_bgcolor": "rgb(17,17,17)",
          "polar": {
           "angularaxis": {
            "gridcolor": "#506784",
            "linecolor": "#506784",
            "ticks": ""
           },
           "bgcolor": "rgb(17,17,17)",
           "radialaxis": {
            "gridcolor": "#506784",
            "linecolor": "#506784",
            "ticks": ""
           }
          },
          "scene": {
           "xaxis": {
            "backgroundcolor": "rgb(17,17,17)",
            "gridcolor": "#506784",
            "gridwidth": 2,
            "linecolor": "#506784",
            "showbackground": true,
            "ticks": "",
            "zerolinecolor": "#C8D4E3"
           },
           "yaxis": {
            "backgroundcolor": "rgb(17,17,17)",
            "gridcolor": "#506784",
            "gridwidth": 2,
            "linecolor": "#506784",
            "showbackground": true,
            "ticks": "",
            "zerolinecolor": "#C8D4E3"
           },
           "zaxis": {
            "backgroundcolor": "rgb(17,17,17)",
            "gridcolor": "#506784",
            "gridwidth": 2,
            "linecolor": "#506784",
            "showbackground": true,
            "ticks": "",
            "zerolinecolor": "#C8D4E3"
           }
          },
          "shapedefaults": {
           "line": {
            "color": "#f2f5fa"
           }
          },
          "sliderdefaults": {
           "bgcolor": "#C8D4E3",
           "bordercolor": "rgb(17,17,17)",
           "borderwidth": 1,
           "tickwidth": 0
          },
          "ternary": {
           "aaxis": {
            "gridcolor": "#506784",
            "linecolor": "#506784",
            "ticks": ""
           },
           "baxis": {
            "gridcolor": "#506784",
            "linecolor": "#506784",
            "ticks": ""
           },
           "bgcolor": "rgb(17,17,17)",
           "caxis": {
            "gridcolor": "#506784",
            "linecolor": "#506784",
            "ticks": ""
           }
          },
          "title": {
           "x": 0.05
          },
          "updatemenudefaults": {
           "bgcolor": "#506784",
           "borderwidth": 0
          },
          "xaxis": {
           "automargin": true,
           "gridcolor": "#283442",
           "linecolor": "#506784",
           "ticks": "",
           "title": {
            "standoff": 15
           },
           "zerolinecolor": "#283442",
           "zerolinewidth": 2
          },
          "yaxis": {
           "automargin": true,
           "gridcolor": "#283442",
           "linecolor": "#506784",
           "ticks": "",
           "title": {
            "standoff": 15
           },
           "zerolinecolor": "#283442",
           "zerolinewidth": 2
          }
         }
        },
        "title": {
         "text": "Reconstration"
        },
        "xaxis": {
         "fixedrange": true,
         "showgrid": false,
         "showticklabels": false,
         "zeroline": false,
         "zerolinecolor": "gray",
         "zerolinewidth": 1
        },
        "yaxis": {
         "fixedrange": true,
         "showgrid": false,
         "showticklabels": false,
         "zeroline": false,
         "zerolinecolor": "gray",
         "zerolinewidth": 1
        }
       }
      }
     },
     "metadata": {},
     "output_type": "display_data"
    },
    {
     "data": {
      "application/vnd.plotly.v1+json": {
       "config": {
        "plotlyServerURL": "https://plot.ly"
       },
       "data": [
        {
         "line": {
          "color": [
           0,
           1,
           2,
           3,
           4,
           5,
           6,
           7,
           8,
           9,
           10,
           11,
           12,
           13,
           14,
           15,
           16,
           17,
           18,
           19
          ],
          "colorscale": [
           [
            0,
            "rgb(75, 41, 145)"
           ],
           [
            0.16666666666666666,
            "rgb(135, 44, 162)"
           ],
           [
            0.3333333333333333,
            "rgb(192, 54, 157)"
           ],
           [
            0.5,
            "rgb(234, 79, 136)"
           ],
           [
            0.6666666666666666,
            "rgb(250, 120, 118)"
           ],
           [
            0.8333333333333334,
            "rgb(246, 169, 122)"
           ],
           [
            1,
            "rgb(237, 217, 163)"
           ]
          ],
          "width": 2
         },
         "mode": "lines",
         "name": "Generated",
         "type": "scatter3d",
         "x": [
          0.06928040087223053,
          0.11719287931919098,
          0.11544623970985413,
          0.08217190206050873,
          0.08795782923698425,
          0.04911583662033081,
          0.0018520643934607506,
          -0.0037709400057792664,
          0.020295366644859314,
          0.02357814460992813,
          0.044443972408771515,
          0.006623409688472748,
          0.017863605171442032,
          0.042569201439619064,
          0.011382553726434708,
          0.04039963707327843,
          0.046027638018131256,
          0.05513451248407364,
          0.1151622012257576,
          0.12303821742534637
         ],
         "y": [
          0.41782066226005554,
          0.4769850969314575,
          0.400442898273468,
          0.41671985387802124,
          0.39817070960998535,
          0.4071274995803833,
          0.3763086497783661,
          0.4302684962749481,
          0.399168461561203,
          0.42921140789985657,
          0.4266064763069153,
          0.40711814165115356,
          0.42248788475990295,
          0.3674095869064331,
          0.42553475499153137,
          0.38974931836128235,
          0.3911838233470917,
          0.37927576899528503,
          0.43004822731018066,
          0.4401151239871979
         ],
         "z": [
          0.4029230773448944,
          0.439730703830719,
          0.40201714634895325,
          0.40226656198501587,
          0.3329581022262573,
          0.3159649968147278,
          0.18470482528209686,
          0.08823435753583908,
          0.010867245495319366,
          0.0008347481489181519,
          0.05745961144566536,
          0.08577603101730347,
          0.10758569836616516,
          0.14654919505119324,
          0.20710885524749756,
          0.2155459076166153,
          0.2645825147628784,
          0.32442939281463623,
          0.2893790304660797,
          0.2937498390674591
         ]
        },
        {
         "line": {
          "color": [
           0,
           1,
           2,
           3,
           4,
           5,
           6,
           7,
           8,
           9,
           10,
           11,
           12,
           13,
           14,
           15,
           16,
           17,
           18,
           19
          ],
          "colorscale": [
           [
            0,
            "rgb(75, 41, 145)"
           ],
           [
            0.16666666666666666,
            "rgb(135, 44, 162)"
           ],
           [
            0.3333333333333333,
            "rgb(192, 54, 157)"
           ],
           [
            0.5,
            "rgb(234, 79, 136)"
           ],
           [
            0.6666666666666666,
            "rgb(250, 120, 118)"
           ],
           [
            0.8333333333333334,
            "rgb(246, 169, 122)"
           ],
           [
            1,
            "rgb(237, 217, 163)"
           ]
          ],
          "width": 2
         },
         "mode": "lines",
         "name": "Generated",
         "type": "scatter3d",
         "x": [
          0.4688745439052582,
          0.4420683979988098,
          0.4224277436733246,
          0.3161546587944031,
          0.26021087169647217,
          0.27338680624961853,
          0.15194159746170044,
          0.11004389822483063,
          0.05836900323629379,
          0.059329647570848465,
          0.059929147362709045,
          0.0571119524538517,
          0.07266664505004883,
          0.12012984603643417,
          0.07657831162214279,
          0.08179105818271637,
          0.09835702925920486,
          0.09302492439746857,
          0.13001544773578644,
          0.15933822095394135
         ],
         "y": [
          0.4745364487171173,
          0.5777832269668579,
          0.5343887209892273,
          0.4925885796546936,
          0.44305139780044556,
          0.4787381887435913,
          0.40717896819114685,
          0.41639408469200134,
          0.4135738015174866,
          0.40967780351638794,
          0.3706132471561432,
          0.3928123712539673,
          0.37697651982307434,
          0.34488236904144287,
          0.43254515528678894,
          0.36332353949546814,
          0.37551093101501465,
          0.4392583966255188,
          0.42811936140060425,
          0.3761677145957947
         ],
         "z": [
          0.6329585909843445,
          0.592423141002655,
          0.5354256629943848,
          0.5330222249031067,
          0.494825541973114,
          0.4233796000480652,
          0.3082475960254669,
          0.19395950436592102,
          0.09443410485982895,
          0.03706889972090721,
          0.052308857440948486,
          0.08924613893032074,
          0.09420907497406006,
          0.124698206782341,
          0.14216949045658112,
          0.15342247486114502,
          0.15102118253707886,
          0.1818016916513443,
          0.23902246356010437,
          0.15878935158252716
         ]
        },
        {
         "line": {
          "color": [
           0,
           1,
           2,
           3,
           4,
           5,
           6,
           7,
           8,
           9,
           10,
           11,
           12,
           13,
           14,
           15,
           16,
           17,
           18,
           19
          ],
          "colorscale": [
           [
            0,
            "rgb(75, 41, 145)"
           ],
           [
            0.16666666666666666,
            "rgb(135, 44, 162)"
           ],
           [
            0.3333333333333333,
            "rgb(192, 54, 157)"
           ],
           [
            0.5,
            "rgb(234, 79, 136)"
           ],
           [
            0.6666666666666666,
            "rgb(250, 120, 118)"
           ],
           [
            0.8333333333333334,
            "rgb(246, 169, 122)"
           ],
           [
            1,
            "rgb(237, 217, 163)"
           ]
          ],
          "width": 2
         },
         "mode": "lines",
         "name": "Generated",
         "type": "scatter3d",
         "x": [
          0.7510948777198792,
          0.5916156768798828,
          0.5311932563781738,
          0.418137788772583,
          0.3247421979904175,
          0.27521976828575134,
          0.15111318230628967,
          0.09402330964803696,
          0.020586520433425903,
          0.05444573611021042,
          0.015949681401252747,
          0.030453622341156006,
          0.05302590876817703,
          0.08969144523143768,
          0.12948772311210632,
          0.12650953233242035,
          0.11361179500818253,
          0.11601525545120239,
          0.1224803775548935,
          0.14635109901428223
         ],
         "y": [
          0.5778587460517883,
          0.5501001477241516,
          0.5330345630645752,
          0.4956457018852234,
          0.5192318558692932,
          0.4343380331993103,
          0.45998892188072205,
          0.4744460880756378,
          0.43703263998031616,
          0.42762601375579834,
          0.42417481541633606,
          0.3958362936973572,
          0.4084179103374481,
          0.36141133308410645,
          0.3857121467590332,
          0.3819769322872162,
          0.37054213881492615,
          0.36515116691589355,
          0.36507007479667664,
          0.4052261710166931
         ],
         "z": [
          0.8950133919715881,
          0.8727846145629883,
          0.8364040851593018,
          0.6816208958625793,
          0.6214412450790405,
          0.5226514339447021,
          0.39423424005508423,
          0.245479017496109,
          0.11138605326414108,
          0.04137769341468811,
          0.04505307227373123,
          0.0754389688372612,
          0.10244780778884888,
          0.1611883044242859,
          0.18031500279903412,
          0.2036506086587906,
          0.1633213758468628,
          0.2252192348241806,
          0.2471712827682495,
          0.24905480444431305
         ]
        },
        {
         "line": {
          "color": [
           0,
           1,
           2,
           3,
           4,
           5,
           6,
           7,
           8,
           9,
           10,
           11,
           12,
           13,
           14,
           15,
           16,
           17,
           18,
           19
          ],
          "colorscale": [
           [
            0,
            "rgb(75, 41, 145)"
           ],
           [
            0.16666666666666666,
            "rgb(135, 44, 162)"
           ],
           [
            0.3333333333333333,
            "rgb(192, 54, 157)"
           ],
           [
            0.5,
            "rgb(234, 79, 136)"
           ],
           [
            0.6666666666666666,
            "rgb(250, 120, 118)"
           ],
           [
            0.8333333333333334,
            "rgb(246, 169, 122)"
           ],
           [
            1,
            "rgb(237, 217, 163)"
           ]
          ],
          "width": 2
         },
         "mode": "lines",
         "name": "Generated",
         "type": "scatter3d",
         "x": [
          0.48867854475975037,
          0.4255174398422241,
          0.37978774309158325,
          0.32794392108917236,
          0.248007133603096,
          0.17867912352085114,
          0.10137628763914108,
          0.023393042385578156,
          -0.00024490058422088623,
          0.030964940786361694,
          0.021976858377456665,
          0.04387679323554039,
          0.036792218685150146,
          0.06061703711748123,
          0.08249069005250931,
          0.08084197342395782,
          0.14563292264938354,
          0.12205398082733154,
          0.15950152277946472,
          0.18202222883701324
         ],
         "y": [
          0.6764990091323853,
          0.6973916888237,
          0.6893575191497803,
          0.6204896569252014,
          0.5988854169845581,
          0.5576582551002502,
          0.5349429249763489,
          0.5053403377532959,
          0.442085325717926,
          0.4485340416431427,
          0.43253636360168457,
          0.4817805886268616,
          0.4683323800563812,
          0.47845667600631714,
          0.508538544178009,
          0.4851071536540985,
          0.527827262878418,
          0.5299344658851624,
          0.4895986318588257,
          0.5241010785102844
         ],
         "z": [
          0.7652556300163269,
          0.6926000714302063,
          0.6429353952407837,
          0.604410707950592,
          0.5541633367538452,
          0.44879114627838135,
          0.3233475983142853,
          0.17203876376152039,
          0.10017266124486923,
          0.02931000292301178,
          0.0625457763671875,
          0.09362143278121948,
          0.12831604480743408,
          0.19902931153774261,
          0.21645081043243408,
          0.27398237586021423,
          0.2733474373817444,
          0.34565606713294983,
          0.3611404597759247,
          0.38413700461387634
         ]
        },
        {
         "line": {
          "color": [
           0,
           1,
           2,
           3,
           4,
           5,
           6,
           7,
           8,
           9,
           10,
           11,
           12,
           13,
           14,
           15,
           16,
           17,
           18,
           19
          ],
          "colorscale": [
           [
            0,
            "rgb(75, 41, 145)"
           ],
           [
            0.16666666666666666,
            "rgb(135, 44, 162)"
           ],
           [
            0.3333333333333333,
            "rgb(192, 54, 157)"
           ],
           [
            0.5,
            "rgb(234, 79, 136)"
           ],
           [
            0.6666666666666666,
            "rgb(250, 120, 118)"
           ],
           [
            0.8333333333333334,
            "rgb(246, 169, 122)"
           ],
           [
            1,
            "rgb(237, 217, 163)"
           ]
          ],
          "width": 2
         },
         "mode": "lines",
         "name": "Generated",
         "type": "scatter3d",
         "x": [
          0.6986015439033508,
          0.6446782350540161,
          0.5771893262863159,
          0.4851885437965393,
          0.4029783606529236,
          0.2973834276199341,
          0.1564042717218399,
          0.07275278866291046,
          0.03353411704301834,
          0.0513041615486145,
          0.03431475907564163,
          0.0697072446346283,
          0.07549827545881271,
          0.08989184349775314,
          0.09535452723503113,
          0.10377097129821777,
          0.14073514938354492,
          0.17264047265052795,
          0.1907648742198944,
          0.20484904944896698
         ],
         "y": [
          0.3450593054294586,
          0.36947566270828247,
          0.3640640676021576,
          0.33285850286483765,
          0.3677160143852234,
          0.3516215682029724,
          0.38588860630989075,
          0.4046199321746826,
          0.3860914409160614,
          0.4501916170120239,
          0.4360922574996948,
          0.41122186183929443,
          0.4263403117656708,
          0.4159643352031708,
          0.4274677038192749,
          0.3567277193069458,
          0.41910451650619507,
          0.41427871584892273,
          0.39997345209121704,
          0.4249298870563507
         ],
         "z": [
          0.7656578421592712,
          0.7264736890792847,
          0.6968634128570557,
          0.5891585350036621,
          0.5450693964958191,
          0.495370090007782,
          0.34610065817832947,
          0.24060764908790588,
          0.125421404838562,
          0.014181815087795258,
          0.058557093143463135,
          0.06999071687459946,
          0.10229074954986572,
          0.2078377902507782,
          0.21143171191215515,
          0.2949824035167694,
          0.23544520139694214,
          0.31932583451271057,
          0.29233041405677795,
          0.2938814163208008
         ]
        },
        {
         "line": {
          "color": [
           0,
           1,
           2,
           3,
           4,
           5,
           6,
           7,
           8,
           9,
           10,
           11,
           12,
           13,
           14,
           15,
           16,
           17,
           18,
           19
          ],
          "colorscale": [
           [
            0,
            "rgb(75, 41, 145)"
           ],
           [
            0.16666666666666666,
            "rgb(135, 44, 162)"
           ],
           [
            0.3333333333333333,
            "rgb(192, 54, 157)"
           ],
           [
            0.5,
            "rgb(234, 79, 136)"
           ],
           [
            0.6666666666666666,
            "rgb(250, 120, 118)"
           ],
           [
            0.8333333333333334,
            "rgb(246, 169, 122)"
           ],
           [
            1,
            "rgb(237, 217, 163)"
           ]
          ],
          "width": 2
         },
         "mode": "lines",
         "name": "Generated",
         "type": "scatter3d",
         "x": [
          0.09306393563747406,
          0.15527521073818207,
          0.11148674786090851,
          0.0883568525314331,
          0.09933838248252869,
          0.08804785460233688,
          0.08953648060560226,
          0.020649828016757965,
          0.004261210560798645,
          0.06676598638296127,
          0.029478244483470917,
          0.0579165481030941,
          0.05054771155118942,
          0.07441478222608566,
          0.05989348888397217,
          0.10498638451099396,
          0.055243268609046936,
          0.07808862626552582,
          0.10370789468288422,
          0.1499931365251541
         ],
         "y": [
          0.6123327612876892,
          0.5823894739151001,
          0.6124893426895142,
          0.563940703868866,
          0.5484433770179749,
          0.5387741923332214,
          0.5415225625038147,
          0.4728618562221527,
          0.4629594683647156,
          0.4400942623615265,
          0.41898801922798157,
          0.44596028327941895,
          0.4576036036014557,
          0.45811861753463745,
          0.49637025594711304,
          0.5225657820701599,
          0.5377899408340454,
          0.5576528310775757,
          0.538634181022644,
          0.5332874655723572
         ],
         "z": [
          0.4097888767719269,
          0.3979724049568176,
          0.4123058021068573,
          0.3466953635215759,
          0.3487081527709961,
          0.24818383157253265,
          0.1428966522216797,
          0.1322755217552185,
          0.0507744625210762,
          0.05238641798496246,
          0.06625183671712875,
          0.07559458911418915,
          0.13902869820594788,
          0.1566193699836731,
          0.210452139377594,
          0.2374655157327652,
          0.23233383893966675,
          0.3016430139541626,
          0.3447834551334381,
          0.34386226534843445
         ]
        },
        {
         "line": {
          "color": [
           0,
           1,
           2,
           3,
           4,
           5,
           6,
           7,
           8,
           9,
           10,
           11,
           12,
           13,
           14,
           15,
           16,
           17,
           18,
           19
          ],
          "colorscale": [
           [
            0,
            "rgb(75, 41, 145)"
           ],
           [
            0.16666666666666666,
            "rgb(135, 44, 162)"
           ],
           [
            0.3333333333333333,
            "rgb(192, 54, 157)"
           ],
           [
            0.5,
            "rgb(234, 79, 136)"
           ],
           [
            0.6666666666666666,
            "rgb(250, 120, 118)"
           ],
           [
            0.8333333333333334,
            "rgb(246, 169, 122)"
           ],
           [
            1,
            "rgb(237, 217, 163)"
           ]
          ],
          "width": 2
         },
         "mode": "lines",
         "name": "Generated",
         "type": "scatter3d",
         "x": [
          0.47056570649147034,
          0.47772157192230225,
          0.43579018115997314,
          0.3888496160507202,
          0.30543965101242065,
          0.26745957136154175,
          0.17033879458904266,
          0.06772098690271378,
          0.04844174534082413,
          0.06124347448348999,
          0.035704679787158966,
          0.038090117275714874,
          0.07405079901218414,
          0.09764958173036575,
          0.08909691870212555,
          0.12318675220012665,
          0.14676499366760254,
          0.19301579892635345,
          0.18890345096588135,
          0.22931085526943207
         ],
         "y": [
          0.5513466000556946,
          0.5382840633392334,
          0.5238752365112305,
          0.5156054496765137,
          0.4983746409416199,
          0.4445154070854187,
          0.4360817074775696,
          0.4529942572116852,
          0.4593338966369629,
          0.4372568726539612,
          0.41357266902923584,
          0.41924333572387695,
          0.41093406081199646,
          0.4234723150730133,
          0.46517446637153625,
          0.45617178082466125,
          0.46544158458709717,
          0.45972660183906555,
          0.43173474073410034,
          0.5092344284057617
         ],
         "z": [
          0.6552497744560242,
          0.6793269515037537,
          0.596227765083313,
          0.5448796153068542,
          0.5004191994667053,
          0.4256359934806824,
          0.3046761155128479,
          0.2024174928665161,
          0.09531643241643906,
          0.01032818853855133,
          0.036576464772224426,
          0.08458137512207031,
          0.0982702299952507,
          0.16479626297950745,
          0.20264777541160583,
          0.2168056219816208,
          0.2520098090171814,
          0.2978813052177429,
          0.2741333842277527,
          0.3139250874519348
         ]
        },
        {
         "line": {
          "color": [
           0,
           1,
           2,
           3,
           4,
           5,
           6,
           7,
           8,
           9,
           10,
           11,
           12,
           13,
           14,
           15,
           16,
           17,
           18,
           19
          ],
          "colorscale": [
           [
            0,
            "rgb(75, 41, 145)"
           ],
           [
            0.16666666666666666,
            "rgb(135, 44, 162)"
           ],
           [
            0.3333333333333333,
            "rgb(192, 54, 157)"
           ],
           [
            0.5,
            "rgb(234, 79, 136)"
           ],
           [
            0.6666666666666666,
            "rgb(250, 120, 118)"
           ],
           [
            0.8333333333333334,
            "rgb(246, 169, 122)"
           ],
           [
            1,
            "rgb(237, 217, 163)"
           ]
          ],
          "width": 2
         },
         "mode": "lines",
         "name": "Generated",
         "type": "scatter3d",
         "x": [
          0.4595722258090973,
          0.4587251543998718,
          0.37900659441947937,
          0.33382612466812134,
          0.2202867716550827,
          0.1662268042564392,
          0.08673883229494095,
          0.05638821795582771,
          0.04721922427415848,
          0.06357216835021973,
          0.02506227046251297,
          0.025842376053333282,
          0.07408866286277771,
          0.06644006818532944,
          0.06883781403303146,
          0.06156334653496742,
          0.08520103245973587,
          0.13521738350391388,
          0.13040345907211304,
          0.11007571220397949
         ],
         "y": [
          0.6637665629386902,
          0.6573527455329895,
          0.6502492427825928,
          0.6025299429893494,
          0.6163954734802246,
          0.5379316806793213,
          0.5066975951194763,
          0.4885387122631073,
          0.4512210488319397,
          0.4176478683948517,
          0.42744898796081543,
          0.42227238416671753,
          0.44674211740493774,
          0.42444097995758057,
          0.5096744298934937,
          0.44948357343673706,
          0.4811820983886719,
          0.4989180862903595,
          0.47540462017059326,
          0.540308952331543
         ],
         "z": [
          0.7308542728424072,
          0.6680506467819214,
          0.6691504716873169,
          0.5751761198043823,
          0.5089976191520691,
          0.398074209690094,
          0.30179113149642944,
          0.2135414183139801,
          0.05998452752828598,
          0.0348406657576561,
          0.05368221923708916,
          0.10001988708972931,
          0.11021557450294495,
          0.14794817566871643,
          0.19582810997962952,
          0.2543911933898926,
          0.20605403184890747,
          0.2703210413455963,
          0.28527840971946716,
          0.28053757548332214
         ]
        },
        {
         "line": {
          "color": [
           0,
           1,
           2,
           3,
           4,
           5,
           6,
           7,
           8,
           9,
           10,
           11,
           12,
           13,
           14,
           15,
           16,
           17,
           18,
           19
          ],
          "colorscale": [
           [
            0,
            "rgb(75, 41, 145)"
           ],
           [
            0.16666666666666666,
            "rgb(135, 44, 162)"
           ],
           [
            0.3333333333333333,
            "rgb(192, 54, 157)"
           ],
           [
            0.5,
            "rgb(234, 79, 136)"
           ],
           [
            0.6666666666666666,
            "rgb(250, 120, 118)"
           ],
           [
            0.8333333333333334,
            "rgb(246, 169, 122)"
           ],
           [
            1,
            "rgb(237, 217, 163)"
           ]
          ],
          "width": 2
         },
         "mode": "lines",
         "name": "Generated",
         "type": "scatter3d",
         "x": [
          0.6799725890159607,
          0.5899158716201782,
          0.5323266983032227,
          0.4369131326675415,
          0.37007904052734375,
          0.2808333933353424,
          0.16533271968364716,
          0.08334790915250778,
          0.05155642330646515,
          0.03396179527044296,
          0.03626750409603119,
          0.0505027249455452,
          0.06579486280679703,
          0.09405666589736938,
          0.09957888722419739,
          0.13848626613616943,
          0.1431874930858612,
          0.1737610548734665,
          0.21657833456993103,
          0.24505965411663055
         ],
         "y": [
          0.5746006965637207,
          0.5964264273643494,
          0.5724622011184692,
          0.550268828868866,
          0.5365139842033386,
          0.4649348258972168,
          0.4625915288925171,
          0.5049201250076294,
          0.48157477378845215,
          0.4480346441268921,
          0.43200623989105225,
          0.4291380047798157,
          0.43906378746032715,
          0.4609614908695221,
          0.49737489223480225,
          0.4882974922657013,
          0.48081016540527344,
          0.49206238985061646,
          0.4821525812149048,
          0.4951554238796234
         ],
         "z": [
          0.7671379446983337,
          0.7376522421836853,
          0.6877294778823853,
          0.6182900071144104,
          0.5517809391021729,
          0.4502063989639282,
          0.33370640873908997,
          0.24116915464401245,
          0.12928351759910583,
          0.024079740047454834,
          0.03869062662124634,
          0.10003198683261871,
          0.06021656468510628,
          0.16027428209781647,
          0.1744963824748993,
          0.2314443737268448,
          0.233107328414917,
          0.2706466615200043,
          0.2548884153366089,
          0.30699315667152405
         ]
        },
        {
         "line": {
          "color": [
           0,
           1,
           2,
           3,
           4,
           5,
           6,
           7,
           8,
           9,
           10,
           11,
           12,
           13,
           14,
           15,
           16,
           17,
           18,
           19
          ],
          "colorscale": [
           [
            0,
            "rgb(75, 41, 145)"
           ],
           [
            0.16666666666666666,
            "rgb(135, 44, 162)"
           ],
           [
            0.3333333333333333,
            "rgb(192, 54, 157)"
           ],
           [
            0.5,
            "rgb(234, 79, 136)"
           ],
           [
            0.6666666666666666,
            "rgb(250, 120, 118)"
           ],
           [
            0.8333333333333334,
            "rgb(246, 169, 122)"
           ],
           [
            1,
            "rgb(237, 217, 163)"
           ]
          ],
          "width": 2
         },
         "mode": "lines",
         "name": "Generated",
         "type": "scatter3d",
         "x": [
          0.4757276773452759,
          0.4975769519805908,
          0.4296874701976776,
          0.37061572074890137,
          0.28662294149398804,
          0.22840401530265808,
          0.14459145069122314,
          0.09402884542942047,
          0.05000818520784378,
          0.060696955770254135,
          0.03987062722444534,
          0.05800578370690346,
          0.08570665121078491,
          0.06797134876251221,
          0.11904017627239227,
          0.13311108946800232,
          0.1266862452030182,
          0.162022665143013,
          0.18068255484104156,
          0.22648538649082184
         ],
         "y": [
          0.5214663743972778,
          0.515238344669342,
          0.5171363949775696,
          0.5306112170219421,
          0.4810550808906555,
          0.4322950839996338,
          0.49151700735092163,
          0.42133185267448425,
          0.44307613372802734,
          0.40966394543647766,
          0.41417714953422546,
          0.45047277212142944,
          0.460061252117157,
          0.4620056450366974,
          0.4952397346496582,
          0.4813161790370941,
          0.5013920068740845,
          0.46453797817230225,
          0.4514158070087433,
          0.4928692877292633
         ],
         "z": [
          0.672275185585022,
          0.5729392170906067,
          0.5259107351303101,
          0.48320794105529785,
          0.4388183355331421,
          0.36757147312164307,
          0.3134929835796356,
          0.1746062934398651,
          0.06397592276334763,
          0.03810672461986542,
          0.06187877431511879,
          0.08533747494220734,
          0.10531235486268997,
          0.1457541286945343,
          0.2027616798877716,
          0.2856804430484772,
          0.2716832756996155,
          0.3203483521938324,
          0.34266334772109985,
          0.33508536219596863
         ]
        },
        {
         "line": {
          "color": [
           0,
           1,
           2,
           3,
           4,
           5,
           6,
           7,
           8,
           9,
           10,
           11,
           12,
           13,
           14,
           15,
           16,
           17,
           18,
           19
          ],
          "colorscale": [
           [
            0,
            "rgb(75, 41, 145)"
           ],
           [
            0.16666666666666666,
            "rgb(135, 44, 162)"
           ],
           [
            0.3333333333333333,
            "rgb(192, 54, 157)"
           ],
           [
            0.5,
            "rgb(234, 79, 136)"
           ],
           [
            0.6666666666666666,
            "rgb(250, 120, 118)"
           ],
           [
            0.8333333333333334,
            "rgb(246, 169, 122)"
           ],
           [
            1,
            "rgb(237, 217, 163)"
           ]
          ],
          "width": 2
         },
         "mode": "lines",
         "name": "Generated",
         "type": "scatter3d",
         "x": [
          0.2735734283924103,
          0.260863721370697,
          0.24619510769844055,
          0.21989290416240692,
          0.19309751689434052,
          0.14020967483520508,
          0.04386723414063454,
          0.01564202830195427,
          0.03467937558889389,
          0.04007050022482872,
          0.03087931126356125,
          0.029533401131629944,
          0.034552786499261856,
          0.053105391561985016,
          0.0677541196346283,
          0.07905487716197968,
          0.12969031929969788,
          0.17296256124973297,
          0.14900359511375427,
          0.21191363036632538
         ],
         "y": [
          0.5028573274612427,
          0.4967702627182007,
          0.473226934671402,
          0.4596251845359802,
          0.49954235553741455,
          0.4661608338356018,
          0.45826977491378784,
          0.45776793360710144,
          0.45593446493148804,
          0.4253360331058502,
          0.43840983510017395,
          0.411487877368927,
          0.45136719942092896,
          0.441741019487381,
          0.47769325971603394,
          0.4781380593776703,
          0.5118754506111145,
          0.42207345366477966,
          0.4513046145439148,
          0.48643556237220764
         ],
         "z": [
          0.5013757348060608,
          0.5483723878860474,
          0.4656997323036194,
          0.4243201017379761,
          0.37157583236694336,
          0.33734458684921265,
          0.2162909060716629,
          0.1205182746052742,
          0.05464344471693039,
          0.036320172250270844,
          0.06786270439624786,
          0.10381264984607697,
          0.1202271357178688,
          0.17589764297008514,
          0.24162182211875916,
          0.2801661789417267,
          0.31355738639831543,
          0.3756420612335205,
          0.3972589373588562,
          0.412852019071579
         ]
        },
        {
         "line": {
          "color": [
           0,
           1,
           2,
           3,
           4,
           5,
           6,
           7,
           8,
           9,
           10,
           11,
           12,
           13,
           14,
           15,
           16,
           17,
           18,
           19
          ],
          "colorscale": [
           [
            0,
            "rgb(75, 41, 145)"
           ],
           [
            0.16666666666666666,
            "rgb(135, 44, 162)"
           ],
           [
            0.3333333333333333,
            "rgb(192, 54, 157)"
           ],
           [
            0.5,
            "rgb(234, 79, 136)"
           ],
           [
            0.6666666666666666,
            "rgb(250, 120, 118)"
           ],
           [
            0.8333333333333334,
            "rgb(246, 169, 122)"
           ],
           [
            1,
            "rgb(237, 217, 163)"
           ]
          ],
          "width": 2
         },
         "mode": "lines",
         "name": "Generated",
         "type": "scatter3d",
         "x": [
          0.6330665349960327,
          0.5429015159606934,
          0.44124045968055725,
          0.394824743270874,
          0.24694828689098358,
          0.2504638433456421,
          0.15318432450294495,
          0.10793448984622955,
          0.004771150648593903,
          0.03450749069452286,
          0.03760136663913727,
          0.054348818957805634,
          0.09362795948982239,
          0.04874727129936218,
          0.09167566895484924,
          0.11164584755897522,
          0.13920027017593384,
          0.10891544818878174,
          0.13900348544120789,
          0.16735613346099854
         ],
         "y": [
          0.33196762204170227,
          0.34358716011047363,
          0.34677350521087646,
          0.28369200229644775,
          0.3777298927307129,
          0.3508909344673157,
          0.36637258529663086,
          0.42416927218437195,
          0.42069676518440247,
          0.4280240535736084,
          0.4130456745624542,
          0.3988293409347534,
          0.3985053300857544,
          0.3887428939342499,
          0.3850761651992798,
          0.3561954200267792,
          0.3314308524131775,
          0.36458003520965576,
          0.35929152369499207,
          0.36855313181877136
         ],
         "z": [
          0.6752946376800537,
          0.6517828106880188,
          0.6061083078384399,
          0.5243728160858154,
          0.44245243072509766,
          0.4249590039253235,
          0.29377102851867676,
          0.20300695300102234,
          0.10043268650770187,
          0.034223176538944244,
          0.05291259288787842,
          0.07603126764297485,
          0.14175987243652344,
          0.18642885982990265,
          0.1832265555858612,
          0.25267264246940613,
          0.21900951862335205,
          0.25983452796936035,
          0.28372374176979065,
          0.24220891296863556
         ]
        },
        {
         "line": {
          "color": [
           0,
           1,
           2,
           3,
           4,
           5,
           6,
           7,
           8,
           9,
           10,
           11,
           12,
           13,
           14,
           15,
           16,
           17,
           18,
           19
          ],
          "colorscale": [
           [
            0,
            "rgb(75, 41, 145)"
           ],
           [
            0.16666666666666666,
            "rgb(135, 44, 162)"
           ],
           [
            0.3333333333333333,
            "rgb(192, 54, 157)"
           ],
           [
            0.5,
            "rgb(234, 79, 136)"
           ],
           [
            0.6666666666666666,
            "rgb(250, 120, 118)"
           ],
           [
            0.8333333333333334,
            "rgb(246, 169, 122)"
           ],
           [
            1,
            "rgb(237, 217, 163)"
           ]
          ],
          "width": 2
         },
         "mode": "lines",
         "name": "Generated",
         "type": "scatter3d",
         "x": [
          0.5860922336578369,
          0.542478621006012,
          0.43647870421409607,
          0.4065104126930237,
          0.2680225968360901,
          0.2029501348733902,
          0.09142724424600601,
          0.05081919580698013,
          0.03278364986181259,
          0.0553983673453331,
          0.033039383590221405,
          0.032827168703079224,
          0.06272188574075699,
          0.09971372038125992,
          0.08669780194759369,
          0.08837258815765381,
          0.14258527755737305,
          0.1338706910610199,
          0.1642613410949707,
          0.17219144105911255
         ],
         "y": [
          0.8537477850914001,
          0.7940593957901001,
          0.8227885961532593,
          0.7075124979019165,
          0.6984394788742065,
          0.6576958298683167,
          0.5682778358459473,
          0.5503622889518738,
          0.4500064253807068,
          0.42753779888153076,
          0.40577951073646545,
          0.4287559390068054,
          0.48245206475257874,
          0.43471479415893555,
          0.5200612545013428,
          0.5174995064735413,
          0.5420114398002625,
          0.5627158880233765,
          0.5836062431335449,
          0.5830323100090027
         ],
         "z": [
          0.7726503610610962,
          0.7152050733566284,
          0.7066680192947388,
          0.6298388242721558,
          0.5594512224197388,
          0.4941079020500183,
          0.3616331219673157,
          0.24884700775146484,
          0.10526866465806961,
          0.01981475204229355,
          0.053463153541088104,
          0.07017188519239426,
          0.11366885900497437,
          0.13394536077976227,
          0.16330452263355255,
          0.19742907583713531,
          0.22651877999305725,
          0.28483816981315613,
          0.304013192653656,
          0.2897857427597046
         ]
        },
        {
         "line": {
          "color": [
           0,
           1,
           2,
           3,
           4,
           5,
           6,
           7,
           8,
           9,
           10,
           11,
           12,
           13,
           14,
           15,
           16,
           17,
           18,
           19
          ],
          "colorscale": [
           [
            0,
            "rgb(75, 41, 145)"
           ],
           [
            0.16666666666666666,
            "rgb(135, 44, 162)"
           ],
           [
            0.3333333333333333,
            "rgb(192, 54, 157)"
           ],
           [
            0.5,
            "rgb(234, 79, 136)"
           ],
           [
            0.6666666666666666,
            "rgb(250, 120, 118)"
           ],
           [
            0.8333333333333334,
            "rgb(246, 169, 122)"
           ],
           [
            1,
            "rgb(237, 217, 163)"
           ]
          ],
          "width": 2
         },
         "mode": "lines",
         "name": "Generated",
         "type": "scatter3d",
         "x": [
          0.424229234457016,
          0.3737561106681824,
          0.34360986948013306,
          0.34354710578918457,
          0.23496252298355103,
          0.20977193117141724,
          0.1348460167646408,
          0.06326527893543243,
          0.029888734221458435,
          0.04583248868584633,
          0.07137859612703323,
          0.06018455699086189,
          0.06530331820249557,
          0.09415172040462494,
          0.10251810401678085,
          0.10148562490940094,
          0.1254974603652954,
          0.21491006016731262,
          0.17978087067604065,
          0.20752258598804474
         ],
         "y": [
          0.4818914234638214,
          0.4773404002189636,
          0.4781765937805176,
          0.4427816867828369,
          0.4893956184387207,
          0.44241148233413696,
          0.4164944887161255,
          0.41875770688056946,
          0.40804362297058105,
          0.41083309054374695,
          0.42839106917381287,
          0.42445486783981323,
          0.45419514179229736,
          0.413627028465271,
          0.4737585783004761,
          0.4585265815258026,
          0.43619978427886963,
          0.49025946855545044,
          0.47354432940483093,
          0.4260813891887665
         ],
         "z": [
          0.590031087398529,
          0.6020305156707764,
          0.5547849535942078,
          0.5167117714881897,
          0.45836925506591797,
          0.3942651152610779,
          0.26039475202560425,
          0.21268081665039062,
          0.09833800047636032,
          0.029831662774086,
          0.07348255813121796,
          0.10561239719390869,
          0.12336860597133636,
          0.18699651956558228,
          0.20721665024757385,
          0.23409955203533173,
          0.2478315234184265,
          0.29237139225006104,
          0.3395008444786072,
          0.2786056101322174
         ]
        },
        {
         "line": {
          "color": [
           0,
           1,
           2,
           3,
           4,
           5,
           6,
           7,
           8,
           9,
           10,
           11,
           12,
           13,
           14,
           15,
           16,
           17,
           18,
           19
          ],
          "colorscale": [
           [
            0,
            "rgb(75, 41, 145)"
           ],
           [
            0.16666666666666666,
            "rgb(135, 44, 162)"
           ],
           [
            0.3333333333333333,
            "rgb(192, 54, 157)"
           ],
           [
            0.5,
            "rgb(234, 79, 136)"
           ],
           [
            0.6666666666666666,
            "rgb(250, 120, 118)"
           ],
           [
            0.8333333333333334,
            "rgb(246, 169, 122)"
           ],
           [
            1,
            "rgb(237, 217, 163)"
           ]
          ],
          "width": 2
         },
         "mode": "lines",
         "name": "Generated",
         "type": "scatter3d",
         "x": [
          0.748297929763794,
          0.6546909213066101,
          0.5132334232330322,
          0.4526844024658203,
          0.3542674779891968,
          0.24454298615455627,
          0.11643817275762558,
          0.05391404777765274,
          0.012546293437480927,
          0.021181263029575348,
          0.03411116451025009,
          0.05029413104057312,
          0.027119874954223633,
          0.0648014023900032,
          0.08744612336158752,
          0.11808614432811737,
          0.10115956515073776,
          0.1918358951807022,
          0.18487919867038727,
          0.1817260980606079
         ],
         "y": [
          0.6970401406288147,
          0.6819031834602356,
          0.6315925121307373,
          0.5827592611312866,
          0.5977932810783386,
          0.5401207208633423,
          0.5095244646072388,
          0.4962031841278076,
          0.4789220094680786,
          0.45993995666503906,
          0.4398123323917389,
          0.4558410048484802,
          0.4541694223880768,
          0.4616757333278656,
          0.5038657188415527,
          0.46260887384414673,
          0.47234970331192017,
          0.5147372484207153,
          0.4857789874076843,
          0.5535006523132324
         ],
         "z": [
          0.9176905155181885,
          0.8869884610176086,
          0.8054765462875366,
          0.7888903021812439,
          0.6868655681610107,
          0.5281846523284912,
          0.36543527245521545,
          0.28427499532699585,
          0.13597428798675537,
          0.0054720863699913025,
          0.059714749455451965,
          0.09331558644771576,
          0.15011239051818848,
          0.17095941305160522,
          0.2643046975135803,
          0.2667015790939331,
          0.3125046491622925,
          0.32317402958869934,
          0.3633369207382202,
          0.3565809428691864
         ]
        },
        {
         "line": {
          "color": [
           0,
           1,
           2,
           3,
           4,
           5,
           6,
           7,
           8,
           9,
           10,
           11,
           12,
           13,
           14,
           15,
           16,
           17,
           18,
           19
          ],
          "colorscale": [
           [
            0,
            "rgb(75, 41, 145)"
           ],
           [
            0.16666666666666666,
            "rgb(135, 44, 162)"
           ],
           [
            0.3333333333333333,
            "rgb(192, 54, 157)"
           ],
           [
            0.5,
            "rgb(234, 79, 136)"
           ],
           [
            0.6666666666666666,
            "rgb(250, 120, 118)"
           ],
           [
            0.8333333333333334,
            "rgb(246, 169, 122)"
           ],
           [
            1,
            "rgb(237, 217, 163)"
           ]
          ],
          "width": 2
         },
         "mode": "lines",
         "name": "Generated",
         "type": "scatter3d",
         "x": [
          0.6159147620201111,
          0.5610520839691162,
          0.5148957967758179,
          0.3992350697517395,
          0.2917070984840393,
          0.27256879210472107,
          0.16811144351959229,
          0.0944017544388771,
          0.036573946475982666,
          0.04190075397491455,
          0.03764527291059494,
          0.05607070028781891,
          0.0737188458442688,
          0.056873541325330734,
          0.06826934218406677,
          0.10317522287368774,
          0.1265852451324463,
          0.11707626283168793,
          0.10434439778327942,
          0.1265888512134552
         ],
         "y": [
          0.3989575505256653,
          0.44926661252975464,
          0.4206264615058899,
          0.4553718566894531,
          0.42418259382247925,
          0.43596261739730835,
          0.42045459151268005,
          0.46345898509025574,
          0.4778376817703247,
          0.46282586455345154,
          0.4090898334980011,
          0.41198617219924927,
          0.3895643949508667,
          0.39631861448287964,
          0.4086858332157135,
          0.34767213463783264,
          0.35900968313217163,
          0.3635656535625458,
          0.3393210768699646,
          0.405104398727417
         ],
         "z": [
          0.7119649052619934,
          0.6618929505348206,
          0.6706855297088623,
          0.6271688938140869,
          0.5177000761032104,
          0.456257164478302,
          0.289747416973114,
          0.20426592230796814,
          0.07669734209775925,
          -0.01249394565820694,
          -0.000913616269826889,
          0.06270287930965424,
          0.06920334696769714,
          0.12039317190647125,
          0.14079853892326355,
          0.17282617092132568,
          0.192045658826828,
          0.21579161286354065,
          0.21584972739219666,
          0.19186608493328094
         ]
        }
       ],
       "layout": {
        "coloraxis": {
         "showscale": false
        },
        "font": {
         "color": "white",
         "family": "Roboto, monospace",
         "size": 12
        },
        "height": 800,
        "margin": {
         "b": 50,
         "l": 5,
         "r": 5,
         "t": 50
        },
        "scene": {
         "aspectratio": {
          "x": 1,
          "y": 1,
          "z": 1
         },
         "camera": {
          "eye": {
           "x": -1.5,
           "y": 1.5,
           "z": 1.5
          },
          "up": {
           "x": 0,
           "y": 0,
           "z": 1
          }
         }
        },
        "showlegend": false,
        "template": {
         "data": {
          "bar": [
           {
            "error_x": {
             "color": "#f2f5fa"
            },
            "error_y": {
             "color": "#f2f5fa"
            },
            "marker": {
             "line": {
              "color": "rgb(17,17,17)",
              "width": 0.5
             },
             "pattern": {
              "fillmode": "overlay",
              "size": 10,
              "solidity": 0.2
             }
            },
            "type": "bar"
           }
          ],
          "barpolar": [
           {
            "marker": {
             "line": {
              "color": "rgb(17,17,17)",
              "width": 0.5
             },
             "pattern": {
              "fillmode": "overlay",
              "size": 10,
              "solidity": 0.2
             }
            },
            "type": "barpolar"
           }
          ],
          "carpet": [
           {
            "aaxis": {
             "endlinecolor": "#A2B1C6",
             "gridcolor": "#506784",
             "linecolor": "#506784",
             "minorgridcolor": "#506784",
             "startlinecolor": "#A2B1C6"
            },
            "baxis": {
             "endlinecolor": "#A2B1C6",
             "gridcolor": "#506784",
             "linecolor": "#506784",
             "minorgridcolor": "#506784",
             "startlinecolor": "#A2B1C6"
            },
            "type": "carpet"
           }
          ],
          "choropleth": [
           {
            "colorbar": {
             "outlinewidth": 0,
             "ticks": ""
            },
            "type": "choropleth"
           }
          ],
          "contour": [
           {
            "colorbar": {
             "outlinewidth": 0,
             "ticks": ""
            },
            "colorscale": [
             [
              0,
              "#0d0887"
             ],
             [
              0.1111111111111111,
              "#46039f"
             ],
             [
              0.2222222222222222,
              "#7201a8"
             ],
             [
              0.3333333333333333,
              "#9c179e"
             ],
             [
              0.4444444444444444,
              "#bd3786"
             ],
             [
              0.5555555555555556,
              "#d8576b"
             ],
             [
              0.6666666666666666,
              "#ed7953"
             ],
             [
              0.7777777777777778,
              "#fb9f3a"
             ],
             [
              0.8888888888888888,
              "#fdca26"
             ],
             [
              1,
              "#f0f921"
             ]
            ],
            "type": "contour"
           }
          ],
          "contourcarpet": [
           {
            "colorbar": {
             "outlinewidth": 0,
             "ticks": ""
            },
            "type": "contourcarpet"
           }
          ],
          "heatmap": [
           {
            "colorbar": {
             "outlinewidth": 0,
             "ticks": ""
            },
            "colorscale": [
             [
              0,
              "#0d0887"
             ],
             [
              0.1111111111111111,
              "#46039f"
             ],
             [
              0.2222222222222222,
              "#7201a8"
             ],
             [
              0.3333333333333333,
              "#9c179e"
             ],
             [
              0.4444444444444444,
              "#bd3786"
             ],
             [
              0.5555555555555556,
              "#d8576b"
             ],
             [
              0.6666666666666666,
              "#ed7953"
             ],
             [
              0.7777777777777778,
              "#fb9f3a"
             ],
             [
              0.8888888888888888,
              "#fdca26"
             ],
             [
              1,
              "#f0f921"
             ]
            ],
            "type": "heatmap"
           }
          ],
          "heatmapgl": [
           {
            "colorbar": {
             "outlinewidth": 0,
             "ticks": ""
            },
            "colorscale": [
             [
              0,
              "#0d0887"
             ],
             [
              0.1111111111111111,
              "#46039f"
             ],
             [
              0.2222222222222222,
              "#7201a8"
             ],
             [
              0.3333333333333333,
              "#9c179e"
             ],
             [
              0.4444444444444444,
              "#bd3786"
             ],
             [
              0.5555555555555556,
              "#d8576b"
             ],
             [
              0.6666666666666666,
              "#ed7953"
             ],
             [
              0.7777777777777778,
              "#fb9f3a"
             ],
             [
              0.8888888888888888,
              "#fdca26"
             ],
             [
              1,
              "#f0f921"
             ]
            ],
            "type": "heatmapgl"
           }
          ],
          "histogram": [
           {
            "marker": {
             "pattern": {
              "fillmode": "overlay",
              "size": 10,
              "solidity": 0.2
             }
            },
            "type": "histogram"
           }
          ],
          "histogram2d": [
           {
            "colorbar": {
             "outlinewidth": 0,
             "ticks": ""
            },
            "colorscale": [
             [
              0,
              "#0d0887"
             ],
             [
              0.1111111111111111,
              "#46039f"
             ],
             [
              0.2222222222222222,
              "#7201a8"
             ],
             [
              0.3333333333333333,
              "#9c179e"
             ],
             [
              0.4444444444444444,
              "#bd3786"
             ],
             [
              0.5555555555555556,
              "#d8576b"
             ],
             [
              0.6666666666666666,
              "#ed7953"
             ],
             [
              0.7777777777777778,
              "#fb9f3a"
             ],
             [
              0.8888888888888888,
              "#fdca26"
             ],
             [
              1,
              "#f0f921"
             ]
            ],
            "type": "histogram2d"
           }
          ],
          "histogram2dcontour": [
           {
            "colorbar": {
             "outlinewidth": 0,
             "ticks": ""
            },
            "colorscale": [
             [
              0,
              "#0d0887"
             ],
             [
              0.1111111111111111,
              "#46039f"
             ],
             [
              0.2222222222222222,
              "#7201a8"
             ],
             [
              0.3333333333333333,
              "#9c179e"
             ],
             [
              0.4444444444444444,
              "#bd3786"
             ],
             [
              0.5555555555555556,
              "#d8576b"
             ],
             [
              0.6666666666666666,
              "#ed7953"
             ],
             [
              0.7777777777777778,
              "#fb9f3a"
             ],
             [
              0.8888888888888888,
              "#fdca26"
             ],
             [
              1,
              "#f0f921"
             ]
            ],
            "type": "histogram2dcontour"
           }
          ],
          "mesh3d": [
           {
            "colorbar": {
             "outlinewidth": 0,
             "ticks": ""
            },
            "type": "mesh3d"
           }
          ],
          "parcoords": [
           {
            "line": {
             "colorbar": {
              "outlinewidth": 0,
              "ticks": ""
             }
            },
            "type": "parcoords"
           }
          ],
          "pie": [
           {
            "automargin": true,
            "type": "pie"
           }
          ],
          "scatter": [
           {
            "marker": {
             "line": {
              "color": "#283442"
             }
            },
            "type": "scatter"
           }
          ],
          "scatter3d": [
           {
            "line": {
             "colorbar": {
              "outlinewidth": 0,
              "ticks": ""
             }
            },
            "marker": {
             "colorbar": {
              "outlinewidth": 0,
              "ticks": ""
             }
            },
            "type": "scatter3d"
           }
          ],
          "scattercarpet": [
           {
            "marker": {
             "colorbar": {
              "outlinewidth": 0,
              "ticks": ""
             }
            },
            "type": "scattercarpet"
           }
          ],
          "scattergeo": [
           {
            "marker": {
             "colorbar": {
              "outlinewidth": 0,
              "ticks": ""
             }
            },
            "type": "scattergeo"
           }
          ],
          "scattergl": [
           {
            "marker": {
             "line": {
              "color": "#283442"
             }
            },
            "type": "scattergl"
           }
          ],
          "scattermapbox": [
           {
            "marker": {
             "colorbar": {
              "outlinewidth": 0,
              "ticks": ""
             }
            },
            "type": "scattermapbox"
           }
          ],
          "scatterpolar": [
           {
            "marker": {
             "colorbar": {
              "outlinewidth": 0,
              "ticks": ""
             }
            },
            "type": "scatterpolar"
           }
          ],
          "scatterpolargl": [
           {
            "marker": {
             "colorbar": {
              "outlinewidth": 0,
              "ticks": ""
             }
            },
            "type": "scatterpolargl"
           }
          ],
          "scatterternary": [
           {
            "marker": {
             "colorbar": {
              "outlinewidth": 0,
              "ticks": ""
             }
            },
            "type": "scatterternary"
           }
          ],
          "surface": [
           {
            "colorbar": {
             "outlinewidth": 0,
             "ticks": ""
            },
            "colorscale": [
             [
              0,
              "#0d0887"
             ],
             [
              0.1111111111111111,
              "#46039f"
             ],
             [
              0.2222222222222222,
              "#7201a8"
             ],
             [
              0.3333333333333333,
              "#9c179e"
             ],
             [
              0.4444444444444444,
              "#bd3786"
             ],
             [
              0.5555555555555556,
              "#d8576b"
             ],
             [
              0.6666666666666666,
              "#ed7953"
             ],
             [
              0.7777777777777778,
              "#fb9f3a"
             ],
             [
              0.8888888888888888,
              "#fdca26"
             ],
             [
              1,
              "#f0f921"
             ]
            ],
            "type": "surface"
           }
          ],
          "table": [
           {
            "cells": {
             "fill": {
              "color": "#506784"
             },
             "line": {
              "color": "rgb(17,17,17)"
             }
            },
            "header": {
             "fill": {
              "color": "#2a3f5f"
             },
             "line": {
              "color": "rgb(17,17,17)"
             }
            },
            "type": "table"
           }
          ]
         },
         "layout": {
          "annotationdefaults": {
           "arrowcolor": "#f2f5fa",
           "arrowhead": 0,
           "arrowwidth": 1
          },
          "autotypenumbers": "strict",
          "coloraxis": {
           "colorbar": {
            "outlinewidth": 0,
            "ticks": ""
           }
          },
          "colorscale": {
           "diverging": [
            [
             0,
             "#8e0152"
            ],
            [
             0.1,
             "#c51b7d"
            ],
            [
             0.2,
             "#de77ae"
            ],
            [
             0.3,
             "#f1b6da"
            ],
            [
             0.4,
             "#fde0ef"
            ],
            [
             0.5,
             "#f7f7f7"
            ],
            [
             0.6,
             "#e6f5d0"
            ],
            [
             0.7,
             "#b8e186"
            ],
            [
             0.8,
             "#7fbc41"
            ],
            [
             0.9,
             "#4d9221"
            ],
            [
             1,
             "#276419"
            ]
           ],
           "sequential": [
            [
             0,
             "#0d0887"
            ],
            [
             0.1111111111111111,
             "#46039f"
            ],
            [
             0.2222222222222222,
             "#7201a8"
            ],
            [
             0.3333333333333333,
             "#9c179e"
            ],
            [
             0.4444444444444444,
             "#bd3786"
            ],
            [
             0.5555555555555556,
             "#d8576b"
            ],
            [
             0.6666666666666666,
             "#ed7953"
            ],
            [
             0.7777777777777778,
             "#fb9f3a"
            ],
            [
             0.8888888888888888,
             "#fdca26"
            ],
            [
             1,
             "#f0f921"
            ]
           ],
           "sequentialminus": [
            [
             0,
             "#0d0887"
            ],
            [
             0.1111111111111111,
             "#46039f"
            ],
            [
             0.2222222222222222,
             "#7201a8"
            ],
            [
             0.3333333333333333,
             "#9c179e"
            ],
            [
             0.4444444444444444,
             "#bd3786"
            ],
            [
             0.5555555555555556,
             "#d8576b"
            ],
            [
             0.6666666666666666,
             "#ed7953"
            ],
            [
             0.7777777777777778,
             "#fb9f3a"
            ],
            [
             0.8888888888888888,
             "#fdca26"
            ],
            [
             1,
             "#f0f921"
            ]
           ]
          },
          "colorway": [
           "#636efa",
           "#EF553B",
           "#00cc96",
           "#ab63fa",
           "#FFA15A",
           "#19d3f3",
           "#FF6692",
           "#B6E880",
           "#FF97FF",
           "#FECB52"
          ],
          "font": {
           "color": "#f2f5fa"
          },
          "geo": {
           "bgcolor": "rgb(17,17,17)",
           "lakecolor": "rgb(17,17,17)",
           "landcolor": "rgb(17,17,17)",
           "showlakes": true,
           "showland": true,
           "subunitcolor": "#506784"
          },
          "hoverlabel": {
           "align": "left"
          },
          "hovermode": "closest",
          "mapbox": {
           "style": "dark"
          },
          "paper_bgcolor": "rgb(17,17,17)",
          "plot_bgcolor": "rgb(17,17,17)",
          "polar": {
           "angularaxis": {
            "gridcolor": "#506784",
            "linecolor": "#506784",
            "ticks": ""
           },
           "bgcolor": "rgb(17,17,17)",
           "radialaxis": {
            "gridcolor": "#506784",
            "linecolor": "#506784",
            "ticks": ""
           }
          },
          "scene": {
           "xaxis": {
            "backgroundcolor": "rgb(17,17,17)",
            "gridcolor": "#506784",
            "gridwidth": 2,
            "linecolor": "#506784",
            "showbackground": true,
            "ticks": "",
            "zerolinecolor": "#C8D4E3"
           },
           "yaxis": {
            "backgroundcolor": "rgb(17,17,17)",
            "gridcolor": "#506784",
            "gridwidth": 2,
            "linecolor": "#506784",
            "showbackground": true,
            "ticks": "",
            "zerolinecolor": "#C8D4E3"
           },
           "zaxis": {
            "backgroundcolor": "rgb(17,17,17)",
            "gridcolor": "#506784",
            "gridwidth": 2,
            "linecolor": "#506784",
            "showbackground": true,
            "ticks": "",
            "zerolinecolor": "#C8D4E3"
           }
          },
          "shapedefaults": {
           "line": {
            "color": "#f2f5fa"
           }
          },
          "sliderdefaults": {
           "bgcolor": "#C8D4E3",
           "bordercolor": "rgb(17,17,17)",
           "borderwidth": 1,
           "tickwidth": 0
          },
          "ternary": {
           "aaxis": {
            "gridcolor": "#506784",
            "linecolor": "#506784",
            "ticks": ""
           },
           "baxis": {
            "gridcolor": "#506784",
            "linecolor": "#506784",
            "ticks": ""
           },
           "bgcolor": "rgb(17,17,17)",
           "caxis": {
            "gridcolor": "#506784",
            "linecolor": "#506784",
            "ticks": ""
           }
          },
          "title": {
           "x": 0.05
          },
          "updatemenudefaults": {
           "bgcolor": "#506784",
           "borderwidth": 0
          },
          "xaxis": {
           "automargin": true,
           "gridcolor": "#283442",
           "linecolor": "#506784",
           "ticks": "",
           "title": {
            "standoff": 15
           },
           "zerolinecolor": "#283442",
           "zerolinewidth": 2
          },
          "yaxis": {
           "automargin": true,
           "gridcolor": "#283442",
           "linecolor": "#506784",
           "ticks": "",
           "title": {
            "standoff": 15
           },
           "zerolinecolor": "#283442",
           "zerolinewidth": 2
          }
         }
        },
        "title": {
         "text": "Generated"
        },
        "xaxis": {
         "fixedrange": true,
         "showgrid": false,
         "showticklabels": false,
         "zeroline": false,
         "zerolinecolor": "gray",
         "zerolinewidth": 1
        },
        "yaxis": {
         "fixedrange": true,
         "showgrid": false,
         "showticklabels": false,
         "zeroline": false,
         "zerolinecolor": "gray",
         "zerolinewidth": 1
        }
       }
      }
     },
     "metadata": {},
     "output_type": "display_data"
    }
   ],
   "source": [
    "sample_data= None\n",
    "sample_size = np.random.randint(0, 128, size= 16)\n",
    "\n",
    "for d in project_config.train_iterator:\n",
    "    x_samples = d[project_config.data_item][sample_size, :,:]\n",
    "    y_sampels = d['Y'][sample_size, :,:] \n",
    "    \n",
    "    z, __, __ = model.encoder(x_samples, y_sampels)\n",
    "\n",
    "    noise = torch.normal(mean=.1, std=.21, size = z.shape).to(project_config.device)\n",
    "    z = z + noise\n",
    " \n",
    "    x_generated = model.decoder(z , y_sampels)\n",
    "    x_rec,__, __ = model(x_samples, y_sampels)\n",
    "    \n",
    "    fig_1 = show_generated_motions(x_samples, \"Original\")\n",
    "    fig_1.show()\n",
    "    fig_2 = show_generated_motions(x_rec, \"Reconstration\")\n",
    "    fig_2.show()\n",
    "    fig_3 = show_generated_motions(x_generated, \"Generated\")\n",
    "    fig_3.show()\n",
    "    \n",
    "    break"
   ]
  },
  {
   "cell_type": "code",
   "execution_count": 8,
   "metadata": {},
   "outputs": [
    {
     "name": "stdout",
     "output_type": "stream",
     "text": [
      "torch.Size([3, 20, 9])\n",
      "tensor(True, device='cuda:0')\n"
     ]
    },
    {
     "data": {
      "application/vnd.plotly.v1+json": {
       "config": {
        "plotlyServerURL": "https://plot.ly"
       },
       "data": [
        {
         "line": {
          "color": [
           0,
           1,
           2,
           3,
           4,
           5,
           6,
           7,
           8,
           9,
           10,
           11,
           12,
           13,
           14,
           15,
           16,
           17,
           18,
           19
          ],
          "colorscale": [
           [
            0,
            "#440154"
           ],
           [
            0.1111111111111111,
            "#482878"
           ],
           [
            0.2222222222222222,
            "#3e4989"
           ],
           [
            0.3333333333333333,
            "#31688e"
           ],
           [
            0.4444444444444444,
            "#26828e"
           ],
           [
            0.5555555555555556,
            "#1f9e89"
           ],
           [
            0.6666666666666666,
            "#35b779"
           ],
           [
            0.7777777777777778,
            "#6ece58"
           ],
           [
            0.8888888888888888,
            "#b5de2b"
           ],
           [
            1,
            "#fde725"
           ]
          ],
          "width": 4
         },
         "mode": "lines",
         "type": "scatter3d",
         "x": [
          0.10131599754095078,
          0.09162399917840958,
          0.08017399907112122,
          0.06686899811029434,
          0.052719999104738235,
          0.03813299909234047,
          0.02517399936914444,
          0.015567000024020672,
          0.012226000428199768,
          0.012186000123620033,
          0.013193000108003616,
          0.014228999614715576,
          0.015898000448942184,
          0.01824299991130829,
          0.02084200084209442,
          0.023795999586582184,
          0.02679700031876564,
          0.029819000512361526,
          0.032113999128341675,
          0.0335640013217926
         ],
         "y": [
          0.031794000416994095,
          0.027674999088048935,
          0.02318600006401539,
          0.01911900006234646,
          0.013252999633550644,
          0.008302999660372734,
          0.0033579999580979347,
          -0.0031250000465661287,
          -0.008771000429987907,
          -0.010061999782919884,
          -0.009921999648213387,
          -0.008233999833464622,
          -0.00611699977889657,
          -0.003872999921441078,
          0.00013899999612476677,
          0.0029899999499320984,
          0.005547999870032072,
          0.007774000056087971,
          0.007712000049650669,
          0.009310999885201454
         ],
         "z": [
          0.23200500011444092,
          0.2189590036869049,
          0.20338399708271027,
          0.18404999375343323,
          0.16145899891853333,
          0.133310005068779,
          0.10141900181770325,
          0.06639599800109863,
          0.02920600026845932,
          0.0192050002515316,
          0.030407000333070755,
          0.04257500171661377,
          0.05555399879813194,
          0.06851299852132797,
          0.08155500143766403,
          0.09376800060272217,
          0.10492199659347534,
          0.1152610033750534,
          0.12263599783182144,
          0.1289149969816208
         ]
        },
        {
         "line": {
          "color": [
           0,
           1,
           2,
           3,
           4,
           5,
           6,
           7,
           8,
           9,
           10,
           11,
           12,
           13,
           14,
           15,
           16,
           17,
           18,
           19
          ],
          "colorscale": [
           [
            0,
            "rgb(75, 41, 145)"
           ],
           [
            0.16666666666666666,
            "rgb(135, 44, 162)"
           ],
           [
            0.3333333333333333,
            "rgb(192, 54, 157)"
           ],
           [
            0.5,
            "rgb(234, 79, 136)"
           ],
           [
            0.6666666666666666,
            "rgb(250, 120, 118)"
           ],
           [
            0.8333333333333334,
            "rgb(246, 169, 122)"
           ],
           [
            1,
            "rgb(237, 217, 163)"
           ]
          ],
          "width": 1
         },
         "mode": "lines",
         "type": "scatter3d",
         "x": [
          0.10131599754095078,
          0.09162399917840958,
          0.08017399907112122,
          0.06686899811029434,
          0.05271999537944794,
          0.03813299536705017,
          0.02517399936914444,
          0.015567000024020672,
          0.012226000428199768,
          0.012186000123620033,
          0.013193000108003616,
          0.014228999614715576,
          0.015898000448942184,
          0.01824299991130829,
          0.02084200084209442,
          0.023795999586582184,
          0.02679700031876564,
          0.029819000512361526,
          0.032113999128341675,
          0.0335640013217926
         ],
         "y": [
          0.031793996691703796,
          0.027674997225403786,
          0.02318600006401539,
          0.01911899633705616,
          0.013252997770905495,
          0.008303003385663033,
          0.0033580008894205093,
          -0.003125002607703209,
          -0.008771000429987907,
          -0.010061999782919884,
          -0.009921995922923088,
          -0.008233999833464622,
          -0.006116999313235283,
          -0.0038730036467313766,
          0.00013899989426136017,
          0.0029900018125772476,
          0.005548002198338509,
          0.007773997262120247,
          0.007712008431553841,
          0.009310999885201454
         ],
         "z": [
          0.23200500011444092,
          0.2189590036869049,
          0.20338399708271027,
          0.18404997885227203,
          0.16145899891853333,
          0.133310005068779,
          0.10141900181770325,
          0.06639599800109863,
          0.02920600026845932,
          0.0192050002515316,
          0.030406998470425606,
          0.04257500171661377,
          0.05555399879813194,
          0.06851299852132797,
          0.08155500888824463,
          0.09376800060272217,
          0.10492199659347534,
          0.1152610033750534,
          0.12263600528240204,
          0.1289149969816208
         ]
        },
        {
         "marker": {
          "size": 0.1
         },
         "mode": "markers",
         "type": "scatter3d",
         "x": [
          -0.1,
          0.1
         ],
         "y": [
          -0.1,
          0.1
         ],
         "z": [
          0,
          0.1
         ]
        }
       ],
       "layout": {
        "coloraxis": {
         "showscale": false
        },
        "font": {
         "color": "white",
         "family": "Roboto, monospace",
         "size": 12
        },
        "height": 800,
        "margin": {
         "b": 50,
         "l": 5,
         "r": 5,
         "t": 50
        },
        "scene": {
         "aspectratio": {
          "x": 1,
          "y": 1,
          "z": 1
         },
         "camera": {
          "eye": {
           "x": -1.5,
           "y": 1.5,
           "z": 1.5
          },
          "up": {
           "x": 0,
           "y": 0,
           "z": 1
          }
         }
        },
        "showlegend": false,
        "template": {
         "data": {
          "bar": [
           {
            "error_x": {
             "color": "#f2f5fa"
            },
            "error_y": {
             "color": "#f2f5fa"
            },
            "marker": {
             "line": {
              "color": "rgb(17,17,17)",
              "width": 0.5
             },
             "pattern": {
              "fillmode": "overlay",
              "size": 10,
              "solidity": 0.2
             }
            },
            "type": "bar"
           }
          ],
          "barpolar": [
           {
            "marker": {
             "line": {
              "color": "rgb(17,17,17)",
              "width": 0.5
             },
             "pattern": {
              "fillmode": "overlay",
              "size": 10,
              "solidity": 0.2
             }
            },
            "type": "barpolar"
           }
          ],
          "carpet": [
           {
            "aaxis": {
             "endlinecolor": "#A2B1C6",
             "gridcolor": "#506784",
             "linecolor": "#506784",
             "minorgridcolor": "#506784",
             "startlinecolor": "#A2B1C6"
            },
            "baxis": {
             "endlinecolor": "#A2B1C6",
             "gridcolor": "#506784",
             "linecolor": "#506784",
             "minorgridcolor": "#506784",
             "startlinecolor": "#A2B1C6"
            },
            "type": "carpet"
           }
          ],
          "choropleth": [
           {
            "colorbar": {
             "outlinewidth": 0,
             "ticks": ""
            },
            "type": "choropleth"
           }
          ],
          "contour": [
           {
            "colorbar": {
             "outlinewidth": 0,
             "ticks": ""
            },
            "colorscale": [
             [
              0,
              "#0d0887"
             ],
             [
              0.1111111111111111,
              "#46039f"
             ],
             [
              0.2222222222222222,
              "#7201a8"
             ],
             [
              0.3333333333333333,
              "#9c179e"
             ],
             [
              0.4444444444444444,
              "#bd3786"
             ],
             [
              0.5555555555555556,
              "#d8576b"
             ],
             [
              0.6666666666666666,
              "#ed7953"
             ],
             [
              0.7777777777777778,
              "#fb9f3a"
             ],
             [
              0.8888888888888888,
              "#fdca26"
             ],
             [
              1,
              "#f0f921"
             ]
            ],
            "type": "contour"
           }
          ],
          "contourcarpet": [
           {
            "colorbar": {
             "outlinewidth": 0,
             "ticks": ""
            },
            "type": "contourcarpet"
           }
          ],
          "heatmap": [
           {
            "colorbar": {
             "outlinewidth": 0,
             "ticks": ""
            },
            "colorscale": [
             [
              0,
              "#0d0887"
             ],
             [
              0.1111111111111111,
              "#46039f"
             ],
             [
              0.2222222222222222,
              "#7201a8"
             ],
             [
              0.3333333333333333,
              "#9c179e"
             ],
             [
              0.4444444444444444,
              "#bd3786"
             ],
             [
              0.5555555555555556,
              "#d8576b"
             ],
             [
              0.6666666666666666,
              "#ed7953"
             ],
             [
              0.7777777777777778,
              "#fb9f3a"
             ],
             [
              0.8888888888888888,
              "#fdca26"
             ],
             [
              1,
              "#f0f921"
             ]
            ],
            "type": "heatmap"
           }
          ],
          "heatmapgl": [
           {
            "colorbar": {
             "outlinewidth": 0,
             "ticks": ""
            },
            "colorscale": [
             [
              0,
              "#0d0887"
             ],
             [
              0.1111111111111111,
              "#46039f"
             ],
             [
              0.2222222222222222,
              "#7201a8"
             ],
             [
              0.3333333333333333,
              "#9c179e"
             ],
             [
              0.4444444444444444,
              "#bd3786"
             ],
             [
              0.5555555555555556,
              "#d8576b"
             ],
             [
              0.6666666666666666,
              "#ed7953"
             ],
             [
              0.7777777777777778,
              "#fb9f3a"
             ],
             [
              0.8888888888888888,
              "#fdca26"
             ],
             [
              1,
              "#f0f921"
             ]
            ],
            "type": "heatmapgl"
           }
          ],
          "histogram": [
           {
            "marker": {
             "pattern": {
              "fillmode": "overlay",
              "size": 10,
              "solidity": 0.2
             }
            },
            "type": "histogram"
           }
          ],
          "histogram2d": [
           {
            "colorbar": {
             "outlinewidth": 0,
             "ticks": ""
            },
            "colorscale": [
             [
              0,
              "#0d0887"
             ],
             [
              0.1111111111111111,
              "#46039f"
             ],
             [
              0.2222222222222222,
              "#7201a8"
             ],
             [
              0.3333333333333333,
              "#9c179e"
             ],
             [
              0.4444444444444444,
              "#bd3786"
             ],
             [
              0.5555555555555556,
              "#d8576b"
             ],
             [
              0.6666666666666666,
              "#ed7953"
             ],
             [
              0.7777777777777778,
              "#fb9f3a"
             ],
             [
              0.8888888888888888,
              "#fdca26"
             ],
             [
              1,
              "#f0f921"
             ]
            ],
            "type": "histogram2d"
           }
          ],
          "histogram2dcontour": [
           {
            "colorbar": {
             "outlinewidth": 0,
             "ticks": ""
            },
            "colorscale": [
             [
              0,
              "#0d0887"
             ],
             [
              0.1111111111111111,
              "#46039f"
             ],
             [
              0.2222222222222222,
              "#7201a8"
             ],
             [
              0.3333333333333333,
              "#9c179e"
             ],
             [
              0.4444444444444444,
              "#bd3786"
             ],
             [
              0.5555555555555556,
              "#d8576b"
             ],
             [
              0.6666666666666666,
              "#ed7953"
             ],
             [
              0.7777777777777778,
              "#fb9f3a"
             ],
             [
              0.8888888888888888,
              "#fdca26"
             ],
             [
              1,
              "#f0f921"
             ]
            ],
            "type": "histogram2dcontour"
           }
          ],
          "mesh3d": [
           {
            "colorbar": {
             "outlinewidth": 0,
             "ticks": ""
            },
            "type": "mesh3d"
           }
          ],
          "parcoords": [
           {
            "line": {
             "colorbar": {
              "outlinewidth": 0,
              "ticks": ""
             }
            },
            "type": "parcoords"
           }
          ],
          "pie": [
           {
            "automargin": true,
            "type": "pie"
           }
          ],
          "scatter": [
           {
            "marker": {
             "line": {
              "color": "#283442"
             }
            },
            "type": "scatter"
           }
          ],
          "scatter3d": [
           {
            "line": {
             "colorbar": {
              "outlinewidth": 0,
              "ticks": ""
             }
            },
            "marker": {
             "colorbar": {
              "outlinewidth": 0,
              "ticks": ""
             }
            },
            "type": "scatter3d"
           }
          ],
          "scattercarpet": [
           {
            "marker": {
             "colorbar": {
              "outlinewidth": 0,
              "ticks": ""
             }
            },
            "type": "scattercarpet"
           }
          ],
          "scattergeo": [
           {
            "marker": {
             "colorbar": {
              "outlinewidth": 0,
              "ticks": ""
             }
            },
            "type": "scattergeo"
           }
          ],
          "scattergl": [
           {
            "marker": {
             "line": {
              "color": "#283442"
             }
            },
            "type": "scattergl"
           }
          ],
          "scattermapbox": [
           {
            "marker": {
             "colorbar": {
              "outlinewidth": 0,
              "ticks": ""
             }
            },
            "type": "scattermapbox"
           }
          ],
          "scatterpolar": [
           {
            "marker": {
             "colorbar": {
              "outlinewidth": 0,
              "ticks": ""
             }
            },
            "type": "scatterpolar"
           }
          ],
          "scatterpolargl": [
           {
            "marker": {
             "colorbar": {
              "outlinewidth": 0,
              "ticks": ""
             }
            },
            "type": "scatterpolargl"
           }
          ],
          "scatterternary": [
           {
            "marker": {
             "colorbar": {
              "outlinewidth": 0,
              "ticks": ""
             }
            },
            "type": "scatterternary"
           }
          ],
          "surface": [
           {
            "colorbar": {
             "outlinewidth": 0,
             "ticks": ""
            },
            "colorscale": [
             [
              0,
              "#0d0887"
             ],
             [
              0.1111111111111111,
              "#46039f"
             ],
             [
              0.2222222222222222,
              "#7201a8"
             ],
             [
              0.3333333333333333,
              "#9c179e"
             ],
             [
              0.4444444444444444,
              "#bd3786"
             ],
             [
              0.5555555555555556,
              "#d8576b"
             ],
             [
              0.6666666666666666,
              "#ed7953"
             ],
             [
              0.7777777777777778,
              "#fb9f3a"
             ],
             [
              0.8888888888888888,
              "#fdca26"
             ],
             [
              1,
              "#f0f921"
             ]
            ],
            "type": "surface"
           }
          ],
          "table": [
           {
            "cells": {
             "fill": {
              "color": "#506784"
             },
             "line": {
              "color": "rgb(17,17,17)"
             }
            },
            "header": {
             "fill": {
              "color": "#2a3f5f"
             },
             "line": {
              "color": "rgb(17,17,17)"
             }
            },
            "type": "table"
           }
          ]
         },
         "layout": {
          "annotationdefaults": {
           "arrowcolor": "#f2f5fa",
           "arrowhead": 0,
           "arrowwidth": 1
          },
          "autotypenumbers": "strict",
          "coloraxis": {
           "colorbar": {
            "outlinewidth": 0,
            "ticks": ""
           }
          },
          "colorscale": {
           "diverging": [
            [
             0,
             "#8e0152"
            ],
            [
             0.1,
             "#c51b7d"
            ],
            [
             0.2,
             "#de77ae"
            ],
            [
             0.3,
             "#f1b6da"
            ],
            [
             0.4,
             "#fde0ef"
            ],
            [
             0.5,
             "#f7f7f7"
            ],
            [
             0.6,
             "#e6f5d0"
            ],
            [
             0.7,
             "#b8e186"
            ],
            [
             0.8,
             "#7fbc41"
            ],
            [
             0.9,
             "#4d9221"
            ],
            [
             1,
             "#276419"
            ]
           ],
           "sequential": [
            [
             0,
             "#0d0887"
            ],
            [
             0.1111111111111111,
             "#46039f"
            ],
            [
             0.2222222222222222,
             "#7201a8"
            ],
            [
             0.3333333333333333,
             "#9c179e"
            ],
            [
             0.4444444444444444,
             "#bd3786"
            ],
            [
             0.5555555555555556,
             "#d8576b"
            ],
            [
             0.6666666666666666,
             "#ed7953"
            ],
            [
             0.7777777777777778,
             "#fb9f3a"
            ],
            [
             0.8888888888888888,
             "#fdca26"
            ],
            [
             1,
             "#f0f921"
            ]
           ],
           "sequentialminus": [
            [
             0,
             "#0d0887"
            ],
            [
             0.1111111111111111,
             "#46039f"
            ],
            [
             0.2222222222222222,
             "#7201a8"
            ],
            [
             0.3333333333333333,
             "#9c179e"
            ],
            [
             0.4444444444444444,
             "#bd3786"
            ],
            [
             0.5555555555555556,
             "#d8576b"
            ],
            [
             0.6666666666666666,
             "#ed7953"
            ],
            [
             0.7777777777777778,
             "#fb9f3a"
            ],
            [
             0.8888888888888888,
             "#fdca26"
            ],
            [
             1,
             "#f0f921"
            ]
           ]
          },
          "colorway": [
           "#636efa",
           "#EF553B",
           "#00cc96",
           "#ab63fa",
           "#FFA15A",
           "#19d3f3",
           "#FF6692",
           "#B6E880",
           "#FF97FF",
           "#FECB52"
          ],
          "font": {
           "color": "#f2f5fa"
          },
          "geo": {
           "bgcolor": "rgb(17,17,17)",
           "lakecolor": "rgb(17,17,17)",
           "landcolor": "rgb(17,17,17)",
           "showlakes": true,
           "showland": true,
           "subunitcolor": "#506784"
          },
          "hoverlabel": {
           "align": "left"
          },
          "hovermode": "closest",
          "mapbox": {
           "style": "dark"
          },
          "paper_bgcolor": "rgb(17,17,17)",
          "plot_bgcolor": "rgb(17,17,17)",
          "polar": {
           "angularaxis": {
            "gridcolor": "#506784",
            "linecolor": "#506784",
            "ticks": ""
           },
           "bgcolor": "rgb(17,17,17)",
           "radialaxis": {
            "gridcolor": "#506784",
            "linecolor": "#506784",
            "ticks": ""
           }
          },
          "scene": {
           "xaxis": {
            "backgroundcolor": "rgb(17,17,17)",
            "gridcolor": "#506784",
            "gridwidth": 2,
            "linecolor": "#506784",
            "showbackground": true,
            "ticks": "",
            "zerolinecolor": "#C8D4E3"
           },
           "yaxis": {
            "backgroundcolor": "rgb(17,17,17)",
            "gridcolor": "#506784",
            "gridwidth": 2,
            "linecolor": "#506784",
            "showbackground": true,
            "ticks": "",
            "zerolinecolor": "#C8D4E3"
           },
           "zaxis": {
            "backgroundcolor": "rgb(17,17,17)",
            "gridcolor": "#506784",
            "gridwidth": 2,
            "linecolor": "#506784",
            "showbackground": true,
            "ticks": "",
            "zerolinecolor": "#C8D4E3"
           }
          },
          "shapedefaults": {
           "line": {
            "color": "#f2f5fa"
           }
          },
          "sliderdefaults": {
           "bgcolor": "#C8D4E3",
           "bordercolor": "rgb(17,17,17)",
           "borderwidth": 1,
           "tickwidth": 0
          },
          "ternary": {
           "aaxis": {
            "gridcolor": "#506784",
            "linecolor": "#506784",
            "ticks": ""
           },
           "baxis": {
            "gridcolor": "#506784",
            "linecolor": "#506784",
            "ticks": ""
           },
           "bgcolor": "rgb(17,17,17)",
           "caxis": {
            "gridcolor": "#506784",
            "linecolor": "#506784",
            "ticks": ""
           }
          },
          "title": {
           "x": 0.05
          },
          "updatemenudefaults": {
           "bgcolor": "#506784",
           "borderwidth": 0
          },
          "xaxis": {
           "automargin": true,
           "gridcolor": "#283442",
           "linecolor": "#506784",
           "ticks": "",
           "title": {
            "standoff": 15
           },
           "zerolinecolor": "#283442",
           "zerolinewidth": 2
          },
          "yaxis": {
           "automargin": true,
           "gridcolor": "#283442",
           "linecolor": "#506784",
           "ticks": "",
           "title": {
            "standoff": 15
           },
           "zerolinecolor": "#283442",
           "zerolinewidth": 2
          }
         }
        },
        "title": {
         "text": "Compare Motion Plots"
        },
        "xaxis": {
         "fixedrange": true,
         "showgrid": false,
         "showticklabels": false,
         "zeroline": false,
         "zerolinecolor": "gray",
         "zerolinewidth": 1
        },
        "yaxis": {
         "fixedrange": true,
         "showgrid": false,
         "showticklabels": false,
         "zeroline": false,
         "zerolinecolor": "gray",
         "zerolinewidth": 1
        }
       }
      }
     },
     "metadata": {},
     "output_type": "display_data"
    }
   ],
   "source": [
    "counter = 0\n",
    "for d in project_config.train_iterator:\n",
    "    if counter > 6:\n",
    "        X = d[\"X\"][:3, :, :]\n",
    "        print(X.shape)\n",
    "        min_val, max_val = get_min_max_from_dataset(X)\n",
    "            \n",
    "        X_scaled = torch.zeros_like(X)\n",
    "        X_centered = torch.zeros_like(X)\n",
    "        X_centered_scaled = torch.zeros_like(X)\n",
    "\n",
    "        # # finding the touching point of each motion and centering the motion on that\n",
    "        center_points = torch.zeros_like(X[:, 0:1, :])        \n",
    "        center_points[:, 0, :3] = X[:, 9, :3]\n",
    "        X_centered =  X - center_points\n",
    "\n",
    "        # # scaling data between 0 and 1\n",
    "        X_scaled =(X - min_val) / (max_val - min_val)\n",
    "        \n",
    "        print (torch.sum(X -(X_scaled*(max_val - min_val)+min_val)) < 0.001)\n",
    "        \n",
    "        # # scaling the centered data between 0 and 1\n",
    "        centered_min_val, centered_max_val = get_min_max_from_dataset(X_centered)\n",
    "        \n",
    "        x_samples = d[project_config.data_item]\n",
    "        y_samples = d[\"Y\"]\n",
    "        \n",
    "        x_rec, __, __ = model(x_samples, y_samples)\n",
    "        \n",
    "        centered_min_val= d[\"centered_min_val\"][0]\n",
    "        centered_max_val= d[\"centered_max_val\"][0]\n",
    "        \n",
    "        X_centered_scaled = (X_centered - centered_min_val) / (centered_max_val - centered_min_val)\n",
    "        X_back_to_orig = (X_centered_scaled*(centered_max_val - centered_min_val)+centered_min_val)+center_points\n",
    "            \n",
    "\n",
    "        fig_01 = compare_motion_data_plots([X, X_back_to_orig], 0) \n",
    "        break\n",
    "    counter +=1"
   ]
  },
  {
   "cell_type": "code",
   "execution_count": null,
   "metadata": {},
   "outputs": [],
   "source": []
  }
 ],
 "metadata": {
  "kernelspec": {
   "display_name": "Python 3.10.8 ('ThirdHand')",
   "language": "python",
   "name": "python3"
  },
  "language_info": {
   "codemirror_mode": {
    "name": "ipython",
    "version": 3
   },
   "file_extension": ".py",
   "mimetype": "text/x-python",
   "name": "python",
   "nbconvert_exporter": "python",
   "pygments_lexer": "ipython3",
   "version": "3.10.8"
  },
  "orig_nbformat": 4,
  "vscode": {
   "interpreter": {
    "hash": "32d9db1937a742deca98e81c7250077b3dbbb3d3b598369d9a0a4746ee2520b3"
   }
  }
 },
 "nbformat": 4,
 "nbformat_minor": 2
}
