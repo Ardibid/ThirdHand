{
 "cells": [
  {
   "cell_type": "markdown",
   "metadata": {},
   "source": [
    "# Models used for thesis visualizations"
   ]
  },
  {
   "cell_type": "code",
   "execution_count": 1,
   "metadata": {},
   "outputs": [
    {
     "ename": "ModuleNotFoundError",
     "evalue": "No module named 'torch'",
     "output_type": "error",
     "traceback": [
      "\u001b[1;31m---------------------------------------------------------------------------\u001b[0m",
      "\u001b[1;31mModuleNotFoundError\u001b[0m                       Traceback (most recent call last)",
      "\u001b[1;32m~\\AppData\\Local\\Temp\\ipykernel_52948\\2685407305.py\u001b[0m in \u001b[0;36m<module>\u001b[1;34m\u001b[0m\n\u001b[1;32m----> 1\u001b[1;33m \u001b[1;32mimport\u001b[0m \u001b[0mtorch\u001b[0m\u001b[1;33m\u001b[0m\u001b[1;33m\u001b[0m\u001b[0m\n\u001b[0m\u001b[0;32m      2\u001b[0m \u001b[1;32mfrom\u001b[0m \u001b[0mtorch\u001b[0m\u001b[1;33m.\u001b[0m\u001b[0mnn\u001b[0m \u001b[1;32mimport\u001b[0m \u001b[0mfunctional\u001b[0m \u001b[1;32mas\u001b[0m \u001b[0mF\u001b[0m\u001b[1;33m\u001b[0m\u001b[1;33m\u001b[0m\u001b[0m\n\u001b[0;32m      3\u001b[0m \u001b[1;33m\u001b[0m\u001b[0m\n\u001b[0;32m      4\u001b[0m \u001b[1;32mimport\u001b[0m \u001b[0mtorch\u001b[0m\u001b[1;33m.\u001b[0m\u001b[0mnn\u001b[0m \u001b[1;32mas\u001b[0m \u001b[0mnn\u001b[0m\u001b[1;33m\u001b[0m\u001b[1;33m\u001b[0m\u001b[0m\n\u001b[0;32m      5\u001b[0m \u001b[1;32mfrom\u001b[0m \u001b[0mtorch\u001b[0m \u001b[1;32mimport\u001b[0m \u001b[0moptim\u001b[0m \u001b[1;32mas\u001b[0m \u001b[0moptim\u001b[0m\u001b[1;33m\u001b[0m\u001b[1;33m\u001b[0m\u001b[0m\n",
      "\u001b[1;31mModuleNotFoundError\u001b[0m: No module named 'torch'"
     ]
    }
   ],
   "source": [
    "import torch\n",
    "from torch.nn import functional as F\n",
    "\n",
    "import torch.nn as nn\n",
    "from torch import optim as optim\n",
    "\n",
    "# wandb\n",
    "import pprint\n",
    "\n",
    "# misc\n",
    "import numpy as np\n",
    "from os.path import join\n",
    "import time\n",
    "\n",
    "# visualizations\n",
    "import plotly.graph_objects as go\n",
    "from plotly.subplots import make_subplots\n",
    "\n",
    "# modules\n",
    "from src.main_utils import Configuration\n",
    "from src.evaluation_utils import eval_epoch\n",
    "from src.thirdHand_data_loader import get_min_max_from_dataset"
   ]
  },
  {
   "cell_type": "markdown",
   "metadata": {},
   "source": [
    "---"
   ]
  },
  {
   "cell_type": "markdown",
   "metadata": {},
   "source": [
    "# Model Basic works"
   ]
  },
  {
   "cell_type": "code",
   "execution_count": 3,
   "metadata": {},
   "outputs": [
    {
     "name": "stdout",
     "output_type": "stream",
     "text": [
      "Data loaded from 11 filse, stored in a dataframe with shape (248486, 10)\n",
      "Dataframe headers are: ['px', 'py', 'pz', 'v1x', 'v1y', 'v1z', 'v2x', 'v2y', 'v2z', 'hand']\n",
      "Data loaded from 2 filse, stored in a dataframe with shape (54402, 10)\n",
      "Dataframe headers are: ['px', 'py', 'pz', 'v1x', 'v1y', 'v1z', 'v2x', 'v2y', 'v2z', 'hand']\n"
     ]
    }
   ],
   "source": [
    "model_config = Configuration()"
   ]
  },
  {
   "cell_type": "code",
   "execution_count": 4,
   "metadata": {},
   "outputs": [
    {
     "name": "stdout",
     "output_type": "stream",
     "text": [
      "X_centered_scaled\n"
     ]
    }
   ],
   "source": [
    "print(model_config.data_item)"
   ]
  },
  {
   "cell_type": "markdown",
   "metadata": {},
   "source": [
    "### C-VAE Model"
   ]
  },
  {
   "cell_type": "code",
   "execution_count": 5,
   "metadata": {},
   "outputs": [],
   "source": [
    "class Encoder(nn.Module):\n",
    "    def __init__(self, device, first_filter_size, kernel_size, depth, dropout, latent_dim):\n",
    "        super(Encoder, self).__init__()\n",
    "        self.device= device\n",
    "        self.first_filter_size= first_filter_size\n",
    "        self.kernel_size= kernel_size\n",
    "        self.encoder_padding = kernel_size//2 -1\n",
    "        self.depth = depth \n",
    "        self.latent_dim = 2**latent_dim\n",
    "        self.filter_number = [2**(i) for i in range(first_filter_size+1)]\n",
    "        self.filter_number.reverse()\n",
    "        \n",
    "        self.filter_number = self.filter_number[:self.depth]\n",
    "        self.last_encoder_filter_size = None\n",
    "        \n",
    "        self.dropout = dropout\n",
    "        self.encoder_layers = self.make_encoder() \n",
    "        \n",
    "        self.last_filter_size = self.filter_number[0]\n",
    "        self.last_feature_size= (10-(depth*2+1))\n",
    "        self.last_dim =  self.last_filter_size*self.last_feature_size\n",
    "\n",
    "        self.flatten_layer = nn.Flatten().to(device)\n",
    "        self.convert_to_latent = nn.Linear(self.last_dim, 2*self.latent_dim).to(device)\n",
    "        \n",
    "    def make_encoder(self):\n",
    "        encoder_cnn_blocks = []\n",
    "        \n",
    "        for i in range(len(self.filter_number)):\n",
    "            if i ==0:\n",
    "                in_dim = 20\n",
    "                out_dim = self.filter_number[i]   \n",
    "            else:\n",
    "                in_dim = self.filter_number[i-1]\n",
    "                out_dim = self.filter_number[i]\n",
    "                \n",
    "            cnn_block_layers=[\n",
    "                            nn.Conv1d(in_channels= in_dim, \n",
    "                                    out_channels= out_dim, \n",
    "                                    kernel_size= self.kernel_size, \n",
    "                                    padding= self.encoder_padding),\n",
    "                            nn.BatchNorm1d(out_dim),\n",
    "                            nn.ReLU(),\n",
    "                            nn.Dropout(self.dropout),\n",
    "                            ]\n",
    "            \n",
    "            cnn_block = nn.Sequential(*cnn_block_layers).to(self.device)\n",
    "            \n",
    "            encoder_cnn_blocks.append(cnn_block)\n",
    "            self.last_encoder_filter_size = out_dim\n",
    "            \n",
    "        self.filter_number.reverse()\n",
    "        \n",
    "        return nn.ModuleList(encoder_cnn_blocks)\n",
    "    \n",
    "    \n",
    "    def reparametrization(self, mean, log_var):\n",
    "        \"\"\"\n",
    "        Samples from a normal distribution with a given set of\n",
    "        means and log_vars\n",
    "        \"\"\"\n",
    "        # epsilon is a vector of size (1, latent_dim)\n",
    "        # it is samples from a Standard Normal distribution\n",
    "        # mean = 0. and std = 1.\n",
    "        epsilon = torch.normal(mean= 0, std= 1, size = log_var.shape).to(self.device) \n",
    "\n",
    "        # we need to convert log(var) into var:\n",
    "        var = torch.exp(log_var*0.5)\n",
    "        # epsilon = torch.randn_like(var)\n",
    "        # now, we change the standard normal distributions to\n",
    "        # a set of non standard normal distributions\n",
    "        z = mean + epsilon*var\n",
    "        return z\n",
    "    \n",
    "    def forward(self, x, y):\n",
    "        for block in self.encoder_layers:\n",
    "            x = block(x) \n",
    "\n",
    "        latent_ready = self.flatten_layer(x) \n",
    "        latent = self.convert_to_latent(latent_ready)\n",
    "\n",
    "        mean = latent[:, : self.latent_dim]\n",
    "        log_var = latent[:,self.latent_dim:]\n",
    "\n",
    "        z = self.reparametrization(mean, log_var)\n",
    "\n",
    "        return z, mean, log_var"
   ]
  },
  {
   "cell_type": "code",
   "execution_count": 6,
   "metadata": {},
   "outputs": [],
   "source": [
    "class Decoder(nn.Module):\n",
    "    def __init__(self, device, first_filter_size, kernel_size, depth, latent_dim, last_filter_size, last_feature_size):\n",
    "        super(Decoder, self).__init__()\n",
    "        \n",
    "        self.device= device\n",
    "        self.first_filter_size= first_filter_size\n",
    "        self.kernel_size= kernel_size\n",
    "        self.encoder_padding = kernel_size//2 -1\n",
    "        self.depth = depth \n",
    "        self.latent_dim = 2**latent_dim\n",
    "        self.last_filter_size= last_filter_size\n",
    "        self.last_feature_size= last_feature_size\n",
    "        \n",
    "        \n",
    "        \n",
    "        self.filter_number = [2**(i) for i in range(first_filter_size+1)]        \n",
    "        self.filter_number = self.filter_number[-self.depth:]\n",
    "        self.filter_number.reverse()\n",
    "        \n",
    "        self.decoder_layers = self.make_decoder()\n",
    "        self.z_to_decoder = nn.Linear(self.latent_dim,self.last_filter_size*self.last_feature_size).to(device)\n",
    "       \n",
    "    def make_decoder(self):\n",
    "        decoder_cnn_blocks = []\n",
    "        \n",
    "        for i in range(len(self.filter_number)+1):\n",
    "            self.decoder_padding = self.encoder_padding\n",
    "            if i == 0:\n",
    "                in_dim = self.last_filter_size\n",
    "                out_dim = self.filter_number[i]\n",
    "                \n",
    "            elif i == len(self.filter_number):\n",
    "                in_dim = self.filter_number[i-1]\n",
    "                out_dim = 20  \n",
    "                self.decoder_padding += 1\n",
    "                \n",
    "            else:\n",
    "                in_dim = self.filter_number[i-1]\n",
    "                out_dim = self.filter_number[i]\n",
    "                        \n",
    "            cnn_block_layers = [\n",
    "                                nn.ConvTranspose1d(in_channels= in_dim, \n",
    "                                                    out_channels= out_dim, \n",
    "                                                    kernel_size= self.kernel_size, \n",
    "                                                    padding= self.decoder_padding,\n",
    "                                                    ),\n",
    "                                ]\n",
    "            \n",
    "            \n",
    "            cnn_block = nn.Sequential(*cnn_block_layers).to(self.device)\n",
    "            decoder_cnn_blocks.append(cnn_block)\n",
    "            \n",
    "        return nn.ModuleList(decoder_cnn_blocks)\n",
    "    \n",
    "    def forward(self, z, y):\n",
    "        decoded = self.z_to_decoder(z).view(-1, self.last_filter_size, self.last_feature_size)\n",
    "        \n",
    "        for block in self.decoder_layers:\n",
    "            decoded = block(decoded)\n",
    "        \n",
    "        return decoded "
   ]
  },
  {
   "cell_type": "code",
   "execution_count": 7,
   "metadata": {},
   "outputs": [],
   "source": [
    "class VAE_CNN(nn.Module):\n",
    "    def __init__(self, device, first_filter_size, kernel_size, depth, dropout, latent_dim, rec_loss, reduction, kld_weight):\n",
    "        super(VAE_CNN, self).__init__()\n",
    "\n",
    "        self.encoder = Encoder(\n",
    "                                device, \n",
    "                                first_filter_size, \n",
    "                                kernel_size, \n",
    "                                depth, \n",
    "                                dropout, \n",
    "                                latent_dim,\n",
    "                                )\n",
    "\n",
    "        self.decoder = Decoder(\n",
    "                                device, \n",
    "                                first_filter_size, \n",
    "                                kernel_size, \n",
    "                                depth, \n",
    "                                latent_dim, \n",
    "                                self.encoder.last_filter_size,\n",
    "                                self.encoder.last_feature_size,\n",
    "                                )\n",
    "        \n",
    "        self.reduction = reduction\n",
    "        self.kld_weight = kld_weight\n",
    "        self.rec_loss = rec_loss\n",
    "        \n",
    "    def vae_loss_function(self, x, x_rec, log_var, mean):\n",
    "        if self.rec_loss == \"L1\":\n",
    "            train_rec_loss = F.l1_loss(x_rec, x, reduction=self.reduction)   \n",
    "        else:\n",
    "            train_rec_loss = F.mse_loss(x_rec, x, reduction=self.reduction)     \n",
    "        train_kld_loss = torch.mean(-0.5 * torch.sum(1 + log_var - mean**2 - log_var.exp(), dim = 1), dim = 0)\n",
    "\n",
    "        train_loss = train_rec_loss  + train_kld_loss*self.kld_weight\n",
    "        \n",
    "        return train_loss, train_rec_loss, train_kld_loss*self.kld_weight  \n",
    "    \n",
    "    def forward(self, x, y):\n",
    "        z, mean, log_var = self.encoder(x, y)\n",
    "        x_rec = self.decoder(z, y)\n",
    "        return x_rec, mean, log_var\n",
    "        "
   ]
  },
  {
   "cell_type": "code",
   "execution_count": 8,
   "metadata": {},
   "outputs": [],
   "source": [
    "def vae_loss_function(x, x_rec, log_var, mean, rec_loss, reduction, kld_weight):\n",
    "    if rec_loss == \"L1\":\n",
    "        train_rec_loss = F.l1_loss(x_rec, x, reduction=reduction)   \n",
    "    else:\n",
    "        train_rec_loss = F.mse_loss(x_rec, x, reduction=reduction)     \n",
    "    train_kld_loss = torch.mean(-0.5 * torch.sum(1 + log_var - mean**2 - log_var.exp(), dim = 1), dim = 0)\n",
    "\n",
    "    train_loss = train_rec_loss  + train_kld_loss*kld_weight\n",
    "    \n",
    "    return train_loss, train_rec_loss, train_kld_loss*kld_weight"
   ]
  },
  {
   "cell_type": "markdown",
   "metadata": {},
   "source": [
    "## Training functions"
   ]
  },
  {
   "cell_type": "markdown",
   "metadata": {},
   "source": [
    "---\n",
    "### Epoch training loop"
   ]
  },
  {
   "cell_type": "code",
   "execution_count": 9,
   "metadata": {},
   "outputs": [],
   "source": [
    "def train_epoch_single(model, model_config, optimizer):\n",
    "    model.train()\n",
    "    epoch_loss = 0\n",
    "    epoch_rec_loss = 0\n",
    "    epoch_kld_loss = 0\n",
    " \n",
    "    for data in model_config.train_iterator:\n",
    "        x= data[model_config.data_item]\n",
    "        y= data[\"Y\"]\n",
    "        \n",
    "        optimizer.zero_grad()\n",
    "        x_rec, mean, log_var = model(x,y)\n",
    "        \n",
    "        # calculating losses\n",
    "        train_loss, train_rec_loss, train_kld_loss = vae_loss_function (x, \n",
    "                                                                        x_rec, \n",
    "                                                                        log_var, \n",
    "                                                                        mean, \n",
    "                                                                        rec_loss= model.rec_loss, \n",
    "                                                                        reduction= model.reduction,\n",
    "                                                                        kld_weight= model.kld_weight)\n",
    "\n",
    "        # updating the history\n",
    "        epoch_rec_loss += train_rec_loss.item()\n",
    "        epoch_kld_loss += train_kld_loss.item()\n",
    "        epoch_loss += train_loss.item() \n",
    "        \n",
    "        train_loss.backward()\n",
    "        optimizer.step()\n",
    " \n",
    "    counter = len(model_config.train_iterator)   \n",
    "    results = [epoch_loss/counter,\n",
    "                epoch_rec_loss/counter, \n",
    "                epoch_kld_loss/counter]      \n",
    "    \n",
    "    return results"
   ]
  },
  {
   "cell_type": "markdown",
   "metadata": {},
   "source": [
    "### Main training loop"
   ]
  },
  {
   "cell_type": "code",
   "execution_count": 10,
   "metadata": {},
   "outputs": [],
   "source": [
    "def train_model(model, epochs, batch_size):  \n",
    "    start_time = time.time()\n",
    "    optimizer = optim.Adam(model.parameters(), lr = 0.0001)\n",
    "    \n",
    "    \n",
    "    model_config.batch_size = batch_size\n",
    "    model_config.process_dataset_dataloaders()\n",
    "    train_losses = []\n",
    "    train_rec_losses = []\n",
    "    train_kld_losses = []\n",
    "    eval_losses = []\n",
    "    for epoch in range(epochs+1):\n",
    "        # train\n",
    "        train_loss, train_rec_loss, train_kld_loss = train_epoch_single(\n",
    "                                                                        model, \n",
    "                                                                        model_config,\n",
    "                                                                        optimizer,\n",
    "                                                                        )\n",
    "        log_plot= False\n",
    "        report_interval = 50\n",
    "        if epoch % report_interval ==0:\n",
    "            log_plot= True\n",
    "            path_to_save_plot = \"runs/progress/tmp_fig_{}.png\".format(epoch)  \n",
    "            print(\"<<Image {} saved>>\".format(epoch)) \n",
    "              \n",
    "        eval_loss, eval_rec_losses, eval_kld_loss = eval_epoch(\n",
    "                                                                model, \n",
    "                                                                model_config, \n",
    "                                                                model_config.valid_iterator, \n",
    "                                                                loss_function= vae_loss_function,\n",
    "                                                                rec_loss= model.rec_loss, \n",
    "                                                                reduction=model.reduction, \n",
    "                                                                kld_weight= model.kld_weight,\n",
    "                                                                save_plot= log_plot,\n",
    "                                                                path_to_save_plot= path_to_save_plot,\n",
    "                                                                is_vae= True\n",
    "                                                                )\n",
    "        \n",
    "        train_losses.append(train_loss)\n",
    "        train_rec_losses.append(train_rec_loss)\n",
    "        train_kld_losses.append(train_kld_loss)\n",
    "        eval_losses.append(eval_loss)\n",
    "        \n",
    "        if epoch % report_interval ==0:\n",
    "            print(\"{}:\\tTotal: {:.5f}\\tEval loss: {:.5f}\\t Rec loss: {:.5f}\\t KLD loss: {:.5f}\\t time: {:.1f}s\".format(epoch, \n",
    "                                                                          train_loss,\n",
    "                                                                          eval_loss,\n",
    "                                                                          train_rec_loss,\n",
    "                                                                          train_kld_loss,\n",
    "                                                                          time.time()-start_time))\n",
    "    quick_plot(train_losses, train_rec_losses, train_kld_losses, eval_losses)\n",
    "    return train_losses ,train_rec_losses,train_kld_losses, eval_losses"
   ]
  },
  {
   "cell_type": "code",
   "execution_count": 11,
   "metadata": {},
   "outputs": [],
   "source": [
    "def quick_plot(train_losses=None, rec= None, KLD= None, eval_losses= None, log_scale= True):\n",
    "    items_to_plot= []\n",
    "    if train_losses:\n",
    "        train = go.Scatter(x= np.arange(len(train_losses)), y=train_losses, name=\"training\", mode='lines')\n",
    "        items_to_plot.append(train)\n",
    "    if eval_losses:\n",
    "        valid = go.Scatter(x= np.arange(len(eval_losses)),  y=eval_losses, name=\"validation\", mode='lines')\n",
    "        items_to_plot.append(valid)\n",
    "    \n",
    "    if rec:\n",
    "        rec = go.Scatter(x= np.arange(len(rec)), y=rec, name=\"reconstruction\", mode='lines')\n",
    "        items_to_plot.append(rec)\n",
    "    \n",
    "    if KLD:\n",
    "        KLD = go.Scatter(x= np.arange(len(KLD)), y=KLD, name=\"KLD\", mode='lines')\n",
    "        items_to_plot.append(KLD)\n",
    "\n",
    "    fig = go.Figure(items_to_plot)\n",
    "    \n",
    "    if log_scale:\n",
    "        fig.update_yaxes(type=\"log\")\n",
    "        \n",
    "    fig.update_layout(template =  \"plotly_dark\")\n",
    "    fig.show()"
   ]
  },
  {
   "cell_type": "markdown",
   "metadata": {},
   "source": [
    "___"
   ]
  },
  {
   "cell_type": "markdown",
   "metadata": {},
   "source": [
    "### Testingthe parameters and workflow manually"
   ]
  },
  {
   "cell_type": "markdown",
   "metadata": {},
   "source": [
    "This model is based on the optimization results:"
   ]
  },
  {
   "cell_type": "code",
   "execution_count": 12,
   "metadata": {},
   "outputs": [],
   "source": [
    "# 3 or 5 both work!\n",
    "kernel_size = 5\n",
    "\n",
    "# between 10 and 5\n",
    "first_filter_size = 9\n",
    "\n",
    "# depth should be 2, 3, 4\n",
    "depth = 2\n",
    "dropout = 0.1\n",
    "epochs = 300\n",
    "\n",
    "batch_size = 128\n",
    "latent_dim = 8\n",
    "\n",
    "rec_loss= \"L1\"\n",
    "reduction= \"sum\" \n",
    "kld_weight = 1e-1\n",
    "\n",
    "model = VAE_CNN(model_config.device, \n",
    "                first_filter_size, \n",
    "                kernel_size, \n",
    "                depth, \n",
    "                dropout,\n",
    "                latent_dim,\n",
    "                rec_loss= rec_loss,\n",
    "                reduction= reduction,\n",
    "                kld_weight = kld_weight)"
   ]
  },
  {
   "cell_type": "code",
   "execution_count": 13,
   "metadata": {},
   "outputs": [
    {
     "name": "stdout",
     "output_type": "stream",
     "text": [
      "<<Image 0 saved>>\n",
      "0:\tTotal: 5876.16468\tEval loss: 7837.97803\t Rec loss: 5869.79834\t KLD loss: 6.36631\t time: 5.7s\n",
      "<<Image 50 saved>>\n",
      "50:\tTotal: 482.77175\tEval loss: 438.45502\t Rec loss: 425.87397\t KLD loss: 56.89778\t time: 13.1s\n",
      "<<Image 100 saved>>\n",
      "100:\tTotal: 385.92646\tEval loss: 314.13008\t Rec loss: 329.41664\t KLD loss: 56.50983\t time: 20.4s\n",
      "<<Image 150 saved>>\n",
      "150:\tTotal: 344.19507\tEval loss: 285.50156\t Rec loss: 288.86668\t KLD loss: 55.32839\t time: 27.7s\n",
      "<<Image 200 saved>>\n",
      "200:\tTotal: 315.45881\tEval loss: 270.03328\t Rec loss: 261.01551\t KLD loss: 54.44330\t time: 35.0s\n",
      "<<Image 250 saved>>\n",
      "250:\tTotal: 315.26925\tEval loss: 269.17783\t Rec loss: 262.03925\t KLD loss: 53.22999\t time: 42.4s\n",
      "<<Image 300 saved>>\n",
      "300:\tTotal: 287.91034\tEval loss: 255.60143\t Rec loss: 234.91006\t KLD loss: 53.00029\t time: 49.7s\n"
     ]
    },
    {
     "data": {
      "application/vnd.plotly.v1+json": {
       "config": {
        "plotlyServerURL": "https://plot.ly"
       },
       "data": [
        {
         "mode": "lines",
         "name": "training",
         "type": "scatter",
         "x": [
          0,
          1,
          2,
          3,
          4,
          5,
          6,
          7,
          8,
          9,
          10,
          11,
          12,
          13,
          14,
          15,
          16,
          17,
          18,
          19,
          20,
          21,
          22,
          23,
          24,
          25,
          26,
          27,
          28,
          29,
          30,
          31,
          32,
          33,
          34,
          35,
          36,
          37,
          38,
          39,
          40,
          41,
          42,
          43,
          44,
          45,
          46,
          47,
          48,
          49,
          50,
          51,
          52,
          53,
          54,
          55,
          56,
          57,
          58,
          59,
          60,
          61,
          62,
          63,
          64,
          65,
          66,
          67,
          68,
          69,
          70,
          71,
          72,
          73,
          74,
          75,
          76,
          77,
          78,
          79,
          80,
          81,
          82,
          83,
          84,
          85,
          86,
          87,
          88,
          89,
          90,
          91,
          92,
          93,
          94,
          95,
          96,
          97,
          98,
          99,
          100,
          101,
          102,
          103,
          104,
          105,
          106,
          107,
          108,
          109,
          110,
          111,
          112,
          113,
          114,
          115,
          116,
          117,
          118,
          119,
          120,
          121,
          122,
          123,
          124,
          125,
          126,
          127,
          128,
          129,
          130,
          131,
          132,
          133,
          134,
          135,
          136,
          137,
          138,
          139,
          140,
          141,
          142,
          143,
          144,
          145,
          146,
          147,
          148,
          149,
          150,
          151,
          152,
          153,
          154,
          155,
          156,
          157,
          158,
          159,
          160,
          161,
          162,
          163,
          164,
          165,
          166,
          167,
          168,
          169,
          170,
          171,
          172,
          173,
          174,
          175,
          176,
          177,
          178,
          179,
          180,
          181,
          182,
          183,
          184,
          185,
          186,
          187,
          188,
          189,
          190,
          191,
          192,
          193,
          194,
          195,
          196,
          197,
          198,
          199,
          200,
          201,
          202,
          203,
          204,
          205,
          206,
          207,
          208,
          209,
          210,
          211,
          212,
          213,
          214,
          215,
          216,
          217,
          218,
          219,
          220,
          221,
          222,
          223,
          224,
          225,
          226,
          227,
          228,
          229,
          230,
          231,
          232,
          233,
          234,
          235,
          236,
          237,
          238,
          239,
          240,
          241,
          242,
          243,
          244,
          245,
          246,
          247,
          248,
          249,
          250,
          251,
          252,
          253,
          254,
          255,
          256,
          257,
          258,
          259,
          260,
          261,
          262,
          263,
          264,
          265,
          266,
          267,
          268,
          269,
          270,
          271,
          272,
          273,
          274,
          275,
          276,
          277,
          278,
          279,
          280,
          281,
          282,
          283,
          284,
          285,
          286,
          287,
          288,
          289,
          290,
          291,
          292,
          293,
          294,
          295,
          296,
          297,
          298,
          299,
          300
         ],
         "y": [
          5876.164682241587,
          2760.218205378606,
          1813.2732684795674,
          1397.2571645883413,
          1107.5282451923076,
          998.0130333533654,
          1002.4464815579928,
          907.268803523137,
          808.7640380859375,
          759.467759352464,
          730.4646935096154,
          709.6052480844351,
          701.7982600285457,
          709.932866023137,
          660.760507436899,
          624.1431180513822,
          629.7786771334135,
          613.3430880033053,
          601.6087411733774,
          597.949209359976,
          619.3863102839543,
          570.0862051156851,
          581.2132192758413,
          554.8998694786659,
          615.3094623272235,
          536.9524770883413,
          550.2971660907452,
          538.139408991887,
          527.5568049504207,
          534.3431067833534,
          550.6950331467849,
          521.914555476262,
          526.588146503155,
          566.208989070012,
          492.05107938326324,
          489.1895188551683,
          483.94703791691705,
          477.66799692007214,
          524.8641545222356,
          534.0512507512019,
          537.1574214054988,
          465.85952524038464,
          472.77938373272235,
          473.65122868464545,
          479.58248431865985,
          464.8312025803786,
          465.50103994516223,
          443.79378098707934,
          441.59283212515027,
          483.9634540264423,
          482.7717496431791,
          446.78569852388824,
          436.8128685584435,
          436.09958120492786,
          455.9468735914964,
          449.7920438326322,
          421.44415517953723,
          429.88679856520434,
          428.6309814453125,
          440.56651188777045,
          424.4664776141827,
          425.4827833909255,
          427.66517052283655,
          423.15689556415265,
          418.0512953538161,
          414.9138653094952,
          425.6798048753005,
          424.7080312875601,
          423.09783700796277,
          426.92234919621393,
          407.98944091796875,
          423.9328801081731,
          425.9081585223858,
          418.94202833909253,
          400.6671870304988,
          389.53217256986176,
          393.34190251277045,
          399.742429293119,
          395.6072012094351,
          389.3822514460637,
          405.32347693810095,
          417.6736567570613,
          404.1543532151442,
          390.1763399564303,
          390.4939622145433,
          380.0467130220853,
          383.84649423452527,
          376.8042696439303,
          379.09959763746997,
          387.75785006009613,
          380.89755483774036,
          381.3558654785156,
          401.90853177584137,
          401.5674743652344,
          382.12710336538464,
          379.0809138371394,
          376.6014615572416,
          414.7912832406851,
          386.8993671123798,
          388.66192626953125,
          385.9264620267428,
          369.1021399864784,
          367.5793222280649,
          368.2083176832933,
          367.84966806265027,
          363.1151052621695,
          381.1823918269231,
          388.7179283728966,
          368.384284386268,
          358.7668151855469,
          360.44737830528845,
          367.84989577073316,
          413.7958514873798,
          397.56709641676684,
          369.5805358886719,
          356.66651564378003,
          371.7431429349459,
          375.3659409743089,
          355.0247028057392,
          355.6177673339844,
          362.6928311861478,
          379.2048527644231,
          357.94671630859375,
          351.95426119290863,
          350.39043485201324,
          365.4037170410156,
          352.39166494516223,
          353.8965148925781,
          350.6070321890024,
          344.80718759390027,
          364.68390596829926,
          348.9246614896334,
          359.587404691256,
          345.62894381009613,
          345.8638469989483,
          344.41658372145434,
          339.7249427208534,
          346.0852238581731,
          340.1234623835637,
          342.1916832557091,
          347.9762784517728,
          344.19493220402643,
          345.9184053861178,
          339.6440922663762,
          336.11801382211536,
          332.63057767427887,
          332.60643357496997,
          345.0579575758714,
          385.94742290790265,
          346.8980947641226,
          344.195070706881,
          342.45477999173676,
          335.90483914888824,
          334.84605994591345,
          350.4993685208834,
          345.03411160982574,
          349.4560992901142,
          341.28827608548676,
          332.7858628493089,
          329.45347712590143,
          320.2559344951923,
          327.1822462815505,
          333.06556349534253,
          346.3907282902644,
          346.1614239032452,
          331.6844529371995,
          335.12687330979566,
          333.1905188927284,
          336.09894503079926,
          349.23236788236176,
          345.1268521822416,
          329.201899601863,
          322.85252732496997,
          328.03614220252405,
          329.5302241398738,
          325.78575251652643,
          327.1334228515625,
          330.93348106971155,
          328.944331242488,
          320.86273193359375,
          321.60394521859973,
          331.4966148963341,
          325.18012178861176,
          321.1626375638522,
          343.4554842435397,
          334.24224853515625,
          340.39361337515027,
          334.3909419133113,
          319.21426156850964,
          321.5908672626202,
          322.67714045597955,
          320.97848041240985,
          325.36672738882214,
          332.968757042518,
          335.21597994290863,
          314.564453125,
          312.51352163461536,
          320.4898752065805,
          319.74451622596155,
          317.5798903245192,
          315.4588106595553,
          312.77777334359973,
          330.5728290264423,
          315.23863102839545,
          310.65633685772235,
          323.4252624511719,
          332.9626981295072,
          332.7174142690805,
          317.22562115009015,
          320.86866877629205,
          317.66475266676684,
          321.228269136869,
          329.88255662184497,
          309.60891488882214,
          325.73639620267426,
          324.1939392089844,
          320.73475764347955,
          318.81820913461536,
          317.2623549241286,
          304.5735426682692,
          307.45836463341345,
          319.3546330378606,
          326.091059758113,
          323.8741783728966,
          302.4183748685397,
          300.58680372971753,
          314.7847149188702,
          320.2469951923077,
          311.3517573429988,
          311.96781099759613,
          313.04359553410455,
          305.095451941857,
          306.1728750375601,
          311.0858717698317,
          299.8858173076923,
          303.3205355130709,
          302.4801260141226,
          315.3835754394531,
          318.4551532451923,
          310.4091468224159,
          304.5541076660156,
          301.3986487755409,
          297.1897489107572,
          303.69760366586536,
          313.4827810434195,
          302.5807659442608,
          318.7867502065805,
          323.3222163273738,
          306.6833707369291,
          312.4242647611178,
          315.2692472017728,
          303.7809565617488,
          322.7294358473558,
          305.644287109375,
          291.5773221529447,
          299.75405649038464,
          303.1854459322416,
          305.9284409743089,
          301.86432589017426,
          296.05357243464545,
          292.02894005408655,
          295.6549541766827,
          288.0735379732572,
          288.37772310697113,
          293.2456312913161,
          302.40955528846155,
          295.9126446063702,
          292.3844064565805,
          287.9175508939303,
          299.2883066030649,
          295.7673645019531,
          292.1635296161358,
          299.7574462890625,
          300.3942354642428,
          297.8962191068209,
          299.8112229567308,
          298.4272155761719,
          331.57025146484375,
          303.55701857346753,
          295.30411470853363,
          305.28189791165863,
          298.68575580303485,
          298.37842970628003,
          292.18272986778845,
          290.57142521784857,
          291.86911245492786,
          289.39243962214545,
          299.01607572115387,
          288.8334045410156,
          284.81554236778845,
          283.3303527832031,
          287.8670982947716,
          287.54187950721155,
          296.1364957369291,
          301.9788301908053,
          291.9816683255709,
          293.55543400691107,
          288.65830876277045,
          291.388425386869,
          287.6493647648738,
          287.91034170297473
         ]
        },
        {
         "mode": "lines",
         "name": "validation",
         "type": "scatter",
         "x": [
          0,
          1,
          2,
          3,
          4,
          5,
          6,
          7,
          8,
          9,
          10,
          11,
          12,
          13,
          14,
          15,
          16,
          17,
          18,
          19,
          20,
          21,
          22,
          23,
          24,
          25,
          26,
          27,
          28,
          29,
          30,
          31,
          32,
          33,
          34,
          35,
          36,
          37,
          38,
          39,
          40,
          41,
          42,
          43,
          44,
          45,
          46,
          47,
          48,
          49,
          50,
          51,
          52,
          53,
          54,
          55,
          56,
          57,
          58,
          59,
          60,
          61,
          62,
          63,
          64,
          65,
          66,
          67,
          68,
          69,
          70,
          71,
          72,
          73,
          74,
          75,
          76,
          77,
          78,
          79,
          80,
          81,
          82,
          83,
          84,
          85,
          86,
          87,
          88,
          89,
          90,
          91,
          92,
          93,
          94,
          95,
          96,
          97,
          98,
          99,
          100,
          101,
          102,
          103,
          104,
          105,
          106,
          107,
          108,
          109,
          110,
          111,
          112,
          113,
          114,
          115,
          116,
          117,
          118,
          119,
          120,
          121,
          122,
          123,
          124,
          125,
          126,
          127,
          128,
          129,
          130,
          131,
          132,
          133,
          134,
          135,
          136,
          137,
          138,
          139,
          140,
          141,
          142,
          143,
          144,
          145,
          146,
          147,
          148,
          149,
          150,
          151,
          152,
          153,
          154,
          155,
          156,
          157,
          158,
          159,
          160,
          161,
          162,
          163,
          164,
          165,
          166,
          167,
          168,
          169,
          170,
          171,
          172,
          173,
          174,
          175,
          176,
          177,
          178,
          179,
          180,
          181,
          182,
          183,
          184,
          185,
          186,
          187,
          188,
          189,
          190,
          191,
          192,
          193,
          194,
          195,
          196,
          197,
          198,
          199,
          200,
          201,
          202,
          203,
          204,
          205,
          206,
          207,
          208,
          209,
          210,
          211,
          212,
          213,
          214,
          215,
          216,
          217,
          218,
          219,
          220,
          221,
          222,
          223,
          224,
          225,
          226,
          227,
          228,
          229,
          230,
          231,
          232,
          233,
          234,
          235,
          236,
          237,
          238,
          239,
          240,
          241,
          242,
          243,
          244,
          245,
          246,
          247,
          248,
          249,
          250,
          251,
          252,
          253,
          254,
          255,
          256,
          257,
          258,
          259,
          260,
          261,
          262,
          263,
          264,
          265,
          266,
          267,
          268,
          269,
          270,
          271,
          272,
          273,
          274,
          275,
          276,
          277,
          278,
          279,
          280,
          281,
          282,
          283,
          284,
          285,
          286,
          287,
          288,
          289,
          290,
          291,
          292,
          293,
          294,
          295,
          296,
          297,
          298,
          299,
          300
         ],
         "y": [
          7837.97802734375,
          5154.662841796875,
          2843.875732421875,
          1484.4923706054688,
          945.0532836914062,
          843.9148559570312,
          1039.1812133789062,
          723.659912109375,
          686.5544128417969,
          642.6485595703125,
          616.8067016601562,
          604.722412109375,
          604.9612121582031,
          625.8529968261719,
          557.2474975585938,
          678.2001953125,
          752.6425170898438,
          535.8358154296875,
          562.9978332519531,
          818.9244384765625,
          533.6105651855469,
          498.3076934814453,
          467.5683898925781,
          437.9415283203125,
          453.79998779296875,
          502.9278564453125,
          418.7840881347656,
          439.8215637207031,
          475.51307678222656,
          415.12705993652344,
          654.3209228515625,
          440.1962432861328,
          410.07176208496094,
          457.54527282714844,
          448.4822235107422,
          409.0745544433594,
          393.2690734863281,
          453.0579528808594,
          557.52294921875,
          490.9559020996094,
          476.69427490234375,
          362.14544677734375,
          372.52516174316406,
          379.8169708251953,
          370.6984405517578,
          372.3002166748047,
          402.70765686035156,
          363.4801940917969,
          378.9474792480469,
          504.8817901611328,
          438.45501708984375,
          349.94793701171875,
          380.4038391113281,
          353.90399169921875,
          482.2535095214844,
          412.4407196044922,
          358.97991943359375,
          358.4806365966797,
          378.9552764892578,
          376.89723205566406,
          338.65040588378906,
          405.5224304199219,
          399.14111328125,
          337.57188415527344,
          364.361083984375,
          325.5669250488281,
          451.5136260986328,
          461.62615966796875,
          338.03160095214844,
          375.16368103027344,
          339.3968963623047,
          393.3566436767578,
          363.2666320800781,
          330.70350646972656,
          330.4455871582031,
          317.370849609375,
          345.7309875488281,
          327.93450927734375,
          327.8267517089844,
          333.99871826171875,
          330.98143005371094,
          338.0943603515625,
          336.27313232421875,
          340.30149841308594,
          329.38182067871094,
          330.7450714111328,
          303.51470947265625,
          348.3232727050781,
          325.13804626464844,
          315.6514434814453,
          338.5743103027344,
          413.08363342285156,
          349.96604919433594,
          324.05918884277344,
          387.6856231689453,
          302.4153289794922,
          349.9772033691406,
          341.87171936035156,
          339.83197021484375,
          323.4624328613281,
          314.1300811767578,
          303.3026123046875,
          329.0644226074219,
          328.16180419921875,
          311.15374755859375,
          352.8249969482422,
          311.41680908203125,
          323.8064422607422,
          293.8008575439453,
          305.4281921386719,
          312.82582092285156,
          355.4346923828125,
          343.5771179199219,
          308.363525390625,
          291.59674072265625,
          343.2266540527344,
          296.06646728515625,
          307.5055236816406,
          316.9769744873047,
          315.92152404785156,
          296.9616394042969,
          296.3693084716797,
          292.07350158691406,
          287.91424560546875,
          300.19371032714844,
          328.4226531982422,
          284.6815643310547,
          363.1893005371094,
          286.1363220214844,
          302.25559997558594,
          282.8187713623047,
          291.69041442871094,
          301.58489990234375,
          280.2872619628906,
          289.65736389160156,
          289.5648498535156,
          291.7351989746094,
          323.6848602294922,
          278.8760528564453,
          301.8958740234375,
          289.3930358886719,
          282.7590637207031,
          309.24436950683594,
          286.7581787109375,
          292.7820129394531,
          277.96075439453125,
          289.73841857910156,
          334.61622619628906,
          296.31288146972656,
          291.9425964355469,
          285.5015563964844,
          284.9862976074219,
          281.05657958984375,
          274.04046630859375,
          279.85191345214844,
          288.22674560546875,
          306.9213409423828,
          297.6964569091797,
          295.13612365722656,
          276.7042999267578,
          275.9956970214844,
          276.6693572998047,
          297.2084655761719,
          295.4839630126953,
          285.2982635498047,
          287.99365234375,
          287.40785217285156,
          317.6318817138672,
          316.3645935058594,
          297.59214782714844,
          286.6868438720703,
          265.81251525878906,
          274.0599060058594,
          284.3258819580078,
          273.5773162841797,
          264.2152404785156,
          289.87982177734375,
          286.32325744628906,
          257.3741149902344,
          262.9564971923828,
          265.1767272949219,
          286.1445617675781,
          287.3395690917969,
          295.58709716796875,
          323.24676513671875,
          285.6741027832031,
          303.5147399902344,
          271.8531494140625,
          265.09413146972656,
          278.2220458984375,
          263.86082458496094,
          274.9836730957031,
          330.12709045410156,
          325.6708984375,
          273.7039337158203,
          258.39634704589844,
          284.31178283691406,
          269.8664093017578,
          281.382568359375,
          262.45448303222656,
          270.0332794189453,
          299.73329162597656,
          268.9905090332031,
          266.82330322265625,
          262.2554931640625,
          290.87738037109375,
          257.8109893798828,
          266.18597412109375,
          277.8710479736328,
          292.9775085449219,
          260.3301086425781,
          267.9629211425781,
          258.77830505371094,
          271.8351135253906,
          303.1252136230469,
          271.22389221191406,
          258.6855926513672,
          279.0937805175781,
          254.21728515625,
          281.48095703125,
          266.9876403808594,
          258.41917419433594,
          328.39085388183594,
          253.46056365966797,
          256.0616683959961,
          250.20626068115234,
          289.9278869628906,
          258.70682525634766,
          256.20311737060547,
          268.6482391357422,
          266.2158966064453,
          249.87548065185547,
          274.88673400878906,
          252.40314483642578,
          257.650146484375,
          248.40975189208984,
          265.16578674316406,
          263.273193359375,
          262.6575012207031,
          266.2798767089844,
          245.63694763183594,
          253.83876037597656,
          257.27500915527344,
          296.87913513183594,
          274.3841094970703,
          245.39118194580078,
          269.7502136230469,
          270.5618896484375,
          255.58494567871094,
          311.34825134277344,
          269.1778259277344,
          276.7116394042969,
          277.35040283203125,
          241.89683532714844,
          245.70417022705078,
          281.17852783203125,
          275.28753662109375,
          290.84910583496094,
          248.83052825927734,
          245.85823822021484,
          247.53695678710938,
          254.13797760009766,
          245.58132934570312,
          247.673095703125,
          249.00106811523438,
          251.83374786376953,
          253.29994201660156,
          241.8775177001953,
          248.08129119873047,
          260.1340026855469,
          249.44054412841797,
          261.5627136230469,
          258.3349609375,
          259.7230682373047,
          260.83843994140625,
          257.4809265136719,
          287.526611328125,
          256.63600158691406,
          252.36672973632812,
          256.22886657714844,
          247.77031707763672,
          254.80979919433594,
          252.2189712524414,
          251.57137298583984,
          239.59527587890625,
          245.33685302734375,
          246.39130401611328,
          244.26891326904297,
          242.91354370117188,
          236.38946533203125,
          234.0415496826172,
          244.9542007446289,
          241.2671661376953,
          267.4950866699219,
          250.92424774169922,
          239.64883422851562,
          243.25637817382812,
          253.04278564453125,
          265.67811584472656,
          240.9886932373047,
          255.60143280029297
         ]
        },
        {
         "mode": "lines",
         "name": "reconstruction",
         "type": "scatter",
         "x": [
          0,
          1,
          2,
          3,
          4,
          5,
          6,
          7,
          8,
          9,
          10,
          11,
          12,
          13,
          14,
          15,
          16,
          17,
          18,
          19,
          20,
          21,
          22,
          23,
          24,
          25,
          26,
          27,
          28,
          29,
          30,
          31,
          32,
          33,
          34,
          35,
          36,
          37,
          38,
          39,
          40,
          41,
          42,
          43,
          44,
          45,
          46,
          47,
          48,
          49,
          50,
          51,
          52,
          53,
          54,
          55,
          56,
          57,
          58,
          59,
          60,
          61,
          62,
          63,
          64,
          65,
          66,
          67,
          68,
          69,
          70,
          71,
          72,
          73,
          74,
          75,
          76,
          77,
          78,
          79,
          80,
          81,
          82,
          83,
          84,
          85,
          86,
          87,
          88,
          89,
          90,
          91,
          92,
          93,
          94,
          95,
          96,
          97,
          98,
          99,
          100,
          101,
          102,
          103,
          104,
          105,
          106,
          107,
          108,
          109,
          110,
          111,
          112,
          113,
          114,
          115,
          116,
          117,
          118,
          119,
          120,
          121,
          122,
          123,
          124,
          125,
          126,
          127,
          128,
          129,
          130,
          131,
          132,
          133,
          134,
          135,
          136,
          137,
          138,
          139,
          140,
          141,
          142,
          143,
          144,
          145,
          146,
          147,
          148,
          149,
          150,
          151,
          152,
          153,
          154,
          155,
          156,
          157,
          158,
          159,
          160,
          161,
          162,
          163,
          164,
          165,
          166,
          167,
          168,
          169,
          170,
          171,
          172,
          173,
          174,
          175,
          176,
          177,
          178,
          179,
          180,
          181,
          182,
          183,
          184,
          185,
          186,
          187,
          188,
          189,
          190,
          191,
          192,
          193,
          194,
          195,
          196,
          197,
          198,
          199,
          200,
          201,
          202,
          203,
          204,
          205,
          206,
          207,
          208,
          209,
          210,
          211,
          212,
          213,
          214,
          215,
          216,
          217,
          218,
          219,
          220,
          221,
          222,
          223,
          224,
          225,
          226,
          227,
          228,
          229,
          230,
          231,
          232,
          233,
          234,
          235,
          236,
          237,
          238,
          239,
          240,
          241,
          242,
          243,
          244,
          245,
          246,
          247,
          248,
          249,
          250,
          251,
          252,
          253,
          254,
          255,
          256,
          257,
          258,
          259,
          260,
          261,
          262,
          263,
          264,
          265,
          266,
          267,
          268,
          269,
          270,
          271,
          272,
          273,
          274,
          275,
          276,
          277,
          278,
          279,
          280,
          281,
          282,
          283,
          284,
          285,
          286,
          287,
          288,
          289,
          290,
          291,
          292,
          293,
          294,
          295,
          296,
          297,
          298,
          299,
          300
         ],
         "y": [
          5869.79833984375,
          2749.0589505709136,
          1796.2884897085337,
          1374.908916766827,
          1080.6686166616587,
          967.3925217848557,
          968.7759070763221,
          871.5032207782452,
          771.0371375450721,
          719.8657508263221,
          689.1083984375,
          666.6116286057693,
          657.4488947941707,
          664.4165837214543,
          614.3607553335337,
          576.8377544696515,
          581.5228600135216,
          564.264883188101,
          551.8692486102765,
          547.5321279672476,
          568.3921743539663,
          518.5700495793269,
          529.2098646897537,
          502.31746262770434,
          562.3208359938401,
          483.64833186222955,
          496.6968336838942,
          484.3226623535156,
          473.4530475323017,
          479.9828702486478,
          496.1073326697716,
          467.2174330491286,
          471.54440542367786,
          510.9420635516827,
          436.59364201472357,
          433.58348200871393,
          428.1326951246995,
          421.6990755521334,
          468.6708068847656,
          477.8824439415565,
          481.1468059833233,
          409.8751525878906,
          416.6133211576022,
          417.35795241135816,
          423.1302936260517,
          408.28130399263824,
          408.8818688025841,
          387.08531541090747,
          384.59520310621997,
          426.9222083458534,
          425.8739741398738,
          389.97178532527045,
          379.9068838266226,
          379.24099496694714,
          399.0218247633714,
          392.82906400240387,
          364.2613267164964,
          372.7060546875,
          371.47404127854566,
          383.42449246920074,
          367.2930884728065,
          368.3167982835036,
          370.431396484375,
          365.9657217172476,
          361.00645329402045,
          357.79847599909857,
          368.47952740009015,
          367.57456852839545,
          365.99469228891223,
          369.8119389460637,
          350.86190091646637,
          366.88519052358777,
          368.833989070012,
          361.9936711237981,
          343.67918278620795,
          332.585932804988,
          336.2893794133113,
          342.7030052771935,
          338.4510286771334,
          332.24991314227765,
          348.2155573918269,
          360.5573965219351,
          347.17717801607574,
          333.18934044471155,
          333.5539034329928,
          323.07215529221753,
          326.85203904371997,
          319.8935077373798,
          322.1512474646935,
          330.82996544471155,
          323.910400390625,
          324.3204674353966,
          344.82564838115985,
          344.74422513521637,
          325.4860135591947,
          322.46324275090143,
          319.9222646859976,
          358.22161160982574,
          330.405524620643,
          332.2925039438101,
          329.41663771409253,
          312.6016916128305,
          311.0092961237981,
          311.6487309382512,
          311.31922325721155,
          306.5982736440805,
          324.60689133864184,
          332.2829777644231,
          311.99854454627405,
          302.36083045372595,
          304.01991389347955,
          311.2773648775541,
          357.4236309344952,
          341.49571345402643,
          313.8909137432392,
          300.90262310321515,
          315.8422123835637,
          319.3498863807091,
          299.0538330078125,
          299.69058697040265,
          306.724123441256,
          323.2059725247897,
          301.9996572641226,
          296.02093271108777,
          294.388427734375,
          309.2931565504808,
          296.31529118464545,
          297.8988013634315,
          294.7364501953125,
          288.9537799541767,
          308.8881178635817,
          293.2433636005108,
          303.93699528620795,
          289.99566650390625,
          290.3182044396034,
          288.80313579852765,
          284.0437246469351,
          290.3413320688101,
          284.2973844088041,
          286.3624220628005,
          292.085939847506,
          288.38731501652643,
          290.1877840482272,
          283.91659076397235,
          280.47970111553485,
          277.0832331730769,
          276.99598341721753,
          289.38478205754205,
          330.41925283578723,
          291.4817880483774,
          288.8666780911959,
          287.1190960223858,
          280.64949387770434,
          279.6126920259916,
          295.2813532902644,
          289.8792067307692,
          294.2575472318209,
          286.10315880408655,
          277.6722177358774,
          274.31365732046277,
          265.17178109975964,
          271.9738440880409,
          277.8550978440505,
          291.35336538461536,
          291.31729830228363,
          276.8877281775841,
          280.35655329777643,
          278.4501201923077,
          281.3792325533353,
          294.5975341796875,
          290.51295353816107,
          274.6985520582933,
          268.3865755521334,
          273.50965998722955,
          275.00686410757214,
          271.22019841120795,
          272.51182321401745,
          276.3011991060697,
          274.3854417067308,
          266.3722686767578,
          266.98988342285156,
          276.88206951434796,
          270.5243365948017,
          266.64026817908655,
          288.9690763033353,
          279.8499004657452,
          286.13857797475964,
          280.17437978891223,
          264.94041560246393,
          267.2277174729567,
          268.15540724534253,
          266.4395986703726,
          270.82337599534253,
          278.59434626652643,
          280.9487515963041,
          260.33790471003607,
          258.17790456918567,
          266.0249551626352,
          265.24684260441705,
          263.13641240046576,
          261.0155052771935,
          258.3133497971755,
          276.28594970703125,
          260.9850088266226,
          256.50880549504205,
          269.2379878117488,
          278.7787381685697,
          278.61899038461536,
          263.1590599646935,
          266.79189241849457,
          263.496824998122,
          267.01083608774036,
          275.6942526010367,
          255.47679490309494,
          271.7518357496995,
          270.37662447415863,
          267.03298715444714,
          264.93407264122595,
          263.53467970628003,
          250.8420926607572,
          253.663087111253,
          265.5376281738281,
          272.3777371920072,
          270.40355858436,
          248.80918297400842,
          246.69631958007812,
          260.6918546236478,
          266.23480459359973,
          257.4557401216947,
          258.177491408128,
          259.1858860896184,
          251.20179983285757,
          252.27655733548679,
          257.23132676344653,
          246.13605557955228,
          249.54344764122595,
          248.6607677753155,
          261.5467975323017,
          264.7736065204327,
          256.8379035362831,
          250.94828444260818,
          247.78272658128006,
          243.46788142277643,
          249.96798001802884,
          259.8028353177584,
          249.03180283766525,
          265.30646456204926,
          269.96144104003906,
          253.46162766676682,
          259.1370462270883,
          262.0392538217398,
          250.50738642765924,
          269.49954693134015,
          252.51875539926382,
          238.4871544471154,
          246.48620018592248,
          249.88518700232873,
          252.58653024526743,
          248.47048011192908,
          242.593509380634,
          238.55104182316705,
          242.08544100247897,
          234.45299823467548,
          234.77015099158655,
          239.59316664475662,
          248.96904930701623,
          242.57825646033655,
          239.09699894831732,
          234.5567122239333,
          245.86672973632812,
          242.24649047851562,
          238.7576129619892,
          246.38621990497296,
          247.0916513296274,
          244.76546302208533,
          246.7793989915114,
          245.45774489182693,
          278.7113283597506,
          250.84620783879205,
          242.47318326509915,
          252.3028282752404,
          245.6141345684345,
          245.3468745304988,
          239.09718440129205,
          237.2568136361929,
          238.52379079965445,
          235.98470012958234,
          245.67866750863882,
          235.73094646747296,
          231.70606877253607,
          230.21076261080228,
          234.70304635854868,
          234.38369633601263,
          242.97464810884915,
          248.92415794959436,
          238.9447033221905,
          240.44556250939002,
          235.5362067589393,
          238.3794438288762,
          234.74497868464545,
          234.9100576547476
         ]
        },
        {
         "mode": "lines",
         "name": "KLD",
         "type": "scatter",
         "x": [
          0,
          1,
          2,
          3,
          4,
          5,
          6,
          7,
          8,
          9,
          10,
          11,
          12,
          13,
          14,
          15,
          16,
          17,
          18,
          19,
          20,
          21,
          22,
          23,
          24,
          25,
          26,
          27,
          28,
          29,
          30,
          31,
          32,
          33,
          34,
          35,
          36,
          37,
          38,
          39,
          40,
          41,
          42,
          43,
          44,
          45,
          46,
          47,
          48,
          49,
          50,
          51,
          52,
          53,
          54,
          55,
          56,
          57,
          58,
          59,
          60,
          61,
          62,
          63,
          64,
          65,
          66,
          67,
          68,
          69,
          70,
          71,
          72,
          73,
          74,
          75,
          76,
          77,
          78,
          79,
          80,
          81,
          82,
          83,
          84,
          85,
          86,
          87,
          88,
          89,
          90,
          91,
          92,
          93,
          94,
          95,
          96,
          97,
          98,
          99,
          100,
          101,
          102,
          103,
          104,
          105,
          106,
          107,
          108,
          109,
          110,
          111,
          112,
          113,
          114,
          115,
          116,
          117,
          118,
          119,
          120,
          121,
          122,
          123,
          124,
          125,
          126,
          127,
          128,
          129,
          130,
          131,
          132,
          133,
          134,
          135,
          136,
          137,
          138,
          139,
          140,
          141,
          142,
          143,
          144,
          145,
          146,
          147,
          148,
          149,
          150,
          151,
          152,
          153,
          154,
          155,
          156,
          157,
          158,
          159,
          160,
          161,
          162,
          163,
          164,
          165,
          166,
          167,
          168,
          169,
          170,
          171,
          172,
          173,
          174,
          175,
          176,
          177,
          178,
          179,
          180,
          181,
          182,
          183,
          184,
          185,
          186,
          187,
          188,
          189,
          190,
          191,
          192,
          193,
          194,
          195,
          196,
          197,
          198,
          199,
          200,
          201,
          202,
          203,
          204,
          205,
          206,
          207,
          208,
          209,
          210,
          211,
          212,
          213,
          214,
          215,
          216,
          217,
          218,
          219,
          220,
          221,
          222,
          223,
          224,
          225,
          226,
          227,
          228,
          229,
          230,
          231,
          232,
          233,
          234,
          235,
          236,
          237,
          238,
          239,
          240,
          241,
          242,
          243,
          244,
          245,
          246,
          247,
          248,
          249,
          250,
          251,
          252,
          253,
          254,
          255,
          256,
          257,
          258,
          259,
          260,
          261,
          262,
          263,
          264,
          265,
          266,
          267,
          268,
          269,
          270,
          271,
          272,
          273,
          274,
          275,
          276,
          277,
          278,
          279,
          280,
          281,
          282,
          283,
          284,
          285,
          286,
          287,
          288,
          289,
          290,
          291,
          292,
          293,
          294,
          295,
          296,
          297,
          298,
          299,
          300
         ],
         "y": [
          6.366311568480271,
          11.159250919635479,
          16.98477055476262,
          22.348253690279446,
          26.85962647658128,
          30.620509221003605,
          33.67057594886193,
          35.76558362520658,
          37.72689701960637,
          39.60201116708609,
          41.356290963979866,
          42.993626227745644,
          44.34936347374549,
          45.51628494262695,
          46.399754157433144,
          47.305355072021484,
          48.25581477238582,
          49.078209803654595,
          49.73949197622446,
          50.41708403367262,
          50.99414414625902,
          51.516160818246696,
          52.00335693359375,
          52.5824089050293,
          52.98862780057467,
          53.30414023766151,
          53.60033299372746,
          53.816758962777946,
          54.10376299344576,
          54.36024504441481,
          54.587707226093,
          54.69712624183068,
          55.043736971341644,
          55.266919943002556,
          55.45744059636043,
          55.606037433330826,
          55.81434484628531,
          55.968921367938705,
          56.19334147526668,
          56.16880680964543,
          56.01062217125526,
          55.98437147874098,
          56.16606286855844,
          56.293283022367035,
          56.45219069260817,
          56.54989858774039,
          56.619172903207634,
          56.70846352210412,
          56.99762813861553,
          57.04124157245342,
          56.89778019831731,
          56.813915546123795,
          56.90598355806791,
          56.858587118295524,
          56.92505205594576,
          56.96298012366662,
          57.18283315805289,
          57.180745344895584,
          57.15694486177885,
          57.14202147263747,
          57.1733879676232,
          57.16598275991586,
          57.233775212214546,
          57.19117619441106,
          57.044843233548676,
          57.115389603834885,
          57.20028040959285,
          57.13346217228816,
          57.10314735999474,
          57.11041259765625,
          57.12753706711989,
          57.047691051776596,
          57.074168572059044,
          56.94835662841797,
          56.98800453772912,
          56.94623741736779,
          57.05252280602088,
          57.03942636343149,
          57.15616901104267,
          57.13234211848332,
          57.10791778564453,
          57.11626316950871,
          56.97717695969801,
          56.98699775108924,
          56.94005555372972,
          56.974561838003304,
          56.99445548424354,
          56.910765134371246,
          56.9483516399677,
          56.927887843205376,
          56.98715767493615,
          57.03539716280424,
          57.08288075373723,
          56.82325245783879,
          56.641093034010666,
          56.617672846867485,
          56.67919745812049,
          56.56967368492713,
          56.49384219829853,
          56.369425553541916,
          56.5098257798415,
          56.50044954740084,
          56.57002551739033,
          56.55958850567158,
          56.530441577617935,
          56.516830737774185,
          56.575499021089996,
          56.43495031503531,
          56.38574306781475,
          56.40598766620342,
          56.427464118370644,
          56.57252971942608,
          56.37222084632287,
          56.07137944148137,
          55.68962185199444,
          55.7638919536884,
          55.90092732356145,
          56.01605165921725,
          55.97086979792668,
          55.92718007014348,
          55.968708331768326,
          55.998882000262924,
          55.94705669696514,
          55.93333141620342,
          56.00200682419997,
          56.110559903658356,
          56.07637669489934,
          55.99771323570838,
          55.8705808199369,
          55.85341409536508,
          55.79579074566181,
          55.681297302246094,
          55.65041263286884,
          55.633277893066406,
          55.54564402653621,
          55.613445868858925,
          55.68121748704176,
          55.74389912531926,
          55.82607797475961,
          55.82926266009991,
          55.89033860426683,
          55.80761806781475,
          55.730620457575874,
          55.727500915527344,
          55.63831417377178,
          55.54734626183143,
          55.61044663649339,
          55.673176985520584,
          55.52816977867713,
          55.41630671574519,
          55.32839232224684,
          55.335681621844955,
          55.25534409743089,
          55.233366159292366,
          55.218016110933746,
          55.154903411865234,
          55.198551177978516,
          55.18511522733248,
          55.11364305936373,
          55.139820979191704,
          55.084158383882965,
          55.20840131319486,
          55.21046623816857,
          55.03736319908729,
          54.844124427208534,
          54.796726813683144,
          54.77031590388371,
          54.74040046105018,
          54.7197151184082,
          54.63483135516827,
          54.61389923095703,
          54.50334930419922,
          54.46595118596004,
          54.52648426936223,
          54.52336384699895,
          54.56555938720703,
          54.62159758347731,
          54.63228460458609,
          54.55888924231896,
          54.490463550274185,
          54.61406678419847,
          54.6145506638747,
          54.65578490037184,
          54.52236586350661,
          54.48640911395733,
          54.39234806941106,
          54.255034520075874,
          54.21656564565805,
          54.273847139798676,
          54.3631477355957,
          54.52173350407527,
          54.538880861722504,
          54.54335550161508,
          54.37441048255334,
          54.26722805316631,
          54.226547534649185,
          54.33561823918269,
          54.46492033738356,
          54.49767567561223,
          54.44347968468299,
          54.44330420860877,
          54.46442648080679,
          54.28688401442308,
          54.25362102801983,
          54.14753400362455,
          54.18726994441106,
          54.183961428128754,
          54.0984241779034,
          54.06656969510592,
          54.07677606435922,
          54.16792854895959,
          54.21743392944336,
          54.188306955190804,
          54.13212115948017,
          53.98456280048077,
          53.81731033325195,
          53.70177283653846,
          53.88413385244516,
          53.72767668503981,
          53.73145030095027,
          53.79527840247521,
          53.8170051574707,
          53.71332315298227,
          53.47062008197491,
          53.609192774846,
          53.890485323392426,
          54.092862349290115,
          54.012189424954926,
          53.896016340989334,
          53.7903198829064,
          53.85770474947416,
          53.89365240243765,
          53.89631946270283,
          53.85454295231746,
          53.74976436908428,
          53.77708845872145,
          53.81935823880709,
          53.83677908090445,
          53.68154496413011,
          53.57124269925631,
          53.60582469059871,
          53.61592219426082,
          53.721865727351265,
          53.729627755972054,
          53.67994777972881,
          53.54896486722506,
          53.4802859379695,
          53.360780275785004,
          53.22174835205078,
          53.28721736027644,
          53.22999279315655,
          53.2735710144043,
          53.22988686194787,
          53.12553288386418,
          53.090168292705826,
          53.267853663517876,
          53.30025922335111,
          53.341915130615234,
          53.393849299504204,
          53.460063640887924,
          53.47790116530199,
          53.56951023982121,
          53.62053827139047,
          53.60757504976713,
          53.65246816781851,
          53.44050627488356,
          53.334389026348404,
          53.28740868201623,
          53.3608404306265,
          53.42157862736629,
          53.5208740234375,
          53.405916067270134,
          53.37122697096605,
          53.302583547738884,
          53.13075931255634,
          53.03182689960186,
          52.969471564659706,
          52.85892134446364,
          52.71080956092248,
          52.83092997624324,
          52.97907345111553,
          53.07162182147686,
          53.031553708589996,
          53.085546053372894,
          53.31460776695838,
          53.34532224214994,
          53.40774242694561,
          53.33740762563852,
          53.102458660419174,
          53.10947154118465,
          53.11958841177133,
          53.16405017559345,
          53.15818522526668,
          53.16185085590069,
          53.054669893704926,
          53.0369626558744,
          53.10987179095928,
          53.12210405789889,
          53.00898097111629,
          52.904390188363884,
          53.00028874323918
         ]
        }
       ],
       "layout": {
        "template": {
         "data": {
          "bar": [
           {
            "error_x": {
             "color": "#f2f5fa"
            },
            "error_y": {
             "color": "#f2f5fa"
            },
            "marker": {
             "line": {
              "color": "rgb(17,17,17)",
              "width": 0.5
             },
             "pattern": {
              "fillmode": "overlay",
              "size": 10,
              "solidity": 0.2
             }
            },
            "type": "bar"
           }
          ],
          "barpolar": [
           {
            "marker": {
             "line": {
              "color": "rgb(17,17,17)",
              "width": 0.5
             },
             "pattern": {
              "fillmode": "overlay",
              "size": 10,
              "solidity": 0.2
             }
            },
            "type": "barpolar"
           }
          ],
          "carpet": [
           {
            "aaxis": {
             "endlinecolor": "#A2B1C6",
             "gridcolor": "#506784",
             "linecolor": "#506784",
             "minorgridcolor": "#506784",
             "startlinecolor": "#A2B1C6"
            },
            "baxis": {
             "endlinecolor": "#A2B1C6",
             "gridcolor": "#506784",
             "linecolor": "#506784",
             "minorgridcolor": "#506784",
             "startlinecolor": "#A2B1C6"
            },
            "type": "carpet"
           }
          ],
          "choropleth": [
           {
            "colorbar": {
             "outlinewidth": 0,
             "ticks": ""
            },
            "type": "choropleth"
           }
          ],
          "contour": [
           {
            "colorbar": {
             "outlinewidth": 0,
             "ticks": ""
            },
            "colorscale": [
             [
              0,
              "#0d0887"
             ],
             [
              0.1111111111111111,
              "#46039f"
             ],
             [
              0.2222222222222222,
              "#7201a8"
             ],
             [
              0.3333333333333333,
              "#9c179e"
             ],
             [
              0.4444444444444444,
              "#bd3786"
             ],
             [
              0.5555555555555556,
              "#d8576b"
             ],
             [
              0.6666666666666666,
              "#ed7953"
             ],
             [
              0.7777777777777778,
              "#fb9f3a"
             ],
             [
              0.8888888888888888,
              "#fdca26"
             ],
             [
              1,
              "#f0f921"
             ]
            ],
            "type": "contour"
           }
          ],
          "contourcarpet": [
           {
            "colorbar": {
             "outlinewidth": 0,
             "ticks": ""
            },
            "type": "contourcarpet"
           }
          ],
          "heatmap": [
           {
            "colorbar": {
             "outlinewidth": 0,
             "ticks": ""
            },
            "colorscale": [
             [
              0,
              "#0d0887"
             ],
             [
              0.1111111111111111,
              "#46039f"
             ],
             [
              0.2222222222222222,
              "#7201a8"
             ],
             [
              0.3333333333333333,
              "#9c179e"
             ],
             [
              0.4444444444444444,
              "#bd3786"
             ],
             [
              0.5555555555555556,
              "#d8576b"
             ],
             [
              0.6666666666666666,
              "#ed7953"
             ],
             [
              0.7777777777777778,
              "#fb9f3a"
             ],
             [
              0.8888888888888888,
              "#fdca26"
             ],
             [
              1,
              "#f0f921"
             ]
            ],
            "type": "heatmap"
           }
          ],
          "heatmapgl": [
           {
            "colorbar": {
             "outlinewidth": 0,
             "ticks": ""
            },
            "colorscale": [
             [
              0,
              "#0d0887"
             ],
             [
              0.1111111111111111,
              "#46039f"
             ],
             [
              0.2222222222222222,
              "#7201a8"
             ],
             [
              0.3333333333333333,
              "#9c179e"
             ],
             [
              0.4444444444444444,
              "#bd3786"
             ],
             [
              0.5555555555555556,
              "#d8576b"
             ],
             [
              0.6666666666666666,
              "#ed7953"
             ],
             [
              0.7777777777777778,
              "#fb9f3a"
             ],
             [
              0.8888888888888888,
              "#fdca26"
             ],
             [
              1,
              "#f0f921"
             ]
            ],
            "type": "heatmapgl"
           }
          ],
          "histogram": [
           {
            "marker": {
             "pattern": {
              "fillmode": "overlay",
              "size": 10,
              "solidity": 0.2
             }
            },
            "type": "histogram"
           }
          ],
          "histogram2d": [
           {
            "colorbar": {
             "outlinewidth": 0,
             "ticks": ""
            },
            "colorscale": [
             [
              0,
              "#0d0887"
             ],
             [
              0.1111111111111111,
              "#46039f"
             ],
             [
              0.2222222222222222,
              "#7201a8"
             ],
             [
              0.3333333333333333,
              "#9c179e"
             ],
             [
              0.4444444444444444,
              "#bd3786"
             ],
             [
              0.5555555555555556,
              "#d8576b"
             ],
             [
              0.6666666666666666,
              "#ed7953"
             ],
             [
              0.7777777777777778,
              "#fb9f3a"
             ],
             [
              0.8888888888888888,
              "#fdca26"
             ],
             [
              1,
              "#f0f921"
             ]
            ],
            "type": "histogram2d"
           }
          ],
          "histogram2dcontour": [
           {
            "colorbar": {
             "outlinewidth": 0,
             "ticks": ""
            },
            "colorscale": [
             [
              0,
              "#0d0887"
             ],
             [
              0.1111111111111111,
              "#46039f"
             ],
             [
              0.2222222222222222,
              "#7201a8"
             ],
             [
              0.3333333333333333,
              "#9c179e"
             ],
             [
              0.4444444444444444,
              "#bd3786"
             ],
             [
              0.5555555555555556,
              "#d8576b"
             ],
             [
              0.6666666666666666,
              "#ed7953"
             ],
             [
              0.7777777777777778,
              "#fb9f3a"
             ],
             [
              0.8888888888888888,
              "#fdca26"
             ],
             [
              1,
              "#f0f921"
             ]
            ],
            "type": "histogram2dcontour"
           }
          ],
          "mesh3d": [
           {
            "colorbar": {
             "outlinewidth": 0,
             "ticks": ""
            },
            "type": "mesh3d"
           }
          ],
          "parcoords": [
           {
            "line": {
             "colorbar": {
              "outlinewidth": 0,
              "ticks": ""
             }
            },
            "type": "parcoords"
           }
          ],
          "pie": [
           {
            "automargin": true,
            "type": "pie"
           }
          ],
          "scatter": [
           {
            "marker": {
             "line": {
              "color": "#283442"
             }
            },
            "type": "scatter"
           }
          ],
          "scatter3d": [
           {
            "line": {
             "colorbar": {
              "outlinewidth": 0,
              "ticks": ""
             }
            },
            "marker": {
             "colorbar": {
              "outlinewidth": 0,
              "ticks": ""
             }
            },
            "type": "scatter3d"
           }
          ],
          "scattercarpet": [
           {
            "marker": {
             "colorbar": {
              "outlinewidth": 0,
              "ticks": ""
             }
            },
            "type": "scattercarpet"
           }
          ],
          "scattergeo": [
           {
            "marker": {
             "colorbar": {
              "outlinewidth": 0,
              "ticks": ""
             }
            },
            "type": "scattergeo"
           }
          ],
          "scattergl": [
           {
            "marker": {
             "line": {
              "color": "#283442"
             }
            },
            "type": "scattergl"
           }
          ],
          "scattermapbox": [
           {
            "marker": {
             "colorbar": {
              "outlinewidth": 0,
              "ticks": ""
             }
            },
            "type": "scattermapbox"
           }
          ],
          "scatterpolar": [
           {
            "marker": {
             "colorbar": {
              "outlinewidth": 0,
              "ticks": ""
             }
            },
            "type": "scatterpolar"
           }
          ],
          "scatterpolargl": [
           {
            "marker": {
             "colorbar": {
              "outlinewidth": 0,
              "ticks": ""
             }
            },
            "type": "scatterpolargl"
           }
          ],
          "scatterternary": [
           {
            "marker": {
             "colorbar": {
              "outlinewidth": 0,
              "ticks": ""
             }
            },
            "type": "scatterternary"
           }
          ],
          "surface": [
           {
            "colorbar": {
             "outlinewidth": 0,
             "ticks": ""
            },
            "colorscale": [
             [
              0,
              "#0d0887"
             ],
             [
              0.1111111111111111,
              "#46039f"
             ],
             [
              0.2222222222222222,
              "#7201a8"
             ],
             [
              0.3333333333333333,
              "#9c179e"
             ],
             [
              0.4444444444444444,
              "#bd3786"
             ],
             [
              0.5555555555555556,
              "#d8576b"
             ],
             [
              0.6666666666666666,
              "#ed7953"
             ],
             [
              0.7777777777777778,
              "#fb9f3a"
             ],
             [
              0.8888888888888888,
              "#fdca26"
             ],
             [
              1,
              "#f0f921"
             ]
            ],
            "type": "surface"
           }
          ],
          "table": [
           {
            "cells": {
             "fill": {
              "color": "#506784"
             },
             "line": {
              "color": "rgb(17,17,17)"
             }
            },
            "header": {
             "fill": {
              "color": "#2a3f5f"
             },
             "line": {
              "color": "rgb(17,17,17)"
             }
            },
            "type": "table"
           }
          ]
         },
         "layout": {
          "annotationdefaults": {
           "arrowcolor": "#f2f5fa",
           "arrowhead": 0,
           "arrowwidth": 1
          },
          "autotypenumbers": "strict",
          "coloraxis": {
           "colorbar": {
            "outlinewidth": 0,
            "ticks": ""
           }
          },
          "colorscale": {
           "diverging": [
            [
             0,
             "#8e0152"
            ],
            [
             0.1,
             "#c51b7d"
            ],
            [
             0.2,
             "#de77ae"
            ],
            [
             0.3,
             "#f1b6da"
            ],
            [
             0.4,
             "#fde0ef"
            ],
            [
             0.5,
             "#f7f7f7"
            ],
            [
             0.6,
             "#e6f5d0"
            ],
            [
             0.7,
             "#b8e186"
            ],
            [
             0.8,
             "#7fbc41"
            ],
            [
             0.9,
             "#4d9221"
            ],
            [
             1,
             "#276419"
            ]
           ],
           "sequential": [
            [
             0,
             "#0d0887"
            ],
            [
             0.1111111111111111,
             "#46039f"
            ],
            [
             0.2222222222222222,
             "#7201a8"
            ],
            [
             0.3333333333333333,
             "#9c179e"
            ],
            [
             0.4444444444444444,
             "#bd3786"
            ],
            [
             0.5555555555555556,
             "#d8576b"
            ],
            [
             0.6666666666666666,
             "#ed7953"
            ],
            [
             0.7777777777777778,
             "#fb9f3a"
            ],
            [
             0.8888888888888888,
             "#fdca26"
            ],
            [
             1,
             "#f0f921"
            ]
           ],
           "sequentialminus": [
            [
             0,
             "#0d0887"
            ],
            [
             0.1111111111111111,
             "#46039f"
            ],
            [
             0.2222222222222222,
             "#7201a8"
            ],
            [
             0.3333333333333333,
             "#9c179e"
            ],
            [
             0.4444444444444444,
             "#bd3786"
            ],
            [
             0.5555555555555556,
             "#d8576b"
            ],
            [
             0.6666666666666666,
             "#ed7953"
            ],
            [
             0.7777777777777778,
             "#fb9f3a"
            ],
            [
             0.8888888888888888,
             "#fdca26"
            ],
            [
             1,
             "#f0f921"
            ]
           ]
          },
          "colorway": [
           "#636efa",
           "#EF553B",
           "#00cc96",
           "#ab63fa",
           "#FFA15A",
           "#19d3f3",
           "#FF6692",
           "#B6E880",
           "#FF97FF",
           "#FECB52"
          ],
          "font": {
           "color": "#f2f5fa"
          },
          "geo": {
           "bgcolor": "rgb(17,17,17)",
           "lakecolor": "rgb(17,17,17)",
           "landcolor": "rgb(17,17,17)",
           "showlakes": true,
           "showland": true,
           "subunitcolor": "#506784"
          },
          "hoverlabel": {
           "align": "left"
          },
          "hovermode": "closest",
          "mapbox": {
           "style": "dark"
          },
          "paper_bgcolor": "rgb(17,17,17)",
          "plot_bgcolor": "rgb(17,17,17)",
          "polar": {
           "angularaxis": {
            "gridcolor": "#506784",
            "linecolor": "#506784",
            "ticks": ""
           },
           "bgcolor": "rgb(17,17,17)",
           "radialaxis": {
            "gridcolor": "#506784",
            "linecolor": "#506784",
            "ticks": ""
           }
          },
          "scene": {
           "xaxis": {
            "backgroundcolor": "rgb(17,17,17)",
            "gridcolor": "#506784",
            "gridwidth": 2,
            "linecolor": "#506784",
            "showbackground": true,
            "ticks": "",
            "zerolinecolor": "#C8D4E3"
           },
           "yaxis": {
            "backgroundcolor": "rgb(17,17,17)",
            "gridcolor": "#506784",
            "gridwidth": 2,
            "linecolor": "#506784",
            "showbackground": true,
            "ticks": "",
            "zerolinecolor": "#C8D4E3"
           },
           "zaxis": {
            "backgroundcolor": "rgb(17,17,17)",
            "gridcolor": "#506784",
            "gridwidth": 2,
            "linecolor": "#506784",
            "showbackground": true,
            "ticks": "",
            "zerolinecolor": "#C8D4E3"
           }
          },
          "shapedefaults": {
           "line": {
            "color": "#f2f5fa"
           }
          },
          "sliderdefaults": {
           "bgcolor": "#C8D4E3",
           "bordercolor": "rgb(17,17,17)",
           "borderwidth": 1,
           "tickwidth": 0
          },
          "ternary": {
           "aaxis": {
            "gridcolor": "#506784",
            "linecolor": "#506784",
            "ticks": ""
           },
           "baxis": {
            "gridcolor": "#506784",
            "linecolor": "#506784",
            "ticks": ""
           },
           "bgcolor": "rgb(17,17,17)",
           "caxis": {
            "gridcolor": "#506784",
            "linecolor": "#506784",
            "ticks": ""
           }
          },
          "title": {
           "x": 0.05
          },
          "updatemenudefaults": {
           "bgcolor": "#506784",
           "borderwidth": 0
          },
          "xaxis": {
           "automargin": true,
           "gridcolor": "#283442",
           "linecolor": "#506784",
           "ticks": "",
           "title": {
            "standoff": 15
           },
           "zerolinecolor": "#283442",
           "zerolinewidth": 2
          },
          "yaxis": {
           "automargin": true,
           "gridcolor": "#283442",
           "linecolor": "#506784",
           "ticks": "",
           "title": {
            "standoff": 15
           },
           "zerolinecolor": "#283442",
           "zerolinewidth": 2
          }
         }
        },
        "yaxis": {
         "type": "log"
        }
       }
      }
     },
     "metadata": {},
     "output_type": "display_data"
    }
   ],
   "source": [
    "train_losses ,train_rec_losses,train_kld_losses, eval_losses = train_model (model, epochs, batch_size) "
   ]
  },
  {
   "cell_type": "code",
   "execution_count": 296,
   "metadata": {},
   "outputs": [],
   "source": [
    "torch.save(model, \"./models/model_for_all_initial_visualizations.pt\")"
   ]
  },
  {
   "cell_type": "code",
   "execution_count": 14,
   "metadata": {},
   "outputs": [
    {
     "data": {
      "application/vnd.plotly.v1+json": {
       "config": {
        "plotlyServerURL": "https://plot.ly"
       },
       "data": [
        {
         "mode": "lines",
         "name": "training",
         "type": "scatter",
         "x": [
          0,
          1,
          2,
          3,
          4,
          5,
          6,
          7,
          8,
          9,
          10,
          11,
          12,
          13,
          14,
          15,
          16,
          17,
          18,
          19,
          20,
          21,
          22,
          23,
          24,
          25,
          26,
          27,
          28,
          29,
          30,
          31,
          32,
          33,
          34,
          35,
          36,
          37,
          38,
          39,
          40,
          41,
          42,
          43,
          44,
          45,
          46,
          47,
          48,
          49,
          50,
          51,
          52,
          53,
          54,
          55,
          56,
          57,
          58,
          59,
          60,
          61,
          62,
          63,
          64,
          65,
          66,
          67,
          68,
          69,
          70,
          71,
          72,
          73,
          74,
          75,
          76,
          77,
          78,
          79,
          80,
          81,
          82,
          83,
          84,
          85,
          86,
          87,
          88,
          89,
          90,
          91,
          92,
          93,
          94,
          95,
          96,
          97,
          98,
          99,
          100,
          101,
          102,
          103,
          104,
          105,
          106,
          107,
          108,
          109,
          110,
          111,
          112,
          113,
          114,
          115,
          116,
          117,
          118,
          119,
          120,
          121,
          122,
          123,
          124,
          125,
          126,
          127,
          128,
          129,
          130,
          131,
          132,
          133,
          134,
          135,
          136,
          137,
          138,
          139,
          140,
          141,
          142,
          143,
          144,
          145,
          146,
          147,
          148,
          149,
          150,
          151,
          152,
          153,
          154,
          155,
          156,
          157,
          158,
          159,
          160,
          161,
          162,
          163,
          164,
          165,
          166,
          167,
          168,
          169,
          170,
          171,
          172,
          173,
          174,
          175,
          176,
          177,
          178,
          179,
          180,
          181,
          182,
          183,
          184,
          185,
          186,
          187,
          188,
          189,
          190,
          191,
          192,
          193,
          194,
          195,
          196,
          197,
          198,
          199,
          200,
          201,
          202,
          203,
          204,
          205,
          206,
          207,
          208,
          209,
          210,
          211,
          212,
          213,
          214,
          215,
          216,
          217,
          218,
          219,
          220,
          221,
          222,
          223,
          224,
          225,
          226,
          227,
          228,
          229,
          230,
          231,
          232,
          233,
          234,
          235,
          236,
          237,
          238,
          239,
          240,
          241,
          242,
          243,
          244,
          245,
          246,
          247,
          248,
          249,
          250,
          251,
          252,
          253,
          254,
          255,
          256,
          257,
          258,
          259,
          260,
          261,
          262,
          263,
          264,
          265,
          266,
          267,
          268,
          269,
          270,
          271,
          272,
          273,
          274,
          275,
          276,
          277,
          278,
          279,
          280,
          281,
          282,
          283,
          284,
          285,
          286,
          287,
          288,
          289,
          290,
          291,
          292,
          293,
          294,
          295,
          296,
          297,
          298,
          299,
          300
         ],
         "y": [
          5876.164682241587,
          2760.218205378606,
          1813.2732684795674,
          1397.2571645883413,
          1107.5282451923076,
          998.0130333533654,
          1002.4464815579928,
          907.268803523137,
          808.7640380859375,
          759.467759352464,
          730.4646935096154,
          709.6052480844351,
          701.7982600285457,
          709.932866023137,
          660.760507436899,
          624.1431180513822,
          629.7786771334135,
          613.3430880033053,
          601.6087411733774,
          597.949209359976,
          619.3863102839543,
          570.0862051156851,
          581.2132192758413,
          554.8998694786659,
          615.3094623272235,
          536.9524770883413,
          550.2971660907452,
          538.139408991887,
          527.5568049504207,
          534.3431067833534,
          550.6950331467849,
          521.914555476262,
          526.588146503155,
          566.208989070012,
          492.05107938326324,
          489.1895188551683,
          483.94703791691705,
          477.66799692007214,
          524.8641545222356,
          534.0512507512019,
          537.1574214054988,
          465.85952524038464,
          472.77938373272235,
          473.65122868464545,
          479.58248431865985,
          464.8312025803786,
          465.50103994516223,
          443.79378098707934,
          441.59283212515027,
          483.9634540264423,
          482.7717496431791,
          446.78569852388824,
          436.8128685584435,
          436.09958120492786,
          455.9468735914964,
          449.7920438326322,
          421.44415517953723,
          429.88679856520434,
          428.6309814453125,
          440.56651188777045,
          424.4664776141827,
          425.4827833909255,
          427.66517052283655,
          423.15689556415265,
          418.0512953538161,
          414.9138653094952,
          425.6798048753005,
          424.7080312875601,
          423.09783700796277,
          426.92234919621393,
          407.98944091796875,
          423.9328801081731,
          425.9081585223858,
          418.94202833909253,
          400.6671870304988,
          389.53217256986176,
          393.34190251277045,
          399.742429293119,
          395.6072012094351,
          389.3822514460637,
          405.32347693810095,
          417.6736567570613,
          404.1543532151442,
          390.1763399564303,
          390.4939622145433,
          380.0467130220853,
          383.84649423452527,
          376.8042696439303,
          379.09959763746997,
          387.75785006009613,
          380.89755483774036,
          381.3558654785156,
          401.90853177584137,
          401.5674743652344,
          382.12710336538464,
          379.0809138371394,
          376.6014615572416,
          414.7912832406851,
          386.8993671123798,
          388.66192626953125,
          385.9264620267428,
          369.1021399864784,
          367.5793222280649,
          368.2083176832933,
          367.84966806265027,
          363.1151052621695,
          381.1823918269231,
          388.7179283728966,
          368.384284386268,
          358.7668151855469,
          360.44737830528845,
          367.84989577073316,
          413.7958514873798,
          397.56709641676684,
          369.5805358886719,
          356.66651564378003,
          371.7431429349459,
          375.3659409743089,
          355.0247028057392,
          355.6177673339844,
          362.6928311861478,
          379.2048527644231,
          357.94671630859375,
          351.95426119290863,
          350.39043485201324,
          365.4037170410156,
          352.39166494516223,
          353.8965148925781,
          350.6070321890024,
          344.80718759390027,
          364.68390596829926,
          348.9246614896334,
          359.587404691256,
          345.62894381009613,
          345.8638469989483,
          344.41658372145434,
          339.7249427208534,
          346.0852238581731,
          340.1234623835637,
          342.1916832557091,
          347.9762784517728,
          344.19493220402643,
          345.9184053861178,
          339.6440922663762,
          336.11801382211536,
          332.63057767427887,
          332.60643357496997,
          345.0579575758714,
          385.94742290790265,
          346.8980947641226,
          344.195070706881,
          342.45477999173676,
          335.90483914888824,
          334.84605994591345,
          350.4993685208834,
          345.03411160982574,
          349.4560992901142,
          341.28827608548676,
          332.7858628493089,
          329.45347712590143,
          320.2559344951923,
          327.1822462815505,
          333.06556349534253,
          346.3907282902644,
          346.1614239032452,
          331.6844529371995,
          335.12687330979566,
          333.1905188927284,
          336.09894503079926,
          349.23236788236176,
          345.1268521822416,
          329.201899601863,
          322.85252732496997,
          328.03614220252405,
          329.5302241398738,
          325.78575251652643,
          327.1334228515625,
          330.93348106971155,
          328.944331242488,
          320.86273193359375,
          321.60394521859973,
          331.4966148963341,
          325.18012178861176,
          321.1626375638522,
          343.4554842435397,
          334.24224853515625,
          340.39361337515027,
          334.3909419133113,
          319.21426156850964,
          321.5908672626202,
          322.67714045597955,
          320.97848041240985,
          325.36672738882214,
          332.968757042518,
          335.21597994290863,
          314.564453125,
          312.51352163461536,
          320.4898752065805,
          319.74451622596155,
          317.5798903245192,
          315.4588106595553,
          312.77777334359973,
          330.5728290264423,
          315.23863102839545,
          310.65633685772235,
          323.4252624511719,
          332.9626981295072,
          332.7174142690805,
          317.22562115009015,
          320.86866877629205,
          317.66475266676684,
          321.228269136869,
          329.88255662184497,
          309.60891488882214,
          325.73639620267426,
          324.1939392089844,
          320.73475764347955,
          318.81820913461536,
          317.2623549241286,
          304.5735426682692,
          307.45836463341345,
          319.3546330378606,
          326.091059758113,
          323.8741783728966,
          302.4183748685397,
          300.58680372971753,
          314.7847149188702,
          320.2469951923077,
          311.3517573429988,
          311.96781099759613,
          313.04359553410455,
          305.095451941857,
          306.1728750375601,
          311.0858717698317,
          299.8858173076923,
          303.3205355130709,
          302.4801260141226,
          315.3835754394531,
          318.4551532451923,
          310.4091468224159,
          304.5541076660156,
          301.3986487755409,
          297.1897489107572,
          303.69760366586536,
          313.4827810434195,
          302.5807659442608,
          318.7867502065805,
          323.3222163273738,
          306.6833707369291,
          312.4242647611178,
          315.2692472017728,
          303.7809565617488,
          322.7294358473558,
          305.644287109375,
          291.5773221529447,
          299.75405649038464,
          303.1854459322416,
          305.9284409743089,
          301.86432589017426,
          296.05357243464545,
          292.02894005408655,
          295.6549541766827,
          288.0735379732572,
          288.37772310697113,
          293.2456312913161,
          302.40955528846155,
          295.9126446063702,
          292.3844064565805,
          287.9175508939303,
          299.2883066030649,
          295.7673645019531,
          292.1635296161358,
          299.7574462890625,
          300.3942354642428,
          297.8962191068209,
          299.8112229567308,
          298.4272155761719,
          331.57025146484375,
          303.55701857346753,
          295.30411470853363,
          305.28189791165863,
          298.68575580303485,
          298.37842970628003,
          292.18272986778845,
          290.57142521784857,
          291.86911245492786,
          289.39243962214545,
          299.01607572115387,
          288.8334045410156,
          284.81554236778845,
          283.3303527832031,
          287.8670982947716,
          287.54187950721155,
          296.1364957369291,
          301.9788301908053,
          291.9816683255709,
          293.55543400691107,
          288.65830876277045,
          291.388425386869,
          287.6493647648738,
          287.91034170297473
         ]
        },
        {
         "mode": "lines",
         "name": "validation",
         "type": "scatter",
         "x": [
          0,
          1,
          2,
          3,
          4,
          5,
          6,
          7,
          8,
          9,
          10,
          11,
          12,
          13,
          14,
          15,
          16,
          17,
          18,
          19,
          20,
          21,
          22,
          23,
          24,
          25,
          26,
          27,
          28,
          29,
          30,
          31,
          32,
          33,
          34,
          35,
          36,
          37,
          38,
          39,
          40,
          41,
          42,
          43,
          44,
          45,
          46,
          47,
          48,
          49,
          50,
          51,
          52,
          53,
          54,
          55,
          56,
          57,
          58,
          59,
          60,
          61,
          62,
          63,
          64,
          65,
          66,
          67,
          68,
          69,
          70,
          71,
          72,
          73,
          74,
          75,
          76,
          77,
          78,
          79,
          80,
          81,
          82,
          83,
          84,
          85,
          86,
          87,
          88,
          89,
          90,
          91,
          92,
          93,
          94,
          95,
          96,
          97,
          98,
          99,
          100,
          101,
          102,
          103,
          104,
          105,
          106,
          107,
          108,
          109,
          110,
          111,
          112,
          113,
          114,
          115,
          116,
          117,
          118,
          119,
          120,
          121,
          122,
          123,
          124,
          125,
          126,
          127,
          128,
          129,
          130,
          131,
          132,
          133,
          134,
          135,
          136,
          137,
          138,
          139,
          140,
          141,
          142,
          143,
          144,
          145,
          146,
          147,
          148,
          149,
          150,
          151,
          152,
          153,
          154,
          155,
          156,
          157,
          158,
          159,
          160,
          161,
          162,
          163,
          164,
          165,
          166,
          167,
          168,
          169,
          170,
          171,
          172,
          173,
          174,
          175,
          176,
          177,
          178,
          179,
          180,
          181,
          182,
          183,
          184,
          185,
          186,
          187,
          188,
          189,
          190,
          191,
          192,
          193,
          194,
          195,
          196,
          197,
          198,
          199,
          200,
          201,
          202,
          203,
          204,
          205,
          206,
          207,
          208,
          209,
          210,
          211,
          212,
          213,
          214,
          215,
          216,
          217,
          218,
          219,
          220,
          221,
          222,
          223,
          224,
          225,
          226,
          227,
          228,
          229,
          230,
          231,
          232,
          233,
          234,
          235,
          236,
          237,
          238,
          239,
          240,
          241,
          242,
          243,
          244,
          245,
          246,
          247,
          248,
          249,
          250,
          251,
          252,
          253,
          254,
          255,
          256,
          257,
          258,
          259,
          260,
          261,
          262,
          263,
          264,
          265,
          266,
          267,
          268,
          269,
          270,
          271,
          272,
          273,
          274,
          275,
          276,
          277,
          278,
          279,
          280,
          281,
          282,
          283,
          284,
          285,
          286,
          287,
          288,
          289,
          290,
          291,
          292,
          293,
          294,
          295,
          296,
          297,
          298,
          299,
          300
         ],
         "y": [
          7837.97802734375,
          5154.662841796875,
          2843.875732421875,
          1484.4923706054688,
          945.0532836914062,
          843.9148559570312,
          1039.1812133789062,
          723.659912109375,
          686.5544128417969,
          642.6485595703125,
          616.8067016601562,
          604.722412109375,
          604.9612121582031,
          625.8529968261719,
          557.2474975585938,
          678.2001953125,
          752.6425170898438,
          535.8358154296875,
          562.9978332519531,
          818.9244384765625,
          533.6105651855469,
          498.3076934814453,
          467.5683898925781,
          437.9415283203125,
          453.79998779296875,
          502.9278564453125,
          418.7840881347656,
          439.8215637207031,
          475.51307678222656,
          415.12705993652344,
          654.3209228515625,
          440.1962432861328,
          410.07176208496094,
          457.54527282714844,
          448.4822235107422,
          409.0745544433594,
          393.2690734863281,
          453.0579528808594,
          557.52294921875,
          490.9559020996094,
          476.69427490234375,
          362.14544677734375,
          372.52516174316406,
          379.8169708251953,
          370.6984405517578,
          372.3002166748047,
          402.70765686035156,
          363.4801940917969,
          378.9474792480469,
          504.8817901611328,
          438.45501708984375,
          349.94793701171875,
          380.4038391113281,
          353.90399169921875,
          482.2535095214844,
          412.4407196044922,
          358.97991943359375,
          358.4806365966797,
          378.9552764892578,
          376.89723205566406,
          338.65040588378906,
          405.5224304199219,
          399.14111328125,
          337.57188415527344,
          364.361083984375,
          325.5669250488281,
          451.5136260986328,
          461.62615966796875,
          338.03160095214844,
          375.16368103027344,
          339.3968963623047,
          393.3566436767578,
          363.2666320800781,
          330.70350646972656,
          330.4455871582031,
          317.370849609375,
          345.7309875488281,
          327.93450927734375,
          327.8267517089844,
          333.99871826171875,
          330.98143005371094,
          338.0943603515625,
          336.27313232421875,
          340.30149841308594,
          329.38182067871094,
          330.7450714111328,
          303.51470947265625,
          348.3232727050781,
          325.13804626464844,
          315.6514434814453,
          338.5743103027344,
          413.08363342285156,
          349.96604919433594,
          324.05918884277344,
          387.6856231689453,
          302.4153289794922,
          349.9772033691406,
          341.87171936035156,
          339.83197021484375,
          323.4624328613281,
          314.1300811767578,
          303.3026123046875,
          329.0644226074219,
          328.16180419921875,
          311.15374755859375,
          352.8249969482422,
          311.41680908203125,
          323.8064422607422,
          293.8008575439453,
          305.4281921386719,
          312.82582092285156,
          355.4346923828125,
          343.5771179199219,
          308.363525390625,
          291.59674072265625,
          343.2266540527344,
          296.06646728515625,
          307.5055236816406,
          316.9769744873047,
          315.92152404785156,
          296.9616394042969,
          296.3693084716797,
          292.07350158691406,
          287.91424560546875,
          300.19371032714844,
          328.4226531982422,
          284.6815643310547,
          363.1893005371094,
          286.1363220214844,
          302.25559997558594,
          282.8187713623047,
          291.69041442871094,
          301.58489990234375,
          280.2872619628906,
          289.65736389160156,
          289.5648498535156,
          291.7351989746094,
          323.6848602294922,
          278.8760528564453,
          301.8958740234375,
          289.3930358886719,
          282.7590637207031,
          309.24436950683594,
          286.7581787109375,
          292.7820129394531,
          277.96075439453125,
          289.73841857910156,
          334.61622619628906,
          296.31288146972656,
          291.9425964355469,
          285.5015563964844,
          284.9862976074219,
          281.05657958984375,
          274.04046630859375,
          279.85191345214844,
          288.22674560546875,
          306.9213409423828,
          297.6964569091797,
          295.13612365722656,
          276.7042999267578,
          275.9956970214844,
          276.6693572998047,
          297.2084655761719,
          295.4839630126953,
          285.2982635498047,
          287.99365234375,
          287.40785217285156,
          317.6318817138672,
          316.3645935058594,
          297.59214782714844,
          286.6868438720703,
          265.81251525878906,
          274.0599060058594,
          284.3258819580078,
          273.5773162841797,
          264.2152404785156,
          289.87982177734375,
          286.32325744628906,
          257.3741149902344,
          262.9564971923828,
          265.1767272949219,
          286.1445617675781,
          287.3395690917969,
          295.58709716796875,
          323.24676513671875,
          285.6741027832031,
          303.5147399902344,
          271.8531494140625,
          265.09413146972656,
          278.2220458984375,
          263.86082458496094,
          274.9836730957031,
          330.12709045410156,
          325.6708984375,
          273.7039337158203,
          258.39634704589844,
          284.31178283691406,
          269.8664093017578,
          281.382568359375,
          262.45448303222656,
          270.0332794189453,
          299.73329162597656,
          268.9905090332031,
          266.82330322265625,
          262.2554931640625,
          290.87738037109375,
          257.8109893798828,
          266.18597412109375,
          277.8710479736328,
          292.9775085449219,
          260.3301086425781,
          267.9629211425781,
          258.77830505371094,
          271.8351135253906,
          303.1252136230469,
          271.22389221191406,
          258.6855926513672,
          279.0937805175781,
          254.21728515625,
          281.48095703125,
          266.9876403808594,
          258.41917419433594,
          328.39085388183594,
          253.46056365966797,
          256.0616683959961,
          250.20626068115234,
          289.9278869628906,
          258.70682525634766,
          256.20311737060547,
          268.6482391357422,
          266.2158966064453,
          249.87548065185547,
          274.88673400878906,
          252.40314483642578,
          257.650146484375,
          248.40975189208984,
          265.16578674316406,
          263.273193359375,
          262.6575012207031,
          266.2798767089844,
          245.63694763183594,
          253.83876037597656,
          257.27500915527344,
          296.87913513183594,
          274.3841094970703,
          245.39118194580078,
          269.7502136230469,
          270.5618896484375,
          255.58494567871094,
          311.34825134277344,
          269.1778259277344,
          276.7116394042969,
          277.35040283203125,
          241.89683532714844,
          245.70417022705078,
          281.17852783203125,
          275.28753662109375,
          290.84910583496094,
          248.83052825927734,
          245.85823822021484,
          247.53695678710938,
          254.13797760009766,
          245.58132934570312,
          247.673095703125,
          249.00106811523438,
          251.83374786376953,
          253.29994201660156,
          241.8775177001953,
          248.08129119873047,
          260.1340026855469,
          249.44054412841797,
          261.5627136230469,
          258.3349609375,
          259.7230682373047,
          260.83843994140625,
          257.4809265136719,
          287.526611328125,
          256.63600158691406,
          252.36672973632812,
          256.22886657714844,
          247.77031707763672,
          254.80979919433594,
          252.2189712524414,
          251.57137298583984,
          239.59527587890625,
          245.33685302734375,
          246.39130401611328,
          244.26891326904297,
          242.91354370117188,
          236.38946533203125,
          234.0415496826172,
          244.9542007446289,
          241.2671661376953,
          267.4950866699219,
          250.92424774169922,
          239.64883422851562,
          243.25637817382812,
          253.04278564453125,
          265.67811584472656,
          240.9886932373047,
          255.60143280029297
         ]
        }
       ],
       "layout": {
        "template": {
         "data": {
          "bar": [
           {
            "error_x": {
             "color": "#f2f5fa"
            },
            "error_y": {
             "color": "#f2f5fa"
            },
            "marker": {
             "line": {
              "color": "rgb(17,17,17)",
              "width": 0.5
             },
             "pattern": {
              "fillmode": "overlay",
              "size": 10,
              "solidity": 0.2
             }
            },
            "type": "bar"
           }
          ],
          "barpolar": [
           {
            "marker": {
             "line": {
              "color": "rgb(17,17,17)",
              "width": 0.5
             },
             "pattern": {
              "fillmode": "overlay",
              "size": 10,
              "solidity": 0.2
             }
            },
            "type": "barpolar"
           }
          ],
          "carpet": [
           {
            "aaxis": {
             "endlinecolor": "#A2B1C6",
             "gridcolor": "#506784",
             "linecolor": "#506784",
             "minorgridcolor": "#506784",
             "startlinecolor": "#A2B1C6"
            },
            "baxis": {
             "endlinecolor": "#A2B1C6",
             "gridcolor": "#506784",
             "linecolor": "#506784",
             "minorgridcolor": "#506784",
             "startlinecolor": "#A2B1C6"
            },
            "type": "carpet"
           }
          ],
          "choropleth": [
           {
            "colorbar": {
             "outlinewidth": 0,
             "ticks": ""
            },
            "type": "choropleth"
           }
          ],
          "contour": [
           {
            "colorbar": {
             "outlinewidth": 0,
             "ticks": ""
            },
            "colorscale": [
             [
              0,
              "#0d0887"
             ],
             [
              0.1111111111111111,
              "#46039f"
             ],
             [
              0.2222222222222222,
              "#7201a8"
             ],
             [
              0.3333333333333333,
              "#9c179e"
             ],
             [
              0.4444444444444444,
              "#bd3786"
             ],
             [
              0.5555555555555556,
              "#d8576b"
             ],
             [
              0.6666666666666666,
              "#ed7953"
             ],
             [
              0.7777777777777778,
              "#fb9f3a"
             ],
             [
              0.8888888888888888,
              "#fdca26"
             ],
             [
              1,
              "#f0f921"
             ]
            ],
            "type": "contour"
           }
          ],
          "contourcarpet": [
           {
            "colorbar": {
             "outlinewidth": 0,
             "ticks": ""
            },
            "type": "contourcarpet"
           }
          ],
          "heatmap": [
           {
            "colorbar": {
             "outlinewidth": 0,
             "ticks": ""
            },
            "colorscale": [
             [
              0,
              "#0d0887"
             ],
             [
              0.1111111111111111,
              "#46039f"
             ],
             [
              0.2222222222222222,
              "#7201a8"
             ],
             [
              0.3333333333333333,
              "#9c179e"
             ],
             [
              0.4444444444444444,
              "#bd3786"
             ],
             [
              0.5555555555555556,
              "#d8576b"
             ],
             [
              0.6666666666666666,
              "#ed7953"
             ],
             [
              0.7777777777777778,
              "#fb9f3a"
             ],
             [
              0.8888888888888888,
              "#fdca26"
             ],
             [
              1,
              "#f0f921"
             ]
            ],
            "type": "heatmap"
           }
          ],
          "heatmapgl": [
           {
            "colorbar": {
             "outlinewidth": 0,
             "ticks": ""
            },
            "colorscale": [
             [
              0,
              "#0d0887"
             ],
             [
              0.1111111111111111,
              "#46039f"
             ],
             [
              0.2222222222222222,
              "#7201a8"
             ],
             [
              0.3333333333333333,
              "#9c179e"
             ],
             [
              0.4444444444444444,
              "#bd3786"
             ],
             [
              0.5555555555555556,
              "#d8576b"
             ],
             [
              0.6666666666666666,
              "#ed7953"
             ],
             [
              0.7777777777777778,
              "#fb9f3a"
             ],
             [
              0.8888888888888888,
              "#fdca26"
             ],
             [
              1,
              "#f0f921"
             ]
            ],
            "type": "heatmapgl"
           }
          ],
          "histogram": [
           {
            "marker": {
             "pattern": {
              "fillmode": "overlay",
              "size": 10,
              "solidity": 0.2
             }
            },
            "type": "histogram"
           }
          ],
          "histogram2d": [
           {
            "colorbar": {
             "outlinewidth": 0,
             "ticks": ""
            },
            "colorscale": [
             [
              0,
              "#0d0887"
             ],
             [
              0.1111111111111111,
              "#46039f"
             ],
             [
              0.2222222222222222,
              "#7201a8"
             ],
             [
              0.3333333333333333,
              "#9c179e"
             ],
             [
              0.4444444444444444,
              "#bd3786"
             ],
             [
              0.5555555555555556,
              "#d8576b"
             ],
             [
              0.6666666666666666,
              "#ed7953"
             ],
             [
              0.7777777777777778,
              "#fb9f3a"
             ],
             [
              0.8888888888888888,
              "#fdca26"
             ],
             [
              1,
              "#f0f921"
             ]
            ],
            "type": "histogram2d"
           }
          ],
          "histogram2dcontour": [
           {
            "colorbar": {
             "outlinewidth": 0,
             "ticks": ""
            },
            "colorscale": [
             [
              0,
              "#0d0887"
             ],
             [
              0.1111111111111111,
              "#46039f"
             ],
             [
              0.2222222222222222,
              "#7201a8"
             ],
             [
              0.3333333333333333,
              "#9c179e"
             ],
             [
              0.4444444444444444,
              "#bd3786"
             ],
             [
              0.5555555555555556,
              "#d8576b"
             ],
             [
              0.6666666666666666,
              "#ed7953"
             ],
             [
              0.7777777777777778,
              "#fb9f3a"
             ],
             [
              0.8888888888888888,
              "#fdca26"
             ],
             [
              1,
              "#f0f921"
             ]
            ],
            "type": "histogram2dcontour"
           }
          ],
          "mesh3d": [
           {
            "colorbar": {
             "outlinewidth": 0,
             "ticks": ""
            },
            "type": "mesh3d"
           }
          ],
          "parcoords": [
           {
            "line": {
             "colorbar": {
              "outlinewidth": 0,
              "ticks": ""
             }
            },
            "type": "parcoords"
           }
          ],
          "pie": [
           {
            "automargin": true,
            "type": "pie"
           }
          ],
          "scatter": [
           {
            "marker": {
             "line": {
              "color": "#283442"
             }
            },
            "type": "scatter"
           }
          ],
          "scatter3d": [
           {
            "line": {
             "colorbar": {
              "outlinewidth": 0,
              "ticks": ""
             }
            },
            "marker": {
             "colorbar": {
              "outlinewidth": 0,
              "ticks": ""
             }
            },
            "type": "scatter3d"
           }
          ],
          "scattercarpet": [
           {
            "marker": {
             "colorbar": {
              "outlinewidth": 0,
              "ticks": ""
             }
            },
            "type": "scattercarpet"
           }
          ],
          "scattergeo": [
           {
            "marker": {
             "colorbar": {
              "outlinewidth": 0,
              "ticks": ""
             }
            },
            "type": "scattergeo"
           }
          ],
          "scattergl": [
           {
            "marker": {
             "line": {
              "color": "#283442"
             }
            },
            "type": "scattergl"
           }
          ],
          "scattermapbox": [
           {
            "marker": {
             "colorbar": {
              "outlinewidth": 0,
              "ticks": ""
             }
            },
            "type": "scattermapbox"
           }
          ],
          "scatterpolar": [
           {
            "marker": {
             "colorbar": {
              "outlinewidth": 0,
              "ticks": ""
             }
            },
            "type": "scatterpolar"
           }
          ],
          "scatterpolargl": [
           {
            "marker": {
             "colorbar": {
              "outlinewidth": 0,
              "ticks": ""
             }
            },
            "type": "scatterpolargl"
           }
          ],
          "scatterternary": [
           {
            "marker": {
             "colorbar": {
              "outlinewidth": 0,
              "ticks": ""
             }
            },
            "type": "scatterternary"
           }
          ],
          "surface": [
           {
            "colorbar": {
             "outlinewidth": 0,
             "ticks": ""
            },
            "colorscale": [
             [
              0,
              "#0d0887"
             ],
             [
              0.1111111111111111,
              "#46039f"
             ],
             [
              0.2222222222222222,
              "#7201a8"
             ],
             [
              0.3333333333333333,
              "#9c179e"
             ],
             [
              0.4444444444444444,
              "#bd3786"
             ],
             [
              0.5555555555555556,
              "#d8576b"
             ],
             [
              0.6666666666666666,
              "#ed7953"
             ],
             [
              0.7777777777777778,
              "#fb9f3a"
             ],
             [
              0.8888888888888888,
              "#fdca26"
             ],
             [
              1,
              "#f0f921"
             ]
            ],
            "type": "surface"
           }
          ],
          "table": [
           {
            "cells": {
             "fill": {
              "color": "#506784"
             },
             "line": {
              "color": "rgb(17,17,17)"
             }
            },
            "header": {
             "fill": {
              "color": "#2a3f5f"
             },
             "line": {
              "color": "rgb(17,17,17)"
             }
            },
            "type": "table"
           }
          ]
         },
         "layout": {
          "annotationdefaults": {
           "arrowcolor": "#f2f5fa",
           "arrowhead": 0,
           "arrowwidth": 1
          },
          "autotypenumbers": "strict",
          "coloraxis": {
           "colorbar": {
            "outlinewidth": 0,
            "ticks": ""
           }
          },
          "colorscale": {
           "diverging": [
            [
             0,
             "#8e0152"
            ],
            [
             0.1,
             "#c51b7d"
            ],
            [
             0.2,
             "#de77ae"
            ],
            [
             0.3,
             "#f1b6da"
            ],
            [
             0.4,
             "#fde0ef"
            ],
            [
             0.5,
             "#f7f7f7"
            ],
            [
             0.6,
             "#e6f5d0"
            ],
            [
             0.7,
             "#b8e186"
            ],
            [
             0.8,
             "#7fbc41"
            ],
            [
             0.9,
             "#4d9221"
            ],
            [
             1,
             "#276419"
            ]
           ],
           "sequential": [
            [
             0,
             "#0d0887"
            ],
            [
             0.1111111111111111,
             "#46039f"
            ],
            [
             0.2222222222222222,
             "#7201a8"
            ],
            [
             0.3333333333333333,
             "#9c179e"
            ],
            [
             0.4444444444444444,
             "#bd3786"
            ],
            [
             0.5555555555555556,
             "#d8576b"
            ],
            [
             0.6666666666666666,
             "#ed7953"
            ],
            [
             0.7777777777777778,
             "#fb9f3a"
            ],
            [
             0.8888888888888888,
             "#fdca26"
            ],
            [
             1,
             "#f0f921"
            ]
           ],
           "sequentialminus": [
            [
             0,
             "#0d0887"
            ],
            [
             0.1111111111111111,
             "#46039f"
            ],
            [
             0.2222222222222222,
             "#7201a8"
            ],
            [
             0.3333333333333333,
             "#9c179e"
            ],
            [
             0.4444444444444444,
             "#bd3786"
            ],
            [
             0.5555555555555556,
             "#d8576b"
            ],
            [
             0.6666666666666666,
             "#ed7953"
            ],
            [
             0.7777777777777778,
             "#fb9f3a"
            ],
            [
             0.8888888888888888,
             "#fdca26"
            ],
            [
             1,
             "#f0f921"
            ]
           ]
          },
          "colorway": [
           "#636efa",
           "#EF553B",
           "#00cc96",
           "#ab63fa",
           "#FFA15A",
           "#19d3f3",
           "#FF6692",
           "#B6E880",
           "#FF97FF",
           "#FECB52"
          ],
          "font": {
           "color": "#f2f5fa"
          },
          "geo": {
           "bgcolor": "rgb(17,17,17)",
           "lakecolor": "rgb(17,17,17)",
           "landcolor": "rgb(17,17,17)",
           "showlakes": true,
           "showland": true,
           "subunitcolor": "#506784"
          },
          "hoverlabel": {
           "align": "left"
          },
          "hovermode": "closest",
          "mapbox": {
           "style": "dark"
          },
          "paper_bgcolor": "rgb(17,17,17)",
          "plot_bgcolor": "rgb(17,17,17)",
          "polar": {
           "angularaxis": {
            "gridcolor": "#506784",
            "linecolor": "#506784",
            "ticks": ""
           },
           "bgcolor": "rgb(17,17,17)",
           "radialaxis": {
            "gridcolor": "#506784",
            "linecolor": "#506784",
            "ticks": ""
           }
          },
          "scene": {
           "xaxis": {
            "backgroundcolor": "rgb(17,17,17)",
            "gridcolor": "#506784",
            "gridwidth": 2,
            "linecolor": "#506784",
            "showbackground": true,
            "ticks": "",
            "zerolinecolor": "#C8D4E3"
           },
           "yaxis": {
            "backgroundcolor": "rgb(17,17,17)",
            "gridcolor": "#506784",
            "gridwidth": 2,
            "linecolor": "#506784",
            "showbackground": true,
            "ticks": "",
            "zerolinecolor": "#C8D4E3"
           },
           "zaxis": {
            "backgroundcolor": "rgb(17,17,17)",
            "gridcolor": "#506784",
            "gridwidth": 2,
            "linecolor": "#506784",
            "showbackground": true,
            "ticks": "",
            "zerolinecolor": "#C8D4E3"
           }
          },
          "shapedefaults": {
           "line": {
            "color": "#f2f5fa"
           }
          },
          "sliderdefaults": {
           "bgcolor": "#C8D4E3",
           "bordercolor": "rgb(17,17,17)",
           "borderwidth": 1,
           "tickwidth": 0
          },
          "ternary": {
           "aaxis": {
            "gridcolor": "#506784",
            "linecolor": "#506784",
            "ticks": ""
           },
           "baxis": {
            "gridcolor": "#506784",
            "linecolor": "#506784",
            "ticks": ""
           },
           "bgcolor": "rgb(17,17,17)",
           "caxis": {
            "gridcolor": "#506784",
            "linecolor": "#506784",
            "ticks": ""
           }
          },
          "title": {
           "x": 0.05
          },
          "updatemenudefaults": {
           "bgcolor": "#506784",
           "borderwidth": 0
          },
          "xaxis": {
           "automargin": true,
           "gridcolor": "#283442",
           "linecolor": "#506784",
           "ticks": "",
           "title": {
            "standoff": 15
           },
           "zerolinecolor": "#283442",
           "zerolinewidth": 2
          },
          "yaxis": {
           "automargin": true,
           "gridcolor": "#283442",
           "linecolor": "#506784",
           "ticks": "",
           "title": {
            "standoff": 15
           },
           "zerolinecolor": "#283442",
           "zerolinewidth": 2
          }
         }
        },
        "yaxis": {
         "type": "log"
        }
       }
      }
     },
     "metadata": {},
     "output_type": "display_data"
    }
   ],
   "source": [
    "quick_plot(train_losses=train_losses, eval_losses=eval_losses, KLD=None, rec=None)"
   ]
  },
  {
   "cell_type": "code",
   "execution_count": 15,
   "metadata": {},
   "outputs": [
    {
     "data": {
      "application/vnd.plotly.v1+json": {
       "config": {
        "plotlyServerURL": "https://plot.ly"
       },
       "data": [
        {
         "mode": "lines",
         "name": "training",
         "type": "scatter",
         "x": [
          0,
          1,
          2,
          3,
          4,
          5,
          6,
          7,
          8,
          9,
          10,
          11,
          12,
          13,
          14,
          15,
          16,
          17,
          18,
          19,
          20,
          21,
          22,
          23,
          24,
          25,
          26,
          27,
          28,
          29,
          30,
          31,
          32,
          33,
          34,
          35,
          36,
          37,
          38,
          39,
          40,
          41,
          42,
          43,
          44,
          45,
          46,
          47,
          48,
          49,
          50,
          51,
          52,
          53,
          54,
          55,
          56,
          57,
          58,
          59,
          60,
          61,
          62,
          63,
          64,
          65,
          66,
          67,
          68,
          69,
          70,
          71,
          72,
          73,
          74,
          75,
          76,
          77,
          78,
          79,
          80,
          81,
          82,
          83,
          84,
          85,
          86,
          87,
          88,
          89,
          90,
          91,
          92,
          93,
          94,
          95,
          96,
          97,
          98,
          99,
          100,
          101,
          102,
          103,
          104,
          105,
          106,
          107,
          108,
          109,
          110,
          111,
          112,
          113,
          114,
          115,
          116,
          117,
          118,
          119,
          120,
          121,
          122,
          123,
          124,
          125,
          126,
          127,
          128,
          129,
          130,
          131,
          132,
          133,
          134,
          135,
          136,
          137,
          138,
          139,
          140,
          141,
          142,
          143,
          144,
          145,
          146,
          147,
          148,
          149,
          150,
          151,
          152,
          153,
          154,
          155,
          156,
          157,
          158,
          159,
          160,
          161,
          162,
          163,
          164,
          165,
          166,
          167,
          168,
          169,
          170,
          171,
          172,
          173,
          174,
          175,
          176,
          177,
          178,
          179,
          180,
          181,
          182,
          183,
          184,
          185,
          186,
          187,
          188,
          189,
          190,
          191,
          192,
          193,
          194,
          195,
          196,
          197,
          198,
          199,
          200,
          201,
          202,
          203,
          204,
          205,
          206,
          207,
          208,
          209,
          210,
          211,
          212,
          213,
          214,
          215,
          216,
          217,
          218,
          219,
          220,
          221,
          222,
          223,
          224,
          225,
          226,
          227,
          228,
          229,
          230,
          231,
          232,
          233,
          234,
          235,
          236,
          237,
          238,
          239,
          240,
          241,
          242,
          243,
          244,
          245,
          246,
          247,
          248,
          249,
          250,
          251,
          252,
          253,
          254,
          255,
          256,
          257,
          258,
          259,
          260,
          261,
          262,
          263,
          264,
          265,
          266,
          267,
          268,
          269,
          270,
          271,
          272,
          273,
          274,
          275,
          276,
          277,
          278,
          279,
          280,
          281,
          282,
          283,
          284,
          285,
          286,
          287,
          288,
          289,
          290,
          291,
          292,
          293,
          294,
          295,
          296,
          297,
          298,
          299,
          300
         ],
         "y": [
          5876.164682241587,
          2760.218205378606,
          1813.2732684795674,
          1397.2571645883413,
          1107.5282451923076,
          998.0130333533654,
          1002.4464815579928,
          907.268803523137,
          808.7640380859375,
          759.467759352464,
          730.4646935096154,
          709.6052480844351,
          701.7982600285457,
          709.932866023137,
          660.760507436899,
          624.1431180513822,
          629.7786771334135,
          613.3430880033053,
          601.6087411733774,
          597.949209359976,
          619.3863102839543,
          570.0862051156851,
          581.2132192758413,
          554.8998694786659,
          615.3094623272235,
          536.9524770883413,
          550.2971660907452,
          538.139408991887,
          527.5568049504207,
          534.3431067833534,
          550.6950331467849,
          521.914555476262,
          526.588146503155,
          566.208989070012,
          492.05107938326324,
          489.1895188551683,
          483.94703791691705,
          477.66799692007214,
          524.8641545222356,
          534.0512507512019,
          537.1574214054988,
          465.85952524038464,
          472.77938373272235,
          473.65122868464545,
          479.58248431865985,
          464.8312025803786,
          465.50103994516223,
          443.79378098707934,
          441.59283212515027,
          483.9634540264423,
          482.7717496431791,
          446.78569852388824,
          436.8128685584435,
          436.09958120492786,
          455.9468735914964,
          449.7920438326322,
          421.44415517953723,
          429.88679856520434,
          428.6309814453125,
          440.56651188777045,
          424.4664776141827,
          425.4827833909255,
          427.66517052283655,
          423.15689556415265,
          418.0512953538161,
          414.9138653094952,
          425.6798048753005,
          424.7080312875601,
          423.09783700796277,
          426.92234919621393,
          407.98944091796875,
          423.9328801081731,
          425.9081585223858,
          418.94202833909253,
          400.6671870304988,
          389.53217256986176,
          393.34190251277045,
          399.742429293119,
          395.6072012094351,
          389.3822514460637,
          405.32347693810095,
          417.6736567570613,
          404.1543532151442,
          390.1763399564303,
          390.4939622145433,
          380.0467130220853,
          383.84649423452527,
          376.8042696439303,
          379.09959763746997,
          387.75785006009613,
          380.89755483774036,
          381.3558654785156,
          401.90853177584137,
          401.5674743652344,
          382.12710336538464,
          379.0809138371394,
          376.6014615572416,
          414.7912832406851,
          386.8993671123798,
          388.66192626953125,
          385.9264620267428,
          369.1021399864784,
          367.5793222280649,
          368.2083176832933,
          367.84966806265027,
          363.1151052621695,
          381.1823918269231,
          388.7179283728966,
          368.384284386268,
          358.7668151855469,
          360.44737830528845,
          367.84989577073316,
          413.7958514873798,
          397.56709641676684,
          369.5805358886719,
          356.66651564378003,
          371.7431429349459,
          375.3659409743089,
          355.0247028057392,
          355.6177673339844,
          362.6928311861478,
          379.2048527644231,
          357.94671630859375,
          351.95426119290863,
          350.39043485201324,
          365.4037170410156,
          352.39166494516223,
          353.8965148925781,
          350.6070321890024,
          344.80718759390027,
          364.68390596829926,
          348.9246614896334,
          359.587404691256,
          345.62894381009613,
          345.8638469989483,
          344.41658372145434,
          339.7249427208534,
          346.0852238581731,
          340.1234623835637,
          342.1916832557091,
          347.9762784517728,
          344.19493220402643,
          345.9184053861178,
          339.6440922663762,
          336.11801382211536,
          332.63057767427887,
          332.60643357496997,
          345.0579575758714,
          385.94742290790265,
          346.8980947641226,
          344.195070706881,
          342.45477999173676,
          335.90483914888824,
          334.84605994591345,
          350.4993685208834,
          345.03411160982574,
          349.4560992901142,
          341.28827608548676,
          332.7858628493089,
          329.45347712590143,
          320.2559344951923,
          327.1822462815505,
          333.06556349534253,
          346.3907282902644,
          346.1614239032452,
          331.6844529371995,
          335.12687330979566,
          333.1905188927284,
          336.09894503079926,
          349.23236788236176,
          345.1268521822416,
          329.201899601863,
          322.85252732496997,
          328.03614220252405,
          329.5302241398738,
          325.78575251652643,
          327.1334228515625,
          330.93348106971155,
          328.944331242488,
          320.86273193359375,
          321.60394521859973,
          331.4966148963341,
          325.18012178861176,
          321.1626375638522,
          343.4554842435397,
          334.24224853515625,
          340.39361337515027,
          334.3909419133113,
          319.21426156850964,
          321.5908672626202,
          322.67714045597955,
          320.97848041240985,
          325.36672738882214,
          332.968757042518,
          335.21597994290863,
          314.564453125,
          312.51352163461536,
          320.4898752065805,
          319.74451622596155,
          317.5798903245192,
          315.4588106595553,
          312.77777334359973,
          330.5728290264423,
          315.23863102839545,
          310.65633685772235,
          323.4252624511719,
          332.9626981295072,
          332.7174142690805,
          317.22562115009015,
          320.86866877629205,
          317.66475266676684,
          321.228269136869,
          329.88255662184497,
          309.60891488882214,
          325.73639620267426,
          324.1939392089844,
          320.73475764347955,
          318.81820913461536,
          317.2623549241286,
          304.5735426682692,
          307.45836463341345,
          319.3546330378606,
          326.091059758113,
          323.8741783728966,
          302.4183748685397,
          300.58680372971753,
          314.7847149188702,
          320.2469951923077,
          311.3517573429988,
          311.96781099759613,
          313.04359553410455,
          305.095451941857,
          306.1728750375601,
          311.0858717698317,
          299.8858173076923,
          303.3205355130709,
          302.4801260141226,
          315.3835754394531,
          318.4551532451923,
          310.4091468224159,
          304.5541076660156,
          301.3986487755409,
          297.1897489107572,
          303.69760366586536,
          313.4827810434195,
          302.5807659442608,
          318.7867502065805,
          323.3222163273738,
          306.6833707369291,
          312.4242647611178,
          315.2692472017728,
          303.7809565617488,
          322.7294358473558,
          305.644287109375,
          291.5773221529447,
          299.75405649038464,
          303.1854459322416,
          305.9284409743089,
          301.86432589017426,
          296.05357243464545,
          292.02894005408655,
          295.6549541766827,
          288.0735379732572,
          288.37772310697113,
          293.2456312913161,
          302.40955528846155,
          295.9126446063702,
          292.3844064565805,
          287.9175508939303,
          299.2883066030649,
          295.7673645019531,
          292.1635296161358,
          299.7574462890625,
          300.3942354642428,
          297.8962191068209,
          299.8112229567308,
          298.4272155761719,
          331.57025146484375,
          303.55701857346753,
          295.30411470853363,
          305.28189791165863,
          298.68575580303485,
          298.37842970628003,
          292.18272986778845,
          290.57142521784857,
          291.86911245492786,
          289.39243962214545,
          299.01607572115387,
          288.8334045410156,
          284.81554236778845,
          283.3303527832031,
          287.8670982947716,
          287.54187950721155,
          296.1364957369291,
          301.9788301908053,
          291.9816683255709,
          293.55543400691107,
          288.65830876277045,
          291.388425386869,
          287.6493647648738,
          287.91034170297473
         ]
        },
        {
         "mode": "lines",
         "name": "validation",
         "type": "scatter",
         "x": [
          0,
          1,
          2,
          3,
          4,
          5,
          6,
          7,
          8,
          9,
          10,
          11,
          12,
          13,
          14,
          15,
          16,
          17,
          18,
          19,
          20,
          21,
          22,
          23,
          24,
          25,
          26,
          27,
          28,
          29,
          30,
          31,
          32,
          33,
          34,
          35,
          36,
          37,
          38,
          39,
          40,
          41,
          42,
          43,
          44,
          45,
          46,
          47,
          48,
          49,
          50,
          51,
          52,
          53,
          54,
          55,
          56,
          57,
          58,
          59,
          60,
          61,
          62,
          63,
          64,
          65,
          66,
          67,
          68,
          69,
          70,
          71,
          72,
          73,
          74,
          75,
          76,
          77,
          78,
          79,
          80,
          81,
          82,
          83,
          84,
          85,
          86,
          87,
          88,
          89,
          90,
          91,
          92,
          93,
          94,
          95,
          96,
          97,
          98,
          99,
          100,
          101,
          102,
          103,
          104,
          105,
          106,
          107,
          108,
          109,
          110,
          111,
          112,
          113,
          114,
          115,
          116,
          117,
          118,
          119,
          120,
          121,
          122,
          123,
          124,
          125,
          126,
          127,
          128,
          129,
          130,
          131,
          132,
          133,
          134,
          135,
          136,
          137,
          138,
          139,
          140,
          141,
          142,
          143,
          144,
          145,
          146,
          147,
          148,
          149,
          150,
          151,
          152,
          153,
          154,
          155,
          156,
          157,
          158,
          159,
          160,
          161,
          162,
          163,
          164,
          165,
          166,
          167,
          168,
          169,
          170,
          171,
          172,
          173,
          174,
          175,
          176,
          177,
          178,
          179,
          180,
          181,
          182,
          183,
          184,
          185,
          186,
          187,
          188,
          189,
          190,
          191,
          192,
          193,
          194,
          195,
          196,
          197,
          198,
          199,
          200,
          201,
          202,
          203,
          204,
          205,
          206,
          207,
          208,
          209,
          210,
          211,
          212,
          213,
          214,
          215,
          216,
          217,
          218,
          219,
          220,
          221,
          222,
          223,
          224,
          225,
          226,
          227,
          228,
          229,
          230,
          231,
          232,
          233,
          234,
          235,
          236,
          237,
          238,
          239,
          240,
          241,
          242,
          243,
          244,
          245,
          246,
          247,
          248,
          249,
          250,
          251,
          252,
          253,
          254,
          255,
          256,
          257,
          258,
          259,
          260,
          261,
          262,
          263,
          264,
          265,
          266,
          267,
          268,
          269,
          270,
          271,
          272,
          273,
          274,
          275,
          276,
          277,
          278,
          279,
          280,
          281,
          282,
          283,
          284,
          285,
          286,
          287,
          288,
          289,
          290,
          291,
          292,
          293,
          294,
          295,
          296,
          297,
          298,
          299,
          300
         ],
         "y": [
          7837.97802734375,
          5154.662841796875,
          2843.875732421875,
          1484.4923706054688,
          945.0532836914062,
          843.9148559570312,
          1039.1812133789062,
          723.659912109375,
          686.5544128417969,
          642.6485595703125,
          616.8067016601562,
          604.722412109375,
          604.9612121582031,
          625.8529968261719,
          557.2474975585938,
          678.2001953125,
          752.6425170898438,
          535.8358154296875,
          562.9978332519531,
          818.9244384765625,
          533.6105651855469,
          498.3076934814453,
          467.5683898925781,
          437.9415283203125,
          453.79998779296875,
          502.9278564453125,
          418.7840881347656,
          439.8215637207031,
          475.51307678222656,
          415.12705993652344,
          654.3209228515625,
          440.1962432861328,
          410.07176208496094,
          457.54527282714844,
          448.4822235107422,
          409.0745544433594,
          393.2690734863281,
          453.0579528808594,
          557.52294921875,
          490.9559020996094,
          476.69427490234375,
          362.14544677734375,
          372.52516174316406,
          379.8169708251953,
          370.6984405517578,
          372.3002166748047,
          402.70765686035156,
          363.4801940917969,
          378.9474792480469,
          504.8817901611328,
          438.45501708984375,
          349.94793701171875,
          380.4038391113281,
          353.90399169921875,
          482.2535095214844,
          412.4407196044922,
          358.97991943359375,
          358.4806365966797,
          378.9552764892578,
          376.89723205566406,
          338.65040588378906,
          405.5224304199219,
          399.14111328125,
          337.57188415527344,
          364.361083984375,
          325.5669250488281,
          451.5136260986328,
          461.62615966796875,
          338.03160095214844,
          375.16368103027344,
          339.3968963623047,
          393.3566436767578,
          363.2666320800781,
          330.70350646972656,
          330.4455871582031,
          317.370849609375,
          345.7309875488281,
          327.93450927734375,
          327.8267517089844,
          333.99871826171875,
          330.98143005371094,
          338.0943603515625,
          336.27313232421875,
          340.30149841308594,
          329.38182067871094,
          330.7450714111328,
          303.51470947265625,
          348.3232727050781,
          325.13804626464844,
          315.6514434814453,
          338.5743103027344,
          413.08363342285156,
          349.96604919433594,
          324.05918884277344,
          387.6856231689453,
          302.4153289794922,
          349.9772033691406,
          341.87171936035156,
          339.83197021484375,
          323.4624328613281,
          314.1300811767578,
          303.3026123046875,
          329.0644226074219,
          328.16180419921875,
          311.15374755859375,
          352.8249969482422,
          311.41680908203125,
          323.8064422607422,
          293.8008575439453,
          305.4281921386719,
          312.82582092285156,
          355.4346923828125,
          343.5771179199219,
          308.363525390625,
          291.59674072265625,
          343.2266540527344,
          296.06646728515625,
          307.5055236816406,
          316.9769744873047,
          315.92152404785156,
          296.9616394042969,
          296.3693084716797,
          292.07350158691406,
          287.91424560546875,
          300.19371032714844,
          328.4226531982422,
          284.6815643310547,
          363.1893005371094,
          286.1363220214844,
          302.25559997558594,
          282.8187713623047,
          291.69041442871094,
          301.58489990234375,
          280.2872619628906,
          289.65736389160156,
          289.5648498535156,
          291.7351989746094,
          323.6848602294922,
          278.8760528564453,
          301.8958740234375,
          289.3930358886719,
          282.7590637207031,
          309.24436950683594,
          286.7581787109375,
          292.7820129394531,
          277.96075439453125,
          289.73841857910156,
          334.61622619628906,
          296.31288146972656,
          291.9425964355469,
          285.5015563964844,
          284.9862976074219,
          281.05657958984375,
          274.04046630859375,
          279.85191345214844,
          288.22674560546875,
          306.9213409423828,
          297.6964569091797,
          295.13612365722656,
          276.7042999267578,
          275.9956970214844,
          276.6693572998047,
          297.2084655761719,
          295.4839630126953,
          285.2982635498047,
          287.99365234375,
          287.40785217285156,
          317.6318817138672,
          316.3645935058594,
          297.59214782714844,
          286.6868438720703,
          265.81251525878906,
          274.0599060058594,
          284.3258819580078,
          273.5773162841797,
          264.2152404785156,
          289.87982177734375,
          286.32325744628906,
          257.3741149902344,
          262.9564971923828,
          265.1767272949219,
          286.1445617675781,
          287.3395690917969,
          295.58709716796875,
          323.24676513671875,
          285.6741027832031,
          303.5147399902344,
          271.8531494140625,
          265.09413146972656,
          278.2220458984375,
          263.86082458496094,
          274.9836730957031,
          330.12709045410156,
          325.6708984375,
          273.7039337158203,
          258.39634704589844,
          284.31178283691406,
          269.8664093017578,
          281.382568359375,
          262.45448303222656,
          270.0332794189453,
          299.73329162597656,
          268.9905090332031,
          266.82330322265625,
          262.2554931640625,
          290.87738037109375,
          257.8109893798828,
          266.18597412109375,
          277.8710479736328,
          292.9775085449219,
          260.3301086425781,
          267.9629211425781,
          258.77830505371094,
          271.8351135253906,
          303.1252136230469,
          271.22389221191406,
          258.6855926513672,
          279.0937805175781,
          254.21728515625,
          281.48095703125,
          266.9876403808594,
          258.41917419433594,
          328.39085388183594,
          253.46056365966797,
          256.0616683959961,
          250.20626068115234,
          289.9278869628906,
          258.70682525634766,
          256.20311737060547,
          268.6482391357422,
          266.2158966064453,
          249.87548065185547,
          274.88673400878906,
          252.40314483642578,
          257.650146484375,
          248.40975189208984,
          265.16578674316406,
          263.273193359375,
          262.6575012207031,
          266.2798767089844,
          245.63694763183594,
          253.83876037597656,
          257.27500915527344,
          296.87913513183594,
          274.3841094970703,
          245.39118194580078,
          269.7502136230469,
          270.5618896484375,
          255.58494567871094,
          311.34825134277344,
          269.1778259277344,
          276.7116394042969,
          277.35040283203125,
          241.89683532714844,
          245.70417022705078,
          281.17852783203125,
          275.28753662109375,
          290.84910583496094,
          248.83052825927734,
          245.85823822021484,
          247.53695678710938,
          254.13797760009766,
          245.58132934570312,
          247.673095703125,
          249.00106811523438,
          251.83374786376953,
          253.29994201660156,
          241.8775177001953,
          248.08129119873047,
          260.1340026855469,
          249.44054412841797,
          261.5627136230469,
          258.3349609375,
          259.7230682373047,
          260.83843994140625,
          257.4809265136719,
          287.526611328125,
          256.63600158691406,
          252.36672973632812,
          256.22886657714844,
          247.77031707763672,
          254.80979919433594,
          252.2189712524414,
          251.57137298583984,
          239.59527587890625,
          245.33685302734375,
          246.39130401611328,
          244.26891326904297,
          242.91354370117188,
          236.38946533203125,
          234.0415496826172,
          244.9542007446289,
          241.2671661376953,
          267.4950866699219,
          250.92424774169922,
          239.64883422851562,
          243.25637817382812,
          253.04278564453125,
          265.67811584472656,
          240.9886932373047,
          255.60143280029297
         ]
        },
        {
         "mode": "lines",
         "name": "reconstruction",
         "type": "scatter",
         "x": [
          0,
          1,
          2,
          3,
          4,
          5,
          6,
          7,
          8,
          9,
          10,
          11,
          12,
          13,
          14,
          15,
          16,
          17,
          18,
          19,
          20,
          21,
          22,
          23,
          24,
          25,
          26,
          27,
          28,
          29,
          30,
          31,
          32,
          33,
          34,
          35,
          36,
          37,
          38,
          39,
          40,
          41,
          42,
          43,
          44,
          45,
          46,
          47,
          48,
          49,
          50,
          51,
          52,
          53,
          54,
          55,
          56,
          57,
          58,
          59,
          60,
          61,
          62,
          63,
          64,
          65,
          66,
          67,
          68,
          69,
          70,
          71,
          72,
          73,
          74,
          75,
          76,
          77,
          78,
          79,
          80,
          81,
          82,
          83,
          84,
          85,
          86,
          87,
          88,
          89,
          90,
          91,
          92,
          93,
          94,
          95,
          96,
          97,
          98,
          99,
          100,
          101,
          102,
          103,
          104,
          105,
          106,
          107,
          108,
          109,
          110,
          111,
          112,
          113,
          114,
          115,
          116,
          117,
          118,
          119,
          120,
          121,
          122,
          123,
          124,
          125,
          126,
          127,
          128,
          129,
          130,
          131,
          132,
          133,
          134,
          135,
          136,
          137,
          138,
          139,
          140,
          141,
          142,
          143,
          144,
          145,
          146,
          147,
          148,
          149,
          150,
          151,
          152,
          153,
          154,
          155,
          156,
          157,
          158,
          159,
          160,
          161,
          162,
          163,
          164,
          165,
          166,
          167,
          168,
          169,
          170,
          171,
          172,
          173,
          174,
          175,
          176,
          177,
          178,
          179,
          180,
          181,
          182,
          183,
          184,
          185,
          186,
          187,
          188,
          189,
          190,
          191,
          192,
          193,
          194,
          195,
          196,
          197,
          198,
          199,
          200,
          201,
          202,
          203,
          204,
          205,
          206,
          207,
          208,
          209,
          210,
          211,
          212,
          213,
          214,
          215,
          216,
          217,
          218,
          219,
          220,
          221,
          222,
          223,
          224,
          225,
          226,
          227,
          228,
          229,
          230,
          231,
          232,
          233,
          234,
          235,
          236,
          237,
          238,
          239,
          240,
          241,
          242,
          243,
          244,
          245,
          246,
          247,
          248,
          249,
          250,
          251,
          252,
          253,
          254,
          255,
          256,
          257,
          258,
          259,
          260,
          261,
          262,
          263,
          264,
          265,
          266,
          267,
          268,
          269,
          270,
          271,
          272,
          273,
          274,
          275,
          276,
          277,
          278,
          279,
          280,
          281,
          282,
          283,
          284,
          285,
          286,
          287,
          288,
          289,
          290,
          291,
          292,
          293,
          294,
          295,
          296,
          297,
          298,
          299,
          300
         ],
         "y": [
          5869.79833984375,
          2749.0589505709136,
          1796.2884897085337,
          1374.908916766827,
          1080.6686166616587,
          967.3925217848557,
          968.7759070763221,
          871.5032207782452,
          771.0371375450721,
          719.8657508263221,
          689.1083984375,
          666.6116286057693,
          657.4488947941707,
          664.4165837214543,
          614.3607553335337,
          576.8377544696515,
          581.5228600135216,
          564.264883188101,
          551.8692486102765,
          547.5321279672476,
          568.3921743539663,
          518.5700495793269,
          529.2098646897537,
          502.31746262770434,
          562.3208359938401,
          483.64833186222955,
          496.6968336838942,
          484.3226623535156,
          473.4530475323017,
          479.9828702486478,
          496.1073326697716,
          467.2174330491286,
          471.54440542367786,
          510.9420635516827,
          436.59364201472357,
          433.58348200871393,
          428.1326951246995,
          421.6990755521334,
          468.6708068847656,
          477.8824439415565,
          481.1468059833233,
          409.8751525878906,
          416.6133211576022,
          417.35795241135816,
          423.1302936260517,
          408.28130399263824,
          408.8818688025841,
          387.08531541090747,
          384.59520310621997,
          426.9222083458534,
          425.8739741398738,
          389.97178532527045,
          379.9068838266226,
          379.24099496694714,
          399.0218247633714,
          392.82906400240387,
          364.2613267164964,
          372.7060546875,
          371.47404127854566,
          383.42449246920074,
          367.2930884728065,
          368.3167982835036,
          370.431396484375,
          365.9657217172476,
          361.00645329402045,
          357.79847599909857,
          368.47952740009015,
          367.57456852839545,
          365.99469228891223,
          369.8119389460637,
          350.86190091646637,
          366.88519052358777,
          368.833989070012,
          361.9936711237981,
          343.67918278620795,
          332.585932804988,
          336.2893794133113,
          342.7030052771935,
          338.4510286771334,
          332.24991314227765,
          348.2155573918269,
          360.5573965219351,
          347.17717801607574,
          333.18934044471155,
          333.5539034329928,
          323.07215529221753,
          326.85203904371997,
          319.8935077373798,
          322.1512474646935,
          330.82996544471155,
          323.910400390625,
          324.3204674353966,
          344.82564838115985,
          344.74422513521637,
          325.4860135591947,
          322.46324275090143,
          319.9222646859976,
          358.22161160982574,
          330.405524620643,
          332.2925039438101,
          329.41663771409253,
          312.6016916128305,
          311.0092961237981,
          311.6487309382512,
          311.31922325721155,
          306.5982736440805,
          324.60689133864184,
          332.2829777644231,
          311.99854454627405,
          302.36083045372595,
          304.01991389347955,
          311.2773648775541,
          357.4236309344952,
          341.49571345402643,
          313.8909137432392,
          300.90262310321515,
          315.8422123835637,
          319.3498863807091,
          299.0538330078125,
          299.69058697040265,
          306.724123441256,
          323.2059725247897,
          301.9996572641226,
          296.02093271108777,
          294.388427734375,
          309.2931565504808,
          296.31529118464545,
          297.8988013634315,
          294.7364501953125,
          288.9537799541767,
          308.8881178635817,
          293.2433636005108,
          303.93699528620795,
          289.99566650390625,
          290.3182044396034,
          288.80313579852765,
          284.0437246469351,
          290.3413320688101,
          284.2973844088041,
          286.3624220628005,
          292.085939847506,
          288.38731501652643,
          290.1877840482272,
          283.91659076397235,
          280.47970111553485,
          277.0832331730769,
          276.99598341721753,
          289.38478205754205,
          330.41925283578723,
          291.4817880483774,
          288.8666780911959,
          287.1190960223858,
          280.64949387770434,
          279.6126920259916,
          295.2813532902644,
          289.8792067307692,
          294.2575472318209,
          286.10315880408655,
          277.6722177358774,
          274.31365732046277,
          265.17178109975964,
          271.9738440880409,
          277.8550978440505,
          291.35336538461536,
          291.31729830228363,
          276.8877281775841,
          280.35655329777643,
          278.4501201923077,
          281.3792325533353,
          294.5975341796875,
          290.51295353816107,
          274.6985520582933,
          268.3865755521334,
          273.50965998722955,
          275.00686410757214,
          271.22019841120795,
          272.51182321401745,
          276.3011991060697,
          274.3854417067308,
          266.3722686767578,
          266.98988342285156,
          276.88206951434796,
          270.5243365948017,
          266.64026817908655,
          288.9690763033353,
          279.8499004657452,
          286.13857797475964,
          280.17437978891223,
          264.94041560246393,
          267.2277174729567,
          268.15540724534253,
          266.4395986703726,
          270.82337599534253,
          278.59434626652643,
          280.9487515963041,
          260.33790471003607,
          258.17790456918567,
          266.0249551626352,
          265.24684260441705,
          263.13641240046576,
          261.0155052771935,
          258.3133497971755,
          276.28594970703125,
          260.9850088266226,
          256.50880549504205,
          269.2379878117488,
          278.7787381685697,
          278.61899038461536,
          263.1590599646935,
          266.79189241849457,
          263.496824998122,
          267.01083608774036,
          275.6942526010367,
          255.47679490309494,
          271.7518357496995,
          270.37662447415863,
          267.03298715444714,
          264.93407264122595,
          263.53467970628003,
          250.8420926607572,
          253.663087111253,
          265.5376281738281,
          272.3777371920072,
          270.40355858436,
          248.80918297400842,
          246.69631958007812,
          260.6918546236478,
          266.23480459359973,
          257.4557401216947,
          258.177491408128,
          259.1858860896184,
          251.20179983285757,
          252.27655733548679,
          257.23132676344653,
          246.13605557955228,
          249.54344764122595,
          248.6607677753155,
          261.5467975323017,
          264.7736065204327,
          256.8379035362831,
          250.94828444260818,
          247.78272658128006,
          243.46788142277643,
          249.96798001802884,
          259.8028353177584,
          249.03180283766525,
          265.30646456204926,
          269.96144104003906,
          253.46162766676682,
          259.1370462270883,
          262.0392538217398,
          250.50738642765924,
          269.49954693134015,
          252.51875539926382,
          238.4871544471154,
          246.48620018592248,
          249.88518700232873,
          252.58653024526743,
          248.47048011192908,
          242.593509380634,
          238.55104182316705,
          242.08544100247897,
          234.45299823467548,
          234.77015099158655,
          239.59316664475662,
          248.96904930701623,
          242.57825646033655,
          239.09699894831732,
          234.5567122239333,
          245.86672973632812,
          242.24649047851562,
          238.7576129619892,
          246.38621990497296,
          247.0916513296274,
          244.76546302208533,
          246.7793989915114,
          245.45774489182693,
          278.7113283597506,
          250.84620783879205,
          242.47318326509915,
          252.3028282752404,
          245.6141345684345,
          245.3468745304988,
          239.09718440129205,
          237.2568136361929,
          238.52379079965445,
          235.98470012958234,
          245.67866750863882,
          235.73094646747296,
          231.70606877253607,
          230.21076261080228,
          234.70304635854868,
          234.38369633601263,
          242.97464810884915,
          248.92415794959436,
          238.9447033221905,
          240.44556250939002,
          235.5362067589393,
          238.3794438288762,
          234.74497868464545,
          234.9100576547476
         ]
        },
        {
         "mode": "lines",
         "name": "KLD",
         "type": "scatter",
         "x": [
          0,
          1,
          2,
          3,
          4,
          5,
          6,
          7,
          8,
          9,
          10,
          11,
          12,
          13,
          14,
          15,
          16,
          17,
          18,
          19,
          20,
          21,
          22,
          23,
          24,
          25,
          26,
          27,
          28,
          29,
          30,
          31,
          32,
          33,
          34,
          35,
          36,
          37,
          38,
          39,
          40,
          41,
          42,
          43,
          44,
          45,
          46,
          47,
          48,
          49,
          50,
          51,
          52,
          53,
          54,
          55,
          56,
          57,
          58,
          59,
          60,
          61,
          62,
          63,
          64,
          65,
          66,
          67,
          68,
          69,
          70,
          71,
          72,
          73,
          74,
          75,
          76,
          77,
          78,
          79,
          80,
          81,
          82,
          83,
          84,
          85,
          86,
          87,
          88,
          89,
          90,
          91,
          92,
          93,
          94,
          95,
          96,
          97,
          98,
          99,
          100,
          101,
          102,
          103,
          104,
          105,
          106,
          107,
          108,
          109,
          110,
          111,
          112,
          113,
          114,
          115,
          116,
          117,
          118,
          119,
          120,
          121,
          122,
          123,
          124,
          125,
          126,
          127,
          128,
          129,
          130,
          131,
          132,
          133,
          134,
          135,
          136,
          137,
          138,
          139,
          140,
          141,
          142,
          143,
          144,
          145,
          146,
          147,
          148,
          149,
          150,
          151,
          152,
          153,
          154,
          155,
          156,
          157,
          158,
          159,
          160,
          161,
          162,
          163,
          164,
          165,
          166,
          167,
          168,
          169,
          170,
          171,
          172,
          173,
          174,
          175,
          176,
          177,
          178,
          179,
          180,
          181,
          182,
          183,
          184,
          185,
          186,
          187,
          188,
          189,
          190,
          191,
          192,
          193,
          194,
          195,
          196,
          197,
          198,
          199,
          200,
          201,
          202,
          203,
          204,
          205,
          206,
          207,
          208,
          209,
          210,
          211,
          212,
          213,
          214,
          215,
          216,
          217,
          218,
          219,
          220,
          221,
          222,
          223,
          224,
          225,
          226,
          227,
          228,
          229,
          230,
          231,
          232,
          233,
          234,
          235,
          236,
          237,
          238,
          239,
          240,
          241,
          242,
          243,
          244,
          245,
          246,
          247,
          248,
          249,
          250,
          251,
          252,
          253,
          254,
          255,
          256,
          257,
          258,
          259,
          260,
          261,
          262,
          263,
          264,
          265,
          266,
          267,
          268,
          269,
          270,
          271,
          272,
          273,
          274,
          275,
          276,
          277,
          278,
          279,
          280,
          281,
          282,
          283,
          284,
          285,
          286,
          287,
          288,
          289,
          290,
          291,
          292,
          293,
          294,
          295,
          296,
          297,
          298,
          299,
          300
         ],
         "y": [
          6.366311568480271,
          11.159250919635479,
          16.98477055476262,
          22.348253690279446,
          26.85962647658128,
          30.620509221003605,
          33.67057594886193,
          35.76558362520658,
          37.72689701960637,
          39.60201116708609,
          41.356290963979866,
          42.993626227745644,
          44.34936347374549,
          45.51628494262695,
          46.399754157433144,
          47.305355072021484,
          48.25581477238582,
          49.078209803654595,
          49.73949197622446,
          50.41708403367262,
          50.99414414625902,
          51.516160818246696,
          52.00335693359375,
          52.5824089050293,
          52.98862780057467,
          53.30414023766151,
          53.60033299372746,
          53.816758962777946,
          54.10376299344576,
          54.36024504441481,
          54.587707226093,
          54.69712624183068,
          55.043736971341644,
          55.266919943002556,
          55.45744059636043,
          55.606037433330826,
          55.81434484628531,
          55.968921367938705,
          56.19334147526668,
          56.16880680964543,
          56.01062217125526,
          55.98437147874098,
          56.16606286855844,
          56.293283022367035,
          56.45219069260817,
          56.54989858774039,
          56.619172903207634,
          56.70846352210412,
          56.99762813861553,
          57.04124157245342,
          56.89778019831731,
          56.813915546123795,
          56.90598355806791,
          56.858587118295524,
          56.92505205594576,
          56.96298012366662,
          57.18283315805289,
          57.180745344895584,
          57.15694486177885,
          57.14202147263747,
          57.1733879676232,
          57.16598275991586,
          57.233775212214546,
          57.19117619441106,
          57.044843233548676,
          57.115389603834885,
          57.20028040959285,
          57.13346217228816,
          57.10314735999474,
          57.11041259765625,
          57.12753706711989,
          57.047691051776596,
          57.074168572059044,
          56.94835662841797,
          56.98800453772912,
          56.94623741736779,
          57.05252280602088,
          57.03942636343149,
          57.15616901104267,
          57.13234211848332,
          57.10791778564453,
          57.11626316950871,
          56.97717695969801,
          56.98699775108924,
          56.94005555372972,
          56.974561838003304,
          56.99445548424354,
          56.910765134371246,
          56.9483516399677,
          56.927887843205376,
          56.98715767493615,
          57.03539716280424,
          57.08288075373723,
          56.82325245783879,
          56.641093034010666,
          56.617672846867485,
          56.67919745812049,
          56.56967368492713,
          56.49384219829853,
          56.369425553541916,
          56.5098257798415,
          56.50044954740084,
          56.57002551739033,
          56.55958850567158,
          56.530441577617935,
          56.516830737774185,
          56.575499021089996,
          56.43495031503531,
          56.38574306781475,
          56.40598766620342,
          56.427464118370644,
          56.57252971942608,
          56.37222084632287,
          56.07137944148137,
          55.68962185199444,
          55.7638919536884,
          55.90092732356145,
          56.01605165921725,
          55.97086979792668,
          55.92718007014348,
          55.968708331768326,
          55.998882000262924,
          55.94705669696514,
          55.93333141620342,
          56.00200682419997,
          56.110559903658356,
          56.07637669489934,
          55.99771323570838,
          55.8705808199369,
          55.85341409536508,
          55.79579074566181,
          55.681297302246094,
          55.65041263286884,
          55.633277893066406,
          55.54564402653621,
          55.613445868858925,
          55.68121748704176,
          55.74389912531926,
          55.82607797475961,
          55.82926266009991,
          55.89033860426683,
          55.80761806781475,
          55.730620457575874,
          55.727500915527344,
          55.63831417377178,
          55.54734626183143,
          55.61044663649339,
          55.673176985520584,
          55.52816977867713,
          55.41630671574519,
          55.32839232224684,
          55.335681621844955,
          55.25534409743089,
          55.233366159292366,
          55.218016110933746,
          55.154903411865234,
          55.198551177978516,
          55.18511522733248,
          55.11364305936373,
          55.139820979191704,
          55.084158383882965,
          55.20840131319486,
          55.21046623816857,
          55.03736319908729,
          54.844124427208534,
          54.796726813683144,
          54.77031590388371,
          54.74040046105018,
          54.7197151184082,
          54.63483135516827,
          54.61389923095703,
          54.50334930419922,
          54.46595118596004,
          54.52648426936223,
          54.52336384699895,
          54.56555938720703,
          54.62159758347731,
          54.63228460458609,
          54.55888924231896,
          54.490463550274185,
          54.61406678419847,
          54.6145506638747,
          54.65578490037184,
          54.52236586350661,
          54.48640911395733,
          54.39234806941106,
          54.255034520075874,
          54.21656564565805,
          54.273847139798676,
          54.3631477355957,
          54.52173350407527,
          54.538880861722504,
          54.54335550161508,
          54.37441048255334,
          54.26722805316631,
          54.226547534649185,
          54.33561823918269,
          54.46492033738356,
          54.49767567561223,
          54.44347968468299,
          54.44330420860877,
          54.46442648080679,
          54.28688401442308,
          54.25362102801983,
          54.14753400362455,
          54.18726994441106,
          54.183961428128754,
          54.0984241779034,
          54.06656969510592,
          54.07677606435922,
          54.16792854895959,
          54.21743392944336,
          54.188306955190804,
          54.13212115948017,
          53.98456280048077,
          53.81731033325195,
          53.70177283653846,
          53.88413385244516,
          53.72767668503981,
          53.73145030095027,
          53.79527840247521,
          53.8170051574707,
          53.71332315298227,
          53.47062008197491,
          53.609192774846,
          53.890485323392426,
          54.092862349290115,
          54.012189424954926,
          53.896016340989334,
          53.7903198829064,
          53.85770474947416,
          53.89365240243765,
          53.89631946270283,
          53.85454295231746,
          53.74976436908428,
          53.77708845872145,
          53.81935823880709,
          53.83677908090445,
          53.68154496413011,
          53.57124269925631,
          53.60582469059871,
          53.61592219426082,
          53.721865727351265,
          53.729627755972054,
          53.67994777972881,
          53.54896486722506,
          53.4802859379695,
          53.360780275785004,
          53.22174835205078,
          53.28721736027644,
          53.22999279315655,
          53.2735710144043,
          53.22988686194787,
          53.12553288386418,
          53.090168292705826,
          53.267853663517876,
          53.30025922335111,
          53.341915130615234,
          53.393849299504204,
          53.460063640887924,
          53.47790116530199,
          53.56951023982121,
          53.62053827139047,
          53.60757504976713,
          53.65246816781851,
          53.44050627488356,
          53.334389026348404,
          53.28740868201623,
          53.3608404306265,
          53.42157862736629,
          53.5208740234375,
          53.405916067270134,
          53.37122697096605,
          53.302583547738884,
          53.13075931255634,
          53.03182689960186,
          52.969471564659706,
          52.85892134446364,
          52.71080956092248,
          52.83092997624324,
          52.97907345111553,
          53.07162182147686,
          53.031553708589996,
          53.085546053372894,
          53.31460776695838,
          53.34532224214994,
          53.40774242694561,
          53.33740762563852,
          53.102458660419174,
          53.10947154118465,
          53.11958841177133,
          53.16405017559345,
          53.15818522526668,
          53.16185085590069,
          53.054669893704926,
          53.0369626558744,
          53.10987179095928,
          53.12210405789889,
          53.00898097111629,
          52.904390188363884,
          53.00028874323918
         ]
        }
       ],
       "layout": {
        "template": {
         "data": {
          "bar": [
           {
            "error_x": {
             "color": "#f2f5fa"
            },
            "error_y": {
             "color": "#f2f5fa"
            },
            "marker": {
             "line": {
              "color": "rgb(17,17,17)",
              "width": 0.5
             },
             "pattern": {
              "fillmode": "overlay",
              "size": 10,
              "solidity": 0.2
             }
            },
            "type": "bar"
           }
          ],
          "barpolar": [
           {
            "marker": {
             "line": {
              "color": "rgb(17,17,17)",
              "width": 0.5
             },
             "pattern": {
              "fillmode": "overlay",
              "size": 10,
              "solidity": 0.2
             }
            },
            "type": "barpolar"
           }
          ],
          "carpet": [
           {
            "aaxis": {
             "endlinecolor": "#A2B1C6",
             "gridcolor": "#506784",
             "linecolor": "#506784",
             "minorgridcolor": "#506784",
             "startlinecolor": "#A2B1C6"
            },
            "baxis": {
             "endlinecolor": "#A2B1C6",
             "gridcolor": "#506784",
             "linecolor": "#506784",
             "minorgridcolor": "#506784",
             "startlinecolor": "#A2B1C6"
            },
            "type": "carpet"
           }
          ],
          "choropleth": [
           {
            "colorbar": {
             "outlinewidth": 0,
             "ticks": ""
            },
            "type": "choropleth"
           }
          ],
          "contour": [
           {
            "colorbar": {
             "outlinewidth": 0,
             "ticks": ""
            },
            "colorscale": [
             [
              0,
              "#0d0887"
             ],
             [
              0.1111111111111111,
              "#46039f"
             ],
             [
              0.2222222222222222,
              "#7201a8"
             ],
             [
              0.3333333333333333,
              "#9c179e"
             ],
             [
              0.4444444444444444,
              "#bd3786"
             ],
             [
              0.5555555555555556,
              "#d8576b"
             ],
             [
              0.6666666666666666,
              "#ed7953"
             ],
             [
              0.7777777777777778,
              "#fb9f3a"
             ],
             [
              0.8888888888888888,
              "#fdca26"
             ],
             [
              1,
              "#f0f921"
             ]
            ],
            "type": "contour"
           }
          ],
          "contourcarpet": [
           {
            "colorbar": {
             "outlinewidth": 0,
             "ticks": ""
            },
            "type": "contourcarpet"
           }
          ],
          "heatmap": [
           {
            "colorbar": {
             "outlinewidth": 0,
             "ticks": ""
            },
            "colorscale": [
             [
              0,
              "#0d0887"
             ],
             [
              0.1111111111111111,
              "#46039f"
             ],
             [
              0.2222222222222222,
              "#7201a8"
             ],
             [
              0.3333333333333333,
              "#9c179e"
             ],
             [
              0.4444444444444444,
              "#bd3786"
             ],
             [
              0.5555555555555556,
              "#d8576b"
             ],
             [
              0.6666666666666666,
              "#ed7953"
             ],
             [
              0.7777777777777778,
              "#fb9f3a"
             ],
             [
              0.8888888888888888,
              "#fdca26"
             ],
             [
              1,
              "#f0f921"
             ]
            ],
            "type": "heatmap"
           }
          ],
          "heatmapgl": [
           {
            "colorbar": {
             "outlinewidth": 0,
             "ticks": ""
            },
            "colorscale": [
             [
              0,
              "#0d0887"
             ],
             [
              0.1111111111111111,
              "#46039f"
             ],
             [
              0.2222222222222222,
              "#7201a8"
             ],
             [
              0.3333333333333333,
              "#9c179e"
             ],
             [
              0.4444444444444444,
              "#bd3786"
             ],
             [
              0.5555555555555556,
              "#d8576b"
             ],
             [
              0.6666666666666666,
              "#ed7953"
             ],
             [
              0.7777777777777778,
              "#fb9f3a"
             ],
             [
              0.8888888888888888,
              "#fdca26"
             ],
             [
              1,
              "#f0f921"
             ]
            ],
            "type": "heatmapgl"
           }
          ],
          "histogram": [
           {
            "marker": {
             "pattern": {
              "fillmode": "overlay",
              "size": 10,
              "solidity": 0.2
             }
            },
            "type": "histogram"
           }
          ],
          "histogram2d": [
           {
            "colorbar": {
             "outlinewidth": 0,
             "ticks": ""
            },
            "colorscale": [
             [
              0,
              "#0d0887"
             ],
             [
              0.1111111111111111,
              "#46039f"
             ],
             [
              0.2222222222222222,
              "#7201a8"
             ],
             [
              0.3333333333333333,
              "#9c179e"
             ],
             [
              0.4444444444444444,
              "#bd3786"
             ],
             [
              0.5555555555555556,
              "#d8576b"
             ],
             [
              0.6666666666666666,
              "#ed7953"
             ],
             [
              0.7777777777777778,
              "#fb9f3a"
             ],
             [
              0.8888888888888888,
              "#fdca26"
             ],
             [
              1,
              "#f0f921"
             ]
            ],
            "type": "histogram2d"
           }
          ],
          "histogram2dcontour": [
           {
            "colorbar": {
             "outlinewidth": 0,
             "ticks": ""
            },
            "colorscale": [
             [
              0,
              "#0d0887"
             ],
             [
              0.1111111111111111,
              "#46039f"
             ],
             [
              0.2222222222222222,
              "#7201a8"
             ],
             [
              0.3333333333333333,
              "#9c179e"
             ],
             [
              0.4444444444444444,
              "#bd3786"
             ],
             [
              0.5555555555555556,
              "#d8576b"
             ],
             [
              0.6666666666666666,
              "#ed7953"
             ],
             [
              0.7777777777777778,
              "#fb9f3a"
             ],
             [
              0.8888888888888888,
              "#fdca26"
             ],
             [
              1,
              "#f0f921"
             ]
            ],
            "type": "histogram2dcontour"
           }
          ],
          "mesh3d": [
           {
            "colorbar": {
             "outlinewidth": 0,
             "ticks": ""
            },
            "type": "mesh3d"
           }
          ],
          "parcoords": [
           {
            "line": {
             "colorbar": {
              "outlinewidth": 0,
              "ticks": ""
             }
            },
            "type": "parcoords"
           }
          ],
          "pie": [
           {
            "automargin": true,
            "type": "pie"
           }
          ],
          "scatter": [
           {
            "marker": {
             "line": {
              "color": "#283442"
             }
            },
            "type": "scatter"
           }
          ],
          "scatter3d": [
           {
            "line": {
             "colorbar": {
              "outlinewidth": 0,
              "ticks": ""
             }
            },
            "marker": {
             "colorbar": {
              "outlinewidth": 0,
              "ticks": ""
             }
            },
            "type": "scatter3d"
           }
          ],
          "scattercarpet": [
           {
            "marker": {
             "colorbar": {
              "outlinewidth": 0,
              "ticks": ""
             }
            },
            "type": "scattercarpet"
           }
          ],
          "scattergeo": [
           {
            "marker": {
             "colorbar": {
              "outlinewidth": 0,
              "ticks": ""
             }
            },
            "type": "scattergeo"
           }
          ],
          "scattergl": [
           {
            "marker": {
             "line": {
              "color": "#283442"
             }
            },
            "type": "scattergl"
           }
          ],
          "scattermapbox": [
           {
            "marker": {
             "colorbar": {
              "outlinewidth": 0,
              "ticks": ""
             }
            },
            "type": "scattermapbox"
           }
          ],
          "scatterpolar": [
           {
            "marker": {
             "colorbar": {
              "outlinewidth": 0,
              "ticks": ""
             }
            },
            "type": "scatterpolar"
           }
          ],
          "scatterpolargl": [
           {
            "marker": {
             "colorbar": {
              "outlinewidth": 0,
              "ticks": ""
             }
            },
            "type": "scatterpolargl"
           }
          ],
          "scatterternary": [
           {
            "marker": {
             "colorbar": {
              "outlinewidth": 0,
              "ticks": ""
             }
            },
            "type": "scatterternary"
           }
          ],
          "surface": [
           {
            "colorbar": {
             "outlinewidth": 0,
             "ticks": ""
            },
            "colorscale": [
             [
              0,
              "#0d0887"
             ],
             [
              0.1111111111111111,
              "#46039f"
             ],
             [
              0.2222222222222222,
              "#7201a8"
             ],
             [
              0.3333333333333333,
              "#9c179e"
             ],
             [
              0.4444444444444444,
              "#bd3786"
             ],
             [
              0.5555555555555556,
              "#d8576b"
             ],
             [
              0.6666666666666666,
              "#ed7953"
             ],
             [
              0.7777777777777778,
              "#fb9f3a"
             ],
             [
              0.8888888888888888,
              "#fdca26"
             ],
             [
              1,
              "#f0f921"
             ]
            ],
            "type": "surface"
           }
          ],
          "table": [
           {
            "cells": {
             "fill": {
              "color": "#506784"
             },
             "line": {
              "color": "rgb(17,17,17)"
             }
            },
            "header": {
             "fill": {
              "color": "#2a3f5f"
             },
             "line": {
              "color": "rgb(17,17,17)"
             }
            },
            "type": "table"
           }
          ]
         },
         "layout": {
          "annotationdefaults": {
           "arrowcolor": "#f2f5fa",
           "arrowhead": 0,
           "arrowwidth": 1
          },
          "autotypenumbers": "strict",
          "coloraxis": {
           "colorbar": {
            "outlinewidth": 0,
            "ticks": ""
           }
          },
          "colorscale": {
           "diverging": [
            [
             0,
             "#8e0152"
            ],
            [
             0.1,
             "#c51b7d"
            ],
            [
             0.2,
             "#de77ae"
            ],
            [
             0.3,
             "#f1b6da"
            ],
            [
             0.4,
             "#fde0ef"
            ],
            [
             0.5,
             "#f7f7f7"
            ],
            [
             0.6,
             "#e6f5d0"
            ],
            [
             0.7,
             "#b8e186"
            ],
            [
             0.8,
             "#7fbc41"
            ],
            [
             0.9,
             "#4d9221"
            ],
            [
             1,
             "#276419"
            ]
           ],
           "sequential": [
            [
             0,
             "#0d0887"
            ],
            [
             0.1111111111111111,
             "#46039f"
            ],
            [
             0.2222222222222222,
             "#7201a8"
            ],
            [
             0.3333333333333333,
             "#9c179e"
            ],
            [
             0.4444444444444444,
             "#bd3786"
            ],
            [
             0.5555555555555556,
             "#d8576b"
            ],
            [
             0.6666666666666666,
             "#ed7953"
            ],
            [
             0.7777777777777778,
             "#fb9f3a"
            ],
            [
             0.8888888888888888,
             "#fdca26"
            ],
            [
             1,
             "#f0f921"
            ]
           ],
           "sequentialminus": [
            [
             0,
             "#0d0887"
            ],
            [
             0.1111111111111111,
             "#46039f"
            ],
            [
             0.2222222222222222,
             "#7201a8"
            ],
            [
             0.3333333333333333,
             "#9c179e"
            ],
            [
             0.4444444444444444,
             "#bd3786"
            ],
            [
             0.5555555555555556,
             "#d8576b"
            ],
            [
             0.6666666666666666,
             "#ed7953"
            ],
            [
             0.7777777777777778,
             "#fb9f3a"
            ],
            [
             0.8888888888888888,
             "#fdca26"
            ],
            [
             1,
             "#f0f921"
            ]
           ]
          },
          "colorway": [
           "#636efa",
           "#EF553B",
           "#00cc96",
           "#ab63fa",
           "#FFA15A",
           "#19d3f3",
           "#FF6692",
           "#B6E880",
           "#FF97FF",
           "#FECB52"
          ],
          "font": {
           "color": "#f2f5fa"
          },
          "geo": {
           "bgcolor": "rgb(17,17,17)",
           "lakecolor": "rgb(17,17,17)",
           "landcolor": "rgb(17,17,17)",
           "showlakes": true,
           "showland": true,
           "subunitcolor": "#506784"
          },
          "hoverlabel": {
           "align": "left"
          },
          "hovermode": "closest",
          "mapbox": {
           "style": "dark"
          },
          "paper_bgcolor": "rgb(17,17,17)",
          "plot_bgcolor": "rgb(17,17,17)",
          "polar": {
           "angularaxis": {
            "gridcolor": "#506784",
            "linecolor": "#506784",
            "ticks": ""
           },
           "bgcolor": "rgb(17,17,17)",
           "radialaxis": {
            "gridcolor": "#506784",
            "linecolor": "#506784",
            "ticks": ""
           }
          },
          "scene": {
           "xaxis": {
            "backgroundcolor": "rgb(17,17,17)",
            "gridcolor": "#506784",
            "gridwidth": 2,
            "linecolor": "#506784",
            "showbackground": true,
            "ticks": "",
            "zerolinecolor": "#C8D4E3"
           },
           "yaxis": {
            "backgroundcolor": "rgb(17,17,17)",
            "gridcolor": "#506784",
            "gridwidth": 2,
            "linecolor": "#506784",
            "showbackground": true,
            "ticks": "",
            "zerolinecolor": "#C8D4E3"
           },
           "zaxis": {
            "backgroundcolor": "rgb(17,17,17)",
            "gridcolor": "#506784",
            "gridwidth": 2,
            "linecolor": "#506784",
            "showbackground": true,
            "ticks": "",
            "zerolinecolor": "#C8D4E3"
           }
          },
          "shapedefaults": {
           "line": {
            "color": "#f2f5fa"
           }
          },
          "sliderdefaults": {
           "bgcolor": "#C8D4E3",
           "bordercolor": "rgb(17,17,17)",
           "borderwidth": 1,
           "tickwidth": 0
          },
          "ternary": {
           "aaxis": {
            "gridcolor": "#506784",
            "linecolor": "#506784",
            "ticks": ""
           },
           "baxis": {
            "gridcolor": "#506784",
            "linecolor": "#506784",
            "ticks": ""
           },
           "bgcolor": "rgb(17,17,17)",
           "caxis": {
            "gridcolor": "#506784",
            "linecolor": "#506784",
            "ticks": ""
           }
          },
          "title": {
           "x": 0.05
          },
          "updatemenudefaults": {
           "bgcolor": "#506784",
           "borderwidth": 0
          },
          "xaxis": {
           "automargin": true,
           "gridcolor": "#283442",
           "linecolor": "#506784",
           "ticks": "",
           "title": {
            "standoff": 15
           },
           "zerolinecolor": "#283442",
           "zerolinewidth": 2
          },
          "yaxis": {
           "automargin": true,
           "gridcolor": "#283442",
           "linecolor": "#506784",
           "ticks": "",
           "title": {
            "standoff": 15
           },
           "zerolinecolor": "#283442",
           "zerolinewidth": 2
          }
         }
        },
        "yaxis": {
         "type": "log"
        }
       }
      }
     },
     "metadata": {},
     "output_type": "display_data"
    }
   ],
   "source": [
    "quick_plot(train_losses=train_losses, eval_losses=eval_losses, KLD=train_kld_losses, rec= train_rec_losses)"
   ]
  },
  {
   "cell_type": "code",
   "execution_count": 278,
   "metadata": {},
   "outputs": [],
   "source": [
    "def plot_layout_style(fig, plot_title):\n",
    "    fig.update_layout(height=800,\n",
    "                        margin=dict(l=5, r=5, t=50, b=50),\n",
    "                        template =  \"plotly_dark\",\n",
    "                        title_text= plot_title,\n",
    "                        font=dict(family=\"Roboto, monospace\",\n",
    "                                size=12,\n",
    "                                color=\"white\"\n",
    "                                ),\n",
    "                        scene=dict(\n",
    "                                    aspectratio = dict( x=1, y=1, z=1 ),\n",
    "                                    camera=dict(up=dict(x=0, y=0, z=1),\n",
    "                                                eye=dict(x=-1.5, y=1.5, z=1.5)),\n",
    "                                ),\n",
    "                        showlegend= False,\n",
    "                        coloraxis_showscale=False,)\n",
    "\n",
    "    fig.update_xaxes(showticklabels=False, \n",
    "                        showgrid=False, \n",
    "                        zeroline=False,\n",
    "                        zerolinewidth=1, \n",
    "                        zerolinecolor='gray',\n",
    "                        fixedrange= True,)\n",
    "\n",
    "    fig.update_yaxes(showticklabels=False, \n",
    "                        showgrid=False, \n",
    "                        zeroline=False,\n",
    "                        zerolinewidth=1, \n",
    "                        zerolinecolor='gray',\n",
    "                        fixedrange= True,\n",
    "                        )\n",
    "    \n",
    "    return fig"
   ]
  },
  {
   "cell_type": "code",
   "execution_count": 290,
   "metadata": {},
   "outputs": [],
   "source": [
    "def compare_motion_data_plots(motion_data, index = 0):\n",
    "    all_plots = []\n",
    "    \n",
    "    color = np.arange(20)\n",
    "    color_scales = ['viridis', 'Agsunset']\n",
    "    names = [\"Original\", \"Generated\"]\n",
    "    widths= [4, 1]\n",
    "    \n",
    "    original_styel = dict(\n",
    "                        color=color,\n",
    "                        width= widths[0],\n",
    "                        colorscale= color_scales[0],\n",
    "                        )\n",
    "                        \n",
    "    generated_styel = dict(\n",
    "                        color=color,\n",
    "                        width=widths[1],\n",
    "                        colorscale= color_scales[1],\n",
    "                        )\n",
    "    \n",
    "    for i, stroke_date in enumerate(motion_data):\n",
    "        sample = stroke_date[index,:,:] \n",
    "        line_style = generated_styel\n",
    "        \n",
    "        if i == 0:\n",
    "            line_style = original_styel\n",
    "        \n",
    "        plot = go.Scatter3d(\n",
    "                            x= sample[:,0].detach().cpu().numpy(), \n",
    "                            y= sample[: ,1].detach().cpu().numpy(), \n",
    "                            z= sample[:, 2].detach().cpu().numpy(),  \n",
    "                            mode= 'lines',\n",
    "                            # name= names[i],\n",
    "                            line= line_style,\n",
    "                            )\n",
    "        all_plots.append(plot)\n",
    "\n",
    "\n",
    "    scaler_val = 0.1\n",
    "    plot = go.Scatter3d(\n",
    "                            x= [-scaler_val, scaler_val], \n",
    "                            y= [-scaler_val, scaler_val], \n",
    "                            z= [0, scaler_val], \n",
    "                            mode=\"markers\",\n",
    "                            marker=dict(size= 0.1)\n",
    "                        )\n",
    "    all_plots.append(plot)\n",
    "    fig = go.Figure(data=all_plots)\n",
    "    plot_title = \"Compare Motion Plots\"\n",
    "    fig = plot_layout_style(fig, plot_title)\n",
    "    fig.show()\n",
    "    return fig"
   ]
  },
  {
   "cell_type": "code",
   "execution_count": 291,
   "metadata": {},
   "outputs": [
    {
     "data": {
      "application/vnd.plotly.v1+json": {
       "config": {
        "plotlyServerURL": "https://plot.ly"
       },
       "data": [
        {
         "line": {
          "color": [
           0,
           1,
           2,
           3,
           4,
           5,
           6,
           7,
           8,
           9,
           10,
           11,
           12,
           13,
           14,
           15,
           16,
           17,
           18,
           19
          ],
          "colorscale": [
           [
            0,
            "#440154"
           ],
           [
            0.1111111111111111,
            "#482878"
           ],
           [
            0.2222222222222222,
            "#3e4989"
           ],
           [
            0.3333333333333333,
            "#31688e"
           ],
           [
            0.4444444444444444,
            "#26828e"
           ],
           [
            0.5555555555555556,
            "#1f9e89"
           ],
           [
            0.6666666666666666,
            "#35b779"
           ],
           [
            0.7777777777777778,
            "#6ece58"
           ],
           [
            0.8888888888888888,
            "#b5de2b"
           ],
           [
            1,
            "#fde725"
           ]
          ],
          "width": 4
         },
         "mode": "lines",
         "type": "scatter3d",
         "x": [
          0.13162599503993988,
          0.12081700563430786,
          0.10834400355815887,
          0.09385800361633301,
          0.07722800225019455,
          0.05864199995994568,
          0.03952799737453461,
          0.022197000682353973,
          0.008023000322282314,
          0,
          0.0010290000354871154,
          0.0037200001534074545,
          0.006943000480532646,
          0.010556000284850597,
          0.01416700053960085,
          0.01804099977016449,
          0.02199999988079071,
          0.025783000513911247,
          0.029712000861763954,
          0.033448997884988785
         ],
         "y": [
          0.011916998773813248,
          0.011927999556064606,
          0.011344999074935913,
          0.01004599966108799,
          0.007368000224232674,
          0.004354000091552734,
          0.0017549991607666016,
          -0.0006330013275146484,
          -0.0011279992759227753,
          0,
          -0.0022259987890720367,
          -0.0050240010023117065,
          -0.00865200161933899,
          -0.0115090012550354,
          -0.011385999619960785,
          -0.010724000632762909,
          -0.008444000035524368,
          -0.003543999046087265,
          0.0016090013086795807,
          0.007276998832821846
         ],
         "z": [
          0.20860901474952698,
          0.1989459991455078,
          0.1875779926776886,
          0.1733970046043396,
          0.15545299649238586,
          0.1328890025615692,
          0.10543500632047653,
          0.07288099825382233,
          0.03702700138092041,
          0,
          0.0005869995802640915,
          0.00708400085568428,
          0.014478001743555069,
          0.02276800200343132,
          0.03149900212883949,
          0.04082000255584717,
          0.05028200149536133,
          0.05987299978733063,
          0.06889200210571289,
          0.07731900364160538
         ]
        },
        {
         "line": {
          "color": [
           0,
           1,
           2,
           3,
           4,
           5,
           6,
           7,
           8,
           9,
           10,
           11,
           12,
           13,
           14,
           15,
           16,
           17,
           18,
           19
          ],
          "colorscale": [
           [
            0,
            "rgb(75, 41, 145)"
           ],
           [
            0.16666666666666666,
            "rgb(135, 44, 162)"
           ],
           [
            0.3333333333333333,
            "rgb(192, 54, 157)"
           ],
           [
            0.5,
            "rgb(234, 79, 136)"
           ],
           [
            0.6666666666666666,
            "rgb(250, 120, 118)"
           ],
           [
            0.8333333333333334,
            "rgb(246, 169, 122)"
           ],
           [
            1,
            "rgb(237, 217, 163)"
           ]
          ],
          "width": 1
         },
         "mode": "lines",
         "type": "scatter3d",
         "x": [
          0.1316259801387787,
          0.12081701308488846,
          0.10834400355815887,
          0.09385799616575241,
          0.07722800225019455,
          0.05864199995994568,
          0.03952799737453461,
          0.022197002544999123,
          0.008023000322282314,
          0,
          0.0010290001519024372,
          0.003720000386238098,
          0.006943000480532646,
          0.010556001216173172,
          0.014166999608278275,
          0.01804099977016449,
          0.02199999801814556,
          0.025783002376556396,
          0.029711998999118805,
          0.033448997884988785
         ],
         "y": [
          0.011917002499103546,
          0.011927999556064606,
          0.011344999074935913,
          0.01004599779844284,
          0.007367998361587524,
          0.004354000091552734,
          0.0017549991607666016,
          -0.0006330013275146484,
          -0.0011279992759227753,
          0,
          -0.0022259987890720367,
          -0.0050240010023117065,
          -0.00865200161933899,
          -0.0115090012550354,
          -0.011385999619960785,
          -0.010724000632762909,
          -0.008444000035524368,
          -0.0035440027713775635,
          0.0016090050339698792,
          0.007276996970176697
         ],
         "z": [
          0.20860901474952698,
          0.1989459991455078,
          0.1875779926776886,
          0.1733970046043396,
          0.15545299649238586,
          0.1328890025615692,
          0.10543500632047653,
          0.07288100570440292,
          0.03702700138092041,
          0,
          0.0005869986489415169,
          0.00708400085568428,
          0.014478001743555069,
          0.02276800200343132,
          0.03149900585412979,
          0.04082000255584717,
          0.05028200149536133,
          0.05987299978733063,
          0.06889200210571289,
          0.07731900364160538
         ]
        },
        {
         "marker": {
          "size": 0.1
         },
         "mode": "markers",
         "type": "scatter3d",
         "x": [
          -0.1,
          0.1
         ],
         "y": [
          -0.1,
          0.1
         ],
         "z": [
          0,
          0.1
         ]
        }
       ],
       "layout": {
        "coloraxis": {
         "showscale": false
        },
        "font": {
         "color": "white",
         "family": "Roboto, monospace",
         "size": 12
        },
        "height": 800,
        "margin": {
         "b": 50,
         "l": 5,
         "r": 5,
         "t": 50
        },
        "scene": {
         "aspectratio": {
          "x": 1,
          "y": 1,
          "z": 1
         },
         "camera": {
          "eye": {
           "x": -1.5,
           "y": 1.5,
           "z": 1.5
          },
          "up": {
           "x": 0,
           "y": 0,
           "z": 1
          }
         }
        },
        "showlegend": false,
        "template": {
         "data": {
          "bar": [
           {
            "error_x": {
             "color": "#f2f5fa"
            },
            "error_y": {
             "color": "#f2f5fa"
            },
            "marker": {
             "line": {
              "color": "rgb(17,17,17)",
              "width": 0.5
             },
             "pattern": {
              "fillmode": "overlay",
              "size": 10,
              "solidity": 0.2
             }
            },
            "type": "bar"
           }
          ],
          "barpolar": [
           {
            "marker": {
             "line": {
              "color": "rgb(17,17,17)",
              "width": 0.5
             },
             "pattern": {
              "fillmode": "overlay",
              "size": 10,
              "solidity": 0.2
             }
            },
            "type": "barpolar"
           }
          ],
          "carpet": [
           {
            "aaxis": {
             "endlinecolor": "#A2B1C6",
             "gridcolor": "#506784",
             "linecolor": "#506784",
             "minorgridcolor": "#506784",
             "startlinecolor": "#A2B1C6"
            },
            "baxis": {
             "endlinecolor": "#A2B1C6",
             "gridcolor": "#506784",
             "linecolor": "#506784",
             "minorgridcolor": "#506784",
             "startlinecolor": "#A2B1C6"
            },
            "type": "carpet"
           }
          ],
          "choropleth": [
           {
            "colorbar": {
             "outlinewidth": 0,
             "ticks": ""
            },
            "type": "choropleth"
           }
          ],
          "contour": [
           {
            "colorbar": {
             "outlinewidth": 0,
             "ticks": ""
            },
            "colorscale": [
             [
              0,
              "#0d0887"
             ],
             [
              0.1111111111111111,
              "#46039f"
             ],
             [
              0.2222222222222222,
              "#7201a8"
             ],
             [
              0.3333333333333333,
              "#9c179e"
             ],
             [
              0.4444444444444444,
              "#bd3786"
             ],
             [
              0.5555555555555556,
              "#d8576b"
             ],
             [
              0.6666666666666666,
              "#ed7953"
             ],
             [
              0.7777777777777778,
              "#fb9f3a"
             ],
             [
              0.8888888888888888,
              "#fdca26"
             ],
             [
              1,
              "#f0f921"
             ]
            ],
            "type": "contour"
           }
          ],
          "contourcarpet": [
           {
            "colorbar": {
             "outlinewidth": 0,
             "ticks": ""
            },
            "type": "contourcarpet"
           }
          ],
          "heatmap": [
           {
            "colorbar": {
             "outlinewidth": 0,
             "ticks": ""
            },
            "colorscale": [
             [
              0,
              "#0d0887"
             ],
             [
              0.1111111111111111,
              "#46039f"
             ],
             [
              0.2222222222222222,
              "#7201a8"
             ],
             [
              0.3333333333333333,
              "#9c179e"
             ],
             [
              0.4444444444444444,
              "#bd3786"
             ],
             [
              0.5555555555555556,
              "#d8576b"
             ],
             [
              0.6666666666666666,
              "#ed7953"
             ],
             [
              0.7777777777777778,
              "#fb9f3a"
             ],
             [
              0.8888888888888888,
              "#fdca26"
             ],
             [
              1,
              "#f0f921"
             ]
            ],
            "type": "heatmap"
           }
          ],
          "heatmapgl": [
           {
            "colorbar": {
             "outlinewidth": 0,
             "ticks": ""
            },
            "colorscale": [
             [
              0,
              "#0d0887"
             ],
             [
              0.1111111111111111,
              "#46039f"
             ],
             [
              0.2222222222222222,
              "#7201a8"
             ],
             [
              0.3333333333333333,
              "#9c179e"
             ],
             [
              0.4444444444444444,
              "#bd3786"
             ],
             [
              0.5555555555555556,
              "#d8576b"
             ],
             [
              0.6666666666666666,
              "#ed7953"
             ],
             [
              0.7777777777777778,
              "#fb9f3a"
             ],
             [
              0.8888888888888888,
              "#fdca26"
             ],
             [
              1,
              "#f0f921"
             ]
            ],
            "type": "heatmapgl"
           }
          ],
          "histogram": [
           {
            "marker": {
             "pattern": {
              "fillmode": "overlay",
              "size": 10,
              "solidity": 0.2
             }
            },
            "type": "histogram"
           }
          ],
          "histogram2d": [
           {
            "colorbar": {
             "outlinewidth": 0,
             "ticks": ""
            },
            "colorscale": [
             [
              0,
              "#0d0887"
             ],
             [
              0.1111111111111111,
              "#46039f"
             ],
             [
              0.2222222222222222,
              "#7201a8"
             ],
             [
              0.3333333333333333,
              "#9c179e"
             ],
             [
              0.4444444444444444,
              "#bd3786"
             ],
             [
              0.5555555555555556,
              "#d8576b"
             ],
             [
              0.6666666666666666,
              "#ed7953"
             ],
             [
              0.7777777777777778,
              "#fb9f3a"
             ],
             [
              0.8888888888888888,
              "#fdca26"
             ],
             [
              1,
              "#f0f921"
             ]
            ],
            "type": "histogram2d"
           }
          ],
          "histogram2dcontour": [
           {
            "colorbar": {
             "outlinewidth": 0,
             "ticks": ""
            },
            "colorscale": [
             [
              0,
              "#0d0887"
             ],
             [
              0.1111111111111111,
              "#46039f"
             ],
             [
              0.2222222222222222,
              "#7201a8"
             ],
             [
              0.3333333333333333,
              "#9c179e"
             ],
             [
              0.4444444444444444,
              "#bd3786"
             ],
             [
              0.5555555555555556,
              "#d8576b"
             ],
             [
              0.6666666666666666,
              "#ed7953"
             ],
             [
              0.7777777777777778,
              "#fb9f3a"
             ],
             [
              0.8888888888888888,
              "#fdca26"
             ],
             [
              1,
              "#f0f921"
             ]
            ],
            "type": "histogram2dcontour"
           }
          ],
          "mesh3d": [
           {
            "colorbar": {
             "outlinewidth": 0,
             "ticks": ""
            },
            "type": "mesh3d"
           }
          ],
          "parcoords": [
           {
            "line": {
             "colorbar": {
              "outlinewidth": 0,
              "ticks": ""
             }
            },
            "type": "parcoords"
           }
          ],
          "pie": [
           {
            "automargin": true,
            "type": "pie"
           }
          ],
          "scatter": [
           {
            "marker": {
             "line": {
              "color": "#283442"
             }
            },
            "type": "scatter"
           }
          ],
          "scatter3d": [
           {
            "line": {
             "colorbar": {
              "outlinewidth": 0,
              "ticks": ""
             }
            },
            "marker": {
             "colorbar": {
              "outlinewidth": 0,
              "ticks": ""
             }
            },
            "type": "scatter3d"
           }
          ],
          "scattercarpet": [
           {
            "marker": {
             "colorbar": {
              "outlinewidth": 0,
              "ticks": ""
             }
            },
            "type": "scattercarpet"
           }
          ],
          "scattergeo": [
           {
            "marker": {
             "colorbar": {
              "outlinewidth": 0,
              "ticks": ""
             }
            },
            "type": "scattergeo"
           }
          ],
          "scattergl": [
           {
            "marker": {
             "line": {
              "color": "#283442"
             }
            },
            "type": "scattergl"
           }
          ],
          "scattermapbox": [
           {
            "marker": {
             "colorbar": {
              "outlinewidth": 0,
              "ticks": ""
             }
            },
            "type": "scattermapbox"
           }
          ],
          "scatterpolar": [
           {
            "marker": {
             "colorbar": {
              "outlinewidth": 0,
              "ticks": ""
             }
            },
            "type": "scatterpolar"
           }
          ],
          "scatterpolargl": [
           {
            "marker": {
             "colorbar": {
              "outlinewidth": 0,
              "ticks": ""
             }
            },
            "type": "scatterpolargl"
           }
          ],
          "scatterternary": [
           {
            "marker": {
             "colorbar": {
              "outlinewidth": 0,
              "ticks": ""
             }
            },
            "type": "scatterternary"
           }
          ],
          "surface": [
           {
            "colorbar": {
             "outlinewidth": 0,
             "ticks": ""
            },
            "colorscale": [
             [
              0,
              "#0d0887"
             ],
             [
              0.1111111111111111,
              "#46039f"
             ],
             [
              0.2222222222222222,
              "#7201a8"
             ],
             [
              0.3333333333333333,
              "#9c179e"
             ],
             [
              0.4444444444444444,
              "#bd3786"
             ],
             [
              0.5555555555555556,
              "#d8576b"
             ],
             [
              0.6666666666666666,
              "#ed7953"
             ],
             [
              0.7777777777777778,
              "#fb9f3a"
             ],
             [
              0.8888888888888888,
              "#fdca26"
             ],
             [
              1,
              "#f0f921"
             ]
            ],
            "type": "surface"
           }
          ],
          "table": [
           {
            "cells": {
             "fill": {
              "color": "#506784"
             },
             "line": {
              "color": "rgb(17,17,17)"
             }
            },
            "header": {
             "fill": {
              "color": "#2a3f5f"
             },
             "line": {
              "color": "rgb(17,17,17)"
             }
            },
            "type": "table"
           }
          ]
         },
         "layout": {
          "annotationdefaults": {
           "arrowcolor": "#f2f5fa",
           "arrowhead": 0,
           "arrowwidth": 1
          },
          "autotypenumbers": "strict",
          "coloraxis": {
           "colorbar": {
            "outlinewidth": 0,
            "ticks": ""
           }
          },
          "colorscale": {
           "diverging": [
            [
             0,
             "#8e0152"
            ],
            [
             0.1,
             "#c51b7d"
            ],
            [
             0.2,
             "#de77ae"
            ],
            [
             0.3,
             "#f1b6da"
            ],
            [
             0.4,
             "#fde0ef"
            ],
            [
             0.5,
             "#f7f7f7"
            ],
            [
             0.6,
             "#e6f5d0"
            ],
            [
             0.7,
             "#b8e186"
            ],
            [
             0.8,
             "#7fbc41"
            ],
            [
             0.9,
             "#4d9221"
            ],
            [
             1,
             "#276419"
            ]
           ],
           "sequential": [
            [
             0,
             "#0d0887"
            ],
            [
             0.1111111111111111,
             "#46039f"
            ],
            [
             0.2222222222222222,
             "#7201a8"
            ],
            [
             0.3333333333333333,
             "#9c179e"
            ],
            [
             0.4444444444444444,
             "#bd3786"
            ],
            [
             0.5555555555555556,
             "#d8576b"
            ],
            [
             0.6666666666666666,
             "#ed7953"
            ],
            [
             0.7777777777777778,
             "#fb9f3a"
            ],
            [
             0.8888888888888888,
             "#fdca26"
            ],
            [
             1,
             "#f0f921"
            ]
           ],
           "sequentialminus": [
            [
             0,
             "#0d0887"
            ],
            [
             0.1111111111111111,
             "#46039f"
            ],
            [
             0.2222222222222222,
             "#7201a8"
            ],
            [
             0.3333333333333333,
             "#9c179e"
            ],
            [
             0.4444444444444444,
             "#bd3786"
            ],
            [
             0.5555555555555556,
             "#d8576b"
            ],
            [
             0.6666666666666666,
             "#ed7953"
            ],
            [
             0.7777777777777778,
             "#fb9f3a"
            ],
            [
             0.8888888888888888,
             "#fdca26"
            ],
            [
             1,
             "#f0f921"
            ]
           ]
          },
          "colorway": [
           "#636efa",
           "#EF553B",
           "#00cc96",
           "#ab63fa",
           "#FFA15A",
           "#19d3f3",
           "#FF6692",
           "#B6E880",
           "#FF97FF",
           "#FECB52"
          ],
          "font": {
           "color": "#f2f5fa"
          },
          "geo": {
           "bgcolor": "rgb(17,17,17)",
           "lakecolor": "rgb(17,17,17)",
           "landcolor": "rgb(17,17,17)",
           "showlakes": true,
           "showland": true,
           "subunitcolor": "#506784"
          },
          "hoverlabel": {
           "align": "left"
          },
          "hovermode": "closest",
          "mapbox": {
           "style": "dark"
          },
          "paper_bgcolor": "rgb(17,17,17)",
          "plot_bgcolor": "rgb(17,17,17)",
          "polar": {
           "angularaxis": {
            "gridcolor": "#506784",
            "linecolor": "#506784",
            "ticks": ""
           },
           "bgcolor": "rgb(17,17,17)",
           "radialaxis": {
            "gridcolor": "#506784",
            "linecolor": "#506784",
            "ticks": ""
           }
          },
          "scene": {
           "xaxis": {
            "backgroundcolor": "rgb(17,17,17)",
            "gridcolor": "#506784",
            "gridwidth": 2,
            "linecolor": "#506784",
            "showbackground": true,
            "ticks": "",
            "zerolinecolor": "#C8D4E3"
           },
           "yaxis": {
            "backgroundcolor": "rgb(17,17,17)",
            "gridcolor": "#506784",
            "gridwidth": 2,
            "linecolor": "#506784",
            "showbackground": true,
            "ticks": "",
            "zerolinecolor": "#C8D4E3"
           },
           "zaxis": {
            "backgroundcolor": "rgb(17,17,17)",
            "gridcolor": "#506784",
            "gridwidth": 2,
            "linecolor": "#506784",
            "showbackground": true,
            "ticks": "",
            "zerolinecolor": "#C8D4E3"
           }
          },
          "shapedefaults": {
           "line": {
            "color": "#f2f5fa"
           }
          },
          "sliderdefaults": {
           "bgcolor": "#C8D4E3",
           "bordercolor": "rgb(17,17,17)",
           "borderwidth": 1,
           "tickwidth": 0
          },
          "ternary": {
           "aaxis": {
            "gridcolor": "#506784",
            "linecolor": "#506784",
            "ticks": ""
           },
           "baxis": {
            "gridcolor": "#506784",
            "linecolor": "#506784",
            "ticks": ""
           },
           "bgcolor": "rgb(17,17,17)",
           "caxis": {
            "gridcolor": "#506784",
            "linecolor": "#506784",
            "ticks": ""
           }
          },
          "title": {
           "x": 0.05
          },
          "updatemenudefaults": {
           "bgcolor": "#506784",
           "borderwidth": 0
          },
          "xaxis": {
           "automargin": true,
           "gridcolor": "#283442",
           "linecolor": "#506784",
           "ticks": "",
           "title": {
            "standoff": 15
           },
           "zerolinecolor": "#283442",
           "zerolinewidth": 2
          },
          "yaxis": {
           "automargin": true,
           "gridcolor": "#283442",
           "linecolor": "#506784",
           "ticks": "",
           "title": {
            "standoff": 15
           },
           "zerolinecolor": "#283442",
           "zerolinewidth": 2
          }
         }
        },
        "title": {
         "text": "Compare Motion Plots"
        },
        "xaxis": {
         "fixedrange": true,
         "showgrid": false,
         "showticklabels": false,
         "zeroline": false,
         "zerolinecolor": "gray",
         "zerolinewidth": 1
        },
        "yaxis": {
         "fixedrange": true,
         "showgrid": false,
         "showticklabels": false,
         "zeroline": false,
         "zerolinecolor": "gray",
         "zerolinewidth": 1
        }
       }
      }
     },
     "metadata": {},
     "output_type": "display_data"
    }
   ],
   "source": [
    "def test_scaling_method():\n",
    "    sample_data= None\n",
    "    sample_size = np.random.randint(0, 128, size=1)\n",
    "\n",
    "    for d in model_config.train_iterator:\n",
    "        original_centered_data = d[\"X_centered\"]\n",
    "        \n",
    "        sample_centered_scaled = d[model_config.data_item]\n",
    "        centered_max_val = d[\"centered_max_val\"][0]\n",
    "        centered_min_val = d[\"centered_min_val\"][0]\n",
    "        \n",
    "        rescaled_data = (sample_centered_scaled*(centered_max_val-centered_min_val)+centered_min_val)\n",
    "        compare_motion_data_plots([original_centered_data, rescaled_data], 0)\n",
    "    \n",
    "        break\n",
    "    \n",
    "test_scaling_method()    "
   ]
  },
  {
   "cell_type": "code",
   "execution_count": 292,
   "metadata": {},
   "outputs": [],
   "source": [
    "def generation_range_visualization(motion_data):\n",
    "    all_plots = []\n",
    "    motion_cout = motion_data.shape[0]\n",
    "    \n",
    "    color = np.arange(20)\n",
    "    color_scales = ['plotly3', 'teal', 'viridis', 'Agsunset']\n",
    "    names = [\"Original\", \"Generated\"]\n",
    "    widths= [4, 2]\n",
    "    \n",
    "    original_styel = dict(\n",
    "                        color=color,\n",
    "                        width= widths[0],\n",
    "                        colorscale= color_scales[0],\n",
    "                        )\n",
    "                        \n",
    "    generated_styel = dict(\n",
    "                        color=color,\n",
    "                        width=widths[1],\n",
    "                        colorscale= color_scales[1],\n",
    "                        )\n",
    "    \n",
    "    for i, sample in enumerate(motion_data):\n",
    "        line_style = generated_styel\n",
    "        if i <= motion_cout//2:\n",
    "            shifter = (i-(motion_cout//2)-1)*0.05\n",
    "        else:\n",
    "            shifter = (i-(motion_cout//2))*0.05\n",
    "        \n",
    "        if i == 0:\n",
    "            line_style = original_styel\n",
    "            shifter= 0\n",
    "            \n",
    "        plot = go.Scatter3d(\n",
    "                            x= sample[: ,0].detach().cpu().numpy()+shifter, \n",
    "                            y= sample[: ,1].detach().cpu().numpy(), \n",
    "                            z= sample[: ,2].detach().cpu().numpy(),  \n",
    "                            mode= 'lines',# \"lines+markers\"\n",
    "                            line= line_style,\n",
    "                            )\n",
    "        all_plots.append(plot)\n",
    "\n",
    "\n",
    "    scaler_val = 0.1\n",
    "    plot = go.Scatter3d(\n",
    "                            x= [-scaler_val, scaler_val], \n",
    "                            y= [-scaler_val, scaler_val], \n",
    "                            z= [0, scaler_val], \n",
    "                            mode=\"markers\",\n",
    "                            marker=dict(size= 0.1)\n",
    "                        )\n",
    "    all_plots.append(plot)\n",
    "    fig = go.Figure(data=all_plots)\n",
    "    plot_title = \"Compare Motion Plots\"\n",
    "    fig = plot_layout_style(fig, plot_title)\n",
    "    fig.show()\n",
    "    return fig"
   ]
  },
  {
   "cell_type": "code",
   "execution_count": 293,
   "metadata": {},
   "outputs": [
    {
     "name": "stdout",
     "output_type": "stream",
     "text": [
      "tensor(20., device='cuda:0')\n"
     ]
    },
    {
     "data": {
      "application/vnd.plotly.v1+json": {
       "config": {
        "plotlyServerURL": "https://plot.ly"
       },
       "data": [
        {
         "line": {
          "color": [
           0,
           1,
           2,
           3,
           4,
           5,
           6,
           7,
           8,
           9,
           10,
           11,
           12,
           13,
           14,
           15,
           16,
           17,
           18,
           19
          ],
          "colorscale": [
           [
            0,
            "#0508b8"
           ],
           [
            0.08333333333333333,
            "#1910d8"
           ],
           [
            0.16666666666666666,
            "#3c19f0"
           ],
           [
            0.25,
            "#6b1cfb"
           ],
           [
            0.3333333333333333,
            "#981cfd"
           ],
           [
            0.4166666666666667,
            "#bf1cfd"
           ],
           [
            0.5,
            "#dd2bfd"
           ],
           [
            0.5833333333333334,
            "#f246fe"
           ],
           [
            0.6666666666666666,
            "#fc67fd"
           ],
           [
            0.75,
            "#fe88fc"
           ],
           [
            0.8333333333333334,
            "#fea5fd"
           ],
           [
            0.9166666666666666,
            "#febefe"
           ],
           [
            1,
            "#fec3fe"
           ]
          ],
          "width": 4
         },
         "mode": "lines",
         "type": "scatter3d",
         "x": [
          0.08977000415325165,
          0.08226999640464783,
          0.07193700224161148,
          0.05911500006914139,
          0.04457699880003929,
          0.02907399833202362,
          0.015939999371767044,
          0.005210000090301037,
          -0.00007100030779838562,
          0,
          0.001850999891757965,
          0.004046999849379063,
          0.0070329997688531876,
          0.010123999789357185,
          0.01363999955356121,
          0.01761300303041935,
          0.021723002195358276,
          0.02599100023508072,
          0.03013800084590912,
          0.03380199894309044
         ],
         "y": [
          0.0442809984087944,
          0.04074099659919739,
          0.03679099678993225,
          0.03226099908351898,
          0.02706500142812729,
          0.022322997450828552,
          0.014988996088504791,
          0.01047699898481369,
          0.0037729963660240173,
          0,
          -0.0016700029373168945,
          -0.0016430020332336426,
          -0.001017000526189804,
          0.0008799955248832703,
          0.004454001784324646,
          0.007771998643875122,
          0.01092500239610672,
          0.013754002749919891,
          0.015515998005867004,
          0.01830200105905533
         ],
         "z": [
          0.19456999003887177,
          0.1830959916114807,
          0.16837599873542786,
          0.1500210016965866,
          0.12771999835968018,
          0.10042599588632584,
          0.07101799547672272,
          0.03772500157356262,
          0.004705999046564102,
          0,
          0.009830998256802559,
          0.02124500274658203,
          0.033211998641490936,
          0.04515700042247772,
          0.05772300064563751,
          0.0697219967842102,
          0.08100298792123795,
          0.09146599471569061,
          0.10074499249458313,
          0.10891400277614594
         ]
        },
        {
         "line": {
          "color": [
           0,
           1,
           2,
           3,
           4,
           5,
           6,
           7,
           8,
           9,
           10,
           11,
           12,
           13,
           14,
           15,
           16,
           17,
           18,
           19
          ],
          "colorscale": [
           [
            0,
            "rgb(209, 238, 234)"
           ],
           [
            0.16666666666666666,
            "rgb(168, 219, 217)"
           ],
           [
            0.3333333333333333,
            "rgb(133, 196, 201)"
           ],
           [
            0.5,
            "rgb(104, 171, 184)"
           ],
           [
            0.6666666666666666,
            "rgb(79, 144, 166)"
           ],
           [
            0.8333333333333334,
            "rgb(59, 115, 143)"
           ],
           [
            1,
            "rgb(42, 86, 116)"
           ]
          ],
          "width": 2
         },
         "mode": "lines",
         "type": "scatter3d",
         "x": [
          -0.11325956881046295,
          -0.12147027999162674,
          -0.13022106885910034,
          -0.1430826634168625,
          -0.15722578763961792,
          -0.17382420599460602,
          -0.1872767210006714,
          -0.19652961194515228,
          -0.1998363435268402,
          -0.19860601425170898,
          -0.1974787414073944,
          -0.1951703131198883,
          -0.19268736243247986,
          -0.18970535695552826,
          -0.18584515154361725,
          -0.1829405426979065,
          -0.1799536943435669,
          -0.17600172758102417,
          -0.17263388633728027,
          -0.1708943247795105
         ],
         "y": [
          0.04443156719207764,
          0.04067285358905792,
          0.03796318173408508,
          0.03320000320672989,
          0.02793765813112259,
          0.022191226482391357,
          0.014491364359855652,
          0.009381838142871857,
          0.0025679245591163635,
          -0.0006958618760108948,
          -0.0022475607693195343,
          -0.002623382955789566,
          -0.0010044574737548828,
          0.0009849518537521362,
          0.005193352699279785,
          0.009251400828361511,
          0.012302763760089874,
          0.015396259725093842,
          0.01777011901140213,
          0.02053578943014145
         ],
         "z": [
          0.18880192935466766,
          0.1753493696451187,
          0.1624835580587387,
          0.1477961391210556,
          0.12612926959991455,
          0.1013634130358696,
          0.06904373317956924,
          0.035819701850414276,
          0.0028896639123559,
          0.005250578746199608,
          0.012440182268619537,
          0.02008766308426857,
          0.03313766419887543,
          0.048407793045043945,
          0.0581817626953125,
          0.06825090944766998,
          0.08036145567893982,
          0.08818814158439636,
          0.0964137464761734,
          0.09960000962018967
         ]
        },
        {
         "line": {
          "color": [
           0,
           1,
           2,
           3,
           4,
           5,
           6,
           7,
           8,
           9,
           10,
           11,
           12,
           13,
           14,
           15,
           16,
           17,
           18,
           19
          ],
          "colorscale": [
           [
            0,
            "rgb(209, 238, 234)"
           ],
           [
            0.16666666666666666,
            "rgb(168, 219, 217)"
           ],
           [
            0.3333333333333333,
            "rgb(133, 196, 201)"
           ],
           [
            0.5,
            "rgb(104, 171, 184)"
           ],
           [
            0.6666666666666666,
            "rgb(79, 144, 166)"
           ],
           [
            0.8333333333333334,
            "rgb(59, 115, 143)"
           ],
           [
            1,
            "rgb(42, 86, 116)"
           ]
          ],
          "width": 2
         },
         "mode": "lines",
         "type": "scatter3d",
         "x": [
          -0.05705060064792633,
          -0.06861917674541473,
          -0.07936084270477295,
          -0.09345442056655884,
          -0.10771431773900986,
          -0.12465877830982208,
          -0.13800740242004395,
          -0.146602600812912,
          -0.15074701607227325,
          -0.14947813749313354,
          -0.14823079109191895,
          -0.14624464511871338,
          -0.1426592469215393,
          -0.13892102241516113,
          -0.13408352434635162,
          -0.13025598227977753,
          -0.12688778340816498,
          -0.12277369946241379,
          -0.12080853432416916,
          -0.11937230825424194
         ],
         "y": [
          0.04278747737407684,
          0.038226597011089325,
          0.03520417958498001,
          0.030927136540412903,
          0.026246361434459686,
          0.02053866535425186,
          0.013779789209365845,
          0.009161874651908875,
          0.0034385845065116882,
          0.00016569346189498901,
          -0.0016261190176010132,
          -0.002393733710050583,
          -0.0013040974736213684,
          0.000665806233882904,
          0.004314154386520386,
          0.008354447782039642,
          0.012187905609607697,
          0.015773750841617584,
          0.017469532787799835,
          0.022254683077335358
         ],
         "z": [
          0.2037021517753601,
          0.18508830666542053,
          0.1682998239994049,
          0.1484246850013733,
          0.1253056526184082,
          0.09703570604324341,
          0.0665261521935463,
          0.03273794800043106,
          0.00008071586489677429,
          0.0013813674449920654,
          0.01048918068408966,
          0.018750878050923347,
          0.03239620104432106,
          0.048902902752161026,
          0.06022992730140686,
          0.06988456845283508,
          0.08224423974752426,
          0.08890478312969208,
          0.09591450542211533,
          0.09874721616506577
         ]
        },
        {
         "line": {
          "color": [
           0,
           1,
           2,
           3,
           4,
           5,
           6,
           7,
           8,
           9,
           10,
           11,
           12,
           13,
           14,
           15,
           16,
           17,
           18,
           19
          ],
          "colorscale": [
           [
            0,
            "rgb(209, 238, 234)"
           ],
           [
            0.16666666666666666,
            "rgb(168, 219, 217)"
           ],
           [
            0.3333333333333333,
            "rgb(133, 196, 201)"
           ],
           [
            0.5,
            "rgb(104, 171, 184)"
           ],
           [
            0.6666666666666666,
            "rgb(79, 144, 166)"
           ],
           [
            0.8333333333333334,
            "rgb(59, 115, 143)"
           ],
           [
            1,
            "rgb(42, 86, 116)"
           ]
          ],
          "width": 2
         },
         "mode": "lines",
         "type": "scatter3d",
         "x": [
          -0.012262634932994843,
          -0.020351186394691467,
          -0.028856031596660614,
          -0.04110967367887497,
          -0.05464192107319832,
          -0.07145935297012329,
          -0.08519159257411957,
          -0.0956016257405281,
          -0.1003023013472557,
          -0.09877322614192963,
          -0.09696628898382187,
          -0.09434621036052704,
          -0.0904669538140297,
          -0.08717741817235947,
          -0.08219735324382782,
          -0.07934774458408356,
          -0.07549065351486206,
          -0.07208359241485596,
          -0.0695914775133133,
          -0.0675293356180191
         ],
         "y": [
          0.0480022132396698,
          0.043904341757297516,
          0.04084542393684387,
          0.03588804602622986,
          0.03065543621778488,
          0.024033725261688232,
          0.0162576362490654,
          0.00978253036737442,
          0.0028440430760383606,
          -0.00027079135179519653,
          -0.00185316801071167,
          -0.002690408378839493,
          -0.001276642084121704,
          -0.00009903311729431152,
          0.003017514944076538,
          0.006366237998008728,
          0.009402357041835785,
          0.012597866356372833,
          0.015457868576049805,
          0.020046725869178772
         ],
         "z": [
          0.1968849003314972,
          0.18094953894615173,
          0.16390305757522583,
          0.14715427160263062,
          0.12488651275634766,
          0.10056473314762115,
          0.0685996562242508,
          0.03526341915130615,
          0.00037516746670007706,
          0.004616886377334595,
          0.01401376724243164,
          0.025567546486854553,
          0.0387144610285759,
          0.053687967360019684,
          0.06237799674272537,
          0.07096938788890839,
          0.08111630380153656,
          0.08835633099079132,
          0.09520851820707321,
          0.09847848117351532
         ]
        },
        {
         "line": {
          "color": [
           0,
           1,
           2,
           3,
           4,
           5,
           6,
           7,
           8,
           9,
           10,
           11,
           12,
           13,
           14,
           15,
           16,
           17,
           18,
           19
          ],
          "colorscale": [
           [
            0,
            "rgb(209, 238, 234)"
           ],
           [
            0.16666666666666666,
            "rgb(168, 219, 217)"
           ],
           [
            0.3333333333333333,
            "rgb(133, 196, 201)"
           ],
           [
            0.5,
            "rgb(104, 171, 184)"
           ],
           [
            0.6666666666666666,
            "rgb(79, 144, 166)"
           ],
           [
            0.8333333333333334,
            "rgb(59, 115, 143)"
           ],
           [
            1,
            "rgb(42, 86, 116)"
           ]
          ],
          "width": 2
         },
         "mode": "lines",
         "type": "scatter3d",
         "x": [
          0.03702160343527794,
          0.029928211122751236,
          0.02098783478140831,
          0.008171867579221725,
          -0.00599309429526329,
          -0.023252788931131363,
          -0.036261074244976044,
          -0.04613000899553299,
          -0.05008358508348465,
          -0.04906919598579407,
          -0.047629810869693756,
          -0.045322857797145844,
          -0.04224437102675438,
          -0.038690902292728424,
          -0.03377660736441612,
          -0.030752645805478096,
          -0.027038104832172394,
          -0.022518757730722427,
          -0.019873417913913727,
          -0.01773935556411743
         ],
         "y": [
          0.042375728487968445,
          0.038187623023986816,
          0.03531002253293991,
          0.031232990324497223,
          0.026225365698337555,
          0.01998966932296753,
          0.01289503276348114,
          0.007934831082820892,
          0.0015593171119689941,
          -0.0006911233067512512,
          -0.001948278397321701,
          -0.0025036074221134186,
          -0.0015379078686237335,
          0.00003621727228164673,
          0.00333569198846817,
          0.007447957992553711,
          0.010496512055397034,
          0.013196632266044617,
          0.0161004438996315,
          0.020130150020122528
         ],
         "z": [
          0.1979762315750122,
          0.18154732882976532,
          0.166553795337677,
          0.1494445502758026,
          0.12735047936439514,
          0.10139860957860947,
          0.06940963864326477,
          0.035445436835289,
          0.0016624368727207184,
          0.000413709320127964,
          0.007831493392586708,
          0.01717931218445301,
          0.030817128717899323,
          0.047226689755916595,
          0.05770131200551987,
          0.06853893399238586,
          0.0819796770811081,
          0.09073734283447266,
          0.09874150156974792,
          0.10460181534290314
         ]
        },
        {
         "line": {
          "color": [
           0,
           1,
           2,
           3,
           4,
           5,
           6,
           7,
           8,
           9,
           10,
           11,
           12,
           13,
           14,
           15,
           16,
           17,
           18,
           19
          ],
          "colorscale": [
           [
            0,
            "rgb(209, 238, 234)"
           ],
           [
            0.16666666666666666,
            "rgb(168, 219, 217)"
           ],
           [
            0.3333333333333333,
            "rgb(133, 196, 201)"
           ],
           [
            0.5,
            "rgb(104, 171, 184)"
           ],
           [
            0.6666666666666666,
            "rgb(79, 144, 166)"
           ],
           [
            0.8333333333333334,
            "rgb(59, 115, 143)"
           ],
           [
            1,
            "rgb(42, 86, 116)"
           ]
          ],
          "width": 2
         },
         "mode": "lines",
         "type": "scatter3d",
         "x": [
          0.1394033581018448,
          0.1294931024312973,
          0.11976534128189087,
          0.10724461078643799,
          0.09360320121049881,
          0.07719835638999939,
          0.06465115398168564,
          0.05463533103466034,
          0.04996645078063011,
          0.05111626535654068,
          0.05333971604704857,
          0.05644724518060684,
          0.05907483026385307,
          0.06272018700838089,
          0.06678187847137451,
          0.06914142519235611,
          0.07277342677116394,
          0.07580004632472992,
          0.07840944826602936,
          0.08094009011983871
         ],
         "y": [
          0.04274281859397888,
          0.03882753849029541,
          0.035995565354824066,
          0.031106039881706238,
          0.02581115812063217,
          0.02038951963186264,
          0.013040311634540558,
          0.008390352129936218,
          0.002261139452457428,
          -0.0010622888803482056,
          -0.0023576468229293823,
          -0.003091204911470413,
          -0.0020851008594036102,
          -0.0004887878894805908,
          0.0028954148292541504,
          0.006942279636859894,
          0.010040365159511566,
          0.013831473886966705,
          0.016672536730766296,
          0.019961975514888763
         ],
         "z": [
          0.1965453177690506,
          0.17939504981040955,
          0.1627470701932907,
          0.14590029418468475,
          0.12420929968357086,
          0.09885167330503464,
          0.06917628645896912,
          0.03732045739889145,
          0.005313443019986153,
          0.00677202083170414,
          0.01608005352318287,
          0.024553876370191574,
          0.03763730823993683,
          0.05175668001174927,
          0.06132766604423523,
          0.0693916380405426,
          0.08116379380226135,
          0.08810732513666153,
          0.09376152604818344,
          0.09933176636695862
         ]
        },
        {
         "line": {
          "color": [
           0,
           1,
           2,
           3,
           4,
           5,
           6,
           7,
           8,
           9,
           10,
           11,
           12,
           13,
           14,
           15,
           16,
           17,
           18,
           19
          ],
          "colorscale": [
           [
            0,
            "rgb(209, 238, 234)"
           ],
           [
            0.16666666666666666,
            "rgb(168, 219, 217)"
           ],
           [
            0.3333333333333333,
            "rgb(133, 196, 201)"
           ],
           [
            0.5,
            "rgb(104, 171, 184)"
           ],
           [
            0.6666666666666666,
            "rgb(79, 144, 166)"
           ],
           [
            0.8333333333333334,
            "rgb(59, 115, 143)"
           ],
           [
            1,
            "rgb(42, 86, 116)"
           ]
          ],
          "width": 2
         },
         "mode": "lines",
         "type": "scatter3d",
         "x": [
          0.18832454085350037,
          0.18010035157203674,
          0.17064383625984192,
          0.15789908170700073,
          0.1446782499551773,
          0.12638980150222778,
          0.11295768618583679,
          0.10360948741436005,
          0.09890680760145187,
          0.1000250056385994,
          0.10171498358249664,
          0.103398896753788,
          0.10614504665136337,
          0.10933176428079605,
          0.11371175944805145,
          0.11773945391178131,
          0.12117889523506165,
          0.12685567140579224,
          0.1301133781671524,
          0.13322117924690247
         ],
         "y": [
          0.04525476694107056,
          0.041694290935993195,
          0.0391894206404686,
          0.03582766652107239,
          0.030459575355052948,
          0.025095276534557343,
          0.01708526909351349,
          0.011681705713272095,
          0.004225030541419983,
          -0.0004031732678413391,
          -0.0022893399000167847,
          -0.003592759370803833,
          -0.0016613304615020752,
          -0.0007868111133575439,
          0.002746798098087311,
          0.0070753395557403564,
          0.010026782751083374,
          0.0131448432803154,
          0.015164487063884735,
          0.018523849546909332
         ],
         "z": [
          0.19243165850639343,
          0.17833024263381958,
          0.16441066563129425,
          0.14932900667190552,
          0.12871623039245605,
          0.10386049002408981,
          0.07025943696498871,
          0.034189533442258835,
          -0.0008172588422894478,
          -0.0020382096990942955,
          0.004796432331204414,
          0.013463612645864487,
          0.028120271861553192,
          0.0424313023686409,
          0.05394013971090317,
          0.06382934749126434,
          0.07661624252796173,
          0.08583736419677734,
          0.09492562711238861,
          0.10143794119358063
         ]
        },
        {
         "line": {
          "color": [
           0,
           1,
           2,
           3,
           4,
           5,
           6,
           7,
           8,
           9,
           10,
           11,
           12,
           13,
           14,
           15,
           16,
           17,
           18,
           19
          ],
          "colorscale": [
           [
            0,
            "rgb(209, 238, 234)"
           ],
           [
            0.16666666666666666,
            "rgb(168, 219, 217)"
           ],
           [
            0.3333333333333333,
            "rgb(133, 196, 201)"
           ],
           [
            0.5,
            "rgb(104, 171, 184)"
           ],
           [
            0.6666666666666666,
            "rgb(79, 144, 166)"
           ],
           [
            0.8333333333333334,
            "rgb(59, 115, 143)"
           ],
           [
            1,
            "rgb(42, 86, 116)"
           ]
          ],
          "width": 2
         },
         "mode": "lines",
         "type": "scatter3d",
         "x": [
          0.2356501817703247,
          0.22718924283981323,
          0.21791329979896545,
          0.20530861616134644,
          0.19163091480731964,
          0.1755080223083496,
          0.1630476862192154,
          0.15312747657299042,
          0.14927083253860474,
          0.1512688547372818,
          0.15231524407863617,
          0.15498945116996765,
          0.15773145854473114,
          0.1608598530292511,
          0.16487275063991547,
          0.16765660047531128,
          0.17158323526382446,
          0.175946906208992,
          0.18028715252876282,
          0.18293891847133636
         ],
         "y": [
          0.04397498816251755,
          0.03966297209262848,
          0.03691673278808594,
          0.032011985778808594,
          0.027254454791545868,
          0.02173423022031784,
          0.015080615878105164,
          0.009765930473804474,
          0.0037186220288276672,
          -0.0010956786572933197,
          -0.003451332449913025,
          -0.0047200024127960205,
          -0.004266146570444107,
          -0.003659043461084366,
          -0.0008426010608673096,
          0.0030590370297431946,
          0.00543145090341568,
          0.00847286731004715,
          0.010545358061790466,
          0.014118634164333344
         ],
         "z": [
          0.1911136656999588,
          0.17744190990924835,
          0.1619303822517395,
          0.14675799012184143,
          0.12571868300437927,
          0.10098423808813095,
          0.07175038009881973,
          0.03866379335522652,
          0.006849674507975578,
          0.004969289526343346,
          0.012743443250656128,
          0.02372460439801216,
          0.035145074129104614,
          0.05039208009839058,
          0.06047837436199188,
          0.07116454094648361,
          0.08323291689157486,
          0.09208159148693085,
          0.1027294248342514,
          0.10878226161003113
         ]
        },
        {
         "line": {
          "color": [
           0,
           1,
           2,
           3,
           4,
           5,
           6,
           7,
           8,
           9,
           10,
           11,
           12,
           13,
           14,
           15,
           16,
           17,
           18,
           19
          ],
          "colorscale": [
           [
            0,
            "rgb(209, 238, 234)"
           ],
           [
            0.16666666666666666,
            "rgb(168, 219, 217)"
           ],
           [
            0.3333333333333333,
            "rgb(133, 196, 201)"
           ],
           [
            0.5,
            "rgb(104, 171, 184)"
           ],
           [
            0.6666666666666666,
            "rgb(79, 144, 166)"
           ],
           [
            0.8333333333333334,
            "rgb(59, 115, 143)"
           ],
           [
            1,
            "rgb(42, 86, 116)"
           ]
          ],
          "width": 2
         },
         "mode": "lines",
         "type": "scatter3d",
         "x": [
          0.29183429479599,
          0.2830269932746887,
          0.27319028973579407,
          0.26033681631088257,
          0.24691417813301086,
          0.2283039689064026,
          0.21417325735092163,
          0.2041822075843811,
          0.1995188444852829,
          0.20073606073856354,
          0.20164793729782104,
          0.20270667970180511,
          0.2057994157075882,
          0.2086639106273651,
          0.21324479579925537,
          0.21738307178020477,
          0.22142960131168365,
          0.22675925493240356,
          0.23011501133441925,
          0.2323661893606186
         ],
         "y": [
          0.04552309215068817,
          0.04231186956167221,
          0.03927499055862427,
          0.034947000443935394,
          0.030309274792671204,
          0.02495960146188736,
          0.017248354852199554,
          0.011876404285430908,
          0.004492543637752533,
          0.0002674385905265808,
          -0.0017471201717853546,
          -0.002396758645772934,
          -0.0007485821843147278,
          0.0008641108870506287,
          0.004751071333885193,
          0.008748434484004974,
          0.012021921575069427,
          0.015933804214000702,
          0.018254056572914124,
          0.022554725408554077
         ],
         "z": [
          0.2066672444343567,
          0.19016672670841217,
          0.17533105611801147,
          0.15861952304840088,
          0.1368713527917862,
          0.11114369332790375,
          0.07737156748771667,
          0.041136156767606735,
          0.002994895912706852,
          -0.001901254989206791,
          0.005688026547431946,
          0.016561344265937805,
          0.02916260063648224,
          0.04463805630803108,
          0.053623080253601074,
          0.06535439193248749,
          0.07669118791818619,
          0.08696778118610382,
          0.0963272899389267,
          0.10384394973516464
         ]
        },
        {
         "marker": {
          "size": 0.1
         },
         "mode": "markers",
         "type": "scatter3d",
         "x": [
          -0.1,
          0.1
         ],
         "y": [
          -0.1,
          0.1
         ],
         "z": [
          0,
          0.1
         ]
        }
       ],
       "layout": {
        "coloraxis": {
         "showscale": false
        },
        "font": {
         "color": "white",
         "family": "Roboto, monospace",
         "size": 12
        },
        "height": 800,
        "margin": {
         "b": 50,
         "l": 5,
         "r": 5,
         "t": 50
        },
        "scene": {
         "aspectratio": {
          "x": 1,
          "y": 1,
          "z": 1
         },
         "camera": {
          "eye": {
           "x": -1.5,
           "y": 1.5,
           "z": 1.5
          },
          "up": {
           "x": 0,
           "y": 0,
           "z": 1
          }
         }
        },
        "showlegend": false,
        "template": {
         "data": {
          "bar": [
           {
            "error_x": {
             "color": "#f2f5fa"
            },
            "error_y": {
             "color": "#f2f5fa"
            },
            "marker": {
             "line": {
              "color": "rgb(17,17,17)",
              "width": 0.5
             },
             "pattern": {
              "fillmode": "overlay",
              "size": 10,
              "solidity": 0.2
             }
            },
            "type": "bar"
           }
          ],
          "barpolar": [
           {
            "marker": {
             "line": {
              "color": "rgb(17,17,17)",
              "width": 0.5
             },
             "pattern": {
              "fillmode": "overlay",
              "size": 10,
              "solidity": 0.2
             }
            },
            "type": "barpolar"
           }
          ],
          "carpet": [
           {
            "aaxis": {
             "endlinecolor": "#A2B1C6",
             "gridcolor": "#506784",
             "linecolor": "#506784",
             "minorgridcolor": "#506784",
             "startlinecolor": "#A2B1C6"
            },
            "baxis": {
             "endlinecolor": "#A2B1C6",
             "gridcolor": "#506784",
             "linecolor": "#506784",
             "minorgridcolor": "#506784",
             "startlinecolor": "#A2B1C6"
            },
            "type": "carpet"
           }
          ],
          "choropleth": [
           {
            "colorbar": {
             "outlinewidth": 0,
             "ticks": ""
            },
            "type": "choropleth"
           }
          ],
          "contour": [
           {
            "colorbar": {
             "outlinewidth": 0,
             "ticks": ""
            },
            "colorscale": [
             [
              0,
              "#0d0887"
             ],
             [
              0.1111111111111111,
              "#46039f"
             ],
             [
              0.2222222222222222,
              "#7201a8"
             ],
             [
              0.3333333333333333,
              "#9c179e"
             ],
             [
              0.4444444444444444,
              "#bd3786"
             ],
             [
              0.5555555555555556,
              "#d8576b"
             ],
             [
              0.6666666666666666,
              "#ed7953"
             ],
             [
              0.7777777777777778,
              "#fb9f3a"
             ],
             [
              0.8888888888888888,
              "#fdca26"
             ],
             [
              1,
              "#f0f921"
             ]
            ],
            "type": "contour"
           }
          ],
          "contourcarpet": [
           {
            "colorbar": {
             "outlinewidth": 0,
             "ticks": ""
            },
            "type": "contourcarpet"
           }
          ],
          "heatmap": [
           {
            "colorbar": {
             "outlinewidth": 0,
             "ticks": ""
            },
            "colorscale": [
             [
              0,
              "#0d0887"
             ],
             [
              0.1111111111111111,
              "#46039f"
             ],
             [
              0.2222222222222222,
              "#7201a8"
             ],
             [
              0.3333333333333333,
              "#9c179e"
             ],
             [
              0.4444444444444444,
              "#bd3786"
             ],
             [
              0.5555555555555556,
              "#d8576b"
             ],
             [
              0.6666666666666666,
              "#ed7953"
             ],
             [
              0.7777777777777778,
              "#fb9f3a"
             ],
             [
              0.8888888888888888,
              "#fdca26"
             ],
             [
              1,
              "#f0f921"
             ]
            ],
            "type": "heatmap"
           }
          ],
          "heatmapgl": [
           {
            "colorbar": {
             "outlinewidth": 0,
             "ticks": ""
            },
            "colorscale": [
             [
              0,
              "#0d0887"
             ],
             [
              0.1111111111111111,
              "#46039f"
             ],
             [
              0.2222222222222222,
              "#7201a8"
             ],
             [
              0.3333333333333333,
              "#9c179e"
             ],
             [
              0.4444444444444444,
              "#bd3786"
             ],
             [
              0.5555555555555556,
              "#d8576b"
             ],
             [
              0.6666666666666666,
              "#ed7953"
             ],
             [
              0.7777777777777778,
              "#fb9f3a"
             ],
             [
              0.8888888888888888,
              "#fdca26"
             ],
             [
              1,
              "#f0f921"
             ]
            ],
            "type": "heatmapgl"
           }
          ],
          "histogram": [
           {
            "marker": {
             "pattern": {
              "fillmode": "overlay",
              "size": 10,
              "solidity": 0.2
             }
            },
            "type": "histogram"
           }
          ],
          "histogram2d": [
           {
            "colorbar": {
             "outlinewidth": 0,
             "ticks": ""
            },
            "colorscale": [
             [
              0,
              "#0d0887"
             ],
             [
              0.1111111111111111,
              "#46039f"
             ],
             [
              0.2222222222222222,
              "#7201a8"
             ],
             [
              0.3333333333333333,
              "#9c179e"
             ],
             [
              0.4444444444444444,
              "#bd3786"
             ],
             [
              0.5555555555555556,
              "#d8576b"
             ],
             [
              0.6666666666666666,
              "#ed7953"
             ],
             [
              0.7777777777777778,
              "#fb9f3a"
             ],
             [
              0.8888888888888888,
              "#fdca26"
             ],
             [
              1,
              "#f0f921"
             ]
            ],
            "type": "histogram2d"
           }
          ],
          "histogram2dcontour": [
           {
            "colorbar": {
             "outlinewidth": 0,
             "ticks": ""
            },
            "colorscale": [
             [
              0,
              "#0d0887"
             ],
             [
              0.1111111111111111,
              "#46039f"
             ],
             [
              0.2222222222222222,
              "#7201a8"
             ],
             [
              0.3333333333333333,
              "#9c179e"
             ],
             [
              0.4444444444444444,
              "#bd3786"
             ],
             [
              0.5555555555555556,
              "#d8576b"
             ],
             [
              0.6666666666666666,
              "#ed7953"
             ],
             [
              0.7777777777777778,
              "#fb9f3a"
             ],
             [
              0.8888888888888888,
              "#fdca26"
             ],
             [
              1,
              "#f0f921"
             ]
            ],
            "type": "histogram2dcontour"
           }
          ],
          "mesh3d": [
           {
            "colorbar": {
             "outlinewidth": 0,
             "ticks": ""
            },
            "type": "mesh3d"
           }
          ],
          "parcoords": [
           {
            "line": {
             "colorbar": {
              "outlinewidth": 0,
              "ticks": ""
             }
            },
            "type": "parcoords"
           }
          ],
          "pie": [
           {
            "automargin": true,
            "type": "pie"
           }
          ],
          "scatter": [
           {
            "marker": {
             "line": {
              "color": "#283442"
             }
            },
            "type": "scatter"
           }
          ],
          "scatter3d": [
           {
            "line": {
             "colorbar": {
              "outlinewidth": 0,
              "ticks": ""
             }
            },
            "marker": {
             "colorbar": {
              "outlinewidth": 0,
              "ticks": ""
             }
            },
            "type": "scatter3d"
           }
          ],
          "scattercarpet": [
           {
            "marker": {
             "colorbar": {
              "outlinewidth": 0,
              "ticks": ""
             }
            },
            "type": "scattercarpet"
           }
          ],
          "scattergeo": [
           {
            "marker": {
             "colorbar": {
              "outlinewidth": 0,
              "ticks": ""
             }
            },
            "type": "scattergeo"
           }
          ],
          "scattergl": [
           {
            "marker": {
             "line": {
              "color": "#283442"
             }
            },
            "type": "scattergl"
           }
          ],
          "scattermapbox": [
           {
            "marker": {
             "colorbar": {
              "outlinewidth": 0,
              "ticks": ""
             }
            },
            "type": "scattermapbox"
           }
          ],
          "scatterpolar": [
           {
            "marker": {
             "colorbar": {
              "outlinewidth": 0,
              "ticks": ""
             }
            },
            "type": "scatterpolar"
           }
          ],
          "scatterpolargl": [
           {
            "marker": {
             "colorbar": {
              "outlinewidth": 0,
              "ticks": ""
             }
            },
            "type": "scatterpolargl"
           }
          ],
          "scatterternary": [
           {
            "marker": {
             "colorbar": {
              "outlinewidth": 0,
              "ticks": ""
             }
            },
            "type": "scatterternary"
           }
          ],
          "surface": [
           {
            "colorbar": {
             "outlinewidth": 0,
             "ticks": ""
            },
            "colorscale": [
             [
              0,
              "#0d0887"
             ],
             [
              0.1111111111111111,
              "#46039f"
             ],
             [
              0.2222222222222222,
              "#7201a8"
             ],
             [
              0.3333333333333333,
              "#9c179e"
             ],
             [
              0.4444444444444444,
              "#bd3786"
             ],
             [
              0.5555555555555556,
              "#d8576b"
             ],
             [
              0.6666666666666666,
              "#ed7953"
             ],
             [
              0.7777777777777778,
              "#fb9f3a"
             ],
             [
              0.8888888888888888,
              "#fdca26"
             ],
             [
              1,
              "#f0f921"
             ]
            ],
            "type": "surface"
           }
          ],
          "table": [
           {
            "cells": {
             "fill": {
              "color": "#506784"
             },
             "line": {
              "color": "rgb(17,17,17)"
             }
            },
            "header": {
             "fill": {
              "color": "#2a3f5f"
             },
             "line": {
              "color": "rgb(17,17,17)"
             }
            },
            "type": "table"
           }
          ]
         },
         "layout": {
          "annotationdefaults": {
           "arrowcolor": "#f2f5fa",
           "arrowhead": 0,
           "arrowwidth": 1
          },
          "autotypenumbers": "strict",
          "coloraxis": {
           "colorbar": {
            "outlinewidth": 0,
            "ticks": ""
           }
          },
          "colorscale": {
           "diverging": [
            [
             0,
             "#8e0152"
            ],
            [
             0.1,
             "#c51b7d"
            ],
            [
             0.2,
             "#de77ae"
            ],
            [
             0.3,
             "#f1b6da"
            ],
            [
             0.4,
             "#fde0ef"
            ],
            [
             0.5,
             "#f7f7f7"
            ],
            [
             0.6,
             "#e6f5d0"
            ],
            [
             0.7,
             "#b8e186"
            ],
            [
             0.8,
             "#7fbc41"
            ],
            [
             0.9,
             "#4d9221"
            ],
            [
             1,
             "#276419"
            ]
           ],
           "sequential": [
            [
             0,
             "#0d0887"
            ],
            [
             0.1111111111111111,
             "#46039f"
            ],
            [
             0.2222222222222222,
             "#7201a8"
            ],
            [
             0.3333333333333333,
             "#9c179e"
            ],
            [
             0.4444444444444444,
             "#bd3786"
            ],
            [
             0.5555555555555556,
             "#d8576b"
            ],
            [
             0.6666666666666666,
             "#ed7953"
            ],
            [
             0.7777777777777778,
             "#fb9f3a"
            ],
            [
             0.8888888888888888,
             "#fdca26"
            ],
            [
             1,
             "#f0f921"
            ]
           ],
           "sequentialminus": [
            [
             0,
             "#0d0887"
            ],
            [
             0.1111111111111111,
             "#46039f"
            ],
            [
             0.2222222222222222,
             "#7201a8"
            ],
            [
             0.3333333333333333,
             "#9c179e"
            ],
            [
             0.4444444444444444,
             "#bd3786"
            ],
            [
             0.5555555555555556,
             "#d8576b"
            ],
            [
             0.6666666666666666,
             "#ed7953"
            ],
            [
             0.7777777777777778,
             "#fb9f3a"
            ],
            [
             0.8888888888888888,
             "#fdca26"
            ],
            [
             1,
             "#f0f921"
            ]
           ]
          },
          "colorway": [
           "#636efa",
           "#EF553B",
           "#00cc96",
           "#ab63fa",
           "#FFA15A",
           "#19d3f3",
           "#FF6692",
           "#B6E880",
           "#FF97FF",
           "#FECB52"
          ],
          "font": {
           "color": "#f2f5fa"
          },
          "geo": {
           "bgcolor": "rgb(17,17,17)",
           "lakecolor": "rgb(17,17,17)",
           "landcolor": "rgb(17,17,17)",
           "showlakes": true,
           "showland": true,
           "subunitcolor": "#506784"
          },
          "hoverlabel": {
           "align": "left"
          },
          "hovermode": "closest",
          "mapbox": {
           "style": "dark"
          },
          "paper_bgcolor": "rgb(17,17,17)",
          "plot_bgcolor": "rgb(17,17,17)",
          "polar": {
           "angularaxis": {
            "gridcolor": "#506784",
            "linecolor": "#506784",
            "ticks": ""
           },
           "bgcolor": "rgb(17,17,17)",
           "radialaxis": {
            "gridcolor": "#506784",
            "linecolor": "#506784",
            "ticks": ""
           }
          },
          "scene": {
           "xaxis": {
            "backgroundcolor": "rgb(17,17,17)",
            "gridcolor": "#506784",
            "gridwidth": 2,
            "linecolor": "#506784",
            "showbackground": true,
            "ticks": "",
            "zerolinecolor": "#C8D4E3"
           },
           "yaxis": {
            "backgroundcolor": "rgb(17,17,17)",
            "gridcolor": "#506784",
            "gridwidth": 2,
            "linecolor": "#506784",
            "showbackground": true,
            "ticks": "",
            "zerolinecolor": "#C8D4E3"
           },
           "zaxis": {
            "backgroundcolor": "rgb(17,17,17)",
            "gridcolor": "#506784",
            "gridwidth": 2,
            "linecolor": "#506784",
            "showbackground": true,
            "ticks": "",
            "zerolinecolor": "#C8D4E3"
           }
          },
          "shapedefaults": {
           "line": {
            "color": "#f2f5fa"
           }
          },
          "sliderdefaults": {
           "bgcolor": "#C8D4E3",
           "bordercolor": "rgb(17,17,17)",
           "borderwidth": 1,
           "tickwidth": 0
          },
          "ternary": {
           "aaxis": {
            "gridcolor": "#506784",
            "linecolor": "#506784",
            "ticks": ""
           },
           "baxis": {
            "gridcolor": "#506784",
            "linecolor": "#506784",
            "ticks": ""
           },
           "bgcolor": "rgb(17,17,17)",
           "caxis": {
            "gridcolor": "#506784",
            "linecolor": "#506784",
            "ticks": ""
           }
          },
          "title": {
           "x": 0.05
          },
          "updatemenudefaults": {
           "bgcolor": "#506784",
           "borderwidth": 0
          },
          "xaxis": {
           "automargin": true,
           "gridcolor": "#283442",
           "linecolor": "#506784",
           "ticks": "",
           "title": {
            "standoff": 15
           },
           "zerolinecolor": "#283442",
           "zerolinewidth": 2
          },
          "yaxis": {
           "automargin": true,
           "gridcolor": "#283442",
           "linecolor": "#506784",
           "ticks": "",
           "title": {
            "standoff": 15
           },
           "zerolinecolor": "#283442",
           "zerolinewidth": 2
          }
         }
        },
        "title": {
         "text": "Compare Motion Plots"
        },
        "xaxis": {
         "fixedrange": true,
         "showgrid": false,
         "showticklabels": false,
         "zeroline": false,
         "zerolinecolor": "gray",
         "zerolinewidth": 1
        },
        "yaxis": {
         "fixedrange": true,
         "showgrid": false,
         "showticklabels": false,
         "zeroline": false,
         "zerolinecolor": "gray",
         "zerolinewidth": 1
        }
       }
      }
     },
     "metadata": {},
     "output_type": "display_data"
    },
    {
     "name": "stdout",
     "output_type": "stream",
     "text": [
      "tensor(0., device='cuda:0')\n"
     ]
    },
    {
     "data": {
      "application/vnd.plotly.v1+json": {
       "config": {
        "plotlyServerURL": "https://plot.ly"
       },
       "data": [
        {
         "line": {
          "color": [
           0,
           1,
           2,
           3,
           4,
           5,
           6,
           7,
           8,
           9,
           10,
           11,
           12,
           13,
           14,
           15,
           16,
           17,
           18,
           19
          ],
          "colorscale": [
           [
            0,
            "#0508b8"
           ],
           [
            0.08333333333333333,
            "#1910d8"
           ],
           [
            0.16666666666666666,
            "#3c19f0"
           ],
           [
            0.25,
            "#6b1cfb"
           ],
           [
            0.3333333333333333,
            "#981cfd"
           ],
           [
            0.4166666666666667,
            "#bf1cfd"
           ],
           [
            0.5,
            "#dd2bfd"
           ],
           [
            0.5833333333333334,
            "#f246fe"
           ],
           [
            0.6666666666666666,
            "#fc67fd"
           ],
           [
            0.75,
            "#fe88fc"
           ],
           [
            0.8333333333333334,
            "#fea5fd"
           ],
           [
            0.9166666666666666,
            "#febefe"
           ],
           [
            1,
            "#fec3fe"
           ]
          ],
          "width": 4
         },
         "mode": "lines",
         "type": "scatter3d",
         "x": [
          0.13692298531532288,
          0.12413499504327774,
          0.10930100083351135,
          0.0919799953699112,
          0.07206200063228607,
          0.0509130023419857,
          0.030657999217510223,
          0.013753000646829605,
          0.00304500013589859,
          0,
          0.0005499999970197678,
          0.002079000696539879,
          0.0044110007584095,
          0.007745999842882156,
          0.011393999680876732,
          0.01512799970805645,
          0.01860000193119049,
          0.021764000877738,
          0.024168001487851143,
          0.025724999606609344
         ],
         "y": [
          0.02968500554561615,
          0.027817003428936005,
          0.024815000593662262,
          0.021465003490447998,
          0.018532998859882355,
          0.014931000769138336,
          0.010568998754024506,
          0.006540998816490173,
          0.0014239996671676636,
          0,
          -0.0012109987437725067,
          -0.002882000058889389,
          -0.00505799800157547,
          -0.0066879987716674805,
          -0.006280999630689621,
          -0.0063409991562366486,
          -0.005659997463226318,
          -0.005214996635913849,
          -0.0040849968791007996,
          -0.0015639998018741608
         ],
         "z": [
          0.2602059841156006,
          0.24843601882457733,
          0.23405399918556213,
          0.2158920019865036,
          0.19244100153446198,
          0.16333399713039398,
          0.12836799025535583,
          0.08805099874734879,
          0.04469100013375282,
          0,
          0.00011599995195865631,
          0.012312998995184898,
          0.02505899965763092,
          0.03745900094509125,
          0.047710999846458435,
          0.05685199797153473,
          0.0642860010266304,
          0.06932699680328369,
          0.07262400537729263,
          0.07399200648069382
         ]
        },
        {
         "line": {
          "color": [
           0,
           1,
           2,
           3,
           4,
           5,
           6,
           7,
           8,
           9,
           10,
           11,
           12,
           13,
           14,
           15,
           16,
           17,
           18,
           19
          ],
          "colorscale": [
           [
            0,
            "rgb(209, 238, 234)"
           ],
           [
            0.16666666666666666,
            "rgb(168, 219, 217)"
           ],
           [
            0.3333333333333333,
            "rgb(133, 196, 201)"
           ],
           [
            0.5,
            "rgb(104, 171, 184)"
           ],
           [
            0.6666666666666666,
            "rgb(79, 144, 166)"
           ],
           [
            0.8333333333333334,
            "rgb(59, 115, 143)"
           ],
           [
            1,
            "rgb(42, 86, 116)"
           ]
          ],
          "width": 2
         },
         "mode": "lines",
         "type": "scatter3d",
         "x": [
          -0.05748261511325836,
          -0.07237546145915985,
          -0.08929871022701263,
          -0.10889634490013123,
          -0.12732438743114471,
          -0.15219318866729736,
          -0.17251020669937134,
          -0.18809162080287933,
          -0.19921079277992249,
          -0.19970931112766266,
          -0.1997520476579666,
          -0.19877569377422333,
          -0.1965496689081192,
          -0.19266459345817566,
          -0.18924735486507416,
          -0.1854110211133957,
          -0.18281206488609314,
          -0.1789175570011139,
          -0.17811700701713562,
          -0.1771412193775177
         ],
         "y": [
          0.035249240696430206,
          0.03214867413043976,
          0.028623461723327637,
          0.024191752076148987,
          0.020755551755428314,
          0.016148000955581665,
          0.010404333472251892,
          0.00721421092748642,
          0.0029032528400421143,
          -0.0000757947564125061,
          -0.0023458078503608704,
          -0.005004774779081345,
          -0.0060393549501895905,
          -0.007779121398925781,
          -0.0071828365325927734,
          -0.006881378591060638,
          -0.006008092314004898,
          -0.0027114376425743103,
          -0.002820223569869995,
          0.00240267813205719
         ],
         "z": [
          0.26605045795440674,
          0.255082368850708,
          0.2377815693616867,
          0.21743838489055634,
          0.19693651795387268,
          0.16580867767333984,
          0.12738573551177979,
          0.08394847065210342,
          0.038993917405605316,
          -0.005243493244051933,
          0.0007027303799986839,
          0.009169496595859528,
          0.021103020757436752,
          0.03527264669537544,
          0.04596395418047905,
          0.0530853345990181,
          0.05981350690126419,
          0.06399848312139511,
          0.06574632227420807,
          0.06706268340349197
         ]
        },
        {
         "line": {
          "color": [
           0,
           1,
           2,
           3,
           4,
           5,
           6,
           7,
           8,
           9,
           10,
           11,
           12,
           13,
           14,
           15,
           16,
           17,
           18,
           19
          ],
          "colorscale": [
           [
            0,
            "rgb(209, 238, 234)"
           ],
           [
            0.16666666666666666,
            "rgb(168, 219, 217)"
           ],
           [
            0.3333333333333333,
            "rgb(133, 196, 201)"
           ],
           [
            0.5,
            "rgb(104, 171, 184)"
           ],
           [
            0.6666666666666666,
            "rgb(79, 144, 166)"
           ],
           [
            0.8333333333333334,
            "rgb(59, 115, 143)"
           ],
           [
            1,
            "rgb(42, 86, 116)"
           ]
          ],
          "width": 2
         },
         "mode": "lines",
         "type": "scatter3d",
         "x": [
          -0.012046277523040771,
          -0.02485978603363037,
          -0.040103547275066376,
          -0.05852498859167099,
          -0.07721997052431107,
          -0.10094958543777466,
          -0.1210041418671608,
          -0.13763640820980072,
          -0.14840632677078247,
          -0.14921948313713074,
          -0.14866182208061218,
          -0.14650565385818481,
          -0.1439809501171112,
          -0.14032895863056183,
          -0.1363646537065506,
          -0.13284507393836975,
          -0.1295459270477295,
          -0.12641337513923645,
          -0.12508544325828552,
          -0.12359455227851868
         ],
         "y": [
          0.028792060911655426,
          0.027425125241279602,
          0.02495470643043518,
          0.0214163139462471,
          0.019108392298221588,
          0.0154385045170784,
          0.009595803916454315,
          0.0064621493220329285,
          0.002545751631259918,
          -0.0006147325038909912,
          -0.0036052055656909943,
          -0.00596284493803978,
          -0.007878117263317108,
          -0.008848294615745544,
          -0.008370794355869293,
          -0.006330695003271103,
          -0.0047497861087322235,
          -0.0015699081122875214,
          -0.0005607530474662781,
          0.0038551464676856995
         ],
         "z": [
          0.2608647346496582,
          0.2497759610414505,
          0.23371830582618713,
          0.21586823463439941,
          0.195735365152359,
          0.1657617837190628,
          0.12909407913684845,
          0.09009677916765213,
          0.04454890638589859,
          0.0009853290393948555,
          0.0060950517654418945,
          0.015689605847001076,
          0.028557710349559784,
          0.042959220707416534,
          0.04970672354102135,
          0.05977599322795868,
          0.06609509140253067,
          0.07045569270849228,
          0.07001275569200516,
          0.0700576901435852
         ]
        },
        {
         "line": {
          "color": [
           0,
           1,
           2,
           3,
           4,
           5,
           6,
           7,
           8,
           9,
           10,
           11,
           12,
           13,
           14,
           15,
           16,
           17,
           18,
           19
          ],
          "colorscale": [
           [
            0,
            "rgb(209, 238, 234)"
           ],
           [
            0.16666666666666666,
            "rgb(168, 219, 217)"
           ],
           [
            0.3333333333333333,
            "rgb(133, 196, 201)"
           ],
           [
            0.5,
            "rgb(104, 171, 184)"
           ],
           [
            0.6666666666666666,
            "rgb(79, 144, 166)"
           ],
           [
            0.8333333333333334,
            "rgb(59, 115, 143)"
           ],
           [
            1,
            "rgb(42, 86, 116)"
           ]
          ],
          "width": 2
         },
         "mode": "lines",
         "type": "scatter3d",
         "x": [
          0.03630932420492172,
          0.021057024598121643,
          0.006461873650550842,
          -0.011600382626056671,
          -0.030543968081474304,
          -0.053467050194740295,
          -0.07328805327415466,
          -0.08854817599058151,
          -0.09871469438076019,
          -0.0995900109410286,
          -0.0991622656583786,
          -0.09706621617078781,
          -0.09488610923290253,
          -0.09143807739019394,
          -0.08754321932792664,
          -0.08438137173652649,
          -0.08202217519283295,
          -0.07969881594181061,
          -0.0786077082157135,
          -0.07735627889633179
         ],
         "y": [
          0.030150726437568665,
          0.027459003031253815,
          0.025365926325321198,
          0.021561957895755768,
          0.018622882664203644,
          0.015429086983203888,
          0.009807050228118896,
          0.006817348301410675,
          0.002668537199497223,
          0.0003005117177963257,
          -0.00219590961933136,
          -0.004118114709854126,
          -0.0052101463079452515,
          -0.006634782999753952,
          -0.006146043539047241,
          -0.005608517676591873,
          -0.005306858569383621,
          -0.0029017142951488495,
          -0.0027309581637382507,
          0.0009241551160812378
         ],
         "z": [
          0.2621946334838867,
          0.2511190176010132,
          0.23513531684875488,
          0.21606174111366272,
          0.19478970766067505,
          0.16360358893871307,
          0.1251124143600464,
          0.08448009938001633,
          0.039166271686553955,
          -0.00048807915300130844,
          0.005091873928904533,
          0.013982348144054413,
          0.025661930441856384,
          0.038337189704179764,
          0.04649176821112633,
          0.05394358932971954,
          0.0607767328619957,
          0.06532839685678482,
          0.06920349597930908,
          0.07047800719738007
         ]
        },
        {
         "line": {
          "color": [
           0,
           1,
           2,
           3,
           4,
           5,
           6,
           7,
           8,
           9,
           10,
           11,
           12,
           13,
           14,
           15,
           16,
           17,
           18,
           19
          ],
          "colorscale": [
           [
            0,
            "rgb(209, 238, 234)"
           ],
           [
            0.16666666666666666,
            "rgb(168, 219, 217)"
           ],
           [
            0.3333333333333333,
            "rgb(133, 196, 201)"
           ],
           [
            0.5,
            "rgb(104, 171, 184)"
           ],
           [
            0.6666666666666666,
            "rgb(79, 144, 166)"
           ],
           [
            0.8333333333333334,
            "rgb(59, 115, 143)"
           ],
           [
            1,
            "rgb(42, 86, 116)"
           ]
          ],
          "width": 2
         },
         "mode": "lines",
         "type": "scatter3d",
         "x": [
          0.09057392179965973,
          0.07659916579723358,
          0.06039571389555931,
          0.04061458632349968,
          0.020956967025995255,
          -0.004118751734495163,
          -0.024374350905418396,
          -0.03938964009284973,
          -0.0490802526473999,
          -0.049180179834365845,
          -0.04977704957127571,
          -0.04896080493927002,
          -0.046506062150001526,
          -0.043213438242673874,
          -0.039247065782547,
          -0.03533381223678589,
          -0.03259170055389404,
          -0.02948402799665928,
          -0.028884105384349823,
          -0.027956068515777588
         ],
         "y": [
          0.03384806960821152,
          0.03146035969257355,
          0.028513289988040924,
          0.024524502456188202,
          0.021705113351345062,
          0.01708916574716568,
          0.011571526527404785,
          0.007721647620201111,
          0.002780809998512268,
          0.0005461648106575012,
          -0.00194496288895607,
          -0.004242882132530212,
          -0.004577275365591049,
          -0.005711313337087631,
          -0.005235612392425537,
          -0.004910007119178772,
          -0.0042129866778850555,
          -0.0022519677877426147,
          -0.0027247630059719086,
          0.0010436028242111206
         ],
         "z": [
          0.2611258029937744,
          0.2506137490272522,
          0.23511911928653717,
          0.21596473455429077,
          0.19388966262340546,
          0.16279374063014984,
          0.12365095317363739,
          0.08239252120256424,
          0.036682743579149246,
          -0.004575092811137438,
          0.001054246909916401,
          0.009938456118106842,
          0.022897157818078995,
          0.03903874009847641,
          0.04723045229911804,
          0.057828389108181,
          0.06467180699110031,
          0.06966182589530945,
          0.07092761993408203,
          0.07226169109344482
         ]
        },
        {
         "line": {
          "color": [
           0,
           1,
           2,
           3,
           4,
           5,
           6,
           7,
           8,
           9,
           10,
           11,
           12,
           13,
           14,
           15,
           16,
           17,
           18,
           19
          ],
          "colorscale": [
           [
            0,
            "rgb(209, 238, 234)"
           ],
           [
            0.16666666666666666,
            "rgb(168, 219, 217)"
           ],
           [
            0.3333333333333333,
            "rgb(133, 196, 201)"
           ],
           [
            0.5,
            "rgb(104, 171, 184)"
           ],
           [
            0.6666666666666666,
            "rgb(79, 144, 166)"
           ],
           [
            0.8333333333333334,
            "rgb(59, 115, 143)"
           ],
           [
            1,
            "rgb(42, 86, 116)"
           ]
          ],
          "width": 2
         },
         "mode": "lines",
         "type": "scatter3d",
         "x": [
          0.19191865622997284,
          0.17728079855442047,
          0.16219128668308258,
          0.1440018266439438,
          0.12473337352275848,
          0.10036960244178772,
          0.07934670150279999,
          0.062313832342624664,
          0.051873140037059784,
          0.050294794142246246,
          0.05085758492350578,
          0.05295059084892273,
          0.05576014146208763,
          0.0587473064661026,
          0.06333476305007935,
          0.06728769093751907,
          0.0699419304728508,
          0.0727577656507492,
          0.07363475859165192,
          0.07482917606830597
         ],
         "y": [
          0.031020335853099823,
          0.028200648725032806,
          0.024771325290203094,
          0.02038104087114334,
          0.016719095408916473,
          0.012182697653770447,
          0.00621563196182251,
          0.0036818385124206543,
          0.0012896731495857239,
          -0.0000662878155708313,
          -0.0028577670454978943,
          -0.005288790911436081,
          -0.00689363107085228,
          -0.00946756824851036,
          -0.009770531207323074,
          -0.009053509682416916,
          -0.00882471352815628,
          -0.006297372281551361,
          -0.005310095846652985,
          -0.0008299350738525391
         ],
         "z": [
          0.2661270499229431,
          0.25698965787887573,
          0.2421039193868637,
          0.224277526140213,
          0.2048378735780716,
          0.17488011717796326,
          0.1352844089269638,
          0.09323079138994217,
          0.043605439364910126,
          0.0011849552392959595,
          0.007139494642615318,
          0.01675284095108509,
          0.02981177717447281,
          0.04141797497868538,
          0.04912848025560379,
          0.05794835090637207,
          0.06396422535181046,
          0.06764378398656845,
          0.06875674426555634,
          0.06968584656715393
         ]
        },
        {
         "line": {
          "color": [
           0,
           1,
           2,
           3,
           4,
           5,
           6,
           7,
           8,
           9,
           10,
           11,
           12,
           13,
           14,
           15,
           16,
           17,
           18,
           19
          ],
          "colorscale": [
           [
            0,
            "rgb(209, 238, 234)"
           ],
           [
            0.16666666666666666,
            "rgb(168, 219, 217)"
           ],
           [
            0.3333333333333333,
            "rgb(133, 196, 201)"
           ],
           [
            0.5,
            "rgb(104, 171, 184)"
           ],
           [
            0.6666666666666666,
            "rgb(79, 144, 166)"
           ],
           [
            0.8333333333333334,
            "rgb(59, 115, 143)"
           ],
           [
            1,
            "rgb(42, 86, 116)"
           ]
          ],
          "width": 2
         },
         "mode": "lines",
         "type": "scatter3d",
         "x": [
          0.24202954769134521,
          0.2278255820274353,
          0.21215873956680298,
          0.19315531849861145,
          0.1736469715833664,
          0.14888837933540344,
          0.1280977576971054,
          0.11182592809200287,
          0.10091893374919891,
          0.09984775632619858,
          0.10079178214073181,
          0.10285307466983795,
          0.1057559922337532,
          0.10924550145864487,
          0.11380073428153992,
          0.11749538779258728,
          0.1203818991780281,
          0.12401627004146576,
          0.12496156245470047,
          0.12671761214733124
         ],
         "y": [
          0.030948027968406677,
          0.02911694347858429,
          0.025807619094848633,
          0.021835677325725555,
          0.018209680914878845,
          0.013343654572963715,
          0.007969506084918976,
          0.0052089691162109375,
          0.0011592581868171692,
          0.0002285391092300415,
          -0.0017943605780601501,
          -0.003661390393972397,
          -0.004764378070831299,
          -0.005493827164173126,
          -0.005560349673032761,
          -0.005769550800323486,
          -0.0047585442662239075,
          -0.0031323470175266266,
          -0.0031430162489414215,
          0.00041726231575012207
         ],
         "z": [
          0.269203782081604,
          0.25835496187210083,
          0.24218107759952545,
          0.22295239567756653,
          0.20226559042930603,
          0.17209243774414062,
          0.1328345388174057,
          0.09177857637405396,
          0.04414688050746918,
          -0.002009269781410694,
          0.0035879630595445633,
          0.01311114989221096,
          0.023539859801530838,
          0.036358799785375595,
          0.043454866856336594,
          0.05079948157072067,
          0.055758632719516754,
          0.05779193341732025,
          0.05679634213447571,
          0.058307185769081116
         ]
        },
        {
         "line": {
          "color": [
           0,
           1,
           2,
           3,
           4,
           5,
           6,
           7,
           8,
           9,
           10,
           11,
           12,
           13,
           14,
           15,
           16,
           17,
           18,
           19
          ],
          "colorscale": [
           [
            0,
            "rgb(209, 238, 234)"
           ],
           [
            0.16666666666666666,
            "rgb(168, 219, 217)"
           ],
           [
            0.3333333333333333,
            "rgb(133, 196, 201)"
           ],
           [
            0.5,
            "rgb(104, 171, 184)"
           ],
           [
            0.6666666666666666,
            "rgb(79, 144, 166)"
           ],
           [
            0.8333333333333334,
            "rgb(59, 115, 143)"
           ],
           [
            1,
            "rgb(42, 86, 116)"
           ]
          ],
          "width": 2
         },
         "mode": "lines",
         "type": "scatter3d",
         "x": [
          0.29550495743751526,
          0.27873075008392334,
          0.26170599460601807,
          0.2419666349887848,
          0.22329652309417725,
          0.1982199251651764,
          0.1781812608242035,
          0.1616791933774948,
          0.15087196230888367,
          0.1502065360546112,
          0.1505047082901001,
          0.1521887332201004,
          0.15413908660411835,
          0.15785042941570282,
          0.16170307993888855,
          0.16600599884986877,
          0.1688917875289917,
          0.17212502658367157,
          0.17317815124988556,
          0.17455872893333435
         ],
         "y": [
          0.03582434356212616,
          0.03219698369503021,
          0.02808929979801178,
          0.02374684065580368,
          0.02038537710905075,
          0.01670575886964798,
          0.010311335325241089,
          0.007157549262046814,
          0.002544894814491272,
          -0.0003824084997177124,
          -0.002860758453607559,
          -0.0046118199825286865,
          -0.0055909305810928345,
          -0.006522808223962784,
          -0.005621213465929031,
          -0.004594918340444565,
          -0.004459097981452942,
          -0.0020629800856113434,
          -0.002324216067790985,
          0.0008147433400154114
         ],
         "z": [
          0.267591655254364,
          0.25665003061294556,
          0.24161206185817719,
          0.22285789251327515,
          0.2026672661304474,
          0.17333745956420898,
          0.1361764818429947,
          0.09565471112728119,
          0.04915833845734596,
          -0.0005031442269682884,
          0.0029430147260427475,
          0.01211460493505001,
          0.024796560406684875,
          0.0392567478120327,
          0.0493483766913414,
          0.05785328894853592,
          0.06451326608657837,
          0.06939881294965744,
          0.0708453357219696,
          0.07223581522703171
         ]
        },
        {
         "line": {
          "color": [
           0,
           1,
           2,
           3,
           4,
           5,
           6,
           7,
           8,
           9,
           10,
           11,
           12,
           13,
           14,
           15,
           16,
           17,
           18,
           19
          ],
          "colorscale": [
           [
            0,
            "rgb(209, 238, 234)"
           ],
           [
            0.16666666666666666,
            "rgb(168, 219, 217)"
           ],
           [
            0.3333333333333333,
            "rgb(133, 196, 201)"
           ],
           [
            0.5,
            "rgb(104, 171, 184)"
           ],
           [
            0.6666666666666666,
            "rgb(79, 144, 166)"
           ],
           [
            0.8333333333333334,
            "rgb(59, 115, 143)"
           ],
           [
            1,
            "rgb(42, 86, 116)"
           ]
          ],
          "width": 2
         },
         "mode": "lines",
         "type": "scatter3d",
         "x": [
          0.33864033222198486,
          0.3261183500289917,
          0.3117012679576874,
          0.2927497327327728,
          0.27448397874832153,
          0.24954967200756073,
          0.22835592925548553,
          0.21246427297592163,
          0.20114652812480927,
          0.1997586488723755,
          0.1997985541820526,
          0.20024721324443817,
          0.2027558982372284,
          0.206080824136734,
          0.20977811515331268,
          0.2141324281692505,
          0.21663662791252136,
          0.22129741311073303,
          0.22214514017105103,
          0.223436638712883
         ],
         "y": [
          0.03507964313030243,
          0.031969837844371796,
          0.028116680681705475,
          0.023853741586208344,
          0.02071891725063324,
          0.016168028116226196,
          0.010685443878173828,
          0.0077049583196640015,
          0.0030725598335266113,
          0.0007469132542610168,
          -0.0022179819643497467,
          -0.004527673125267029,
          -0.00568053126335144,
          -0.007262025028467178,
          -0.007104199379682541,
          -0.006694264709949493,
          -0.005748488008975983,
          -0.0033024027943611145,
          -0.0036637000739574432,
          0.0005734339356422424
         ],
         "z": [
          0.26259684562683105,
          0.2510996460914612,
          0.23601314425468445,
          0.21845248341560364,
          0.1970336139202118,
          0.1664859503507614,
          0.12879230082035065,
          0.08479619771242142,
          0.0377940870821476,
          -0.00685547012835741,
          -0.0032503269612789154,
          0.004993963986635208,
          0.0176264438778162,
          0.03094296157360077,
          0.04086875542998314,
          0.049994561821222305,
          0.05799978971481323,
          0.06283032149076462,
          0.06596937775611877,
          0.06941557675600052
         ]
        },
        {
         "marker": {
          "size": 0.1
         },
         "mode": "markers",
         "type": "scatter3d",
         "x": [
          -0.1,
          0.1
         ],
         "y": [
          -0.1,
          0.1
         ],
         "z": [
          0,
          0.1
         ]
        }
       ],
       "layout": {
        "coloraxis": {
         "showscale": false
        },
        "font": {
         "color": "white",
         "family": "Roboto, monospace",
         "size": 12
        },
        "height": 800,
        "margin": {
         "b": 50,
         "l": 5,
         "r": 5,
         "t": 50
        },
        "scene": {
         "aspectratio": {
          "x": 1,
          "y": 1,
          "z": 1
         },
         "camera": {
          "eye": {
           "x": -1.5,
           "y": 1.5,
           "z": 1.5
          },
          "up": {
           "x": 0,
           "y": 0,
           "z": 1
          }
         }
        },
        "showlegend": false,
        "template": {
         "data": {
          "bar": [
           {
            "error_x": {
             "color": "#f2f5fa"
            },
            "error_y": {
             "color": "#f2f5fa"
            },
            "marker": {
             "line": {
              "color": "rgb(17,17,17)",
              "width": 0.5
             },
             "pattern": {
              "fillmode": "overlay",
              "size": 10,
              "solidity": 0.2
             }
            },
            "type": "bar"
           }
          ],
          "barpolar": [
           {
            "marker": {
             "line": {
              "color": "rgb(17,17,17)",
              "width": 0.5
             },
             "pattern": {
              "fillmode": "overlay",
              "size": 10,
              "solidity": 0.2
             }
            },
            "type": "barpolar"
           }
          ],
          "carpet": [
           {
            "aaxis": {
             "endlinecolor": "#A2B1C6",
             "gridcolor": "#506784",
             "linecolor": "#506784",
             "minorgridcolor": "#506784",
             "startlinecolor": "#A2B1C6"
            },
            "baxis": {
             "endlinecolor": "#A2B1C6",
             "gridcolor": "#506784",
             "linecolor": "#506784",
             "minorgridcolor": "#506784",
             "startlinecolor": "#A2B1C6"
            },
            "type": "carpet"
           }
          ],
          "choropleth": [
           {
            "colorbar": {
             "outlinewidth": 0,
             "ticks": ""
            },
            "type": "choropleth"
           }
          ],
          "contour": [
           {
            "colorbar": {
             "outlinewidth": 0,
             "ticks": ""
            },
            "colorscale": [
             [
              0,
              "#0d0887"
             ],
             [
              0.1111111111111111,
              "#46039f"
             ],
             [
              0.2222222222222222,
              "#7201a8"
             ],
             [
              0.3333333333333333,
              "#9c179e"
             ],
             [
              0.4444444444444444,
              "#bd3786"
             ],
             [
              0.5555555555555556,
              "#d8576b"
             ],
             [
              0.6666666666666666,
              "#ed7953"
             ],
             [
              0.7777777777777778,
              "#fb9f3a"
             ],
             [
              0.8888888888888888,
              "#fdca26"
             ],
             [
              1,
              "#f0f921"
             ]
            ],
            "type": "contour"
           }
          ],
          "contourcarpet": [
           {
            "colorbar": {
             "outlinewidth": 0,
             "ticks": ""
            },
            "type": "contourcarpet"
           }
          ],
          "heatmap": [
           {
            "colorbar": {
             "outlinewidth": 0,
             "ticks": ""
            },
            "colorscale": [
             [
              0,
              "#0d0887"
             ],
             [
              0.1111111111111111,
              "#46039f"
             ],
             [
              0.2222222222222222,
              "#7201a8"
             ],
             [
              0.3333333333333333,
              "#9c179e"
             ],
             [
              0.4444444444444444,
              "#bd3786"
             ],
             [
              0.5555555555555556,
              "#d8576b"
             ],
             [
              0.6666666666666666,
              "#ed7953"
             ],
             [
              0.7777777777777778,
              "#fb9f3a"
             ],
             [
              0.8888888888888888,
              "#fdca26"
             ],
             [
              1,
              "#f0f921"
             ]
            ],
            "type": "heatmap"
           }
          ],
          "heatmapgl": [
           {
            "colorbar": {
             "outlinewidth": 0,
             "ticks": ""
            },
            "colorscale": [
             [
              0,
              "#0d0887"
             ],
             [
              0.1111111111111111,
              "#46039f"
             ],
             [
              0.2222222222222222,
              "#7201a8"
             ],
             [
              0.3333333333333333,
              "#9c179e"
             ],
             [
              0.4444444444444444,
              "#bd3786"
             ],
             [
              0.5555555555555556,
              "#d8576b"
             ],
             [
              0.6666666666666666,
              "#ed7953"
             ],
             [
              0.7777777777777778,
              "#fb9f3a"
             ],
             [
              0.8888888888888888,
              "#fdca26"
             ],
             [
              1,
              "#f0f921"
             ]
            ],
            "type": "heatmapgl"
           }
          ],
          "histogram": [
           {
            "marker": {
             "pattern": {
              "fillmode": "overlay",
              "size": 10,
              "solidity": 0.2
             }
            },
            "type": "histogram"
           }
          ],
          "histogram2d": [
           {
            "colorbar": {
             "outlinewidth": 0,
             "ticks": ""
            },
            "colorscale": [
             [
              0,
              "#0d0887"
             ],
             [
              0.1111111111111111,
              "#46039f"
             ],
             [
              0.2222222222222222,
              "#7201a8"
             ],
             [
              0.3333333333333333,
              "#9c179e"
             ],
             [
              0.4444444444444444,
              "#bd3786"
             ],
             [
              0.5555555555555556,
              "#d8576b"
             ],
             [
              0.6666666666666666,
              "#ed7953"
             ],
             [
              0.7777777777777778,
              "#fb9f3a"
             ],
             [
              0.8888888888888888,
              "#fdca26"
             ],
             [
              1,
              "#f0f921"
             ]
            ],
            "type": "histogram2d"
           }
          ],
          "histogram2dcontour": [
           {
            "colorbar": {
             "outlinewidth": 0,
             "ticks": ""
            },
            "colorscale": [
             [
              0,
              "#0d0887"
             ],
             [
              0.1111111111111111,
              "#46039f"
             ],
             [
              0.2222222222222222,
              "#7201a8"
             ],
             [
              0.3333333333333333,
              "#9c179e"
             ],
             [
              0.4444444444444444,
              "#bd3786"
             ],
             [
              0.5555555555555556,
              "#d8576b"
             ],
             [
              0.6666666666666666,
              "#ed7953"
             ],
             [
              0.7777777777777778,
              "#fb9f3a"
             ],
             [
              0.8888888888888888,
              "#fdca26"
             ],
             [
              1,
              "#f0f921"
             ]
            ],
            "type": "histogram2dcontour"
           }
          ],
          "mesh3d": [
           {
            "colorbar": {
             "outlinewidth": 0,
             "ticks": ""
            },
            "type": "mesh3d"
           }
          ],
          "parcoords": [
           {
            "line": {
             "colorbar": {
              "outlinewidth": 0,
              "ticks": ""
             }
            },
            "type": "parcoords"
           }
          ],
          "pie": [
           {
            "automargin": true,
            "type": "pie"
           }
          ],
          "scatter": [
           {
            "marker": {
             "line": {
              "color": "#283442"
             }
            },
            "type": "scatter"
           }
          ],
          "scatter3d": [
           {
            "line": {
             "colorbar": {
              "outlinewidth": 0,
              "ticks": ""
             }
            },
            "marker": {
             "colorbar": {
              "outlinewidth": 0,
              "ticks": ""
             }
            },
            "type": "scatter3d"
           }
          ],
          "scattercarpet": [
           {
            "marker": {
             "colorbar": {
              "outlinewidth": 0,
              "ticks": ""
             }
            },
            "type": "scattercarpet"
           }
          ],
          "scattergeo": [
           {
            "marker": {
             "colorbar": {
              "outlinewidth": 0,
              "ticks": ""
             }
            },
            "type": "scattergeo"
           }
          ],
          "scattergl": [
           {
            "marker": {
             "line": {
              "color": "#283442"
             }
            },
            "type": "scattergl"
           }
          ],
          "scattermapbox": [
           {
            "marker": {
             "colorbar": {
              "outlinewidth": 0,
              "ticks": ""
             }
            },
            "type": "scattermapbox"
           }
          ],
          "scatterpolar": [
           {
            "marker": {
             "colorbar": {
              "outlinewidth": 0,
              "ticks": ""
             }
            },
            "type": "scatterpolar"
           }
          ],
          "scatterpolargl": [
           {
            "marker": {
             "colorbar": {
              "outlinewidth": 0,
              "ticks": ""
             }
            },
            "type": "scatterpolargl"
           }
          ],
          "scatterternary": [
           {
            "marker": {
             "colorbar": {
              "outlinewidth": 0,
              "ticks": ""
             }
            },
            "type": "scatterternary"
           }
          ],
          "surface": [
           {
            "colorbar": {
             "outlinewidth": 0,
             "ticks": ""
            },
            "colorscale": [
             [
              0,
              "#0d0887"
             ],
             [
              0.1111111111111111,
              "#46039f"
             ],
             [
              0.2222222222222222,
              "#7201a8"
             ],
             [
              0.3333333333333333,
              "#9c179e"
             ],
             [
              0.4444444444444444,
              "#bd3786"
             ],
             [
              0.5555555555555556,
              "#d8576b"
             ],
             [
              0.6666666666666666,
              "#ed7953"
             ],
             [
              0.7777777777777778,
              "#fb9f3a"
             ],
             [
              0.8888888888888888,
              "#fdca26"
             ],
             [
              1,
              "#f0f921"
             ]
            ],
            "type": "surface"
           }
          ],
          "table": [
           {
            "cells": {
             "fill": {
              "color": "#506784"
             },
             "line": {
              "color": "rgb(17,17,17)"
             }
            },
            "header": {
             "fill": {
              "color": "#2a3f5f"
             },
             "line": {
              "color": "rgb(17,17,17)"
             }
            },
            "type": "table"
           }
          ]
         },
         "layout": {
          "annotationdefaults": {
           "arrowcolor": "#f2f5fa",
           "arrowhead": 0,
           "arrowwidth": 1
          },
          "autotypenumbers": "strict",
          "coloraxis": {
           "colorbar": {
            "outlinewidth": 0,
            "ticks": ""
           }
          },
          "colorscale": {
           "diverging": [
            [
             0,
             "#8e0152"
            ],
            [
             0.1,
             "#c51b7d"
            ],
            [
             0.2,
             "#de77ae"
            ],
            [
             0.3,
             "#f1b6da"
            ],
            [
             0.4,
             "#fde0ef"
            ],
            [
             0.5,
             "#f7f7f7"
            ],
            [
             0.6,
             "#e6f5d0"
            ],
            [
             0.7,
             "#b8e186"
            ],
            [
             0.8,
             "#7fbc41"
            ],
            [
             0.9,
             "#4d9221"
            ],
            [
             1,
             "#276419"
            ]
           ],
           "sequential": [
            [
             0,
             "#0d0887"
            ],
            [
             0.1111111111111111,
             "#46039f"
            ],
            [
             0.2222222222222222,
             "#7201a8"
            ],
            [
             0.3333333333333333,
             "#9c179e"
            ],
            [
             0.4444444444444444,
             "#bd3786"
            ],
            [
             0.5555555555555556,
             "#d8576b"
            ],
            [
             0.6666666666666666,
             "#ed7953"
            ],
            [
             0.7777777777777778,
             "#fb9f3a"
            ],
            [
             0.8888888888888888,
             "#fdca26"
            ],
            [
             1,
             "#f0f921"
            ]
           ],
           "sequentialminus": [
            [
             0,
             "#0d0887"
            ],
            [
             0.1111111111111111,
             "#46039f"
            ],
            [
             0.2222222222222222,
             "#7201a8"
            ],
            [
             0.3333333333333333,
             "#9c179e"
            ],
            [
             0.4444444444444444,
             "#bd3786"
            ],
            [
             0.5555555555555556,
             "#d8576b"
            ],
            [
             0.6666666666666666,
             "#ed7953"
            ],
            [
             0.7777777777777778,
             "#fb9f3a"
            ],
            [
             0.8888888888888888,
             "#fdca26"
            ],
            [
             1,
             "#f0f921"
            ]
           ]
          },
          "colorway": [
           "#636efa",
           "#EF553B",
           "#00cc96",
           "#ab63fa",
           "#FFA15A",
           "#19d3f3",
           "#FF6692",
           "#B6E880",
           "#FF97FF",
           "#FECB52"
          ],
          "font": {
           "color": "#f2f5fa"
          },
          "geo": {
           "bgcolor": "rgb(17,17,17)",
           "lakecolor": "rgb(17,17,17)",
           "landcolor": "rgb(17,17,17)",
           "showlakes": true,
           "showland": true,
           "subunitcolor": "#506784"
          },
          "hoverlabel": {
           "align": "left"
          },
          "hovermode": "closest",
          "mapbox": {
           "style": "dark"
          },
          "paper_bgcolor": "rgb(17,17,17)",
          "plot_bgcolor": "rgb(17,17,17)",
          "polar": {
           "angularaxis": {
            "gridcolor": "#506784",
            "linecolor": "#506784",
            "ticks": ""
           },
           "bgcolor": "rgb(17,17,17)",
           "radialaxis": {
            "gridcolor": "#506784",
            "linecolor": "#506784",
            "ticks": ""
           }
          },
          "scene": {
           "xaxis": {
            "backgroundcolor": "rgb(17,17,17)",
            "gridcolor": "#506784",
            "gridwidth": 2,
            "linecolor": "#506784",
            "showbackground": true,
            "ticks": "",
            "zerolinecolor": "#C8D4E3"
           },
           "yaxis": {
            "backgroundcolor": "rgb(17,17,17)",
            "gridcolor": "#506784",
            "gridwidth": 2,
            "linecolor": "#506784",
            "showbackground": true,
            "ticks": "",
            "zerolinecolor": "#C8D4E3"
           },
           "zaxis": {
            "backgroundcolor": "rgb(17,17,17)",
            "gridcolor": "#506784",
            "gridwidth": 2,
            "linecolor": "#506784",
            "showbackground": true,
            "ticks": "",
            "zerolinecolor": "#C8D4E3"
           }
          },
          "shapedefaults": {
           "line": {
            "color": "#f2f5fa"
           }
          },
          "sliderdefaults": {
           "bgcolor": "#C8D4E3",
           "bordercolor": "rgb(17,17,17)",
           "borderwidth": 1,
           "tickwidth": 0
          },
          "ternary": {
           "aaxis": {
            "gridcolor": "#506784",
            "linecolor": "#506784",
            "ticks": ""
           },
           "baxis": {
            "gridcolor": "#506784",
            "linecolor": "#506784",
            "ticks": ""
           },
           "bgcolor": "rgb(17,17,17)",
           "caxis": {
            "gridcolor": "#506784",
            "linecolor": "#506784",
            "ticks": ""
           }
          },
          "title": {
           "x": 0.05
          },
          "updatemenudefaults": {
           "bgcolor": "#506784",
           "borderwidth": 0
          },
          "xaxis": {
           "automargin": true,
           "gridcolor": "#283442",
           "linecolor": "#506784",
           "ticks": "",
           "title": {
            "standoff": 15
           },
           "zerolinecolor": "#283442",
           "zerolinewidth": 2
          },
          "yaxis": {
           "automargin": true,
           "gridcolor": "#283442",
           "linecolor": "#506784",
           "ticks": "",
           "title": {
            "standoff": 15
           },
           "zerolinecolor": "#283442",
           "zerolinewidth": 2
          }
         }
        },
        "title": {
         "text": "Compare Motion Plots"
        },
        "xaxis": {
         "fixedrange": true,
         "showgrid": false,
         "showticklabels": false,
         "zeroline": false,
         "zerolinecolor": "gray",
         "zerolinewidth": 1
        },
        "yaxis": {
         "fixedrange": true,
         "showgrid": false,
         "showticklabels": false,
         "zeroline": false,
         "zerolinecolor": "gray",
         "zerolinewidth": 1
        }
       }
      }
     },
     "metadata": {},
     "output_type": "display_data"
    },
    {
     "name": "stdout",
     "output_type": "stream",
     "text": [
      "tensor(20., device='cuda:0')\n"
     ]
    },
    {
     "data": {
      "application/vnd.plotly.v1+json": {
       "config": {
        "plotlyServerURL": "https://plot.ly"
       },
       "data": [
        {
         "line": {
          "color": [
           0,
           1,
           2,
           3,
           4,
           5,
           6,
           7,
           8,
           9,
           10,
           11,
           12,
           13,
           14,
           15,
           16,
           17,
           18,
           19
          ],
          "colorscale": [
           [
            0,
            "#0508b8"
           ],
           [
            0.08333333333333333,
            "#1910d8"
           ],
           [
            0.16666666666666666,
            "#3c19f0"
           ],
           [
            0.25,
            "#6b1cfb"
           ],
           [
            0.3333333333333333,
            "#981cfd"
           ],
           [
            0.4166666666666667,
            "#bf1cfd"
           ],
           [
            0.5,
            "#dd2bfd"
           ],
           [
            0.5833333333333334,
            "#f246fe"
           ],
           [
            0.6666666666666666,
            "#fc67fd"
           ],
           [
            0.75,
            "#fe88fc"
           ],
           [
            0.8333333333333334,
            "#fea5fd"
           ],
           [
            0.9166666666666666,
            "#febefe"
           ],
           [
            1,
            "#fec3fe"
           ]
          ],
          "width": 4
         },
         "mode": "lines",
         "type": "scatter3d",
         "x": [
          0.07358100265264511,
          0.06448899954557419,
          0.05443299561738968,
          0.043380994349718094,
          0.031929999589920044,
          0.020344994962215424,
          0.010320000350475311,
          0.002437993884086609,
          -0.0010220035910606384,
          0,
          -0.0002180039882659912,
          -0.00025600194931030273,
          0.00013999640941619873,
          0.0013559977523982525,
          0.003077000379562378,
          0.005121998488903046,
          0.007415995001792908,
          0.009897999465465546,
          0.012096993625164032,
          0.01430799812078476
         ],
         "y": [
          0.01019500195980072,
          0.008611992001533508,
          0.007348999381065369,
          0.006730988621711731,
          0.006405994296073914,
          0.00538499653339386,
          0.005458995699882507,
          0.003541991114616394,
          0.001676991581916809,
          0,
          0.00087699294090271,
          0.0022379904985427856,
          0.0036259889602661133,
          0.005342990159988403,
          0.006469994783401489,
          0.006634995341300964,
          0.005410999059677124,
          0.002826988697052002,
          -0.0011840015649795532,
          -0.006015002727508545
         ],
         "z": [
          0.22315900027751923,
          0.20985998213291168,
          0.19408699870109558,
          0.17518199980258942,
          0.15219499170780182,
          0.12646999955177307,
          0.09566900134086609,
          0.06295900046825409,
          0.027636997401714325,
          0,
          0.007458999752998352,
          0.01558700017631054,
          0.025155000388622284,
          0.03549399971961975,
          0.04673299938440323,
          0.05868600308895111,
          0.07082600146532059,
          0.08214300125837326,
          0.09368099272251129,
          0.10357999056577682
         ]
        },
        {
         "line": {
          "color": [
           0,
           1,
           2,
           3,
           4,
           5,
           6,
           7,
           8,
           9,
           10,
           11,
           12,
           13,
           14,
           15,
           16,
           17,
           18,
           19
          ],
          "colorscale": [
           [
            0,
            "rgb(209, 238, 234)"
           ],
           [
            0.16666666666666666,
            "rgb(168, 219, 217)"
           ],
           [
            0.3333333333333333,
            "rgb(133, 196, 201)"
           ],
           [
            0.5,
            "rgb(104, 171, 184)"
           ],
           [
            0.6666666666666666,
            "rgb(79, 144, 166)"
           ],
           [
            0.8333333333333334,
            "rgb(59, 115, 143)"
           ],
           [
            1,
            "rgb(42, 86, 116)"
           ]
          ],
          "width": 2
         },
         "mode": "lines",
         "type": "scatter3d",
         "x": [
          -0.12581539154052734,
          -0.1329902708530426,
          -0.1421324908733368,
          -0.15484726428985596,
          -0.16748753190040588,
          -0.17990846931934357,
          -0.19046202301979065,
          -0.19640840590000153,
          -0.19944018125534058,
          -0.1984899640083313,
          -0.19999632239341736,
          -0.20124395191669464,
          -0.2008242905139923,
          -0.20079976320266724,
          -0.19810786843299866,
          -0.1956242173910141,
          -0.19354024529457092,
          -0.19035902619361877,
          -0.18817394971847534,
          -0.18579214811325073
         ],
         "y": [
          0.012567952275276184,
          0.01216520369052887,
          0.01084907352924347,
          0.010511256754398346,
          0.010352723300457,
          0.00956505537033081,
          0.008950136601924896,
          0.007421649992465973,
          0.003126680850982666,
          0.0013251975178718567,
          0.0019761323928833008,
          0.0029918402433395386,
          0.004249796271324158,
          0.0055929794907569885,
          0.007059834897518158,
          0.007836557924747467,
          0.007900290191173553,
          0.006278693675994873,
          0.0024879947304725647,
          -0.00043163448572158813
         ],
         "z": [
          0.2145393043756485,
          0.20199351012706757,
          0.18686455488204956,
          0.16814786195755005,
          0.149138942360878,
          0.12131133675575256,
          0.08990500867366791,
          0.05578798055648804,
          0.021579276770353317,
          0.0008246805518865585,
          0.008349543437361717,
          0.016504719853401184,
          0.02654286101460457,
          0.03693157434463501,
          0.047635287046432495,
          0.05892472714185715,
          0.07263216376304626,
          0.08158960193395615,
          0.09203183650970459,
          0.1037827879190445
         ]
        },
        {
         "line": {
          "color": [
           0,
           1,
           2,
           3,
           4,
           5,
           6,
           7,
           8,
           9,
           10,
           11,
           12,
           13,
           14,
           15,
           16,
           17,
           18,
           19
          ],
          "colorscale": [
           [
            0,
            "rgb(209, 238, 234)"
           ],
           [
            0.16666666666666666,
            "rgb(168, 219, 217)"
           ],
           [
            0.3333333333333333,
            "rgb(133, 196, 201)"
           ],
           [
            0.5,
            "rgb(104, 171, 184)"
           ],
           [
            0.6666666666666666,
            "rgb(79, 144, 166)"
           ],
           [
            0.8333333333333334,
            "rgb(59, 115, 143)"
           ],
           [
            1,
            "rgb(42, 86, 116)"
           ]
          ],
          "width": 2
         },
         "mode": "lines",
         "type": "scatter3d",
         "x": [
          -0.07575026154518127,
          -0.08530937135219574,
          -0.09414974600076675,
          -0.10675109922885895,
          -0.11861656606197357,
          -0.13029302656650543,
          -0.1397247463464737,
          -0.1458742618560791,
          -0.14833985269069672,
          -0.1486620008945465,
          -0.15057389438152313,
          -0.15181519091129303,
          -0.15159490704536438,
          -0.15113864839076996,
          -0.14820198714733124,
          -0.1452869325876236,
          -0.142881378531456,
          -0.13888074457645416,
          -0.13691505789756775,
          -0.13385510444641113
         ],
         "y": [
          0.01321430504322052,
          0.011668957769870758,
          0.009837530553340912,
          0.008598439395427704,
          0.008888393640518188,
          0.008020251989364624,
          0.00856933742761612,
          0.0074780285358428955,
          0.0034769251942634583,
          0.0011827945709228516,
          0.0016431361436843872,
          0.0036272332072257996,
          0.0041852667927742004,
          0.00627860426902771,
          0.008010916411876678,
          0.007701121270656586,
          0.007106266915798187,
          0.005156069993972778,
          -0.00041241198778152466,
          -0.0036734268069267273
         ],
         "z": [
          0.2188815474510193,
          0.20626874268054962,
          0.19229410588741302,
          0.171242356300354,
          0.15303869545459747,
          0.12423430383205414,
          0.09240943938493729,
          0.06044807285070419,
          0.02719494327902794,
          0.00029283761978149414,
          0.007186172530055046,
          0.013980122283101082,
          0.025067906826734543,
          0.033911850303411484,
          0.044616926461458206,
          0.05702091008424759,
          0.06854143738746643,
          0.07717405259609222,
          0.08766424655914307,
          0.09903720766305923
         ]
        },
        {
         "line": {
          "color": [
           0,
           1,
           2,
           3,
           4,
           5,
           6,
           7,
           8,
           9,
           10,
           11,
           12,
           13,
           14,
           15,
           16,
           17,
           18,
           19
          ],
          "colorscale": [
           [
            0,
            "rgb(209, 238, 234)"
           ],
           [
            0.16666666666666666,
            "rgb(168, 219, 217)"
           ],
           [
            0.3333333333333333,
            "rgb(133, 196, 201)"
           ],
           [
            0.5,
            "rgb(104, 171, 184)"
           ],
           [
            0.6666666666666666,
            "rgb(79, 144, 166)"
           ],
           [
            0.8333333333333334,
            "rgb(59, 115, 143)"
           ],
           [
            1,
            "rgb(42, 86, 116)"
           ]
          ],
          "width": 2
         },
         "mode": "lines",
         "type": "scatter3d",
         "x": [
          -0.024613283574581146,
          -0.035224899649620056,
          -0.04436051473021507,
          -0.056478165090084076,
          -0.0679268091917038,
          -0.07864371687173843,
          -0.0886061042547226,
          -0.09547019749879837,
          -0.09883036464452744,
          -0.09870028495788574,
          -0.09945052862167358,
          -0.09918376058340073,
          -0.09864001721143723,
          -0.09748242795467377,
          -0.09544787555932999,
          -0.09271473437547684,
          -0.09098251163959503,
          -0.08814676105976105,
          -0.08588063716888428,
          -0.08350113034248352
         ],
         "y": [
          0.007018566131591797,
          0.006039626896381378,
          0.005246281623840332,
          0.004865139722824097,
          0.005502559244632721,
          0.005801215767860413,
          0.006906166672706604,
          0.0061412230134010315,
          0.0032449662685394287,
          0.0009813830256462097,
          0.0014741793274879456,
          0.0037041157484054565,
          0.004213027656078339,
          0.006165497004985809,
          0.00762079656124115,
          0.007708661258220673,
          0.007081069052219391,
          0.00483432412147522,
          0.00011052936315536499,
          -0.003138553351163864
         ],
         "z": [
          0.22429360449314117,
          0.20835146307945251,
          0.19131086766719818,
          0.17037203907966614,
          0.15226496756076813,
          0.12425972521305084,
          0.0913718119263649,
          0.058324187994003296,
          0.025814153254032135,
          0.004461280070245266,
          0.011389441788196564,
          0.01910555735230446,
          0.026656508445739746,
          0.03570486977696419,
          0.04574272409081459,
          0.057585492730140686,
          0.06755754351615906,
          0.07539591193199158,
          0.08570101857185364,
          0.09733381867408752
         ]
        },
        {
         "line": {
          "color": [
           0,
           1,
           2,
           3,
           4,
           5,
           6,
           7,
           8,
           9,
           10,
           11,
           12,
           13,
           14,
           15,
           16,
           17,
           18,
           19
          ],
          "colorscale": [
           [
            0,
            "rgb(209, 238, 234)"
           ],
           [
            0.16666666666666666,
            "rgb(168, 219, 217)"
           ],
           [
            0.3333333333333333,
            "rgb(133, 196, 201)"
           ],
           [
            0.5,
            "rgb(104, 171, 184)"
           ],
           [
            0.6666666666666666,
            "rgb(79, 144, 166)"
           ],
           [
            0.8333333333333334,
            "rgb(59, 115, 143)"
           ],
           [
            1,
            "rgb(42, 86, 116)"
           ]
          ],
          "width": 2
         },
         "mode": "lines",
         "type": "scatter3d",
         "x": [
          0.031442638486623764,
          0.021032188087701797,
          0.01193956658244133,
          -0.0008494332432746887,
          -0.014554597437381744,
          -0.02706862799823284,
          -0.038193926215171814,
          -0.04592636600136757,
          -0.04911229759454727,
          -0.04853462427854538,
          -0.04987890273332596,
          -0.04984799399971962,
          -0.050179269164800644,
          -0.04926558583974838,
          -0.04726564139127731,
          -0.04516290873289108,
          -0.04355531185865402,
          -0.04080987721681595,
          -0.03908281773328781,
          -0.03633640706539154
         ],
         "y": [
          0.0094003826379776,
          0.007989123463630676,
          0.007221780717372894,
          0.006090305745601654,
          0.00542779266834259,
          0.005220890045166016,
          0.005492702126502991,
          0.004807464778423309,
          0.0023514702916145325,
          0.0010368451476097107,
          0.0017809420824050903,
          0.003928445279598236,
          0.005424104630947113,
          0.00719885528087616,
          0.00907723605632782,
          0.008594252169132233,
          0.008705072104930878,
          0.007712051272392273,
          0.003166608512401581,
          0.0009869188070297241
         ],
         "z": [
          0.2267429679632187,
          0.21324840188026428,
          0.198060542345047,
          0.17738980054855347,
          0.1579073965549469,
          0.12730875611305237,
          0.09397715330123901,
          0.06018366664648056,
          0.024021368473768234,
          0.0029820362105965614,
          0.010503962635993958,
          0.018146006390452385,
          0.026405375450849533,
          0.035906724631786346,
          0.04559734836220741,
          0.05727040767669678,
          0.06900841742753983,
          0.07669857889413834,
          0.08811985701322556,
          0.09952973574399948
         ]
        },
        {
         "line": {
          "color": [
           0,
           1,
           2,
           3,
           4,
           5,
           6,
           7,
           8,
           9,
           10,
           11,
           12,
           13,
           14,
           15,
           16,
           17,
           18,
           19
          ],
          "colorscale": [
           [
            0,
            "rgb(209, 238, 234)"
           ],
           [
            0.16666666666666666,
            "rgb(168, 219, 217)"
           ],
           [
            0.3333333333333333,
            "rgb(133, 196, 201)"
           ],
           [
            0.5,
            "rgb(104, 171, 184)"
           ],
           [
            0.6666666666666666,
            "rgb(79, 144, 166)"
           ],
           [
            0.8333333333333334,
            "rgb(59, 115, 143)"
           ],
           [
            1,
            "rgb(42, 86, 116)"
           ]
          ],
          "width": 2
         },
         "mode": "lines",
         "type": "scatter3d",
         "x": [
          0.1263292282819748,
          0.11669091880321503,
          0.1076774001121521,
          0.09548932313919067,
          0.08266732096672058,
          0.07146848738193512,
          0.06124206632375717,
          0.054368190467357635,
          0.05092800036072731,
          0.05157428979873657,
          0.050086598843336105,
          0.050368234515190125,
          0.05097406357526779,
          0.05222289264202118,
          0.054070308804512024,
          0.056860022246837616,
          0.05841347575187683,
          0.060436055064201355,
          0.062474608421325684,
          0.06461960822343826
         ],
         "y": [
          0.011391080915927887,
          0.009852081537246704,
          0.007576070725917816,
          0.006649382412433624,
          0.007050946354866028,
          0.005589626729488373,
          0.006063386797904968,
          0.004959091544151306,
          0.0021231919527053833,
          0.0006331279873847961,
          0.0016459748148918152,
          0.00328093022108078,
          0.003507666289806366,
          0.0058862194418907166,
          0.00712333619594574,
          0.0077766552567481995,
          0.007743865251541138,
          0.006086356937885284,
          0.0030647143721580505,
          0.0004108026623725891
         ],
         "z": [
          0.2278335988521576,
          0.21241532266139984,
          0.1954076588153839,
          0.17360655963420868,
          0.15511664748191833,
          0.12746496498584747,
          0.09484287351369858,
          0.06228746473789215,
          0.02919641137123108,
          0.0053024329245090485,
          0.011901337653398514,
          0.0182307418435812,
          0.026608586311340332,
          0.038012608885765076,
          0.04696459323167801,
          0.0599769726395607,
          0.07082227617502213,
          0.07787724584341049,
          0.08893211930990219,
          0.10012848675251007
         ]
        },
        {
         "line": {
          "color": [
           0,
           1,
           2,
           3,
           4,
           5,
           6,
           7,
           8,
           9,
           10,
           11,
           12,
           13,
           14,
           15,
           16,
           17,
           18,
           19
          ],
          "colorscale": [
           [
            0,
            "rgb(209, 238, 234)"
           ],
           [
            0.16666666666666666,
            "rgb(168, 219, 217)"
           ],
           [
            0.3333333333333333,
            "rgb(133, 196, 201)"
           ],
           [
            0.5,
            "rgb(104, 171, 184)"
           ],
           [
            0.6666666666666666,
            "rgb(79, 144, 166)"
           ],
           [
            0.8333333333333334,
            "rgb(59, 115, 143)"
           ],
           [
            1,
            "rgb(42, 86, 116)"
           ]
          ],
          "width": 2
         },
         "mode": "lines",
         "type": "scatter3d",
         "x": [
          0.1793249547481537,
          0.16924262046813965,
          0.1591760516166687,
          0.14551469683647156,
          0.1325031816959381,
          0.1194797232747078,
          0.10857003182172775,
          0.10240527987480164,
          0.09969078749418259,
          0.10099926590919495,
          0.09929032623767853,
          0.098220095038414,
          0.09930888563394547,
          0.10030665248632431,
          0.1027694046497345,
          0.10598339140415192,
          0.10812053084373474,
          0.1114918515086174,
          0.11251629143953323,
          0.11434508860111237
         ],
         "y": [
          0.007933177053928375,
          0.007466182112693787,
          0.005907520651817322,
          0.005219116806983948,
          0.005472719669342041,
          0.005025215446949005,
          0.005811765789985657,
          0.005496032536029816,
          0.00240471214056015,
          0.0012479424476623535,
          0.0012882649898529053,
          0.0028609558939933777,
          0.00322888046503067,
          0.004399552941322327,
          0.004610486328601837,
          0.003985889256000519,
          0.0034074708819389343,
          0.001091688871383667,
          -0.003537498414516449,
          -0.006723713129758835
         ],
         "z": [
          0.22149470448493958,
          0.20694956183433533,
          0.19229108095169067,
          0.17184144258499146,
          0.15332232415676117,
          0.1219916045665741,
          0.08993326872587204,
          0.05413466691970825,
          0.020119989290833473,
          -0.0012581199407577515,
          0.005682071670889854,
          0.013101276010274887,
          0.022444430738687515,
          0.03345821425318718,
          0.04561803862452507,
          0.057670868933200836,
          0.0689600482583046,
          0.07669108361005783,
          0.08673172444105148,
          0.096391960978508
         ]
        },
        {
         "line": {
          "color": [
           0,
           1,
           2,
           3,
           4,
           5,
           6,
           7,
           8,
           9,
           10,
           11,
           12,
           13,
           14,
           15,
           16,
           17,
           18,
           19
          ],
          "colorscale": [
           [
            0,
            "rgb(209, 238, 234)"
           ],
           [
            0.16666666666666666,
            "rgb(168, 219, 217)"
           ],
           [
            0.3333333333333333,
            "rgb(133, 196, 201)"
           ],
           [
            0.5,
            "rgb(104, 171, 184)"
           ],
           [
            0.6666666666666666,
            "rgb(79, 144, 166)"
           ],
           [
            0.8333333333333334,
            "rgb(59, 115, 143)"
           ],
           [
            1,
            "rgb(42, 86, 116)"
           ]
          ],
          "width": 2
         },
         "mode": "lines",
         "type": "scatter3d",
         "x": [
          0.22930216789245605,
          0.2194337546825409,
          0.20945987105369568,
          0.19638721644878387,
          0.18323194980621338,
          0.17032283544540405,
          0.1598988175392151,
          0.1531190574169159,
          0.1506752371788025,
          0.15108023583889008,
          0.14940932393074036,
          0.14898955821990967,
          0.14911912381649017,
          0.1497749537229538,
          0.15238076448440552,
          0.15566325187683105,
          0.15770307183265686,
          0.16134695708751678,
          0.1646287441253662,
          0.1678919792175293
         ],
         "y": [
          0.014058999717235565,
          0.013066768646240234,
          0.011776387691497803,
          0.011315681040287018,
          0.010777972638607025,
          0.009912766516208649,
          0.009140156209468842,
          0.007203444838523865,
          0.0030109211802482605,
          0.0011814981698989868,
          0.0014530494809150696,
          0.0031121522188186646,
          0.004758104681968689,
          0.006411895155906677,
          0.0081266388297081,
          0.008059188723564148,
          0.007135964930057526,
          0.004756726324558258,
          -0.0008009001612663269,
          -0.004207916557788849
         ],
         "z": [
          0.22772200405597687,
          0.21272113919258118,
          0.1962447315454483,
          0.1751420944929123,
          0.15465755760669708,
          0.12487569451332092,
          0.08934016525745392,
          0.05467187613248825,
          0.01835690438747406,
          0.000988301821053028,
          0.007219318300485611,
          0.0123343076556921,
          0.021812066435813904,
          0.031465694308280945,
          0.04308384284377098,
          0.05478193610906601,
          0.06764334440231323,
          0.07768675684928894,
          0.08942309767007828,
          0.10119326412677765
         ]
        },
        {
         "line": {
          "color": [
           0,
           1,
           2,
           3,
           4,
           5,
           6,
           7,
           8,
           9,
           10,
           11,
           12,
           13,
           14,
           15,
           16,
           17,
           18,
           19
          ],
          "colorscale": [
           [
            0,
            "rgb(209, 238, 234)"
           ],
           [
            0.16666666666666666,
            "rgb(168, 219, 217)"
           ],
           [
            0.3333333333333333,
            "rgb(133, 196, 201)"
           ],
           [
            0.5,
            "rgb(104, 171, 184)"
           ],
           [
            0.6666666666666666,
            "rgb(79, 144, 166)"
           ],
           [
            0.8333333333333334,
            "rgb(59, 115, 143)"
           ],
           [
            1,
            "rgb(42, 86, 116)"
           ]
          ],
          "width": 2
         },
         "mode": "lines",
         "type": "scatter3d",
         "x": [
          0.27380266785621643,
          0.2666345536708832,
          0.25761672854423523,
          0.24459002912044525,
          0.2319728136062622,
          0.2190840244293213,
          0.2084537148475647,
          0.20297208428382874,
          0.19992536306381226,
          0.20071722567081451,
          0.19943594932556152,
          0.197898730635643,
          0.198619082570076,
          0.19926607608795166,
          0.2022625207901001,
          0.2053225040435791,
          0.20740091800689697,
          0.21100352704524994,
          0.21258971095085144,
          0.21529825031757355
         ],
         "y": [
          0.012931816279888153,
          0.012191139161586761,
          0.010799489915370941,
          0.010023824870586395,
          0.01041768491268158,
          0.00940820574760437,
          0.009393282234668732,
          0.008103244006633759,
          0.00306488573551178,
          0.0021677836775779724,
          0.002600163221359253,
          0.004161655902862549,
          0.005559608340263367,
          0.007193766534328461,
          0.0087205171585083,
          0.00921688973903656,
          0.009665213525295258,
          0.008490987122058868,
          0.004602961242198944,
          0.002758242189884186
         ],
         "z": [
          0.21586762368679047,
          0.20270399749279022,
          0.18937751650810242,
          0.1683487892150879,
          0.14896690845489502,
          0.12016285955905914,
          0.08705076575279236,
          0.051739417016506195,
          0.016302620992064476,
          -0.0025475965812802315,
          0.003978008404374123,
          0.009986966848373413,
          0.02012346126139164,
          0.03076038509607315,
          0.0416906476020813,
          0.05522911250591278,
          0.06866878271102905,
          0.07742490619421005,
          0.08752033859491348,
          0.09971988201141357
         ]
        },
        {
         "marker": {
          "size": 0.1
         },
         "mode": "markers",
         "type": "scatter3d",
         "x": [
          -0.1,
          0.1
         ],
         "y": [
          -0.1,
          0.1
         ],
         "z": [
          0,
          0.1
         ]
        }
       ],
       "layout": {
        "coloraxis": {
         "showscale": false
        },
        "font": {
         "color": "white",
         "family": "Roboto, monospace",
         "size": 12
        },
        "height": 800,
        "margin": {
         "b": 50,
         "l": 5,
         "r": 5,
         "t": 50
        },
        "scene": {
         "aspectratio": {
          "x": 1,
          "y": 1,
          "z": 1
         },
         "camera": {
          "eye": {
           "x": -1.5,
           "y": 1.5,
           "z": 1.5
          },
          "up": {
           "x": 0,
           "y": 0,
           "z": 1
          }
         }
        },
        "showlegend": false,
        "template": {
         "data": {
          "bar": [
           {
            "error_x": {
             "color": "#f2f5fa"
            },
            "error_y": {
             "color": "#f2f5fa"
            },
            "marker": {
             "line": {
              "color": "rgb(17,17,17)",
              "width": 0.5
             },
             "pattern": {
              "fillmode": "overlay",
              "size": 10,
              "solidity": 0.2
             }
            },
            "type": "bar"
           }
          ],
          "barpolar": [
           {
            "marker": {
             "line": {
              "color": "rgb(17,17,17)",
              "width": 0.5
             },
             "pattern": {
              "fillmode": "overlay",
              "size": 10,
              "solidity": 0.2
             }
            },
            "type": "barpolar"
           }
          ],
          "carpet": [
           {
            "aaxis": {
             "endlinecolor": "#A2B1C6",
             "gridcolor": "#506784",
             "linecolor": "#506784",
             "minorgridcolor": "#506784",
             "startlinecolor": "#A2B1C6"
            },
            "baxis": {
             "endlinecolor": "#A2B1C6",
             "gridcolor": "#506784",
             "linecolor": "#506784",
             "minorgridcolor": "#506784",
             "startlinecolor": "#A2B1C6"
            },
            "type": "carpet"
           }
          ],
          "choropleth": [
           {
            "colorbar": {
             "outlinewidth": 0,
             "ticks": ""
            },
            "type": "choropleth"
           }
          ],
          "contour": [
           {
            "colorbar": {
             "outlinewidth": 0,
             "ticks": ""
            },
            "colorscale": [
             [
              0,
              "#0d0887"
             ],
             [
              0.1111111111111111,
              "#46039f"
             ],
             [
              0.2222222222222222,
              "#7201a8"
             ],
             [
              0.3333333333333333,
              "#9c179e"
             ],
             [
              0.4444444444444444,
              "#bd3786"
             ],
             [
              0.5555555555555556,
              "#d8576b"
             ],
             [
              0.6666666666666666,
              "#ed7953"
             ],
             [
              0.7777777777777778,
              "#fb9f3a"
             ],
             [
              0.8888888888888888,
              "#fdca26"
             ],
             [
              1,
              "#f0f921"
             ]
            ],
            "type": "contour"
           }
          ],
          "contourcarpet": [
           {
            "colorbar": {
             "outlinewidth": 0,
             "ticks": ""
            },
            "type": "contourcarpet"
           }
          ],
          "heatmap": [
           {
            "colorbar": {
             "outlinewidth": 0,
             "ticks": ""
            },
            "colorscale": [
             [
              0,
              "#0d0887"
             ],
             [
              0.1111111111111111,
              "#46039f"
             ],
             [
              0.2222222222222222,
              "#7201a8"
             ],
             [
              0.3333333333333333,
              "#9c179e"
             ],
             [
              0.4444444444444444,
              "#bd3786"
             ],
             [
              0.5555555555555556,
              "#d8576b"
             ],
             [
              0.6666666666666666,
              "#ed7953"
             ],
             [
              0.7777777777777778,
              "#fb9f3a"
             ],
             [
              0.8888888888888888,
              "#fdca26"
             ],
             [
              1,
              "#f0f921"
             ]
            ],
            "type": "heatmap"
           }
          ],
          "heatmapgl": [
           {
            "colorbar": {
             "outlinewidth": 0,
             "ticks": ""
            },
            "colorscale": [
             [
              0,
              "#0d0887"
             ],
             [
              0.1111111111111111,
              "#46039f"
             ],
             [
              0.2222222222222222,
              "#7201a8"
             ],
             [
              0.3333333333333333,
              "#9c179e"
             ],
             [
              0.4444444444444444,
              "#bd3786"
             ],
             [
              0.5555555555555556,
              "#d8576b"
             ],
             [
              0.6666666666666666,
              "#ed7953"
             ],
             [
              0.7777777777777778,
              "#fb9f3a"
             ],
             [
              0.8888888888888888,
              "#fdca26"
             ],
             [
              1,
              "#f0f921"
             ]
            ],
            "type": "heatmapgl"
           }
          ],
          "histogram": [
           {
            "marker": {
             "pattern": {
              "fillmode": "overlay",
              "size": 10,
              "solidity": 0.2
             }
            },
            "type": "histogram"
           }
          ],
          "histogram2d": [
           {
            "colorbar": {
             "outlinewidth": 0,
             "ticks": ""
            },
            "colorscale": [
             [
              0,
              "#0d0887"
             ],
             [
              0.1111111111111111,
              "#46039f"
             ],
             [
              0.2222222222222222,
              "#7201a8"
             ],
             [
              0.3333333333333333,
              "#9c179e"
             ],
             [
              0.4444444444444444,
              "#bd3786"
             ],
             [
              0.5555555555555556,
              "#d8576b"
             ],
             [
              0.6666666666666666,
              "#ed7953"
             ],
             [
              0.7777777777777778,
              "#fb9f3a"
             ],
             [
              0.8888888888888888,
              "#fdca26"
             ],
             [
              1,
              "#f0f921"
             ]
            ],
            "type": "histogram2d"
           }
          ],
          "histogram2dcontour": [
           {
            "colorbar": {
             "outlinewidth": 0,
             "ticks": ""
            },
            "colorscale": [
             [
              0,
              "#0d0887"
             ],
             [
              0.1111111111111111,
              "#46039f"
             ],
             [
              0.2222222222222222,
              "#7201a8"
             ],
             [
              0.3333333333333333,
              "#9c179e"
             ],
             [
              0.4444444444444444,
              "#bd3786"
             ],
             [
              0.5555555555555556,
              "#d8576b"
             ],
             [
              0.6666666666666666,
              "#ed7953"
             ],
             [
              0.7777777777777778,
              "#fb9f3a"
             ],
             [
              0.8888888888888888,
              "#fdca26"
             ],
             [
              1,
              "#f0f921"
             ]
            ],
            "type": "histogram2dcontour"
           }
          ],
          "mesh3d": [
           {
            "colorbar": {
             "outlinewidth": 0,
             "ticks": ""
            },
            "type": "mesh3d"
           }
          ],
          "parcoords": [
           {
            "line": {
             "colorbar": {
              "outlinewidth": 0,
              "ticks": ""
             }
            },
            "type": "parcoords"
           }
          ],
          "pie": [
           {
            "automargin": true,
            "type": "pie"
           }
          ],
          "scatter": [
           {
            "marker": {
             "line": {
              "color": "#283442"
             }
            },
            "type": "scatter"
           }
          ],
          "scatter3d": [
           {
            "line": {
             "colorbar": {
              "outlinewidth": 0,
              "ticks": ""
             }
            },
            "marker": {
             "colorbar": {
              "outlinewidth": 0,
              "ticks": ""
             }
            },
            "type": "scatter3d"
           }
          ],
          "scattercarpet": [
           {
            "marker": {
             "colorbar": {
              "outlinewidth": 0,
              "ticks": ""
             }
            },
            "type": "scattercarpet"
           }
          ],
          "scattergeo": [
           {
            "marker": {
             "colorbar": {
              "outlinewidth": 0,
              "ticks": ""
             }
            },
            "type": "scattergeo"
           }
          ],
          "scattergl": [
           {
            "marker": {
             "line": {
              "color": "#283442"
             }
            },
            "type": "scattergl"
           }
          ],
          "scattermapbox": [
           {
            "marker": {
             "colorbar": {
              "outlinewidth": 0,
              "ticks": ""
             }
            },
            "type": "scattermapbox"
           }
          ],
          "scatterpolar": [
           {
            "marker": {
             "colorbar": {
              "outlinewidth": 0,
              "ticks": ""
             }
            },
            "type": "scatterpolar"
           }
          ],
          "scatterpolargl": [
           {
            "marker": {
             "colorbar": {
              "outlinewidth": 0,
              "ticks": ""
             }
            },
            "type": "scatterpolargl"
           }
          ],
          "scatterternary": [
           {
            "marker": {
             "colorbar": {
              "outlinewidth": 0,
              "ticks": ""
             }
            },
            "type": "scatterternary"
           }
          ],
          "surface": [
           {
            "colorbar": {
             "outlinewidth": 0,
             "ticks": ""
            },
            "colorscale": [
             [
              0,
              "#0d0887"
             ],
             [
              0.1111111111111111,
              "#46039f"
             ],
             [
              0.2222222222222222,
              "#7201a8"
             ],
             [
              0.3333333333333333,
              "#9c179e"
             ],
             [
              0.4444444444444444,
              "#bd3786"
             ],
             [
              0.5555555555555556,
              "#d8576b"
             ],
             [
              0.6666666666666666,
              "#ed7953"
             ],
             [
              0.7777777777777778,
              "#fb9f3a"
             ],
             [
              0.8888888888888888,
              "#fdca26"
             ],
             [
              1,
              "#f0f921"
             ]
            ],
            "type": "surface"
           }
          ],
          "table": [
           {
            "cells": {
             "fill": {
              "color": "#506784"
             },
             "line": {
              "color": "rgb(17,17,17)"
             }
            },
            "header": {
             "fill": {
              "color": "#2a3f5f"
             },
             "line": {
              "color": "rgb(17,17,17)"
             }
            },
            "type": "table"
           }
          ]
         },
         "layout": {
          "annotationdefaults": {
           "arrowcolor": "#f2f5fa",
           "arrowhead": 0,
           "arrowwidth": 1
          },
          "autotypenumbers": "strict",
          "coloraxis": {
           "colorbar": {
            "outlinewidth": 0,
            "ticks": ""
           }
          },
          "colorscale": {
           "diverging": [
            [
             0,
             "#8e0152"
            ],
            [
             0.1,
             "#c51b7d"
            ],
            [
             0.2,
             "#de77ae"
            ],
            [
             0.3,
             "#f1b6da"
            ],
            [
             0.4,
             "#fde0ef"
            ],
            [
             0.5,
             "#f7f7f7"
            ],
            [
             0.6,
             "#e6f5d0"
            ],
            [
             0.7,
             "#b8e186"
            ],
            [
             0.8,
             "#7fbc41"
            ],
            [
             0.9,
             "#4d9221"
            ],
            [
             1,
             "#276419"
            ]
           ],
           "sequential": [
            [
             0,
             "#0d0887"
            ],
            [
             0.1111111111111111,
             "#46039f"
            ],
            [
             0.2222222222222222,
             "#7201a8"
            ],
            [
             0.3333333333333333,
             "#9c179e"
            ],
            [
             0.4444444444444444,
             "#bd3786"
            ],
            [
             0.5555555555555556,
             "#d8576b"
            ],
            [
             0.6666666666666666,
             "#ed7953"
            ],
            [
             0.7777777777777778,
             "#fb9f3a"
            ],
            [
             0.8888888888888888,
             "#fdca26"
            ],
            [
             1,
             "#f0f921"
            ]
           ],
           "sequentialminus": [
            [
             0,
             "#0d0887"
            ],
            [
             0.1111111111111111,
             "#46039f"
            ],
            [
             0.2222222222222222,
             "#7201a8"
            ],
            [
             0.3333333333333333,
             "#9c179e"
            ],
            [
             0.4444444444444444,
             "#bd3786"
            ],
            [
             0.5555555555555556,
             "#d8576b"
            ],
            [
             0.6666666666666666,
             "#ed7953"
            ],
            [
             0.7777777777777778,
             "#fb9f3a"
            ],
            [
             0.8888888888888888,
             "#fdca26"
            ],
            [
             1,
             "#f0f921"
            ]
           ]
          },
          "colorway": [
           "#636efa",
           "#EF553B",
           "#00cc96",
           "#ab63fa",
           "#FFA15A",
           "#19d3f3",
           "#FF6692",
           "#B6E880",
           "#FF97FF",
           "#FECB52"
          ],
          "font": {
           "color": "#f2f5fa"
          },
          "geo": {
           "bgcolor": "rgb(17,17,17)",
           "lakecolor": "rgb(17,17,17)",
           "landcolor": "rgb(17,17,17)",
           "showlakes": true,
           "showland": true,
           "subunitcolor": "#506784"
          },
          "hoverlabel": {
           "align": "left"
          },
          "hovermode": "closest",
          "mapbox": {
           "style": "dark"
          },
          "paper_bgcolor": "rgb(17,17,17)",
          "plot_bgcolor": "rgb(17,17,17)",
          "polar": {
           "angularaxis": {
            "gridcolor": "#506784",
            "linecolor": "#506784",
            "ticks": ""
           },
           "bgcolor": "rgb(17,17,17)",
           "radialaxis": {
            "gridcolor": "#506784",
            "linecolor": "#506784",
            "ticks": ""
           }
          },
          "scene": {
           "xaxis": {
            "backgroundcolor": "rgb(17,17,17)",
            "gridcolor": "#506784",
            "gridwidth": 2,
            "linecolor": "#506784",
            "showbackground": true,
            "ticks": "",
            "zerolinecolor": "#C8D4E3"
           },
           "yaxis": {
            "backgroundcolor": "rgb(17,17,17)",
            "gridcolor": "#506784",
            "gridwidth": 2,
            "linecolor": "#506784",
            "showbackground": true,
            "ticks": "",
            "zerolinecolor": "#C8D4E3"
           },
           "zaxis": {
            "backgroundcolor": "rgb(17,17,17)",
            "gridcolor": "#506784",
            "gridwidth": 2,
            "linecolor": "#506784",
            "showbackground": true,
            "ticks": "",
            "zerolinecolor": "#C8D4E3"
           }
          },
          "shapedefaults": {
           "line": {
            "color": "#f2f5fa"
           }
          },
          "sliderdefaults": {
           "bgcolor": "#C8D4E3",
           "bordercolor": "rgb(17,17,17)",
           "borderwidth": 1,
           "tickwidth": 0
          },
          "ternary": {
           "aaxis": {
            "gridcolor": "#506784",
            "linecolor": "#506784",
            "ticks": ""
           },
           "baxis": {
            "gridcolor": "#506784",
            "linecolor": "#506784",
            "ticks": ""
           },
           "bgcolor": "rgb(17,17,17)",
           "caxis": {
            "gridcolor": "#506784",
            "linecolor": "#506784",
            "ticks": ""
           }
          },
          "title": {
           "x": 0.05
          },
          "updatemenudefaults": {
           "bgcolor": "#506784",
           "borderwidth": 0
          },
          "xaxis": {
           "automargin": true,
           "gridcolor": "#283442",
           "linecolor": "#506784",
           "ticks": "",
           "title": {
            "standoff": 15
           },
           "zerolinecolor": "#283442",
           "zerolinewidth": 2
          },
          "yaxis": {
           "automargin": true,
           "gridcolor": "#283442",
           "linecolor": "#506784",
           "ticks": "",
           "title": {
            "standoff": 15
           },
           "zerolinecolor": "#283442",
           "zerolinewidth": 2
          }
         }
        },
        "title": {
         "text": "Compare Motion Plots"
        },
        "xaxis": {
         "fixedrange": true,
         "showgrid": false,
         "showticklabels": false,
         "zeroline": false,
         "zerolinecolor": "gray",
         "zerolinewidth": 1
        },
        "yaxis": {
         "fixedrange": true,
         "showgrid": false,
         "showticklabels": false,
         "zeroline": false,
         "zerolinecolor": "gray",
         "zerolinewidth": 1
        }
       }
      }
     },
     "metadata": {},
     "output_type": "display_data"
    },
    {
     "name": "stdout",
     "output_type": "stream",
     "text": [
      "tensor(0., device='cuda:0')\n"
     ]
    },
    {
     "data": {
      "application/vnd.plotly.v1+json": {
       "config": {
        "plotlyServerURL": "https://plot.ly"
       },
       "data": [
        {
         "line": {
          "color": [
           0,
           1,
           2,
           3,
           4,
           5,
           6,
           7,
           8,
           9,
           10,
           11,
           12,
           13,
           14,
           15,
           16,
           17,
           18,
           19
          ],
          "colorscale": [
           [
            0,
            "#0508b8"
           ],
           [
            0.08333333333333333,
            "#1910d8"
           ],
           [
            0.16666666666666666,
            "#3c19f0"
           ],
           [
            0.25,
            "#6b1cfb"
           ],
           [
            0.3333333333333333,
            "#981cfd"
           ],
           [
            0.4166666666666667,
            "#bf1cfd"
           ],
           [
            0.5,
            "#dd2bfd"
           ],
           [
            0.5833333333333334,
            "#f246fe"
           ],
           [
            0.6666666666666666,
            "#fc67fd"
           ],
           [
            0.75,
            "#fe88fc"
           ],
           [
            0.8333333333333334,
            "#fea5fd"
           ],
           [
            0.9166666666666666,
            "#febefe"
           ],
           [
            1,
            "#fec3fe"
           ]
          ],
          "width": 4
         },
         "mode": "lines",
         "type": "scatter3d",
         "x": [
          0.0971050038933754,
          0.08594699949026108,
          0.07438699901103973,
          0.06253699958324432,
          0.05033600330352783,
          0.03793499991297722,
          0.025614000856876373,
          0.014467000961303711,
          0.0051840003579854965,
          0,
          0.0013950001448392868,
          0.0029180003330111504,
          0.004542999900877476,
          0.006571999751031399,
          0.008999999612569809,
          0.0115789994597435,
          0.014337999746203423,
          0.0173799991607666,
          0.020659999921917915,
          0.02420799992978573
         ],
         "y": [
          -0.0001670047640800476,
          0.00008299946784973145,
          -0.000009998679161071777,
          -0.0008239969611167908,
          -0.0009519979357719421,
          -0.0009690001606941223,
          -0.0010850019752979279,
          -0.00134199857711792,
          -0.00038900226354599,
          0,
          -0.0021880008280277252,
          -0.004940003156661987,
          -0.007551997900009155,
          -0.010378003120422363,
          -0.013099998235702515,
          -0.014980003237724304,
          -0.015734001994132996,
          -0.01530100405216217,
          -0.014092996716499329,
          -0.012436002492904663
         ],
         "z": [
          0.19525200128555298,
          0.1823899894952774,
          0.16765597462654114,
          0.15076297521591187,
          0.1312749981880188,
          0.10929100215435028,
          0.08448800444602966,
          0.05681699514389038,
          0.02700899913907051,
          0,
          0.004852999001741409,
          0.009073998779058456,
          0.013232998549938202,
          0.017657000571489334,
          0.022424999624490738,
          0.028000004589557648,
          0.034623000770807266,
          0.042539000511169434,
          0.05123399570584297,
          0.060388997197151184
         ]
        },
        {
         "line": {
          "color": [
           0,
           1,
           2,
           3,
           4,
           5,
           6,
           7,
           8,
           9,
           10,
           11,
           12,
           13,
           14,
           15,
           16,
           17,
           18,
           19
          ],
          "colorscale": [
           [
            0,
            "rgb(209, 238, 234)"
           ],
           [
            0.16666666666666666,
            "rgb(168, 219, 217)"
           ],
           [
            0.3333333333333333,
            "rgb(133, 196, 201)"
           ],
           [
            0.5,
            "rgb(104, 171, 184)"
           ],
           [
            0.6666666666666666,
            "rgb(79, 144, 166)"
           ],
           [
            0.8333333333333334,
            "rgb(59, 115, 143)"
           ],
           [
            1,
            "rgb(42, 86, 116)"
           ]
          ],
          "width": 2
         },
         "mode": "lines",
         "type": "scatter3d",
         "x": [
          -0.10229691863059998,
          -0.11259569972753525,
          -0.12369336187839508,
          -0.13674095273017883,
          -0.14874212443828583,
          -0.16325919330120087,
          -0.1769702434539795,
          -0.18784257769584656,
          -0.197163388133049,
          -0.20076583325862885,
          -0.19957390427589417,
          -0.19927439093589783,
          -0.19860024750232697,
          -0.19580058753490448,
          -0.19384369254112244,
          -0.19095204770565033,
          -0.18818557262420654,
          -0.1837569773197174,
          -0.18119293451309204,
          -0.17691819369792938
         ],
         "y": [
          0.004028774797916412,
          0.002876102924346924,
          0.0027751922607421875,
          0.0026478394865989685,
          0.003529064357280731,
          0.00384531170129776,
          0.00345660001039505,
          0.003417983651161194,
          0.002376146614551544,
          0.0016258656978607178,
          -0.0014922693371772766,
          -0.003531482070684433,
          -0.006677642464637756,
          -0.009127158671617508,
          -0.010105673223733902,
          -0.011198319494724274,
          -0.010834868997335434,
          -0.011192772537469864,
          -0.013111669570207596,
          -0.01136106252670288
         ],
         "z": [
          0.19654636085033417,
          0.18483862280845642,
          0.1719062328338623,
          0.15460781753063202,
          0.13583818078041077,
          0.11256365478038788,
          0.08202055841684341,
          0.04947529733181,
          0.017650743946433067,
          -0.007424512878060341,
          -0.005733025260269642,
          -0.001910824328660965,
          0.002473868429660797,
          0.007239358499646187,
          0.013306278735399246,
          0.020756348967552185,
          0.027868129312992096,
          0.03740096464753151,
          0.04540451243519783,
          0.05293125659227371
         ]
        },
        {
         "line": {
          "color": [
           0,
           1,
           2,
           3,
           4,
           5,
           6,
           7,
           8,
           9,
           10,
           11,
           12,
           13,
           14,
           15,
           16,
           17,
           18,
           19
          ],
          "colorscale": [
           [
            0,
            "rgb(209, 238, 234)"
           ],
           [
            0.16666666666666666,
            "rgb(168, 219, 217)"
           ],
           [
            0.3333333333333333,
            "rgb(133, 196, 201)"
           ],
           [
            0.5,
            "rgb(104, 171, 184)"
           ],
           [
            0.6666666666666666,
            "rgb(79, 144, 166)"
           ],
           [
            0.8333333333333334,
            "rgb(59, 115, 143)"
           ],
           [
            1,
            "rgb(42, 86, 116)"
           ]
          ],
          "width": 2
         },
         "mode": "lines",
         "type": "scatter3d",
         "x": [
          -0.05399453639984131,
          -0.06505418568849564,
          -0.0759841576218605,
          -0.08929283171892166,
          -0.10081379860639572,
          -0.11379143595695496,
          -0.12675079703330994,
          -0.1371934413909912,
          -0.14737704396247864,
          -0.15080808103084564,
          -0.14950630068778992,
          -0.1494932621717453,
          -0.14815816283226013,
          -0.14538832008838654,
          -0.14347323775291443,
          -0.14098697900772095,
          -0.13836607336997986,
          -0.13429906964302063,
          -0.13166333734989166,
          -0.12647932767868042
         ],
         "y": [
          -0.0019332319498062134,
          -0.003288082778453827,
          -0.002494383603334427,
          -0.0019112788140773773,
          -0.001009862869977951,
          -0.0005122050642967224,
          0.00022668391466140747,
          0.0008957013487815857,
          0.0007828176021575928,
          0.0015351399779319763,
          -0.0012607239186763763,
          -0.0035290569067001343,
          -0.00669243186712265,
          -0.010006655007600784,
          -0.011408824473619461,
          -0.013070881366729736,
          -0.012534812092781067,
          -0.012608904391527176,
          -0.014481969177722931,
          -0.012102130800485611
         ],
         "z": [
          0.1944274604320526,
          0.18056489527225494,
          0.16693811118602753,
          0.14745749533176422,
          0.12996692955493927,
          0.10694586485624313,
          0.08023063093423843,
          0.050401147454977036,
          0.020897872745990753,
          -0.007424749433994293,
          -0.0028345994651317596,
          0.0020248880609869957,
          0.007186621427536011,
          0.013067865744233131,
          0.01971757598221302,
          0.026265639811754227,
          0.034174587577581406,
          0.044003188610076904,
          0.05255126953125,
          0.06256545335054398
         ]
        },
        {
         "line": {
          "color": [
           0,
           1,
           2,
           3,
           4,
           5,
           6,
           7,
           8,
           9,
           10,
           11,
           12,
           13,
           14,
           15,
           16,
           17,
           18,
           19
          ],
          "colorscale": [
           [
            0,
            "rgb(209, 238, 234)"
           ],
           [
            0.16666666666666666,
            "rgb(168, 219, 217)"
           ],
           [
            0.3333333333333333,
            "rgb(133, 196, 201)"
           ],
           [
            0.5,
            "rgb(104, 171, 184)"
           ],
           [
            0.6666666666666666,
            "rgb(79, 144, 166)"
           ],
           [
            0.8333333333333334,
            "rgb(59, 115, 143)"
           ],
           [
            1,
            "rgb(42, 86, 116)"
           ]
          ],
          "width": 2
         },
         "mode": "lines",
         "type": "scatter3d",
         "x": [
          -0.009485334157943726,
          -0.019616514444351196,
          -0.02957647293806076,
          -0.041929490864276886,
          -0.052893754094839096,
          -0.0654229149222374,
          -0.07749797403812408,
          -0.08742257207632065,
          -0.09662596136331558,
          -0.10019449889659882,
          -0.09881427884101868,
          -0.09841839224100113,
          -0.09812719374895096,
          -0.09539338201284409,
          -0.09347666054964066,
          -0.09113571792840958,
          -0.08877139538526535,
          -0.08560382574796677,
          -0.08354946970939636,
          -0.08011867105960846
         ],
         "y": [
          -0.0017037279903888702,
          -0.0019352026283740997,
          -0.0018903091549873352,
          -0.00235690176486969,
          -0.0021477118134498596,
          -0.0021156519651412964,
          -0.0016001537442207336,
          -0.0005054101347923279,
          0.0005248859524726868,
          0.0008770003914833069,
          -0.002160552889108658,
          -0.004673991352319717,
          -0.0080510713160038,
          -0.01142413541674614,
          -0.012909114360809326,
          -0.014365512877702713,
          -0.013703271746635437,
          -0.013042818754911423,
          -0.013251859694719315,
          -0.010077469050884247
         ],
         "z": [
          0.18708279728889465,
          0.17697110772132874,
          0.16362248361110687,
          0.1470303237438202,
          0.1288268119096756,
          0.10645590722560883,
          0.07867629826068878,
          0.04976104199886322,
          0.02107107639312744,
          -0.0030063120648264885,
          -0.0011309850960969925,
          0.0039411671459674835,
          0.009131306782364845,
          0.014284871518611908,
          0.019255630671977997,
          0.02632846310734749,
          0.032386962324380875,
          0.039628542959690094,
          0.04540759325027466,
          0.05142389237880707
         ]
        },
        {
         "line": {
          "color": [
           0,
           1,
           2,
           3,
           4,
           5,
           6,
           7,
           8,
           9,
           10,
           11,
           12,
           13,
           14,
           15,
           16,
           17,
           18,
           19
          ],
          "colorscale": [
           [
            0,
            "rgb(209, 238, 234)"
           ],
           [
            0.16666666666666666,
            "rgb(168, 219, 217)"
           ],
           [
            0.3333333333333333,
            "rgb(133, 196, 201)"
           ],
           [
            0.5,
            "rgb(104, 171, 184)"
           ],
           [
            0.6666666666666666,
            "rgb(79, 144, 166)"
           ],
           [
            0.8333333333333334,
            "rgb(59, 115, 143)"
           ],
           [
            1,
            "rgb(42, 86, 116)"
           ]
          ],
          "width": 2
         },
         "mode": "lines",
         "type": "scatter3d",
         "x": [
          0.04610253497958183,
          0.03595377132296562,
          0.025493469089269638,
          0.012198168784379959,
          0.0006232187151908875,
          -0.01345590129494667,
          -0.026936601847410202,
          -0.03786032274365425,
          -0.04769350588321686,
          -0.05029446259140968,
          -0.049635954201221466,
          -0.05016729608178139,
          -0.04903975874185562,
          -0.04643084108829498,
          -0.044762030243873596,
          -0.04238182678818703,
          -0.040022484958171844,
          -0.036221884191036224,
          -0.03384307771921158,
          -0.03019315004348755
         ],
         "y": [
          0.0013976991176605225,
          0.0005467385053634644,
          -0.0007446557283401489,
          -0.0010967925190925598,
          -0.0014753974974155426,
          -0.0017828382551670074,
          -0.0012527555227279663,
          0.000055417418479919434,
          0.00038623809814453125,
          0.0017109736800193787,
          -0.0015907809138298035,
          -0.0041112229228019714,
          -0.007765877991914749,
          -0.011873442679643631,
          -0.013532541692256927,
          -0.014468394219875336,
          -0.01382971927523613,
          -0.013412192463874817,
          -0.013481363654136658,
          -0.010478556156158447
         ],
         "z": [
          0.19926980137825012,
          0.1878213733434677,
          0.17287902534008026,
          0.1548880934715271,
          0.13697174191474915,
          0.11201922595500946,
          0.0823879987001419,
          0.05100967362523079,
          0.018987545743584633,
          -0.007565824780613184,
          -0.006808245554566383,
          -0.0007048342376947403,
          0.0042913323268294334,
          0.011366130784153938,
          0.016458002850413322,
          0.02416094020009041,
          0.0314062237739563,
          0.03908218815922737,
          0.046677734702825546,
          0.05267024040222168
         ]
        },
        {
         "line": {
          "color": [
           0,
           1,
           2,
           3,
           4,
           5,
           6,
           7,
           8,
           9,
           10,
           11,
           12,
           13,
           14,
           15,
           16,
           17,
           18,
           19
          ],
          "colorscale": [
           [
            0,
            "rgb(209, 238, 234)"
           ],
           [
            0.16666666666666666,
            "rgb(168, 219, 217)"
           ],
           [
            0.3333333333333333,
            "rgb(133, 196, 201)"
           ],
           [
            0.5,
            "rgb(104, 171, 184)"
           ],
           [
            0.6666666666666666,
            "rgb(79, 144, 166)"
           ],
           [
            0.8333333333333334,
            "rgb(59, 115, 143)"
           ],
           [
            1,
            "rgb(42, 86, 116)"
           ]
          ],
          "width": 2
         },
         "mode": "lines",
         "type": "scatter3d",
         "x": [
          0.14390969276428223,
          0.13285750150680542,
          0.12229818105697632,
          0.11021086573600769,
          0.09956853091716766,
          0.08699043095111847,
          0.0743134617805481,
          0.06367041915655136,
          0.05345693230628967,
          0.0495527945458889,
          0.05101259797811508,
          0.05147148668766022,
          0.05266247317194939,
          0.05568872392177582,
          0.05819325894117355,
          0.060689471662044525,
          0.0632040873169899,
          0.06699226051568985,
          0.06885939836502075,
          0.0723830908536911
         ],
         "y": [
          0.001218743622303009,
          -0.0010503865778446198,
          -0.002167724072933197,
          -0.0032772161066532135,
          -0.003492753952741623,
          -0.003602549433708191,
          -0.0030230507254600525,
          -0.0011250227689743042,
          -0.00012012571096420288,
          0.0008342638611793518,
          -0.0016859807074069977,
          -0.0037451796233654022,
          -0.007225167006254196,
          -0.010691829025745392,
          -0.012249402701854706,
          -0.013393271714448929,
          -0.012668546289205551,
          -0.011958330869674683,
          -0.012853574007749557,
          -0.009596478193998337
         ],
         "z": [
          0.19030800461769104,
          0.17688226699829102,
          0.16355489194393158,
          0.14697599411010742,
          0.13074472546577454,
          0.10984156280755997,
          0.08226170390844345,
          0.054176390171051025,
          0.025627996772527695,
          -0.003364157397300005,
          -0.00043563172221183777,
          0.00414146576076746,
          0.00945107452571392,
          0.014678999781608582,
          0.019548818469047546,
          0.026533469557762146,
          0.030648287385702133,
          0.03774705156683922,
          0.04474344849586487,
          0.049417782574892044
         ]
        },
        {
         "line": {
          "color": [
           0,
           1,
           2,
           3,
           4,
           5,
           6,
           7,
           8,
           9,
           10,
           11,
           12,
           13,
           14,
           15,
           16,
           17,
           18,
           19
          ],
          "colorscale": [
           [
            0,
            "rgb(209, 238, 234)"
           ],
           [
            0.16666666666666666,
            "rgb(168, 219, 217)"
           ],
           [
            0.3333333333333333,
            "rgb(133, 196, 201)"
           ],
           [
            0.5,
            "rgb(104, 171, 184)"
           ],
           [
            0.6666666666666666,
            "rgb(79, 144, 166)"
           ],
           [
            0.8333333333333334,
            "rgb(59, 115, 143)"
           ],
           [
            1,
            "rgb(42, 86, 116)"
           ]
          ],
          "width": 2
         },
         "mode": "lines",
         "type": "scatter3d",
         "x": [
          0.19463860988616943,
          0.1826784312725067,
          0.17213952541351318,
          0.15937060117721558,
          0.14853185415267944,
          0.1356258988380432,
          0.1232384592294693,
          0.11257383227348328,
          0.10288885980844498,
          0.09976909309625626,
          0.10108162462711334,
          0.10163887590169907,
          0.10286416113376617,
          0.10566715151071548,
          0.10774189978837967,
          0.10993800312280655,
          0.11250592768192291,
          0.11552363634109497,
          0.11758897453546524,
          0.12161222100257874
         ],
         "y": [
          0.00024631619453430176,
          -0.0016319714486598969,
          -0.0013355351984500885,
          -0.0013054795563220978,
          -0.0009814612567424774,
          -0.0009503141045570374,
          -0.000933673232793808,
          0.0001804456114768982,
          0.0005760267376899719,
          0.001241333782672882,
          -0.0019970349967479706,
          -0.004756387323141098,
          -0.008810780942440033,
          -0.011844757944345474,
          -0.01357090100646019,
          -0.014537565410137177,
          -0.014232490211725235,
          -0.013498794287443161,
          -0.013261988759040833,
          -0.010385815054178238
         ],
         "z": [
          0.197053000330925,
          0.18254877626895905,
          0.1660662740468979,
          0.146647647023201,
          0.12880194187164307,
          0.10641694068908691,
          0.07765549421310425,
          0.05028870329260826,
          0.0206616073846817,
          -0.001812622882425785,
          0.0007644258439540863,
          0.005102301016449928,
          0.009432012215256691,
          0.01637561433017254,
          0.019759071990847588,
          0.02850077673792839,
          0.033986855298280716,
          0.040421757847070694,
          0.04649464040994644,
          0.05294697731733322
         ]
        },
        {
         "line": {
          "color": [
           0,
           1,
           2,
           3,
           4,
           5,
           6,
           7,
           8,
           9,
           10,
           11,
           12,
           13,
           14,
           15,
           16,
           17,
           18,
           19
          ],
          "colorscale": [
           [
            0,
            "rgb(209, 238, 234)"
           ],
           [
            0.16666666666666666,
            "rgb(168, 219, 217)"
           ],
           [
            0.3333333333333333,
            "rgb(133, 196, 201)"
           ],
           [
            0.5,
            "rgb(104, 171, 184)"
           ],
           [
            0.6666666666666666,
            "rgb(79, 144, 166)"
           ],
           [
            0.8333333333333334,
            "rgb(59, 115, 143)"
           ],
           [
            1,
            "rgb(42, 86, 116)"
           ]
          ],
          "width": 2
         },
         "mode": "lines",
         "type": "scatter3d",
         "x": [
          0.2450798898935318,
          0.2352372407913208,
          0.2263764590024948,
          0.21390265226364136,
          0.202546164393425,
          0.18809261918067932,
          0.17438675463199615,
          0.1634589582681656,
          0.15306472778320312,
          0.14956049621105194,
          0.15068499743938446,
          0.1513272076845169,
          0.15240226686000824,
          0.15606637299060822,
          0.158380925655365,
          0.1606663167476654,
          0.162855863571167,
          0.16663621366024017,
          0.16789589822292328,
          0.170545756816864
         ],
         "y": [
          0.0019510984420776367,
          0.0007652714848518372,
          0.000050321221351623535,
          -0.0009052082896232605,
          -0.0016184188425540924,
          -0.001759897917509079,
          -0.0016485191881656647,
          -0.0005846023559570312,
          0.00031445175409317017,
          0.0016380250453948975,
          -0.0007269978523254395,
          -0.002344142645597458,
          -0.006221309304237366,
          -0.009463872760534286,
          -0.011905327439308167,
          -0.01342611014842987,
          -0.013646449893712997,
          -0.013331759721040726,
          -0.014282334595918655,
          -0.010809000581502914
         ],
         "z": [
          0.18929369747638702,
          0.1800341010093689,
          0.16658411920070648,
          0.15038281679153442,
          0.13456647098064423,
          0.11081504821777344,
          0.08144953101873398,
          0.04853516072034836,
          0.01844153180718422,
          -0.005632707383483648,
          -0.002507135272026062,
          0.002962617203593254,
          0.00783226452767849,
          0.014258170500397682,
          0.020779699087142944,
          0.027709640562534332,
          0.033196594566106796,
          0.04049832001328468,
          0.04642532020807266,
          0.05156681686639786
         ]
        },
        {
         "line": {
          "color": [
           0,
           1,
           2,
           3,
           4,
           5,
           6,
           7,
           8,
           9,
           10,
           11,
           12,
           13,
           14,
           15,
           16,
           17,
           18,
           19
          ],
          "colorscale": [
           [
            0,
            "rgb(209, 238, 234)"
           ],
           [
            0.16666666666666666,
            "rgb(168, 219, 217)"
           ],
           [
            0.3333333333333333,
            "rgb(133, 196, 201)"
           ],
           [
            0.5,
            "rgb(104, 171, 184)"
           ],
           [
            0.6666666666666666,
            "rgb(79, 144, 166)"
           ],
           [
            0.8333333333333334,
            "rgb(59, 115, 143)"
           ],
           [
            1,
            "rgb(42, 86, 116)"
           ]
          ],
          "width": 2
         },
         "mode": "lines",
         "type": "scatter3d",
         "x": [
          0.29380375146865845,
          0.28405851125717163,
          0.2742641568183899,
          0.2616991400718689,
          0.2501821517944336,
          0.2364112138748169,
          0.22320474684238434,
          0.21191608905792236,
          0.20164237916469574,
          0.1999756246805191,
          0.20109325647354126,
          0.2018260955810547,
          0.20320294797420502,
          0.20574890077114105,
          0.2085893750190735,
          0.21097023785114288,
          0.21463309228420258,
          0.21842865645885468,
          0.22169625759124756,
          0.22683830559253693
         ],
         "y": [
          -0.00034799426794052124,
          -0.0010521672666072845,
          -0.001440141350030899,
          -0.0009948015213012695,
          -0.0010585673153400421,
          -0.0007098466157913208,
          -0.0008880198001861572,
          0.0006401315331459045,
          0.001407340168952942,
          0.001443520188331604,
          -0.0013494901359081268,
          -0.003269404172897339,
          -0.007053442299365997,
          -0.010619886219501495,
          -0.011914398521184921,
          -0.013295035809278488,
          -0.012971054762601852,
          -0.01358332484960556,
          -0.013754907995462418,
          -0.011900834739208221
         ],
         "z": [
          0.18676242232322693,
          0.17721091210842133,
          0.16295649111270905,
          0.14826728403568268,
          0.1314893662929535,
          0.10958757996559143,
          0.08103733509778976,
          0.05211998522281647,
          0.021175313740968704,
          -0.002806423231959343,
          -0.00027735624462366104,
          0.005904719233512878,
          0.009546779096126556,
          0.014141064137220383,
          0.019510647282004356,
          0.027181025594472885,
          0.03377491608262062,
          0.041633207350969315,
          0.04979781433939934,
          0.058033913373947144
         ]
        },
        {
         "marker": {
          "size": 0.1
         },
         "mode": "markers",
         "type": "scatter3d",
         "x": [
          -0.1,
          0.1
         ],
         "y": [
          -0.1,
          0.1
         ],
         "z": [
          0,
          0.1
         ]
        }
       ],
       "layout": {
        "coloraxis": {
         "showscale": false
        },
        "font": {
         "color": "white",
         "family": "Roboto, monospace",
         "size": 12
        },
        "height": 800,
        "margin": {
         "b": 50,
         "l": 5,
         "r": 5,
         "t": 50
        },
        "scene": {
         "aspectratio": {
          "x": 1,
          "y": 1,
          "z": 1
         },
         "camera": {
          "eye": {
           "x": -1.5,
           "y": 1.5,
           "z": 1.5
          },
          "up": {
           "x": 0,
           "y": 0,
           "z": 1
          }
         }
        },
        "showlegend": false,
        "template": {
         "data": {
          "bar": [
           {
            "error_x": {
             "color": "#f2f5fa"
            },
            "error_y": {
             "color": "#f2f5fa"
            },
            "marker": {
             "line": {
              "color": "rgb(17,17,17)",
              "width": 0.5
             },
             "pattern": {
              "fillmode": "overlay",
              "size": 10,
              "solidity": 0.2
             }
            },
            "type": "bar"
           }
          ],
          "barpolar": [
           {
            "marker": {
             "line": {
              "color": "rgb(17,17,17)",
              "width": 0.5
             },
             "pattern": {
              "fillmode": "overlay",
              "size": 10,
              "solidity": 0.2
             }
            },
            "type": "barpolar"
           }
          ],
          "carpet": [
           {
            "aaxis": {
             "endlinecolor": "#A2B1C6",
             "gridcolor": "#506784",
             "linecolor": "#506784",
             "minorgridcolor": "#506784",
             "startlinecolor": "#A2B1C6"
            },
            "baxis": {
             "endlinecolor": "#A2B1C6",
             "gridcolor": "#506784",
             "linecolor": "#506784",
             "minorgridcolor": "#506784",
             "startlinecolor": "#A2B1C6"
            },
            "type": "carpet"
           }
          ],
          "choropleth": [
           {
            "colorbar": {
             "outlinewidth": 0,
             "ticks": ""
            },
            "type": "choropleth"
           }
          ],
          "contour": [
           {
            "colorbar": {
             "outlinewidth": 0,
             "ticks": ""
            },
            "colorscale": [
             [
              0,
              "#0d0887"
             ],
             [
              0.1111111111111111,
              "#46039f"
             ],
             [
              0.2222222222222222,
              "#7201a8"
             ],
             [
              0.3333333333333333,
              "#9c179e"
             ],
             [
              0.4444444444444444,
              "#bd3786"
             ],
             [
              0.5555555555555556,
              "#d8576b"
             ],
             [
              0.6666666666666666,
              "#ed7953"
             ],
             [
              0.7777777777777778,
              "#fb9f3a"
             ],
             [
              0.8888888888888888,
              "#fdca26"
             ],
             [
              1,
              "#f0f921"
             ]
            ],
            "type": "contour"
           }
          ],
          "contourcarpet": [
           {
            "colorbar": {
             "outlinewidth": 0,
             "ticks": ""
            },
            "type": "contourcarpet"
           }
          ],
          "heatmap": [
           {
            "colorbar": {
             "outlinewidth": 0,
             "ticks": ""
            },
            "colorscale": [
             [
              0,
              "#0d0887"
             ],
             [
              0.1111111111111111,
              "#46039f"
             ],
             [
              0.2222222222222222,
              "#7201a8"
             ],
             [
              0.3333333333333333,
              "#9c179e"
             ],
             [
              0.4444444444444444,
              "#bd3786"
             ],
             [
              0.5555555555555556,
              "#d8576b"
             ],
             [
              0.6666666666666666,
              "#ed7953"
             ],
             [
              0.7777777777777778,
              "#fb9f3a"
             ],
             [
              0.8888888888888888,
              "#fdca26"
             ],
             [
              1,
              "#f0f921"
             ]
            ],
            "type": "heatmap"
           }
          ],
          "heatmapgl": [
           {
            "colorbar": {
             "outlinewidth": 0,
             "ticks": ""
            },
            "colorscale": [
             [
              0,
              "#0d0887"
             ],
             [
              0.1111111111111111,
              "#46039f"
             ],
             [
              0.2222222222222222,
              "#7201a8"
             ],
             [
              0.3333333333333333,
              "#9c179e"
             ],
             [
              0.4444444444444444,
              "#bd3786"
             ],
             [
              0.5555555555555556,
              "#d8576b"
             ],
             [
              0.6666666666666666,
              "#ed7953"
             ],
             [
              0.7777777777777778,
              "#fb9f3a"
             ],
             [
              0.8888888888888888,
              "#fdca26"
             ],
             [
              1,
              "#f0f921"
             ]
            ],
            "type": "heatmapgl"
           }
          ],
          "histogram": [
           {
            "marker": {
             "pattern": {
              "fillmode": "overlay",
              "size": 10,
              "solidity": 0.2
             }
            },
            "type": "histogram"
           }
          ],
          "histogram2d": [
           {
            "colorbar": {
             "outlinewidth": 0,
             "ticks": ""
            },
            "colorscale": [
             [
              0,
              "#0d0887"
             ],
             [
              0.1111111111111111,
              "#46039f"
             ],
             [
              0.2222222222222222,
              "#7201a8"
             ],
             [
              0.3333333333333333,
              "#9c179e"
             ],
             [
              0.4444444444444444,
              "#bd3786"
             ],
             [
              0.5555555555555556,
              "#d8576b"
             ],
             [
              0.6666666666666666,
              "#ed7953"
             ],
             [
              0.7777777777777778,
              "#fb9f3a"
             ],
             [
              0.8888888888888888,
              "#fdca26"
             ],
             [
              1,
              "#f0f921"
             ]
            ],
            "type": "histogram2d"
           }
          ],
          "histogram2dcontour": [
           {
            "colorbar": {
             "outlinewidth": 0,
             "ticks": ""
            },
            "colorscale": [
             [
              0,
              "#0d0887"
             ],
             [
              0.1111111111111111,
              "#46039f"
             ],
             [
              0.2222222222222222,
              "#7201a8"
             ],
             [
              0.3333333333333333,
              "#9c179e"
             ],
             [
              0.4444444444444444,
              "#bd3786"
             ],
             [
              0.5555555555555556,
              "#d8576b"
             ],
             [
              0.6666666666666666,
              "#ed7953"
             ],
             [
              0.7777777777777778,
              "#fb9f3a"
             ],
             [
              0.8888888888888888,
              "#fdca26"
             ],
             [
              1,
              "#f0f921"
             ]
            ],
            "type": "histogram2dcontour"
           }
          ],
          "mesh3d": [
           {
            "colorbar": {
             "outlinewidth": 0,
             "ticks": ""
            },
            "type": "mesh3d"
           }
          ],
          "parcoords": [
           {
            "line": {
             "colorbar": {
              "outlinewidth": 0,
              "ticks": ""
             }
            },
            "type": "parcoords"
           }
          ],
          "pie": [
           {
            "automargin": true,
            "type": "pie"
           }
          ],
          "scatter": [
           {
            "marker": {
             "line": {
              "color": "#283442"
             }
            },
            "type": "scatter"
           }
          ],
          "scatter3d": [
           {
            "line": {
             "colorbar": {
              "outlinewidth": 0,
              "ticks": ""
             }
            },
            "marker": {
             "colorbar": {
              "outlinewidth": 0,
              "ticks": ""
             }
            },
            "type": "scatter3d"
           }
          ],
          "scattercarpet": [
           {
            "marker": {
             "colorbar": {
              "outlinewidth": 0,
              "ticks": ""
             }
            },
            "type": "scattercarpet"
           }
          ],
          "scattergeo": [
           {
            "marker": {
             "colorbar": {
              "outlinewidth": 0,
              "ticks": ""
             }
            },
            "type": "scattergeo"
           }
          ],
          "scattergl": [
           {
            "marker": {
             "line": {
              "color": "#283442"
             }
            },
            "type": "scattergl"
           }
          ],
          "scattermapbox": [
           {
            "marker": {
             "colorbar": {
              "outlinewidth": 0,
              "ticks": ""
             }
            },
            "type": "scattermapbox"
           }
          ],
          "scatterpolar": [
           {
            "marker": {
             "colorbar": {
              "outlinewidth": 0,
              "ticks": ""
             }
            },
            "type": "scatterpolar"
           }
          ],
          "scatterpolargl": [
           {
            "marker": {
             "colorbar": {
              "outlinewidth": 0,
              "ticks": ""
             }
            },
            "type": "scatterpolargl"
           }
          ],
          "scatterternary": [
           {
            "marker": {
             "colorbar": {
              "outlinewidth": 0,
              "ticks": ""
             }
            },
            "type": "scatterternary"
           }
          ],
          "surface": [
           {
            "colorbar": {
             "outlinewidth": 0,
             "ticks": ""
            },
            "colorscale": [
             [
              0,
              "#0d0887"
             ],
             [
              0.1111111111111111,
              "#46039f"
             ],
             [
              0.2222222222222222,
              "#7201a8"
             ],
             [
              0.3333333333333333,
              "#9c179e"
             ],
             [
              0.4444444444444444,
              "#bd3786"
             ],
             [
              0.5555555555555556,
              "#d8576b"
             ],
             [
              0.6666666666666666,
              "#ed7953"
             ],
             [
              0.7777777777777778,
              "#fb9f3a"
             ],
             [
              0.8888888888888888,
              "#fdca26"
             ],
             [
              1,
              "#f0f921"
             ]
            ],
            "type": "surface"
           }
          ],
          "table": [
           {
            "cells": {
             "fill": {
              "color": "#506784"
             },
             "line": {
              "color": "rgb(17,17,17)"
             }
            },
            "header": {
             "fill": {
              "color": "#2a3f5f"
             },
             "line": {
              "color": "rgb(17,17,17)"
             }
            },
            "type": "table"
           }
          ]
         },
         "layout": {
          "annotationdefaults": {
           "arrowcolor": "#f2f5fa",
           "arrowhead": 0,
           "arrowwidth": 1
          },
          "autotypenumbers": "strict",
          "coloraxis": {
           "colorbar": {
            "outlinewidth": 0,
            "ticks": ""
           }
          },
          "colorscale": {
           "diverging": [
            [
             0,
             "#8e0152"
            ],
            [
             0.1,
             "#c51b7d"
            ],
            [
             0.2,
             "#de77ae"
            ],
            [
             0.3,
             "#f1b6da"
            ],
            [
             0.4,
             "#fde0ef"
            ],
            [
             0.5,
             "#f7f7f7"
            ],
            [
             0.6,
             "#e6f5d0"
            ],
            [
             0.7,
             "#b8e186"
            ],
            [
             0.8,
             "#7fbc41"
            ],
            [
             0.9,
             "#4d9221"
            ],
            [
             1,
             "#276419"
            ]
           ],
           "sequential": [
            [
             0,
             "#0d0887"
            ],
            [
             0.1111111111111111,
             "#46039f"
            ],
            [
             0.2222222222222222,
             "#7201a8"
            ],
            [
             0.3333333333333333,
             "#9c179e"
            ],
            [
             0.4444444444444444,
             "#bd3786"
            ],
            [
             0.5555555555555556,
             "#d8576b"
            ],
            [
             0.6666666666666666,
             "#ed7953"
            ],
            [
             0.7777777777777778,
             "#fb9f3a"
            ],
            [
             0.8888888888888888,
             "#fdca26"
            ],
            [
             1,
             "#f0f921"
            ]
           ],
           "sequentialminus": [
            [
             0,
             "#0d0887"
            ],
            [
             0.1111111111111111,
             "#46039f"
            ],
            [
             0.2222222222222222,
             "#7201a8"
            ],
            [
             0.3333333333333333,
             "#9c179e"
            ],
            [
             0.4444444444444444,
             "#bd3786"
            ],
            [
             0.5555555555555556,
             "#d8576b"
            ],
            [
             0.6666666666666666,
             "#ed7953"
            ],
            [
             0.7777777777777778,
             "#fb9f3a"
            ],
            [
             0.8888888888888888,
             "#fdca26"
            ],
            [
             1,
             "#f0f921"
            ]
           ]
          },
          "colorway": [
           "#636efa",
           "#EF553B",
           "#00cc96",
           "#ab63fa",
           "#FFA15A",
           "#19d3f3",
           "#FF6692",
           "#B6E880",
           "#FF97FF",
           "#FECB52"
          ],
          "font": {
           "color": "#f2f5fa"
          },
          "geo": {
           "bgcolor": "rgb(17,17,17)",
           "lakecolor": "rgb(17,17,17)",
           "landcolor": "rgb(17,17,17)",
           "showlakes": true,
           "showland": true,
           "subunitcolor": "#506784"
          },
          "hoverlabel": {
           "align": "left"
          },
          "hovermode": "closest",
          "mapbox": {
           "style": "dark"
          },
          "paper_bgcolor": "rgb(17,17,17)",
          "plot_bgcolor": "rgb(17,17,17)",
          "polar": {
           "angularaxis": {
            "gridcolor": "#506784",
            "linecolor": "#506784",
            "ticks": ""
           },
           "bgcolor": "rgb(17,17,17)",
           "radialaxis": {
            "gridcolor": "#506784",
            "linecolor": "#506784",
            "ticks": ""
           }
          },
          "scene": {
           "xaxis": {
            "backgroundcolor": "rgb(17,17,17)",
            "gridcolor": "#506784",
            "gridwidth": 2,
            "linecolor": "#506784",
            "showbackground": true,
            "ticks": "",
            "zerolinecolor": "#C8D4E3"
           },
           "yaxis": {
            "backgroundcolor": "rgb(17,17,17)",
            "gridcolor": "#506784",
            "gridwidth": 2,
            "linecolor": "#506784",
            "showbackground": true,
            "ticks": "",
            "zerolinecolor": "#C8D4E3"
           },
           "zaxis": {
            "backgroundcolor": "rgb(17,17,17)",
            "gridcolor": "#506784",
            "gridwidth": 2,
            "linecolor": "#506784",
            "showbackground": true,
            "ticks": "",
            "zerolinecolor": "#C8D4E3"
           }
          },
          "shapedefaults": {
           "line": {
            "color": "#f2f5fa"
           }
          },
          "sliderdefaults": {
           "bgcolor": "#C8D4E3",
           "bordercolor": "rgb(17,17,17)",
           "borderwidth": 1,
           "tickwidth": 0
          },
          "ternary": {
           "aaxis": {
            "gridcolor": "#506784",
            "linecolor": "#506784",
            "ticks": ""
           },
           "baxis": {
            "gridcolor": "#506784",
            "linecolor": "#506784",
            "ticks": ""
           },
           "bgcolor": "rgb(17,17,17)",
           "caxis": {
            "gridcolor": "#506784",
            "linecolor": "#506784",
            "ticks": ""
           }
          },
          "title": {
           "x": 0.05
          },
          "updatemenudefaults": {
           "bgcolor": "#506784",
           "borderwidth": 0
          },
          "xaxis": {
           "automargin": true,
           "gridcolor": "#283442",
           "linecolor": "#506784",
           "ticks": "",
           "title": {
            "standoff": 15
           },
           "zerolinecolor": "#283442",
           "zerolinewidth": 2
          },
          "yaxis": {
           "automargin": true,
           "gridcolor": "#283442",
           "linecolor": "#506784",
           "ticks": "",
           "title": {
            "standoff": 15
           },
           "zerolinecolor": "#283442",
           "zerolinewidth": 2
          }
         }
        },
        "title": {
         "text": "Compare Motion Plots"
        },
        "xaxis": {
         "fixedrange": true,
         "showgrid": false,
         "showticklabels": false,
         "zeroline": false,
         "zerolinecolor": "gray",
         "zerolinewidth": 1
        },
        "yaxis": {
         "fixedrange": true,
         "showgrid": false,
         "showticklabels": false,
         "zeroline": false,
         "zerolinecolor": "gray",
         "zerolinewidth": 1
        }
       }
      }
     },
     "metadata": {},
     "output_type": "display_data"
    },
    {
     "name": "stdout",
     "output_type": "stream",
     "text": [
      "tensor(0., device='cuda:0')\n"
     ]
    },
    {
     "data": {
      "application/vnd.plotly.v1+json": {
       "config": {
        "plotlyServerURL": "https://plot.ly"
       },
       "data": [
        {
         "line": {
          "color": [
           0,
           1,
           2,
           3,
           4,
           5,
           6,
           7,
           8,
           9,
           10,
           11,
           12,
           13,
           14,
           15,
           16,
           17,
           18,
           19
          ],
          "colorscale": [
           [
            0,
            "#0508b8"
           ],
           [
            0.08333333333333333,
            "#1910d8"
           ],
           [
            0.16666666666666666,
            "#3c19f0"
           ],
           [
            0.25,
            "#6b1cfb"
           ],
           [
            0.3333333333333333,
            "#981cfd"
           ],
           [
            0.4166666666666667,
            "#bf1cfd"
           ],
           [
            0.5,
            "#dd2bfd"
           ],
           [
            0.5833333333333334,
            "#f246fe"
           ],
           [
            0.6666666666666666,
            "#fc67fd"
           ],
           [
            0.75,
            "#fe88fc"
           ],
           [
            0.8333333333333334,
            "#fea5fd"
           ],
           [
            0.9166666666666666,
            "#febefe"
           ],
           [
            1,
            "#fec3fe"
           ]
          ],
          "width": 4
         },
         "mode": "lines",
         "type": "scatter3d",
         "x": [
          0.12178399413824081,
          0.10798800736665726,
          0.09190700203180313,
          0.07341700047254562,
          0.05369899421930313,
          0.03504999727010727,
          0.0181099995970726,
          0.005827002227306366,
          -0.0003819987177848816,
          0,
          -0.00018899841234087944,
          0.0001600012183189392,
          0.0006320029497146606,
          0.001561999786645174,
          0.003022998571395874,
          0.005045004189014435,
          0.007145002484321594,
          0.009569003246724606,
          0.011944003403186798,
          0.014311999082565308
         ],
         "y": [
          0.022167004644870758,
          0.01881500333547592,
          0.015078991651535034,
          0.01187000423669815,
          0.007555998861789703,
          0.0025999993085861206,
          0.00030200183391571045,
          -0.0012389980256557465,
          -0.0009070038795471191,
          0,
          0.001453004777431488,
          0.0025879964232444763,
          0.0040540024638175964,
          0.005410000681877136,
          0.006610997021198273,
          0.007406003773212433,
          0.008704997599124908,
          0.010141000151634216,
          0.012165002524852753,
          0.014876998960971832
         ],
         "z": [
          0.251118004322052,
          0.23834601044654846,
          0.22210700809955597,
          0.2014470249414444,
          0.17635400593280792,
          0.14649701118469238,
          0.11137799918651581,
          0.07273299992084503,
          0.03163199871778488,
          0,
          0.007132001221179962,
          0.01386599987745285,
          0.020925000309944153,
          0.028255000710487366,
          0.03552499786019325,
          0.04349000006914139,
          0.051350995898246765,
          0.0594789981842041,
          0.06726100295782089,
          0.07464499026536942
         ]
        },
        {
         "line": {
          "color": [
           0,
           1,
           2,
           3,
           4,
           5,
           6,
           7,
           8,
           9,
           10,
           11,
           12,
           13,
           14,
           15,
           16,
           17,
           18,
           19
          ],
          "colorscale": [
           [
            0,
            "rgb(209, 238, 234)"
           ],
           [
            0.16666666666666666,
            "rgb(168, 219, 217)"
           ],
           [
            0.3333333333333333,
            "rgb(133, 196, 201)"
           ],
           [
            0.5,
            "rgb(104, 171, 184)"
           ],
           [
            0.6666666666666666,
            "rgb(79, 144, 166)"
           ],
           [
            0.8333333333333334,
            "rgb(59, 115, 143)"
           ],
           [
            1,
            "rgb(42, 86, 116)"
           ]
          ],
          "width": 2
         },
         "mode": "lines",
         "type": "scatter3d",
         "x": [
          -0.08301662653684616,
          -0.09821223467588425,
          -0.11355174332857132,
          -0.13188275694847107,
          -0.15003278851509094,
          -0.1674383133649826,
          -0.18240314722061157,
          -0.19401594996452332,
          -0.19939063489437103,
          -0.20010046660900116,
          -0.1998617947101593,
          -0.1995578557252884,
          -0.1988380253314972,
          -0.19809867441654205,
          -0.1969285011291504,
          -0.195424884557724,
          -0.19396083056926727,
          -0.19296541810035706,
          -0.19115765392780304,
          -0.18768993020057678
         ],
         "y": [
          0.0167376846075058,
          0.014226771891117096,
          0.011658847332000732,
          0.008452832698822021,
          0.005531318485736847,
          0.0014937520027160645,
          -0.0022446326911449432,
          -0.0034229829907417297,
          -0.0025908686220645905,
          -0.0007545650005340576,
          -0.0003305897116661072,
          0.0009494423866271973,
          0.0008874088525772095,
          0.0030253902077674866,
          0.004710003733634949,
          0.0051317960023880005,
          0.006385423243045807,
          0.009336739778518677,
          0.010674923658370972,
          0.014300733804702759
         ],
         "z": [
          0.2443668395280838,
          0.22996726632118225,
          0.21306534111499786,
          0.18938051164150238,
          0.16916273534297943,
          0.13801972568035126,
          0.10309817641973495,
          0.0663345456123352,
          0.028543662279844284,
          -0.0003249039873480797,
          0.004822423681616783,
          0.011273736134171486,
          0.016743196174502373,
          0.02665724977850914,
          0.030648764222860336,
          0.037479426711797714,
          0.04439019784331322,
          0.052396416664123535,
          0.05834491550922394,
          0.06857458502054214
         ]
        },
        {
         "line": {
          "color": [
           0,
           1,
           2,
           3,
           4,
           5,
           6,
           7,
           8,
           9,
           10,
           11,
           12,
           13,
           14,
           15,
           16,
           17,
           18,
           19
          ],
          "colorscale": [
           [
            0,
            "rgb(209, 238, 234)"
           ],
           [
            0.16666666666666666,
            "rgb(168, 219, 217)"
           ],
           [
            0.3333333333333333,
            "rgb(133, 196, 201)"
           ],
           [
            0.5,
            "rgb(104, 171, 184)"
           ],
           [
            0.6666666666666666,
            "rgb(79, 144, 166)"
           ],
           [
            0.8333333333333334,
            "rgb(59, 115, 143)"
           ],
           [
            1,
            "rgb(42, 86, 116)"
           ]
          ],
          "width": 2
         },
         "mode": "lines",
         "type": "scatter3d",
         "x": [
          -0.032333940267562866,
          -0.04740680009126663,
          -0.06289688497781754,
          -0.08043910562992096,
          -0.09948524832725525,
          -0.11752545833587646,
          -0.13271044194698334,
          -0.1448608636856079,
          -0.15012073516845703,
          -0.14985667169094086,
          -0.14892354607582092,
          -0.1472207009792328,
          -0.14673355221748352,
          -0.14490960538387299,
          -0.14432501792907715,
          -0.1424611508846283,
          -0.14111118018627167,
          -0.14051224291324615,
          -0.13852058351039886,
          -0.13594764471054077
         ],
         "y": [
          0.01915336400270462,
          0.015193559229373932,
          0.01222517341375351,
          0.009042710065841675,
          0.006306193768978119,
          0.0020103827118873596,
          -0.002119317650794983,
          -0.0037709884345531464,
          -0.0020184852182865143,
          -0.0015218518674373627,
          -0.0013034380972385406,
          -0.0003643035888671875,
          -0.0001992359757423401,
          0.0019922181963920593,
          0.0034261345863342285,
          0.004167445003986359,
          0.004862874746322632,
          0.007765740156173706,
          0.008490800857543945,
          0.011073701083660126
         ],
         "z": [
          0.24757860600948334,
          0.23414325714111328,
          0.2166624814271927,
          0.19423870742321014,
          0.17345194518566132,
          0.14095066487789154,
          0.10549762099981308,
          0.07121983915567398,
          0.03147440776228905,
          0.00417332723736763,
          0.008924143388867378,
          0.013531804084777832,
          0.020366452634334564,
          0.02958483248949051,
          0.03327199071645737,
          0.04151967540383339,
          0.04762088134884834,
          0.05373578518629074,
          0.059423692524433136,
          0.06894224882125854
         ]
        },
        {
         "line": {
          "color": [
           0,
           1,
           2,
           3,
           4,
           5,
           6,
           7,
           8,
           9,
           10,
           11,
           12,
           13,
           14,
           15,
           16,
           17,
           18,
           19
          ],
          "colorscale": [
           [
            0,
            "rgb(209, 238, 234)"
           ],
           [
            0.16666666666666666,
            "rgb(168, 219, 217)"
           ],
           [
            0.3333333333333333,
            "rgb(133, 196, 201)"
           ],
           [
            0.5,
            "rgb(104, 171, 184)"
           ],
           [
            0.6666666666666666,
            "rgb(79, 144, 166)"
           ],
           [
            0.8333333333333334,
            "rgb(59, 115, 143)"
           ],
           [
            1,
            "rgb(42, 86, 116)"
           ]
          ],
          "width": 2
         },
         "mode": "lines",
         "type": "scatter3d",
         "x": [
          0.01839890331029892,
          0.0065541863441467285,
          -0.006689898669719696,
          -0.024417661130428314,
          -0.04320645332336426,
          -0.06362815201282501,
          -0.08131834864616394,
          -0.09394454956054688,
          -0.10048742592334747,
          -0.10026659816503525,
          -0.10023214668035507,
          -0.10003702342510223,
          -0.09874993562698364,
          -0.09773658215999603,
          -0.09606218338012695,
          -0.09380518645048141,
          -0.09199649095535278,
          -0.09022428095340729,
          -0.08776979148387909,
          -0.08467249572277069
         ],
         "y": [
          0.0247686505317688,
          0.021544426679611206,
          0.018187932670116425,
          0.014341354370117188,
          0.011276833713054657,
          0.0066500455141067505,
          0.002203896641731262,
          -0.00044686347246170044,
          -0.0012088827788829803,
          0.00004415959119796753,
          -0.0007558390498161316,
          -0.0000306740403175354,
          0.0004176199436187744,
          0.002458237111568451,
          0.004605814814567566,
          0.005781546235084534,
          0.007656872272491455,
          0.01147296279668808,
          0.012686312198638916,
          0.0164865180850029
         ],
         "z": [
          0.24392734467983246,
          0.23355157673358917,
          0.22058531641960144,
          0.19911600649356842,
          0.17878352105617523,
          0.14788441359996796,
          0.1094912588596344,
          0.06965947896242142,
          0.02574390545487404,
          -0.0033534434624016285,
          0.0035655414685606956,
          0.009391145780682564,
          0.015854500234127045,
          0.026027973741292953,
          0.031607385724782944,
          0.03919325768947601,
          0.047662630677223206,
          0.05512411147356033,
          0.06171300262212753,
          0.07232838869094849
         ]
        },
        {
         "line": {
          "color": [
           0,
           1,
           2,
           3,
           4,
           5,
           6,
           7,
           8,
           9,
           10,
           11,
           12,
           13,
           14,
           15,
           16,
           17,
           18,
           19
          ],
          "colorscale": [
           [
            0,
            "rgb(209, 238, 234)"
           ],
           [
            0.16666666666666666,
            "rgb(168, 219, 217)"
           ],
           [
            0.3333333333333333,
            "rgb(133, 196, 201)"
           ],
           [
            0.5,
            "rgb(104, 171, 184)"
           ],
           [
            0.6666666666666666,
            "rgb(79, 144, 166)"
           ],
           [
            0.8333333333333334,
            "rgb(59, 115, 143)"
           ],
           [
            1,
            "rgb(42, 86, 116)"
           ]
          ],
          "width": 2
         },
         "mode": "lines",
         "type": "scatter3d",
         "x": [
          0.07305917143821716,
          0.05890931561589241,
          0.044184450060129166,
          0.026626568287611008,
          0.00761062279343605,
          -0.011800941079854965,
          -0.029340490698814392,
          -0.042821310460567474,
          -0.049818255007267,
          -0.05020861700177193,
          -0.04919380694627762,
          -0.047862935811281204,
          -0.046570099890232086,
          -0.04503254592418671,
          -0.04363885149359703,
          -0.04129811376333237,
          -0.04048082232475281,
          -0.039526715874671936,
          -0.03910323977470398,
          -0.03655681014060974
         ],
         "y": [
          0.020681262016296387,
          0.017448700964450836,
          0.014470137655735016,
          0.010848715901374817,
          0.008333742618560791,
          0.003756605088710785,
          0.0005717650055885315,
          -0.001394849270582199,
          -0.0010970905423164368,
          0.00006345659494400024,
          -0.0008499324321746826,
          0.00011073797941207886,
          0.0006887614727020264,
          0.00193043053150177,
          0.004076659679412842,
          0.004489101469516754,
          0.006458267569541931,
          0.009425908327102661,
          0.010589934885501862,
          0.01351785659790039
         ],
         "z": [
          0.25570160150527954,
          0.24061472713947296,
          0.2230122834444046,
          0.20165777206420898,
          0.18015500903129578,
          0.1489351987838745,
          0.11079635471105576,
          0.07192764431238174,
          0.028048943728208542,
          -0.0004903925582766533,
          0.006009386852383614,
          0.01167750172317028,
          0.01784590072929859,
          0.026756208389997482,
          0.031798701733350754,
          0.03895064443349838,
          0.045410819351673126,
          0.050766147673130035,
          0.05256596952676773,
          0.06239258497953415
         ]
        },
        {
         "line": {
          "color": [
           0,
           1,
           2,
           3,
           4,
           5,
           6,
           7,
           8,
           9,
           10,
           11,
           12,
           13,
           14,
           15,
           16,
           17,
           18,
           19
          ],
          "colorscale": [
           [
            0,
            "rgb(209, 238, 234)"
           ],
           [
            0.16666666666666666,
            "rgb(168, 219, 217)"
           ],
           [
            0.3333333333333333,
            "rgb(133, 196, 201)"
           ],
           [
            0.5,
            "rgb(104, 171, 184)"
           ],
           [
            0.6666666666666666,
            "rgb(79, 144, 166)"
           ],
           [
            0.8333333333333334,
            "rgb(59, 115, 143)"
           ],
           [
            1,
            "rgb(42, 86, 116)"
           ]
          ],
          "width": 2
         },
         "mode": "lines",
         "type": "scatter3d",
         "x": [
          0.17830394208431244,
          0.1634521633386612,
          0.14762406051158905,
          0.12816305458545685,
          0.1084091067314148,
          0.08813275396823883,
          0.0709214061498642,
          0.05779721960425377,
          0.05033760890364647,
          0.049728043377399445,
          0.04997433349490166,
          0.0501544289290905,
          0.05051762983202934,
          0.05139081925153732,
          0.052501335740089417,
          0.05445105582475662,
          0.055902913212776184,
          0.05764871835708618,
          0.059826478362083435,
          0.06374753266572952
         ],
         "y": [
          0.022406890988349915,
          0.018304675817489624,
          0.014435112476348877,
          0.00999431312084198,
          0.0066404789686203,
          0.0015758499503135681,
          -0.002131212502717972,
          -0.0038413405418395996,
          -0.002134215086698532,
          -0.000308893620967865,
          -0.0005040839314460754,
          0.0008796602487564087,
          0.0012004896998405457,
          0.003475584089756012,
          0.004991523921489716,
          0.006509430706501007,
          0.00849086046218872,
          0.011743851006031036,
          0.012827008962631226,
          0.0171651691198349
         ],
         "z": [
          0.26039665937423706,
          0.24495311081409454,
          0.22804251313209534,
          0.205067440867424,
          0.18325486779212952,
          0.15041442215442657,
          0.11157026141881943,
          0.07272743433713913,
          0.030320439487695694,
          -0.0008489079773426056,
          0.0038674576207995415,
          0.009824037551879883,
          0.014903664588928223,
          0.024009529501199722,
          0.026494380086660385,
          0.035682182759046555,
          0.04318052902817726,
          0.05162452906370163,
          0.05865887552499771,
          0.07028026878833771
         ]
        },
        {
         "line": {
          "color": [
           0,
           1,
           2,
           3,
           4,
           5,
           6,
           7,
           8,
           9,
           10,
           11,
           12,
           13,
           14,
           15,
           16,
           17,
           18,
           19
          ],
          "colorscale": [
           [
            0,
            "rgb(209, 238, 234)"
           ],
           [
            0.16666666666666666,
            "rgb(168, 219, 217)"
           ],
           [
            0.3333333333333333,
            "rgb(133, 196, 201)"
           ],
           [
            0.5,
            "rgb(104, 171, 184)"
           ],
           [
            0.6666666666666666,
            "rgb(79, 144, 166)"
           ],
           [
            0.8333333333333334,
            "rgb(59, 115, 143)"
           ],
           [
            1,
            "rgb(42, 86, 116)"
           ]
          ],
          "width": 2
         },
         "mode": "lines",
         "type": "scatter3d",
         "x": [
          0.22919616103172302,
          0.21416568756103516,
          0.19844180345535278,
          0.17911368608474731,
          0.1591740995645523,
          0.13858656585216522,
          0.1205536499619484,
          0.10666517913341522,
          0.10024381428956985,
          0.09948039799928665,
          0.1005951315164566,
          0.10149668902158737,
          0.10216709971427917,
          0.10317046195268631,
          0.10481616854667664,
          0.10687624663114548,
          0.10831402987241745,
          0.10948950052261353,
          0.11053438484668732,
          0.11274369060993195
         ],
         "y": [
          0.02588123083114624,
          0.02218964695930481,
          0.0184083953499794,
          0.014382347464561462,
          0.009888552129268646,
          0.004726134240627289,
          0.0004098042845726013,
          -0.00208885595202446,
          -0.0016328245401382446,
          -0.00025615841150283813,
          -0.0001629665493965149,
          0.0013046935200691223,
          0.0019812360405921936,
          0.003801211714744568,
          0.005738981068134308,
          0.006609790027141571,
          0.0079350546002388,
          0.010352723300457,
          0.010681882500648499,
          0.013686038553714752
         ],
         "z": [
          0.2601240277290344,
          0.24577869474887848,
          0.22963617742061615,
          0.20797006785869598,
          0.1869480013847351,
          0.1535133272409439,
          0.1135857030749321,
          0.07352475821971893,
          0.029135018587112427,
          -0.00212229136377573,
          0.005395457148551941,
          0.01230745017528534,
          0.01855023391544819,
          0.027694374322891235,
          0.031800415366888046,
          0.039488352835178375,
          0.04523991420865059,
          0.050044991075992584,
          0.05260423570871353,
          0.061834827065467834
         ]
        },
        {
         "line": {
          "color": [
           0,
           1,
           2,
           3,
           4,
           5,
           6,
           7,
           8,
           9,
           10,
           11,
           12,
           13,
           14,
           15,
           16,
           17,
           18,
           19
          ],
          "colorscale": [
           [
            0,
            "rgb(209, 238, 234)"
           ],
           [
            0.16666666666666666,
            "rgb(168, 219, 217)"
           ],
           [
            0.3333333333333333,
            "rgb(133, 196, 201)"
           ],
           [
            0.5,
            "rgb(104, 171, 184)"
           ],
           [
            0.6666666666666666,
            "rgb(79, 144, 166)"
           ],
           [
            0.8333333333333334,
            "rgb(59, 115, 143)"
           ],
           [
            1,
            "rgb(42, 86, 116)"
           ]
          ],
          "width": 2
         },
         "mode": "lines",
         "type": "scatter3d",
         "x": [
          0.273794025182724,
          0.2590653896331787,
          0.24451380968093872,
          0.22483108937740326,
          0.20584005117416382,
          0.18590913712978363,
          0.16942937672138214,
          0.15645593404769897,
          0.15031592547893524,
          0.14978007972240448,
          0.1501883864402771,
          0.15108495950698853,
          0.15223348140716553,
          0.15351833403110504,
          0.15527604520320892,
          0.1573105752468109,
          0.15871405601501465,
          0.1597065031528473,
          0.16096752882003784,
          0.16342180967330933
         ],
         "y": [
          0.024668365716934204,
          0.020515143871307373,
          0.01691913604736328,
          0.012845516204833984,
          0.009391091763973236,
          0.004405096173286438,
          0.0007198750972747803,
          -0.001201242208480835,
          -0.0007370859384536743,
          -0.000524766743183136,
          -0.0004625767469406128,
          0.0007390528917312622,
          0.0014570727944374084,
          0.0036255642771720886,
          0.006397843360900879,
          0.00722397118806839,
          0.009437337517738342,
          0.013025708496570587,
          0.013539470732212067,
          0.016695238649845123
         ],
         "z": [
          0.25588148832321167,
          0.2425582855939865,
          0.2264217734336853,
          0.2022714614868164,
          0.18322144448757172,
          0.150276318192482,
          0.11220186203718185,
          0.07263650745153427,
          0.03133149445056915,
          0.0001114923506975174,
          0.006137846037745476,
          0.012645808979868889,
          0.01977156475186348,
          0.030604436993598938,
          0.03650917112827301,
          0.04181710258126259,
          0.047380827367305756,
          0.05306233465671539,
          0.05556674301624298,
          0.06397490948438644
         ]
        },
        {
         "line": {
          "color": [
           0,
           1,
           2,
           3,
           4,
           5,
           6,
           7,
           8,
           9,
           10,
           11,
           12,
           13,
           14,
           15,
           16,
           17,
           18,
           19
          ],
          "colorscale": [
           [
            0,
            "rgb(209, 238, 234)"
           ],
           [
            0.16666666666666666,
            "rgb(168, 219, 217)"
           ],
           [
            0.3333333333333333,
            "rgb(133, 196, 201)"
           ],
           [
            0.5,
            "rgb(104, 171, 184)"
           ],
           [
            0.6666666666666666,
            "rgb(79, 144, 166)"
           ],
           [
            0.8333333333333334,
            "rgb(59, 115, 143)"
           ],
           [
            1,
            "rgb(42, 86, 116)"
           ]
          ],
          "width": 2
         },
         "mode": "lines",
         "type": "scatter3d",
         "x": [
          0.3241695463657379,
          0.3103266954421997,
          0.2951287627220154,
          0.2753249406814575,
          0.2564793825149536,
          0.23490941524505615,
          0.21771955490112305,
          0.20591536164283752,
          0.19955165684223175,
          0.19922302663326263,
          0.1993483155965805,
          0.1989351212978363,
          0.19996458292007446,
          0.20144833624362946,
          0.20233918726444244,
          0.2049068808555603,
          0.20556266605854034,
          0.2071363478899002,
          0.20768286287784576,
          0.20922356843948364
         ],
         "y": [
          0.02557310461997986,
          0.022660627961158752,
          0.018669545650482178,
          0.015541799366474152,
          0.012023739516735077,
          0.006895110011100769,
          0.0025251805782318115,
          0.00024194270372390747,
          -0.0006622970104217529,
          0.0006707310676574707,
          0.0013254731893539429,
          0.0021052584052085876,
          0.003649383783340454,
          0.005790315568447113,
          0.007843829691410065,
          0.008148349821567535,
          0.009738288819789886,
          0.0123724564909935,
          0.012337379157543182,
          0.015678338706493378
         ],
         "z": [
          0.2571832537651062,
          0.24191857874393463,
          0.22614558041095734,
          0.20124785602092743,
          0.17982517182826996,
          0.14433754980564117,
          0.10561937093734741,
          0.06381133943796158,
          0.01984836719930172,
          -0.008547867648303509,
          -0.0030348943546414375,
          0.0038956310600042343,
          0.01216459833085537,
          0.022372182458639145,
          0.02946622297167778,
          0.03815707564353943,
          0.04453611373901367,
          0.052565284073352814,
          0.05693811923265457,
          0.0667838454246521
         ]
        },
        {
         "marker": {
          "size": 0.1
         },
         "mode": "markers",
         "type": "scatter3d",
         "x": [
          -0.1,
          0.1
         ],
         "y": [
          -0.1,
          0.1
         ],
         "z": [
          0,
          0.1
         ]
        }
       ],
       "layout": {
        "coloraxis": {
         "showscale": false
        },
        "font": {
         "color": "white",
         "family": "Roboto, monospace",
         "size": 12
        },
        "height": 800,
        "margin": {
         "b": 50,
         "l": 5,
         "r": 5,
         "t": 50
        },
        "scene": {
         "aspectratio": {
          "x": 1,
          "y": 1,
          "z": 1
         },
         "camera": {
          "eye": {
           "x": -1.5,
           "y": 1.5,
           "z": 1.5
          },
          "up": {
           "x": 0,
           "y": 0,
           "z": 1
          }
         }
        },
        "showlegend": false,
        "template": {
         "data": {
          "bar": [
           {
            "error_x": {
             "color": "#f2f5fa"
            },
            "error_y": {
             "color": "#f2f5fa"
            },
            "marker": {
             "line": {
              "color": "rgb(17,17,17)",
              "width": 0.5
             },
             "pattern": {
              "fillmode": "overlay",
              "size": 10,
              "solidity": 0.2
             }
            },
            "type": "bar"
           }
          ],
          "barpolar": [
           {
            "marker": {
             "line": {
              "color": "rgb(17,17,17)",
              "width": 0.5
             },
             "pattern": {
              "fillmode": "overlay",
              "size": 10,
              "solidity": 0.2
             }
            },
            "type": "barpolar"
           }
          ],
          "carpet": [
           {
            "aaxis": {
             "endlinecolor": "#A2B1C6",
             "gridcolor": "#506784",
             "linecolor": "#506784",
             "minorgridcolor": "#506784",
             "startlinecolor": "#A2B1C6"
            },
            "baxis": {
             "endlinecolor": "#A2B1C6",
             "gridcolor": "#506784",
             "linecolor": "#506784",
             "minorgridcolor": "#506784",
             "startlinecolor": "#A2B1C6"
            },
            "type": "carpet"
           }
          ],
          "choropleth": [
           {
            "colorbar": {
             "outlinewidth": 0,
             "ticks": ""
            },
            "type": "choropleth"
           }
          ],
          "contour": [
           {
            "colorbar": {
             "outlinewidth": 0,
             "ticks": ""
            },
            "colorscale": [
             [
              0,
              "#0d0887"
             ],
             [
              0.1111111111111111,
              "#46039f"
             ],
             [
              0.2222222222222222,
              "#7201a8"
             ],
             [
              0.3333333333333333,
              "#9c179e"
             ],
             [
              0.4444444444444444,
              "#bd3786"
             ],
             [
              0.5555555555555556,
              "#d8576b"
             ],
             [
              0.6666666666666666,
              "#ed7953"
             ],
             [
              0.7777777777777778,
              "#fb9f3a"
             ],
             [
              0.8888888888888888,
              "#fdca26"
             ],
             [
              1,
              "#f0f921"
             ]
            ],
            "type": "contour"
           }
          ],
          "contourcarpet": [
           {
            "colorbar": {
             "outlinewidth": 0,
             "ticks": ""
            },
            "type": "contourcarpet"
           }
          ],
          "heatmap": [
           {
            "colorbar": {
             "outlinewidth": 0,
             "ticks": ""
            },
            "colorscale": [
             [
              0,
              "#0d0887"
             ],
             [
              0.1111111111111111,
              "#46039f"
             ],
             [
              0.2222222222222222,
              "#7201a8"
             ],
             [
              0.3333333333333333,
              "#9c179e"
             ],
             [
              0.4444444444444444,
              "#bd3786"
             ],
             [
              0.5555555555555556,
              "#d8576b"
             ],
             [
              0.6666666666666666,
              "#ed7953"
             ],
             [
              0.7777777777777778,
              "#fb9f3a"
             ],
             [
              0.8888888888888888,
              "#fdca26"
             ],
             [
              1,
              "#f0f921"
             ]
            ],
            "type": "heatmap"
           }
          ],
          "heatmapgl": [
           {
            "colorbar": {
             "outlinewidth": 0,
             "ticks": ""
            },
            "colorscale": [
             [
              0,
              "#0d0887"
             ],
             [
              0.1111111111111111,
              "#46039f"
             ],
             [
              0.2222222222222222,
              "#7201a8"
             ],
             [
              0.3333333333333333,
              "#9c179e"
             ],
             [
              0.4444444444444444,
              "#bd3786"
             ],
             [
              0.5555555555555556,
              "#d8576b"
             ],
             [
              0.6666666666666666,
              "#ed7953"
             ],
             [
              0.7777777777777778,
              "#fb9f3a"
             ],
             [
              0.8888888888888888,
              "#fdca26"
             ],
             [
              1,
              "#f0f921"
             ]
            ],
            "type": "heatmapgl"
           }
          ],
          "histogram": [
           {
            "marker": {
             "pattern": {
              "fillmode": "overlay",
              "size": 10,
              "solidity": 0.2
             }
            },
            "type": "histogram"
           }
          ],
          "histogram2d": [
           {
            "colorbar": {
             "outlinewidth": 0,
             "ticks": ""
            },
            "colorscale": [
             [
              0,
              "#0d0887"
             ],
             [
              0.1111111111111111,
              "#46039f"
             ],
             [
              0.2222222222222222,
              "#7201a8"
             ],
             [
              0.3333333333333333,
              "#9c179e"
             ],
             [
              0.4444444444444444,
              "#bd3786"
             ],
             [
              0.5555555555555556,
              "#d8576b"
             ],
             [
              0.6666666666666666,
              "#ed7953"
             ],
             [
              0.7777777777777778,
              "#fb9f3a"
             ],
             [
              0.8888888888888888,
              "#fdca26"
             ],
             [
              1,
              "#f0f921"
             ]
            ],
            "type": "histogram2d"
           }
          ],
          "histogram2dcontour": [
           {
            "colorbar": {
             "outlinewidth": 0,
             "ticks": ""
            },
            "colorscale": [
             [
              0,
              "#0d0887"
             ],
             [
              0.1111111111111111,
              "#46039f"
             ],
             [
              0.2222222222222222,
              "#7201a8"
             ],
             [
              0.3333333333333333,
              "#9c179e"
             ],
             [
              0.4444444444444444,
              "#bd3786"
             ],
             [
              0.5555555555555556,
              "#d8576b"
             ],
             [
              0.6666666666666666,
              "#ed7953"
             ],
             [
              0.7777777777777778,
              "#fb9f3a"
             ],
             [
              0.8888888888888888,
              "#fdca26"
             ],
             [
              1,
              "#f0f921"
             ]
            ],
            "type": "histogram2dcontour"
           }
          ],
          "mesh3d": [
           {
            "colorbar": {
             "outlinewidth": 0,
             "ticks": ""
            },
            "type": "mesh3d"
           }
          ],
          "parcoords": [
           {
            "line": {
             "colorbar": {
              "outlinewidth": 0,
              "ticks": ""
             }
            },
            "type": "parcoords"
           }
          ],
          "pie": [
           {
            "automargin": true,
            "type": "pie"
           }
          ],
          "scatter": [
           {
            "marker": {
             "line": {
              "color": "#283442"
             }
            },
            "type": "scatter"
           }
          ],
          "scatter3d": [
           {
            "line": {
             "colorbar": {
              "outlinewidth": 0,
              "ticks": ""
             }
            },
            "marker": {
             "colorbar": {
              "outlinewidth": 0,
              "ticks": ""
             }
            },
            "type": "scatter3d"
           }
          ],
          "scattercarpet": [
           {
            "marker": {
             "colorbar": {
              "outlinewidth": 0,
              "ticks": ""
             }
            },
            "type": "scattercarpet"
           }
          ],
          "scattergeo": [
           {
            "marker": {
             "colorbar": {
              "outlinewidth": 0,
              "ticks": ""
             }
            },
            "type": "scattergeo"
           }
          ],
          "scattergl": [
           {
            "marker": {
             "line": {
              "color": "#283442"
             }
            },
            "type": "scattergl"
           }
          ],
          "scattermapbox": [
           {
            "marker": {
             "colorbar": {
              "outlinewidth": 0,
              "ticks": ""
             }
            },
            "type": "scattermapbox"
           }
          ],
          "scatterpolar": [
           {
            "marker": {
             "colorbar": {
              "outlinewidth": 0,
              "ticks": ""
             }
            },
            "type": "scatterpolar"
           }
          ],
          "scatterpolargl": [
           {
            "marker": {
             "colorbar": {
              "outlinewidth": 0,
              "ticks": ""
             }
            },
            "type": "scatterpolargl"
           }
          ],
          "scatterternary": [
           {
            "marker": {
             "colorbar": {
              "outlinewidth": 0,
              "ticks": ""
             }
            },
            "type": "scatterternary"
           }
          ],
          "surface": [
           {
            "colorbar": {
             "outlinewidth": 0,
             "ticks": ""
            },
            "colorscale": [
             [
              0,
              "#0d0887"
             ],
             [
              0.1111111111111111,
              "#46039f"
             ],
             [
              0.2222222222222222,
              "#7201a8"
             ],
             [
              0.3333333333333333,
              "#9c179e"
             ],
             [
              0.4444444444444444,
              "#bd3786"
             ],
             [
              0.5555555555555556,
              "#d8576b"
             ],
             [
              0.6666666666666666,
              "#ed7953"
             ],
             [
              0.7777777777777778,
              "#fb9f3a"
             ],
             [
              0.8888888888888888,
              "#fdca26"
             ],
             [
              1,
              "#f0f921"
             ]
            ],
            "type": "surface"
           }
          ],
          "table": [
           {
            "cells": {
             "fill": {
              "color": "#506784"
             },
             "line": {
              "color": "rgb(17,17,17)"
             }
            },
            "header": {
             "fill": {
              "color": "#2a3f5f"
             },
             "line": {
              "color": "rgb(17,17,17)"
             }
            },
            "type": "table"
           }
          ]
         },
         "layout": {
          "annotationdefaults": {
           "arrowcolor": "#f2f5fa",
           "arrowhead": 0,
           "arrowwidth": 1
          },
          "autotypenumbers": "strict",
          "coloraxis": {
           "colorbar": {
            "outlinewidth": 0,
            "ticks": ""
           }
          },
          "colorscale": {
           "diverging": [
            [
             0,
             "#8e0152"
            ],
            [
             0.1,
             "#c51b7d"
            ],
            [
             0.2,
             "#de77ae"
            ],
            [
             0.3,
             "#f1b6da"
            ],
            [
             0.4,
             "#fde0ef"
            ],
            [
             0.5,
             "#f7f7f7"
            ],
            [
             0.6,
             "#e6f5d0"
            ],
            [
             0.7,
             "#b8e186"
            ],
            [
             0.8,
             "#7fbc41"
            ],
            [
             0.9,
             "#4d9221"
            ],
            [
             1,
             "#276419"
            ]
           ],
           "sequential": [
            [
             0,
             "#0d0887"
            ],
            [
             0.1111111111111111,
             "#46039f"
            ],
            [
             0.2222222222222222,
             "#7201a8"
            ],
            [
             0.3333333333333333,
             "#9c179e"
            ],
            [
             0.4444444444444444,
             "#bd3786"
            ],
            [
             0.5555555555555556,
             "#d8576b"
            ],
            [
             0.6666666666666666,
             "#ed7953"
            ],
            [
             0.7777777777777778,
             "#fb9f3a"
            ],
            [
             0.8888888888888888,
             "#fdca26"
            ],
            [
             1,
             "#f0f921"
            ]
           ],
           "sequentialminus": [
            [
             0,
             "#0d0887"
            ],
            [
             0.1111111111111111,
             "#46039f"
            ],
            [
             0.2222222222222222,
             "#7201a8"
            ],
            [
             0.3333333333333333,
             "#9c179e"
            ],
            [
             0.4444444444444444,
             "#bd3786"
            ],
            [
             0.5555555555555556,
             "#d8576b"
            ],
            [
             0.6666666666666666,
             "#ed7953"
            ],
            [
             0.7777777777777778,
             "#fb9f3a"
            ],
            [
             0.8888888888888888,
             "#fdca26"
            ],
            [
             1,
             "#f0f921"
            ]
           ]
          },
          "colorway": [
           "#636efa",
           "#EF553B",
           "#00cc96",
           "#ab63fa",
           "#FFA15A",
           "#19d3f3",
           "#FF6692",
           "#B6E880",
           "#FF97FF",
           "#FECB52"
          ],
          "font": {
           "color": "#f2f5fa"
          },
          "geo": {
           "bgcolor": "rgb(17,17,17)",
           "lakecolor": "rgb(17,17,17)",
           "landcolor": "rgb(17,17,17)",
           "showlakes": true,
           "showland": true,
           "subunitcolor": "#506784"
          },
          "hoverlabel": {
           "align": "left"
          },
          "hovermode": "closest",
          "mapbox": {
           "style": "dark"
          },
          "paper_bgcolor": "rgb(17,17,17)",
          "plot_bgcolor": "rgb(17,17,17)",
          "polar": {
           "angularaxis": {
            "gridcolor": "#506784",
            "linecolor": "#506784",
            "ticks": ""
           },
           "bgcolor": "rgb(17,17,17)",
           "radialaxis": {
            "gridcolor": "#506784",
            "linecolor": "#506784",
            "ticks": ""
           }
          },
          "scene": {
           "xaxis": {
            "backgroundcolor": "rgb(17,17,17)",
            "gridcolor": "#506784",
            "gridwidth": 2,
            "linecolor": "#506784",
            "showbackground": true,
            "ticks": "",
            "zerolinecolor": "#C8D4E3"
           },
           "yaxis": {
            "backgroundcolor": "rgb(17,17,17)",
            "gridcolor": "#506784",
            "gridwidth": 2,
            "linecolor": "#506784",
            "showbackground": true,
            "ticks": "",
            "zerolinecolor": "#C8D4E3"
           },
           "zaxis": {
            "backgroundcolor": "rgb(17,17,17)",
            "gridcolor": "#506784",
            "gridwidth": 2,
            "linecolor": "#506784",
            "showbackground": true,
            "ticks": "",
            "zerolinecolor": "#C8D4E3"
           }
          },
          "shapedefaults": {
           "line": {
            "color": "#f2f5fa"
           }
          },
          "sliderdefaults": {
           "bgcolor": "#C8D4E3",
           "bordercolor": "rgb(17,17,17)",
           "borderwidth": 1,
           "tickwidth": 0
          },
          "ternary": {
           "aaxis": {
            "gridcolor": "#506784",
            "linecolor": "#506784",
            "ticks": ""
           },
           "baxis": {
            "gridcolor": "#506784",
            "linecolor": "#506784",
            "ticks": ""
           },
           "bgcolor": "rgb(17,17,17)",
           "caxis": {
            "gridcolor": "#506784",
            "linecolor": "#506784",
            "ticks": ""
           }
          },
          "title": {
           "x": 0.05
          },
          "updatemenudefaults": {
           "bgcolor": "#506784",
           "borderwidth": 0
          },
          "xaxis": {
           "automargin": true,
           "gridcolor": "#283442",
           "linecolor": "#506784",
           "ticks": "",
           "title": {
            "standoff": 15
           },
           "zerolinecolor": "#283442",
           "zerolinewidth": 2
          },
          "yaxis": {
           "automargin": true,
           "gridcolor": "#283442",
           "linecolor": "#506784",
           "ticks": "",
           "title": {
            "standoff": 15
           },
           "zerolinecolor": "#283442",
           "zerolinewidth": 2
          }
         }
        },
        "title": {
         "text": "Compare Motion Plots"
        },
        "xaxis": {
         "fixedrange": true,
         "showgrid": false,
         "showticklabels": false,
         "zeroline": false,
         "zerolinecolor": "gray",
         "zerolinewidth": 1
        },
        "yaxis": {
         "fixedrange": true,
         "showgrid": false,
         "showticklabels": false,
         "zeroline": false,
         "zerolinecolor": "gray",
         "zerolinewidth": 1
        }
       }
      }
     },
     "metadata": {},
     "output_type": "display_data"
    }
   ],
   "source": [
    "def test_generation_method():\n",
    "    for j in range(1):\n",
    "        sample_size = np.random.randint(0, 128, size=1)\n",
    "        d_seed= np.random.randint(0, 10)\n",
    "        for i, d in enumerate(model_config.train_iterator):\n",
    "            if i ==d_seed:\n",
    "                # picking a random sample\n",
    "                x_samples = d[model_config.data_item][sample_size, :,:]\n",
    "                y_sampels = d['Y'][sample_size, :,:] \n",
    "                print(torch.sum(y_sampels))\n",
    "                # getting the latent vector z\n",
    "                z, __, __ = model.encoder(x_samples, y_sampels)\n",
    "\n",
    "                # adding noise to latent vector\n",
    "                generation_size = 8\n",
    "                noise = torch.normal(mean= .1, std= .2, size = (generation_size, 256)).to(model_config.device)\n",
    "                z = z + noise\n",
    "                # generating new motions based on the new z signals\n",
    "                x_generated = model.decoder(z[:generation_size//2] , y_sampels[:generation_size//2])\n",
    "                x_opposite_hand_generated = model.decoder(z[generation_size//2:] , y_sampels[generation_size//2:]*0) \n",
    "                \n",
    "                # scaling to correct scale for the robot\n",
    "                x_generated = scale_back(x_generated, d)\n",
    "                \n",
    "                x_opposite_hand_generated = scale_back(x_opposite_hand_generated, d)\n",
    "                x_samples = scale_back(x_samples, d)     \n",
    "            \n",
    "                samples= torch.cat((x_samples, x_generated, x_opposite_hand_generated))   \n",
    "                generation_range_visualization(samples)     \n",
    "                 \n",
    "                break\n",
    "     \n",
    "    \n",
    "def scale_back(motion, d):\n",
    "    centered_max_val = d[\"centered_max_val\"][0]\n",
    "    centered_min_val = d[\"centered_min_val\"][0]\n",
    "    rescaled_data = (motion*(centered_max_val-centered_min_val)+centered_min_val)\n",
    "    return rescaled_data\n",
    "\n",
    "test_generation_method()    "
   ]
  },
  {
   "cell_type": "code",
   "execution_count": null,
   "metadata": {},
   "outputs": [],
   "source": []
  },
  {
   "cell_type": "code",
   "execution_count": 283,
   "metadata": {},
   "outputs": [],
   "source": [
    "def show_generated_motions(x_generated, plot_title):\n",
    "    all_plots = []\n",
    "    color = np.arange(20)\n",
    "    for index in range(x_generated.shape[0]):\n",
    "        sample_generated = x_generated[index,:,:] \n",
    "        \n",
    "        x_rec_plot = go.Scatter3d(\n",
    "                                x= sample_generated[:,0].detach().cpu().numpy(), \n",
    "                                y= sample_generated[: ,1].detach().cpu().numpy(), \n",
    "                                z= sample_generated[:, 2].detach().cpu().numpy(),  \n",
    "                                mode='lines',\n",
    "                                name=\"Generated\",\n",
    "                                line=dict(color=color,\n",
    "                                        width=2,\n",
    "                                        colorscale= 'Agsunset',),\n",
    "                                )\n",
    "        all_plots.append(x_rec_plot)\n",
    "\n",
    "    fig = go.Figure(data=all_plots)\n",
    "    fig = plot_layout_style(fig, plot_title)\n",
    "    return fig\n",
    "    fig.show()"
   ]
  },
  {
   "cell_type": "code",
   "execution_count": 284,
   "metadata": {},
   "outputs": [
    {
     "data": {
      "application/vnd.plotly.v1+json": {
       "config": {
        "plotlyServerURL": "https://plot.ly"
       },
       "data": [
        {
         "line": {
          "color": [
           0,
           1,
           2,
           3,
           4,
           5,
           6,
           7,
           8,
           9,
           10,
           11,
           12,
           13,
           14,
           15,
           16,
           17,
           18,
           19
          ],
          "colorscale": [
           [
            0,
            "rgb(75, 41, 145)"
           ],
           [
            0.16666666666666666,
            "rgb(135, 44, 162)"
           ],
           [
            0.3333333333333333,
            "rgb(192, 54, 157)"
           ],
           [
            0.5,
            "rgb(234, 79, 136)"
           ],
           [
            0.6666666666666666,
            "rgb(250, 120, 118)"
           ],
           [
            0.8333333333333334,
            "rgb(246, 169, 122)"
           ],
           [
            1,
            "rgb(237, 217, 163)"
           ]
          ],
          "width": 2
         },
         "mode": "lines",
         "name": "Generated",
         "type": "scatter3d",
         "x": [
          0.7358527779579163,
          0.6503131985664368,
          0.5595386028289795,
          0.46367353200912476,
          0.36416491866111755,
          0.2658296823501587,
          0.17505504190921783,
          0.0984584242105484,
          0.047292184084653854,
          0.03236401826143265,
          0.0391315259039402,
          0.04983201250433922,
          0.0651191920042038,
          0.08450545370578766,
          0.10620113462209702,
          0.12713058292865753,
          0.14802251756191254,
          0.16950924694538116,
          0.1901761293411255,
          0.20983566343784332
         ],
         "y": [
          0.5957303643226624,
          0.5838631987571716,
          0.5706886053085327,
          0.5508052110671997,
          0.530643105506897,
          0.5057228207588196,
          0.4849749207496643,
          0.4706714451313019,
          0.45955443382263184,
          0.45301714539527893,
          0.4350556433200836,
          0.413493275642395,
          0.39100924134254456,
          0.37464097142219543,
          0.36556732654571533,
          0.36998268961906433,
          0.38501492142677307,
          0.40629151463508606,
          0.4358058273792267,
          0.470407098531723
         ],
         "z": [
          0.8103675246238708,
          0.7600398659706116,
          0.7014826536178589,
          0.6322686076164246,
          0.5507086515426636,
          0.4555889964103699,
          0.3471929728984833,
          0.22842326760292053,
          0.10755319148302078,
          0.037132181227207184,
          0.053719282150268555,
          0.07703225314617157,
          0.10451222211122513,
          0.13483762741088867,
          0.16616769134998322,
          0.19719095528125763,
          0.22805579006671906,
          0.25681352615356445,
          0.28373047709465027,
          0.3081694543361664
         ]
        },
        {
         "line": {
          "color": [
           0,
           1,
           2,
           3,
           4,
           5,
           6,
           7,
           8,
           9,
           10,
           11,
           12,
           13,
           14,
           15,
           16,
           17,
           18,
           19
          ],
          "colorscale": [
           [
            0,
            "rgb(75, 41, 145)"
           ],
           [
            0.16666666666666666,
            "rgb(135, 44, 162)"
           ],
           [
            0.3333333333333333,
            "rgb(192, 54, 157)"
           ],
           [
            0.5,
            "rgb(234, 79, 136)"
           ],
           [
            0.6666666666666666,
            "rgb(250, 120, 118)"
           ],
           [
            0.8333333333333334,
            "rgb(246, 169, 122)"
           ],
           [
            1,
            "rgb(237, 217, 163)"
           ]
          ],
          "width": 2
         },
         "mode": "lines",
         "name": "Generated",
         "type": "scatter3d",
         "x": [
          0.6580987572669983,
          0.5927438139915466,
          0.5162276029586792,
          0.424997478723526,
          0.32799646258354187,
          0.229479119181633,
          0.13839904963970184,
          0.07055249065160751,
          0.033644646406173706,
          0.03236401826143265,
          0.03161921724677086,
          0.03222470358014107,
          0.033510688692331314,
          0.0373472198843956,
          0.0440075621008873,
          0.05194317549467087,
          0.06270796805620193,
          0.0725189745426178,
          0.08134406805038452,
          0.08820802718400955
         ],
         "y": [
          0.5691524744033813,
          0.5549490451812744,
          0.5342940092086792,
          0.5361588001251221,
          0.5122600793838501,
          0.48958316445350647,
          0.4787162244319916,
          0.46164780855178833,
          0.45816126465797424,
          0.45301714539527893,
          0.4526170492172241,
          0.45135244727134705,
          0.44925907254219055,
          0.44687995314598083,
          0.4444650709629059,
          0.44868040084838867,
          0.44612976908683777,
          0.45044511556625366,
          0.4564180076122284,
          0.46179068088531494
         ],
         "z": [
          0.8428000211715698,
          0.8052026033401489,
          0.7586373686790466,
          0.6949254274368286,
          0.617792010307312,
          0.5227094888687134,
          0.41042962670326233,
          0.2849273085594177,
          0.1514887809753418,
          0.037132181227207184,
          0.05518919229507446,
          0.07529936730861664,
          0.10212193429470062,
          0.13322611153125763,
          0.16503827273845673,
          0.19549515843391418,
          0.22351117432117462,
          0.24680054187774658,
          0.26457101106643677,
          0.2762864828109741
         ]
        },
        {
         "line": {
          "color": [
           0,
           1,
           2,
           3,
           4,
           5,
           6,
           7,
           8,
           9,
           10,
           11,
           12,
           13,
           14,
           15,
           16,
           17,
           18,
           19
          ],
          "colorscale": [
           [
            0,
            "rgb(75, 41, 145)"
           ],
           [
            0.16666666666666666,
            "rgb(135, 44, 162)"
           ],
           [
            0.3333333333333333,
            "rgb(192, 54, 157)"
           ],
           [
            0.5,
            "rgb(234, 79, 136)"
           ],
           [
            0.6666666666666666,
            "rgb(250, 120, 118)"
           ],
           [
            0.8333333333333334,
            "rgb(246, 169, 122)"
           ],
           [
            1,
            "rgb(237, 217, 163)"
           ]
          ],
          "width": 2
         },
         "mode": "lines",
         "name": "Generated",
         "type": "scatter3d",
         "x": [
          0.6173650622367859,
          0.5557287931442261,
          0.4853745698928833,
          0.40239623188972473,
          0.31403282284736633,
          0.22320455312728882,
          0.1409764140844345,
          0.07555712014436722,
          0.036414895206689835,
          0.03236401826143265,
          0.040503256022930145,
          0.04715822637081146,
          0.05233435332775116,
          0.059246502816677094,
          0.06591755896806717,
          0.076960988342762,
          0.08904926478862762,
          0.1042507216334343,
          0.12354589253664017,
          0.14389663934707642
         ],
         "y": [
          0.958840012550354,
          0.8995542526245117,
          0.8399540185928345,
          0.7740665674209595,
          0.7052784562110901,
          0.638547956943512,
          0.5721818208694458,
          0.5128317475318909,
          0.4711287021636963,
          0.45301714539527893,
          0.4411357045173645,
          0.43977829813957214,
          0.4473944306373596,
          0.4644342064857483,
          0.48964744806289673,
          0.5179328918457031,
          0.5526484847068787,
          0.5866138935089111,
          0.6154923439025879,
          0.6447136998176575
         ],
         "z": [
          0.847068190574646,
          0.8040732145309448,
          0.7513653635978699,
          0.6855732202529907,
          0.6075127124786377,
          0.514651894569397,
          0.4062356650829315,
          0.2817750573158264,
          0.14559563994407654,
          0.037132181227207184,
          0.06396147608757019,
          0.09276639670133591,
          0.12498649954795837,
          0.15988346934318542,
          0.19749437272548676,
          0.23862838745117188,
          0.27982640266418457,
          0.32160770893096924,
          0.36356431245803833,
          0.4023248553276062
         ]
        },
        {
         "line": {
          "color": [
           0,
           1,
           2,
           3,
           4,
           5,
           6,
           7,
           8,
           9,
           10,
           11,
           12,
           13,
           14,
           15,
           16,
           17,
           18,
           19
          ],
          "colorscale": [
           [
            0,
            "rgb(75, 41, 145)"
           ],
           [
            0.16666666666666666,
            "rgb(135, 44, 162)"
           ],
           [
            0.3333333333333333,
            "rgb(192, 54, 157)"
           ],
           [
            0.5,
            "rgb(234, 79, 136)"
           ],
           [
            0.6666666666666666,
            "rgb(250, 120, 118)"
           ],
           [
            0.8333333333333334,
            "rgb(246, 169, 122)"
           ],
           [
            1,
            "rgb(237, 217, 163)"
           ]
          ],
          "width": 2
         },
         "mode": "lines",
         "name": "Generated",
         "type": "scatter3d",
         "x": [
          0.6133946180343628,
          0.5590616464614868,
          0.4952552616596222,
          0.4200785458087921,
          0.33614107966423035,
          0.24952444434165955,
          0.16777314245700836,
          0.0981958657503128,
          0.04994989186525345,
          0.03236401826143265,
          0.036286283284425735,
          0.048053063452243805,
          0.06449227035045624,
          0.0862254798412323,
          0.10770683735609055,
          0.12717346847057343,
          0.14196233451366425,
          0.15231984853744507,
          0.15790319442749023,
          0.15963928401470184
         ],
         "y": [
          0.46041178703308105,
          0.4675563871860504,
          0.4635196924209595,
          0.4619121551513672,
          0.45622503757476807,
          0.4446365237236023,
          0.4369632303714752,
          0.4342411458492279,
          0.44887325167655945,
          0.45301714539527893,
          0.4439792335033417,
          0.43595585227012634,
          0.43416258692741394,
          0.4302401542663574,
          0.433226615190506,
          0.438899427652359,
          0.44494375586509705,
          0.4526456594467163,
          0.4650200307369232,
          0.4732935130596161
         ],
         "z": [
          0.7238415479660034,
          0.6863857507705688,
          0.6388629674911499,
          0.5808587074279785,
          0.5103904604911804,
          0.42690208554267883,
          0.33063623309135437,
          0.22546997666358948,
          0.11468024551868439,
          0.037132181227207184,
          0.08266916871070862,
          0.13361045718193054,
          0.1819186955690384,
          0.22433044016361237,
          0.26024556159973145,
          0.28984612226486206,
          0.31252190470695496,
          0.3290213346481323,
          0.3395366370677948,
          0.3443947732448578
         ]
        },
        {
         "line": {
          "color": [
           0,
           1,
           2,
           3,
           4,
           5,
           6,
           7,
           8,
           9,
           10,
           11,
           12,
           13,
           14,
           15,
           16,
           17,
           18,
           19
          ],
          "colorscale": [
           [
            0,
            "rgb(75, 41, 145)"
           ],
           [
            0.16666666666666666,
            "rgb(135, 44, 162)"
           ],
           [
            0.3333333333333333,
            "rgb(192, 54, 157)"
           ],
           [
            0.5,
            "rgb(234, 79, 136)"
           ],
           [
            0.6666666666666666,
            "rgb(250, 120, 118)"
           ],
           [
            0.8333333333333334,
            "rgb(246, 169, 122)"
           ],
           [
            1,
            "rgb(237, 217, 163)"
           ]
          ],
          "width": 2
         },
         "mode": "lines",
         "name": "Generated",
         "type": "scatter3d",
         "x": [
          0.6528262495994568,
          0.5626785159111023,
          0.46507206559181213,
          0.3650543689727783,
          0.26966625452041626,
          0.1829371154308319,
          0.11028952896595001,
          0.059535879641771317,
          0.03328029438853264,
          0.03236401826143265,
          0.027134355157613754,
          0.024669550359249115,
          0.02502853237092495,
          0.031597789376974106,
          0.04528820514678955,
          0.06368318945169449,
          0.09012095630168915,
          0.12153118848800659,
          0.1530432403087616,
          0.18139928579330444
         ],
         "y": [
          0.7517682909965515,
          0.7090222239494324,
          0.672813355922699,
          0.6332895159721375,
          0.5972092747688293,
          0.5562207698822021,
          0.5259777307510376,
          0.4930339753627777,
          0.4700784385204315,
          0.45301714539527893,
          0.45821842551231384,
          0.47354358434677124,
          0.49460580945014954,
          0.5194618701934814,
          0.5435319542884827,
          0.5752111077308655,
          0.5900218486785889,
          0.6061614751815796,
          0.6234728693962097,
          0.6352614164352417
         ],
         "z": [
          0.8167765736579895,
          0.7663915753364563,
          0.7045573592185974,
          0.6310009956359863,
          0.5493971705436707,
          0.455733984708786,
          0.353193998336792,
          0.2439618706703186,
          0.13428808748722076,
          0.037132181227207184,
          0.0533180870115757,
          0.08591916412115097,
          0.1262069195508957,
          0.17309921979904175,
          0.22324484586715698,
          0.27318820357322693,
          0.32191112637519836,
          0.3687595725059509,
          0.4078606069087982,
          0.437201589345932
         ]
        },
        {
         "line": {
          "color": [
           0,
           1,
           2,
           3,
           4,
           5,
           6,
           7,
           8,
           9,
           10,
           11,
           12,
           13,
           14,
           15,
           16,
           17,
           18,
           19
          ],
          "colorscale": [
           [
            0,
            "rgb(75, 41, 145)"
           ],
           [
            0.16666666666666666,
            "rgb(135, 44, 162)"
           ],
           [
            0.3333333333333333,
            "rgb(192, 54, 157)"
           ],
           [
            0.5,
            "rgb(234, 79, 136)"
           ],
           [
            0.6666666666666666,
            "rgb(250, 120, 118)"
           ],
           [
            0.8333333333333334,
            "rgb(246, 169, 122)"
           ],
           [
            1,
            "rgb(237, 217, 163)"
           ]
          ],
          "width": 2
         },
         "mode": "lines",
         "name": "Generated",
         "type": "scatter3d",
         "x": [
          0.12778964638710022,
          0.14283035695552826,
          0.14760993421077728,
          0.13836154341697693,
          0.1154334545135498,
          0.08273721486330032,
          0.05244685336947441,
          0.03309810906648636,
          0.02969023957848549,
          0.03236401826143265,
          0.028238145634531975,
          0.029936721548438072,
          0.03509673848748207,
          0.04179995507001877,
          0.04886217042803764,
          0.057076405733823776,
          0.0659015104174614,
          0.07611437886953354,
          0.08426433801651001,
          0.0925428718328476
         ],
         "y": [
          0.6764357089996338,
          0.665661633014679,
          0.6493362784385681,
          0.6277310252189636,
          0.6017103791236877,
          0.5724390149116516,
          0.5493476986885071,
          0.5136247277259827,
          0.4768729507923126,
          0.45301714539527893,
          0.46692055463790894,
          0.4794735610485077,
          0.4957560896873474,
          0.5145606398582458,
          0.5385307669639587,
          0.5605003833770752,
          0.5733535289764404,
          0.5896574854850769,
          0.5972808003425598,
          0.5985167622566223
         ],
         "z": [
          0.375758558511734,
          0.395447313785553,
          0.4014483094215393,
          0.38931816816329956,
          0.35485610365867615,
          0.30044570565223694,
          0.22768156230449677,
          0.14485394954681396,
          0.062056656926870346,
          0.037132181227207184,
          0.08125656843185425,
          0.12367842346429825,
          0.16026106476783752,
          0.1916922628879547,
          0.21919584274291992,
          0.24319320917129517,
          0.2658858597278595,
          0.28778621554374695,
          0.30505773425102234,
          0.3210581839084625
         ]
        },
        {
         "line": {
          "color": [
           0,
           1,
           2,
           3,
           4,
           5,
           6,
           7,
           8,
           9,
           10,
           11,
           12,
           13,
           14,
           15,
           16,
           17,
           18,
           19
          ],
          "colorscale": [
           [
            0,
            "rgb(75, 41, 145)"
           ],
           [
            0.16666666666666666,
            "rgb(135, 44, 162)"
           ],
           [
            0.3333333333333333,
            "rgb(192, 54, 157)"
           ],
           [
            0.5,
            "rgb(234, 79, 136)"
           ],
           [
            0.6666666666666666,
            "rgb(250, 120, 118)"
           ],
           [
            0.8333333333333334,
            "rgb(246, 169, 122)"
           ],
           [
            1,
            "rgb(237, 217, 163)"
           ]
          ],
          "width": 2
         },
         "mode": "lines",
         "name": "Generated",
         "type": "scatter3d",
         "x": [
          0.6524243354797363,
          0.5966070890426636,
          0.5291677713394165,
          0.4518316984176636,
          0.3654080033302307,
          0.27515846490859985,
          0.18683791160583496,
          0.10958221554756165,
          0.05481521412730217,
          0.03236401826143265,
          0.038220617920160294,
          0.048395998775959015,
          0.05970732495188713,
          0.07253505289554596,
          0.08863668888807297,
          0.10788363963365555,
          0.13142256438732147,
          0.1586533486843109,
          0.18837037682533264,
          0.220857635140419
         ],
         "y": [
          0.5730534195899963,
          0.5544989705085754,
          0.5389665961265564,
          0.5256133079528809,
          0.5140677094459534,
          0.5017147064208984,
          0.48730406165122986,
          0.47097864747047424,
          0.46008312702178955,
          0.45301714539527893,
          0.4473586082458496,
          0.4477587342262268,
          0.4573539197444916,
          0.475644052028656,
          0.4995999038219452,
          0.5231198668479919,
          0.5464327335357666,
          0.5675949454307556,
          0.5831844806671143,
          0.5917794108390808
         ],
         "z": [
          0.73866206407547,
          0.6998172402381897,
          0.6528642773628235,
          0.5960197448730469,
          0.5273551940917969,
          0.4462469816207886,
          0.35211852192878723,
          0.2456003576517105,
          0.1296558380126953,
          0.037132181227207184,
          0.06449752300977707,
          0.0924730971455574,
          0.12182418256998062,
          0.15344078838825226,
          0.18683750927448273,
          0.22277286648750305,
          0.26037701964378357,
          0.2989049553871155,
          0.337439626455307,
          0.37384021282196045
         ]
        },
        {
         "line": {
          "color": [
           0,
           1,
           2,
           3,
           4,
           5,
           6,
           7,
           8,
           9,
           10,
           11,
           12,
           13,
           14,
           15,
           16,
           17,
           18,
           19
          ],
          "colorscale": [
           [
            0,
            "rgb(75, 41, 145)"
           ],
           [
            0.16666666666666666,
            "rgb(135, 44, 162)"
           ],
           [
            0.3333333333333333,
            "rgb(192, 54, 157)"
           ],
           [
            0.5,
            "rgb(234, 79, 136)"
           ],
           [
            0.6666666666666666,
            "rgb(250, 120, 118)"
           ],
           [
            0.8333333333333334,
            "rgb(246, 169, 122)"
           ],
           [
            1,
            "rgb(237, 217, 163)"
           ]
          ],
          "width": 2
         },
         "mode": "lines",
         "name": "Generated",
         "type": "scatter3d",
         "x": [
          0.7569215297698975,
          0.6677919030189514,
          0.5707748532295227,
          0.46855494379997253,
          0.3638969361782074,
          0.26354706287384033,
          0.17186687886714935,
          0.09682413935661316,
          0.0425715409219265,
          0.03236401826143265,
          0.05015351250767708,
          0.06829129159450531,
          0.08673451095819473,
          0.10491514950990677,
          0.12416744977235794,
          0.14275532960891724,
          0.1601429432630539,
          0.1772037148475647,
          0.19398584961891174,
          0.20918729901313782
         ],
         "y": [
          0.47537970542907715,
          0.47761595249176025,
          0.479459285736084,
          0.4741651713848114,
          0.47175028920173645,
          0.46589887142181396,
          0.4554034471511841,
          0.45401743054389954,
          0.45877566933631897,
          0.45301714539527893,
          0.43790632486343384,
          0.42664647102355957,
          0.41473641991615295,
          0.40606287121772766,
          0.40402668714523315,
          0.4077918827533722,
          0.4186874032020569,
          0.43374103307724,
          0.4506594240665436,
          0.47039994597435
         ],
         "z": [
          0.8098315000534058,
          0.7580912113189697,
          0.6972886919975281,
          0.6246189475059509,
          0.5411002039909363,
          0.44488152861595154,
          0.3368934690952301,
          0.220989391207695,
          0.09534211456775665,
          0.037132181227207184,
          0.060296811163425446,
          0.08271974325180054,
          0.10478530824184418,
          0.12523262202739716,
          0.14475955069065094,
          0.1630120873451233,
          0.18038471043109894,
          0.19742359220981598,
          0.21291498839855194,
          0.22717584669589996
         ]
        },
        {
         "line": {
          "color": [
           0,
           1,
           2,
           3,
           4,
           5,
           6,
           7,
           8,
           9,
           10,
           11,
           12,
           13,
           14,
           15,
           16,
           17,
           18,
           19
          ],
          "colorscale": [
           [
            0,
            "rgb(75, 41, 145)"
           ],
           [
            0.16666666666666666,
            "rgb(135, 44, 162)"
           ],
           [
            0.3333333333333333,
            "rgb(192, 54, 157)"
           ],
           [
            0.5,
            "rgb(234, 79, 136)"
           ],
           [
            0.6666666666666666,
            "rgb(250, 120, 118)"
           ],
           [
            0.8333333333333334,
            "rgb(246, 169, 122)"
           ],
           [
            1,
            "rgb(237, 217, 163)"
           ]
          ],
          "width": 2
         },
         "mode": "lines",
         "name": "Generated",
         "type": "scatter3d",
         "x": [
          0.38540512323379517,
          0.360596239566803,
          0.32369914650917053,
          0.2749173641204834,
          0.2150224894285202,
          0.14941568672657013,
          0.09020131826400757,
          0.045824021100997925,
          0.02880612015724182,
          0.03236401826143265,
          0.033687520772218704,
          0.03637738525867462,
          0.04155884310603142,
          0.04906042292714119,
          0.05979305878281593,
          0.07215461879968643,
          0.08706136792898178,
          0.10130367428064346,
          0.11600679904222488,
          0.1310207098722458
         ],
         "y": [
          0.7270980477333069,
          0.6980480551719666,
          0.6768500804901123,
          0.6489003896713257,
          0.6151707768440247,
          0.5855493545532227,
          0.5406026840209961,
          0.5083591938018799,
          0.47287195920944214,
          0.45301714539527893,
          0.4584398865699768,
          0.4670419692993164,
          0.4815526604652405,
          0.5038294792175293,
          0.5213837027549744,
          0.5440607070922852,
          0.558985710144043,
          0.5747324228286743,
          0.5856207609176636,
          0.5927439332008362
         ],
         "z": [
          0.6926395297050476,
          0.66364586353302,
          0.6233918070793152,
          0.5718302130699158,
          0.505131185054779,
          0.419178307056427,
          0.32274726033210754,
          0.2062397003173828,
          0.08356932550668716,
          0.037132181227207184,
          0.06276465207338333,
          0.09501510113477707,
          0.13096393644809723,
          0.17027738690376282,
          0.2112259417772293,
          0.25152385234832764,
          0.2902708947658539,
          0.3279762268066406,
          0.3624247908592224,
          0.3912668228149414
         ]
        },
        {
         "line": {
          "color": [
           0,
           1,
           2,
           3,
           4,
           5,
           6,
           7,
           8,
           9,
           10,
           11,
           12,
           13,
           14,
           15,
           16,
           17,
           18,
           19
          ],
          "colorscale": [
           [
            0,
            "rgb(75, 41, 145)"
           ],
           [
            0.16666666666666666,
            "rgb(135, 44, 162)"
           ],
           [
            0.3333333333333333,
            "rgb(192, 54, 157)"
           ],
           [
            0.5,
            "rgb(234, 79, 136)"
           ],
           [
            0.6666666666666666,
            "rgb(250, 120, 118)"
           ],
           [
            0.8333333333333334,
            "rgb(246, 169, 122)"
           ],
           [
            1,
            "rgb(237, 217, 163)"
           ]
          ],
          "width": 2
         },
         "mode": "lines",
         "name": "Generated",
         "type": "scatter3d",
         "x": [
          0.7929292321205139,
          0.6962175965309143,
          0.5905308723449707,
          0.4775353968143463,
          0.3593960404396057,
          0.24241402745246887,
          0.1383294016122818,
          0.0618077777326107,
          0.03135130926966667,
          0.03236401826143265,
          0.03934049978852272,
          0.0524950809776783,
          0.07170451432466507,
          0.09644371271133423,
          0.12481580674648285,
          0.1564778983592987,
          0.1873416006565094,
          0.21726760268211365,
          0.2444501668214798,
          0.2686481773853302
         ],
         "y": [
          0.8040595650672913,
          0.7705514430999756,
          0.732206404209137,
          0.6963262557983398,
          0.6565165519714355,
          0.6115270853042603,
          0.5705814361572266,
          0.5197547674179077,
          0.4662989675998688,
          0.45301714539527893,
          0.4632982015609741,
          0.4776802957057953,
          0.5003143548965454,
          0.5312004685401917,
          0.5559564232826233,
          0.5810339450836182,
          0.6056684851646423,
          0.6153280138969421,
          0.6190789341926575,
          0.6158066987991333
         ],
         "z": [
          0.9207863807678223,
          0.8678256869316101,
          0.8050408363342285,
          0.7295458912849426,
          0.6381415128707886,
          0.5272843837738037,
          0.39539673924446106,
          0.24414055049419403,
          0.0881543755531311,
          0.037132181227207184,
          0.08325578272342682,
          0.13272716104984283,
          0.18395163118839264,
          0.23187553882598877,
          0.2775777280330658,
          0.3199658691883087,
          0.3534063994884491,
          0.38310474157333374,
          0.4075167775154114,
          0.4264199733734131
         ]
        },
        {
         "line": {
          "color": [
           0,
           1,
           2,
           3,
           4,
           5,
           6,
           7,
           8,
           9,
           10,
           11,
           12,
           13,
           14,
           15,
           16,
           17,
           18,
           19
          ],
          "colorscale": [
           [
            0,
            "rgb(75, 41, 145)"
           ],
           [
            0.16666666666666666,
            "rgb(135, 44, 162)"
           ],
           [
            0.3333333333333333,
            "rgb(192, 54, 157)"
           ],
           [
            0.5,
            "rgb(234, 79, 136)"
           ],
           [
            0.6666666666666666,
            "rgb(250, 120, 118)"
           ],
           [
            0.8333333333333334,
            "rgb(246, 169, 122)"
           ],
           [
            1,
            "rgb(237, 217, 163)"
           ]
          ],
          "width": 2
         },
         "mode": "lines",
         "name": "Generated",
         "type": "scatter3d",
         "x": [
          0.5822737216949463,
          0.5210928916931152,
          0.4515102505683899,
          0.3759852349758148,
          0.2947269082069397,
          0.21449735760688782,
          0.13999581336975098,
          0.07783439010381699,
          0.03936728835105896,
          0.03236401826143265,
          0.03971556946635246,
          0.051535945385694504,
          0.06275618076324463,
          0.0746087059378624,
          0.08691667020320892,
          0.09982477128505707,
          0.11285611242055893,
          0.1270984411239624,
          0.1411585509777069,
          0.15577594935894012
         ],
         "y": [
          0.4614548981189728,
          0.4482159912586212,
          0.43823498487472534,
          0.4316191077232361,
          0.4286612272262573,
          0.4299401044845581,
          0.4317762553691864,
          0.4387708306312561,
          0.4476729929447174,
          0.45301714539527893,
          0.4539816379547119,
          0.4558892548084259,
          0.46380549669265747,
          0.4747438430786133,
          0.4856107532978058,
          0.49264103174209595,
          0.49567750096321106,
          0.4938484728336334,
          0.487039715051651,
          0.4755726158618927
         ],
         "z": [
          0.7578349709510803,
          0.7099683880805969,
          0.6531204581260681,
          0.5863911509513855,
          0.5074945092201233,
          0.4176207184791565,
          0.31608542799949646,
          0.20255142450332642,
          0.08129364997148514,
          0.037132181227207184,
          0.056837789714336395,
          0.07507011294364929,
          0.09026147425174713,
          0.10389863699674606,
          0.11670980602502823,
          0.12867477536201477,
          0.14076785743236542,
          0.15347450971603394,
          0.1665385514497757,
          0.18042856454849243
         ]
        },
        {
         "line": {
          "color": [
           0,
           1,
           2,
           3,
           4,
           5,
           6,
           7,
           8,
           9,
           10,
           11,
           12,
           13,
           14,
           15,
           16,
           17,
           18,
           19
          ],
          "colorscale": [
           [
            0,
            "rgb(75, 41, 145)"
           ],
           [
            0.16666666666666666,
            "rgb(135, 44, 162)"
           ],
           [
            0.3333333333333333,
            "rgb(192, 54, 157)"
           ],
           [
            0.5,
            "rgb(234, 79, 136)"
           ],
           [
            0.6666666666666666,
            "rgb(250, 120, 118)"
           ],
           [
            0.8333333333333334,
            "rgb(246, 169, 122)"
           ],
           [
            1,
            "rgb(237, 217, 163)"
           ]
          ],
          "width": 2
         },
         "mode": "lines",
         "name": "Generated",
         "type": "scatter3d",
         "x": [
          0.17975960671901703,
          0.1852089911699295,
          0.1742405891418457,
          0.14919599890708923,
          0.11555133014917374,
          0.08125297725200653,
          0.05178777500987053,
          0.03483954071998596,
          0.03003852255642414,
          0.03236401826143265,
          0.028559640049934387,
          0.02468024007976055,
          0.0222422257065773,
          0.023608585819602013,
          0.028307801112532616,
          0.03734185919165611,
          0.05234505236148834,
          0.07098114490509033,
          0.09379670768976212,
          0.11808579415082932
         ],
         "y": [
          0.401583194732666,
          0.403512179851532,
          0.3942599594593048,
          0.3911663591861725,
          0.38988038897514343,
          0.39049479365348816,
          0.39863961935043335,
          0.4093421995639801,
          0.4338124394416809,
          0.45301714539527893,
          0.44905897974967957,
          0.44609397649765015,
          0.4473586678504944,
          0.44182151556015015,
          0.4421788156032562,
          0.4331265985965729,
          0.42256689071655273,
          0.4142005145549774,
          0.40107589960098267,
          0.3924237787723541
         ],
         "z": [
          0.4423631429672241,
          0.4473055899143219,
          0.4350709319114685,
          0.4068661034107208,
          0.3630518615245819,
          0.30521613359451294,
          0.2352064549922943,
          0.16110727190971375,
          0.0834580585360527,
          0.037132181227207184,
          0.061719514429569244,
          0.09147853404283524,
          0.12564390897750854,
          0.1630120873451233,
          0.20193110406398773,
          0.24248185753822327,
          0.2828201949596405,
          0.3224336802959442,
          0.35830163955688477,
          0.3912971317768097
         ]
        },
        {
         "line": {
          "color": [
           0,
           1,
           2,
           3,
           4,
           5,
           6,
           7,
           8,
           9,
           10,
           11,
           12,
           13,
           14,
           15,
           16,
           17,
           18,
           19
          ],
          "colorscale": [
           [
            0,
            "rgb(75, 41, 145)"
           ],
           [
            0.16666666666666666,
            "rgb(135, 44, 162)"
           ],
           [
            0.3333333333333333,
            "rgb(192, 54, 157)"
           ],
           [
            0.5,
            "rgb(234, 79, 136)"
           ],
           [
            0.6666666666666666,
            "rgb(250, 120, 118)"
           ],
           [
            0.8333333333333334,
            "rgb(246, 169, 122)"
           ],
           [
            1,
            "rgb(237, 217, 163)"
           ]
          ],
          "width": 2
         },
         "mode": "lines",
         "name": "Generated",
         "type": "scatter3d",
         "x": [
          0.15929098427295685,
          0.16983608901500702,
          0.1679285317659378,
          0.15066950023174286,
          0.12319760024547577,
          0.08930647373199463,
          0.06005025655031204,
          0.04153738543391228,
          0.03457162156701088,
          0.03236401826143265,
          0.03058505989611149,
          0.03011353686451912,
          0.03142095357179642,
          0.034818101674318314,
          0.0429198332130909,
          0.053898949176073074,
          0.07010239362716675,
          0.08989052474498749,
          0.11344016343355179,
          0.13552701473236084
         ],
         "y": [
          0.49573469161987305,
          0.501400351524353,
          0.5056156516075134,
          0.49772801995277405,
          0.49719932675361633,
          0.4945200979709625,
          0.4827386736869812,
          0.4701284170150757,
          0.457361102104187,
          0.45301714539527893,
          0.4433862268924713,
          0.43559861183166504,
          0.4271751642227173,
          0.4177442789077759,
          0.41332894563674927,
          0.4080061912536621,
          0.4130074381828308,
          0.4187588393688202,
          0.42521753907203674,
          0.4386136531829834
         ],
         "z": [
          0.3760855495929718,
          0.38541746139526367,
          0.3791062533855438,
          0.35690924525260925,
          0.3163619041442871,
          0.2621166706085205,
          0.19338470697402954,
          0.117367222905159,
          0.0385650098323822,
          0.037132181227207184,
          0.06185775622725487,
          0.09009627997875214,
          0.12202982604503632,
          0.15671437978744507,
          0.19325321912765503,
          0.23136310279369354,
          0.269705593585968,
          0.3061971962451935,
          0.3385757803916931,
          0.36709415912628174
         ]
        },
        {
         "line": {
          "color": [
           0,
           1,
           2,
           3,
           4,
           5,
           6,
           7,
           8,
           9,
           10,
           11,
           12,
           13,
           14,
           15,
           16,
           17,
           18,
           19
          ],
          "colorscale": [
           [
            0,
            "rgb(75, 41, 145)"
           ],
           [
            0.16666666666666666,
            "rgb(135, 44, 162)"
           ],
           [
            0.3333333333333333,
            "rgb(192, 54, 157)"
           ],
           [
            0.5,
            "rgb(234, 79, 136)"
           ],
           [
            0.6666666666666666,
            "rgb(250, 120, 118)"
           ],
           [
            0.8333333333333334,
            "rgb(246, 169, 122)"
           ],
           [
            1,
            "rgb(237, 217, 163)"
           ]
          ],
          "width": 2
         },
         "mode": "lines",
         "name": "Generated",
         "type": "scatter3d",
         "x": [
          0.6524243354797363,
          0.5966070890426636,
          0.5291677713394165,
          0.4518316984176636,
          0.3654080033302307,
          0.27515846490859985,
          0.18683791160583496,
          0.10958221554756165,
          0.05481521412730217,
          0.03236401826143265,
          0.038220617920160294,
          0.048395998775959015,
          0.05970732495188713,
          0.07253505289554596,
          0.08863668888807297,
          0.10788363963365555,
          0.13142256438732147,
          0.1586533486843109,
          0.18837037682533264,
          0.220857635140419
         ],
         "y": [
          0.5730534195899963,
          0.5544989705085754,
          0.5389665961265564,
          0.5256133079528809,
          0.5140677094459534,
          0.5017147064208984,
          0.48730406165122986,
          0.47097864747047424,
          0.46008312702178955,
          0.45301714539527893,
          0.4473586082458496,
          0.4477587342262268,
          0.4573539197444916,
          0.475644052028656,
          0.4995999038219452,
          0.5231198668479919,
          0.5464327335357666,
          0.5675949454307556,
          0.5831844806671143,
          0.5917794108390808
         ],
         "z": [
          0.73866206407547,
          0.6998172402381897,
          0.6528642773628235,
          0.5960197448730469,
          0.5273551940917969,
          0.4462469816207886,
          0.35211852192878723,
          0.2456003576517105,
          0.1296558380126953,
          0.037132181227207184,
          0.06449752300977707,
          0.0924730971455574,
          0.12182418256998062,
          0.15344078838825226,
          0.18683750927448273,
          0.22277286648750305,
          0.26037701964378357,
          0.2989049553871155,
          0.337439626455307,
          0.37384021282196045
         ]
        },
        {
         "line": {
          "color": [
           0,
           1,
           2,
           3,
           4,
           5,
           6,
           7,
           8,
           9,
           10,
           11,
           12,
           13,
           14,
           15,
           16,
           17,
           18,
           19
          ],
          "colorscale": [
           [
            0,
            "rgb(75, 41, 145)"
           ],
           [
            0.16666666666666666,
            "rgb(135, 44, 162)"
           ],
           [
            0.3333333333333333,
            "rgb(192, 54, 157)"
           ],
           [
            0.5,
            "rgb(234, 79, 136)"
           ],
           [
            0.6666666666666666,
            "rgb(250, 120, 118)"
           ],
           [
            0.8333333333333334,
            "rgb(246, 169, 122)"
           ],
           [
            1,
            "rgb(237, 217, 163)"
           ]
          ],
          "width": 2
         },
         "mode": "lines",
         "name": "Generated",
         "type": "scatter3d",
         "x": [
          0.6571235656738281,
          0.5998327732086182,
          0.5328704118728638,
          0.4587278366088867,
          0.3772873282432556,
          0.2921549379825592,
          0.20663677155971527,
          0.12864162027835846,
          0.06706424802541733,
          0.03236401826143265,
          0.03537001833319664,
          0.044516608119010925,
          0.05496525391936302,
          0.06632480770349503,
          0.08026169240474701,
          0.0974135547876358,
          0.11844481527805328,
          0.14343583583831787,
          0.17173828184604645,
          0.2024090737104416
         ],
         "y": [
          0.5725961923599243,
          0.5552419424057007,
          0.5375733971595764,
          0.5172184705734253,
          0.497635155916214,
          0.4793521463871002,
          0.4657488167285919,
          0.4558178186416626,
          0.45236697793006897,
          0.45301714539527893,
          0.44971632957458496,
          0.4481945335865021,
          0.45388880372047424,
          0.4688352644443512,
          0.4865396022796631,
          0.5036437511444092,
          0.5163396596908569,
          0.5214909315109253,
          0.5194404125213623,
          0.5120600461959839
         ],
         "z": [
          0.7847890853881836,
          0.740958034992218,
          0.6899627447128296,
          0.6308459043502808,
          0.5617498159408569,
          0.48182493448257446,
          0.3882460594177246,
          0.2807704210281372,
          0.1617579609155655,
          0.037132181227207184,
          0.05265729874372482,
          0.07438910007476807,
          0.09668391942977905,
          0.120721735060215,
          0.14728470146656036,
          0.1771785467863083,
          0.21037635207176208,
          0.24610942602157593,
          0.2820751368999481,
          0.31674620509147644
         ]
        },
        {
         "line": {
          "color": [
           0,
           1,
           2,
           3,
           4,
           5,
           6,
           7,
           8,
           9,
           10,
           11,
           12,
           13,
           14,
           15,
           16,
           17,
           18,
           19
          ],
          "colorscale": [
           [
            0,
            "rgb(75, 41, 145)"
           ],
           [
            0.16666666666666666,
            "rgb(135, 44, 162)"
           ],
           [
            0.3333333333333333,
            "rgb(192, 54, 157)"
           ],
           [
            0.5,
            "rgb(234, 79, 136)"
           ],
           [
            0.6666666666666666,
            "rgb(250, 120, 118)"
           ],
           [
            0.8333333333333334,
            "rgb(246, 169, 122)"
           ],
           [
            1,
            "rgb(237, 217, 163)"
           ]
          ],
          "width": 2
         },
         "mode": "lines",
         "name": "Generated",
         "type": "scatter3d",
         "x": [
          0.5378322005271912,
          0.5207392573356628,
          0.4885145425796509,
          0.4427923262119293,
          0.37983787059783936,
          0.3044414818286896,
          0.22148457169532776,
          0.1405477225780487,
          0.07369782030582428,
          0.03236401826143265,
          0.03550933673977852,
          0.04812273010611534,
          0.061105843633413315,
          0.07819876074790955,
          0.09898889809846878,
          0.12262963503599167,
          0.1493835300207138,
          0.1784093677997589,
          0.20855502784252167,
          0.23762372136116028
         ],
         "y": [
          0.67097008228302,
          0.6468499302864075,
          0.6217366456985474,
          0.5955303311347961,
          0.5685808658599854,
          0.5385164618492126,
          0.5080947875976562,
          0.479230672121048,
          0.4575968086719513,
          0.45301714539527893,
          0.4549461901187897,
          0.46428415179252625,
          0.48461055755615234,
          0.5111026763916016,
          0.5425388813018799,
          0.5698454976081848,
          0.5922009348869324,
          0.6112484335899353,
          0.6218510270118713,
          0.6251732110977173
         ],
         "z": [
          0.66768479347229,
          0.6427602767944336,
          0.6089118123054504,
          0.5652358531951904,
          0.5092779397964478,
          0.4401381015777588,
          0.3571047782897949,
          0.2592611312866211,
          0.14934797585010529,
          0.037132181227207184,
          0.04670347273349762,
          0.07593992352485657,
          0.10726325213909149,
          0.14041723310947418,
          0.17490290105342865,
          0.20871765911579132,
          0.24162213504314423,
          0.27222397923469543,
          0.3007963001728058,
          0.3259028494358063
         ]
        }
       ],
       "layout": {
        "coloraxis": {
         "showscale": false
        },
        "font": {
         "color": "white",
         "family": "Roboto, monospace",
         "size": 12
        },
        "height": 800,
        "margin": {
         "b": 50,
         "l": 5,
         "r": 5,
         "t": 50
        },
        "scene": {
         "aspectratio": {
          "x": 1,
          "y": 1,
          "z": 1
         },
         "camera": {
          "eye": {
           "x": -1.5,
           "y": 1.5,
           "z": 1.5
          },
          "up": {
           "x": 0,
           "y": 0,
           "z": 1
          }
         }
        },
        "showlegend": false,
        "template": {
         "data": {
          "bar": [
           {
            "error_x": {
             "color": "#f2f5fa"
            },
            "error_y": {
             "color": "#f2f5fa"
            },
            "marker": {
             "line": {
              "color": "rgb(17,17,17)",
              "width": 0.5
             },
             "pattern": {
              "fillmode": "overlay",
              "size": 10,
              "solidity": 0.2
             }
            },
            "type": "bar"
           }
          ],
          "barpolar": [
           {
            "marker": {
             "line": {
              "color": "rgb(17,17,17)",
              "width": 0.5
             },
             "pattern": {
              "fillmode": "overlay",
              "size": 10,
              "solidity": 0.2
             }
            },
            "type": "barpolar"
           }
          ],
          "carpet": [
           {
            "aaxis": {
             "endlinecolor": "#A2B1C6",
             "gridcolor": "#506784",
             "linecolor": "#506784",
             "minorgridcolor": "#506784",
             "startlinecolor": "#A2B1C6"
            },
            "baxis": {
             "endlinecolor": "#A2B1C6",
             "gridcolor": "#506784",
             "linecolor": "#506784",
             "minorgridcolor": "#506784",
             "startlinecolor": "#A2B1C6"
            },
            "type": "carpet"
           }
          ],
          "choropleth": [
           {
            "colorbar": {
             "outlinewidth": 0,
             "ticks": ""
            },
            "type": "choropleth"
           }
          ],
          "contour": [
           {
            "colorbar": {
             "outlinewidth": 0,
             "ticks": ""
            },
            "colorscale": [
             [
              0,
              "#0d0887"
             ],
             [
              0.1111111111111111,
              "#46039f"
             ],
             [
              0.2222222222222222,
              "#7201a8"
             ],
             [
              0.3333333333333333,
              "#9c179e"
             ],
             [
              0.4444444444444444,
              "#bd3786"
             ],
             [
              0.5555555555555556,
              "#d8576b"
             ],
             [
              0.6666666666666666,
              "#ed7953"
             ],
             [
              0.7777777777777778,
              "#fb9f3a"
             ],
             [
              0.8888888888888888,
              "#fdca26"
             ],
             [
              1,
              "#f0f921"
             ]
            ],
            "type": "contour"
           }
          ],
          "contourcarpet": [
           {
            "colorbar": {
             "outlinewidth": 0,
             "ticks": ""
            },
            "type": "contourcarpet"
           }
          ],
          "heatmap": [
           {
            "colorbar": {
             "outlinewidth": 0,
             "ticks": ""
            },
            "colorscale": [
             [
              0,
              "#0d0887"
             ],
             [
              0.1111111111111111,
              "#46039f"
             ],
             [
              0.2222222222222222,
              "#7201a8"
             ],
             [
              0.3333333333333333,
              "#9c179e"
             ],
             [
              0.4444444444444444,
              "#bd3786"
             ],
             [
              0.5555555555555556,
              "#d8576b"
             ],
             [
              0.6666666666666666,
              "#ed7953"
             ],
             [
              0.7777777777777778,
              "#fb9f3a"
             ],
             [
              0.8888888888888888,
              "#fdca26"
             ],
             [
              1,
              "#f0f921"
             ]
            ],
            "type": "heatmap"
           }
          ],
          "heatmapgl": [
           {
            "colorbar": {
             "outlinewidth": 0,
             "ticks": ""
            },
            "colorscale": [
             [
              0,
              "#0d0887"
             ],
             [
              0.1111111111111111,
              "#46039f"
             ],
             [
              0.2222222222222222,
              "#7201a8"
             ],
             [
              0.3333333333333333,
              "#9c179e"
             ],
             [
              0.4444444444444444,
              "#bd3786"
             ],
             [
              0.5555555555555556,
              "#d8576b"
             ],
             [
              0.6666666666666666,
              "#ed7953"
             ],
             [
              0.7777777777777778,
              "#fb9f3a"
             ],
             [
              0.8888888888888888,
              "#fdca26"
             ],
             [
              1,
              "#f0f921"
             ]
            ],
            "type": "heatmapgl"
           }
          ],
          "histogram": [
           {
            "marker": {
             "pattern": {
              "fillmode": "overlay",
              "size": 10,
              "solidity": 0.2
             }
            },
            "type": "histogram"
           }
          ],
          "histogram2d": [
           {
            "colorbar": {
             "outlinewidth": 0,
             "ticks": ""
            },
            "colorscale": [
             [
              0,
              "#0d0887"
             ],
             [
              0.1111111111111111,
              "#46039f"
             ],
             [
              0.2222222222222222,
              "#7201a8"
             ],
             [
              0.3333333333333333,
              "#9c179e"
             ],
             [
              0.4444444444444444,
              "#bd3786"
             ],
             [
              0.5555555555555556,
              "#d8576b"
             ],
             [
              0.6666666666666666,
              "#ed7953"
             ],
             [
              0.7777777777777778,
              "#fb9f3a"
             ],
             [
              0.8888888888888888,
              "#fdca26"
             ],
             [
              1,
              "#f0f921"
             ]
            ],
            "type": "histogram2d"
           }
          ],
          "histogram2dcontour": [
           {
            "colorbar": {
             "outlinewidth": 0,
             "ticks": ""
            },
            "colorscale": [
             [
              0,
              "#0d0887"
             ],
             [
              0.1111111111111111,
              "#46039f"
             ],
             [
              0.2222222222222222,
              "#7201a8"
             ],
             [
              0.3333333333333333,
              "#9c179e"
             ],
             [
              0.4444444444444444,
              "#bd3786"
             ],
             [
              0.5555555555555556,
              "#d8576b"
             ],
             [
              0.6666666666666666,
              "#ed7953"
             ],
             [
              0.7777777777777778,
              "#fb9f3a"
             ],
             [
              0.8888888888888888,
              "#fdca26"
             ],
             [
              1,
              "#f0f921"
             ]
            ],
            "type": "histogram2dcontour"
           }
          ],
          "mesh3d": [
           {
            "colorbar": {
             "outlinewidth": 0,
             "ticks": ""
            },
            "type": "mesh3d"
           }
          ],
          "parcoords": [
           {
            "line": {
             "colorbar": {
              "outlinewidth": 0,
              "ticks": ""
             }
            },
            "type": "parcoords"
           }
          ],
          "pie": [
           {
            "automargin": true,
            "type": "pie"
           }
          ],
          "scatter": [
           {
            "marker": {
             "line": {
              "color": "#283442"
             }
            },
            "type": "scatter"
           }
          ],
          "scatter3d": [
           {
            "line": {
             "colorbar": {
              "outlinewidth": 0,
              "ticks": ""
             }
            },
            "marker": {
             "colorbar": {
              "outlinewidth": 0,
              "ticks": ""
             }
            },
            "type": "scatter3d"
           }
          ],
          "scattercarpet": [
           {
            "marker": {
             "colorbar": {
              "outlinewidth": 0,
              "ticks": ""
             }
            },
            "type": "scattercarpet"
           }
          ],
          "scattergeo": [
           {
            "marker": {
             "colorbar": {
              "outlinewidth": 0,
              "ticks": ""
             }
            },
            "type": "scattergeo"
           }
          ],
          "scattergl": [
           {
            "marker": {
             "line": {
              "color": "#283442"
             }
            },
            "type": "scattergl"
           }
          ],
          "scattermapbox": [
           {
            "marker": {
             "colorbar": {
              "outlinewidth": 0,
              "ticks": ""
             }
            },
            "type": "scattermapbox"
           }
          ],
          "scatterpolar": [
           {
            "marker": {
             "colorbar": {
              "outlinewidth": 0,
              "ticks": ""
             }
            },
            "type": "scatterpolar"
           }
          ],
          "scatterpolargl": [
           {
            "marker": {
             "colorbar": {
              "outlinewidth": 0,
              "ticks": ""
             }
            },
            "type": "scatterpolargl"
           }
          ],
          "scatterternary": [
           {
            "marker": {
             "colorbar": {
              "outlinewidth": 0,
              "ticks": ""
             }
            },
            "type": "scatterternary"
           }
          ],
          "surface": [
           {
            "colorbar": {
             "outlinewidth": 0,
             "ticks": ""
            },
            "colorscale": [
             [
              0,
              "#0d0887"
             ],
             [
              0.1111111111111111,
              "#46039f"
             ],
             [
              0.2222222222222222,
              "#7201a8"
             ],
             [
              0.3333333333333333,
              "#9c179e"
             ],
             [
              0.4444444444444444,
              "#bd3786"
             ],
             [
              0.5555555555555556,
              "#d8576b"
             ],
             [
              0.6666666666666666,
              "#ed7953"
             ],
             [
              0.7777777777777778,
              "#fb9f3a"
             ],
             [
              0.8888888888888888,
              "#fdca26"
             ],
             [
              1,
              "#f0f921"
             ]
            ],
            "type": "surface"
           }
          ],
          "table": [
           {
            "cells": {
             "fill": {
              "color": "#506784"
             },
             "line": {
              "color": "rgb(17,17,17)"
             }
            },
            "header": {
             "fill": {
              "color": "#2a3f5f"
             },
             "line": {
              "color": "rgb(17,17,17)"
             }
            },
            "type": "table"
           }
          ]
         },
         "layout": {
          "annotationdefaults": {
           "arrowcolor": "#f2f5fa",
           "arrowhead": 0,
           "arrowwidth": 1
          },
          "autotypenumbers": "strict",
          "coloraxis": {
           "colorbar": {
            "outlinewidth": 0,
            "ticks": ""
           }
          },
          "colorscale": {
           "diverging": [
            [
             0,
             "#8e0152"
            ],
            [
             0.1,
             "#c51b7d"
            ],
            [
             0.2,
             "#de77ae"
            ],
            [
             0.3,
             "#f1b6da"
            ],
            [
             0.4,
             "#fde0ef"
            ],
            [
             0.5,
             "#f7f7f7"
            ],
            [
             0.6,
             "#e6f5d0"
            ],
            [
             0.7,
             "#b8e186"
            ],
            [
             0.8,
             "#7fbc41"
            ],
            [
             0.9,
             "#4d9221"
            ],
            [
             1,
             "#276419"
            ]
           ],
           "sequential": [
            [
             0,
             "#0d0887"
            ],
            [
             0.1111111111111111,
             "#46039f"
            ],
            [
             0.2222222222222222,
             "#7201a8"
            ],
            [
             0.3333333333333333,
             "#9c179e"
            ],
            [
             0.4444444444444444,
             "#bd3786"
            ],
            [
             0.5555555555555556,
             "#d8576b"
            ],
            [
             0.6666666666666666,
             "#ed7953"
            ],
            [
             0.7777777777777778,
             "#fb9f3a"
            ],
            [
             0.8888888888888888,
             "#fdca26"
            ],
            [
             1,
             "#f0f921"
            ]
           ],
           "sequentialminus": [
            [
             0,
             "#0d0887"
            ],
            [
             0.1111111111111111,
             "#46039f"
            ],
            [
             0.2222222222222222,
             "#7201a8"
            ],
            [
             0.3333333333333333,
             "#9c179e"
            ],
            [
             0.4444444444444444,
             "#bd3786"
            ],
            [
             0.5555555555555556,
             "#d8576b"
            ],
            [
             0.6666666666666666,
             "#ed7953"
            ],
            [
             0.7777777777777778,
             "#fb9f3a"
            ],
            [
             0.8888888888888888,
             "#fdca26"
            ],
            [
             1,
             "#f0f921"
            ]
           ]
          },
          "colorway": [
           "#636efa",
           "#EF553B",
           "#00cc96",
           "#ab63fa",
           "#FFA15A",
           "#19d3f3",
           "#FF6692",
           "#B6E880",
           "#FF97FF",
           "#FECB52"
          ],
          "font": {
           "color": "#f2f5fa"
          },
          "geo": {
           "bgcolor": "rgb(17,17,17)",
           "lakecolor": "rgb(17,17,17)",
           "landcolor": "rgb(17,17,17)",
           "showlakes": true,
           "showland": true,
           "subunitcolor": "#506784"
          },
          "hoverlabel": {
           "align": "left"
          },
          "hovermode": "closest",
          "mapbox": {
           "style": "dark"
          },
          "paper_bgcolor": "rgb(17,17,17)",
          "plot_bgcolor": "rgb(17,17,17)",
          "polar": {
           "angularaxis": {
            "gridcolor": "#506784",
            "linecolor": "#506784",
            "ticks": ""
           },
           "bgcolor": "rgb(17,17,17)",
           "radialaxis": {
            "gridcolor": "#506784",
            "linecolor": "#506784",
            "ticks": ""
           }
          },
          "scene": {
           "xaxis": {
            "backgroundcolor": "rgb(17,17,17)",
            "gridcolor": "#506784",
            "gridwidth": 2,
            "linecolor": "#506784",
            "showbackground": true,
            "ticks": "",
            "zerolinecolor": "#C8D4E3"
           },
           "yaxis": {
            "backgroundcolor": "rgb(17,17,17)",
            "gridcolor": "#506784",
            "gridwidth": 2,
            "linecolor": "#506784",
            "showbackground": true,
            "ticks": "",
            "zerolinecolor": "#C8D4E3"
           },
           "zaxis": {
            "backgroundcolor": "rgb(17,17,17)",
            "gridcolor": "#506784",
            "gridwidth": 2,
            "linecolor": "#506784",
            "showbackground": true,
            "ticks": "",
            "zerolinecolor": "#C8D4E3"
           }
          },
          "shapedefaults": {
           "line": {
            "color": "#f2f5fa"
           }
          },
          "sliderdefaults": {
           "bgcolor": "#C8D4E3",
           "bordercolor": "rgb(17,17,17)",
           "borderwidth": 1,
           "tickwidth": 0
          },
          "ternary": {
           "aaxis": {
            "gridcolor": "#506784",
            "linecolor": "#506784",
            "ticks": ""
           },
           "baxis": {
            "gridcolor": "#506784",
            "linecolor": "#506784",
            "ticks": ""
           },
           "bgcolor": "rgb(17,17,17)",
           "caxis": {
            "gridcolor": "#506784",
            "linecolor": "#506784",
            "ticks": ""
           }
          },
          "title": {
           "x": 0.05
          },
          "updatemenudefaults": {
           "bgcolor": "#506784",
           "borderwidth": 0
          },
          "xaxis": {
           "automargin": true,
           "gridcolor": "#283442",
           "linecolor": "#506784",
           "ticks": "",
           "title": {
            "standoff": 15
           },
           "zerolinecolor": "#283442",
           "zerolinewidth": 2
          },
          "yaxis": {
           "automargin": true,
           "gridcolor": "#283442",
           "linecolor": "#506784",
           "ticks": "",
           "title": {
            "standoff": 15
           },
           "zerolinecolor": "#283442",
           "zerolinewidth": 2
          }
         }
        },
        "title": {
         "text": "Original"
        },
        "xaxis": {
         "fixedrange": true,
         "showgrid": false,
         "showticklabels": false,
         "zeroline": false,
         "zerolinecolor": "gray",
         "zerolinewidth": 1
        },
        "yaxis": {
         "fixedrange": true,
         "showgrid": false,
         "showticklabels": false,
         "zeroline": false,
         "zerolinecolor": "gray",
         "zerolinewidth": 1
        }
       }
      }
     },
     "metadata": {},
     "output_type": "display_data"
    },
    {
     "data": {
      "application/vnd.plotly.v1+json": {
       "config": {
        "plotlyServerURL": "https://plot.ly"
       },
       "data": [
        {
         "line": {
          "color": [
           0,
           1,
           2,
           3,
           4,
           5,
           6,
           7,
           8,
           9,
           10,
           11,
           12,
           13,
           14,
           15,
           16,
           17,
           18,
           19
          ],
          "colorscale": [
           [
            0,
            "rgb(75, 41, 145)"
           ],
           [
            0.16666666666666666,
            "rgb(135, 44, 162)"
           ],
           [
            0.3333333333333333,
            "rgb(192, 54, 157)"
           ],
           [
            0.5,
            "rgb(234, 79, 136)"
           ],
           [
            0.6666666666666666,
            "rgb(250, 120, 118)"
           ],
           [
            0.8333333333333334,
            "rgb(246, 169, 122)"
           ],
           [
            1,
            "rgb(237, 217, 163)"
           ]
          ],
          "width": 2
         },
         "mode": "lines",
         "name": "Generated",
         "type": "scatter3d",
         "x": [
          0.7327576279640198,
          0.6462481021881104,
          0.5568910241127014,
          0.4535403549671173,
          0.3604605793952942,
          0.25777167081832886,
          0.16539305448532104,
          0.09100900590419769,
          0.03689100593328476,
          0.030286507681012154,
          0.042984895408153534,
          0.05157305300235748,
          0.06401418149471283,
          0.08549441397190094,
          0.10417869687080383,
          0.12453952431678772,
          0.14423473179340363,
          0.16538548469543457,
          0.18513460457324982,
          0.20567351579666138
         ],
         "y": [
          0.5859494805335999,
          0.5720791220664978,
          0.5587713122367859,
          0.5471776127815247,
          0.5305190086364746,
          0.5119937062263489,
          0.4965018033981323,
          0.4784892201423645,
          0.46767091751098633,
          0.45700883865356445,
          0.4351656436920166,
          0.4085361659526825,
          0.3859948515892029,
          0.3738422691822052,
          0.3722711205482483,
          0.37345659732818604,
          0.39479756355285645,
          0.41256842017173767,
          0.4341158866882324,
          0.46126821637153625
         ],
         "z": [
          0.8120813965797424,
          0.7573654055595398,
          0.6983913779258728,
          0.6277658939361572,
          0.5493225455284119,
          0.4519267678260803,
          0.3377355933189392,
          0.2177676111459732,
          0.09299642592668533,
          0.026297645643353462,
          0.04846379905939102,
          0.0720992311835289,
          0.09915284812450409,
          0.1332513689994812,
          0.15943209826946259,
          0.19082382321357727,
          0.22127430140972137,
          0.25194039940834045,
          0.2745743989944458,
          0.3013027310371399
         ]
        },
        {
         "line": {
          "color": [
           0,
           1,
           2,
           3,
           4,
           5,
           6,
           7,
           8,
           9,
           10,
           11,
           12,
           13,
           14,
           15,
           16,
           17,
           18,
           19
          ],
          "colorscale": [
           [
            0,
            "rgb(75, 41, 145)"
           ],
           [
            0.16666666666666666,
            "rgb(135, 44, 162)"
           ],
           [
            0.3333333333333333,
            "rgb(192, 54, 157)"
           ],
           [
            0.5,
            "rgb(234, 79, 136)"
           ],
           [
            0.6666666666666666,
            "rgb(250, 120, 118)"
           ],
           [
            0.8333333333333334,
            "rgb(246, 169, 122)"
           ],
           [
            1,
            "rgb(237, 217, 163)"
           ]
          ],
          "width": 2
         },
         "mode": "lines",
         "name": "Generated",
         "type": "scatter3d",
         "x": [
          0.6705160140991211,
          0.6004800200462341,
          0.5262664556503296,
          0.4306168854236603,
          0.33382630348205566,
          0.23029430210590363,
          0.14440615475177765,
          0.07559770345687866,
          0.038186877965927124,
          0.03652734309434891,
          0.032929740846157074,
          0.03648608177900314,
          0.035382457077503204,
          0.04062314331531525,
          0.04902467504143715,
          0.0575786754488945,
          0.0672198086977005,
          0.07731053978204727,
          0.08220319449901581,
          0.09266404807567596
         ],
         "y": [
          0.5713040232658386,
          0.5605783462524414,
          0.5375706553459167,
          0.5266720652580261,
          0.5068124532699585,
          0.484951913356781,
          0.4628921449184418,
          0.4497109055519104,
          0.4484446048736572,
          0.4471261501312256,
          0.4452444911003113,
          0.44240981340408325,
          0.43580108880996704,
          0.43751898407936096,
          0.43885064125061035,
          0.43817320466041565,
          0.43920958042144775,
          0.45240911841392517,
          0.45716172456741333,
          0.47573232650756836
         ],
         "z": [
          0.8590807914733887,
          0.820105791091919,
          0.7709489464759827,
          0.6992253065109253,
          0.6291027665138245,
          0.5282374620437622,
          0.40636682510375977,
          0.27862977981567383,
          0.14599567651748657,
          0.03481144458055496,
          0.05001423507928848,
          0.07192851603031158,
          0.09918348491191864,
          0.13512837886810303,
          0.15683354437351227,
          0.18617700040340424,
          0.21205489337444305,
          0.23643431067466736,
          0.25233086943626404,
          0.2740229666233063
         ]
        },
        {
         "line": {
          "color": [
           0,
           1,
           2,
           3,
           4,
           5,
           6,
           7,
           8,
           9,
           10,
           11,
           12,
           13,
           14,
           15,
           16,
           17,
           18,
           19
          ],
          "colorscale": [
           [
            0,
            "rgb(75, 41, 145)"
           ],
           [
            0.16666666666666666,
            "rgb(135, 44, 162)"
           ],
           [
            0.3333333333333333,
            "rgb(192, 54, 157)"
           ],
           [
            0.5,
            "rgb(234, 79, 136)"
           ],
           [
            0.6666666666666666,
            "rgb(250, 120, 118)"
           ],
           [
            0.8333333333333334,
            "rgb(246, 169, 122)"
           ],
           [
            1,
            "rgb(237, 217, 163)"
           ]
          ],
          "width": 2
         },
         "mode": "lines",
         "name": "Generated",
         "type": "scatter3d",
         "x": [
          0.5953585505485535,
          0.5347681045532227,
          0.4684138000011444,
          0.38929975032806396,
          0.3133466839790344,
          0.21821758151054382,
          0.13888931274414062,
          0.07266069948673248,
          0.03627961128950119,
          0.0391160249710083,
          0.04548344016075134,
          0.05133270099759102,
          0.05400724709033966,
          0.06422924995422363,
          0.07358802855014801,
          0.0832688957452774,
          0.09545610845088959,
          0.11128921061754227,
          0.13067318499088287,
          0.14909639954566956
         ],
         "y": [
          0.9425288438796997,
          0.8874595761299133,
          0.8391978740692139,
          0.7756178379058838,
          0.7155851721763611,
          0.6428804397583008,
          0.5719192624092102,
          0.5078103542327881,
          0.46248647570610046,
          0.4356507360935211,
          0.4307713806629181,
          0.4269056022167206,
          0.43496692180633545,
          0.45422688126564026,
          0.48182350397109985,
          0.5142179727554321,
          0.5442290902137756,
          0.5820551514625549,
          0.6095609664916992,
          0.644478440284729
         ],
         "z": [
          0.834659218788147,
          0.7918904423713684,
          0.741067111492157,
          0.6791556477546692,
          0.611034631729126,
          0.5169215798377991,
          0.40460655093193054,
          0.2836621403694153,
          0.13818445801734924,
          0.06109832972288132,
          0.08105013519525528,
          0.10836026817560196,
          0.1322411149740219,
          0.1829635500907898,
          0.20814616978168488,
          0.23966041207313538,
          0.2869642376899719,
          0.32695892453193665,
          0.36222586035728455,
          0.3993619382381439
         ]
        },
        {
         "line": {
          "color": [
           0,
           1,
           2,
           3,
           4,
           5,
           6,
           7,
           8,
           9,
           10,
           11,
           12,
           13,
           14,
           15,
           16,
           17,
           18,
           19
          ],
          "colorscale": [
           [
            0,
            "rgb(75, 41, 145)"
           ],
           [
            0.16666666666666666,
            "rgb(135, 44, 162)"
           ],
           [
            0.3333333333333333,
            "rgb(192, 54, 157)"
           ],
           [
            0.5,
            "rgb(234, 79, 136)"
           ],
           [
            0.6666666666666666,
            "rgb(250, 120, 118)"
           ],
           [
            0.8333333333333334,
            "rgb(246, 169, 122)"
           ],
           [
            1,
            "rgb(237, 217, 163)"
           ]
          ],
          "width": 2
         },
         "mode": "lines",
         "name": "Generated",
         "type": "scatter3d",
         "x": [
          0.620937168598175,
          0.567823052406311,
          0.5056201815605164,
          0.4305245578289032,
          0.3483613133430481,
          0.2596777677536011,
          0.17226926982402802,
          0.10117600858211517,
          0.04822711646556854,
          0.032003700733184814,
          0.038468264043331146,
          0.05282402038574219,
          0.07022501528263092,
          0.09183316677808762,
          0.11400759965181351,
          0.12799473106861115,
          0.14029254019260406,
          0.14744967222213745,
          0.15362058579921722,
          0.15894252061843872
         ],
         "y": [
          0.47224923968315125,
          0.4685277044773102,
          0.4662313759326935,
          0.4594452977180481,
          0.45743513107299805,
          0.4451180100440979,
          0.44157761335372925,
          0.4389776587486267,
          0.45122772455215454,
          0.4583723247051239,
          0.4488527178764343,
          0.44173377752304077,
          0.43190455436706543,
          0.4355044662952423,
          0.4393705725669861,
          0.437391459941864,
          0.4497380256652832,
          0.4538218677043915,
          0.4628106653690338,
          0.46756693720817566
         ],
         "z": [
          0.7229785919189453,
          0.6834397315979004,
          0.637360692024231,
          0.5759423971176147,
          0.5086084008216858,
          0.42762577533721924,
          0.329820841550827,
          0.22178761661052704,
          0.1116565689444542,
          0.033561162650585175,
          0.08467816561460495,
          0.13407406210899353,
          0.17973892390727997,
          0.22313565015792847,
          0.25045910477638245,
          0.2789437472820282,
          0.3004955053329468,
          0.31785479187965393,
          0.32242196798324585,
          0.3348456621170044
         ]
        },
        {
         "line": {
          "color": [
           0,
           1,
           2,
           3,
           4,
           5,
           6,
           7,
           8,
           9,
           10,
           11,
           12,
           13,
           14,
           15,
           16,
           17,
           18,
           19
          ],
          "colorscale": [
           [
            0,
            "rgb(75, 41, 145)"
           ],
           [
            0.16666666666666666,
            "rgb(135, 44, 162)"
           ],
           [
            0.3333333333333333,
            "rgb(192, 54, 157)"
           ],
           [
            0.5,
            "rgb(234, 79, 136)"
           ],
           [
            0.6666666666666666,
            "rgb(250, 120, 118)"
           ],
           [
            0.8333333333333334,
            "rgb(246, 169, 122)"
           ],
           [
            1,
            "rgb(237, 217, 163)"
           ]
          ],
          "width": 2
         },
         "mode": "lines",
         "name": "Generated",
         "type": "scatter3d",
         "x": [
          0.6426308751106262,
          0.5611976981163025,
          0.4713263511657715,
          0.3685764968395233,
          0.2806856632232666,
          0.18897774815559387,
          0.11734041571617126,
          0.06921368837356567,
          0.03614559769630432,
          0.039313413202762604,
          0.03288477659225464,
          0.03127742186188698,
          0.028260692954063416,
          0.03805522993206978,
          0.052516598254442215,
          0.06797521561384201,
          0.09166593849658966,
          0.12424851208925247,
          0.15095606446266174,
          0.17670156061649323
         ],
         "y": [
          0.7582209706306458,
          0.7135069966316223,
          0.669052004814148,
          0.6319892406463623,
          0.5951219201087952,
          0.5560280084609985,
          0.5150560140609741,
          0.4836728572845459,
          0.46024516224861145,
          0.4476495087146759,
          0.4540961682796478,
          0.46461376547813416,
          0.4782947897911072,
          0.5072454810142517,
          0.5357760190963745,
          0.5625170469284058,
          0.5847272872924805,
          0.6080247163772583,
          0.6230700612068176,
          0.6421583294868469
         ],
         "z": [
          0.8249090313911438,
          0.7760062217712402,
          0.7156515717506409,
          0.6351100206375122,
          0.5582678914070129,
          0.45629942417144775,
          0.35197147727012634,
          0.24345405399799347,
          0.1309317946434021,
          0.045494891703128815,
          0.06265026330947876,
          0.08990301191806793,
          0.12917105853557587,
          0.18422427773475647,
          0.22351165115833282,
          0.2669167220592499,
          0.3237683176994324,
          0.3668268322944641,
          0.40070870518684387,
          0.43847423791885376
         ]
        },
        {
         "line": {
          "color": [
           0,
           1,
           2,
           3,
           4,
           5,
           6,
           7,
           8,
           9,
           10,
           11,
           12,
           13,
           14,
           15,
           16,
           17,
           18,
           19
          ],
          "colorscale": [
           [
            0,
            "rgb(75, 41, 145)"
           ],
           [
            0.16666666666666666,
            "rgb(135, 44, 162)"
           ],
           [
            0.3333333333333333,
            "rgb(192, 54, 157)"
           ],
           [
            0.5,
            "rgb(234, 79, 136)"
           ],
           [
            0.6666666666666666,
            "rgb(250, 120, 118)"
           ],
           [
            0.8333333333333334,
            "rgb(246, 169, 122)"
           ],
           [
            1,
            "rgb(237, 217, 163)"
           ]
          ],
          "width": 2
         },
         "mode": "lines",
         "name": "Generated",
         "type": "scatter3d",
         "x": [
          0.13831457495689392,
          0.15291139483451843,
          0.1599329113960266,
          0.14509429037570953,
          0.1191210225224495,
          0.08471857011318207,
          0.052963778376579285,
          0.036122940480709076,
          0.028366906568408012,
          0.03902348875999451,
          0.03521636873483658,
          0.03407374396920204,
          0.0385342612862587,
          0.04314039647579193,
          0.05539318174123764,
          0.05877789855003357,
          0.06507952511310577,
          0.08049958199262619,
          0.08817154169082642,
          0.09220805764198303
         ],
         "y": [
          0.6935166120529175,
          0.6795610785484314,
          0.6642454266548157,
          0.6386961936950684,
          0.6156046390533447,
          0.5808268785476685,
          0.5436709523200989,
          0.5119959712028503,
          0.4689115285873413,
          0.44789618253707886,
          0.4547232985496521,
          0.4711817502975464,
          0.4884200096130371,
          0.5119363069534302,
          0.5423462390899658,
          0.5632791519165039,
          0.5799089074134827,
          0.592197060585022,
          0.5998996496200562,
          0.6119742393493652
         ],
         "z": [
          0.40613099932670593,
          0.41414183378219604,
          0.4117925763130188,
          0.3865371644496918,
          0.3559415340423584,
          0.2969296872615814,
          0.22047542035579681,
          0.14101459085941315,
          0.0611637681722641,
          0.05748925358057022,
          0.089956134557724,
          0.12097640335559845,
          0.15619371831417084,
          0.19337156414985657,
          0.21476076543331146,
          0.23763608932495117,
          0.2679509222507477,
          0.29691436886787415,
          0.31488656997680664,
          0.3304436504840851
         ]
        },
        {
         "line": {
          "color": [
           0,
           1,
           2,
           3,
           4,
           5,
           6,
           7,
           8,
           9,
           10,
           11,
           12,
           13,
           14,
           15,
           16,
           17,
           18,
           19
          ],
          "colorscale": [
           [
            0,
            "rgb(75, 41, 145)"
           ],
           [
            0.16666666666666666,
            "rgb(135, 44, 162)"
           ],
           [
            0.3333333333333333,
            "rgb(192, 54, 157)"
           ],
           [
            0.5,
            "rgb(234, 79, 136)"
           ],
           [
            0.6666666666666666,
            "rgb(250, 120, 118)"
           ],
           [
            0.8333333333333334,
            "rgb(246, 169, 122)"
           ],
           [
            1,
            "rgb(237, 217, 163)"
           ]
          ],
          "width": 2
         },
         "mode": "lines",
         "name": "Generated",
         "type": "scatter3d",
         "x": [
          0.6323481202125549,
          0.5831199288368225,
          0.521108090877533,
          0.4447021782398224,
          0.36462634801864624,
          0.2751467227935791,
          0.18630513548851013,
          0.10678406059741974,
          0.05116742104291916,
          0.0345376580953598,
          0.04198864847421646,
          0.05109158158302307,
          0.05856333673000336,
          0.07512801885604858,
          0.09207995235919952,
          0.10777851939201355,
          0.13185787200927734,
          0.1567353904247284,
          0.18506652116775513,
          0.21479204297065735
         ],
         "y": [
          0.560265302658081,
          0.5416594743728638,
          0.530339777469635,
          0.5195316076278687,
          0.5063550472259521,
          0.4978867769241333,
          0.4783514440059662,
          0.4656001925468445,
          0.4597569406032562,
          0.45621493458747864,
          0.4499344229698181,
          0.453222393989563,
          0.4566011428833008,
          0.47721973061561584,
          0.5033464431762695,
          0.5275076627731323,
          0.5542467832565308,
          0.5723570585250854,
          0.5872711539268494,
          0.5941088199615479
         ],
         "z": [
          0.7420963644981384,
          0.6969019770622253,
          0.6500362753868103,
          0.5903583765029907,
          0.5266739130020142,
          0.4442513585090637,
          0.34275755286216736,
          0.23245684802532196,
          0.11790680140256882,
          0.033533088862895966,
          0.061490386724472046,
          0.08824913203716278,
          0.1152607798576355,
          0.15379390120506287,
          0.17927847802639008,
          0.2139837145805359,
          0.2563345730304718,
          0.2947830259799957,
          0.3301532566547394,
          0.3615178167819977
         ]
        },
        {
         "line": {
          "color": [
           0,
           1,
           2,
           3,
           4,
           5,
           6,
           7,
           8,
           9,
           10,
           11,
           12,
           13,
           14,
           15,
           16,
           17,
           18,
           19
          ],
          "colorscale": [
           [
            0,
            "rgb(75, 41, 145)"
           ],
           [
            0.16666666666666666,
            "rgb(135, 44, 162)"
           ],
           [
            0.3333333333333333,
            "rgb(192, 54, 157)"
           ],
           [
            0.5,
            "rgb(234, 79, 136)"
           ],
           [
            0.6666666666666666,
            "rgb(250, 120, 118)"
           ],
           [
            0.8333333333333334,
            "rgb(246, 169, 122)"
           ],
           [
            1,
            "rgb(237, 217, 163)"
           ]
          ],
          "width": 2
         },
         "mode": "lines",
         "name": "Generated",
         "type": "scatter3d",
         "x": [
          0.7746152877807617,
          0.6774721145629883,
          0.5796411633491516,
          0.4700118601322174,
          0.3700396418571472,
          0.26357245445251465,
          0.16917714476585388,
          0.09191037714481354,
          0.039808303117752075,
          0.027749737724661827,
          0.04605099558830261,
          0.06102261692285538,
          0.07700574398040771,
          0.10014878213405609,
          0.12116284668445587,
          0.1363319754600525,
          0.15525683760643005,
          0.17025306820869446,
          0.1843664050102234,
          0.20271675288677216
         ],
         "y": [
          0.4859679341316223,
          0.47693055868148804,
          0.4768316447734833,
          0.4733288586139679,
          0.4727606177330017,
          0.47045278549194336,
          0.46252530813217163,
          0.4603199362754822,
          0.4633311629295349,
          0.4638490378856659,
          0.4443470239639282,
          0.43273842334747314,
          0.4178733229637146,
          0.41115453839302063,
          0.4127005934715271,
          0.41110044717788696,
          0.422668993473053,
          0.43744245171546936,
          0.44529032707214355,
          0.46328794956207275
         ],
         "z": [
          0.8166753649711609,
          0.7584774494171143,
          0.6982694268226624,
          0.6169195175170898,
          0.5419116020202637,
          0.4448243975639343,
          0.3260192275047302,
          0.2086327224969864,
          0.0889868289232254,
          0.027563991025090218,
          0.052918776869773865,
          0.07551600784063339,
          0.09831055998802185,
          0.1192321851849556,
          0.13638882339000702,
          0.14955182373523712,
          0.16516640782356262,
          0.17955824732780457,
          0.18864978849887848,
          0.20239438116550446
         ]
        },
        {
         "line": {
          "color": [
           0,
           1,
           2,
           3,
           4,
           5,
           6,
           7,
           8,
           9,
           10,
           11,
           12,
           13,
           14,
           15,
           16,
           17,
           18,
           19
          ],
          "colorscale": [
           [
            0,
            "rgb(75, 41, 145)"
           ],
           [
            0.16666666666666666,
            "rgb(135, 44, 162)"
           ],
           [
            0.3333333333333333,
            "rgb(192, 54, 157)"
           ],
           [
            0.5,
            "rgb(234, 79, 136)"
           ],
           [
            0.6666666666666666,
            "rgb(250, 120, 118)"
           ],
           [
            0.8333333333333334,
            "rgb(246, 169, 122)"
           ],
           [
            1,
            "rgb(237, 217, 163)"
           ]
          ],
          "width": 2
         },
         "mode": "lines",
         "name": "Generated",
         "type": "scatter3d",
         "x": [
          0.39082130789756775,
          0.35995426774024963,
          0.3264125883579254,
          0.2747606933116913,
          0.2193743735551834,
          0.15427573025226593,
          0.09527356922626495,
          0.05179556459188461,
          0.0332748219370842,
          0.04109538346529007,
          0.038890041410923004,
          0.04390571638941765,
          0.04467584192752838,
          0.05125544220209122,
          0.06488535553216934,
          0.07398533821105957,
          0.08927090466022491,
          0.10880043357610703,
          0.1263437122106552,
          0.14542944729328156
         ],
         "y": [
          0.7296156287193298,
          0.7024996280670166,
          0.6766639947891235,
          0.6488539576530457,
          0.6155927777290344,
          0.5803056955337524,
          0.5354213714599609,
          0.4983872175216675,
          0.4651721715927124,
          0.446233332157135,
          0.44825756549835205,
          0.46037450432777405,
          0.4674528241157532,
          0.4901517927646637,
          0.5113868117332458,
          0.5341538190841675,
          0.551317036151886,
          0.5707852244377136,
          0.5830481648445129,
          0.5970028638839722
         ],
         "z": [
          0.6976116895675659,
          0.6635745763778687,
          0.6239678263664246,
          0.5714272260665894,
          0.5069029331207275,
          0.42425650358200073,
          0.3226931095123291,
          0.21132732927799225,
          0.09052415937185287,
          0.05668836086988449,
          0.08773414045572281,
          0.11388528347015381,
          0.14452458918094635,
          0.1854032576084137,
          0.21377868950366974,
          0.2486286461353302,
          0.293014794588089,
          0.3293216824531555,
          0.3604024648666382,
          0.39667052030563354
         ]
        },
        {
         "line": {
          "color": [
           0,
           1,
           2,
           3,
           4,
           5,
           6,
           7,
           8,
           9,
           10,
           11,
           12,
           13,
           14,
           15,
           16,
           17,
           18,
           19
          ],
          "colorscale": [
           [
            0,
            "rgb(75, 41, 145)"
           ],
           [
            0.16666666666666666,
            "rgb(135, 44, 162)"
           ],
           [
            0.3333333333333333,
            "rgb(192, 54, 157)"
           ],
           [
            0.5,
            "rgb(234, 79, 136)"
           ],
           [
            0.6666666666666666,
            "rgb(250, 120, 118)"
           ],
           [
            0.8333333333333334,
            "rgb(246, 169, 122)"
           ],
           [
            1,
            "rgb(237, 217, 163)"
           ]
          ],
          "width": 2
         },
         "mode": "lines",
         "name": "Generated",
         "type": "scatter3d",
         "x": [
          0.7731404304504395,
          0.6840413808822632,
          0.5830835700035095,
          0.47256991267204285,
          0.36449766159057617,
          0.24096983671188354,
          0.1406412422657013,
          0.06759132444858551,
          0.03381364047527313,
          0.03855651617050171,
          0.03939768671989441,
          0.05157402157783508,
          0.06852677464485168,
          0.09110300242900848,
          0.12128506600856781,
          0.14758290350437164,
          0.18141528964042664,
          0.21320968866348267,
          0.2382090836763382,
          0.2566521465778351
         ],
         "y": [
          0.8107538819313049,
          0.7718023657798767,
          0.7318210005760193,
          0.6960042715072632,
          0.6548192501068115,
          0.6131922006607056,
          0.5666550993919373,
          0.5225998759269714,
          0.4799361228942871,
          0.45017844438552856,
          0.4560779333114624,
          0.47043734788894653,
          0.49405378103256226,
          0.527586817741394,
          0.5535349249839783,
          0.5789617300033569,
          0.5980519652366638,
          0.6155508756637573,
          0.6200871467590332,
          0.620878279209137
         ],
         "z": [
          0.9178670048713684,
          0.8649211525917053,
          0.805557906627655,
          0.7221813201904297,
          0.638254702091217,
          0.5332313776016235,
          0.40264075994491577,
          0.2572139501571655,
          0.09693495184183121,
          0.04096299409866333,
          0.09274471551179886,
          0.13471639156341553,
          0.1794617623090744,
          0.2354760766029358,
          0.268919974565506,
          0.3028317391872406,
          0.34460583329200745,
          0.3702617883682251,
          0.3910622298717499,
          0.408317506313324
         ]
        },
        {
         "line": {
          "color": [
           0,
           1,
           2,
           3,
           4,
           5,
           6,
           7,
           8,
           9,
           10,
           11,
           12,
           13,
           14,
           15,
           16,
           17,
           18,
           19
          ],
          "colorscale": [
           [
            0,
            "rgb(75, 41, 145)"
           ],
           [
            0.16666666666666666,
            "rgb(135, 44, 162)"
           ],
           [
            0.3333333333333333,
            "rgb(192, 54, 157)"
           ],
           [
            0.5,
            "rgb(234, 79, 136)"
           ],
           [
            0.6666666666666666,
            "rgb(250, 120, 118)"
           ],
           [
            0.8333333333333334,
            "rgb(246, 169, 122)"
           ],
           [
            1,
            "rgb(237, 217, 163)"
           ]
          ],
          "width": 2
         },
         "mode": "lines",
         "name": "Generated",
         "type": "scatter3d",
         "x": [
          0.6045852899551392,
          0.5402657389640808,
          0.47258296608924866,
          0.3896620571613312,
          0.3072015941143036,
          0.22294414043426514,
          0.14308294653892517,
          0.07949960231781006,
          0.034852705895900726,
          0.026534518226981163,
          0.04200715571641922,
          0.050919923931360245,
          0.059309348464012146,
          0.07374194264411926,
          0.08539583534002304,
          0.09641776978969574,
          0.10686585307121277,
          0.11953330785036087,
          0.1324547380208969,
          0.15141752362251282
         ],
         "y": [
          0.4612995982170105,
          0.44821277260780334,
          0.44270631670951843,
          0.43609416484832764,
          0.43528279662132263,
          0.43610262870788574,
          0.43320268392562866,
          0.4403505325317383,
          0.4519103169441223,
          0.4606013000011444,
          0.4527263045310974,
          0.4586123824119568,
          0.4600670337677002,
          0.47064080834388733,
          0.48655641078948975,
          0.4893082082271576,
          0.4946579933166504,
          0.49826785922050476,
          0.491087406873703,
          0.4918425679206848
         ],
         "z": [
          0.7494548559188843,
          0.7003691792488098,
          0.6506553292274475,
          0.5760300159454346,
          0.5101906061172485,
          0.41191309690475464,
          0.29896754026412964,
          0.1877644658088684,
          0.07381820678710938,
          0.027828553691506386,
          0.0459752157330513,
          0.06748951226472855,
          0.08155898749828339,
          0.09999385476112366,
          0.11005996912717819,
          0.12261295318603516,
          0.1345529854297638,
          0.14437201619148254,
          0.15021434426307678,
          0.17241202294826508
         ]
        },
        {
         "line": {
          "color": [
           0,
           1,
           2,
           3,
           4,
           5,
           6,
           7,
           8,
           9,
           10,
           11,
           12,
           13,
           14,
           15,
           16,
           17,
           18,
           19
          ],
          "colorscale": [
           [
            0,
            "rgb(75, 41, 145)"
           ],
           [
            0.16666666666666666,
            "rgb(135, 44, 162)"
           ],
           [
            0.3333333333333333,
            "rgb(192, 54, 157)"
           ],
           [
            0.5,
            "rgb(234, 79, 136)"
           ],
           [
            0.6666666666666666,
            "rgb(250, 120, 118)"
           ],
           [
            0.8333333333333334,
            "rgb(246, 169, 122)"
           ],
           [
            1,
            "rgb(237, 217, 163)"
           ]
          ],
          "width": 2
         },
         "mode": "lines",
         "name": "Generated",
         "type": "scatter3d",
         "x": [
          0.17999424040317535,
          0.17913632094860077,
          0.1759597510099411,
          0.15005116164684296,
          0.11560223251581192,
          0.07908930629491806,
          0.05168198049068451,
          0.03725690394639969,
          0.03202435374259949,
          0.03231911361217499,
          0.029935356229543686,
          0.0226820707321167,
          0.02233259379863739,
          0.01975203864276409,
          0.028077561408281326,
          0.03834080696105957,
          0.05142141506075859,
          0.07179073244333267,
          0.09136759489774704,
          0.1131020188331604
         ],
         "y": [
          0.4068480134010315,
          0.4055600166320801,
          0.39670035243034363,
          0.39385882019996643,
          0.393137127161026,
          0.3915311098098755,
          0.39231446385383606,
          0.405271053314209,
          0.4242202639579773,
          0.44882532954216003,
          0.4461594820022583,
          0.44088536500930786,
          0.4382839798927307,
          0.4336916506290436,
          0.4361632466316223,
          0.4229893684387207,
          0.41369467973709106,
          0.4104974567890167,
          0.3993750512599945,
          0.40798312425613403
         ],
         "z": [
          0.4540429711341858,
          0.44817274808883667,
          0.43275853991508484,
          0.4001784026622772,
          0.36198753118515015,
          0.2885802984237671,
          0.21630072593688965,
          0.13737903535366058,
          0.06354489922523499,
          0.03414633870124817,
          0.049900416284799576,
          0.08287904411554337,
          0.11097486317157745,
          0.1595737636089325,
          0.18808165192604065,
          0.23605695366859436,
          0.272553950548172,
          0.3135448098182678,
          0.3540761470794678,
          0.3880797028541565
         ]
        },
        {
         "line": {
          "color": [
           0,
           1,
           2,
           3,
           4,
           5,
           6,
           7,
           8,
           9,
           10,
           11,
           12,
           13,
           14,
           15,
           16,
           17,
           18,
           19
          ],
          "colorscale": [
           [
            0,
            "rgb(75, 41, 145)"
           ],
           [
            0.16666666666666666,
            "rgb(135, 44, 162)"
           ],
           [
            0.3333333333333333,
            "rgb(192, 54, 157)"
           ],
           [
            0.5,
            "rgb(234, 79, 136)"
           ],
           [
            0.6666666666666666,
            "rgb(250, 120, 118)"
           ],
           [
            0.8333333333333334,
            "rgb(246, 169, 122)"
           ],
           [
            1,
            "rgb(237, 217, 163)"
           ]
          ],
          "width": 2
         },
         "mode": "lines",
         "name": "Generated",
         "type": "scatter3d",
         "x": [
          0.1570587158203125,
          0.15925607085227966,
          0.16237689554691315,
          0.14295905828475952,
          0.11745155602693558,
          0.08217943459749222,
          0.056734438985586166,
          0.04101966321468353,
          0.03439066559076309,
          0.03739592432975769,
          0.033394791185855865,
          0.033206336200237274,
          0.03277496248483658,
          0.03559231385588646,
          0.049245815724134445,
          0.05716261267662048,
          0.07428789138793945,
          0.09609697014093399,
          0.11187496036291122,
          0.12811581790447235
         ],
         "y": [
          0.5036388039588928,
          0.5156075954437256,
          0.5148881673812866,
          0.5172732472419739,
          0.5078322887420654,
          0.49914538860321045,
          0.4803698658943176,
          0.46648651361465454,
          0.45091983675956726,
          0.4420126974582672,
          0.4382224977016449,
          0.42727506160736084,
          0.41854268312454224,
          0.4110165536403656,
          0.4079248607158661,
          0.40398386120796204,
          0.40713411569595337,
          0.41570308804512024,
          0.42548495531082153,
          0.44321495294570923
         ],
         "z": [
          0.38621896505355835,
          0.39142754673957825,
          0.3830457627773285,
          0.35647568106651306,
          0.32695916295051575,
          0.2712864875793457,
          0.20463350415229797,
          0.13169674575328827,
          0.05988800525665283,
          0.05178460478782654,
          0.06927479803562164,
          0.09850194305181503,
          0.12918506562709808,
          0.17427948117256165,
          0.2031366527080536,
          0.245091050863266,
          0.27836427092552185,
          0.31388983130455017,
          0.3433615267276764,
          0.36838701367378235
         ]
        },
        {
         "line": {
          "color": [
           0,
           1,
           2,
           3,
           4,
           5,
           6,
           7,
           8,
           9,
           10,
           11,
           12,
           13,
           14,
           15,
           16,
           17,
           18,
           19
          ],
          "colorscale": [
           [
            0,
            "rgb(75, 41, 145)"
           ],
           [
            0.16666666666666666,
            "rgb(135, 44, 162)"
           ],
           [
            0.3333333333333333,
            "rgb(192, 54, 157)"
           ],
           [
            0.5,
            "rgb(234, 79, 136)"
           ],
           [
            0.6666666666666666,
            "rgb(250, 120, 118)"
           ],
           [
            0.8333333333333334,
            "rgb(246, 169, 122)"
           ],
           [
            1,
            "rgb(237, 217, 163)"
           ]
          ],
          "width": 2
         },
         "mode": "lines",
         "name": "Generated",
         "type": "scatter3d",
         "x": [
          0.6503163576126099,
          0.596442461013794,
          0.5325967073440552,
          0.4535950720310211,
          0.3714725971221924,
          0.28214123845100403,
          0.19142450392246246,
          0.10963606834411621,
          0.05273283272981644,
          0.0337006151676178,
          0.04235422611236572,
          0.04982846602797508,
          0.059035852551460266,
          0.07455210387706757,
          0.09078529477119446,
          0.10640034079551697,
          0.12932053208351135,
          0.1551414430141449,
          0.18527483940124512,
          0.217091366648674
         ],
         "y": [
          0.568079948425293,
          0.5498456954956055,
          0.5392664670944214,
          0.5281281471252441,
          0.5155095458030701,
          0.5036200881004333,
          0.4840448498725891,
          0.4691481590270996,
          0.4639074206352234,
          0.4589543044567108,
          0.4536227285861969,
          0.4585471451282501,
          0.4643251895904541,
          0.4855312407016754,
          0.5106403231620789,
          0.5341314077377319,
          0.5599114298820496,
          0.5735568404197693,
          0.5824471712112427,
          0.5866314172744751
         ],
         "z": [
          0.7520952224731445,
          0.7043332457542419,
          0.6581441164016724,
          0.6010499000549316,
          0.5380840301513672,
          0.4548594355583191,
          0.35113656520843506,
          0.24174131453037262,
          0.12189807742834091,
          0.03744543343782425,
          0.0657331719994545,
          0.0948701798915863,
          0.1209987998008728,
          0.15901067852973938,
          0.1851499229669571,
          0.21902814507484436,
          0.2614985406398773,
          0.3038369119167328,
          0.3361127972602844,
          0.3754999041557312
         ]
        },
        {
         "line": {
          "color": [
           0,
           1,
           2,
           3,
           4,
           5,
           6,
           7,
           8,
           9,
           10,
           11,
           12,
           13,
           14,
           15,
           16,
           17,
           18,
           19
          ],
          "colorscale": [
           [
            0,
            "rgb(75, 41, 145)"
           ],
           [
            0.16666666666666666,
            "rgb(135, 44, 162)"
           ],
           [
            0.3333333333333333,
            "rgb(192, 54, 157)"
           ],
           [
            0.5,
            "rgb(234, 79, 136)"
           ],
           [
            0.6666666666666666,
            "rgb(250, 120, 118)"
           ],
           [
            0.8333333333333334,
            "rgb(246, 169, 122)"
           ],
           [
            1,
            "rgb(237, 217, 163)"
           ]
          ],
          "width": 2
         },
         "mode": "lines",
         "name": "Generated",
         "type": "scatter3d",
         "x": [
          0.6520505547523499,
          0.598543107509613,
          0.5344541668891907,
          0.46041202545166016,
          0.38157665729522705,
          0.2922927141189575,
          0.2030181884765625,
          0.12225772440433502,
          0.05943789333105087,
          0.029894890263676643,
          0.03741889446973801,
          0.04120929539203644,
          0.0478508323431015,
          0.06421452015638351,
          0.0774918645620346,
          0.09269309043884277,
          0.11639712750911713,
          0.13833147287368774,
          0.16156649589538574,
          0.18853917717933655
         ],
         "y": [
          0.5626598000526428,
          0.540886640548706,
          0.525624692440033,
          0.5148983001708984,
          0.49583345651626587,
          0.4855992794036865,
          0.4625934660434723,
          0.4512019753456116,
          0.4495108723640442,
          0.45756933093070984,
          0.45014965534210205,
          0.45735886693000793,
          0.4542973041534424,
          0.47099509835243225,
          0.4829351305961609,
          0.4952668845653534,
          0.5091082453727722,
          0.5156220197677612,
          0.5117999911308289,
          0.514518141746521
         ],
         "z": [
          0.7727158069610596,
          0.7331303358078003,
          0.6864629983901978,
          0.628115713596344,
          0.5675858855247498,
          0.4847365617752075,
          0.37844789028167725,
          0.26876407861709595,
          0.14944352209568024,
          0.02537965215742588,
          0.04597672075033188,
          0.0697002112865448,
          0.09075339138507843,
          0.12120084464550018,
          0.14267976582050323,
          0.168416827917099,
          0.2012515515089035,
          0.23233434557914734,
          0.26168206334114075,
          0.29321804642677307
         ]
        },
        {
         "line": {
          "color": [
           0,
           1,
           2,
           3,
           4,
           5,
           6,
           7,
           8,
           9,
           10,
           11,
           12,
           13,
           14,
           15,
           16,
           17,
           18,
           19
          ],
          "colorscale": [
           [
            0,
            "rgb(75, 41, 145)"
           ],
           [
            0.16666666666666666,
            "rgb(135, 44, 162)"
           ],
           [
            0.3333333333333333,
            "rgb(192, 54, 157)"
           ],
           [
            0.5,
            "rgb(234, 79, 136)"
           ],
           [
            0.6666666666666666,
            "rgb(250, 120, 118)"
           ],
           [
            0.8333333333333334,
            "rgb(246, 169, 122)"
           ],
           [
            1,
            "rgb(237, 217, 163)"
           ]
          ],
          "width": 2
         },
         "mode": "lines",
         "name": "Generated",
         "type": "scatter3d",
         "x": [
          0.5385861396789551,
          0.5215256810188293,
          0.48562005162239075,
          0.4393174946308136,
          0.3780553638935089,
          0.29988807439804077,
          0.21460270881652832,
          0.12989212572574615,
          0.061407528817653656,
          0.03152088075876236,
          0.04140441119670868,
          0.04710274562239647,
          0.05755661427974701,
          0.07512126863002777,
          0.09226279705762863,
          0.11423729360103607,
          0.13867603242397308,
          0.16460782289505005,
          0.19364473223686218,
          0.22158648073673248
         ],
         "y": [
          0.6477138996124268,
          0.6220462322235107,
          0.5961081385612488,
          0.5737972259521484,
          0.5521097183227539,
          0.5352150797843933,
          0.50840824842453,
          0.489252507686615,
          0.4670454263687134,
          0.4597260653972626,
          0.4580082893371582,
          0.4775026738643646,
          0.4908961057662964,
          0.5269796252250671,
          0.5572383999824524,
          0.5832662582397461,
          0.6090289950370789,
          0.616333544254303,
          0.6165673136711121,
          0.6058759093284607
         ],
         "z": [
          0.6768388748168945,
          0.6411516666412354,
          0.6068942546844482,
          0.5632729530334473,
          0.5113821029663086,
          0.4442881941795349,
          0.35139426589012146,
          0.25212401151657104,
          0.13946539163589478,
          0.028133193030953407,
          0.05136626213788986,
          0.07647740840911865,
          0.10680477321147919,
          0.14396172761917114,
          0.1727515012025833,
          0.2028314471244812,
          0.23877762258052826,
          0.2691027820110321,
          0.29203569889068604,
          0.31962549686431885
         ]
        }
       ],
       "layout": {
        "coloraxis": {
         "showscale": false
        },
        "font": {
         "color": "white",
         "family": "Roboto, monospace",
         "size": 12
        },
        "height": 800,
        "margin": {
         "b": 50,
         "l": 5,
         "r": 5,
         "t": 50
        },
        "scene": {
         "aspectratio": {
          "x": 1,
          "y": 1,
          "z": 1
         },
         "camera": {
          "eye": {
           "x": -1.5,
           "y": 1.5,
           "z": 1.5
          },
          "up": {
           "x": 0,
           "y": 0,
           "z": 1
          }
         }
        },
        "showlegend": false,
        "template": {
         "data": {
          "bar": [
           {
            "error_x": {
             "color": "#f2f5fa"
            },
            "error_y": {
             "color": "#f2f5fa"
            },
            "marker": {
             "line": {
              "color": "rgb(17,17,17)",
              "width": 0.5
             },
             "pattern": {
              "fillmode": "overlay",
              "size": 10,
              "solidity": 0.2
             }
            },
            "type": "bar"
           }
          ],
          "barpolar": [
           {
            "marker": {
             "line": {
              "color": "rgb(17,17,17)",
              "width": 0.5
             },
             "pattern": {
              "fillmode": "overlay",
              "size": 10,
              "solidity": 0.2
             }
            },
            "type": "barpolar"
           }
          ],
          "carpet": [
           {
            "aaxis": {
             "endlinecolor": "#A2B1C6",
             "gridcolor": "#506784",
             "linecolor": "#506784",
             "minorgridcolor": "#506784",
             "startlinecolor": "#A2B1C6"
            },
            "baxis": {
             "endlinecolor": "#A2B1C6",
             "gridcolor": "#506784",
             "linecolor": "#506784",
             "minorgridcolor": "#506784",
             "startlinecolor": "#A2B1C6"
            },
            "type": "carpet"
           }
          ],
          "choropleth": [
           {
            "colorbar": {
             "outlinewidth": 0,
             "ticks": ""
            },
            "type": "choropleth"
           }
          ],
          "contour": [
           {
            "colorbar": {
             "outlinewidth": 0,
             "ticks": ""
            },
            "colorscale": [
             [
              0,
              "#0d0887"
             ],
             [
              0.1111111111111111,
              "#46039f"
             ],
             [
              0.2222222222222222,
              "#7201a8"
             ],
             [
              0.3333333333333333,
              "#9c179e"
             ],
             [
              0.4444444444444444,
              "#bd3786"
             ],
             [
              0.5555555555555556,
              "#d8576b"
             ],
             [
              0.6666666666666666,
              "#ed7953"
             ],
             [
              0.7777777777777778,
              "#fb9f3a"
             ],
             [
              0.8888888888888888,
              "#fdca26"
             ],
             [
              1,
              "#f0f921"
             ]
            ],
            "type": "contour"
           }
          ],
          "contourcarpet": [
           {
            "colorbar": {
             "outlinewidth": 0,
             "ticks": ""
            },
            "type": "contourcarpet"
           }
          ],
          "heatmap": [
           {
            "colorbar": {
             "outlinewidth": 0,
             "ticks": ""
            },
            "colorscale": [
             [
              0,
              "#0d0887"
             ],
             [
              0.1111111111111111,
              "#46039f"
             ],
             [
              0.2222222222222222,
              "#7201a8"
             ],
             [
              0.3333333333333333,
              "#9c179e"
             ],
             [
              0.4444444444444444,
              "#bd3786"
             ],
             [
              0.5555555555555556,
              "#d8576b"
             ],
             [
              0.6666666666666666,
              "#ed7953"
             ],
             [
              0.7777777777777778,
              "#fb9f3a"
             ],
             [
              0.8888888888888888,
              "#fdca26"
             ],
             [
              1,
              "#f0f921"
             ]
            ],
            "type": "heatmap"
           }
          ],
          "heatmapgl": [
           {
            "colorbar": {
             "outlinewidth": 0,
             "ticks": ""
            },
            "colorscale": [
             [
              0,
              "#0d0887"
             ],
             [
              0.1111111111111111,
              "#46039f"
             ],
             [
              0.2222222222222222,
              "#7201a8"
             ],
             [
              0.3333333333333333,
              "#9c179e"
             ],
             [
              0.4444444444444444,
              "#bd3786"
             ],
             [
              0.5555555555555556,
              "#d8576b"
             ],
             [
              0.6666666666666666,
              "#ed7953"
             ],
             [
              0.7777777777777778,
              "#fb9f3a"
             ],
             [
              0.8888888888888888,
              "#fdca26"
             ],
             [
              1,
              "#f0f921"
             ]
            ],
            "type": "heatmapgl"
           }
          ],
          "histogram": [
           {
            "marker": {
             "pattern": {
              "fillmode": "overlay",
              "size": 10,
              "solidity": 0.2
             }
            },
            "type": "histogram"
           }
          ],
          "histogram2d": [
           {
            "colorbar": {
             "outlinewidth": 0,
             "ticks": ""
            },
            "colorscale": [
             [
              0,
              "#0d0887"
             ],
             [
              0.1111111111111111,
              "#46039f"
             ],
             [
              0.2222222222222222,
              "#7201a8"
             ],
             [
              0.3333333333333333,
              "#9c179e"
             ],
             [
              0.4444444444444444,
              "#bd3786"
             ],
             [
              0.5555555555555556,
              "#d8576b"
             ],
             [
              0.6666666666666666,
              "#ed7953"
             ],
             [
              0.7777777777777778,
              "#fb9f3a"
             ],
             [
              0.8888888888888888,
              "#fdca26"
             ],
             [
              1,
              "#f0f921"
             ]
            ],
            "type": "histogram2d"
           }
          ],
          "histogram2dcontour": [
           {
            "colorbar": {
             "outlinewidth": 0,
             "ticks": ""
            },
            "colorscale": [
             [
              0,
              "#0d0887"
             ],
             [
              0.1111111111111111,
              "#46039f"
             ],
             [
              0.2222222222222222,
              "#7201a8"
             ],
             [
              0.3333333333333333,
              "#9c179e"
             ],
             [
              0.4444444444444444,
              "#bd3786"
             ],
             [
              0.5555555555555556,
              "#d8576b"
             ],
             [
              0.6666666666666666,
              "#ed7953"
             ],
             [
              0.7777777777777778,
              "#fb9f3a"
             ],
             [
              0.8888888888888888,
              "#fdca26"
             ],
             [
              1,
              "#f0f921"
             ]
            ],
            "type": "histogram2dcontour"
           }
          ],
          "mesh3d": [
           {
            "colorbar": {
             "outlinewidth": 0,
             "ticks": ""
            },
            "type": "mesh3d"
           }
          ],
          "parcoords": [
           {
            "line": {
             "colorbar": {
              "outlinewidth": 0,
              "ticks": ""
             }
            },
            "type": "parcoords"
           }
          ],
          "pie": [
           {
            "automargin": true,
            "type": "pie"
           }
          ],
          "scatter": [
           {
            "marker": {
             "line": {
              "color": "#283442"
             }
            },
            "type": "scatter"
           }
          ],
          "scatter3d": [
           {
            "line": {
             "colorbar": {
              "outlinewidth": 0,
              "ticks": ""
             }
            },
            "marker": {
             "colorbar": {
              "outlinewidth": 0,
              "ticks": ""
             }
            },
            "type": "scatter3d"
           }
          ],
          "scattercarpet": [
           {
            "marker": {
             "colorbar": {
              "outlinewidth": 0,
              "ticks": ""
             }
            },
            "type": "scattercarpet"
           }
          ],
          "scattergeo": [
           {
            "marker": {
             "colorbar": {
              "outlinewidth": 0,
              "ticks": ""
             }
            },
            "type": "scattergeo"
           }
          ],
          "scattergl": [
           {
            "marker": {
             "line": {
              "color": "#283442"
             }
            },
            "type": "scattergl"
           }
          ],
          "scattermapbox": [
           {
            "marker": {
             "colorbar": {
              "outlinewidth": 0,
              "ticks": ""
             }
            },
            "type": "scattermapbox"
           }
          ],
          "scatterpolar": [
           {
            "marker": {
             "colorbar": {
              "outlinewidth": 0,
              "ticks": ""
             }
            },
            "type": "scatterpolar"
           }
          ],
          "scatterpolargl": [
           {
            "marker": {
             "colorbar": {
              "outlinewidth": 0,
              "ticks": ""
             }
            },
            "type": "scatterpolargl"
           }
          ],
          "scatterternary": [
           {
            "marker": {
             "colorbar": {
              "outlinewidth": 0,
              "ticks": ""
             }
            },
            "type": "scatterternary"
           }
          ],
          "surface": [
           {
            "colorbar": {
             "outlinewidth": 0,
             "ticks": ""
            },
            "colorscale": [
             [
              0,
              "#0d0887"
             ],
             [
              0.1111111111111111,
              "#46039f"
             ],
             [
              0.2222222222222222,
              "#7201a8"
             ],
             [
              0.3333333333333333,
              "#9c179e"
             ],
             [
              0.4444444444444444,
              "#bd3786"
             ],
             [
              0.5555555555555556,
              "#d8576b"
             ],
             [
              0.6666666666666666,
              "#ed7953"
             ],
             [
              0.7777777777777778,
              "#fb9f3a"
             ],
             [
              0.8888888888888888,
              "#fdca26"
             ],
             [
              1,
              "#f0f921"
             ]
            ],
            "type": "surface"
           }
          ],
          "table": [
           {
            "cells": {
             "fill": {
              "color": "#506784"
             },
             "line": {
              "color": "rgb(17,17,17)"
             }
            },
            "header": {
             "fill": {
              "color": "#2a3f5f"
             },
             "line": {
              "color": "rgb(17,17,17)"
             }
            },
            "type": "table"
           }
          ]
         },
         "layout": {
          "annotationdefaults": {
           "arrowcolor": "#f2f5fa",
           "arrowhead": 0,
           "arrowwidth": 1
          },
          "autotypenumbers": "strict",
          "coloraxis": {
           "colorbar": {
            "outlinewidth": 0,
            "ticks": ""
           }
          },
          "colorscale": {
           "diverging": [
            [
             0,
             "#8e0152"
            ],
            [
             0.1,
             "#c51b7d"
            ],
            [
             0.2,
             "#de77ae"
            ],
            [
             0.3,
             "#f1b6da"
            ],
            [
             0.4,
             "#fde0ef"
            ],
            [
             0.5,
             "#f7f7f7"
            ],
            [
             0.6,
             "#e6f5d0"
            ],
            [
             0.7,
             "#b8e186"
            ],
            [
             0.8,
             "#7fbc41"
            ],
            [
             0.9,
             "#4d9221"
            ],
            [
             1,
             "#276419"
            ]
           ],
           "sequential": [
            [
             0,
             "#0d0887"
            ],
            [
             0.1111111111111111,
             "#46039f"
            ],
            [
             0.2222222222222222,
             "#7201a8"
            ],
            [
             0.3333333333333333,
             "#9c179e"
            ],
            [
             0.4444444444444444,
             "#bd3786"
            ],
            [
             0.5555555555555556,
             "#d8576b"
            ],
            [
             0.6666666666666666,
             "#ed7953"
            ],
            [
             0.7777777777777778,
             "#fb9f3a"
            ],
            [
             0.8888888888888888,
             "#fdca26"
            ],
            [
             1,
             "#f0f921"
            ]
           ],
           "sequentialminus": [
            [
             0,
             "#0d0887"
            ],
            [
             0.1111111111111111,
             "#46039f"
            ],
            [
             0.2222222222222222,
             "#7201a8"
            ],
            [
             0.3333333333333333,
             "#9c179e"
            ],
            [
             0.4444444444444444,
             "#bd3786"
            ],
            [
             0.5555555555555556,
             "#d8576b"
            ],
            [
             0.6666666666666666,
             "#ed7953"
            ],
            [
             0.7777777777777778,
             "#fb9f3a"
            ],
            [
             0.8888888888888888,
             "#fdca26"
            ],
            [
             1,
             "#f0f921"
            ]
           ]
          },
          "colorway": [
           "#636efa",
           "#EF553B",
           "#00cc96",
           "#ab63fa",
           "#FFA15A",
           "#19d3f3",
           "#FF6692",
           "#B6E880",
           "#FF97FF",
           "#FECB52"
          ],
          "font": {
           "color": "#f2f5fa"
          },
          "geo": {
           "bgcolor": "rgb(17,17,17)",
           "lakecolor": "rgb(17,17,17)",
           "landcolor": "rgb(17,17,17)",
           "showlakes": true,
           "showland": true,
           "subunitcolor": "#506784"
          },
          "hoverlabel": {
           "align": "left"
          },
          "hovermode": "closest",
          "mapbox": {
           "style": "dark"
          },
          "paper_bgcolor": "rgb(17,17,17)",
          "plot_bgcolor": "rgb(17,17,17)",
          "polar": {
           "angularaxis": {
            "gridcolor": "#506784",
            "linecolor": "#506784",
            "ticks": ""
           },
           "bgcolor": "rgb(17,17,17)",
           "radialaxis": {
            "gridcolor": "#506784",
            "linecolor": "#506784",
            "ticks": ""
           }
          },
          "scene": {
           "xaxis": {
            "backgroundcolor": "rgb(17,17,17)",
            "gridcolor": "#506784",
            "gridwidth": 2,
            "linecolor": "#506784",
            "showbackground": true,
            "ticks": "",
            "zerolinecolor": "#C8D4E3"
           },
           "yaxis": {
            "backgroundcolor": "rgb(17,17,17)",
            "gridcolor": "#506784",
            "gridwidth": 2,
            "linecolor": "#506784",
            "showbackground": true,
            "ticks": "",
            "zerolinecolor": "#C8D4E3"
           },
           "zaxis": {
            "backgroundcolor": "rgb(17,17,17)",
            "gridcolor": "#506784",
            "gridwidth": 2,
            "linecolor": "#506784",
            "showbackground": true,
            "ticks": "",
            "zerolinecolor": "#C8D4E3"
           }
          },
          "shapedefaults": {
           "line": {
            "color": "#f2f5fa"
           }
          },
          "sliderdefaults": {
           "bgcolor": "#C8D4E3",
           "bordercolor": "rgb(17,17,17)",
           "borderwidth": 1,
           "tickwidth": 0
          },
          "ternary": {
           "aaxis": {
            "gridcolor": "#506784",
            "linecolor": "#506784",
            "ticks": ""
           },
           "baxis": {
            "gridcolor": "#506784",
            "linecolor": "#506784",
            "ticks": ""
           },
           "bgcolor": "rgb(17,17,17)",
           "caxis": {
            "gridcolor": "#506784",
            "linecolor": "#506784",
            "ticks": ""
           }
          },
          "title": {
           "x": 0.05
          },
          "updatemenudefaults": {
           "bgcolor": "#506784",
           "borderwidth": 0
          },
          "xaxis": {
           "automargin": true,
           "gridcolor": "#283442",
           "linecolor": "#506784",
           "ticks": "",
           "title": {
            "standoff": 15
           },
           "zerolinecolor": "#283442",
           "zerolinewidth": 2
          },
          "yaxis": {
           "automargin": true,
           "gridcolor": "#283442",
           "linecolor": "#506784",
           "ticks": "",
           "title": {
            "standoff": 15
           },
           "zerolinecolor": "#283442",
           "zerolinewidth": 2
          }
         }
        },
        "title": {
         "text": "Reconstration"
        },
        "xaxis": {
         "fixedrange": true,
         "showgrid": false,
         "showticklabels": false,
         "zeroline": false,
         "zerolinecolor": "gray",
         "zerolinewidth": 1
        },
        "yaxis": {
         "fixedrange": true,
         "showgrid": false,
         "showticklabels": false,
         "zeroline": false,
         "zerolinecolor": "gray",
         "zerolinewidth": 1
        }
       }
      }
     },
     "metadata": {},
     "output_type": "display_data"
    },
    {
     "data": {
      "application/vnd.plotly.v1+json": {
       "config": {
        "plotlyServerURL": "https://plot.ly"
       },
       "data": [
        {
         "line": {
          "color": [
           0,
           1,
           2,
           3,
           4,
           5,
           6,
           7,
           8,
           9,
           10,
           11,
           12,
           13,
           14,
           15,
           16,
           17,
           18,
           19
          ],
          "colorscale": [
           [
            0,
            "rgb(75, 41, 145)"
           ],
           [
            0.16666666666666666,
            "rgb(135, 44, 162)"
           ],
           [
            0.3333333333333333,
            "rgb(192, 54, 157)"
           ],
           [
            0.5,
            "rgb(234, 79, 136)"
           ],
           [
            0.6666666666666666,
            "rgb(250, 120, 118)"
           ],
           [
            0.8333333333333334,
            "rgb(246, 169, 122)"
           ],
           [
            1,
            "rgb(237, 217, 163)"
           ]
          ],
          "width": 2
         },
         "mode": "lines",
         "name": "Generated",
         "type": "scatter3d",
         "x": [
          0.7303158640861511,
          0.6514409184455872,
          0.5655913949012756,
          0.46041592955589294,
          0.3648940324783325,
          0.253640353679657,
          0.15939906239509583,
          0.08572150766849518,
          0.03469480201601982,
          0.029426833614706993,
          0.04077395051717758,
          0.04690108820796013,
          0.06547503173351288,
          0.08338713645935059,
          0.10057628154754639,
          0.12136194109916687,
          0.13768742978572845,
          0.15462103486061096,
          0.17247000336647034,
          0.19283278286457062
         ],
         "y": [
          0.6199121475219727,
          0.6025115251541138,
          0.5855303406715393,
          0.5665601491928101,
          0.5478814840316772,
          0.5216558575630188,
          0.5046232342720032,
          0.48532533645629883,
          0.47361308336257935,
          0.4654048979282379,
          0.4364089369773865,
          0.4076414704322815,
          0.3845968246459961,
          0.3691088557243347,
          0.36911892890930176,
          0.37255579233169556,
          0.3951205611228943,
          0.42363932728767395,
          0.44770967960357666,
          0.4801885485649109
         ],
         "z": [
          0.8154654502868652,
          0.7601649761199951,
          0.7040285468101501,
          0.6322258114814758,
          0.5526020526885986,
          0.45579516887664795,
          0.33321312069892883,
          0.20724250376224518,
          0.07846330106258392,
          0.019024381414055824,
          0.03771933168172836,
          0.06138695031404495,
          0.09635737538337708,
          0.13299426436424255,
          0.1604153960943222,
          0.1918148547410965,
          0.2251627892255783,
          0.2571011483669281,
          0.2777478098869324,
          0.3071039021015167
         ]
        },
        {
         "line": {
          "color": [
           0,
           1,
           2,
           3,
           4,
           5,
           6,
           7,
           8,
           9,
           10,
           11,
           12,
           13,
           14,
           15,
           16,
           17,
           18,
           19
          ],
          "colorscale": [
           [
            0,
            "rgb(75, 41, 145)"
           ],
           [
            0.16666666666666666,
            "rgb(135, 44, 162)"
           ],
           [
            0.3333333333333333,
            "rgb(192, 54, 157)"
           ],
           [
            0.5,
            "rgb(234, 79, 136)"
           ],
           [
            0.6666666666666666,
            "rgb(250, 120, 118)"
           ],
           [
            0.8333333333333334,
            "rgb(246, 169, 122)"
           ],
           [
            1,
            "rgb(237, 217, 163)"
           ]
          ],
          "width": 2
         },
         "mode": "lines",
         "name": "Generated",
         "type": "scatter3d",
         "x": [
          0.6677241325378418,
          0.6023440361022949,
          0.5307408571243286,
          0.4362657070159912,
          0.3413318395614624,
          0.23531974852085114,
          0.14714469015598297,
          0.07699649035930634,
          0.03665279969573021,
          0.03642986714839935,
          0.03562658280134201,
          0.03403223678469658,
          0.03557347506284714,
          0.04357539117336273,
          0.05071253702044487,
          0.05979657918214798,
          0.07005433738231659,
          0.08089781552553177,
          0.08704878389835358,
          0.10191240906715393
         ],
         "y": [
          0.5990884900093079,
          0.587011992931366,
          0.561007559299469,
          0.5436534881591797,
          0.5239191651344299,
          0.49367666244506836,
          0.47269198298454285,
          0.4551962614059448,
          0.4542110860347748,
          0.4525476396083832,
          0.44275835156440735,
          0.4334361255168915,
          0.42668086290359497,
          0.4215838313102722,
          0.4268302619457245,
          0.4263562262058258,
          0.43238645792007446,
          0.44952520728111267,
          0.45020049810409546,
          0.47876518964767456
         ],
         "z": [
          0.8522090315818787,
          0.8138073682785034,
          0.765163004398346,
          0.6999615430831909,
          0.631799578666687,
          0.5313908457756042,
          0.4103129506111145,
          0.2798593044281006,
          0.13694751262664795,
          0.026383185759186745,
          0.05066097527742386,
          0.06774990260601044,
          0.09554888308048248,
          0.12914277613162994,
          0.1512388437986374,
          0.17313796281814575,
          0.19754621386528015,
          0.22396117448806763,
          0.23747320473194122,
          0.2628396153450012
         ]
        },
        {
         "line": {
          "color": [
           0,
           1,
           2,
           3,
           4,
           5,
           6,
           7,
           8,
           9,
           10,
           11,
           12,
           13,
           14,
           15,
           16,
           17,
           18,
           19
          ],
          "colorscale": [
           [
            0,
            "rgb(75, 41, 145)"
           ],
           [
            0.16666666666666666,
            "rgb(135, 44, 162)"
           ],
           [
            0.3333333333333333,
            "rgb(192, 54, 157)"
           ],
           [
            0.5,
            "rgb(234, 79, 136)"
           ],
           [
            0.6666666666666666,
            "rgb(250, 120, 118)"
           ],
           [
            0.8333333333333334,
            "rgb(246, 169, 122)"
           ],
           [
            1,
            "rgb(237, 217, 163)"
           ]
          ],
          "width": 2
         },
         "mode": "lines",
         "name": "Generated",
         "type": "scatter3d",
         "x": [
          0.6145966649055481,
          0.5415201783180237,
          0.4675482213497162,
          0.3814091086387634,
          0.30435338616371155,
          0.2103206068277359,
          0.13159184157848358,
          0.07029128074645996,
          0.03414759784936905,
          0.03696402907371521,
          0.045075275003910065,
          0.05196504294872284,
          0.05365137755870819,
          0.06535908579826355,
          0.0711885616183281,
          0.08012449741363525,
          0.083842933177948,
          0.09399610012769699,
          0.10434019565582275,
          0.11952374875545502
         ],
         "y": [
          0.934124231338501,
          0.8776786923408508,
          0.8320512175559998,
          0.7727249264717102,
          0.7094213962554932,
          0.6403841376304626,
          0.5713187456130981,
          0.5093626379966736,
          0.4723649024963379,
          0.4364185035228729,
          0.4280829131603241,
          0.41783010959625244,
          0.4232833981513977,
          0.4429243505001068,
          0.4748688340187073,
          0.5074248313903809,
          0.5366555452346802,
          0.5805421471595764,
          0.603398323059082,
          0.6354373693466187
         ],
         "z": [
          0.8691410422325134,
          0.809717059135437,
          0.7516416311264038,
          0.6861227750778198,
          0.6157644391059875,
          0.515330970287323,
          0.4007478952407837,
          0.27721107006073,
          0.13298748433589935,
          0.05581410229206085,
          0.07996512204408646,
          0.1103537529706955,
          0.138406440615654,
          0.18578752875328064,
          0.21122534573078156,
          0.23234358429908752,
          0.2741667330265045,
          0.30042150616645813,
          0.31456610560417175,
          0.3432998061180115
         ]
        },
        {
         "line": {
          "color": [
           0,
           1,
           2,
           3,
           4,
           5,
           6,
           7,
           8,
           9,
           10,
           11,
           12,
           13,
           14,
           15,
           16,
           17,
           18,
           19
          ],
          "colorscale": [
           [
            0,
            "rgb(75, 41, 145)"
           ],
           [
            0.16666666666666666,
            "rgb(135, 44, 162)"
           ],
           [
            0.3333333333333333,
            "rgb(192, 54, 157)"
           ],
           [
            0.5,
            "rgb(234, 79, 136)"
           ],
           [
            0.6666666666666666,
            "rgb(250, 120, 118)"
           ],
           [
            0.8333333333333334,
            "rgb(246, 169, 122)"
           ],
           [
            1,
            "rgb(237, 217, 163)"
           ]
          ],
          "width": 2
         },
         "mode": "lines",
         "name": "Generated",
         "type": "scatter3d",
         "x": [
          0.6172252893447876,
          0.5590769648551941,
          0.48925504088401794,
          0.41281428933143616,
          0.33448413014411926,
          0.24545124173164368,
          0.16141876578330994,
          0.0957285612821579,
          0.04633674770593643,
          0.031437598168849945,
          0.03582620620727539,
          0.04449033737182617,
          0.06696529686450958,
          0.09118466079235077,
          0.1148911863565445,
          0.13283462822437286,
          0.14522404968738556,
          0.1505369246006012,
          0.15143781900405884,
          0.1493532657623291
         ],
         "y": [
          0.4967026114463806,
          0.4906085729598999,
          0.4828263521194458,
          0.47167539596557617,
          0.4598122537136078,
          0.4389406442642212,
          0.4354574978351593,
          0.43799078464508057,
          0.4433223307132721,
          0.4588082432746887,
          0.4511445164680481,
          0.44786059856414795,
          0.4363454580307007,
          0.4388847351074219,
          0.44105958938598633,
          0.44524815678596497,
          0.4527267515659332,
          0.45636364817619324,
          0.4599776864051819,
          0.4700808525085449
         ],
         "z": [
          0.7702491283416748,
          0.7145073413848877,
          0.6609404683113098,
          0.5891457796096802,
          0.5180586576461792,
          0.4280892610549927,
          0.32952672243118286,
          0.22008444368839264,
          0.11002301424741745,
          0.024865252897143364,
          0.07161234319210052,
          0.12158071994781494,
          0.1706300526857376,
          0.2175254225730896,
          0.24847261607646942,
          0.27745869755744934,
          0.29443874955177307,
          0.3047882616519928,
          0.2999349534511566,
          0.30752846598625183
         ]
        },
        {
         "line": {
          "color": [
           0,
           1,
           2,
           3,
           4,
           5,
           6,
           7,
           8,
           9,
           10,
           11,
           12,
           13,
           14,
           15,
           16,
           17,
           18,
           19
          ],
          "colorscale": [
           [
            0,
            "rgb(75, 41, 145)"
           ],
           [
            0.16666666666666666,
            "rgb(135, 44, 162)"
           ],
           [
            0.3333333333333333,
            "rgb(192, 54, 157)"
           ],
           [
            0.5,
            "rgb(234, 79, 136)"
           ],
           [
            0.6666666666666666,
            "rgb(250, 120, 118)"
           ],
           [
            0.8333333333333334,
            "rgb(246, 169, 122)"
           ],
           [
            1,
            "rgb(237, 217, 163)"
           ]
          ],
          "width": 2
         },
         "mode": "lines",
         "name": "Generated",
         "type": "scatter3d",
         "x": [
          0.6623795628547668,
          0.5673003792762756,
          0.4706631004810333,
          0.3642113208770752,
          0.27627164125442505,
          0.18296200037002563,
          0.11197451502084732,
          0.06338538229465485,
          0.034307144582271576,
          0.03907547891139984,
          0.033763572573661804,
          0.030064783990383148,
          0.02538120746612549,
          0.03549717739224434,
          0.046121515333652496,
          0.06501919776201248,
          0.08960004150867462,
          0.11632778495550156,
          0.14008758962154388,
          0.16270382702350616
         ],
         "y": [
          0.7844812273979187,
          0.7372531890869141,
          0.6962573528289795,
          0.6518187522888184,
          0.6101982593536377,
          0.5648291110992432,
          0.5160872340202332,
          0.4769984483718872,
          0.4556586742401123,
          0.44213545322418213,
          0.45311129093170166,
          0.4665553569793701,
          0.473541259765625,
          0.5033164620399475,
          0.5273769497871399,
          0.5521388053894043,
          0.5701063275337219,
          0.5934006571769714,
          0.6098688244819641,
          0.6331626772880554
         ],
         "z": [
          0.8415470719337463,
          0.7808764576911926,
          0.7197052836418152,
          0.6414802074432373,
          0.5620388388633728,
          0.4612165689468384,
          0.35325315594673157,
          0.2392132729291916,
          0.13242585957050323,
          0.04675915092229843,
          0.05694333463907242,
          0.0840999037027359,
          0.12223781645298004,
          0.18502330780029297,
          0.22512631118297577,
          0.2668773829936981,
          0.3145931363105774,
          0.3555588126182556,
          0.38385632634162903,
          0.41508951783180237
         ]
        },
        {
         "line": {
          "color": [
           0,
           1,
           2,
           3,
           4,
           5,
           6,
           7,
           8,
           9,
           10,
           11,
           12,
           13,
           14,
           15,
           16,
           17,
           18,
           19
          ],
          "colorscale": [
           [
            0,
            "rgb(75, 41, 145)"
           ],
           [
            0.16666666666666666,
            "rgb(135, 44, 162)"
           ],
           [
            0.3333333333333333,
            "rgb(192, 54, 157)"
           ],
           [
            0.5,
            "rgb(234, 79, 136)"
           ],
           [
            0.6666666666666666,
            "rgb(250, 120, 118)"
           ],
           [
            0.8333333333333334,
            "rgb(246, 169, 122)"
           ],
           [
            1,
            "rgb(237, 217, 163)"
           ]
          ],
          "width": 2
         },
         "mode": "lines",
         "name": "Generated",
         "type": "scatter3d",
         "x": [
          0.11492741852998734,
          0.13401059806346893,
          0.14460642635822296,
          0.1341249942779541,
          0.1133907362818718,
          0.07811014354228973,
          0.04741331934928894,
          0.03489848971366882,
          0.02556736208498478,
          0.03778243064880371,
          0.034448109567165375,
          0.03454161807894707,
          0.03856320679187775,
          0.04420079290866852,
          0.0562322661280632,
          0.062490932643413544,
          0.06611442565917969,
          0.07837264984846115,
          0.07612840831279755,
          0.07964950799942017
         ],
         "y": [
          0.6949964165687561,
          0.6760397553443909,
          0.6596210598945618,
          0.6317847371101379,
          0.6072561144828796,
          0.5708279013633728,
          0.5327750444412231,
          0.5065632462501526,
          0.46710723638534546,
          0.44754716753959656,
          0.4502736032009125,
          0.46312397718429565,
          0.47727108001708984,
          0.5019821524620056,
          0.5336841940879822,
          0.5512657165527344,
          0.571256697177887,
          0.590427577495575,
          0.5979034304618835,
          0.6134207844734192
         ],
         "z": [
          0.4036376476287842,
          0.41038990020751953,
          0.41355836391448975,
          0.388434499502182,
          0.3587495684623718,
          0.29837965965270996,
          0.21964186429977417,
          0.13852714002132416,
          0.056823186576366425,
          0.04916863888502121,
          0.07948213070631027,
          0.10970288515090942,
          0.14585711061954498,
          0.1832190454006195,
          0.1982465386390686,
          0.21646368503570557,
          0.24173478782176971,
          0.2567000091075897,
          0.2650296092033386,
          0.2748810648918152
         ]
        },
        {
         "line": {
          "color": [
           0,
           1,
           2,
           3,
           4,
           5,
           6,
           7,
           8,
           9,
           10,
           11,
           12,
           13,
           14,
           15,
           16,
           17,
           18,
           19
          ],
          "colorscale": [
           [
            0,
            "rgb(75, 41, 145)"
           ],
           [
            0.16666666666666666,
            "rgb(135, 44, 162)"
           ],
           [
            0.3333333333333333,
            "rgb(192, 54, 157)"
           ],
           [
            0.5,
            "rgb(234, 79, 136)"
           ],
           [
            0.6666666666666666,
            "rgb(250, 120, 118)"
           ],
           [
            0.8333333333333334,
            "rgb(246, 169, 122)"
           ],
           [
            1,
            "rgb(237, 217, 163)"
           ]
          ],
          "width": 2
         },
         "mode": "lines",
         "name": "Generated",
         "type": "scatter3d",
         "x": [
          0.6921565532684326,
          0.6277035474777222,
          0.5544499754905701,
          0.46444669365882874,
          0.3745441138744354,
          0.2770526707172394,
          0.18296949565410614,
          0.10612563788890839,
          0.05041278153657913,
          0.03079538606107235,
          0.03752388805150986,
          0.04418540000915527,
          0.05690614879131317,
          0.0729178935289383,
          0.08574388921260834,
          0.1086486279964447,
          0.12851449847221375,
          0.1521390676498413,
          0.1762089729309082,
          0.19960917532444
         ],
         "y": [
          0.5876786112785339,
          0.5684831142425537,
          0.5534195303916931,
          0.5450965166091919,
          0.5350008010864258,
          0.5185533165931702,
          0.5032223463058472,
          0.48231369256973267,
          0.4743792712688446,
          0.468087375164032,
          0.45314472913742065,
          0.45231038331985474,
          0.4540988802909851,
          0.470122367143631,
          0.4971638321876526,
          0.5245047807693481,
          0.5484486222267151,
          0.566757082939148,
          0.5717467665672302,
          0.5777866244316101
         ],
         "z": [
          0.766940176486969,
          0.7191367149353027,
          0.673101544380188,
          0.6125363707542419,
          0.5400487184524536,
          0.45463383197784424,
          0.3510000705718994,
          0.23593543469905853,
          0.11213129758834839,
          0.019532212987542152,
          0.04682493954896927,
          0.08092758059501648,
          0.116938516497612,
          0.1551286280155182,
          0.18891377747058868,
          0.21906080842018127,
          0.25927746295928955,
          0.3005041480064392,
          0.33081042766571045,
          0.35846585035324097
         ]
        },
        {
         "line": {
          "color": [
           0,
           1,
           2,
           3,
           4,
           5,
           6,
           7,
           8,
           9,
           10,
           11,
           12,
           13,
           14,
           15,
           16,
           17,
           18,
           19
          ],
          "colorscale": [
           [
            0,
            "rgb(75, 41, 145)"
           ],
           [
            0.16666666666666666,
            "rgb(135, 44, 162)"
           ],
           [
            0.3333333333333333,
            "rgb(192, 54, 157)"
           ],
           [
            0.5,
            "rgb(234, 79, 136)"
           ],
           [
            0.6666666666666666,
            "rgb(250, 120, 118)"
           ],
           [
            0.8333333333333334,
            "rgb(246, 169, 122)"
           ],
           [
            1,
            "rgb(237, 217, 163)"
           ]
          ],
          "width": 2
         },
         "mode": "lines",
         "name": "Generated",
         "type": "scatter3d",
         "x": [
          0.7518645524978638,
          0.6577252149581909,
          0.5622360706329346,
          0.4553191065788269,
          0.3605564832687378,
          0.2538805603981018,
          0.15709781646728516,
          0.08174736797809601,
          0.032991938292980194,
          0.02698366530239582,
          0.048191338777542114,
          0.06404297053813934,
          0.08101944625377655,
          0.10636423528194427,
          0.12950070202350616,
          0.14906862378120422,
          0.1660194993019104,
          0.18243062496185303,
          0.1947157233953476,
          0.2119704931974411
         ],
         "y": [
          0.5178595781326294,
          0.5011690855026245,
          0.4972418248653412,
          0.48603159189224243,
          0.4819225072860718,
          0.4680696725845337,
          0.4636511504650116,
          0.45764774084091187,
          0.46250665187835693,
          0.4667237102985382,
          0.4495687186717987,
          0.44017788767814636,
          0.4295523166656494,
          0.4236341416835785,
          0.4279538691043854,
          0.4246480166912079,
          0.4374011754989624,
          0.4471968114376068,
          0.44243115186691284,
          0.4581634998321533
         ],
         "z": [
          0.8353266716003418,
          0.7646499276161194,
          0.7041195034980774,
          0.6198180913925171,
          0.5434171557426453,
          0.4425668716430664,
          0.31781619787216187,
          0.19399811327457428,
          0.06230071932077408,
          0.018873268738389015,
          0.04539400339126587,
          0.07466402649879456,
          0.10189628601074219,
          0.12978914380073547,
          0.14713995158672333,
          0.1643373817205429,
          0.17945651710033417,
          0.2001323699951172,
          0.20880016684532166,
          0.21490849554538727
         ]
        },
        {
         "line": {
          "color": [
           0,
           1,
           2,
           3,
           4,
           5,
           6,
           7,
           8,
           9,
           10,
           11,
           12,
           13,
           14,
           15,
           16,
           17,
           18,
           19
          ],
          "colorscale": [
           [
            0,
            "rgb(75, 41, 145)"
           ],
           [
            0.16666666666666666,
            "rgb(135, 44, 162)"
           ],
           [
            0.3333333333333333,
            "rgb(192, 54, 157)"
           ],
           [
            0.5,
            "rgb(234, 79, 136)"
           ],
           [
            0.6666666666666666,
            "rgb(250, 120, 118)"
           ],
           [
            0.8333333333333334,
            "rgb(246, 169, 122)"
           ],
           [
            1,
            "rgb(237, 217, 163)"
           ]
          ],
          "width": 2
         },
         "mode": "lines",
         "name": "Generated",
         "type": "scatter3d",
         "x": [
          0.3942612409591675,
          0.36570870876312256,
          0.3302425444126129,
          0.2753230631351471,
          0.22033467888832092,
          0.15043213963508606,
          0.08964569866657257,
          0.05056951940059662,
          0.029478345066308975,
          0.0372919887304306,
          0.03623703867197037,
          0.036157265305519104,
          0.03739199787378311,
          0.04235939681529999,
          0.05323722958564758,
          0.058494046330451965,
          0.06628730893135071,
          0.08285186439752579,
          0.09303579479455948,
          0.10859610140323639
         ],
         "y": [
          0.7431133985519409,
          0.7138984203338623,
          0.6857631206512451,
          0.6588761210441589,
          0.620824933052063,
          0.58493572473526,
          0.5379472374916077,
          0.5085570812225342,
          0.47561395168304443,
          0.44757503271102905,
          0.44476547837257385,
          0.45837604999542236,
          0.4702709913253784,
          0.4927195608615875,
          0.5193051695823669,
          0.5503978729248047,
          0.5732871294021606,
          0.5937690138816833,
          0.5954467058181763,
          0.6069586873054504
         ],
         "z": [
          0.7159783840179443,
          0.6790228486061096,
          0.6359341144561768,
          0.5767643451690674,
          0.5156833529472351,
          0.4270934462547302,
          0.3194054663181305,
          0.20415975153446198,
          0.07552053034305573,
          0.04216667264699936,
          0.08044402301311493,
          0.10140369832515717,
          0.1381267011165619,
          0.17985746264457703,
          0.20963124930858612,
          0.23708418011665344,
          0.2772909998893738,
          0.30872538685798645,
          0.33067017793655396,
          0.3677622973918915
         ]
        },
        {
         "line": {
          "color": [
           0,
           1,
           2,
           3,
           4,
           5,
           6,
           7,
           8,
           9,
           10,
           11,
           12,
           13,
           14,
           15,
           16,
           17,
           18,
           19
          ],
          "colorscale": [
           [
            0,
            "rgb(75, 41, 145)"
           ],
           [
            0.16666666666666666,
            "rgb(135, 44, 162)"
           ],
           [
            0.3333333333333333,
            "rgb(192, 54, 157)"
           ],
           [
            0.5,
            "rgb(234, 79, 136)"
           ],
           [
            0.6666666666666666,
            "rgb(250, 120, 118)"
           ],
           [
            0.8333333333333334,
            "rgb(246, 169, 122)"
           ],
           [
            1,
            "rgb(237, 217, 163)"
           ]
          ],
          "width": 2
         },
         "mode": "lines",
         "name": "Generated",
         "type": "scatter3d",
         "x": [
          0.7784998416900635,
          0.6876115798950195,
          0.5869321823120117,
          0.4772111475467682,
          0.36426860094070435,
          0.2391890585422516,
          0.1368020623922348,
          0.06310336291790009,
          0.03220668062567711,
          0.039359189569950104,
          0.03975626081228256,
          0.05311527103185654,
          0.07152517139911652,
          0.09491509199142456,
          0.12969966232776642,
          0.15504872798919678,
          0.18743784725666046,
          0.2149670422077179,
          0.24387803673744202,
          0.2657310366630554
         ],
         "y": [
          0.8043695688247681,
          0.7687309980392456,
          0.7283079624176025,
          0.6956702470779419,
          0.6627905964851379,
          0.6242373585700989,
          0.5805197954177856,
          0.5261706709861755,
          0.48325932025909424,
          0.45621880888938904,
          0.45566216111183167,
          0.47347840666770935,
          0.4916868209838867,
          0.526288628578186,
          0.5548248887062073,
          0.5844942331314087,
          0.6003088355064392,
          0.6112356185913086,
          0.6146720051765442,
          0.6124634742736816
         ],
         "z": [
          0.922330379486084,
          0.8663943409919739,
          0.8076431751251221,
          0.723659873008728,
          0.6434302926063538,
          0.5391970872879028,
          0.40174567699432373,
          0.2573080062866211,
          0.0983865037560463,
          0.04725024849176407,
          0.09774628281593323,
          0.13781026005744934,
          0.1797657459974289,
          0.23479515314102173,
          0.2692908048629761,
          0.29924944043159485,
          0.3348219394683838,
          0.3669043183326721,
          0.38995763659477234,
          0.40632039308547974
         ]
        },
        {
         "line": {
          "color": [
           0,
           1,
           2,
           3,
           4,
           5,
           6,
           7,
           8,
           9,
           10,
           11,
           12,
           13,
           14,
           15,
           16,
           17,
           18,
           19
          ],
          "colorscale": [
           [
            0,
            "rgb(75, 41, 145)"
           ],
           [
            0.16666666666666666,
            "rgb(135, 44, 162)"
           ],
           [
            0.3333333333333333,
            "rgb(192, 54, 157)"
           ],
           [
            0.5,
            "rgb(234, 79, 136)"
           ],
           [
            0.6666666666666666,
            "rgb(250, 120, 118)"
           ],
           [
            0.8333333333333334,
            "rgb(246, 169, 122)"
           ],
           [
            1,
            "rgb(237, 217, 163)"
           ]
          ],
          "width": 2
         },
         "mode": "lines",
         "name": "Generated",
         "type": "scatter3d",
         "x": [
          0.5563948750495911,
          0.5036196708679199,
          0.4433920681476593,
          0.36943134665489197,
          0.2991520166397095,
          0.21644841134548187,
          0.13699351251125336,
          0.07587765157222748,
          0.030616246163845062,
          0.025958271697163582,
          0.03921122848987579,
          0.047681987285614014,
          0.05947580933570862,
          0.07683441042900085,
          0.08948644250631332,
          0.10293804109096527,
          0.10848544538021088,
          0.11770539730787277,
          0.12382949143648148,
          0.13273875415325165
         ],
         "y": [
          0.4760608375072479,
          0.4614924192428589,
          0.4610174894332886,
          0.45397359132766724,
          0.4528903067111969,
          0.4475526809692383,
          0.44821906089782715,
          0.45429813861846924,
          0.45497024059295654,
          0.47128501534461975,
          0.4596514403820038,
          0.46838101744651794,
          0.4778361916542053,
          0.48973867297172546,
          0.5075501799583435,
          0.5053679943084717,
          0.5124363899230957,
          0.5112545490264893,
          0.49306878447532654,
          0.49327898025512695
         ],
         "z": [
          0.7652443647384644,
          0.7128812074661255,
          0.6608244180679321,
          0.5863757133483887,
          0.5237268805503845,
          0.42740994691848755,
          0.3130815625190735,
          0.19631324708461761,
          0.08113930374383926,
          0.017741838470101357,
          0.0327804833650589,
          0.05548166483640671,
          0.07635228335857391,
          0.0923909991979599,
          0.1060274988412857,
          0.11740712821483612,
          0.1253974884748459,
          0.13758257031440735,
          0.14570428431034088,
          0.15970176458358765
         ]
        },
        {
         "line": {
          "color": [
           0,
           1,
           2,
           3,
           4,
           5,
           6,
           7,
           8,
           9,
           10,
           11,
           12,
           13,
           14,
           15,
           16,
           17,
           18,
           19
          ],
          "colorscale": [
           [
            0,
            "rgb(75, 41, 145)"
           ],
           [
            0.16666666666666666,
            "rgb(135, 44, 162)"
           ],
           [
            0.3333333333333333,
            "rgb(192, 54, 157)"
           ],
           [
            0.5,
            "rgb(234, 79, 136)"
           ],
           [
            0.6666666666666666,
            "rgb(250, 120, 118)"
           ],
           [
            0.8333333333333334,
            "rgb(246, 169, 122)"
           ],
           [
            1,
            "rgb(237, 217, 163)"
           ]
          ],
          "width": 2
         },
         "mode": "lines",
         "name": "Generated",
         "type": "scatter3d",
         "x": [
          0.16623933613300323,
          0.16236357390880585,
          0.15647625923156738,
          0.1288221776485443,
          0.10059023648500443,
          0.06407245248556137,
          0.04505544900894165,
          0.035934753715991974,
          0.030771495774388313,
          0.03378527611494064,
          0.0336381159722805,
          0.028188496828079224,
          0.027921944856643677,
          0.029174290597438812,
          0.035744648426771164,
          0.04165687412023544,
          0.045816484838724136,
          0.06544069200754166,
          0.08303577452898026,
          0.10070076584815979
         ],
         "y": [
          0.4248008131980896,
          0.4183817207813263,
          0.4040397107601166,
          0.39763063192367554,
          0.39514824748039246,
          0.3952445983886719,
          0.3928356170654297,
          0.4086558222770691,
          0.431243360042572,
          0.44948628544807434,
          0.4428336024284363,
          0.438923180103302,
          0.43114280700683594,
          0.42679616808891296,
          0.4320135712623596,
          0.420358270406723,
          0.4016197919845581,
          0.3914257287979126,
          0.36687448620796204,
          0.3703773617744446
         ],
         "z": [
          0.44662386178970337,
          0.4447234272956848,
          0.42386314272880554,
          0.39911767840385437,
          0.3645610511302948,
          0.28788870573043823,
          0.21821019053459167,
          0.14793537557125092,
          0.08237545192241669,
          0.033952534198760986,
          0.048897527158260345,
          0.08697158098220825,
          0.11197718977928162,
          0.15906569361686707,
          0.1836869865655899,
          0.23291435837745667,
          0.2602704167366028,
          0.300422340631485,
          0.3316054344177246,
          0.36128708720207214
         ]
        },
        {
         "line": {
          "color": [
           0,
           1,
           2,
           3,
           4,
           5,
           6,
           7,
           8,
           9,
           10,
           11,
           12,
           13,
           14,
           15,
           16,
           17,
           18,
           19
          ],
          "colorscale": [
           [
            0,
            "rgb(75, 41, 145)"
           ],
           [
            0.16666666666666666,
            "rgb(135, 44, 162)"
           ],
           [
            0.3333333333333333,
            "rgb(192, 54, 157)"
           ],
           [
            0.5,
            "rgb(234, 79, 136)"
           ],
           [
            0.6666666666666666,
            "rgb(250, 120, 118)"
           ],
           [
            0.8333333333333334,
            "rgb(246, 169, 122)"
           ],
           [
            1,
            "rgb(237, 217, 163)"
           ]
          ],
          "width": 2
         },
         "mode": "lines",
         "name": "Generated",
         "type": "scatter3d",
         "x": [
          0.1674496829509735,
          0.17274656891822815,
          0.17923161387443542,
          0.1578248143196106,
          0.12524816393852234,
          0.08503108471632004,
          0.055400505661964417,
          0.039200201630592346,
          0.03417719155550003,
          0.034709468483924866,
          0.030889583751559258,
          0.025235634297132492,
          0.023958727717399597,
          0.029171116650104523,
          0.034458283334970474,
          0.04216116666793823,
          0.05258021876215935,
          0.06911923736333847,
          0.08632083237171173,
          0.10380028188228607
         ],
         "y": [
          0.4827374815940857,
          0.49763041734695435,
          0.5005703568458557,
          0.5064077377319336,
          0.5015872120857239,
          0.49510061740875244,
          0.4794727563858032,
          0.46782660484313965,
          0.4542451500892639,
          0.4428789019584656,
          0.4356123208999634,
          0.4216473400592804,
          0.414498507976532,
          0.4054010808467865,
          0.4095202088356018,
          0.4068765342235565,
          0.4127703309059143,
          0.4252375662326813,
          0.43086084723472595,
          0.4528225362300873
         ],
         "z": [
          0.4080308973789215,
          0.41288307309150696,
          0.40748700499534607,
          0.37610766291618347,
          0.34150752425193787,
          0.2762835919857025,
          0.20236386358737946,
          0.12218977510929108,
          0.04201958328485489,
          0.04683956503868103,
          0.06481965631246567,
          0.09912797063589096,
          0.12739135324954987,
          0.17568272352218628,
          0.20531360805034637,
          0.23902979493141174,
          0.27026766538619995,
          0.31219667196273804,
          0.3422824442386627,
          0.36745792627334595
         ]
        },
        {
         "line": {
          "color": [
           0,
           1,
           2,
           3,
           4,
           5,
           6,
           7,
           8,
           9,
           10,
           11,
           12,
           13,
           14,
           15,
           16,
           17,
           18,
           19
          ],
          "colorscale": [
           [
            0,
            "rgb(75, 41, 145)"
           ],
           [
            0.16666666666666666,
            "rgb(135, 44, 162)"
           ],
           [
            0.3333333333333333,
            "rgb(192, 54, 157)"
           ],
           [
            0.5,
            "rgb(234, 79, 136)"
           ],
           [
            0.6666666666666666,
            "rgb(250, 120, 118)"
           ],
           [
            0.8333333333333334,
            "rgb(246, 169, 122)"
           ],
           [
            1,
            "rgb(237, 217, 163)"
           ]
          ],
          "width": 2
         },
         "mode": "lines",
         "name": "Generated",
         "type": "scatter3d",
         "x": [
          0.621814489364624,
          0.5741410851478577,
          0.5119154453277588,
          0.43692031502723694,
          0.35706278681755066,
          0.26765573024749756,
          0.18059663474559784,
          0.10155585408210754,
          0.04596816003322601,
          0.03247088938951492,
          0.04474145919084549,
          0.05481760948896408,
          0.05693128705024719,
          0.07430772483348846,
          0.08973586559295654,
          0.10612320899963379,
          0.1302945762872696,
          0.15541517734527588,
          0.18573321402072906,
          0.22084374725818634
         ],
         "y": [
          0.5455589890480042,
          0.5293638110160828,
          0.5249390006065369,
          0.5168830752372742,
          0.5132660865783691,
          0.5003774762153625,
          0.48315340280532837,
          0.4653266668319702,
          0.46487194299697876,
          0.45822134613990784,
          0.45348212122917175,
          0.4571942985057831,
          0.4659374952316284,
          0.4860045313835144,
          0.5109562277793884,
          0.5287107229232788,
          0.5538532733917236,
          0.5680318474769592,
          0.565200924873352,
          0.5694833397865295
         ],
         "z": [
          0.7321375012397766,
          0.6886667013168335,
          0.6453965306282043,
          0.5930432081222534,
          0.5331920981407166,
          0.449515163898468,
          0.3427550196647644,
          0.2297273427248001,
          0.11068268120288849,
          0.0402316153049469,
          0.06553547829389572,
          0.08547749370336533,
          0.11465008556842804,
          0.1499047875404358,
          0.17657600343227386,
          0.2122834026813507,
          0.2597641944885254,
          0.301369845867157,
          0.3419138193130493,
          0.3844684064388275
         ]
        },
        {
         "line": {
          "color": [
           0,
           1,
           2,
           3,
           4,
           5,
           6,
           7,
           8,
           9,
           10,
           11,
           12,
           13,
           14,
           15,
           16,
           17,
           18,
           19
          ],
          "colorscale": [
           [
            0,
            "rgb(75, 41, 145)"
           ],
           [
            0.16666666666666666,
            "rgb(135, 44, 162)"
           ],
           [
            0.3333333333333333,
            "rgb(192, 54, 157)"
           ],
           [
            0.5,
            "rgb(234, 79, 136)"
           ],
           [
            0.6666666666666666,
            "rgb(250, 120, 118)"
           ],
           [
            0.8333333333333334,
            "rgb(246, 169, 122)"
           ],
           [
            1,
            "rgb(237, 217, 163)"
           ]
          ],
          "width": 2
         },
         "mode": "lines",
         "name": "Generated",
         "type": "scatter3d",
         "x": [
          0.6157365441322327,
          0.5691194534301758,
          0.508422315120697,
          0.4368972182273865,
          0.36085474491119385,
          0.2792395353317261,
          0.19370022416114807,
          0.11654610931873322,
          0.054260291159152985,
          0.03189565986394882,
          0.04118209332227707,
          0.04433196783065796,
          0.04889148473739624,
          0.06071723997592926,
          0.07419157028198242,
          0.08808451890945435,
          0.11100545525550842,
          0.13882246613502502,
          0.17199012637138367,
          0.21039550006389618
         ],
         "y": [
          0.572100818157196,
          0.5509830713272095,
          0.5320127010345459,
          0.5186873078346252,
          0.5028206706047058,
          0.4912203550338745,
          0.46785223484039307,
          0.4604228138923645,
          0.4604426324367523,
          0.4544776678085327,
          0.44926804304122925,
          0.45586904883384705,
          0.45206958055496216,
          0.47073057293891907,
          0.49603646993637085,
          0.518061637878418,
          0.537521243095398,
          0.5436079502105713,
          0.5380058288574219,
          0.539749801158905
         ],
         "z": [
          0.7550086379051208,
          0.7163470983505249,
          0.679165780544281,
          0.6243656277656555,
          0.5725290179252625,
          0.4929022192955017,
          0.39323392510414124,
          0.2935788631439209,
          0.18239594995975494,
          0.03602415323257446,
          0.04753138870000839,
          0.06670207530260086,
          0.08601079881191254,
          0.11286681890487671,
          0.13305896520614624,
          0.15595608949661255,
          0.1896713674068451,
          0.22502490878105164,
          0.25624150037765503,
          0.29098206758499146
         ]
        },
        {
         "line": {
          "color": [
           0,
           1,
           2,
           3,
           4,
           5,
           6,
           7,
           8,
           9,
           10,
           11,
           12,
           13,
           14,
           15,
           16,
           17,
           18,
           19
          ],
          "colorscale": [
           [
            0,
            "rgb(75, 41, 145)"
           ],
           [
            0.16666666666666666,
            "rgb(135, 44, 162)"
           ],
           [
            0.3333333333333333,
            "rgb(192, 54, 157)"
           ],
           [
            0.5,
            "rgb(234, 79, 136)"
           ],
           [
            0.6666666666666666,
            "rgb(250, 120, 118)"
           ],
           [
            0.8333333333333334,
            "rgb(246, 169, 122)"
           ],
           [
            1,
            "rgb(237, 217, 163)"
           ]
          ],
          "width": 2
         },
         "mode": "lines",
         "name": "Generated",
         "type": "scatter3d",
         "x": [
          0.5303497910499573,
          0.5201920866966248,
          0.48852524161338806,
          0.4375116527080536,
          0.3761669397354126,
          0.28612083196640015,
          0.19920840859413147,
          0.11591573059558868,
          0.052164629101753235,
          0.02824823372066021,
          0.04001813381910324,
          0.039774589240550995,
          0.052253857254981995,
          0.06963831186294556,
          0.08418311923742294,
          0.10779072344303131,
          0.13123437762260437,
          0.15351665019989014,
          0.1813870370388031,
          0.2065677046775818
         ],
         "y": [
          0.6761268973350525,
          0.6540579199790955,
          0.6308470368385315,
          0.6133776903152466,
          0.5888270139694214,
          0.5646956562995911,
          0.5350371599197388,
          0.5111735463142395,
          0.4767405092716217,
          0.4554271399974823,
          0.45392465591430664,
          0.46950894594192505,
          0.48998552560806274,
          0.5233498811721802,
          0.5564891695976257,
          0.5919355154037476,
          0.6196992993354797,
          0.6305948495864868,
          0.6288963556289673,
          0.6258383393287659
         ],
         "z": [
          0.6901503801345825,
          0.6616654396057129,
          0.6289178133010864,
          0.5810725092887878,
          0.5283348560333252,
          0.45440447330474854,
          0.35287269949913025,
          0.25236815214157104,
          0.12553764879703522,
          0.023745188489556313,
          0.04392551630735397,
          0.07684051245450974,
          0.10704778134822845,
          0.14250880479812622,
          0.17326883971691132,
          0.20661598443984985,
          0.24096153676509857,
          0.277485728263855,
          0.2930688261985779,
          0.3251815438270569
         ]
        }
       ],
       "layout": {
        "coloraxis": {
         "showscale": false
        },
        "font": {
         "color": "white",
         "family": "Roboto, monospace",
         "size": 12
        },
        "height": 800,
        "margin": {
         "b": 50,
         "l": 5,
         "r": 5,
         "t": 50
        },
        "scene": {
         "aspectratio": {
          "x": 1,
          "y": 1,
          "z": 1
         },
         "camera": {
          "eye": {
           "x": -1.5,
           "y": 1.5,
           "z": 1.5
          },
          "up": {
           "x": 0,
           "y": 0,
           "z": 1
          }
         }
        },
        "showlegend": false,
        "template": {
         "data": {
          "bar": [
           {
            "error_x": {
             "color": "#f2f5fa"
            },
            "error_y": {
             "color": "#f2f5fa"
            },
            "marker": {
             "line": {
              "color": "rgb(17,17,17)",
              "width": 0.5
             },
             "pattern": {
              "fillmode": "overlay",
              "size": 10,
              "solidity": 0.2
             }
            },
            "type": "bar"
           }
          ],
          "barpolar": [
           {
            "marker": {
             "line": {
              "color": "rgb(17,17,17)",
              "width": 0.5
             },
             "pattern": {
              "fillmode": "overlay",
              "size": 10,
              "solidity": 0.2
             }
            },
            "type": "barpolar"
           }
          ],
          "carpet": [
           {
            "aaxis": {
             "endlinecolor": "#A2B1C6",
             "gridcolor": "#506784",
             "linecolor": "#506784",
             "minorgridcolor": "#506784",
             "startlinecolor": "#A2B1C6"
            },
            "baxis": {
             "endlinecolor": "#A2B1C6",
             "gridcolor": "#506784",
             "linecolor": "#506784",
             "minorgridcolor": "#506784",
             "startlinecolor": "#A2B1C6"
            },
            "type": "carpet"
           }
          ],
          "choropleth": [
           {
            "colorbar": {
             "outlinewidth": 0,
             "ticks": ""
            },
            "type": "choropleth"
           }
          ],
          "contour": [
           {
            "colorbar": {
             "outlinewidth": 0,
             "ticks": ""
            },
            "colorscale": [
             [
              0,
              "#0d0887"
             ],
             [
              0.1111111111111111,
              "#46039f"
             ],
             [
              0.2222222222222222,
              "#7201a8"
             ],
             [
              0.3333333333333333,
              "#9c179e"
             ],
             [
              0.4444444444444444,
              "#bd3786"
             ],
             [
              0.5555555555555556,
              "#d8576b"
             ],
             [
              0.6666666666666666,
              "#ed7953"
             ],
             [
              0.7777777777777778,
              "#fb9f3a"
             ],
             [
              0.8888888888888888,
              "#fdca26"
             ],
             [
              1,
              "#f0f921"
             ]
            ],
            "type": "contour"
           }
          ],
          "contourcarpet": [
           {
            "colorbar": {
             "outlinewidth": 0,
             "ticks": ""
            },
            "type": "contourcarpet"
           }
          ],
          "heatmap": [
           {
            "colorbar": {
             "outlinewidth": 0,
             "ticks": ""
            },
            "colorscale": [
             [
              0,
              "#0d0887"
             ],
             [
              0.1111111111111111,
              "#46039f"
             ],
             [
              0.2222222222222222,
              "#7201a8"
             ],
             [
              0.3333333333333333,
              "#9c179e"
             ],
             [
              0.4444444444444444,
              "#bd3786"
             ],
             [
              0.5555555555555556,
              "#d8576b"
             ],
             [
              0.6666666666666666,
              "#ed7953"
             ],
             [
              0.7777777777777778,
              "#fb9f3a"
             ],
             [
              0.8888888888888888,
              "#fdca26"
             ],
             [
              1,
              "#f0f921"
             ]
            ],
            "type": "heatmap"
           }
          ],
          "heatmapgl": [
           {
            "colorbar": {
             "outlinewidth": 0,
             "ticks": ""
            },
            "colorscale": [
             [
              0,
              "#0d0887"
             ],
             [
              0.1111111111111111,
              "#46039f"
             ],
             [
              0.2222222222222222,
              "#7201a8"
             ],
             [
              0.3333333333333333,
              "#9c179e"
             ],
             [
              0.4444444444444444,
              "#bd3786"
             ],
             [
              0.5555555555555556,
              "#d8576b"
             ],
             [
              0.6666666666666666,
              "#ed7953"
             ],
             [
              0.7777777777777778,
              "#fb9f3a"
             ],
             [
              0.8888888888888888,
              "#fdca26"
             ],
             [
              1,
              "#f0f921"
             ]
            ],
            "type": "heatmapgl"
           }
          ],
          "histogram": [
           {
            "marker": {
             "pattern": {
              "fillmode": "overlay",
              "size": 10,
              "solidity": 0.2
             }
            },
            "type": "histogram"
           }
          ],
          "histogram2d": [
           {
            "colorbar": {
             "outlinewidth": 0,
             "ticks": ""
            },
            "colorscale": [
             [
              0,
              "#0d0887"
             ],
             [
              0.1111111111111111,
              "#46039f"
             ],
             [
              0.2222222222222222,
              "#7201a8"
             ],
             [
              0.3333333333333333,
              "#9c179e"
             ],
             [
              0.4444444444444444,
              "#bd3786"
             ],
             [
              0.5555555555555556,
              "#d8576b"
             ],
             [
              0.6666666666666666,
              "#ed7953"
             ],
             [
              0.7777777777777778,
              "#fb9f3a"
             ],
             [
              0.8888888888888888,
              "#fdca26"
             ],
             [
              1,
              "#f0f921"
             ]
            ],
            "type": "histogram2d"
           }
          ],
          "histogram2dcontour": [
           {
            "colorbar": {
             "outlinewidth": 0,
             "ticks": ""
            },
            "colorscale": [
             [
              0,
              "#0d0887"
             ],
             [
              0.1111111111111111,
              "#46039f"
             ],
             [
              0.2222222222222222,
              "#7201a8"
             ],
             [
              0.3333333333333333,
              "#9c179e"
             ],
             [
              0.4444444444444444,
              "#bd3786"
             ],
             [
              0.5555555555555556,
              "#d8576b"
             ],
             [
              0.6666666666666666,
              "#ed7953"
             ],
             [
              0.7777777777777778,
              "#fb9f3a"
             ],
             [
              0.8888888888888888,
              "#fdca26"
             ],
             [
              1,
              "#f0f921"
             ]
            ],
            "type": "histogram2dcontour"
           }
          ],
          "mesh3d": [
           {
            "colorbar": {
             "outlinewidth": 0,
             "ticks": ""
            },
            "type": "mesh3d"
           }
          ],
          "parcoords": [
           {
            "line": {
             "colorbar": {
              "outlinewidth": 0,
              "ticks": ""
             }
            },
            "type": "parcoords"
           }
          ],
          "pie": [
           {
            "automargin": true,
            "type": "pie"
           }
          ],
          "scatter": [
           {
            "marker": {
             "line": {
              "color": "#283442"
             }
            },
            "type": "scatter"
           }
          ],
          "scatter3d": [
           {
            "line": {
             "colorbar": {
              "outlinewidth": 0,
              "ticks": ""
             }
            },
            "marker": {
             "colorbar": {
              "outlinewidth": 0,
              "ticks": ""
             }
            },
            "type": "scatter3d"
           }
          ],
          "scattercarpet": [
           {
            "marker": {
             "colorbar": {
              "outlinewidth": 0,
              "ticks": ""
             }
            },
            "type": "scattercarpet"
           }
          ],
          "scattergeo": [
           {
            "marker": {
             "colorbar": {
              "outlinewidth": 0,
              "ticks": ""
             }
            },
            "type": "scattergeo"
           }
          ],
          "scattergl": [
           {
            "marker": {
             "line": {
              "color": "#283442"
             }
            },
            "type": "scattergl"
           }
          ],
          "scattermapbox": [
           {
            "marker": {
             "colorbar": {
              "outlinewidth": 0,
              "ticks": ""
             }
            },
            "type": "scattermapbox"
           }
          ],
          "scatterpolar": [
           {
            "marker": {
             "colorbar": {
              "outlinewidth": 0,
              "ticks": ""
             }
            },
            "type": "scatterpolar"
           }
          ],
          "scatterpolargl": [
           {
            "marker": {
             "colorbar": {
              "outlinewidth": 0,
              "ticks": ""
             }
            },
            "type": "scatterpolargl"
           }
          ],
          "scatterternary": [
           {
            "marker": {
             "colorbar": {
              "outlinewidth": 0,
              "ticks": ""
             }
            },
            "type": "scatterternary"
           }
          ],
          "surface": [
           {
            "colorbar": {
             "outlinewidth": 0,
             "ticks": ""
            },
            "colorscale": [
             [
              0,
              "#0d0887"
             ],
             [
              0.1111111111111111,
              "#46039f"
             ],
             [
              0.2222222222222222,
              "#7201a8"
             ],
             [
              0.3333333333333333,
              "#9c179e"
             ],
             [
              0.4444444444444444,
              "#bd3786"
             ],
             [
              0.5555555555555556,
              "#d8576b"
             ],
             [
              0.6666666666666666,
              "#ed7953"
             ],
             [
              0.7777777777777778,
              "#fb9f3a"
             ],
             [
              0.8888888888888888,
              "#fdca26"
             ],
             [
              1,
              "#f0f921"
             ]
            ],
            "type": "surface"
           }
          ],
          "table": [
           {
            "cells": {
             "fill": {
              "color": "#506784"
             },
             "line": {
              "color": "rgb(17,17,17)"
             }
            },
            "header": {
             "fill": {
              "color": "#2a3f5f"
             },
             "line": {
              "color": "rgb(17,17,17)"
             }
            },
            "type": "table"
           }
          ]
         },
         "layout": {
          "annotationdefaults": {
           "arrowcolor": "#f2f5fa",
           "arrowhead": 0,
           "arrowwidth": 1
          },
          "autotypenumbers": "strict",
          "coloraxis": {
           "colorbar": {
            "outlinewidth": 0,
            "ticks": ""
           }
          },
          "colorscale": {
           "diverging": [
            [
             0,
             "#8e0152"
            ],
            [
             0.1,
             "#c51b7d"
            ],
            [
             0.2,
             "#de77ae"
            ],
            [
             0.3,
             "#f1b6da"
            ],
            [
             0.4,
             "#fde0ef"
            ],
            [
             0.5,
             "#f7f7f7"
            ],
            [
             0.6,
             "#e6f5d0"
            ],
            [
             0.7,
             "#b8e186"
            ],
            [
             0.8,
             "#7fbc41"
            ],
            [
             0.9,
             "#4d9221"
            ],
            [
             1,
             "#276419"
            ]
           ],
           "sequential": [
            [
             0,
             "#0d0887"
            ],
            [
             0.1111111111111111,
             "#46039f"
            ],
            [
             0.2222222222222222,
             "#7201a8"
            ],
            [
             0.3333333333333333,
             "#9c179e"
            ],
            [
             0.4444444444444444,
             "#bd3786"
            ],
            [
             0.5555555555555556,
             "#d8576b"
            ],
            [
             0.6666666666666666,
             "#ed7953"
            ],
            [
             0.7777777777777778,
             "#fb9f3a"
            ],
            [
             0.8888888888888888,
             "#fdca26"
            ],
            [
             1,
             "#f0f921"
            ]
           ],
           "sequentialminus": [
            [
             0,
             "#0d0887"
            ],
            [
             0.1111111111111111,
             "#46039f"
            ],
            [
             0.2222222222222222,
             "#7201a8"
            ],
            [
             0.3333333333333333,
             "#9c179e"
            ],
            [
             0.4444444444444444,
             "#bd3786"
            ],
            [
             0.5555555555555556,
             "#d8576b"
            ],
            [
             0.6666666666666666,
             "#ed7953"
            ],
            [
             0.7777777777777778,
             "#fb9f3a"
            ],
            [
             0.8888888888888888,
             "#fdca26"
            ],
            [
             1,
             "#f0f921"
            ]
           ]
          },
          "colorway": [
           "#636efa",
           "#EF553B",
           "#00cc96",
           "#ab63fa",
           "#FFA15A",
           "#19d3f3",
           "#FF6692",
           "#B6E880",
           "#FF97FF",
           "#FECB52"
          ],
          "font": {
           "color": "#f2f5fa"
          },
          "geo": {
           "bgcolor": "rgb(17,17,17)",
           "lakecolor": "rgb(17,17,17)",
           "landcolor": "rgb(17,17,17)",
           "showlakes": true,
           "showland": true,
           "subunitcolor": "#506784"
          },
          "hoverlabel": {
           "align": "left"
          },
          "hovermode": "closest",
          "mapbox": {
           "style": "dark"
          },
          "paper_bgcolor": "rgb(17,17,17)",
          "plot_bgcolor": "rgb(17,17,17)",
          "polar": {
           "angularaxis": {
            "gridcolor": "#506784",
            "linecolor": "#506784",
            "ticks": ""
           },
           "bgcolor": "rgb(17,17,17)",
           "radialaxis": {
            "gridcolor": "#506784",
            "linecolor": "#506784",
            "ticks": ""
           }
          },
          "scene": {
           "xaxis": {
            "backgroundcolor": "rgb(17,17,17)",
            "gridcolor": "#506784",
            "gridwidth": 2,
            "linecolor": "#506784",
            "showbackground": true,
            "ticks": "",
            "zerolinecolor": "#C8D4E3"
           },
           "yaxis": {
            "backgroundcolor": "rgb(17,17,17)",
            "gridcolor": "#506784",
            "gridwidth": 2,
            "linecolor": "#506784",
            "showbackground": true,
            "ticks": "",
            "zerolinecolor": "#C8D4E3"
           },
           "zaxis": {
            "backgroundcolor": "rgb(17,17,17)",
            "gridcolor": "#506784",
            "gridwidth": 2,
            "linecolor": "#506784",
            "showbackground": true,
            "ticks": "",
            "zerolinecolor": "#C8D4E3"
           }
          },
          "shapedefaults": {
           "line": {
            "color": "#f2f5fa"
           }
          },
          "sliderdefaults": {
           "bgcolor": "#C8D4E3",
           "bordercolor": "rgb(17,17,17)",
           "borderwidth": 1,
           "tickwidth": 0
          },
          "ternary": {
           "aaxis": {
            "gridcolor": "#506784",
            "linecolor": "#506784",
            "ticks": ""
           },
           "baxis": {
            "gridcolor": "#506784",
            "linecolor": "#506784",
            "ticks": ""
           },
           "bgcolor": "rgb(17,17,17)",
           "caxis": {
            "gridcolor": "#506784",
            "linecolor": "#506784",
            "ticks": ""
           }
          },
          "title": {
           "x": 0.05
          },
          "updatemenudefaults": {
           "bgcolor": "#506784",
           "borderwidth": 0
          },
          "xaxis": {
           "automargin": true,
           "gridcolor": "#283442",
           "linecolor": "#506784",
           "ticks": "",
           "title": {
            "standoff": 15
           },
           "zerolinecolor": "#283442",
           "zerolinewidth": 2
          },
          "yaxis": {
           "automargin": true,
           "gridcolor": "#283442",
           "linecolor": "#506784",
           "ticks": "",
           "title": {
            "standoff": 15
           },
           "zerolinecolor": "#283442",
           "zerolinewidth": 2
          }
         }
        },
        "title": {
         "text": "Generated"
        },
        "xaxis": {
         "fixedrange": true,
         "showgrid": false,
         "showticklabels": false,
         "zeroline": false,
         "zerolinecolor": "gray",
         "zerolinewidth": 1
        },
        "yaxis": {
         "fixedrange": true,
         "showgrid": false,
         "showticklabels": false,
         "zeroline": false,
         "zerolinecolor": "gray",
         "zerolinewidth": 1
        }
       }
      }
     },
     "metadata": {},
     "output_type": "display_data"
    }
   ],
   "source": [
    "sample_data= None\n",
    "sample_size = np.random.randint(0, 128, size= 16)\n",
    "\n",
    "for d in model_config.train_iterator:\n",
    "    x_samples = d[model_config.data_item][sample_size, :,:]\n",
    "    y_sampels = d['Y'][sample_size, :,:] \n",
    "    \n",
    "    z, __, __ = model.encoder(x_samples, y_sampels)\n",
    "\n",
    "    noise = torch.normal(mean=.1, std=.21, size = z.shape).to(model_config.device)\n",
    "    z = z + noise\n",
    " \n",
    "    x_generated = model.decoder(z , y_sampels)\n",
    "    x_rec,__, __ = model(x_samples, y_sampels)\n",
    "    \n",
    "    fig_1 = show_generated_motions(x_samples, \"Original\")\n",
    "    fig_1.show()\n",
    "    fig_2 = show_generated_motions(x_rec, \"Reconstration\")\n",
    "    fig_2.show()\n",
    "    fig_3 = show_generated_motions(x_generated, \"Generated\")\n",
    "    fig_3.show()\n",
    "    \n",
    "    break"
   ]
  },
  {
   "cell_type": "code",
   "execution_count": 285,
   "metadata": {},
   "outputs": [
    {
     "name": "stdout",
     "output_type": "stream",
     "text": [
      "torch.Size([3, 20, 9])\n",
      "tensor(True, device='cuda:0')\n"
     ]
    },
    {
     "data": {
      "application/vnd.plotly.v1+json": {
       "config": {
        "plotlyServerURL": "https://plot.ly"
       },
       "data": [
        {
         "line": {
          "color": [
           0,
           1,
           2,
           3,
           4,
           5,
           6,
           7,
           8,
           9,
           10,
           11,
           12,
           13,
           14,
           15,
           16,
           17,
           18,
           19
          ],
          "colorscale": [
           [
            0,
            "#440154"
           ],
           [
            0.1111111111111111,
            "#482878"
           ],
           [
            0.2222222222222222,
            "#3e4989"
           ],
           [
            0.3333333333333333,
            "#31688e"
           ],
           [
            0.4444444444444444,
            "#26828e"
           ],
           [
            0.5555555555555556,
            "#1f9e89"
           ],
           [
            0.6666666666666666,
            "#35b779"
           ],
           [
            0.7777777777777778,
            "#6ece58"
           ],
           [
            0.8888888888888888,
            "#b5de2b"
           ],
           [
            1,
            "#fde725"
           ]
          ],
          "width": 2
         },
         "mode": "lines",
         "type": "scatter3d",
         "x": [
          0.17809000611305237,
          0.1684579998254776,
          0.15678299963474274,
          0.14263300597667694,
          0.12595300376415253,
          0.10751300305128098,
          0.0901160016655922,
          0.07719100266695023,
          0.07133699953556061,
          0.07160799950361252,
          0.07158800214529037,
          0.07178100198507309,
          0.0727740004658699,
          0.07464999705553055,
          0.07739800214767456,
          0.08064600080251694,
          0.08391900360584259,
          0.08702000230550766,
          0.08964300155639648,
          0.09174200147390366
         ],
         "y": [
          -0.018765000626444817,
          -0.02104399912059307,
          -0.02390200085937977,
          -0.02800000086426735,
          -0.0340690016746521,
          -0.03886000066995621,
          -0.04230400174856186,
          -0.0444910004734993,
          -0.04451199993491173,
          -0.043168000876903534,
          -0.04334599897265434,
          -0.04297599941492081,
          -0.04283500090241432,
          -0.04200800135731697,
          -0.041193000972270966,
          -0.03962500020861626,
          -0.03690100088715553,
          -0.03352300077676773,
          -0.028884999454021454,
          -0.023705000057816505
         ],
         "z": [
          0.24872399866580963,
          0.23733800649642944,
          0.22357399761676788,
          0.2059040069580078,
          0.18373100459575653,
          0.15544700622558594,
          0.1210319995880127,
          0.08207999914884567,
          0.04030799865722656,
          0.013872000388801098,
          0.02085000090301037,
          0.030177000910043716,
          0.04171700030565262,
          0.05449200049042702,
          0.06721600145101547,
          0.0791499987244606,
          0.0897039994597435,
          0.09888099879026413,
          0.1061910018324852,
          0.1115960031747818
         ]
        },
        {
         "line": {
          "color": [
           0,
           1,
           2,
           3,
           4,
           5,
           6,
           7,
           8,
           9,
           10,
           11,
           12,
           13,
           14,
           15,
           16,
           17,
           18,
           19
          ],
          "colorscale": [
           [
            0,
            "rgb(75, 41, 145)"
           ],
           [
            0.16666666666666666,
            "rgb(135, 44, 162)"
           ],
           [
            0.3333333333333333,
            "rgb(192, 54, 157)"
           ],
           [
            0.5,
            "rgb(234, 79, 136)"
           ],
           [
            0.6666666666666666,
            "rgb(250, 120, 118)"
           ],
           [
            0.8333333333333334,
            "rgb(246, 169, 122)"
           ],
           [
            1,
            "rgb(237, 217, 163)"
           ]
          ],
          "width": 1
         },
         "mode": "lines",
         "type": "scatter3d",
         "x": [
          0.17809000611305237,
          0.1684579998254776,
          0.15678299963474274,
          0.14263300597667694,
          0.12595300376415253,
          0.10751300305128098,
          0.0901160016655922,
          0.07719100266695023,
          0.07133699953556061,
          0.07160799950361252,
          0.07158800214529037,
          0.07178100198507309,
          0.0727740004658699,
          0.07464999705553055,
          0.07739800214767456,
          0.08064600080251694,
          0.08391900360584259,
          0.08702000230550766,
          0.08964300155639648,
          0.09174200147390366
         ],
         "y": [
          -0.018765002489089966,
          -0.02104400098323822,
          -0.02390199899673462,
          -0.02799999713897705,
          -0.0340690016746521,
          -0.03886000066995621,
          -0.04230400174856186,
          -0.0444910004734993,
          -0.04451199620962143,
          -0.043168000876903534,
          -0.04334600269794464,
          -0.04297599941492081,
          -0.04283499717712402,
          -0.04200799763202667,
          -0.041193000972270966,
          -0.039625003933906555,
          -0.036900997161865234,
          -0.03352300077676773,
          -0.028884999454021454,
          -0.023704998195171356
         ],
         "z": [
          0.24872399866580963,
          0.23733800649642944,
          0.22357399761676788,
          0.2059040069580078,
          0.18373100459575653,
          0.15544700622558594,
          0.1210319995880127,
          0.08207999914884567,
          0.04030799865722656,
          0.013872000388801098,
          0.020850002765655518,
          0.030177000910043716,
          0.04171700030565262,
          0.05449199676513672,
          0.06721599400043488,
          0.0791499987244606,
          0.0897039994597435,
          0.09888099879026413,
          0.1061910018324852,
          0.1115960031747818
         ]
        },
        {
         "marker": {
          "size": 0.1
         },
         "mode": "markers",
         "type": "scatter3d",
         "x": [
          -0.1,
          0.1
         ],
         "y": [
          -0.1,
          0.1
         ],
         "z": [
          0,
          0.1
         ]
        }
       ],
       "layout": {
        "coloraxis": {
         "showscale": false
        },
        "font": {
         "color": "white",
         "family": "Roboto, monospace",
         "size": 12
        },
        "height": 800,
        "margin": {
         "b": 50,
         "l": 5,
         "r": 5,
         "t": 50
        },
        "scene": {
         "aspectratio": {
          "x": 1,
          "y": 1,
          "z": 1
         },
         "camera": {
          "eye": {
           "x": -1.5,
           "y": 1.5,
           "z": 1.5
          },
          "up": {
           "x": 0,
           "y": 0,
           "z": 1
          }
         }
        },
        "showlegend": false,
        "template": {
         "data": {
          "bar": [
           {
            "error_x": {
             "color": "#f2f5fa"
            },
            "error_y": {
             "color": "#f2f5fa"
            },
            "marker": {
             "line": {
              "color": "rgb(17,17,17)",
              "width": 0.5
             },
             "pattern": {
              "fillmode": "overlay",
              "size": 10,
              "solidity": 0.2
             }
            },
            "type": "bar"
           }
          ],
          "barpolar": [
           {
            "marker": {
             "line": {
              "color": "rgb(17,17,17)",
              "width": 0.5
             },
             "pattern": {
              "fillmode": "overlay",
              "size": 10,
              "solidity": 0.2
             }
            },
            "type": "barpolar"
           }
          ],
          "carpet": [
           {
            "aaxis": {
             "endlinecolor": "#A2B1C6",
             "gridcolor": "#506784",
             "linecolor": "#506784",
             "minorgridcolor": "#506784",
             "startlinecolor": "#A2B1C6"
            },
            "baxis": {
             "endlinecolor": "#A2B1C6",
             "gridcolor": "#506784",
             "linecolor": "#506784",
             "minorgridcolor": "#506784",
             "startlinecolor": "#A2B1C6"
            },
            "type": "carpet"
           }
          ],
          "choropleth": [
           {
            "colorbar": {
             "outlinewidth": 0,
             "ticks": ""
            },
            "type": "choropleth"
           }
          ],
          "contour": [
           {
            "colorbar": {
             "outlinewidth": 0,
             "ticks": ""
            },
            "colorscale": [
             [
              0,
              "#0d0887"
             ],
             [
              0.1111111111111111,
              "#46039f"
             ],
             [
              0.2222222222222222,
              "#7201a8"
             ],
             [
              0.3333333333333333,
              "#9c179e"
             ],
             [
              0.4444444444444444,
              "#bd3786"
             ],
             [
              0.5555555555555556,
              "#d8576b"
             ],
             [
              0.6666666666666666,
              "#ed7953"
             ],
             [
              0.7777777777777778,
              "#fb9f3a"
             ],
             [
              0.8888888888888888,
              "#fdca26"
             ],
             [
              1,
              "#f0f921"
             ]
            ],
            "type": "contour"
           }
          ],
          "contourcarpet": [
           {
            "colorbar": {
             "outlinewidth": 0,
             "ticks": ""
            },
            "type": "contourcarpet"
           }
          ],
          "heatmap": [
           {
            "colorbar": {
             "outlinewidth": 0,
             "ticks": ""
            },
            "colorscale": [
             [
              0,
              "#0d0887"
             ],
             [
              0.1111111111111111,
              "#46039f"
             ],
             [
              0.2222222222222222,
              "#7201a8"
             ],
             [
              0.3333333333333333,
              "#9c179e"
             ],
             [
              0.4444444444444444,
              "#bd3786"
             ],
             [
              0.5555555555555556,
              "#d8576b"
             ],
             [
              0.6666666666666666,
              "#ed7953"
             ],
             [
              0.7777777777777778,
              "#fb9f3a"
             ],
             [
              0.8888888888888888,
              "#fdca26"
             ],
             [
              1,
              "#f0f921"
             ]
            ],
            "type": "heatmap"
           }
          ],
          "heatmapgl": [
           {
            "colorbar": {
             "outlinewidth": 0,
             "ticks": ""
            },
            "colorscale": [
             [
              0,
              "#0d0887"
             ],
             [
              0.1111111111111111,
              "#46039f"
             ],
             [
              0.2222222222222222,
              "#7201a8"
             ],
             [
              0.3333333333333333,
              "#9c179e"
             ],
             [
              0.4444444444444444,
              "#bd3786"
             ],
             [
              0.5555555555555556,
              "#d8576b"
             ],
             [
              0.6666666666666666,
              "#ed7953"
             ],
             [
              0.7777777777777778,
              "#fb9f3a"
             ],
             [
              0.8888888888888888,
              "#fdca26"
             ],
             [
              1,
              "#f0f921"
             ]
            ],
            "type": "heatmapgl"
           }
          ],
          "histogram": [
           {
            "marker": {
             "pattern": {
              "fillmode": "overlay",
              "size": 10,
              "solidity": 0.2
             }
            },
            "type": "histogram"
           }
          ],
          "histogram2d": [
           {
            "colorbar": {
             "outlinewidth": 0,
             "ticks": ""
            },
            "colorscale": [
             [
              0,
              "#0d0887"
             ],
             [
              0.1111111111111111,
              "#46039f"
             ],
             [
              0.2222222222222222,
              "#7201a8"
             ],
             [
              0.3333333333333333,
              "#9c179e"
             ],
             [
              0.4444444444444444,
              "#bd3786"
             ],
             [
              0.5555555555555556,
              "#d8576b"
             ],
             [
              0.6666666666666666,
              "#ed7953"
             ],
             [
              0.7777777777777778,
              "#fb9f3a"
             ],
             [
              0.8888888888888888,
              "#fdca26"
             ],
             [
              1,
              "#f0f921"
             ]
            ],
            "type": "histogram2d"
           }
          ],
          "histogram2dcontour": [
           {
            "colorbar": {
             "outlinewidth": 0,
             "ticks": ""
            },
            "colorscale": [
             [
              0,
              "#0d0887"
             ],
             [
              0.1111111111111111,
              "#46039f"
             ],
             [
              0.2222222222222222,
              "#7201a8"
             ],
             [
              0.3333333333333333,
              "#9c179e"
             ],
             [
              0.4444444444444444,
              "#bd3786"
             ],
             [
              0.5555555555555556,
              "#d8576b"
             ],
             [
              0.6666666666666666,
              "#ed7953"
             ],
             [
              0.7777777777777778,
              "#fb9f3a"
             ],
             [
              0.8888888888888888,
              "#fdca26"
             ],
             [
              1,
              "#f0f921"
             ]
            ],
            "type": "histogram2dcontour"
           }
          ],
          "mesh3d": [
           {
            "colorbar": {
             "outlinewidth": 0,
             "ticks": ""
            },
            "type": "mesh3d"
           }
          ],
          "parcoords": [
           {
            "line": {
             "colorbar": {
              "outlinewidth": 0,
              "ticks": ""
             }
            },
            "type": "parcoords"
           }
          ],
          "pie": [
           {
            "automargin": true,
            "type": "pie"
           }
          ],
          "scatter": [
           {
            "marker": {
             "line": {
              "color": "#283442"
             }
            },
            "type": "scatter"
           }
          ],
          "scatter3d": [
           {
            "line": {
             "colorbar": {
              "outlinewidth": 0,
              "ticks": ""
             }
            },
            "marker": {
             "colorbar": {
              "outlinewidth": 0,
              "ticks": ""
             }
            },
            "type": "scatter3d"
           }
          ],
          "scattercarpet": [
           {
            "marker": {
             "colorbar": {
              "outlinewidth": 0,
              "ticks": ""
             }
            },
            "type": "scattercarpet"
           }
          ],
          "scattergeo": [
           {
            "marker": {
             "colorbar": {
              "outlinewidth": 0,
              "ticks": ""
             }
            },
            "type": "scattergeo"
           }
          ],
          "scattergl": [
           {
            "marker": {
             "line": {
              "color": "#283442"
             }
            },
            "type": "scattergl"
           }
          ],
          "scattermapbox": [
           {
            "marker": {
             "colorbar": {
              "outlinewidth": 0,
              "ticks": ""
             }
            },
            "type": "scattermapbox"
           }
          ],
          "scatterpolar": [
           {
            "marker": {
             "colorbar": {
              "outlinewidth": 0,
              "ticks": ""
             }
            },
            "type": "scatterpolar"
           }
          ],
          "scatterpolargl": [
           {
            "marker": {
             "colorbar": {
              "outlinewidth": 0,
              "ticks": ""
             }
            },
            "type": "scatterpolargl"
           }
          ],
          "scatterternary": [
           {
            "marker": {
             "colorbar": {
              "outlinewidth": 0,
              "ticks": ""
             }
            },
            "type": "scatterternary"
           }
          ],
          "surface": [
           {
            "colorbar": {
             "outlinewidth": 0,
             "ticks": ""
            },
            "colorscale": [
             [
              0,
              "#0d0887"
             ],
             [
              0.1111111111111111,
              "#46039f"
             ],
             [
              0.2222222222222222,
              "#7201a8"
             ],
             [
              0.3333333333333333,
              "#9c179e"
             ],
             [
              0.4444444444444444,
              "#bd3786"
             ],
             [
              0.5555555555555556,
              "#d8576b"
             ],
             [
              0.6666666666666666,
              "#ed7953"
             ],
             [
              0.7777777777777778,
              "#fb9f3a"
             ],
             [
              0.8888888888888888,
              "#fdca26"
             ],
             [
              1,
              "#f0f921"
             ]
            ],
            "type": "surface"
           }
          ],
          "table": [
           {
            "cells": {
             "fill": {
              "color": "#506784"
             },
             "line": {
              "color": "rgb(17,17,17)"
             }
            },
            "header": {
             "fill": {
              "color": "#2a3f5f"
             },
             "line": {
              "color": "rgb(17,17,17)"
             }
            },
            "type": "table"
           }
          ]
         },
         "layout": {
          "annotationdefaults": {
           "arrowcolor": "#f2f5fa",
           "arrowhead": 0,
           "arrowwidth": 1
          },
          "autotypenumbers": "strict",
          "coloraxis": {
           "colorbar": {
            "outlinewidth": 0,
            "ticks": ""
           }
          },
          "colorscale": {
           "diverging": [
            [
             0,
             "#8e0152"
            ],
            [
             0.1,
             "#c51b7d"
            ],
            [
             0.2,
             "#de77ae"
            ],
            [
             0.3,
             "#f1b6da"
            ],
            [
             0.4,
             "#fde0ef"
            ],
            [
             0.5,
             "#f7f7f7"
            ],
            [
             0.6,
             "#e6f5d0"
            ],
            [
             0.7,
             "#b8e186"
            ],
            [
             0.8,
             "#7fbc41"
            ],
            [
             0.9,
             "#4d9221"
            ],
            [
             1,
             "#276419"
            ]
           ],
           "sequential": [
            [
             0,
             "#0d0887"
            ],
            [
             0.1111111111111111,
             "#46039f"
            ],
            [
             0.2222222222222222,
             "#7201a8"
            ],
            [
             0.3333333333333333,
             "#9c179e"
            ],
            [
             0.4444444444444444,
             "#bd3786"
            ],
            [
             0.5555555555555556,
             "#d8576b"
            ],
            [
             0.6666666666666666,
             "#ed7953"
            ],
            [
             0.7777777777777778,
             "#fb9f3a"
            ],
            [
             0.8888888888888888,
             "#fdca26"
            ],
            [
             1,
             "#f0f921"
            ]
           ],
           "sequentialminus": [
            [
             0,
             "#0d0887"
            ],
            [
             0.1111111111111111,
             "#46039f"
            ],
            [
             0.2222222222222222,
             "#7201a8"
            ],
            [
             0.3333333333333333,
             "#9c179e"
            ],
            [
             0.4444444444444444,
             "#bd3786"
            ],
            [
             0.5555555555555556,
             "#d8576b"
            ],
            [
             0.6666666666666666,
             "#ed7953"
            ],
            [
             0.7777777777777778,
             "#fb9f3a"
            ],
            [
             0.8888888888888888,
             "#fdca26"
            ],
            [
             1,
             "#f0f921"
            ]
           ]
          },
          "colorway": [
           "#636efa",
           "#EF553B",
           "#00cc96",
           "#ab63fa",
           "#FFA15A",
           "#19d3f3",
           "#FF6692",
           "#B6E880",
           "#FF97FF",
           "#FECB52"
          ],
          "font": {
           "color": "#f2f5fa"
          },
          "geo": {
           "bgcolor": "rgb(17,17,17)",
           "lakecolor": "rgb(17,17,17)",
           "landcolor": "rgb(17,17,17)",
           "showlakes": true,
           "showland": true,
           "subunitcolor": "#506784"
          },
          "hoverlabel": {
           "align": "left"
          },
          "hovermode": "closest",
          "mapbox": {
           "style": "dark"
          },
          "paper_bgcolor": "rgb(17,17,17)",
          "plot_bgcolor": "rgb(17,17,17)",
          "polar": {
           "angularaxis": {
            "gridcolor": "#506784",
            "linecolor": "#506784",
            "ticks": ""
           },
           "bgcolor": "rgb(17,17,17)",
           "radialaxis": {
            "gridcolor": "#506784",
            "linecolor": "#506784",
            "ticks": ""
           }
          },
          "scene": {
           "xaxis": {
            "backgroundcolor": "rgb(17,17,17)",
            "gridcolor": "#506784",
            "gridwidth": 2,
            "linecolor": "#506784",
            "showbackground": true,
            "ticks": "",
            "zerolinecolor": "#C8D4E3"
           },
           "yaxis": {
            "backgroundcolor": "rgb(17,17,17)",
            "gridcolor": "#506784",
            "gridwidth": 2,
            "linecolor": "#506784",
            "showbackground": true,
            "ticks": "",
            "zerolinecolor": "#C8D4E3"
           },
           "zaxis": {
            "backgroundcolor": "rgb(17,17,17)",
            "gridcolor": "#506784",
            "gridwidth": 2,
            "linecolor": "#506784",
            "showbackground": true,
            "ticks": "",
            "zerolinecolor": "#C8D4E3"
           }
          },
          "shapedefaults": {
           "line": {
            "color": "#f2f5fa"
           }
          },
          "sliderdefaults": {
           "bgcolor": "#C8D4E3",
           "bordercolor": "rgb(17,17,17)",
           "borderwidth": 1,
           "tickwidth": 0
          },
          "ternary": {
           "aaxis": {
            "gridcolor": "#506784",
            "linecolor": "#506784",
            "ticks": ""
           },
           "baxis": {
            "gridcolor": "#506784",
            "linecolor": "#506784",
            "ticks": ""
           },
           "bgcolor": "rgb(17,17,17)",
           "caxis": {
            "gridcolor": "#506784",
            "linecolor": "#506784",
            "ticks": ""
           }
          },
          "title": {
           "x": 0.05
          },
          "updatemenudefaults": {
           "bgcolor": "#506784",
           "borderwidth": 0
          },
          "xaxis": {
           "automargin": true,
           "gridcolor": "#283442",
           "linecolor": "#506784",
           "ticks": "",
           "title": {
            "standoff": 15
           },
           "zerolinecolor": "#283442",
           "zerolinewidth": 2
          },
          "yaxis": {
           "automargin": true,
           "gridcolor": "#283442",
           "linecolor": "#506784",
           "ticks": "",
           "title": {
            "standoff": 15
           },
           "zerolinecolor": "#283442",
           "zerolinewidth": 2
          }
         }
        },
        "title": {
         "text": "Compare Motion Plots"
        },
        "xaxis": {
         "fixedrange": true,
         "showgrid": false,
         "showticklabels": false,
         "zeroline": false,
         "zerolinecolor": "gray",
         "zerolinewidth": 1
        },
        "yaxis": {
         "fixedrange": true,
         "showgrid": false,
         "showticklabels": false,
         "zeroline": false,
         "zerolinecolor": "gray",
         "zerolinewidth": 1
        }
       }
      }
     },
     "metadata": {},
     "output_type": "display_data"
    }
   ],
   "source": [
    "counter = 0\n",
    "for d in model_config.train_iterator:\n",
    "    if counter > 6:\n",
    "        X = d[\"X\"][:3, :, :]\n",
    "        print(X.shape)\n",
    "        min_val, max_val = get_min_max_from_dataset(X)\n",
    "            \n",
    "        X_scaled = torch.zeros_like(X)\n",
    "        X_centered = torch.zeros_like(X)\n",
    "        X_centered_scaled = torch.zeros_like(X)\n",
    "\n",
    "        # # finding the touching point of each motion and centering the motion on that\n",
    "        center_points = torch.zeros_like(X[:, 0:1, :])        \n",
    "        center_points[:, 0, :3] = X[:, 9, :3]\n",
    "        X_centered =  X - center_points\n",
    "\n",
    "        # # scaling data between 0 and 1\n",
    "        X_scaled =(X - min_val) / (max_val - min_val)\n",
    "        \n",
    "        print (torch.sum(X -(X_scaled*(max_val - min_val)+min_val)) < 0.001)\n",
    "        \n",
    "        # # scaling the centered data between 0 and 1\n",
    "        centered_min_val, centered_max_val = get_min_max_from_dataset(X_centered)\n",
    "        \n",
    "        x_samples = d[model_config.data_item]\n",
    "        y_samples = d[\"Y\"]\n",
    "        \n",
    "        x_rec, __, __ = model(x_samples, y_samples)\n",
    "        \n",
    "        centered_min_val= d[\"centered_min_val\"][0]\n",
    "        centered_max_val= d[\"centered_max_val\"][0]\n",
    "        \n",
    "        X_centered_scaled = (X_centered - centered_min_val) / (centered_max_val - centered_min_val)\n",
    "        X_back_to_orig = (X_centered_scaled*(centered_max_val - centered_min_val)+centered_min_val)+center_points\n",
    "            \n",
    "\n",
    "        fig_01 = compare_motion_data_plots([X, X_back_to_orig], 0) \n",
    "        break\n",
    "    counter +=1"
   ]
  },
  {
   "cell_type": "code",
   "execution_count": 286,
   "metadata": {},
   "outputs": [],
   "source": [
    "def stroke_visualizer(dataset, samples_to_display= 64, scaled= False, centered = False):\n",
    "    \"\"\"A function to show the samples on motions in a 3d plot\n",
    "\n",
    "    Args:\n",
    "        dataset (torch dataset): dataset of motions, each motion should be of size \n",
    "        samples_to_display (int, optional): [description]. Defaults to 64.\n",
    "    \"\"\"\n",
    "    \n",
    "    test_scatters = []\n",
    "    \n",
    "    random_indices = np.random.choice(len(dataset), samples_to_display, replace=False)\n",
    "    \n",
    "    for i, d in enumerate(dataset):\n",
    "        if i in random_indices:\n",
    "            plot_title =\"{} Motoins\".format(samples_to_display)\n",
    "            \n",
    "            if scaled or centered:\n",
    "                if scaled and centered: \n",
    "                    plot_title = \"{}, Scaled, Centered\".format(plot_title)\n",
    "                    X = d[4]\n",
    "                elif scaled:\n",
    "                    plot_title = \"{}, Scaled\".format(plot_title)\n",
    "                    X = d[2]\n",
    "                else:\n",
    "                    plot_title = \"{}, Centered\".format(plot_title)\n",
    "                    X = d[3]\n",
    "            else:\n",
    "                X = d[0]\n",
    "                \n",
    "            color = np.arange(20)\n",
    "            \n",
    "            # more info here: https://plotly.com/python/3d-line-plots/\n",
    "            tmp_plot = go.Scatter3d(x= X[:,0].detach().cpu().numpy(), \n",
    "                                    y= X[: ,1].detach().cpu().numpy(), \n",
    "                                    z= X[:, 2].detach().cpu().numpy(),  \n",
    "                                    mode='lines',\n",
    "                                    line=dict(\n",
    "                                                color=color,\n",
    "                                                width=2,\n",
    "                                                colorscale= 'Agsunset', #'Agsunset', #'GnBu', 'Plasma', 'Sunset','Bluered_r'\n",
    "                                        ),\n",
    "                                    )\n",
    "            test_scatters.append(tmp_plot)\n",
    "            \n",
    "    fig = go.Figure(data=test_scatters)\n",
    "\n",
    "    fig.update_layout(height=600,\n",
    "                        margin=dict(l=5, r=5, t=50, b=5),\n",
    "                        template =  \"plotly_dark\",\n",
    "                        title_text=plot_title,\n",
    "                        font=dict(family=\"Roboto, monospace\",\n",
    "                                size=12,\n",
    "                                color=\"white\"\n",
    "                                ),\n",
    "                        scene=dict(\n",
    "                                    aspectratio = dict( x=1, y=1, z=1 ),\n",
    "                                    # camera=dict(up=dict(x=0, y=0, z=1),eye=dict(x=-1, y=-1, z=1)),\n",
    "                                ),\n",
    "                        showlegend= False,\n",
    "                        coloraxis_showscale=False,)\n",
    "\n",
    "    fig.update_xaxes(showticklabels=False, \n",
    "                        showgrid=False, \n",
    "                        zeroline=False,\n",
    "                        zerolinewidth=1, \n",
    "                        zerolinecolor='gray',\n",
    "                        fixedrange= True,)\n",
    "\n",
    "    fig.update_yaxes(showticklabels=False, \n",
    "                        showgrid=False, \n",
    "                        zeroline=False,\n",
    "                        zerolinewidth=1, \n",
    "                        zerolinecolor='gray',\n",
    "                        fixedrange= True,)\n",
    "    \n",
    "    fig.show()"
   ]
  },
  {
   "cell_type": "code",
   "execution_count": null,
   "metadata": {},
   "outputs": [],
   "source": []
  },
  {
   "cell_type": "code",
   "execution_count": null,
   "metadata": {},
   "outputs": [],
   "source": []
  }
 ],
 "metadata": {
  "kernelspec": {
   "display_name": "Python 3.9.13 ('base')",
   "language": "python",
   "name": "python3"
  },
  "language_info": {
   "codemirror_mode": {
    "name": "ipython",
    "version": 3
   },
   "file_extension": ".py",
   "mimetype": "text/x-python",
   "name": "python",
   "nbconvert_exporter": "python",
   "pygments_lexer": "ipython3",
   "version": "3.9.13"
  },
  "orig_nbformat": 4,
  "vscode": {
   "interpreter": {
    "hash": "4e616e7c9269c8c250713605fabb78aa816045d07b2aa3f5fff0f2cf205471b9"
   }
  }
 },
 "nbformat": 4,
 "nbformat_minor": 2
}
